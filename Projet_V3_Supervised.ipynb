{
 "cells": [
  {
   "cell_type": "markdown",
   "metadata": {},
   "source": [
    "<p style=\"font-family: Arial; font-size:2.75em;color:blue; font-style:bold\"><br>\n",
    "Projet 6 :<br><br>\n",
    "Catégorisez automatiquement des questions<br><br>\n",
    "</p><br>\n",
    "\n",
    "* **Data Source / Data Source :** \n",
    "    - Data :\n",
    "        - Outils d'extraction de data : https://data.stackexchange.com/stackoverflow\n",
    "        - Script : https://github.com/EricJacquesPro/TextCategorization/blob/master/SQL/ExtractionDonnees.sql\n",
    "    - Source Python : https://github.com/EricJacquesPro/TextCategorization\n",
    "* **Description / Description : ** Projet 6 de la formation Data Scientist Proposée par OpenClassroom\n",
    "    - Analyse Supervised\n",
    "    - Entrainement Supervised\n",
    "* **Auteur / Author : ** Eric JACQUES \n",
    "* **Date : ** 16/06/2020 "
   ]
  },
  {
   "cell_type": "markdown",
   "metadata": {},
   "source": [
    "<p style=\"font-family: Arial; font-size:1.75em;color:#2462C0; font-style:bold\"><br>\n",
    "I - Sélection des datas entrantes</p>"
   ]
  },
  {
   "cell_type": "code",
   "execution_count": 1,
   "metadata": {
    "collapsed": true
   },
   "outputs": [],
   "source": [
    "def scoring(x_test, y_true, clf, lb, mode_supervise_with_lda = False, lda_model = None):\n",
    "    nb_tag_1 = 0.0\n",
    "    nb_tag_5 = 0.0\n",
    "    classes = lb.classes_\n",
    "    print(x_test.shape[0])\n",
    "    no_top_words = 5\n",
    "    for i in range(x_test.shape[0]):\n",
    "        #for i in range(x_test.shape[0]):\n",
    "        text_projection = x_test\n",
    "        if(mode_supervise_with_lda):\n",
    "            text_projection = lda_model.transform(x_test[i])\n",
    "        '''\n",
    "        print (text_projection)\n",
    "        print (text_projection.shape)\n",
    "        '''\n",
    "        predicted = clf.predict_proba(text_projection)\n",
    "        '''\n",
    "        print (predicted)\n",
    "        print (len(predicted))\n",
    "        '''\n",
    "        tempTag = [(1-item[0][0]) for item in predicted]\n",
    "        list_id = [[i, x] for i, x in enumerate(tempTag) if x > 0.0050]\n",
    "        '''\n",
    "        tempTag = predicted[0]\n",
    "        list_id = [[i, x] for i, x in enumerate(tempTag) ]#if x > 0.0050]\n",
    "        '''\n",
    "        '''\n",
    "        print (predicted)\n",
    "        print (predicted.shape)\n",
    "        '''\n",
    "        list_id_sorted = sorted(list_id, reverse=True, key=lambda x: x[1])\n",
    "        #print (list_id_sorted)\n",
    "\n",
    "        list_id_sorted_suggested = [x[0] for i, x in enumerate(list_id_sorted[:-no_top_words - 1:-1])]\n",
    "        #print(list_id_sorted_suggested)\n",
    "        prediction = [classes[id] for id in list_id_sorted_suggested]\n",
    "        #print (str(prediction))\n",
    "\n",
    "\n",
    "        l_y = [[i, x] for i, x in enumerate(y_true[i]) if x > 0]\n",
    "        l_y_tagged = [x[0] for i, x in enumerate(l_y[:-no_top_words - 1:-1])]\n",
    "        l_y_tags = [classes[id] for id in l_y_tagged]\n",
    "        #print (l_y_tags)\n",
    "\n",
    "        check_1 = False\n",
    "        check_1 = any(item in prediction for item in l_y_tags)\n",
    "\n",
    "        if check_1 is True:\n",
    "            nb_tag_1 = nb_tag_1 + 1\n",
    "        \"\"\"    print(\"The list {} contains some elements of the list {}\".format(prediction, l_y_tags))    \n",
    "        else :\n",
    "            print(\"No, List1 doesn't have any elements of the List2.\")\n",
    "        \"\"\"\n",
    "\n",
    "        check_5 = False\n",
    "        check_5 = all(item in prediction for item in l_y_tags)\n",
    "        if check_5 is True:\n",
    "            nb_tag_5 = nb_tag_5 + 1\n",
    "        \"\"\"    print(\"The list {} contains all elements of the list {}\".format(prediction, l_y_tags))    \n",
    "        else :\n",
    "            print(\"No, List1 doesn't have any elements of the List2.\")\n",
    "        \"\"\"\n",
    "        #str([tag for tag in y_true[i]]if tag ==1)\n",
    "    return nb_tag_1, (100.0 * nb_tag_1 / float(x_test.shape[0])), nb_tag_5, (100.0 * nb_tag_5 / float(x_test.shape[0]))\n"
   ]
  },
  {
   "cell_type": "code",
   "execution_count": 2,
   "metadata": {},
   "outputs": [
    {
     "name": "stderr",
     "output_type": "stream",
     "text": [
      "C:\\Users\\naru_\\Anaconda3\\lib\\site-packages\\gensim\\utils.py:1209: UserWarning: detected Windows; aliasing chunkize to chunkize_serial\n",
      "  warnings.warn(\"detected Windows; aliasing chunkize to chunkize_serial\")\n"
     ]
    },
    {
     "name": "stdout",
     "output_type": "stream",
     "text": [
      "Data/\n",
      "QuestionVsTags.csv\n",
      "                                                body  \\\n",
      "0  <p>Here is a piece of C++ code that shows some...   \n",
      "1  <p>I accidentally committed the wrong files to...   \n",
      "2  <p>I want to delete a branch both locally and ...   \n",
      "3  <p>What are the differences between <code>git ...   \n",
      "4  <p>What is the use of the <code>yield</code> k...   \n",
      "\n",
      "                                               title  \\\n",
      "0  Why is processing a sorted array faster than p...   \n",
      "1  How do I undo the most recent local commits in...   \n",
      "2  How do I delete a Git branch locally and remot...   \n",
      "3  What is the difference between 'git pull' and ...   \n",
      "4                  What does the \"yield\" keyword do?   \n",
      "\n",
      "                                                tags  \\\n",
      "0  <java><c++><performance><optimization><branch-...   \n",
      "1  <git><version-control><git-commit><undo><pre-c...   \n",
      "2  <git><version-control><git-branch><git-push><g...   \n",
      "3        <git><version-control><git-pull><git-fetch>   \n",
      "4    <python><iterator><generator><yield><coroutine>   \n",
      "\n",
      "                         SelectedTags      Name  \n",
      "0  java,c++,performance,optimization,  Question  \n",
      "1                git,version-control,  Question  \n",
      "2                git,version-control,  Question  \n",
      "3                git,version-control,  Question  \n",
      "4                    python,iterator,  Question  \n",
      "0    piece c code shows peculiar behavior strange r...\n",
      "1    accidentally committed wrong files git pushed ...\n",
      "2    want delete branch locally remotely failed att...\n",
      "3                       differences git pull git fetch\n",
      "4    use yield keyword python do example im trying ...\n",
      "Name: body, dtype: object\n"
     ]
    }
   ],
   "source": [
    "import sys\n",
    "import os\n",
    "import numpy as np\n",
    "import pandas as pd\n",
    "sys.path.insert(0, './Python/')\n",
    "'''\n",
    "python class for the data engineering (reading, cleaning, training...)\n",
    "localised in ./Python\n",
    "'''\n",
    "from tagText import TagText \n",
    "tagText = TagText()\n",
    "\n",
    "tagText.nombre_post_entree = 5000\n",
    "tagText.precision = 5000\n",
    "\n",
    "print(tagText.urlDirectory)#folder for cvs file generated by SQL query (cf. I) \n",
    "print(tagText.fileName)#name of the cvs file generated by SQL query (cf. I)\n",
    "data_question = tagText.read_source()\n",
    "print(data_question.head())\n",
    "\n",
    "data_preprocessed = data_question['body'].apply(tagText.preprocessing)\n",
    "\n",
    "print(data_preprocessed.head())"
   ]
  },
  {
   "cell_type": "code",
   "execution_count": 3,
   "metadata": {
    "collapsed": true
   },
   "outputs": [],
   "source": [
    "from sklearn.model_selection import train_test_split\n",
    "from sklearn.feature_extraction.text import TfidfVectorizer\n",
    "\n",
    "y_all = [\n",
    "    item[:-1].split(',')#-1 car il y a un ',' à la fin de la ligne\n",
    "    for item in data_question['SelectedTags']\n",
    "]\n",
    "\n",
    "#print(y_train_tag)\n",
    "lb = tagText.MultiLabelBinarizer()\n",
    "Y_all = lb.fit_transform(y_all)\n",
    "\n",
    "\n",
    "# 80/20 split\n",
    "X_train, X_test, y_train, y_test = train_test_split(\n",
    "    data_preprocessed, y_all, test_size=0.2,train_size=0.8, random_state=0)\n",
    "y_train = lb.transform(y_train)\n",
    "y_test = lb.transform(y_test)\n",
    "\n"
   ]
  },
  {
   "cell_type": "code",
   "execution_count": 4,
   "metadata": {},
   "outputs": [
    {
     "name": "stdout",
     "output_type": "stream",
     "text": [
      "1000\n",
      "1000\n",
      "[0 0 0 0 0 0 0 0 0 0 0 0 0 0 0 0 0 0 0 0 0 0 0 0 0 0 0 0 0 0 0 0 0 0 0 0 0\n",
      " 0 0 0 0 0 0 0 0 0 0 0 0 0 0 0 0 0 0 0 0 0 0 0 0 0 0 0 0 0 0 0 0 0 0 0 0 0\n",
      " 0 0 0 0 0 0 0 0 0 0 0 0 0 0 0 0 0 0 0 0 0 0 0 0 0 0 0 0 0 0 0 0 0 0 0 0 0\n",
      " 0 0 0 0 0 0 0 0 0 0 0 0 0 0 0 0 0 0 0 0 0 0 0 0 0 0 0 0 0 0 0 0 0 0 0 0 0\n",
      " 0 0 0 0 0 0 0 0 0 0 0 0 0 0 0 0 0 0 0 0 0 0 0 0 0 0 0 0 0 0 0 0 0 0 0 0 0\n",
      " 0 0 0 0 0 0 0 0 0 0 0 0 0 0 0 0 0 0 0 0 0 0 0 0 0 0 0 0 0 0 0 0 0 0 0 0 0\n",
      " 0 0 0 0 0 0 0 0 0 0 0 0 0 0 0 0 0 0 0 0 0 0 0 0 0 0 0 0 0 0 1 0 0 0 0 0 0\n",
      " 0 0 0 0 0 0 0 0 0 0 0 0 0 0 0 0 0 0 0 0 0 0 0 0 0 0 0 0 0 0 0 0 0 0 1 0 0\n",
      " 0 0 0 0 0 0 0 0 0 0 0 0 0 0 0 0 0 0 0 0 0 0 0 0 0 0 0 0 0 0 0 0 0 0 0 0 0\n",
      " 0 0 0 0 0 0 0 0 0 0 0 0 0 0 0 0 0 0 0 0 0 0 0 0 0 0 0 0 0 0 0 0 0 0 0 0 0\n",
      " 0 0 0 0 0 0 0 0 0 0 0 0 0 0 0 0 0 0 0 0 0 0 0 0 0 0 0 0 0 0 0 0 0 0 0 0 0\n",
      " 0 0 0 0 0 0 0 0 0 0 0 0 0 0 0 0 0 0 0 0 0 0 0 0 0 0 0 0 0 0 0 0 0 0 0 0 0\n",
      " 0 0 0 0 0 0 0 0 0 0 0 0 0 0 0 0 0 0 0 0 0 0 0 0 0 0 0 0 0 0 0 0 0 0 0 0 0\n",
      " 0 0 0 0 0 0 0 0 0 0 0 0 0 0 0 0 0 0 0 0 0 0 0 0 0 0 0 0 0 0 0 0 0 0 0 0 0\n",
      " 0 0 0 0 0 0 0 0 0 0 0 0 0 0 0 0 0 0 0 0 0 0 0 0 0 0 0 0 0 0 0 0 0 0 0]\n",
      "398     ive got nested loop construct like this type t...\n",
      "3833    looking better pattern working list elements n...\n",
      "4836    r mean median standard functions expect mode t...\n",
      "4572    access pages http response headers via javascr...\n",
      "636     encoding query string sent web server  use esc...\n",
      "2545    change console background color white eye prob...\n",
      "1161    new git want set tag beginning repository prod...\n",
      "2230    header cachecontrol maxage0 implies content co...\n",
      "148     append object such string number array javascript\n",
      "2530    please help understand difference generative d...\n",
      "4070    index sql explain reference understand clearly...\n",
      "1261    ive started playing git come across terms upst...\n",
      "4682    way make css selector matches following object...\n",
      "333     android programming exactly context class used...\n",
      "906     json file mess want prettyprint whats easiest ...\n",
      "3170    linux command call bash script print directory...\n",
      "483     file directory symbolic link commit git reposi...\n",
      "2825    im developing page pulls images flickr panoram...\n",
      "1778    following update npm npm update npm g idea upd...\n",
      "2466    javascript arrayjoin jsbillbobstevejoin  bill ...\n",
      "159     know do try  something may fail except  anythi...\n",
      "1563    one write unittest fails function throw expect...\n",
      "402     get selected value dropdown list using javascr...\n",
      "4258    npcomplete problem important topic computer sc...\n",
      "4775    want update top 100 records sql server table t...\n",
      "1095    equivalent ctrl  k  f ctrl  k  windows visual ...\n",
      "3054    project contains single module dependencies id...\n",
      "4268    try r  requestsgeturl paramss thing except req...\n",
      "3711    im getting error using ngresource call rest ap...\n",
      "453     repository git made branch changes master bran...\n",
      "                              ...                        \n",
      "3848    trying detect browser language preference usin...\n",
      "4073    typescript const keyword cannot used declare c...\n",
      "1368    command existing script let view nix systems s...\n",
      "1414    im still confused commonjs amd requirejs even ...\n",
      "847     c makes field different property field used in...\n",
      "1819    store subscription instances invoke unsubscrib...\n",
      "684     continue build websites web applications often...\n",
      "396     command short key use exit postgresql command ...\n",
      "2866    ive recently started programming ruby looking ...\n",
      "2011    im using git190preview20140217 windows know re...\n",
      "3053    r provides two different methods accessing ele...\n",
      "3407    couple hyperlinks page faq users read visit he...\n",
      "401     trying print integer javascript commas thousan...\n",
      "1606    im bit confused regarding difference pushback ...\n",
      "1262    posix read wikipedia article read every time e...\n",
      "1529    error seeding database code first approach val...\n",
      "1850    apparently xrange faster idea faster and proof...\n",
      "2501    im looking python code used  symbol idea does ...\n",
      "4638    following techniques best option dividing inte...\n",
      "3704    changed several things last hour committed ste...\n",
      "559     consider liststring somelist  new arrayliststr...\n",
      "4115    running following command jenkinsfile however ...\n",
      "2805    im trying convert list tuple solutions google ...\n",
      "3873    using function match urls inside given text re...\n",
      "1391    make python class serializable simple class cl...\n",
      "4228    python pandas dataframe rpt rpt class pandasco...\n",
      "2367    application runs background process linux curr...\n",
      "788     need get execution time milliseconds originall...\n",
      "1452    preface question aspnet mvc 30 released 2011 a...\n",
      "3265    need check from table association two events b...\n",
      "Name: body, Length: 1000, dtype: object\n"
     ]
    }
   ],
   "source": [
    "print (len(X_test))\n",
    "print (len(y_test))\n",
    "print (y_test[0])\n",
    "print (X_test)"
   ]
  },
  {
   "cell_type": "code",
   "execution_count": 5,
   "metadata": {},
   "outputs": [
    {
     "name": "stdout",
     "output_type": "stream",
     "text": [
      "1000\n",
      "1.9\n",
      "0.1\n"
     ]
    }
   ],
   "source": [
    "classifier, tags = tagText.supervised_prepare_tag(data_preprocessed, data_question['SelectedTags'])\n",
    "\n",
    "nb1, score1, nb5, score5 = scoring(X_test, y_test, classifier, lb, False, None)\n",
    "\n",
    "print(score1)\n",
    "print(score5)\n"
   ]
  },
  {
   "cell_type": "code",
   "execution_count": 6,
   "metadata": {},
   "outputs": [
    {
     "name": "stdout",
     "output_type": "stream",
     "text": [
      "git est un outils de code source. C'est bien\n",
      "['linq', 'pip', 'merge', 'url', 'design-patterns']\n"
     ]
    }
   ],
   "source": [
    "\n",
    "message = 'git est un outils de code source. C\\'est bien'\n",
    "print(message)\n",
    "\n",
    "\n",
    "\n",
    "print(tagText.supervised_predict(message, classifier, tags))"
   ]
  },
  {
   "cell_type": "code",
   "execution_count": 7,
   "metadata": {
    "scrolled": false
   },
   "outputs": [
    {
     "name": "stdout",
     "output_type": "stream",
     "text": [
      "['file-io', 'random', 'security', 'linq', 'design-patterns']\n"
     ]
    }
   ],
   "source": [
    "print(tagText.supervised_predict(data_preprocessed[0], classifier, tags ))"
   ]
  },
  {
   "cell_type": "code",
   "execution_count": 8,
   "metadata": {
    "scrolled": true
   },
   "outputs": [
    {
     "name": "stdout",
     "output_type": "stream",
     "text": [
      "['.htaccess' '.net' '.net-core' '3d' 'active-directory' 'activerecord'\n",
      " 'ajax' 'algorithm' 'amazon-ec2' 'amazon-s3' 'amazon-web-services'\n",
      " 'anaconda' 'android' 'android-activity' 'android-asynctask'\n",
      " 'android-edittext' 'android-emulator' 'android-fragments'\n",
      " 'android-gradle-plugin' 'android-intent' 'android-layout'\n",
      " 'android-listview' 'android-recyclerview' 'android-studio'\n",
      " 'android-viewpager' 'angular' 'angular-ui-router' 'angularjs'\n",
      " 'angularjs-directive' 'animation' 'annotations' 'apache' 'apache-flex'\n",
      " 'api' 'architecture' 'arraylist' 'arrays' 'asp.net' 'asp.net-core'\n",
      " 'asp.net-core-mvc' 'asp.net-mvc' 'asp.net-mvc-3' 'asp.net-mvc-4'\n",
      " 'asp.net-web-api' 'assembly' 'async-await' 'asynchronous' 'attributes'\n",
      " 'authentication' 'autocomplete' 'autolayout' 'automated-tests'\n",
      " 'automation' 'awk' 'backbone.js' 'background' 'bash' 'batch-file'\n",
      " 'beautifulsoup' 'binary' 'bitmap' 'boost' 'bootstrap-4' 'browser' 'build'\n",
      " 'button' 'c' 'c#' 'c#-4.0' 'c++' 'c++11' 'caching' 'callback' 'canvas'\n",
      " 'cassandra' 'casting' 'char' 'character-encoding' 'checkbox' 'class'\n",
      " 'clojure' 'cmake' 'cmd' 'cocoa' 'cocoa-touch' 'codeigniter' 'coldfusion'\n",
      " 'collections' 'colors' 'com' 'combobox' 'command-line' 'compilation'\n",
      " 'compiler-construction' 'compiler-errors' 'computer-vision' 'concurrency'\n",
      " 'configuration' 'console' 'constructor' 'controller' 'cookies' 'count'\n",
      " 'crash' 'cron' 'cryptography' 'css' 'css-selectors' 'csv' 'cuda' 'curl'\n",
      " 'data-binding' 'data-structures' 'data.table' 'database'\n",
      " 'database-design' 'dataframe' 'datatable' 'date' 'datetime' 'debugging'\n",
      " 'delegates' 'dependencies' 'dependency-injection' 'deployment'\n",
      " 'design-patterns' 'dialog' 'dictionary' 'directory' 'django'\n",
      " 'django-models' 'django-views' 'dll' 'dns' 'docker' 'docker-compose'\n",
      " 'dom' 'download' 'dplyr' 'drop-down-menu' 'duplicates' 'dynamic'\n",
      " 'eclipse' 'ecmascript-6' 'elasticsearch' 'eloquent' 'emacs' 'email'\n",
      " 'encoding' 'encryption' 'entity-framework' 'entity-framework-6' 'enums'\n",
      " 'error-handling' 'event-handling' 'events' 'excel' 'exception'\n",
      " 'exception-handling' 'express' 'f#' 'facebook' 'facebook-graph-api'\n",
      " 'ffmpeg' 'file' 'file-io' 'file-upload' 'filter' 'firebase' 'firefox'\n",
      " 'flash' 'flask' 'flexbox' 'floating-point' 'fonts' 'for-loop' 'foreach'\n",
      " 'format' 'formatting' 'forms' 'fortran' 'frameworks' 'function'\n",
      " 'functional-programming' 'garbage-collection' 'gcc' 'generics'\n",
      " 'geolocation' 'geometry' 'get' 'ggplot2' 'git' 'github' 'go'\n",
      " 'google-analytics' 'google-api' 'google-app-engine' 'google-chrome'\n",
      " 'google-chrome-extension' 'google-cloud-platform' 'google-maps'\n",
      " 'google-maps-api-3' 'google-sheets' 'gradle' 'grails' 'graph' 'graphics'\n",
      " 'grep' 'grid' 'groovy' 'group-by' 'gulp' 'hash' 'hashmap' 'haskell'\n",
      " 'header' 'heroku' 'hibernate' 'html' 'html-table' 'html5-canvas' 'http'\n",
      " 'http-headers' 'https' 'hyperlink' 'if-statement' 'iframe' 'iis' 'image'\n",
      " 'image-processing' 'import' 'indexing' 'inheritance' 'initialization'\n",
      " 'input' 'insert' 'installation' 'intellij-idea' 'interface'\n",
      " 'internationalization' 'internet-explorer' 'io' 'ios' 'ios4' 'ios7'\n",
      " 'ipad' 'iphone' 'iterator' 'jackson' 'jakarta-ee' 'jar' 'jasmine' 'java'\n",
      " 'java-8' 'javascript' 'javascript-events' 'jaxb' 'jboss' 'jdbc' 'jenkins'\n",
      " 'jersey' 'join' 'jpa' 'jquery' 'jquery-plugins' 'jquery-ui' 'jsf' 'jsf-2'\n",
      " 'json' 'json.net' 'jsp' 'junit' 'jupyter-notebook' 'jvm' 'jwt' 'keyboard'\n",
      " 'kotlin' 'lambda' 'laravel' 'laravel-4' 'laravel-5' 'layout' 'ldap'\n",
      " 'linked-list' 'linker' 'linq' 'linq-to-sql' 'linux' 'linux-kernel' 'list'\n",
      " 'listview' 'localization' 'logging' 'loops' 'lucene' 'machine-learning'\n",
      " 'macos' 'macros' 'makefile' 'math' 'matlab' 'matplotlib' 'matrix' 'maven'\n",
      " 'memory' 'memory-leaks' 'memory-management' 'merge' 'methods' 'mobile'\n",
      " 'mocking' 'mockito' 'mod-rewrite' 'modal-dialog' 'model'\n",
      " 'model-view-controller' 'module' 'mongodb' 'mongodb-query' 'mongoose'\n",
      " 'ms-word' 'msbuild' 'multidimensional-array' 'multiprocessing'\n",
      " 'multithreading' 'mvvm' 'mysql' 'namespaces' 'navigation' 'nested'\n",
      " 'networking' 'neural-network' 'nginx' 'nhibernate' 'nlp' 'node.js'\n",
      " 'nosql' 'notifications' 'npm' 'null' 'nullpointerexception' 'numbers'\n",
      " 'numpy' 'oauth' 'oauth-2.0' 'object' 'objective-c' 'onclick' 'oop'\n",
      " 'opencv' 'openssl' 'operating-system' 'optimization' 'oracle' 'orm'\n",
      " 'package' 'pagination' 'pandas' 'parallel-processing' 'parameters'\n",
      " 'parsing' 'path' 'pdf' 'pdo' 'performance' 'perl' 'permissions' 'php'\n",
      " 'pip' 'plot' 'plugins' 'pointers' 'post' 'postgresql' 'powershell'\n",
      " 'printing' 'process' 'promise' 'properties' 'proxy' 'pycharm' 'python'\n",
      " 'python-2.7' 'python-3.x' 'python-requests' 'r' 'random' 'razor'\n",
      " 'react-native' 'react-redux' 'react-router' 'reactjs' 'recursion'\n",
      " 'redirect' 'redis' 'redux' 'reference' 'reflection' 'regex' 'replace'\n",
      " 'request' 'responsive-design' 'rest' 'rotation' 'routing' 'rspec' 'ruby'\n",
      " 'ruby-on-rails' 'ruby-on-rails-3' 'ruby-on-rails-4' 'rubygems' 'rust'\n",
      " 'rxjs' 'safari' 'sass' 'scala' 'scipy' 'scope' 'scripting' 'scroll' 'sdk'\n",
      " 'search' 'security' 'sed' 'segmentation-fault' 'select' 'selenium'\n",
      " 'selenium-webdriver' 'serialization' 'server' 'service' 'servlets'\n",
      " 'session' 'shell' 'smtp' 'soap' 'socket.io' 'sockets' 'solr' 'sorting'\n",
      " 'split' 'spring' 'spring-boot' 'spring-data-jpa' 'spring-mvc' 'sql'\n",
      " 'sql-server' 'sql-server-2005' 'sql-server-2008' 'sql-server-2012'\n",
      " 'sqlalchemy' 'sqlite' 'ssh' 'ssl' 'static' 'statistics' 'stl'\n",
      " 'stored-procedures' 'stream' 'string' 'struct' 'sum' 'svg' 'svn' 'swift'\n",
      " 'swift3' 'swing' 'syntax' 'tabs' 'tags' 'tcp' 'templates' 'tensorflow'\n",
      " 'terminal' 'testing' 'text' 'textbox' 'textview' 'tfs' 'three.js' 'time'\n",
      " 'timer' 'timestamp' 'timezone' 'tomcat' 'transactions' 'tree' 'triggers'\n",
      " 'tsql' 'twitter' 'twitter-bootstrap' 'twitter-bootstrap-3'\n",
      " 'type-conversion' 'types' 'typescript' 'ubuntu' 'uibutton' 'uiscrollview'\n",
      " 'uitableview' 'uiview' 'uiviewcontroller' 'unicode' 'unit-testing'\n",
      " 'unity3d' 'unix' 'upload' 'url' 'url-rewriting' 'user-interface' 'utf-8'\n",
      " 'validation' 'variables' 'vb.net' 'vba' 'vector' 'version-control'\n",
      " 'video' 'view' 'vim' 'visual-c++' 'visual-studio' 'visual-studio-2008'\n",
      " 'visual-studio-2010' 'visual-studio-2012' 'visual-studio-2013'\n",
      " 'visual-studio-2017' 'visual-studio-code' 'vue.js' 'wcf' 'web'\n",
      " 'web-applications' 'web-scraping' 'web-services' 'webdriver' 'webpack'\n",
      " 'websocket' 'while-loop' 'windows' 'windows-10' 'windows-7' 'windows-8'\n",
      " 'winforms' 'wordpress' 'wpf' 'x86' 'xaml' 'xcode' 'xml' 'xml-parsing'\n",
      " 'xmlhttprequest' 'xslt' 'youtube' 'youtube-api']\n"
     ]
    }
   ],
   "source": [
    "print (tags)"
   ]
  },
  {
   "cell_type": "code",
   "execution_count": 9,
   "metadata": {},
   "outputs": [
    {
     "data": {
      "text/plain": [
       "\"['merge', 'pip', 'file-io', 'design-patterns', 'security']\""
      ]
     },
     "execution_count": 9,
     "metadata": {},
     "output_type": "execute_result"
    }
   ],
   "source": [
    "tagText.supervised_predict('c c# .Net', classifier, tags )"
   ]
  },
  {
   "cell_type": "code",
   "execution_count": 10,
   "metadata": {},
   "outputs": [
    {
     "data": {
      "text/plain": [
       "\"['merge', 'pip', 'file-io', 'design-patterns', 'security', 'dom', 'function', 'url', 'rest', 'linq', 'cocoa-touch', 'entity-framework', 'loops', 'xcode', 'generics', 'xml', 'google-chrome', 'class', 'collections', 'reactjs', 'exception', 'r', 'ajax', 'visual-studio', 'postgresql', 'npm', 'directory', 'eclipse', 'pandas', 'algorithm', 'docker', 'syntax', 'tsql', 'regex', 'macos', 'dataframe', 'asp.net', 'ruby-on-rails', 'database', 'object', 'datetime', 'swift', 'file', 'vim', 'http', 'angularjs', 'command-line', 'unix', 'windows', 'oop', 'objective-c', 'version-control', 'dictionary', 'ruby', 'github', 'date', 'performance', 'sql-server', 'json', 'list', 'shell', 'mysql', 'c', 'ios', 'linux', 'sql', 'node.js', 'php', 'bash', 'arrays', 'c++', 'css', '.net', 'html', 'jquery', 'android', 'string', 'c#', 'java', 'git', 'python', 'javascript']\""
      ]
     },
     "execution_count": 10,
     "metadata": {},
     "output_type": "execute_result"
    }
   ],
   "source": [
    "tagText.supervised_predict('c c# .Net', classifier, tags, 120000 )"
   ]
  },
  {
   "cell_type": "code",
   "execution_count": null,
   "metadata": {
    "collapsed": true
   },
   "outputs": [],
   "source": []
  }
 ],
 "metadata": {
  "anaconda-cloud": {},
  "celltoolbar": "Raw Cell Format",
  "kernelspec": {
   "display_name": "Python [conda root]",
   "language": "python",
   "name": "conda-root-py"
  },
  "language_info": {
   "codemirror_mode": {
    "name": "ipython",
    "version": 3
   },
   "file_extension": ".py",
   "mimetype": "text/x-python",
   "name": "python",
   "nbconvert_exporter": "python",
   "pygments_lexer": "ipython3",
   "version": "3.5.2"
  }
 },
 "nbformat": 4,
 "nbformat_minor": 2
}
