{
 "cells": [
  {
   "cell_type": "markdown",
   "metadata": {},
   "source": [
    "<p style=\"font-family: Arial; font-size:2.75em;color:blue; font-style:bold\"><br>\n",
    "Projet 6 :<br><br>\n",
    "Catégorisez automatiquement des questions<br><br>\n",
    "</p><br>\n",
    "\n",
    "* **Data Source / Data Source :** \n",
    "    - Data : https://data.stackexchange.com/stackoverflow/query/edit/1086274\n",
    "    - Source : https://github.com/EricJacquesPro/TextCategorization\n",
    "* **Description / Description : ** Projet 6 de la formation Data Scientist Proposée par OpenClassroom\n",
    "    - Analyse\n",
    "    - Entrainement\n",
    "* **Auteur / Author : ** Eric JACQUES \n",
    "* **Date : ** 06/08/2019 "
   ]
  },
  {
   "cell_type": "markdown",
   "metadata": {},
   "source": [
    "<p style=\"font-family: Arial; font-size:1.75em;color:#2462C0; font-style:bold\"><br>\n",
    "I - Data</p>"
   ]
  },
  {
   "cell_type": "markdown",
   "metadata": {},
   "source": [
    "<p style=\"font-family: Arial; font-size:1.75em;color:#2462C0; font-style:bold\"><br>\n",
    "I.1 - Source</p>"
   ]
  },
  {
   "cell_type": "markdown",
   "metadata": {},
   "source": [
    "Revoir les explications"
   ]
  },
  {
   "cell_type": "markdown",
   "metadata": {},
   "source": [
    "<p style=\"font-family: Arial; font-size:1.75em;color:#2462C0; font-style:bold\"><br>\n",
    "I.2 - Preparation des données</p>"
   ]
  },
  {
   "cell_type": "code",
   "execution_count": 4,
   "metadata": {},
   "outputs": [
    {
     "name": "stderr",
     "output_type": "stream",
     "text": [
      "./Python\\TagText.py:1: SyntaxWarning: import * only allowed at module level\n",
      "  class TagText:\n"
     ]
    }
   ],
   "source": [
    "import sys\n",
    "import os\n",
    "sys.path.insert(0, './Python')\n",
    "\n",
    "try:\n",
    "    from TagText import TagText\n",
    "except Exception, e:\n",
    "    print 'Import failed:', e\n"
   ]
  },
  {
   "cell_type": "code",
   "execution_count": 5,
   "metadata": {},
   "outputs": [
    {
     "name": "stdout",
     "output_type": "stream",
     "text": [
      "Data/\n",
      "QuestionVsTags.csv\n"
     ]
    },
    {
     "data": {
      "text/html": [
       "<div>\n",
       "<style scoped>\n",
       "    .dataframe tbody tr th:only-of-type {\n",
       "        vertical-align: middle;\n",
       "    }\n",
       "\n",
       "    .dataframe tbody tr th {\n",
       "        vertical-align: top;\n",
       "    }\n",
       "\n",
       "    .dataframe thead th {\n",
       "        text-align: right;\n",
       "    }\n",
       "</style>\n",
       "<table border=\"1\" class=\"dataframe\">\n",
       "  <thead>\n",
       "    <tr style=\"text-align: right;\">\n",
       "      <th></th>\n",
       "      <th>body</th>\n",
       "      <th>title</th>\n",
       "      <th>tags</th>\n",
       "      <th>SelectedTags</th>\n",
       "      <th>Name</th>\n",
       "    </tr>\n",
       "  </thead>\n",
       "  <tbody>\n",
       "    <tr>\n",
       "      <th>0</th>\n",
       "      <td>&lt;p&gt;Here is a piece of C++ code that shows some...</td>\n",
       "      <td>Why is processing a sorted array faster than p...</td>\n",
       "      <td>&lt;java&gt;&lt;c++&gt;&lt;performance&gt;&lt;optimization&gt;&lt;branch-...</td>\n",
       "      <td>java,c++,performance,optimization,</td>\n",
       "      <td>Question</td>\n",
       "    </tr>\n",
       "    <tr>\n",
       "      <th>1</th>\n",
       "      <td>&lt;p&gt;I accidentally committed the wrong files to...</td>\n",
       "      <td>How do I undo the most recent local commits in...</td>\n",
       "      <td>&lt;git&gt;&lt;version-control&gt;&lt;git-commit&gt;&lt;undo&gt;</td>\n",
       "      <td>git,version-control,git-commit,</td>\n",
       "      <td>Question</td>\n",
       "    </tr>\n",
       "    <tr>\n",
       "      <th>2</th>\n",
       "      <td>&lt;p&gt;I want to delete a branch both locally and ...</td>\n",
       "      <td>How do I delete a Git branch locally and remot...</td>\n",
       "      <td>&lt;git&gt;&lt;git-branch&gt;&lt;git-remote&gt;</td>\n",
       "      <td>git,git-branch,</td>\n",
       "      <td>Question</td>\n",
       "    </tr>\n",
       "    <tr>\n",
       "      <th>3</th>\n",
       "      <td>&lt;blockquote&gt;\\n  &lt;p&gt;&lt;strong&gt;Moderator Note:&lt;/st...</td>\n",
       "      <td>What is the difference between 'git pull' and ...</td>\n",
       "      <td>&lt;git&gt;&lt;git-pull&gt;&lt;git-fetch&gt;</td>\n",
       "      <td>git,</td>\n",
       "      <td>Question</td>\n",
       "    </tr>\n",
       "    <tr>\n",
       "      <th>4</th>\n",
       "      <td>&lt;p&gt;I've been messing around with &lt;a href=\"http...</td>\n",
       "      <td>What is the correct JSON content type?</td>\n",
       "      <td>&lt;json&gt;&lt;http-headers&gt;&lt;content-type&gt;</td>\n",
       "      <td>json,http-headers,content-type,</td>\n",
       "      <td>Question</td>\n",
       "    </tr>\n",
       "  </tbody>\n",
       "</table>\n",
       "</div>"
      ],
      "text/plain": [
       "                                                body  \\\n",
       "0  <p>Here is a piece of C++ code that shows some...   \n",
       "1  <p>I accidentally committed the wrong files to...   \n",
       "2  <p>I want to delete a branch both locally and ...   \n",
       "3  <blockquote>\\n  <p><strong>Moderator Note:</st...   \n",
       "4  <p>I've been messing around with <a href=\"http...   \n",
       "\n",
       "                                               title  \\\n",
       "0  Why is processing a sorted array faster than p...   \n",
       "1  How do I undo the most recent local commits in...   \n",
       "2  How do I delete a Git branch locally and remot...   \n",
       "3  What is the difference between 'git pull' and ...   \n",
       "4             What is the correct JSON content type?   \n",
       "\n",
       "                                                tags  \\\n",
       "0  <java><c++><performance><optimization><branch-...   \n",
       "1           <git><version-control><git-commit><undo>   \n",
       "2                      <git><git-branch><git-remote>   \n",
       "3                         <git><git-pull><git-fetch>   \n",
       "4                 <json><http-headers><content-type>   \n",
       "\n",
       "                         SelectedTags      Name  \n",
       "0  java,c++,performance,optimization,  Question  \n",
       "1     git,version-control,git-commit,  Question  \n",
       "2                     git,git-branch,  Question  \n",
       "3                                git,  Question  \n",
       "4     json,http-headers,content-type,  Question  "
      ]
     },
     "execution_count": 5,
     "metadata": {},
     "output_type": "execute_result"
    }
   ],
   "source": [
    "tagText = TagText()\n",
    "print(tagText.urlDirectory)\n",
    "print(tagText.fileName)\n",
    "data_question = tagText.read_source()\n",
    "data_question.head()"
   ]
  },
  {
   "cell_type": "code",
   "execution_count": 7,
   "metadata": {},
   "outputs": [
    {
     "name": "stdout",
     "output_type": "stream",
     "text": [
      "0    You<p> like &nbsp; to eat apples. He has eaten...\n",
      "Name: text, dtype: object\n"
     ]
    },
    {
     "ename": "AttributeError",
     "evalue": "'DataFrame' object has no attribute 'lower'",
     "output_type": "error",
     "traceback": [
      "\u001b[1;31m---------------------------------------------------------------------------\u001b[0m",
      "\u001b[1;31mAttributeError\u001b[0m                            Traceback (most recent call last)",
      "\u001b[1;32m<ipython-input-7-99ec311805bc>\u001b[0m in \u001b[0;36m<module>\u001b[1;34m()\u001b[0m\n\u001b[0;32m     27\u001b[0m \u001b[0mtest_pd\u001b[0m \u001b[1;33m=\u001b[0m \u001b[0mpd\u001b[0m\u001b[1;33m.\u001b[0m\u001b[0mDataFrame\u001b[0m\u001b[1;33m(\u001b[0m\u001b[0mdata\u001b[0m \u001b[1;33m=\u001b[0m \u001b[0mtest\u001b[0m\u001b[1;33m)\u001b[0m \u001b[1;31m#makes this into a panda data frame\u001b[0m\u001b[1;33m\u001b[0m\u001b[0m\n\u001b[0;32m     28\u001b[0m \u001b[1;32mprint\u001b[0m\u001b[1;33m(\u001b[0m\u001b[0mtest_pd\u001b[0m\u001b[1;33m[\u001b[0m\u001b[1;34m'text'\u001b[0m\u001b[1;33m]\u001b[0m\u001b[1;33m)\u001b[0m\u001b[1;33m\u001b[0m\u001b[0m\n\u001b[1;32m---> 29\u001b[1;33m \u001b[0mclean_test\u001b[0m \u001b[1;33m=\u001b[0m \u001b[0mpreprocessingdf\u001b[0m\u001b[1;33m(\u001b[0m\u001b[0mtest_pd\u001b[0m\u001b[1;33m)\u001b[0m \u001b[1;31m#removes punctuation, see above\u001b[0m\u001b[1;33m\u001b[0m\u001b[0m\n\u001b[0m\u001b[0;32m     30\u001b[0m \u001b[0mclean_test\u001b[0m\u001b[1;33m\u001b[0m\u001b[0m\n",
      "\u001b[1;32m<ipython-input-7-99ec311805bc>\u001b[0m in \u001b[0;36mpreprocessingdf\u001b[1;34m(text)\u001b[0m\n\u001b[0;32m     20\u001b[0m     \u001b[1;31m#clean_data = []\u001b[0m\u001b[1;33m\u001b[0m\u001b[1;33m\u001b[0m\u001b[0m\n\u001b[0;32m     21\u001b[0m     \u001b[0mclean_data\u001b[0m \u001b[1;33m=\u001b[0m \u001b[0mtext\u001b[0m\u001b[1;33m\u001b[0m\u001b[0m\n\u001b[1;32m---> 22\u001b[1;33m     \u001b[0mclean_data\u001b[0m \u001b[1;33m=\u001b[0m \u001b[0mclean_data\u001b[0m\u001b[1;33m.\u001b[0m\u001b[0mlower\u001b[0m\u001b[1;33m(\u001b[0m\u001b[1;33m)\u001b[0m\u001b[1;31m#to lower\u001b[0m\u001b[1;33m\u001b[0m\u001b[0m\n\u001b[0m\u001b[0;32m     23\u001b[0m     \u001b[0mclean_data\u001b[0m \u001b[1;33m=\u001b[0m \u001b[0mBeautifulSoup\u001b[0m\u001b[1;33m(\u001b[0m\u001b[0mclean_data\u001b[0m\u001b[1;33m,\u001b[0m \u001b[1;34m'html.parser'\u001b[0m\u001b[1;33m)\u001b[0m\u001b[1;33m.\u001b[0m\u001b[0mget_text\u001b[0m\u001b[1;33m(\u001b[0m\u001b[1;33m)\u001b[0m\u001b[1;33m\u001b[0m\u001b[0m\n\u001b[0;32m     24\u001b[0m     \u001b[1;32mreturn\u001b[0m \u001b[0mclean_data\u001b[0m\u001b[1;33m\u001b[0m\u001b[0m\n",
      "\u001b[1;32mC:\\Users\\ejacques\\AppData\\Local\\Continuum\\anaconda3\\lib\\site-packages\\pandas\\core\\generic.pyc\u001b[0m in \u001b[0;36m__getattr__\u001b[1;34m(self, name)\u001b[0m\n\u001b[0;32m   5065\u001b[0m             \u001b[1;32mif\u001b[0m \u001b[0mself\u001b[0m\u001b[1;33m.\u001b[0m\u001b[0m_info_axis\u001b[0m\u001b[1;33m.\u001b[0m\u001b[0m_can_hold_identifiers_and_holds_name\u001b[0m\u001b[1;33m(\u001b[0m\u001b[0mname\u001b[0m\u001b[1;33m)\u001b[0m\u001b[1;33m:\u001b[0m\u001b[1;33m\u001b[0m\u001b[0m\n\u001b[0;32m   5066\u001b[0m                 \u001b[1;32mreturn\u001b[0m \u001b[0mself\u001b[0m\u001b[1;33m[\u001b[0m\u001b[0mname\u001b[0m\u001b[1;33m]\u001b[0m\u001b[1;33m\u001b[0m\u001b[0m\n\u001b[1;32m-> 5067\u001b[1;33m             \u001b[1;32mreturn\u001b[0m \u001b[0mobject\u001b[0m\u001b[1;33m.\u001b[0m\u001b[0m__getattribute__\u001b[0m\u001b[1;33m(\u001b[0m\u001b[0mself\u001b[0m\u001b[1;33m,\u001b[0m \u001b[0mname\u001b[0m\u001b[1;33m)\u001b[0m\u001b[1;33m\u001b[0m\u001b[0m\n\u001b[0m\u001b[0;32m   5068\u001b[0m \u001b[1;33m\u001b[0m\u001b[0m\n\u001b[0;32m   5069\u001b[0m     \u001b[1;32mdef\u001b[0m \u001b[0m__setattr__\u001b[0m\u001b[1;33m(\u001b[0m\u001b[0mself\u001b[0m\u001b[1;33m,\u001b[0m \u001b[0mname\u001b[0m\u001b[1;33m,\u001b[0m \u001b[0mvalue\u001b[0m\u001b[1;33m)\u001b[0m\u001b[1;33m:\u001b[0m\u001b[1;33m\u001b[0m\u001b[0m\n",
      "\u001b[1;31mAttributeError\u001b[0m: 'DataFrame' object has no attribute 'lower'"
     ]
    }
   ],
   "source": [
    "import numpy as np\n",
    "import nltk\n",
    "import pandas as pd\n",
    "import re\n",
    "\n",
    "from bs4 import BeautifulSoup\n",
    "\n",
    "def preprocessing(text):\n",
    "    clean_data = []\n",
    "    for x in (text[:][0]):\n",
    "        clean_data =  BeautifulSoup(x, 'html.parser').get_text()\n",
    "        clean_data = clean_data.lower()#to lower\n",
    "        clean_data = re.sub(r'[^\\w\\s]', '', clean_data) # remove punctuation\n",
    "        #clean_data = nltk.clean_html(clean_data)=>NotImplementedError: To remove HTML markup, use BeautifulSoup's get_text() function\n",
    "    return clean_data\n",
    "\n",
    "\n",
    "def preprocessingdf(text):\n",
    "    #print(text)\n",
    "    #clean_data = []\n",
    "    clean_data = text\n",
    "    clean_data = clean_data.lower()#to lower\n",
    "    clean_data = BeautifulSoup(clean_data, 'html.parser').get_text()\n",
    "    return clean_data\n",
    "\n",
    "test = {'text':[u'You<p> like &nbsp; to eat apples. He has eaten many apples because he likes eating.']}\n",
    "test_pd = pd.DataFrame(data = test) #makes this into a panda data frame\n",
    "print(test_pd['text'])\n",
    "clean_test = preprocessingdf(test_pd) #removes punctuation, see above\n",
    "clean_test"
   ]
  },
  {
   "cell_type": "code",
   "execution_count": 8,
   "metadata": {},
   "outputs": [
    {
     "data": {
      "text/plain": [
       "1    <p>I accidentally committed the wrong files to...\n",
       "2    <p>I want to delete a branch both locally and ...\n",
       "3    <blockquote>\\n  <p><strong>Moderator Note:</st...\n",
       "4    <p>I've been messing around with <a href=\"http...\n",
       "5    <p>What is the use of the <code>yield</code> k...\n",
       "6    <p>After reading <a href=\"http://groups.google...\n",
       "7    <p>I mistakenly added files to git using the c...\n",
       "8    <p>I don't want to rename a remote branch, as ...\n",
       "Name: body, dtype: object"
      ]
     },
     "execution_count": 8,
     "metadata": {},
     "output_type": "execute_result"
    }
   ],
   "source": [
    "data_question['body'][1:9]"
   ]
  },
  {
   "cell_type": "code",
   "execution_count": 9,
   "metadata": {},
   "outputs": [
    {
     "data": {
      "text/plain": [
       "1    i accidentally committed the wrong files to gi...\n",
       "2    i want to delete a branch both locally and rem...\n",
       "3    \\nmoderator note: given that this question has...\n",
       "4    i've been messing around with json for some ti...\n",
       "5    what is the use of the yield keyword in python...\n",
       "6    after reading hidden features and dark corners...\n",
       "7    i mistakenly added files to git using the comm...\n",
       "8    i don't want to rename a remote branch, as des...\n",
       "Name: body, dtype: object"
      ]
     },
     "execution_count": 9,
     "metadata": {},
     "output_type": "execute_result"
    }
   ],
   "source": [
    "data_question['body'][1:9].apply(preprocessing)\n",
    "#data_question['clean_body'] = data_question['body'].apply(lambda x : preprocessing(x))\n"
   ]
  },
  {
   "cell_type": "code",
   "execution_count": 6,
   "metadata": {},
   "outputs": [
    {
     "data": {
      "text/plain": [
       "1    i accidentally committed the wrong files to gi...\n",
       "2    i want to delete a branch both locally and rem...\n",
       "3    \\nmoderator note: given that this question has...\n",
       "4    i've been messing around with json for some ti...\n",
       "5    what is the use of the yield keyword in python...\n",
       "6    after reading hidden features and dark corners...\n",
       "7    i mistakenly added files to git using the comm...\n",
       "8    i don't want to rename a remote branch, as des...\n",
       "Name: body, dtype: object"
      ]
     },
     "execution_count": 6,
     "metadata": {},
     "output_type": "execute_result"
    }
   ],
   "source": [
    "data_question['body'][1:9].apply(tagText.preprocessingdf)"
   ]
  },
  {
   "cell_type": "code",
   "execution_count": 27,
   "metadata": {},
   "outputs": [
    {
     "data": {
      "text/html": [
       "<div>\n",
       "<style scoped>\n",
       "    .dataframe tbody tr th:only-of-type {\n",
       "        vertical-align: middle;\n",
       "    }\n",
       "\n",
       "    .dataframe tbody tr th {\n",
       "        vertical-align: top;\n",
       "    }\n",
       "\n",
       "    .dataframe thead th {\n",
       "        text-align: right;\n",
       "    }\n",
       "</style>\n",
       "<table border=\"1\" class=\"dataframe\">\n",
       "  <thead>\n",
       "    <tr style=\"text-align: right;\">\n",
       "      <th></th>\n",
       "      <th>body</th>\n",
       "      <th>title</th>\n",
       "      <th>tags</th>\n",
       "      <th>SelectedTags</th>\n",
       "      <th>Name</th>\n",
       "      <th>clean_text</th>\n",
       "      <th>clean_body</th>\n",
       "    </tr>\n",
       "  </thead>\n",
       "  <tbody>\n",
       "    <tr>\n",
       "      <th>0</th>\n",
       "      <td>&lt;p&gt;I always thought Java was &lt;strong&gt;pass-by-r...</td>\n",
       "      <td>Is Java \"pass-by-reference\" or \"pass-by-value\"?</td>\n",
       "      <td>&lt;java&gt;&lt;methods&gt;&lt;parameter-passing&gt;&lt;pass-by-ref...</td>\n",
       "      <td>java,methods,parameter-passing,pass-by-reference,</td>\n",
       "      <td>Question</td>\n",
       "      <td></td>\n",
       "      <td></td>\n",
       "    </tr>\n",
       "    <tr>\n",
       "      <th>1</th>\n",
       "      <td>&lt;p&gt;How do I see if a file exists or not, witho...</td>\n",
       "      <td>How do I check whether a file exists without e...</td>\n",
       "      <td>&lt;python&gt;&lt;file&gt;&lt;file-exists&gt;</td>\n",
       "      <td>python,file,</td>\n",
       "      <td>Question</td>\n",
       "      <td></td>\n",
       "      <td></td>\n",
       "    </tr>\n",
       "    <tr>\n",
       "      <th>2</th>\n",
       "      <td>&lt;p&gt;For anchors that act like buttons (for exam...</td>\n",
       "      <td>How to disable text selection highlighting</td>\n",
       "      <td>&lt;css&gt;&lt;cross-browser&gt;&lt;highlight&gt;&lt;textselection&gt;</td>\n",
       "      <td>css,cross-browser,highlight,</td>\n",
       "      <td>Question</td>\n",
       "      <td></td>\n",
       "      <td></td>\n",
       "    </tr>\n",
       "    <tr>\n",
       "      <th>3</th>\n",
       "      <td>&lt;p&gt;This question attempts to collect the few p...</td>\n",
       "      <td>The Definitive C++ Book Guide and List</td>\n",
       "      <td>&lt;c++&gt;&lt;c++-faq&gt;</td>\n",
       "      <td>c++,</td>\n",
       "      <td>Question</td>\n",
       "      <td></td>\n",
       "      <td></td>\n",
       "    </tr>\n",
       "    <tr>\n",
       "      <th>4</th>\n",
       "      <td>&lt;p&gt;The following are two methods of building a...</td>\n",
       "      <td>Which \"href\" value should I use for JavaScript...</td>\n",
       "      <td>&lt;javascript&gt;&lt;html&gt;&lt;performance&gt;&lt;optimization&gt;&lt;...</td>\n",
       "      <td>javascript,html,performance,optimization,href,</td>\n",
       "      <td>Question</td>\n",
       "      <td></td>\n",
       "      <td></td>\n",
       "    </tr>\n",
       "  </tbody>\n",
       "</table>\n",
       "</div>"
      ],
      "text/plain": [
       "                                                body  \\\n",
       "0  <p>I always thought Java was <strong>pass-by-r...   \n",
       "1  <p>How do I see if a file exists or not, witho...   \n",
       "2  <p>For anchors that act like buttons (for exam...   \n",
       "3  <p>This question attempts to collect the few p...   \n",
       "4  <p>The following are two methods of building a...   \n",
       "\n",
       "                                               title  \\\n",
       "0    Is Java \"pass-by-reference\" or \"pass-by-value\"?   \n",
       "1  How do I check whether a file exists without e...   \n",
       "2         How to disable text selection highlighting   \n",
       "3             The Definitive C++ Book Guide and List   \n",
       "4  Which \"href\" value should I use for JavaScript...   \n",
       "\n",
       "                                                tags  \\\n",
       "0  <java><methods><parameter-passing><pass-by-ref...   \n",
       "1                        <python><file><file-exists>   \n",
       "2     <css><cross-browser><highlight><textselection>   \n",
       "3                                     <c++><c++-faq>   \n",
       "4  <javascript><html><performance><optimization><...   \n",
       "\n",
       "                                        SelectedTags      Name clean_text  \\\n",
       "0  java,methods,parameter-passing,pass-by-reference,  Question              \n",
       "1                                       python,file,  Question              \n",
       "2                       css,cross-browser,highlight,  Question              \n",
       "3                                               c++,  Question              \n",
       "4     javascript,html,performance,optimization,href,  Question              \n",
       "\n",
       "  clean_body  \n",
       "0             \n",
       "1             \n",
       "2             \n",
       "3             \n",
       "4             "
      ]
     },
     "execution_count": 27,
     "metadata": {},
     "output_type": "execute_result"
    }
   ],
   "source": [
    "data_question.head()"
   ]
  },
  {
   "cell_type": "code",
   "execution_count": null,
   "metadata": {},
   "outputs": [],
   "source": []
  }
 ],
 "metadata": {
  "kernelspec": {
   "display_name": "Python 2",
   "language": "python",
   "name": "python2"
  },
  "language_info": {
   "codemirror_mode": {
    "name": "ipython",
    "version": 2
   },
   "file_extension": ".py",
   "mimetype": "text/x-python",
   "name": "python",
   "nbconvert_exporter": "python",
   "pygments_lexer": "ipython2",
   "version": "2.7.16"
  }
 },
 "nbformat": 4,
 "nbformat_minor": 2
}
