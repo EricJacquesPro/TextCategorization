{
 "cells": [
  {
   "cell_type": "markdown",
   "metadata": {},
   "source": [
    "<p style=\"font-family: Arial; font-size:2.75em;color:blue; font-style:bold\"><br>\n",
    "Projet 6 :<br><br>\n",
    "Catégorisez automatiquement des questions<br><br>\n",
    "</p><br>\n",
    "\n",
    "* **Data Source / Data Source :** \n",
    "    - Data : https://data.stackexchange.com/stackoverflow/query/edit/1086274\n",
    "    - Source : https://github.com/EricJacquesPro/TextCategorization\n",
    "* **Description / Description : ** Projet 6 de la formation Data Scientist Proposée par OpenClassroom\n",
    "    - Analyse\n",
    "    - Entrainement\n",
    "* **Auteur / Author : ** Eric JACQUES \n",
    "* **Date : ** 06/08/2019 "
   ]
  },
  {
   "cell_type": "markdown",
   "metadata": {},
   "source": [
    "<p style=\"font-family: Arial; font-size:1.75em;color:#2462C0; font-style:bold\"><br>\n",
    "I - Data</p>"
   ]
  },
  {
   "cell_type": "markdown",
   "metadata": {},
   "source": [
    "<p style=\"font-family: Arial; font-size:1.75em;color:#2462C0; font-style:bold\"><br>\n",
    "I.1 - Source</p>"
   ]
  },
  {
   "cell_type": "markdown",
   "metadata": {},
   "source": [
    "-les tags sont dans la table tags mais déjà listé dans la colonne tag de posts<br>\n",
    "-on veux seulement les questions => posttype id = 1<br>\n",
    "-On veut le contenu => body<br>\n",
    "-le title peut être intéressant<br>\n",
    "=> beaucoup de date<br>\n",
    "..."
   ]
  },
  {
   "cell_type": "markdown",
   "metadata": {},
   "source": [
    "<p style=\"font-family: Arial; font-size:1.75em;color:#2462C0; font-style:bold\"><br>\n",
    "I.2 - Analyse</p>"
   ]
  },
  {
   "cell_type": "code",
   "execution_count": 1,
   "metadata": {},
   "outputs": [
    {
     "name": "stderr",
     "output_type": "stream",
     "text": [
      "./Python\\TagText.py:1: SyntaxWarning: import * only allowed at module level\n",
      "  class TagText:\n"
     ]
    }
   ],
   "source": [
    "import sys\n",
    "import os\n",
    "sys.path.insert(0, './Python')\n",
    "\n",
    "try:\n",
    "    from TagText import TagText\n",
    "except Exception, e:\n",
    "    print 'Import failed:', e\n"
   ]
  },
  {
   "cell_type": "code",
   "execution_count": 2,
   "metadata": {},
   "outputs": [
    {
     "name": "stdout",
     "output_type": "stream",
     "text": [
      "Data/\n",
      "QuestionVsTags.csv\n"
     ]
    },
    {
     "data": {
      "text/html": [
       "<div>\n",
       "<style scoped>\n",
       "    .dataframe tbody tr th:only-of-type {\n",
       "        vertical-align: middle;\n",
       "    }\n",
       "\n",
       "    .dataframe tbody tr th {\n",
       "        vertical-align: top;\n",
       "    }\n",
       "\n",
       "    .dataframe thead th {\n",
       "        text-align: right;\n",
       "    }\n",
       "</style>\n",
       "<table border=\"1\" class=\"dataframe\">\n",
       "  <thead>\n",
       "    <tr style=\"text-align: right;\">\n",
       "      <th></th>\n",
       "      <th>body</th>\n",
       "      <th>title</th>\n",
       "      <th>tags</th>\n",
       "      <th>SelectedTags</th>\n",
       "      <th>Name</th>\n",
       "    </tr>\n",
       "  </thead>\n",
       "  <tbody>\n",
       "    <tr>\n",
       "      <th>0</th>\n",
       "      <td>&lt;p&gt;I always thought Java was &lt;strong&gt;pass-by-r...</td>\n",
       "      <td>Is Java \"pass-by-reference\" or \"pass-by-value\"?</td>\n",
       "      <td>&lt;java&gt;&lt;methods&gt;&lt;parameter-passing&gt;&lt;pass-by-ref...</td>\n",
       "      <td>java,methods,parameter-passing,pass-by-reference,</td>\n",
       "      <td>Question</td>\n",
       "    </tr>\n",
       "    <tr>\n",
       "      <th>1</th>\n",
       "      <td>&lt;p&gt;How do I see if a file exists or not, witho...</td>\n",
       "      <td>How do I check whether a file exists without e...</td>\n",
       "      <td>&lt;python&gt;&lt;file&gt;&lt;file-exists&gt;</td>\n",
       "      <td>python,file,</td>\n",
       "      <td>Question</td>\n",
       "    </tr>\n",
       "    <tr>\n",
       "      <th>2</th>\n",
       "      <td>&lt;p&gt;For anchors that act like buttons (for exam...</td>\n",
       "      <td>How to disable text selection highlighting</td>\n",
       "      <td>&lt;css&gt;&lt;cross-browser&gt;&lt;highlight&gt;&lt;textselection&gt;</td>\n",
       "      <td>css,cross-browser,highlight,</td>\n",
       "      <td>Question</td>\n",
       "    </tr>\n",
       "    <tr>\n",
       "      <th>3</th>\n",
       "      <td>&lt;p&gt;This question attempts to collect the few p...</td>\n",
       "      <td>The Definitive C++ Book Guide and List</td>\n",
       "      <td>&lt;c++&gt;&lt;c++-faq&gt;</td>\n",
       "      <td>c++,</td>\n",
       "      <td>Question</td>\n",
       "    </tr>\n",
       "    <tr>\n",
       "      <th>4</th>\n",
       "      <td>&lt;p&gt;The following are two methods of building a...</td>\n",
       "      <td>Which \"href\" value should I use for JavaScript...</td>\n",
       "      <td>&lt;javascript&gt;&lt;html&gt;&lt;performance&gt;&lt;optimization&gt;&lt;...</td>\n",
       "      <td>javascript,html,performance,optimization,href,</td>\n",
       "      <td>Question</td>\n",
       "    </tr>\n",
       "  </tbody>\n",
       "</table>\n",
       "</div>"
      ],
      "text/plain": [
       "                                                body  \\\n",
       "0  <p>I always thought Java was <strong>pass-by-r...   \n",
       "1  <p>How do I see if a file exists or not, witho...   \n",
       "2  <p>For anchors that act like buttons (for exam...   \n",
       "3  <p>This question attempts to collect the few p...   \n",
       "4  <p>The following are two methods of building a...   \n",
       "\n",
       "                                               title  \\\n",
       "0    Is Java \"pass-by-reference\" or \"pass-by-value\"?   \n",
       "1  How do I check whether a file exists without e...   \n",
       "2         How to disable text selection highlighting   \n",
       "3             The Definitive C++ Book Guide and List   \n",
       "4  Which \"href\" value should I use for JavaScript...   \n",
       "\n",
       "                                                tags  \\\n",
       "0  <java><methods><parameter-passing><pass-by-ref...   \n",
       "1                        <python><file><file-exists>   \n",
       "2     <css><cross-browser><highlight><textselection>   \n",
       "3                                     <c++><c++-faq>   \n",
       "4  <javascript><html><performance><optimization><...   \n",
       "\n",
       "                                        SelectedTags      Name  \n",
       "0  java,methods,parameter-passing,pass-by-reference,  Question  \n",
       "1                                       python,file,  Question  \n",
       "2                       css,cross-browser,highlight,  Question  \n",
       "3                                               c++,  Question  \n",
       "4     javascript,html,performance,optimization,href,  Question  "
      ]
     },
     "execution_count": 2,
     "metadata": {},
     "output_type": "execute_result"
    }
   ],
   "source": [
    "tagText = TagText()\n",
    "print(tagText.urlDirectory)\n",
    "print(tagText.fileName)\n",
    "data_question = tagText.read_source()\n",
    "data_question.head()"
   ]
  },
  {
   "cell_type": "code",
   "execution_count": null,
   "metadata": {},
   "outputs": [],
   "source": []
  }
 ],
 "metadata": {
  "kernelspec": {
   "display_name": "Python 2",
   "language": "python",
   "name": "python2"
  },
  "language_info": {
   "codemirror_mode": {
    "name": "ipython",
    "version": 2
   },
   "file_extension": ".py",
   "mimetype": "text/x-python",
   "name": "python",
   "nbconvert_exporter": "python",
   "pygments_lexer": "ipython2",
   "version": "2.7.16"
  }
 },
 "nbformat": 4,
 "nbformat_minor": 2
}
