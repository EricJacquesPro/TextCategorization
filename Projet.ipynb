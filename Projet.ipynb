{
 "cells": [
  {
   "cell_type": "markdown",
   "metadata": {},
   "source": [
    "<p style=\"font-family: Arial; font-size:2.75em;color:blue; font-style:bold\"><br>\n",
    "Projet 6 :<br><br>\n",
    "Catégorisez automatiquement des questions<br><br>\n",
    "</p><br>\n",
    "\n",
    "* **Data Source / Data Source :** \n",
    "    - Data : https://data.stackexchange.com/stackoverflow/query/edit/1086274\n",
    "    - Source : https://github.com/EricJacquesPro/TextCategorization\n",
    "* **Description / Description : ** Projet 6 de la formation Data Scientist Proposée par OpenClassroom\n",
    "    - Analyse\n",
    "    - Entrainement\n",
    "* **Auteur / Author : ** Eric JACQUES \n",
    "* **Date : ** 06/08/2019 "
   ]
  },
  {
   "cell_type": "markdown",
   "metadata": {},
   "source": [
    "<p style=\"font-family: Arial; font-size:1.75em;color:#2462C0; font-style:bold\"><br>\n",
    "I - Data</p>"
   ]
  },
  {
   "cell_type": "markdown",
   "metadata": {},
   "source": [
    "<p style=\"font-family: Arial; font-size:1.75em;color:#2462C0; font-style:bold\"><br>\n",
    "I.1 - Source</p>"
   ]
  },
  {
   "cell_type": "markdown",
   "metadata": {},
   "source": [
    "Revoir les explications"
   ]
  },
  {
   "cell_type": "markdown",
   "metadata": {},
   "source": [
    "<p style=\"font-family: Arial; font-size:1.75em;color:#2462C0; font-style:bold\"><br>\n",
    "I.2 - Preparation des données</p>"
   ]
  },
  {
   "cell_type": "code",
   "execution_count": 1,
   "metadata": {},
   "outputs": [
    {
     "name": "stderr",
     "output_type": "stream",
     "text": [
      "./Python\\TagText.py:1: SyntaxWarning: import * only allowed at module level\n",
      "  class TagText:\n"
     ]
    }
   ],
   "source": [
    "import sys\n",
    "import os\n",
    "sys.path.insert(0, './Python')\n",
    "\n",
    "try:\n",
    "    from TagText import TagText\n",
    "except Exception, e:\n",
    "    print 'Import failed:', e\n"
   ]
  },
  {
   "cell_type": "code",
   "execution_count": 2,
   "metadata": {},
   "outputs": [
    {
     "name": "stdout",
     "output_type": "stream",
     "text": [
      "Data/\n",
      "QuestionVsTags.csv\n"
     ]
    },
    {
     "data": {
      "text/html": [
       "<div>\n",
       "<style scoped>\n",
       "    .dataframe tbody tr th:only-of-type {\n",
       "        vertical-align: middle;\n",
       "    }\n",
       "\n",
       "    .dataframe tbody tr th {\n",
       "        vertical-align: top;\n",
       "    }\n",
       "\n",
       "    .dataframe thead th {\n",
       "        text-align: right;\n",
       "    }\n",
       "</style>\n",
       "<table border=\"1\" class=\"dataframe\">\n",
       "  <thead>\n",
       "    <tr style=\"text-align: right;\">\n",
       "      <th></th>\n",
       "      <th>body</th>\n",
       "      <th>title</th>\n",
       "      <th>tags</th>\n",
       "      <th>SelectedTags</th>\n",
       "      <th>Name</th>\n",
       "    </tr>\n",
       "  </thead>\n",
       "  <tbody>\n",
       "    <tr>\n",
       "      <th>0</th>\n",
       "      <td>&lt;p&gt;Here is a piece of C++ code that shows some...</td>\n",
       "      <td>Why is processing a sorted array faster than p...</td>\n",
       "      <td>&lt;java&gt;&lt;c++&gt;&lt;performance&gt;&lt;optimization&gt;&lt;branch-...</td>\n",
       "      <td>java,c++,performance,optimization,</td>\n",
       "      <td>Question</td>\n",
       "    </tr>\n",
       "    <tr>\n",
       "      <th>1</th>\n",
       "      <td>&lt;p&gt;I accidentally committed the wrong files to...</td>\n",
       "      <td>How do I undo the most recent local commits in...</td>\n",
       "      <td>&lt;git&gt;&lt;version-control&gt;&lt;git-commit&gt;&lt;undo&gt;</td>\n",
       "      <td>git,version-control,git-commit,</td>\n",
       "      <td>Question</td>\n",
       "    </tr>\n",
       "    <tr>\n",
       "      <th>2</th>\n",
       "      <td>&lt;p&gt;I want to delete a branch both locally and ...</td>\n",
       "      <td>How do I delete a Git branch locally and remot...</td>\n",
       "      <td>&lt;git&gt;&lt;git-branch&gt;&lt;git-remote&gt;</td>\n",
       "      <td>git,git-branch,</td>\n",
       "      <td>Question</td>\n",
       "    </tr>\n",
       "    <tr>\n",
       "      <th>3</th>\n",
       "      <td>&lt;blockquote&gt;\\n  &lt;p&gt;&lt;strong&gt;Moderator Note:&lt;/st...</td>\n",
       "      <td>What is the difference between 'git pull' and ...</td>\n",
       "      <td>&lt;git&gt;&lt;git-pull&gt;&lt;git-fetch&gt;</td>\n",
       "      <td>git,</td>\n",
       "      <td>Question</td>\n",
       "    </tr>\n",
       "    <tr>\n",
       "      <th>4</th>\n",
       "      <td>&lt;p&gt;I've been messing around with &lt;a href=\"http...</td>\n",
       "      <td>What is the correct JSON content type?</td>\n",
       "      <td>&lt;json&gt;&lt;http-headers&gt;&lt;content-type&gt;</td>\n",
       "      <td>json,http-headers,content-type,</td>\n",
       "      <td>Question</td>\n",
       "    </tr>\n",
       "  </tbody>\n",
       "</table>\n",
       "</div>"
      ],
      "text/plain": [
       "                                                body  \\\n",
       "0  <p>Here is a piece of C++ code that shows some...   \n",
       "1  <p>I accidentally committed the wrong files to...   \n",
       "2  <p>I want to delete a branch both locally and ...   \n",
       "3  <blockquote>\\n  <p><strong>Moderator Note:</st...   \n",
       "4  <p>I've been messing around with <a href=\"http...   \n",
       "\n",
       "                                               title  \\\n",
       "0  Why is processing a sorted array faster than p...   \n",
       "1  How do I undo the most recent local commits in...   \n",
       "2  How do I delete a Git branch locally and remot...   \n",
       "3  What is the difference between 'git pull' and ...   \n",
       "4             What is the correct JSON content type?   \n",
       "\n",
       "                                                tags  \\\n",
       "0  <java><c++><performance><optimization><branch-...   \n",
       "1           <git><version-control><git-commit><undo>   \n",
       "2                      <git><git-branch><git-remote>   \n",
       "3                         <git><git-pull><git-fetch>   \n",
       "4                 <json><http-headers><content-type>   \n",
       "\n",
       "                         SelectedTags      Name  \n",
       "0  java,c++,performance,optimization,  Question  \n",
       "1     git,version-control,git-commit,  Question  \n",
       "2                     git,git-branch,  Question  \n",
       "3                                git,  Question  \n",
       "4     json,http-headers,content-type,  Question  "
      ]
     },
     "execution_count": 2,
     "metadata": {},
     "output_type": "execute_result"
    }
   ],
   "source": [
    "tagText = TagText()\n",
    "print(tagText.urlDirectory)\n",
    "print(tagText.fileName)\n",
    "data_question = tagText.read_source()\n",
    "data_question.head()"
   ]
  },
  {
   "cell_type": "code",
   "execution_count": 3,
   "metadata": {},
   "outputs": [
    {
     "data": {
      "text/plain": [
       "u'you like  to eat apples he has eaten many apples because he likes eating'"
      ]
     },
     "execution_count": 3,
     "metadata": {},
     "output_type": "execute_result"
    }
   ],
   "source": [
    "import numpy as np\n",
    "import nltk\n",
    "import pandas as pd\n",
    "import re\n",
    "\n",
    "from bs4 import BeautifulSoup\n",
    "\n",
    "def preprocessing(text):\n",
    "    clean_data = []\n",
    "    for x in (text[:][0]):\n",
    "        clean_data =  BeautifulSoup(x, 'html.parser').get_text()\n",
    "        clean_data = clean_data.lower()#to lower\n",
    "        clean_data = re.sub(r'[^\\w\\s]', '', clean_data) # remove punctuation\n",
    "        #clean_data = nltk.clean_html(clean_data)=>NotImplementedError: To remove HTML markup, use BeautifulSoup's get_text() function\n",
    "    return clean_data\n",
    "\n",
    "\n",
    "def preprocessingdf(text):\n",
    "    #print(text)\n",
    "    #clean_data = []\n",
    "    clean_data = text\n",
    "    clean_data = clean_data.lower()#to lower\n",
    "    clean_data = BeautifulSoup(clean_data, 'html.parser').get_text()\n",
    "    return clean_data\n",
    "\n",
    "test = ['You<p> like &nbsp; to eat apples. He has eaten many apples because he likes eating.']\n",
    "test_pd = pd.DataFrame(data = test) #makes this into a panda data frame\n",
    "clean_test = preprocessing(test_pd) #removes punctuation, see above\n",
    "clean_test"
   ]
  },
  {
   "cell_type": "code",
   "execution_count": 4,
   "metadata": {},
   "outputs": [
    {
     "data": {
      "text/plain": [
       "1    <p>I accidentally committed the wrong files to...\n",
       "2    <p>I want to delete a branch both locally and ...\n",
       "3    <blockquote>\\n  <p><strong>Moderator Note:</st...\n",
       "4    <p>I've been messing around with <a href=\"http...\n",
       "5    <p>What is the use of the <code>yield</code> k...\n",
       "6    <p>After reading <a href=\"http://groups.google...\n",
       "7    <p>I mistakenly added files to git using the c...\n",
       "8    <p>I don't want to rename a remote branch, as ...\n",
       "Name: body, dtype: object"
      ]
     },
     "execution_count": 4,
     "metadata": {},
     "output_type": "execute_result"
    }
   ],
   "source": [
    "data_question['body'][1:9]"
   ]
  },
  {
   "cell_type": "code",
   "execution_count": 5,
   "metadata": {},
   "outputs": [
    {
     "data": {
      "text/plain": [
       "1    i accidentally committed the wrong files to gi...\n",
       "2    i want to delete a branch both locally and rem...\n",
       "3    \\nmoderator note: given that this question has...\n",
       "4    i've been messing around with json for some ti...\n",
       "5    what is the use of the yield keyword in python...\n",
       "6    after reading hidden features and dark corners...\n",
       "7    i mistakenly added files to git using the comm...\n",
       "8    i don't want to rename a remote branch, as des...\n",
       "Name: body, dtype: object"
      ]
     },
     "execution_count": 5,
     "metadata": {},
     "output_type": "execute_result"
    }
   ],
   "source": [
    "data_question['body'][1:9].apply(preprocessingdf)\n",
    "#data_question['clean_body'] = data_question['body'].apply(lambda x : preprocessing(x))\n"
   ]
  },
  {
   "cell_type": "code",
   "execution_count": 6,
   "metadata": {},
   "outputs": [],
   "source": [
    "data_preprocessed = data_question['body'][1:9].apply(tagText.preprocessing)"
   ]
  },
  {
   "cell_type": "code",
   "execution_count": 7,
   "metadata": {},
   "outputs": [
    {
     "data": {
      "text/html": [
       "<div>\n",
       "<style scoped>\n",
       "    .dataframe tbody tr th:only-of-type {\n",
       "        vertical-align: middle;\n",
       "    }\n",
       "\n",
       "    .dataframe tbody tr th {\n",
       "        vertical-align: top;\n",
       "    }\n",
       "\n",
       "    .dataframe thead th {\n",
       "        text-align: right;\n",
       "    }\n",
       "</style>\n",
       "<table border=\"1\" class=\"dataframe\">\n",
       "  <thead>\n",
       "    <tr style=\"text-align: right;\">\n",
       "      <th></th>\n",
       "      <th>body</th>\n",
       "      <th>title</th>\n",
       "      <th>tags</th>\n",
       "      <th>SelectedTags</th>\n",
       "      <th>Name</th>\n",
       "    </tr>\n",
       "  </thead>\n",
       "  <tbody>\n",
       "    <tr>\n",
       "      <th>0</th>\n",
       "      <td>&lt;p&gt;Here is a piece of C++ code that shows some...</td>\n",
       "      <td>Why is processing a sorted array faster than p...</td>\n",
       "      <td>&lt;java&gt;&lt;c++&gt;&lt;performance&gt;&lt;optimization&gt;&lt;branch-...</td>\n",
       "      <td>java,c++,performance,optimization,</td>\n",
       "      <td>Question</td>\n",
       "    </tr>\n",
       "    <tr>\n",
       "      <th>1</th>\n",
       "      <td>&lt;p&gt;I accidentally committed the wrong files to...</td>\n",
       "      <td>How do I undo the most recent local commits in...</td>\n",
       "      <td>&lt;git&gt;&lt;version-control&gt;&lt;git-commit&gt;&lt;undo&gt;</td>\n",
       "      <td>git,version-control,git-commit,</td>\n",
       "      <td>Question</td>\n",
       "    </tr>\n",
       "    <tr>\n",
       "      <th>2</th>\n",
       "      <td>&lt;p&gt;I want to delete a branch both locally and ...</td>\n",
       "      <td>How do I delete a Git branch locally and remot...</td>\n",
       "      <td>&lt;git&gt;&lt;git-branch&gt;&lt;git-remote&gt;</td>\n",
       "      <td>git,git-branch,</td>\n",
       "      <td>Question</td>\n",
       "    </tr>\n",
       "    <tr>\n",
       "      <th>3</th>\n",
       "      <td>&lt;blockquote&gt;\\n  &lt;p&gt;&lt;strong&gt;Moderator Note:&lt;/st...</td>\n",
       "      <td>What is the difference between 'git pull' and ...</td>\n",
       "      <td>&lt;git&gt;&lt;git-pull&gt;&lt;git-fetch&gt;</td>\n",
       "      <td>git,</td>\n",
       "      <td>Question</td>\n",
       "    </tr>\n",
       "    <tr>\n",
       "      <th>4</th>\n",
       "      <td>&lt;p&gt;I've been messing around with &lt;a href=\"http...</td>\n",
       "      <td>What is the correct JSON content type?</td>\n",
       "      <td>&lt;json&gt;&lt;http-headers&gt;&lt;content-type&gt;</td>\n",
       "      <td>json,http-headers,content-type,</td>\n",
       "      <td>Question</td>\n",
       "    </tr>\n",
       "  </tbody>\n",
       "</table>\n",
       "</div>"
      ],
      "text/plain": [
       "                                                body  \\\n",
       "0  <p>Here is a piece of C++ code that shows some...   \n",
       "1  <p>I accidentally committed the wrong files to...   \n",
       "2  <p>I want to delete a branch both locally and ...   \n",
       "3  <blockquote>\\n  <p><strong>Moderator Note:</st...   \n",
       "4  <p>I've been messing around with <a href=\"http...   \n",
       "\n",
       "                                               title  \\\n",
       "0  Why is processing a sorted array faster than p...   \n",
       "1  How do I undo the most recent local commits in...   \n",
       "2  How do I delete a Git branch locally and remot...   \n",
       "3  What is the difference between 'git pull' and ...   \n",
       "4             What is the correct JSON content type?   \n",
       "\n",
       "                                                tags  \\\n",
       "0  <java><c++><performance><optimization><branch-...   \n",
       "1           <git><version-control><git-commit><undo>   \n",
       "2                      <git><git-branch><git-remote>   \n",
       "3                         <git><git-pull><git-fetch>   \n",
       "4                 <json><http-headers><content-type>   \n",
       "\n",
       "                         SelectedTags      Name  \n",
       "0  java,c++,performance,optimization,  Question  \n",
       "1     git,version-control,git-commit,  Question  \n",
       "2                     git,git-branch,  Question  \n",
       "3                                git,  Question  \n",
       "4     json,http-headers,content-type,  Question  "
      ]
     },
     "execution_count": 7,
     "metadata": {},
     "output_type": "execute_result"
    }
   ],
   "source": [
    "data_question.head()"
   ]
  },
  {
   "cell_type": "code",
   "execution_count": 8,
   "metadata": {},
   "outputs": [
    {
     "data": {
      "text/plain": [
       "<generator object iteritems at 0x000000001AAC3990>"
      ]
     },
     "execution_count": 8,
     "metadata": {},
     "output_type": "execute_result"
    }
   ],
   "source": [
    "data_question.iteritems()"
   ]
  },
  {
   "cell_type": "code",
   "execution_count": 9,
   "metadata": {},
   "outputs": [
    {
     "name": "stdout",
     "output_type": "stream",
     "text": [
      "defaultdict(<type 'list'>, {1L: [u'i', u'accidentally', u'committed', u'the', u'wrong', u'files', u'to', u'git', u'but', u'i', u'haven', u't', u'pushed', u'the', u'commit', u'to', u'the', u'server', u'yet', u'how', u'can', u'i', u'undo', u'those', u'commits', u'from', u'the', u'local', u'repository'], 2L: [u'i', u'want', u'to', u'delete', u'a', u'branch', u'both', u'locally', u'and', u'remotely', u'failed', u'attempts', u'to', u'delete', u'remote', u'branch', u'git', u'branch', u'd', u'remotes', u'origin', u'bugfix', u'error', u'branch', u'remotes', u'origin', u'bugfix', u'not', u'found', u'git', u'branch', u'd', u'origin', u'bugfix', u'error', u'branch', u'origin', u'bugfix', u'not', u'found', u'git', u'branch', u'rd', u'origin', u'bugfix', u'deleted', u'remote', u'branch', u'origin', u'bugfix', u'was', u'2a14ef7', u'git', u'push', u'everything', u'up', u'to', u'date', u'git', u'pull', u'from', u'github', u'com', u'gituser', u'gitproject', u'new', u'branch', u'bugfix', u'origin', u'bugfix', u'already', u'up', u'to', u'date', u'what', u'should', u'i', u'do', u'differently', u'to', u'successfully', u'delete', u'the', u'remotes', u'origin', u'bugfix', u'branch', u'both', u'locally', u'and', u'remotely'], 3L: [u'moderator', u'note', u'given', u'that', u'this', u'question', u'has', u'already', u'had', u'sixty', u'seven', u'answers', u'posted', u'to', u'it', u'some', u'of', u'them', u'deleted', u'consider', u'whether', u'or', u'not', u'you', u'are', u'contributing', u'anything', u'new', u'before', u'posting', u'another', u'one', u'what', u'are', u'the', u'differences', u'between', u'git', u'pull', u'and', u'git', u'fetch'], 4L: [u'i', u've', u'been', u'messing', u'around', u'with', u'json', u'for', u'some', u'time', u'just', u'pushing', u'it', u'out', u'as', u'text', u'and', u'it', u'hasn', u't', u'hurt', u'anybody', u'that', u'i', u'know', u'of', u'but', u'i', u'd', u'like', u'to', u'start', u'doing', u'things', u'properly', u'i', u'have', u'seen', u'so', u'many', u'purported', u'standards', u'for', u'the', u'json', u'content', u'type', u'application', u'json', u'application', u'x', u'javascript', u'text', u'javascript', u'text', u'x', u'javascript', u'text', u'x', u'json', u'but', u'which', u'one', u'is', u'correct', u'or', u'best', u'i', u'gather', u'that', u'there', u'are', u'security', u'and', u'browser', u'support', u'issues', u'varying', u'between', u'them', u'i', u'know', u'there', u's', u'a', u'similar', u'question', u'what', u'mime', u'type', u'if', u'json', u'is', u'being', u'returned', u'by', u'a', u'rest', u'api', u'but', u'i', u'd', u'like', u'a', u'slightly', u'more', u'targeted', u'answer'], 5L: [u'what', u'is', u'the', u'use', u'of', u'the', u'yield', u'keyword', u'in', u'python', u'what', u'does', u'it', u'do', u'for', u'example', u'i', u'm', u'trying', u'to', u'understand', u'this', u'code1', u'def', u'_get_child_candidates', u'self', u'distance', u'min_dist', u'max_dist', u'if', u'self', u'_leftchild', u'and', u'distance', u'max_dist', u'self', u'_median', u'yield', u'self', u'_leftchild', u'if', u'self', u'_rightchild', u'and', u'distance', u'max_dist', u'self', u'_median', u'yield', u'self', u'_rightchild', u'and', u'this', u'is', u'the', u'caller', u'result', u'candidates', u'self', u'while', u'candidates', u'node', u'candidates', u'pop', u'distance', u'node', u'_get_dist', u'obj', u'if', u'distance', u'max_dist', u'and', u'distance', u'min_dist', u'result', u'extend', u'node', u'_values', u'candidates', u'extend', u'node', u'_get_child_candidates', u'distance', u'min_dist', u'max_dist', u'return', u'result', u'what', u'happens', u'when', u'the', u'method', u'_get_child_candidates', u'is', u'called', u'is', u'a', u'list', u'returned', u'a', u'single', u'element', u'is', u'it', u'called', u'again', u'when', u'will', u'subsequent', u'calls', u'stop', u'1', u'this', u'piece', u'of', u'code', u'was', u'written', u'by', u'jochen', u'schulz', u'jrschulz', u'who', u'made', u'a', u'great', u'python', u'library', u'for', u'metric', u'spaces', u'this', u'is', u'the', u'link', u'to', u'the', u'complete', u'source', u'module', u'mspace']})\n"
     ]
    }
   ],
   "source": [
    "import nltk\n",
    "from collections import defaultdict\n",
    "    \n",
    "corpora = defaultdict(list)\n",
    "        \n",
    "tokenizer = nltk.RegexpTokenizer(r'\\w+')\n",
    "for id, row in data_preprocessed.head().iteritems():\n",
    "    corpora[id] += tokenizer.tokenize(row)\n",
    "    \n",
    "print(corpora)"
   ]
  },
  {
   "cell_type": "code",
   "execution_count": 11,
   "metadata": {
    "scrolled": true
   },
   "outputs": [
    {
     "name": "stdout",
     "output_type": "stream",
     "text": [
      "defaultdict(<type 'list'>, {1L: [u'i', u'accidentally', u'committed', u'the', u'wrong', u'files', u'to', u'git', u'but', u'i', u'haven', u't', u'pushed', u'the', u'commit', u'to', u'the', u'server', u'yet', u'how', u'can', u'i', u'undo', u'those', u'commits', u'from', u'the', u'local', u'repository'], 2L: [u'i', u'want', u'to', u'delete', u'a', u'branch', u'both', u'locally', u'and', u'remotely', u'failed', u'attempts', u'to', u'delete', u'remote', u'branch', u'git', u'branch', u'd', u'remotes', u'origin', u'bugfix', u'error', u'branch', u'remotes', u'origin', u'bugfix', u'not', u'found', u'git', u'branch', u'd', u'origin', u'bugfix', u'error', u'branch', u'origin', u'bugfix', u'not', u'found', u'git', u'branch', u'rd', u'origin', u'bugfix', u'deleted', u'remote', u'branch', u'origin', u'bugfix', u'was', u'2a14ef7', u'git', u'push', u'everything', u'up', u'to', u'date', u'git', u'pull', u'from', u'github', u'com', u'gituser', u'gitproject', u'new', u'branch', u'bugfix', u'origin', u'bugfix', u'already', u'up', u'to', u'date', u'what', u'should', u'i', u'do', u'differently', u'to', u'successfully', u'delete', u'the', u'remotes', u'origin', u'bugfix', u'branch', u'both', u'locally', u'and', u'remotely'], 3L: [u'moderator', u'note', u'given', u'that', u'this', u'question', u'has', u'already', u'had', u'sixty', u'seven', u'answers', u'posted', u'to', u'it', u'some', u'of', u'them', u'deleted', u'consider', u'whether', u'or', u'not', u'you', u'are', u'contributing', u'anything', u'new', u'before', u'posting', u'another', u'one', u'what', u'are', u'the', u'differences', u'between', u'git', u'pull', u'and', u'git', u'fetch'], 4L: [u'i', u've', u'been', u'messing', u'around', u'with', u'json', u'for', u'some', u'time', u'just', u'pushing', u'it', u'out', u'as', u'text', u'and', u'it', u'hasn', u't', u'hurt', u'anybody', u'that', u'i', u'know', u'of', u'but', u'i', u'd', u'like', u'to', u'start', u'doing', u'things', u'properly', u'i', u'have', u'seen', u'so', u'many', u'purported', u'standards', u'for', u'the', u'json', u'content', u'type', u'application', u'json', u'application', u'x', u'javascript', u'text', u'javascript', u'text', u'x', u'javascript', u'text', u'x', u'json', u'but', u'which', u'one', u'is', u'correct', u'or', u'best', u'i', u'gather', u'that', u'there', u'are', u'security', u'and', u'browser', u'support', u'issues', u'varying', u'between', u'them', u'i', u'know', u'there', u's', u'a', u'similar', u'question', u'what', u'mime', u'type', u'if', u'json', u'is', u'being', u'returned', u'by', u'a', u'rest', u'api', u'but', u'i', u'd', u'like', u'a', u'slightly', u'more', u'targeted', u'answer'], 5L: [u'what', u'is', u'the', u'use', u'of', u'the', u'yield', u'keyword', u'in', u'python', u'what', u'does', u'it', u'do', u'for', u'example', u'i', u'm', u'trying', u'to', u'understand', u'this', u'code1', u'def', u'_get_child_candidates', u'self', u'distance', u'min_dist', u'max_dist', u'if', u'self', u'_leftchild', u'and', u'distance', u'max_dist', u'self', u'_median', u'yield', u'self', u'_leftchild', u'if', u'self', u'_rightchild', u'and', u'distance', u'max_dist', u'self', u'_median', u'yield', u'self', u'_rightchild', u'and', u'this', u'is', u'the', u'caller', u'result', u'candidates', u'self', u'while', u'candidates', u'node', u'candidates', u'pop', u'distance', u'node', u'_get_dist', u'obj', u'if', u'distance', u'max_dist', u'and', u'distance', u'min_dist', u'result', u'extend', u'node', u'_values', u'candidates', u'extend', u'node', u'_get_child_candidates', u'distance', u'min_dist', u'max_dist', u'return', u'result', u'what', u'happens', u'when', u'the', u'method', u'_get_child_candidates', u'is', u'called', u'is', u'a', u'list', u'returned', u'a', u'single', u'element', u'is', u'it', u'called', u'again', u'when', u'will', u'subsequent', u'calls', u'stop', u'1', u'this', u'piece', u'of', u'code', u'was', u'written', u'by', u'jochen', u'schulz', u'jrschulz', u'who', u'made', u'a', u'great', u'python', u'library', u'for', u'metric', u'spaces', u'this', u'is', u'the', u'link', u'to', u'the', u'complete', u'source', u'module', u'mspace']})\n"
     ]
    },
    {
     "data": {
      "text/plain": [
       "<matplotlib.axes._subplots.AxesSubplot at 0xf908978>"
      ]
     },
     "execution_count": 11,
     "metadata": {},
     "output_type": "execute_result"
    },
    {
     "data": {
      "image/png": "[encoded data removed]",
      "text/plain": [
       "<Figure size 432x288 with 1 Axes>"
      ]
     },
     "metadata": {
      "needs_background": "light"
     },
     "output_type": "display_data"
    }
   ],
   "source": [
    "df_corpora = tagText.freq_stats_corpora(data_preprocessed.head())\n",
    "\n",
    "# show result\n",
    "df_corpora.sort_values(by='total', ascending=False)\n",
    "df_corpora.plot(kind='bar', color=\"#f56900\", title='occurence of word')\n"
   ]
  },
  {
   "cell_type": "code",
   "execution_count": null,
   "metadata": {},
   "outputs": [],
   "source": []
  },
  {
   "cell_type": "code",
   "execution_count": null,
   "metadata": {},
   "outputs": [],
   "source": []
  }
 ],
 "metadata": {
  "kernelspec": {
   "display_name": "Python 2",
   "language": "python",
   "name": "python2"
  },
  "language_info": {
   "codemirror_mode": {
    "name": "ipython",
    "version": 2
   },
   "file_extension": ".py",
   "mimetype": "text/x-python",
   "name": "python",
   "nbconvert_exporter": "python",
   "pygments_lexer": "ipython2",
   "version": "2.7.16"
  }
 },
 "nbformat": 4,
 "nbformat_minor": 2
}
