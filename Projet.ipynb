{
 "cells": [
  {
   "cell_type": "markdown",
   "metadata": {},
   "source": [
    "<p style=\"font-family: Arial; font-size:2.75em;color:blue; font-style:bold\"><br>\n",
    "Projet 6 :<br><br>\n",
    "Catégorisez automatiquement des questions<br><br>\n",
    "</p><br>\n",
    "\n",
    "* **Data Source / Data Source :** \n",
    "    - Data : https://data.stackexchange.com/stackoverflow/query/edit/1086274\n",
    "    - Source : https://github.com/EricJacquesPro/TextCategorization\n",
    "* **Description / Description : ** Projet 6 de la formation Data Scientist Proposée par OpenClassroom\n",
    "    - Analyse\n",
    "    - Entrainement\n",
    "* **Auteur / Author : ** Eric JACQUES \n",
    "* **Date : ** 06/08/2019 "
   ]
  },
  {
   "cell_type": "markdown",
   "metadata": {},
   "source": [
    "<p style=\"font-family: Arial; font-size:1.75em;color:#2462C0; font-style:bold\"><br>\n",
    "I - Data</p>"
   ]
  },
  {
   "cell_type": "markdown",
   "metadata": {},
   "source": [
    "<p style=\"font-family: Arial; font-size:1.75em;color:#2462C0; font-style:bold\"><br>\n",
    "I.1 - Source</p>"
   ]
  },
  {
   "cell_type": "markdown",
   "metadata": {},
   "source": [
    "Revoir les explications"
   ]
  },
  {
   "cell_type": "markdown",
   "metadata": {},
   "source": [
    "<p style=\"font-family: Arial; font-size:1.75em;color:#2462C0; font-style:bold\"><br>\n",
    "I.2 - Preparation des données</p>"
   ]
  },
  {
   "cell_type": "code",
   "execution_count": 1,
   "metadata": {},
   "outputs": [
    {
     "ename": "SyntaxError",
     "evalue": "invalid syntax (<ipython-input-1-47d87eb7699f>, line 7)",
     "output_type": "error",
     "traceback": [
      "\u001b[0;36m  File \u001b[0;32m\"<ipython-input-1-47d87eb7699f>\"\u001b[0;36m, line \u001b[0;32m7\u001b[0m\n\u001b[0;31m    except Exception, e:\u001b[0m\n\u001b[0m                    ^\u001b[0m\n\u001b[0;31mSyntaxError\u001b[0m\u001b[0;31m:\u001b[0m invalid syntax\n"
     ]
    }
   ],
   "source": [
    "import sys\n",
    "import os\n",
    "sys.path.insert(0, './Python')\n",
    "\n",
    "try:\n",
    "    from TagText import TagText\n",
    "except Exception, e:\n",
    "    print 'Import failed:', e\n"
   ]
  },
  {
   "cell_type": "code",
   "execution_count": null,
   "metadata": {
    "collapsed": true
   },
   "outputs": [],
   "source": [
    "tagText = TagText()\n",
    "print(tagText.urlDirectory)\n",
    "print(tagText.fileName)\n",
    "data_question = tagText.read_source()\n",
    "data_question.head()"
   ]
  },
  {
   "cell_type": "code",
   "execution_count": null,
   "metadata": {
    "collapsed": true
   },
   "outputs": [],
   "source": [
    "print(tagText.stopwords)\n",
    "print(tagText.badwords)"
   ]
  },
  {
   "cell_type": "code",
   "execution_count": null,
   "metadata": {
    "collapsed": true
   },
   "outputs": [],
   "source": [
    "import numpy as np\n",
    "import nltk\n",
    "import pandas as pd\n",
    "import re\n",
    "\n",
    "from bs4 import BeautifulSoup\n",
    "\n",
    "def preprocessing(text):\n",
    "    clean_data = []\n",
    "    for x in (text[:][0]):\n",
    "        clean_data =  BeautifulSoup(x, 'html.parser').get_text()\n",
    "        clean_data = clean_data.lower()#to lower\n",
    "        clean_data = re.sub(r'[^\\w\\s]', '', clean_data) # remove punctuation\n",
    "        #clean_data = nltk.clean_html(clean_data)=>NotImplementedError: To remove HTML markup, use BeautifulSoup's get_text() function\n",
    "    return clean_data\n",
    "\n",
    "\n",
    "def preprocessingdf(text):\n",
    "    #print(text)\n",
    "    #clean_data = []\n",
    "    clean_data = text\n",
    "    clean_data = clean_data.lower()#to lower\n",
    "    clean_data = BeautifulSoup(clean_data, 'html.parser').get_text()\n",
    "    return clean_data\n",
    "\n",
    "test = ['You<p> like &nbsp; to eat apples. He has eaten many apples because he likes eating.']\n",
    "test_pd = pd.DataFrame(data = test) #makes this into a panda data frame\n",
    "clean_test = preprocessing(test_pd) #removes punctuation, see above\n",
    "clean_test"
   ]
  },
  {
   "cell_type": "code",
   "execution_count": null,
   "metadata": {
    "collapsed": true
   },
   "outputs": [],
   "source": [
    "data_question['body'][1:9]"
   ]
  },
  {
   "cell_type": "code",
   "execution_count": null,
   "metadata": {
    "collapsed": true
   },
   "outputs": [],
   "source": [
    "data_question['body'][1:9].apply(preprocessingdf)\n",
    "#data_question['clean_body'] = data_question['body'].apply(lambda x : preprocessing(x))\n"
   ]
  },
  {
   "cell_type": "code",
   "execution_count": null,
   "metadata": {
    "collapsed": true
   },
   "outputs": [],
   "source": [
    "data_preprocessed = data_question['body'][1:9].apply(tagText.preprocessing)\n",
    "print(data_preprocessed)"
   ]
  },
  {
   "cell_type": "code",
   "execution_count": null,
   "metadata": {
    "collapsed": true
   },
   "outputs": [],
   "source": [
    "tagText.cleanIngred('i accidentally ')"
   ]
  },
  {
   "cell_type": "code",
   "execution_count": null,
   "metadata": {
    "collapsed": true
   },
   "outputs": [],
   "source": [
    "data_question.head()"
   ]
  },
  {
   "cell_type": "code",
   "execution_count": null,
   "metadata": {
    "collapsed": true
   },
   "outputs": [],
   "source": [
    "data_question.iteritems()"
   ]
  },
  {
   "cell_type": "code",
   "execution_count": null,
   "metadata": {
    "collapsed": true
   },
   "outputs": [],
   "source": [
    "import nltk\n",
    "from collections import defaultdict\n",
    "    \n",
    "corpora = defaultdict(list)\n",
    "        \n",
    "tokenizer = nltk.RegexpTokenizer(r'\\w+')\n",
    "for id, row in data_preprocessed.iteritems():\n",
    "    for word in tokenizer.tokenize(row):\n",
    "        if not word in corpora :\n",
    "            corpora[word] = 0\n",
    "        #print(word)\n",
    "        corpora[word] += 1\n",
    "    \n",
    "\n",
    "#print(corpora)\n",
    "print(sorted(corpora.items(), reverse=True,  key=lambda x: x[1]))"
   ]
  },
  {
   "cell_type": "code",
   "execution_count": null,
   "metadata": {
    "collapsed": true
   },
   "outputs": [],
   "source": [
    "def count_word_occurencies(df):\n",
    "        corpora = defaultdict(list)                \n",
    "        tokenizer = nltk.RegexpTokenizer(r'\\w+')\n",
    "        for id, row in df.iteritems():\n",
    "            for word in tokenizer.tokenize(row):\n",
    "                if not word in corpora :\n",
    "                    corpora[word] = 0\n",
    "                #print(word)\n",
    "                corpora[word] += 1\n",
    "        \n",
    "        corpora = dict((k, v) for k, v in corpora.items() if v > 1)\n",
    "        return (sorted(corpora.items(), reverse=True,  key=lambda x: x[1]))"
   ]
  },
  {
   "cell_type": "code",
   "execution_count": null,
   "metadata": {
    "collapsed": true
   },
   "outputs": [],
   "source": [
    "count_word_occurencies(data_preprocessed)"
   ]
  },
  {
   "cell_type": "code",
   "execution_count": null,
   "metadata": {
    "collapsed": true
   },
   "outputs": [],
   "source": [
    "print(tagText.count_word_occurencies(data_preprocessed))"
   ]
  },
  {
   "cell_type": "code",
   "execution_count": null,
   "metadata": {
    "collapsed": true
   },
   "outputs": [],
   "source": [
    "data_preprocessed = data_question['body'].apply(tagText.preprocessing)\n",
    "word_occurence_count = tagText.count_word_occurencies(data_preprocessed)\n",
    "word_occurence_count_df = pd.DataFrame.from_dict(word_occurence_count).describe()"
   ]
  },
  {
   "cell_type": "code",
   "execution_count": null,
   "metadata": {
    "collapsed": true
   },
   "outputs": [],
   "source": [
    "word_occurence_count_df.head(100)"
   ]
  },
  {
   "cell_type": "code",
   "execution_count": null,
   "metadata": {
    "collapsed": true
   },
   "outputs": [],
   "source": [
    "word_occurence_count_df.plot(kind='bar', color=\"#f56900\", title='occurence of word')"
   ]
  },
  {
   "cell_type": "code",
   "execution_count": null,
   "metadata": {
    "collapsed": true,
    "scrolled": true
   },
   "outputs": [],
   "source": [
    "dict_tag = count_word_occurencies(data_preprocessed)\n",
    "dict_tag = str(dict_tag)\n",
    "dict_tag"
   ]
  },
  {
   "cell_type": "code",
   "execution_count": null,
   "metadata": {
    "collapsed": true
   },
   "outputs": [],
   "source": [
    "tagText.unsupervised_tag(dict_tag, \"like git branche totot, test\", 2)"
   ]
  },
  {
   "cell_type": "code",
   "execution_count": null,
   "metadata": {
    "collapsed": true
   },
   "outputs": [],
   "source": [
    "def unsupervised_tag(dict_word_key, new_question, number_max_tag):\n",
    "    tags = [word for word in new_question.split() if (word in dict_word_key)]\n",
    "    return tags[0:number_max_tag]\n",
    "\n",
    "print(unsupervised_tag(dict_tag, \"like git branche totot, test\", 20))\n",
    "print(unsupervised_tag(dict_tag, \"like git branche totot, test\", 2))\n",
    "#for word in \"like git branche totot, test\".split() if (word in dict_word_key)"
   ]
  },
  {
   "cell_type": "code",
   "execution_count": null,
   "metadata": {
    "collapsed": true
   },
   "outputs": [],
   "source": [
    "for word in \"like git branche totot, test\".split() :\n",
    "    print(word)\n",
    "    if word in str(dict_tag) :\n",
    "        print(\"!!!Yes!!!\")"
   ]
  },
  {
   "cell_type": "code",
   "execution_count": null,
   "metadata": {
    "collapsed": true
   },
   "outputs": [],
   "source": [
    "print(nltk.word_tokenize(data_question['body'][0])[0:10])\n",
    "print(nltk.tokenize.WhitespaceTokenizer().tokenize(data_question['body'][0])[0:10])\n",
    "# Tokenize using Punctuations\n",
    "print(nltk.tokenize.WordPunctTokenizer().tokenize(data_question['body'][0])[0:10])\n",
    "print(nltk.tokenize.TreebankWordTokenizer().tokenize(data_question['body'][0])[0:10])"
   ]
  },
  {
   "cell_type": "code",
   "execution_count": null,
   "metadata": {
    "collapsed": true
   },
   "outputs": [],
   "source": [
    "\n",
    "from string import punctuation as ponctuation\n",
    "ponctuation"
   ]
  },
  {
   "cell_type": "code",
   "execution_count": null,
   "metadata": {
    "collapsed": true
   },
   "outputs": [],
   "source": []
  },
  {
   "cell_type": "code",
   "execution_count": null,
   "metadata": {
    "collapsed": true
   },
   "outputs": [],
   "source": []
  },
  {
   "cell_type": "code",
   "execution_count": null,
   "metadata": {
    "collapsed": true
   },
   "outputs": [],
   "source": []
  }
 ],
 "metadata": {
  "anaconda-cloud": {},
  "kernelspec": {
   "display_name": "Python [conda root]",
   "language": "python",
   "name": "conda-root-py"
  },
  "language_info": {
   "codemirror_mode": {
    "name": "ipython",
    "version": 3
   },
   "file_extension": ".py",
   "mimetype": "text/x-python",
   "name": "python",
   "nbconvert_exporter": "python",
   "pygments_lexer": "ipython3",
   "version": "3.5.2"
  }
 },
 "nbformat": 4,
 "nbformat_minor": 2
}
