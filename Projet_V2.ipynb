{
 "cells": [
  {
   "cell_type": "markdown",
   "metadata": {},
   "source": [
    "<p style=\"font-family: Arial; font-size:2.75em;color:blue; font-style:bold\"><br>\n",
    "Projet 6 :<br><br>\n",
    "Catégorisez automatiquement des questions<br><br>\n",
    "</p><br>\n",
    "\n",
    "* **Data Source / Data Source :** \n",
    "    - Data :\n",
    "        - Outils d'extraction de data : https://data.stackexchange.com/stackoverflow\n",
    "        - Script : https://github.com/EricJacquesPro/TextCategorization/blob/master/SQL/ExtractionDonnees.sql\n",
    "    - Source Python : https://github.com/EricJacquesPro/TextCategorization\n",
    "* **Description / Description : ** Projet 6 de la formation Data Scientist Proposée par OpenClassroom\n",
    "    - Analyse\n",
    "    - Entrainement\n",
    "* **Auteur / Author : ** Eric JACQUES \n",
    "* **Date : ** 06/08/2019 "
   ]
  },
  {
   "cell_type": "markdown",
   "metadata": {},
   "source": [
    "<p style=\"font-family: Arial; font-size:1.75em;color:#2462C0; font-style:bold\"><br>\n",
    "I - Sélection des datas entrantes</p>"
   ]
  },
  {
   "cell_type": "markdown",
   "metadata": {},
   "source": [
    "Stack overfloaw met a disposition un outils en ligne permettant d'extraire le contenu de post diffusés sur le site internet.\n",
    "(https://data.stackexchange.com/stackoverflow)<br>\n",
    "En se basant sur la structure de la base de données(https://i.stack.imgur.com/JZHsN.png), il en ressort des données (tables) plus intéressantes que d'autres : Post, type de post, Tag, tags des posts <br>\n",
    "Pour notre cas, tous les posts ne sont pas intéressants : Supprimé, score null, sans réponse, type de post....<br>\n",
    "<br>\n",
    "Parmis les posts, les données les plus explicites qui permettent de connaitre leurs sujets sont le body.<br>\n",
    "<br>\n",
    "Script téléchargeable sur https://github.com/EricJacquesPro/TextCategorization/blob/master/SQL/ExtractionDonnees.sql\n",
    "\n"
   ]
  },
  {
   "cell_type": "markdown",
   "metadata": {},
   "source": [
    "<p style=\"font-family: Arial; font-size:1.75em;color:#2462C0; font-style:bold\"><br>\n",
    "II - Data cleaning & preprocessing</p>"
   ]
  },
  {
   "cell_type": "code",
   "execution_count": null,
   "metadata": {
    "collapsed": true
   },
   "outputs": [],
   "source": []
  },
  {
   "cell_type": "code",
   "execution_count": 1,
   "metadata": {
    "collapsed": true
   },
   "outputs": [],
   "source": [
    "import sys\n",
    "import os\n",
    "import numpy as np\n",
    "import pandas as pd\n",
    "sys.path.insert(0, './Python/')"
   ]
  },
  {
   "cell_type": "code",
   "execution_count": 2,
   "metadata": {},
   "outputs": [
    {
     "name": "stderr",
     "output_type": "stream",
     "text": [
      "C:\\Users\\naru_\\Anaconda3\\lib\\site-packages\\gensim\\utils.py:865: UserWarning: detected Windows; aliasing chunkize to chunkize_serial\n",
      "  warnings.warn(\"detected Windows; aliasing chunkize to chunkize_serial\")\n"
     ]
    }
   ],
   "source": [
    "'''\n",
    "python class for the data engineering (reading, cleaning, training...)\n",
    "localised in ./Python\n",
    "'''\n",
    "from tagText import TagText "
   ]
  },
  {
   "cell_type": "code",
   "execution_count": 3,
   "metadata": {},
   "outputs": [
    {
     "name": "stdout",
     "output_type": "stream",
     "text": [
      "Data/\n",
      "QuestionVsTags.csv\n"
     ]
    },
    {
     "data": {
      "text/html": [
       "<div>\n",
       "<style>\n",
       "    .dataframe thead tr:only-child th {\n",
       "        text-align: right;\n",
       "    }\n",
       "\n",
       "    .dataframe thead th {\n",
       "        text-align: left;\n",
       "    }\n",
       "\n",
       "    .dataframe tbody tr th {\n",
       "        vertical-align: top;\n",
       "    }\n",
       "</style>\n",
       "<table border=\"1\" class=\"dataframe\">\n",
       "  <thead>\n",
       "    <tr style=\"text-align: right;\">\n",
       "      <th></th>\n",
       "      <th>Id</th>\n",
       "      <th>body</th>\n",
       "      <th>title</th>\n",
       "      <th>tags</th>\n",
       "      <th>SelectedTags</th>\n",
       "      <th>Name</th>\n",
       "    </tr>\n",
       "  </thead>\n",
       "  <tbody>\n",
       "    <tr>\n",
       "      <th>0</th>\n",
       "      <td>11227809</td>\n",
       "      <td>&lt;p&gt;Here is a piece of C++ code that shows some...</td>\n",
       "      <td>Why is processing a sorted array faster than p...</td>\n",
       "      <td>&lt;java&gt;&lt;c++&gt;&lt;performance&gt;&lt;optimization&gt;&lt;branch-...</td>\n",
       "      <td>java,c++,performance,optimization,</td>\n",
       "      <td>Question</td>\n",
       "    </tr>\n",
       "    <tr>\n",
       "      <th>1</th>\n",
       "      <td>927358</td>\n",
       "      <td>&lt;p&gt;I accidentally committed the wrong files to...</td>\n",
       "      <td>How do I undo the most recent local commits in...</td>\n",
       "      <td>&lt;git&gt;&lt;version-control&gt;&lt;git-commit&gt;&lt;undo&gt;&lt;pre-c...</td>\n",
       "      <td>git,version-control,git-commit,</td>\n",
       "      <td>Question</td>\n",
       "    </tr>\n",
       "    <tr>\n",
       "      <th>2</th>\n",
       "      <td>2003505</td>\n",
       "      <td>&lt;p&gt;I want to delete a branch both locally and ...</td>\n",
       "      <td>How do I delete a Git branch locally and remot...</td>\n",
       "      <td>&lt;git&gt;&lt;version-control&gt;&lt;git-branch&gt;&lt;git-push&gt;&lt;g...</td>\n",
       "      <td>git,version-control,git-branch,git-push,</td>\n",
       "      <td>Question</td>\n",
       "    </tr>\n",
       "    <tr>\n",
       "      <th>3</th>\n",
       "      <td>292357</td>\n",
       "      <td>&lt;p&gt;What are the differences between &lt;code&gt;git ...</td>\n",
       "      <td>What is the difference between 'git pull' and ...</td>\n",
       "      <td>&lt;git&gt;&lt;version-control&gt;&lt;git-pull&gt;&lt;git-fetch&gt;</td>\n",
       "      <td>git,version-control,</td>\n",
       "      <td>Question</td>\n",
       "    </tr>\n",
       "    <tr>\n",
       "      <th>4</th>\n",
       "      <td>477816</td>\n",
       "      <td>&lt;p&gt;I've been messing around with &lt;a href=\"http...</td>\n",
       "      <td>What is the correct JSON content type?</td>\n",
       "      <td>&lt;json&gt;&lt;http-headers&gt;&lt;content-type&gt;</td>\n",
       "      <td>json,http-headers,content-type,</td>\n",
       "      <td>Question</td>\n",
       "    </tr>\n",
       "  </tbody>\n",
       "</table>\n",
       "</div>"
      ],
      "text/plain": [
       "         Id                                               body  \\\n",
       "0  11227809  <p>Here is a piece of C++ code that shows some...   \n",
       "1    927358  <p>I accidentally committed the wrong files to...   \n",
       "2   2003505  <p>I want to delete a branch both locally and ...   \n",
       "3    292357  <p>What are the differences between <code>git ...   \n",
       "4    477816  <p>I've been messing around with <a href=\"http...   \n",
       "\n",
       "                                               title  \\\n",
       "0  Why is processing a sorted array faster than p...   \n",
       "1  How do I undo the most recent local commits in...   \n",
       "2  How do I delete a Git branch locally and remot...   \n",
       "3  What is the difference between 'git pull' and ...   \n",
       "4             What is the correct JSON content type?   \n",
       "\n",
       "                                                tags  \\\n",
       "0  <java><c++><performance><optimization><branch-...   \n",
       "1  <git><version-control><git-commit><undo><pre-c...   \n",
       "2  <git><version-control><git-branch><git-push><g...   \n",
       "3        <git><version-control><git-pull><git-fetch>   \n",
       "4                 <json><http-headers><content-type>   \n",
       "\n",
       "                               SelectedTags      Name  \n",
       "0        java,c++,performance,optimization,  Question  \n",
       "1           git,version-control,git-commit,  Question  \n",
       "2  git,version-control,git-branch,git-push,  Question  \n",
       "3                      git,version-control,  Question  \n",
       "4           json,http-headers,content-type,  Question  "
      ]
     },
     "execution_count": 3,
     "metadata": {},
     "output_type": "execute_result"
    }
   ],
   "source": [
    "cluster_number_min = 2\n",
    "cluster_number_max = 10\n",
    "cluster_number_step = 2\n",
    "\n",
    "tagText = TagText()\n",
    "print(tagText.urlDirectory)#folder for cvs file generated by SQL query (cf. I) \n",
    "print(tagText.fileName)#name of the cvs file generated by SQL query (cf. I)\n",
    "tagText.nombre_post_entree = 4000\n",
    "tagText.precision = 4000\n",
    "data_question = tagText.read_source()\n",
    "data_question.head()"
   ]
  },
  {
   "cell_type": "code",
   "execution_count": 4,
   "metadata": {},
   "outputs": [
    {
     "data": {
      "text/html": [
       "<div>\n",
       "<style>\n",
       "    .dataframe thead tr:only-child th {\n",
       "        text-align: right;\n",
       "    }\n",
       "\n",
       "    .dataframe thead th {\n",
       "        text-align: left;\n",
       "    }\n",
       "\n",
       "    .dataframe tbody tr th {\n",
       "        vertical-align: top;\n",
       "    }\n",
       "</style>\n",
       "<table border=\"1\" class=\"dataframe\">\n",
       "  <thead>\n",
       "    <tr style=\"text-align: right;\">\n",
       "      <th></th>\n",
       "      <th>count</th>\n",
       "      <th>mean</th>\n",
       "      <th>std</th>\n",
       "      <th>min</th>\n",
       "      <th>25%</th>\n",
       "      <th>50%</th>\n",
       "      <th>75%</th>\n",
       "      <th>max</th>\n",
       "    </tr>\n",
       "  </thead>\n",
       "  <tbody>\n",
       "    <tr>\n",
       "      <th>Id</th>\n",
       "      <td>4000.0</td>\n",
       "      <td>6.089163e+06</td>\n",
       "      <td>8.258710e+06</td>\n",
       "      <td>4.0</td>\n",
       "      <td>727942.5</td>\n",
       "      <td>2735329.5</td>\n",
       "      <td>7964911.25</td>\n",
       "      <td>57456188.0</td>\n",
       "    </tr>\n",
       "  </tbody>\n",
       "</table>\n",
       "</div>"
      ],
      "text/plain": [
       "     count          mean           std  min       25%        50%         75%  \\\n",
       "Id  4000.0  6.089163e+06  8.258710e+06  4.0  727942.5  2735329.5  7964911.25   \n",
       "\n",
       "           max  \n",
       "Id  57456188.0  "
      ]
     },
     "execution_count": 4,
     "metadata": {},
     "output_type": "execute_result"
    }
   ],
   "source": [
    "data_question.describe().T"
   ]
  },
  {
   "cell_type": "code",
   "execution_count": 5,
   "metadata": {},
   "outputs": [
    {
     "name": "stdout",
     "output_type": "stream",
     "text": [
      "{'the', 'who', 'mustn', \"that'll\", 'under', 'himself', \"mightn't\", 'does', \"won't\", 'their', 'from', 'in', 'didn', 'were', 'your', 'was', 'while', 'such', 'just', 'for', 'after', \"you'll\", 'ours', 've', 'during', 'ourselves', 'wouldn', 'wasn', 'up', 'own', 'having', 'what', 'other', 'both', 'she', \"aren't\", 'herself', 'he', 'by', \"couldn't\", \"shan't\", 'you', 'whom', 'more', 'hers', 'or', 'yours', 'into', 'yourselves', \"haven't\", 'our', 'to', 'do', 'aren', 'weren', \"you've\", 'doesn', 'isn', \"hasn't\", 'itself', 'his', 'my', 'most', 'its', 'because', 'not', 'with', 'before', 'them', \"she's\", 'as', 'should', \"wouldn't\", 'further', 'only', 'ma', \"you're\", 'then', 'where', 'too', \"hadn't\", 'had', 'no', 'd', \"shouldn't\", 'this', 'if', 'mightn', 'again', \"it's\", 'myself', 'we', 't', 'of', 'so', 'll', 'can', 'her', 'themselves', \"didn't\", 'how', 'above', 'me', \"mustn't\", 'o', 'which', 'ain', 'over', 'shan', 'but', 'don', 'will', 'being', 'below', 'am', 'those', 'some', 'down', 'has', 'couldn', 'now', 'been', 'off', 'here', 're', 'him', 'few', 'did', 'about', 'same', 'hadn', 'haven', 'and', \"wasn't\", 'when', 'than', 'there', 'doing', 'until', 'have', 'out', \"doesn't\", 'is', 'very', \"you'd\", 'shouldn', 'on', 'needn', 'y', 'be', 'it', \"needn't\", 'all', 'i', 'theirs', \"should've\", 's', \"isn't\", 'yourself', 'won', 'against', 'm', 'that', 'between', 'through', 'each', 'these', 'once', 'why', 'nor', 'at', 'any', 'hasn', 'they', 'are', 'an', 'a', \"weren't\", \"don't\"}\n"
     ]
    },
    {
     "data": {
      "text/plain": [
       "'Stop word issu to nltk.corpus'"
      ]
     },
     "execution_count": 5,
     "metadata": {},
     "output_type": "execute_result"
    }
   ],
   "source": [
    "print(tagText.stopwords)\n",
    "'''Stop word issu to nltk.corpus'''"
   ]
  },
  {
   "cell_type": "code",
   "execution_count": 6,
   "metadata": {},
   "outputs": [
    {
     "data": {
      "text/plain": [
       "1    <p>I accidentally committed the wrong files to...\n",
       "2    <p>I want to delete a branch both locally and ...\n",
       "3    <p>What are the differences between <code>git ...\n",
       "4    <p>I've been messing around with <a href=\"http...\n",
       "5    <p>What is the use of the <code>yield</code> k...\n",
       "6    <p>I mistakenly added files to Git using the c...\n",
       "7    <p>After reading <a href=\"http://groups.google...\n",
       "8    <p>I don't want to rename a remote branch, as ...\n",
       "Name: body, dtype: object"
      ]
     },
     "execution_count": 6,
     "metadata": {},
     "output_type": "execute_result"
    }
   ],
   "source": [
    "data_question['body'][1:9]"
   ]
  },
  {
   "cell_type": "markdown",
   "metadata": {},
   "source": [
    "nltk stop word are not efficient.\n",
    "There are lot of html and punctuation caracters"
   ]
  },
  {
   "cell_type": "code",
   "execution_count": 4,
   "metadata": {},
   "outputs": [
    {
     "name": "stdout",
     "output_type": "stream",
     "text": [
      "1    accidentally committed wrong files git pushed ...\n",
      "2    want delete branch locally remotely failed att...\n",
      "3                       differences git pull git fetch\n",
      "4    ive messing around json time pushing text hurt...\n",
      "5    use yield keyword python do example im trying ...\n",
      "6    mistakenly added files git using command git a...\n",
      "7    reading hidden features dark corners cstl comp...\n",
      "8    want rename remote branch described rename mas...\n",
      "Name: body, dtype: object\n"
     ]
    }
   ],
   "source": [
    "data_preprocessed = data_question['body'].apply(tagText.preprocessing)\n",
    "print(data_preprocessed[1:9])"
   ]
  },
  {
   "cell_type": "code",
   "execution_count": 8,
   "metadata": {},
   "outputs": [
    {
     "data": {
      "text/html": [
       "<div>\n",
       "<style>\n",
       "    .dataframe thead tr:only-child th {\n",
       "        text-align: right;\n",
       "    }\n",
       "\n",
       "    .dataframe thead th {\n",
       "        text-align: left;\n",
       "    }\n",
       "\n",
       "    .dataframe tbody tr th {\n",
       "        vertical-align: top;\n",
       "    }\n",
       "</style>\n",
       "<table border=\"1\" class=\"dataframe\">\n",
       "  <thead>\n",
       "    <tr style=\"text-align: right;\">\n",
       "      <th></th>\n",
       "      <th>Id</th>\n",
       "      <th>body</th>\n",
       "      <th>title</th>\n",
       "      <th>tags</th>\n",
       "      <th>SelectedTags</th>\n",
       "      <th>Name</th>\n",
       "    </tr>\n",
       "  </thead>\n",
       "  <tbody>\n",
       "    <tr>\n",
       "      <th>0</th>\n",
       "      <td>11227809</td>\n",
       "      <td>&lt;p&gt;Here is a piece of C++ code that shows some...</td>\n",
       "      <td>Why is processing a sorted array faster than p...</td>\n",
       "      <td>&lt;java&gt;&lt;c++&gt;&lt;performance&gt;&lt;optimization&gt;&lt;branch-...</td>\n",
       "      <td>java,c++,performance,optimization,</td>\n",
       "      <td>Question</td>\n",
       "    </tr>\n",
       "    <tr>\n",
       "      <th>1</th>\n",
       "      <td>927358</td>\n",
       "      <td>&lt;p&gt;I accidentally committed the wrong files to...</td>\n",
       "      <td>How do I undo the most recent local commits in...</td>\n",
       "      <td>&lt;git&gt;&lt;version-control&gt;&lt;git-commit&gt;&lt;undo&gt;&lt;pre-c...</td>\n",
       "      <td>git,version-control,git-commit,</td>\n",
       "      <td>Question</td>\n",
       "    </tr>\n",
       "    <tr>\n",
       "      <th>2</th>\n",
       "      <td>2003505</td>\n",
       "      <td>&lt;p&gt;I want to delete a branch both locally and ...</td>\n",
       "      <td>How do I delete a Git branch locally and remot...</td>\n",
       "      <td>&lt;git&gt;&lt;version-control&gt;&lt;git-branch&gt;&lt;git-push&gt;&lt;g...</td>\n",
       "      <td>git,version-control,git-branch,git-push,</td>\n",
       "      <td>Question</td>\n",
       "    </tr>\n",
       "    <tr>\n",
       "      <th>3</th>\n",
       "      <td>292357</td>\n",
       "      <td>&lt;p&gt;What are the differences between &lt;code&gt;git ...</td>\n",
       "      <td>What is the difference between 'git pull' and ...</td>\n",
       "      <td>&lt;git&gt;&lt;version-control&gt;&lt;git-pull&gt;&lt;git-fetch&gt;</td>\n",
       "      <td>git,version-control,</td>\n",
       "      <td>Question</td>\n",
       "    </tr>\n",
       "    <tr>\n",
       "      <th>4</th>\n",
       "      <td>477816</td>\n",
       "      <td>&lt;p&gt;I've been messing around with &lt;a href=\"http...</td>\n",
       "      <td>What is the correct JSON content type?</td>\n",
       "      <td>&lt;json&gt;&lt;http-headers&gt;&lt;content-type&gt;</td>\n",
       "      <td>json,http-headers,content-type,</td>\n",
       "      <td>Question</td>\n",
       "    </tr>\n",
       "  </tbody>\n",
       "</table>\n",
       "</div>"
      ],
      "text/plain": [
       "         Id                                               body  \\\n",
       "0  11227809  <p>Here is a piece of C++ code that shows some...   \n",
       "1    927358  <p>I accidentally committed the wrong files to...   \n",
       "2   2003505  <p>I want to delete a branch both locally and ...   \n",
       "3    292357  <p>What are the differences between <code>git ...   \n",
       "4    477816  <p>I've been messing around with <a href=\"http...   \n",
       "\n",
       "                                               title  \\\n",
       "0  Why is processing a sorted array faster than p...   \n",
       "1  How do I undo the most recent local commits in...   \n",
       "2  How do I delete a Git branch locally and remot...   \n",
       "3  What is the difference between 'git pull' and ...   \n",
       "4             What is the correct JSON content type?   \n",
       "\n",
       "                                                tags  \\\n",
       "0  <java><c++><performance><optimization><branch-...   \n",
       "1  <git><version-control><git-commit><undo><pre-c...   \n",
       "2  <git><version-control><git-branch><git-push><g...   \n",
       "3        <git><version-control><git-pull><git-fetch>   \n",
       "4                 <json><http-headers><content-type>   \n",
       "\n",
       "                               SelectedTags      Name  \n",
       "0        java,c++,performance,optimization,  Question  \n",
       "1           git,version-control,git-commit,  Question  \n",
       "2  git,version-control,git-branch,git-push,  Question  \n",
       "3                      git,version-control,  Question  \n",
       "4           json,http-headers,content-type,  Question  "
      ]
     },
     "execution_count": 8,
     "metadata": {},
     "output_type": "execute_result"
    }
   ],
   "source": [
    "data_question.head()"
   ]
  },
  {
   "cell_type": "code",
   "execution_count": 9,
   "metadata": {},
   "outputs": [
    {
     "data": {
      "text/plain": [
       "count                                                  4000\n",
       "unique                                                 4000\n",
       "top       left pad int zeros converting string java im b...\n",
       "freq                                                      1\n",
       "Name: body, dtype: object"
      ]
     },
     "execution_count": 9,
     "metadata": {},
     "output_type": "execute_result"
    }
   ],
   "source": [
    "data_preprocessed.describe()"
   ]
  },
  {
   "cell_type": "markdown",
   "metadata": {},
   "source": [
    "<p style=\"font-family: Arial; font-size:1.75em;color:#2462C0; font-style:bold\"><br>\n",
    "III - Data - Bag of words</p>"
   ]
  },
  {
   "cell_type": "markdown",
   "metadata": {},
   "source": [
    "<p style=\"font-family: Arial; font-size:1.75em;color:#2462C0; font-style:bold\"><br>\n",
    "III.1 - Data - Bag of words - most frequent data</p>"
   ]
  },
  {
   "cell_type": "code",
   "execution_count": 10,
   "metadata": {},
   "outputs": [
    {
     "name": "stdout",
     "output_type": "stream",
     "text": [
      "['piece', 'c', 'code', 'shows', 'peculiar', 'behavior', 'strange', 'reason', 'sorting', 'data']\n",
      "['piece', 'c', 'code', 'shows', 'peculiar', 'behavior', 'strange', 'reason', 'sorting', 'data']\n",
      "['piece', 'c', 'code', 'shows', 'peculiar', 'behavior', 'strange', 'reason', 'sorting', 'data']\n",
      "['piece', 'c', 'code', 'shows', 'peculiar', 'behavior', 'strange', 'reason', 'sorting', 'data']\n"
     ]
    }
   ],
   "source": [
    "import nltk\n",
    "print(nltk.word_tokenize(data_preprocessed[0])[0:10])\n",
    "print(nltk.tokenize.WhitespaceTokenizer().tokenize(data_preprocessed[0])[0:10])\n",
    "# Tokenize using Punctuations\n",
    "print(nltk.tokenize.WordPunctTokenizer().tokenize(data_preprocessed[0])[0:10])\n",
    "print(nltk.tokenize.TreebankWordTokenizer().tokenize(data_preprocessed[0])[0:10])"
   ]
  },
  {
   "cell_type": "code",
   "execution_count": null,
   "metadata": {
    "collapsed": true
   },
   "outputs": [],
   "source": []
  },
  {
   "cell_type": "markdown",
   "metadata": {},
   "source": [
    "<p style=\"font-family: Arial; font-size:1.75em;color:#2462C0; font-style:bold\"><br>\n",
    "III.2 - Data - Bag of words - Nb of occurence</p>"
   ]
  },
  {
   "cell_type": "code",
   "execution_count": 11,
   "metadata": {
    "collapsed": true
   },
   "outputs": [],
   "source": [
    "import nltk\n",
    "from collections import defaultdict\n",
    "    \n",
    "corpora = defaultdict(list)\n",
    "        \n",
    "tokenizer = nltk.RegexpTokenizer(r'\\w+')\n",
    "for id, row in data_preprocessed.iteritems():\n",
    "    for word in tokenizer.tokenize(row):\n",
    "        if not word in corpora :\n",
    "            corpora[word] = 0\n",
    "        #print(word)\n",
    "        corpora[word] += 1\n",
    "    \n",
    "\n",
    "#print(corpora)\n",
    "#print(sorted(corpora.items(), reverse=True,  key=lambda x: x[1]))"
   ]
  },
  {
   "cell_type": "code",
   "execution_count": 12,
   "metadata": {
    "collapsed": true
   },
   "outputs": [],
   "source": [
    "import matplotlib.pyplot as plt\n",
    "minimum_count = 200\n",
    "def count_word_occurencies(df):\n",
    "        corpora = defaultdict(list)                \n",
    "        tokenizer = nltk.RegexpTokenizer(r'\\w+')\n",
    "        for id, row in df.iteritems():\n",
    "            for word in tokenizer.tokenize(row):\n",
    "                if not word in corpora :\n",
    "                    corpora[word] = 0\n",
    "                #print(word)\n",
    "                corpora[word] += 1\n",
    "        corpora = dict((k, v) for k, v in corpora.items() if ((v > minimum_count)))\n",
    "        sorted(corpora)\n",
    "        max_occurence = max(corpora.values())\n",
    "        min_occurence = (corpora.values())\n",
    "        min_occurence = min(corpora.values())\n",
    "        quartil1 =  np.percentile(list(corpora.values()), 25)\n",
    "        quartil3 =  np.percentile(list(corpora.values()), 75)\n",
    "        inter_quartil_range = quartil3 - quartil1\n",
    "        lower_bound = quartil1 -(1.5 * inter_quartil_range) \n",
    "        upper_bound = quartil3 +(1.5 * inter_quartil_range) \n",
    "        print (min_occurence)\n",
    "        print (max_occurence)\n",
    "        print (quartil1)\n",
    "        print (quartil3)\n",
    "        print (inter_quartil_range)\n",
    "        print (lower_bound)\n",
    "        print (upper_bound)\n",
    "        #plt.boxplot(corpora.items())\n",
    "        #print(corpora.values())\n",
    "        #quartil1 = np.percentile(corpora.values(),25)\n",
    "        corpora = dict((k, v) for k, v in corpora.items() if ((v > 1)))# and (v > lower_bound) and (v < upper_bound)))\n",
    "        return (sorted(corpora.items(), reverse=True,  key=lambda x: x[1]))"
   ]
  },
  {
   "cell_type": "markdown",
   "metadata": {},
   "source": [
    "dico = count_word_occurencies(data_preprocessed)\n"
   ]
  },
  {
   "cell_type": "code",
   "execution_count": 13,
   "metadata": {},
   "outputs": [
    {
     "name": "stdout",
     "output_type": "stream",
     "text": [
      "203\n",
      "1405\n",
      "250.0\n",
      "484.0\n",
      "234.0\n",
      "-101.0\n",
      "835.0\n"
     ]
    }
   ],
   "source": [
    "dico = count_word_occurencies(data_preprocessed)"
   ]
  },
  {
   "cell_type": "code",
   "execution_count": 14,
   "metadata": {},
   "outputs": [
    {
     "data": {
      "text/plain": [
       "125"
      ]
     },
     "execution_count": 14,
     "metadata": {},
     "output_type": "execute_result"
    }
   ],
   "source": [
    "len(dico)"
   ]
  },
  {
   "cell_type": "code",
   "execution_count": 15,
   "metadata": {},
   "outputs": [
    {
     "data": {
      "text/plain": [
       "[('like', 1405),\n",
       " ('using', 1229),\n",
       " ('use', 1190),\n",
       " ('want', 1125),\n",
       " ('way', 1115),\n",
       " ('im', 1076),\n",
       " ('code', 1031),\n",
       " ('file', 1030),\n",
       " ('git', 1010),\n",
       " ('would', 960),\n",
       " ('get', 949),\n",
       " ('new', 850),\n",
       " ('one', 845),\n",
       " ('this', 834),\n",
       " ('string', 789),\n",
       " ('1', 736),\n",
       " ('function', 638),\n",
       " ('know', 610),\n",
       " ('need', 579),\n",
       " ('example', 576),\n",
       " ('error', 566),\n",
       " ('ive', 554),\n",
       " ('class', 552),\n",
       " ('c', 546),\n",
       " ('something', 545),\n",
       " ('it', 507),\n",
       " ('files', 501),\n",
       " ('2', 500),\n",
       " ('following', 498),\n",
       " ('return', 496),\n",
       " ('python', 495),\n",
       " ('work', 484),\n",
       " ('data', 481),\n",
       " ('id', 476),\n",
       " ('var', 468),\n",
       " ('0', 467),\n",
       " ('branch', 455),\n",
       " ('set', 452),\n",
       " ('value', 452),\n",
       " ('object', 442),\n",
       " ('public', 440),\n",
       " ('div', 433),\n",
       " ('method', 426),\n",
       " ('list', 423),\n",
       " ('javascript', 410),\n",
       " ('find', 406),\n",
       " ('also', 401),\n",
       " ('int', 398),\n",
       " ('line', 381),\n",
       " ('see', 374),\n",
       " ('name', 373),\n",
       " ('question', 370),\n",
       " ('command', 368),\n",
       " ('3', 360),\n",
       " ('make', 360),\n",
       " ('tried', 358),\n",
       " ('array', 351),\n",
       " ('time', 340),\n",
       " ('trying', 338),\n",
       " ('could', 336),\n",
       " ('create', 332),\n",
       " ('add', 331),\n",
       " ('two', 330),\n",
       " ('run', 328),\n",
       " ('used', 328),\n",
       " ('difference', 325),\n",
       " ('commit', 319),\n",
       " ('script', 311),\n",
       " ('possible', 310),\n",
       " ('without', 308),\n",
       " ('text', 307),\n",
       " ('server', 306),\n",
       " ('version', 306),\n",
       " ('first', 305),\n",
       " ('java', 293),\n",
       " ('i', 293),\n",
       " ('changes', 290),\n",
       " ('directory', 283),\n",
       " ('b', 282),\n",
       " ('problem', 280),\n",
       " ('seems', 279),\n",
       " ('type', 277),\n",
       " ('different', 274),\n",
       " ('user', 270),\n",
       " ('however', 269),\n",
       " ('application', 269),\n",
       " ('project', 268),\n",
       " ('cant', 264),\n",
       " ('a', 262),\n",
       " ('working', 262),\n",
       " ('found', 260),\n",
       " ('number', 255),\n",
       " ('x', 253),\n",
       " ('update', 250),\n",
       " ('test', 250),\n",
       " ('repository', 244),\n",
       " ('table', 238),\n",
       " ('values', 238),\n",
       " ('output', 235),\n",
       " ('input', 234),\n",
       " ('select', 231),\n",
       " ('best', 231),\n",
       " ('case', 230),\n",
       " ('another', 230),\n",
       " ('php', 228),\n",
       " ('master', 227),\n",
       " ('change', 226),\n",
       " ('page', 225),\n",
       " ('simple', 223),\n",
       " ('key', 222),\n",
       " ('jquery', 222),\n",
       " ('5', 216),\n",
       " ('whats', 215),\n",
       " ('element', 214),\n",
       " ('call', 211),\n",
       " ('static', 209),\n",
       " ('variable', 208),\n",
       " ('works', 208),\n",
       " ('is', 208),\n",
       " ('try', 208),\n",
       " ('read', 207),\n",
       " ('understand', 207),\n",
       " ('better', 206),\n",
       " ('database', 205),\n",
       " ('instead', 203)]"
      ]
     },
     "execution_count": 15,
     "metadata": {},
     "output_type": "execute_result"
    }
   ],
   "source": [
    "dico"
   ]
  },
  {
   "cell_type": "code",
   "execution_count": 16,
   "metadata": {},
   "outputs": [
    {
     "name": "stdout",
     "output_type": "stream",
     "text": [
      "[('like', 1405), ('using', 1229), ('use', 1190), ('want', 1125), ('way', 1115), ('im', 1076), ('code', 1031), ('file', 1030), ('git', 1010), ('would', 960), ('get', 949), ('new', 850), ('one', 845), ('this', 834), ('string', 789), ('1', 736), ('function', 638), ('know', 610), ('need', 579), ('example', 576), ('error', 566), ('ive', 554), ('class', 552), ('c', 546), ('something', 545), ('it', 507), ('files', 501), ('2', 500), ('following', 498), ('return', 496), ('python', 495), ('work', 484), ('data', 481), ('id', 476), ('var', 468), ('0', 467), ('branch', 455), ('set', 452), ('value', 452), ('object', 442), ('public', 440), ('div', 433), ('method', 426), ('list', 423), ('javascript', 410), ('find', 406), ('also', 401), ('int', 398), ('line', 381), ('see', 374), ('name', 373), ('question', 370), ('command', 368), ('make', 360), ('3', 360), ('tried', 358), ('array', 351), ('time', 340), ('trying', 338), ('could', 336), ('create', 332), ('add', 331), ('two', 330), ('used', 328), ('run', 328), ('difference', 325), ('commit', 319), ('script', 311), ('possible', 310), ('without', 308), ('text', 307), ('version', 306), ('server', 306), ('first', 305), ('java', 293), ('i', 293), ('changes', 290), ('directory', 283), ('b', 282), ('problem', 280), ('seems', 279), ('type', 277), ('different', 274), ('user', 270), ('however', 269), ('application', 269), ('project', 268), ('cant', 264), ('working', 262), ('a', 262), ('found', 260), ('number', 255), ('x', 253), ('update', 250), ('test', 250), ('repository', 244), ('values', 238), ('table', 238), ('output', 235), ('input', 234), ('select', 231), ('best', 231), ('case', 230), ('another', 230), ('php', 228), ('master', 227), ('change', 226), ('page', 225), ('simple', 223), ('key', 222), ('jquery', 222), ('5', 216), ('whats', 215), ('element', 214), ('call', 211), ('static', 209), ('is', 208), ('works', 208), ('variable', 208), ('try', 208), ('read', 207), ('understand', 207), ('better', 206), ('database', 205), ('instead', 203), ('that', 199), ('solution', 199), ('still', 196), ('looking', 196), ('remote', 195), ('html', 193), ('methods', 192), ('right', 191), ('check', 190), ('4', 190), ('current', 189), ('local', 188), ('say', 188), ('able', 187), ('so', 187), ('null', 186), ('even', 186), ('good', 185), ('true', 183), ('remove', 181), ('foo', 180), ('android', 179), ('import', 178), ('image', 177), ('answer', 176), ('always', 175), ('since', 174), ('result', 174), ('date', 173), ('really', 172), ('request', 171), ('main', 171), ('install', 171), ('please', 171), ('css', 171), ('app', 170), ('n', 169), ('think', 167), ('void', 164), ('many', 164), ('write', 164), ('running', 163), ('form', 160), ('done', 159), ('back', 158), ('web', 158), ('loop', 158), ('print', 156), ('objects', 155), ('program', 155), ('mean', 154), ('else', 154), ('order', 152), ('sure', 152), ('convert', 152), ('every', 148), ('here', 147), ('seem', 147), ('called', 147), ('wrong', 146), ('default', 146), ('go', 145), ('may', 145), ('anyone', 144), ('note', 144), ('access', 143), ('syntax', 143), ('false', 142), ('cannot', 142), ('option', 142), ('end', 142), ('windows', 141), ('inside', 140), ('source', 140), ('already', 140), ('specific', 140), ('private', 139), ('etc', 139), ('exception', 139), ('delete', 138), ('include', 138), ('property', 137), ('lines', 136), ('got', 136), ('message', 135), ('someone', 135), ('anything', 135), ('push', 135), ('exactly', 134), ('url', 134), ('long', 134), ('well', 134), ('given', 133), ('merge', 133), ('10', 133), ('do', 133), ('eg', 132), ('correct', 132), ('button', 131), ('view', 131), ('npm', 130), ('content', 129), ('things', 128), ('look', 128), ('path', 128), ('getting', 127), ('last', 126), ('elements', 126), ('ie', 126), ('idea', 125), ('start', 124), ('module', 124), ('sql', 123), ('field', 123), ('returns', 123), ('put', 122), ('created', 122), ('status', 122), ('either', 122), ('people', 121), ('going', 121), ('copy', 121), ('edit', 121), ('functions', 121), ('and', 121), ('post', 120), ('instance', 120), ('system', 120), ('point', 120), ('looks', 119), ('json', 119), ('times', 118), ('commits', 118), ('multiple', 117), ('item', 117), ('must', 116), ('8', 116), ('package', 116), ('studio', 116), ('pull', 116), ('me', 115), ('around', 115), ('single', 115), ('show', 114), ('thing', 114), ('made', 113), ('fine', 113), ('within', 113), ('added', 113), ('second', 112), ('character', 112), ('contains', 111), ('seen', 111), ('not', 111), ('def', 111), ('folder', 110), ('index', 110), ('now', 110), ('r', 110), ('characters', 110), ('similar', 110), ('library', 109), ('lot', 109), ('actually', 109), ('height', 109), ('process', 108), ('format', 108), ('head', 107), ('count', 107), ('branches', 107), ('build', 107), ('them', 107), ('state', 107), ('currently', 107), ('size', 107), ('help', 107), ('activity', 107), ('d', 106), ('much', 106), ('standard', 106), ('images', 106), ('easy', 105), ('empty', 104), ('column', 104), ('information', 104), ('github', 104), ('results', 103), ('give', 103), ('bit', 102), ('for', 102), ('take', 101), ('s', 101), ('or', 101), ('documentation', 100), ('browser', 100), ('missing', 100), ('6', 100), ('e', 100), ('t', 99), ('open', 99), ('variables', 99), ('bash', 99), ('far', 98), ('api', 98), ('query', 98), ('classes', 98), ('whether', 98), ('keep', 97), ('might', 97), ('tag', 97), ('thought', 97), ('link', 97), ('step', 97), ('issue', 96), ('google', 96), ('in', 95), ('based', 95), ('interface', 95), ('100', 94), ('pass', 94), ('examples', 94), ('explain', 93), ('log', 93), ('header', 93), ('visual', 92), ('part', 92), ('performance', 92), ('installed', 91), ('memory', 91), ('strings', 91), ('several', 91), ('node', 91), ('rather', 91), ('changed', 91), ('none', 90), ('bar', 90), ('compile', 90), ('via', 90), ('everything', 90), ('nodejs', 90), ('feature', 90), ('echo', 89), ('simply', 89), ('display', 89), ('stack', 89), ('linux', 88), ('makes', 88), ('particular', 88), ('available', 88), ('language', 87), ('nothing', 87), ('http', 87), ('mysql', 87), ('reason', 87), ('container', 87), ('answers', 87), ('attribute', 87), ('names', 86), ('gives', 86), ('writing', 86), ('three', 86), ('options', 85), ('questions', 85), ('creating', 85), ('style', 84), ('uses', 84), ('with', 84), ('define', 84), ('exists', 84), ('shows', 83), ('f', 83), ('reference', 83), ('load', 83), ('insert', 83), ('20', 83), ('tell', 82), ('os', 82), ('store', 82), ('event', 82), ('next', 82), ('operator', 82), ('certain', 82), ('p', 82), ('site', 81), ('thats', 81), ('properties', 81), ('heres', 81), ('development', 81), ('eclipse', 80), ('on', 80), ('const', 80), ('differences', 80), ('types', 79), ('background', 79), ('replace', 79), ('figure', 79), ('defined', 79), ('7', 79), ('often', 78), ('though', 78), ('reset', 78), ('rows', 77), ('equivalent', 77), ('checkout', 77), ('unexpected', 77), ('origin', 77), ('users', 77), ('never', 77), ('clear', 76), ('thread', 76), ('client', 76), ('says', 75), ('items', 75), ('password', 75), ('real', 75), ('below', 75), ('lets', 75), ('quite', 75), ('wondering', 75), ('control', 75), ('handle', 75), ('errors', 74), ('width', 74), ('programming', 74), ('statement', 74), ('stuff', 74), ('yet', 73), ('failed', 73), ('break', 73), ('let', 73), ('screen', 73), ('columns', 73), ('framework', 73), ('loadmodule', 73), ('modified', 72), ('color', 72), ('ways', 72), ('resource', 72), ('override', 72), ('structure', 71), ('console', 71), ('docker', 71), ('arguments', 71), ('appears', 71), ('little', 71), ('except', 71), ('theres', 71), ('come', 70), ('projects', 70), ('search', 70), ('task', 70), ('sort', 70), ('to', 70), ('window', 70), ('hello', 70), ('commands', 70), ('achieve', 69), ('parent', 69), ('save', 69), ('exist', 69), ('less', 69), ('hard', 68), ('old', 68), ('means', 68), ('matter', 68), ('needs', 68), ('original', 67), ('checked', 67), ('started', 67), ('xml', 67), ('clone', 67), ('location', 67), ('existing', 67), ('repo', 66), ('as', 66), ('kind', 66), ('address', 66), ('sometimes', 66), ('integer', 66), ('seconds', 66), ('fix', 65), ('chrome', 65), ('pretty', 65), ('service', 65), ('random', 65), ('configuration', 65), ('send', 65), ('points', 64), ('row', 64), ('response', 64), ('parameter', 64), ('which', 64), ('loaded', 64), ('support', 63), ('join', 63), ('large', 63), ('implement', 63), ('machine', 63), ('takes', 63), ('apply', 63), ('why', 63), ('numbers', 63), ('move', 62), ('least', 62), ('host', 62), ('ideas', 62), ('problems', 62), ('stash', 62), ('compiler', 62), ('double', 62), ('across', 62), ('body', 61), ('undefined', 61), ('cases', 61), ('contain', 61), ('net', 61), ('related', 61), ('left', 61), ('world', 61), ('design', 60), ('length', 60), ('grep', 60), ('place', 60), ('adding', 60), ('approach', 60), ('wanted', 60), ('tags', 60), ('datetime', 60), ('behavior', 60), ('avoid', 59), ('thanks', 59), ('testing', 59), ('correctly', 59), ('dataframe', 59), ('vs', 59), ('other', 59), ('click', 59), ('reading', 59), ('maybe', 59), ('pattern', 59), ('assembly', 59), ('functionality', 59), ('email', 58), ('map', 58), ('9', 58), ('ajax', 58), ('all', 58), ('full', 58), ('again', 58), ('directly', 57), ('later', 57), ('expression', 57), ('messages', 57), ('implementation', 57), ('updated', 57), ('img', 57), ('block', 57), ('solutions', 57), ('faster', 57), ('probably', 57), ('the', 57), ('top', 57), ('basically', 56), ('whole', 56), ('level', 56), ('m', 56), ('ruby', 56), ('common', 56), ('general', 56), ('char', 56), ('recently', 56), ('parameters', 56), ('argument', 55), ('stored', 55), ('rest', 55), ('nice', 55), ('course', 55), ('shell', 55), ('tables', 55), ('up', 55), ('required', 55), ('rebase', 54), ('specify', 54), ('regular', 54), ('small', 54), ('dependency', 54), ('model', 54), ('out', 54), ('versions', 53), ('catch', 53), ('important', 53), ('issues', 53), ('space', 53), ('per', 53), ('section', 53), ('tools', 52), ('position', 52), ('vim', 52), ('cache', 52), ('algorithm', 52), ('but', 52), ('args', 52), ('overflow', 52), ('foreach', 52), ('recent', 52), ('worked', 52), ('dictionary', 52), ('word', 52), ('comment', 52), ('enter', 52), ('g', 52), ('j', 52), ('tree', 52), ('assume', 52), ('ul', 51), ('needed', 51), ('basic', 51), ('layout', 51), ('manually', 51), ('swift', 51), ('understanding', 51), ('constructor', 51), ('enum', 51), ('browsers', 51), ('12', 51), ('setting', 51), ('warning', 51), ('allow', 51), ('scripts', 51), ('provide', 51), ('000', 51), ('download', 50), ('str', 50), ('context', 50), ('latest', 50), ('15', 50), ('usually', 50), ('others', 50), ('operators', 50), ('abstract', 50), ('red', 50), ('match', 50), ('various', 50), ('abc', 50), ('generate', 50), ('aspnet', 50), ('asked', 49), ('l', 49), ('device', 49), ('clean', 49), ('thinking', 49), ('containing', 49), ('expected', 49), ('root', 49), ('confused', 49), ('filename', 49), ('solve', 49), ('there', 49), ('custom', 49), ('entire', 49), ('split', 48), ('selected', 48), ('of', 48), ('committed', 48), ('automatically', 48), ('valid', 48), ('0125', 48), ('tests', 48), ('action', 48), ('environment', 47), ('ignore', 47), ('port', 47), ('throw', 47), ('execution', 47), ('pip', 47), ('suppose', 47), ('group', 47), ('words', 47), ('fields', 47), ('duplicate', 47), ('comments', 47), ('arrays', 47), ('controller', 47), ('relative', 47), ('template', 46), ('references', 46), ('determine', 46), ('great', 46), ('deleted', 46), ('gets', 46), ('ok', 46), ('consider', 46), ('keyword', 46), ('final', 46), ('situation', 46), ('runs', 46), ('from', 46), ('boolean', 46), ('previous', 45), ('specifically', 45), ('usage', 45), ('30', 45), ('y', 45), ('keys', 45), ('err', 45), ('async', 45), ('named', 45), ('features', 45), ('calling', 45), ('useful', 45), ('perhaps', 45), ('requests', 45), ('xcode', 44), ('normal', 44), ('came', 44), ('person', 44), ('software', 44), ('written', 44), ('contents', 44), ('checking', 44), ('above', 44), ('happens', 44), ('u', 44), ('explanation', 44), ('config', 44), ('textview', 44), ('prefer', 44), ('terminal', 44), ('separate', 44), ('enough', 44), ('sense', 43), ('title', 43), ('nan', 43), ('utf8', 43), ('looked', 43), ('obj', 43), ('v', 43), ('ssh', 43), ('mac', 43), ('building', 43), ('switch', 43), ('mode', 43), ('us', 43), ('dependencies', 43), ('complete', 43), ('close', 43), ('developer', 42), ('specified', 42), ('allows', 42), ('computer', 42), ('longer', 42), ('diff', 42), ('easier', 42), ('collection', 42), ('side', 42), ('obviously', 42), ('extends', 42), ('history', 42), ('unfortunately', 42), ('article', 42), ('extra', 42), ('actual', 42), ('internet', 42), ('filter', 42), ('lists', 42), ('supposed', 41), ('returned', 41), ('session', 41), ('force', 41), ('builtin', 41), ('setup', 41), ('yes', 41), ('ill', 41), ('render', 41), ('entity', 41), ('base', 41), ('extension', 41), ('fast', 41), ('16', 41), ('short', 41), ('tool', 41), ('component', 41), ('completely', 41), ('child', 40), ('outside', 40), ('bad', 40), ('center', 40), ('purpose', 40), ('thus', 40), ('requires', 40), ('errorandroidruntime3896', 40), ('too', 40), ('sent', 40), ('terms', 40), ('according', 40), ('comparison', 40), ('making', 40), ('if', 40), ('languages', 40), ('target', 40), ('continue', 39), ('scope', 39), ('records', 39), ('11', 39), ('encoding', 39), ('practice', 39), ('big', 39), ('guess', 39), ('efficient', 39), ('span', 39), ('generated', 39), ('reasons', 39), ('future', 39), ('asking', 39), ('execute', 39), ('easily', 39), ('obvious', 39), ('050549917', 39), ('z', 38), ('fatal', 38), ('virtual', 38), ('stop', 38), ('inner', 38), ('range', 38), ('accept', 38), ('feel', 38), ('due', 38), ('fact', 38), ('applications', 38), ('username', 38), ('libraries', 37), ('unicode', 37), ('necessary', 37), ('namespace', 37), ('special', 37), ('border', 37), ('firefox', 37), ('inline', 37), ('document', 37), ('django', 37), ('iterate', 37), ('box', 37), ('rails', 37), ('pushed', 37), ('built', 37), ('prints', 37), ('directories', 37), ('bug', 37), ('fragment', 37), ('allowed', 36), ('global', 36), ('details', 36), ('events', 36), ('including', 36), ('properly', 36), ('gitignore', 36), ('somehow', 36), ('require', 36), ('are', 36), ('fairly', 36), ('binary', 36), ('debug', 36), ('website', 36), ('settings', 36), ('happen', 36), ('modules', 36), ('compiled', 36), ('calls', 36), ('ones', 36), ('were', 36), ('menu', 36), ('almost', 36), ('throws', 35), ('sample', 35), ('most', 35), ('callback', 35), ('excel', 35), ('appear', 35), ('unit', 35), ('unable', 35), ('apparently', 35), ('compare', 35), ('export', 35), ('expect', 35), ('50', 35), ('svn', 35), ('disable', 35), ('suggestions', 35), ('info', 35), ('ios', 35), ('perform', 35), ('express', 34), ('o', 34), ('fails', 34), ('13', 34), ('declare', 34), ('age', 34), ('plugin', 34), ('float', 34), ('years', 34), ('present', 34), ('executed', 34), ('hash', 34), ('aware', 34), ('along', 34), ('exit', 34), ('debug1', 34), ('primary', 34), ('js', 34), ('connection', 34), ('parse', 34), ('pointer', 33), ('definition', 33), ('postgresql', 33), ('suggested', 33), ('functional', 33), ('turn', 33), ('otherwise', 33), ('editor', 33), ('patterns', 33), ('links', 33), ('ever', 33), ('somewhere', 33), ('noticed', 33), ('headers', 33), ('proper', 33), ('li', 33), ('couple', 33), ('pandas', 33), ('unique', 33), ('ran', 33), ('handling', 33), ('keyboard', 33), ('queries', 33), ('prevent', 33), ('sum', 33), ('together', 33), ('runtime', 33), ('detect', 33), ('authentication', 32), ('handler', 32), ('elegant', 32), ('hashmap', 32), ('day', 32), ('rm', 32), ('john', 32), ('byte', 32), ('append', 32), ('become', 32), ('learning', 32), ('places', 32), ('phase', 32), ('rounded', 32), ('slow', 32), ('no', 32), ('curl', 32), ('sudo', 32), ('folders', 32), ('25', 32), ('implemented', 32), ('mentioned', 32), ('shown', 32), ('bottom', 32), ('have', 32), ('fetch', 31), ('fail', 31), ('you', 31), ('free', 31), ('scenario', 31), ('modify', 31), ('does', 31), ('successfully', 31), ('goes', 31), ('upload', 31), ('gcc', 31), ('integers', 31), ('how', 31), ('trace', 31), ('struct', 31), ('starting', 31), ('passed', 31), ('security', 31), ('considered', 31), ('speed', 31), ('starts', 31), ('plain', 31), ('submit', 31), ('resources', 31), ('changing', 31), ('unsigned', 31), ('initial', 31), ('each', 31), ('meaning', 31), ('react', 31), ('apache', 31), ('manager', 31), ('be', 30), ('tab', 30), ('redirect', 30), ('loops', 30), ('selector', 30), ('learn', 30), ('revert', 30), ('spaces', 30), ('then', 30), ('login', 30), ('steps', 30), ('external', 30), ('untracked', 30), ('linq', 30), ('especially', 30), ('cat', 30), ('services', 30), ('preferred', 30), ('cause', 30), ('appropriate', 30), ('anyway', 30), ('comes', 30), ('displayed', 29), ('everyone', 29), ('1000', 29), ('amount', 29), ('123', 29), ('official', 29), ('platform', 29), ('hidden', 29), ('edittext', 29), ('kill', 29), ('provided', 29), ('hoping', 29), ('init', 29), ('operation', 29), ('saw', 29), ('quick', 29), ('removing', 29), ('searching', 29), ('choice', 29), ('ago', 29), ('includes', 29), ('explorer', 29), ('trouble', 29), ('accomplish', 29), ('token', 29), ('success', 29), ('wait', 29), ('mongodb', 28), ('author', 28), ('hide', 28), ('26', 28), ('rules', 28), ('description', 28), ('23', 28), ('locally', 28), ('myclass', 28), ('buttons', 28), ('therefore', 28), ('bool', 28), ('ptr', 28), ('quotes', 28), ('attributes', 28), ('docs', 28), ('theyre', 28), ('frame', 28), ('traceback', 28), ('happening', 28), ('perl', 28), ('backgroundcolor', 28), ('days', 28), ('whenever', 28), ('contenttype', 28), ('fragments', 28), ('jar', 28), ('executing', 28), ('away', 28), ('today', 28), ('dom', 27), ('self', 27), ('recommended', 27), ('permission', 27), ('cprogram', 27), ('modal', 27), ('core', 27), ('follows', 27), ('k', 27), ('regex', 27), ('pages', 27), ('record', 27), ('label', 27), ('constant', 27), ('track', 27), ('managed', 27), ('said', 27), ('intellij', 27), ('80', 27), ('experience', 27), ('components', 27), ('product', 27), ('bytes', 27), ('documents', 27), ('interfaces', 27), ('ps', 27), ('optional', 27), ('32', 27), ('coming', 27), ('forward', 27), ('interested', 27), ('val', 27), ('ideally', 27), ('although', 27), ('typetext', 27), ('equal', 27), ('ask', 26), ('exceptions', 26), ('supported', 26), ('singleton', 26), ('localhost', 26), ('unix', 26), ('simplest', 26), ('moment', 26), ('lots', 26), ('packages', 26), ('scroll', 26), ('undo', 26), ('upon', 26), ('heard', 26), ('db', 26), ('mvc', 26), ('equals', 26), ('connect', 26), ('becomes', 26), ('originmaster', 26), ('before', 26), ('behaviour', 26), ('into', 26), ('guide', 26), ('angularjs', 26), ('likely', 26), ('bob', 26), ('buffer', 26), ('ui', 26), ('member', 26), ('choose', 26), ('entry', 26), ('whatever', 26), ('matches', 26), ('generic', 26), ('exact', 26), ('attempt', 26), ('finally', 26), ('inserts', 26), ('2010', 25), ('tr', 25), ('home', 25), ('matching', 25), ('care', 25), ('decimal', 25), ('invalid', 25), ('route', 25), ('androidlayoutheightwrapcontent', 25), ('tutorial', 25), ('unless', 25), ('book', 25), ('interesting', 25), ('forms', 25), ('native', 25), ('stdstring', 25), ('developing', 25), ('creates', 25), ('h', 25), ('nested', 25), ('total', 25), ('protected', 25), ('additional', 25), ('submodule', 25), ('42', 25), ('statements', 25), ('dict', 25), ('installing', 25), ('stdout', 25), ('passing', 25), ('sdk', 25), ('resolve', 25), ('fixed', 25), ('applied', 25), ('gbs', 25), ('configure', 25), ('sqlite', 25), ('hex', 25), ('prompt', 25), ('effect', 25), ('saying', 25), ('instances', 25), ('believe', 25), ('developers', 25), ('release', 25), ('extract', 24), ('by', 24), ('constraint', 24), ('accepted', 24), ('operations', 24), ('mention', 24), ('assuming', 24), ('processing', 24), ('solid', 24), ('bunch', 24), ('35', 24), ('stream', 24), ('ip', 24), ('rule', 24), ('stuck', 24), ('programs', 24), ('fully', 24), ('relevant', 24), ('network', 24), ('arbitrary', 24), ('what', 24), ('extend', 24), ('coding', 24), ('finding', 24), ('scale', 24), ('downloaded', 24), ('visible', 24), ('factory', 24), ('quickly', 24), ('safe', 24), ('storage', 24), ('drop', 24), ('declaration', 24), ('talking', 24), ('depending', 24), ('andor', 24), ('white', 24), ('22', 24), ('absolute', 24), ('40', 24), ('identity', 23), ('14', 23), ('complex', 23), ('transaction', 23), ('storing', 23), ('implements', 23), ('182457069', 23), ('advantages', 23), ('alias', 23), ('mind', 23), ('checks', 23), ('executable', 23), ('anywhere', 23), ('symbols', 23), ('focus', 23), ('same', 23), ('0517', 23), ('bootstrap', 23), ('ubuntu', 23), ('errorwindowmanager18850', 23), ('templates', 23), ('csv', 23), ('warnings', 23), ('press', 23), ('ls', 23), ('lock', 23), ('square', 23), ('twitter', 23), ('listed', 23), ('ipsum', 23), ('hand', 23), ('packagejson', 23), ('past', 23), ('produce', 23), ('src', 23), ('doing', 23), ('inheritance', 23), ('share', 23), ('area', 23), ('angular', 23), ('checkbox', 23), ('curious', 22), ('virtualenv', 22), ('manual', 22), ('pick', 22), ('wrap', 22), ('factor', 22), ('sec', 22), ('views', 22), ('four', 22), ('logic', 22), ('seeing', 22), ('implementations', 22), ('o2', 22), ('realize', 22), ('strtok', 22), ('liststring', 22), ('maximum', 22), ('stepping', 22), ('more', 22), ('appreciated', 22), ('facebook', 22), ('individual', 22), ('programmer', 22), ('refer', 22), ('sequence', 22), ('wish', 22), ('rename', 22), ('whitespace', 22), ('included', 22), ('progress', 22), ('deal', 22), ('certificate', 22), ('middle', 22), ('td', 22), ('animal', 22), ('permissions', 22), ('internal', 22), ('batch', 22), ('knowing', 22), ('dialog', 22), ('onto', 22), ('kwargs', 22), ('suggest', 22), ('psql', 22), ('triangle', 22), ('loading', 22), ('piece', 22), ('operating', 22), ('practices', 22), ('updates', 22), ('urls', 22), ('known', 22), ('res', 21), ('utility', 21), ('nonuser', 21), ('containers', 21), ('cgi', 21), ('cursor', 21), ('such', 21), ('behind', 21), ('remember', 21), ('disabled', 21), ('max', 21), ('realized', 21), ('discussion', 21), ('html5', 21), ('mouse', 21), ('fit', 21), ('directive', 21), ('newline', 21), ('plugins', 21), ('searched', 21), ('both', 21), ('subject', 21), ('goal', 21), ('regarding', 21), ('initself', 21), ('candidate', 21), ('letters', 21), ('returning', 21), ('axis', 21), ('expressions', 21), ('iframe', 21), ('wikipedia', 21), ('dates', 21), ('paths', 21), ('blue', 21), ('love', 21), ('condition', 21), ('receive', 21), ('was', 21), ('itself', 21), ('naming', 21), ('styles', 21), ('ms', 21), ('disk', 21), ('plus', 21), ('cmd', 21), ('systems', 21), ('represent', 21), ('possibly', 20), ('beginning', 20), ('account', 20), ('instructions', 20), ('job', 20), ('2008', 20), ('high', 20), ('safari', 20), ('symbol', 20), ('showing', 20), ('500', 20), ('cloned', 20), ('sites', 20), ('pros', 20), ('desktop', 20), ('production', 20), ('at', 20), ('popcnt', 20), ('once', 20), ('fill', 20), ('na', 20), ('repositories', 20), ('posts', 20), ('originally', 20), ('blah', 20), ('paste', 20), ('alternative', 20), ('wonder', 20), ('pulled', 20), ('situations', 20), ('addsd', 20), ('simpler', 20), ('microsoft', 20), ('followed', 20), ('27', 20), ('datatable', 20), ('follow', 20), ('updating', 20), ('strict', 20), ('retrieve', 20), ('mulsd', 20), ('intent', 20), ('dll', 20), ('dynamic', 20), ('removed', 20), ('mainstring', 20), ('explicitly', 20), ('third', 20), ('putting', 19), ('dev', 19), ('cross', 19), ('parsing', 19), ('year', 19), ('phone', 19), ('wget', 19), ('onclick', 19), ('pragma', 19), ('raw', 19), ('45', 19), ('creation', 19), ('escape', 19), ('hack', 19), ('iis', 19), ('haskell', 19), ('down', 19), ('optimization', 19), ('logs', 19), ('refresh', 19), ('typetextjavascript', 19), ('wrote', 19), ('dynamically', 19), ('larger', 19), ('jdk', 19), ('anybody', 19), ('stringbuilder', 19), ('patch', 19), ('entirely', 19), ('dosomething', 19), ('setuppy', 19), ('fork', 19), ('minutes', 19), ('received', 19), ('fi', 19), ('greater', 19), ('244', 19), ('vertically', 19), ('w', 19), ('implementing', 19), ('figured', 19), ('anymore', 19), ('measure', 19), ('br', 19), ('imports', 19), ('attempting', 19), ('2012', 19), ('binbash', 19), ('threads', 19), ('man', 19), ('requested', 19), ('auto', 19), ('notice', 19), ('provides', 19), ('complicated', 19), ('opposed', 19), ('duplicates', 19), ('older', 19), ('strange', 19), ('deleting', 19), ('interpreter', 19), ('18', 18), ('produces', 18), ('apk', 18), ('ugly', 18), ('copying', 18), ('base64', 18), ('taking', 18), ('clang', 18), ('corresponding', 18), ('padding', 18), ('nsstring', 18), ('clicking', 18), ('arrow', 18), ('ifmodule', 18), ('profile', 18), ('tracked', 18), ('configured', 18), ('laptop', 18), ('commandline', 18), ('rid', 18), ('video', 18), ('construct', 18), ('conversion', 18), ('cons', 18), ('distinct', 18), ('maven', 18), ('term', 18), ('capture', 18), ('detail', 18), ('can', 18), ('modern', 18), ('clock', 18), ('flex', 18), ('desired', 18), ('printing', 18), ('factorcount', 18), ('cc', 18), ('uri', 18), ('baz', 18), ('apps', 18), ('dictionaries', 18), ('clients', 18), ('whereas', 18), ('literal', 18), ('these', 18), ('prefix', 18), ('online', 18), ('huge', 18), ('21', 18), ('hope', 18), ('sending', 18), ('200', 18), ('converting', 18), ('s1', 18), ('fastest', 18), ('redux', 18), ('children', 18), ('serrmsg', 18), ('programmatically', 18), ('postgres', 18), ('easiest', 18), ('confusing', 18), ('await', 18), ('twice', 18), ('popular', 17), ('1l', 17), ('gone', 17), ('moving', 17), ('gui', 17), ('generally', 17), ('annoying', 17), ('typeerror', 17), ('understood', 17), ('powershell', 17), ('servers', 17), ('enable', 17), ('its', 17), ('lps', 17), ('definitely', 17), ('restful', 17), ('overwrite', 17), ('city', 17), ('gem', 17), ('iphone', 17), ('theme', 17), ('df', 17), ('bits', 17), ('initialize', 17), ('notepad', 17), ('deprecated', 17), ('clicked', 17), ('pure', 17), ('mipmap', 17), ('combination', 17), ('discard', 17), ('divs', 17), ('located', 17), ('parts', 17), ('cpu', 17), ('any', 17), ('000000', 17), ('enabled', 17), ('technical', 17), ('shared', 17), ('font', 17), ('talk', 17), ('bin', 17), ('touch', 17), ('earlier', 17), ('assign', 17), ('sqlite3execdb', 17), ('displays', 17), ('ignored', 17), ('embedded', 17), ('nvm', 17), ('blank', 17), ('familiar', 17), ('editing', 17), ('super', 17), ('about', 17), ('saved', 17), ('passwords', 17), ('only', 17), ('cookies', 17), ('giving', 17), ('series', 17), ('o3', 17), ('everywhere', 17), ('dealing', 16), ('entities', 16), ('decide', 16), ('conflicts', 16), ('smaller', 16), ('somebody', 16), ('company', 16), ('warn', 16), ('impossible', 16), ('70', 16), ('clicks', 16), ('encode', 16), ('my', 16), ('meta', 16), ('screenshot', 16), ('occurs', 16), ('vertical', 16), ('cd', 16), ('radio', 16), ('transparent', 16), ('logging', 16), ('specifying', 16), ('manage', 16), ('meant', 16), ('tells', 16), ('24', 16), ('mark', 16), ('dispatch', 16), ('tuples', 16), ('64bit', 16), ('delegate', 16), ('brew', 16), ('directions', 16), ('i0', 16), ('encoded', 16), ('executes', 16), ('outputs', 16), ('anonymous', 16), ('opacity', 16), ('githubcom', 16), ('among', 16), ('decided', 16), ('archive', 16), ('stdin', 16), ('gradle', 16), ('complexity', 16), ('squash', 16), ('life', 16), ('whose', 16), ('normally', 16), ('active', 16), ('off', 16), ('19', 16), ('typing', 16), ('sun', 16), ('staging', 16), ('major', 16), ('states', 16), ('frameworks', 16), ('savedinstancestate', 16), ('months', 16), ('pixels', 16), ('arraylist', 16), ('uint64t', 16), ('drive', 16), ('merged', 16), ('hit', 16), ('defining', 16), ('benefits', 16), ('installation', 16), ('zero', 16), ('xxx', 16), ('merging', 16), ('slower', 16), ('mylist', 16), ('scala', 16), ('clever', 16), ('tracking', 16), ('initpy', 16), ('clipboard', 15), ('resulting', 15), ('vm', 15), ('offer', 15), ('snippet', 15), ('calculate', 15), ('ready', 15), ('ewindowmanager', 15), ('lambda', 15), ('transfer', 15), ('pythonic', 15), ('taken', 15), ('specification', 15), ('bitmap', 15), ('faq', 15), ('comma', 15), ('a1', 15), ('slightly', 15), ('clearly', 15), ('pressed', 15), ('centered', 15), ('ensure', 15), ('promise', 15), ('resize', 15), ('numpy', 15), ('icons', 15), ('typical', 15), ('xmm0mmword', 15), ('heap', 15), ('hover', 15), ('purposes', 15), ('differ', 15), ('labels', 15), ('dog', 15), ('https', 15), ('ahead', 15), ('verify', 15), ('oct', 15), ('sets', 15), ('displaying', 15), ('doesnt', 15), ('opening', 15), ('validation', 15), ('typename', 15), ('algorithms', 15), ('sign', 15), ('eval', 15), ('dplyr', 15), ('definitions', 15), ('sed', 15), ('power', 15), ('ioc', 15), ('dropdown', 15), ('breaks', 15), ('maintain', 15), ('sit', 15), ('imported', 15), ('webpage', 15), ('28', 15), ('mechanism', 15), ('boxes', 15), ('car', 15), ('43', 15), ('five', 15), ('learned', 15), ('androidlayoutwidthwrapcontent', 15), ('knows', 15), ('xyz', 15), ('listen', 15), ('numeric', 15), ('readonly', 15), ('aspect', 15), ('doc', 15), ('causes', 15), ('immediately', 15), ('beta', 15), ('shortcut', 15), ('advantage', 15), ('attached', 15), ('01', 14), ('comparing', 14), ('extremely', 14), ('31', 14), ('seattle', 14), ('explicit', 14), ('xmm13', 14), ('viewpager', 14), ('connections', 14), ('initially', 14), ('programmers', 14), ('blog', 14), ('sqlitetransient', 14), ('heroku', 14), ('formatting', 14), ('msdn', 14), ('cout', 14), ('sqlite3bindtextstmt', 14), ('okay', 14), ('leaving', 14), ('yi', 14), ('round', 14), ('linked', 14), ('denied', 14), ('clarify', 14), ('colors', 14), ('inherit', 14), ('requirement', 14), ('actions', 14), ('took', 14), ('hi', 14), ('described', 14), ('community', 14), ('beyond', 14), ('databases', 14), ('movsd', 14), ('associated', 14), ('introduced', 14), ('5px', 14), ('crashes', 14), ('resharper', 14), ('potentially', 14), ('hierarchy', 14), ('where', 14), ('sys', 14), ('removes', 14), ('outer', 14), ('apart', 14), ('opened', 14), ('subdirectories', 14), ('uncaught', 14), ('turns', 14), ('objectivec', 14), ('attach', 14), ('limited', 14), ('designed', 14), ('vector', 14), ('articles', 14), ('told', 14), ('restore', 14), ('inserted', 14), ('compiling', 14), ('supports', 14), ('lower', 14), ('64', 14), ('foreign', 14), ('bring', 14), ('signature', 14), ('initialized', 14), ('workflow', 14), ('implicit', 14), ('dump', 14), ('len', 14), ('assigned', 14), ('union', 14), ('classframe', 14), ('preferable', 14), ('delay', 14), ('bower', 14), ('num', 14), ('endif', 14), ('xmlhttprequest', 14), ('develop', 14), ('binding', 14), ('tested', 14), ('workaround', 14), ('17', 14), ('dir', 14), ('handles', 14), ('pop', 14), ('mynewfeature', 14), ('describe', 14), ('srchttpjsfiddlenetimglogopng', 14), ('ends', 14), ('repeat', 14), ('limit', 14), ('summary', 14), ('totally', 13), ('emulator', 13), ('authorization', 13), ('5s', 13), ('filenames', 13), ('straightforward', 13), ('copied', 13), ('knowledge', 13), ('typedef', 13), ('scratch', 13), ('placed', 13), ('recommend', 13), ('suggests', 13), ('yield', 13), ('green', 13), ('schema', 13), ('domain', 13), ('pairs', 13), ('oracle', 13), ('aout', 13), ('necessarily', 13), ('rendered', 13), ('demo', 13), ('formatted', 13), ('firebug', 13), ('approaches', 13), ('activities', 13), ('imagine', 13), ('c11', 13), ('technique', 13), ('helpful', 13), ('tail', 13), ('distance', 13), ('09', 13), ('injection', 13), ('signal', 13), ('scenarios', 13), ('pythons', 13), ('inputs', 13), ('existence', 13), ('10000', 13), ('tutorials', 13), ('filled', 13), ('avg', 13), ('lose', 13), ('recognize', 13), ('settimeout', 13), ('debugging', 13), ('jump', 13), ('maps', 13), ('msg', 13), ('pushing', 13), ('entries', 13), ('moduleexports', 13), ('outerscopevar', 13), ('mostly', 13), ('compiles', 13), ('unknown', 13), ('somewhat', 13), ('mobile', 13), ('revision', 13), ('play', 13), ('cast', 13), ('indicate', 13), ('tostring', 13), ('sqrt', 13), ('launch', 13), ('ascii', 13), ('pixel', 13), ('hold', 13), ('styling', 13), ('animation', 13), ('blocks', 13), ('apple', 13), ('occurred', 13), ('addition', 13), ('applies', 13), ('price', 13), ('causing', 13), ('cached', 13), ('went', 13), ('essentially', 13), ('matrix', 13), ('topic', 13), ('imageview', 13), ('uiview', 13), ('finish', 13), ('tricks', 13), ('upgrade', 13), ('reverse', 13), ('staged', 13), ('reactcreateclass', 13), ('mb', 13), ('multiline', 13), ('six', 13), ('jslint', 13), ('research', 13), ('wrapping', 13), ('tablea', 13), ('193519', 13), ('collections', 13), ('iterating', 13), ('bind', 13), ('edge', 13), ('accessing', 13), ('5570000', 13), ('sorted', 13), ('team', 13), ('typesubmit', 13), ('closing', 13), ('particularly', 12), ('grab', 12), ('convenient', 12), ('75', 12), ('convention', 12), ('cell', 12), ('uiscrollview', 12), ('when', 12), ('members', 12), ('initandlisten', 12), ('markdown', 12), ('serve', 12), ('drawable', 12), ('sub', 12), ('customer', 12), ('tasks', 12), ('front', 12), ('readme', 12), ('referenced', 12), ('hearing', 12), ('compilation', 12), ('than', 12), ('directives', 12), ('performing', 12), ('rectangle', 12), ('replaced', 12), ('codes', 12), ('loads', 12), ('digits', 12), ('plot', 12), ('34', 12), ('2nd', 12), ('counter', 12), ('benefit', 12), ('spring', 12), ('hence', 12), ('difficult', 12), ('begin', 12), ('signed', 12), ('models', 12), ('cycle', 12), ('considering', 12), ('happened', 12), ('sleep', 12), ('decode', 12), ('floating', 12), ('scaling', 12), ('debugger', 12), ('x86', 12), ('manifest', 12), ('rake', 12), ('should', 12), ('between', 12), ('similarly', 12), ('live', 12), ('representation', 12), ('selects', 12), ('devices', 12), ('game', 12), ('incorrect', 12), ('mod', 12), ('di', 12), ('typescript', 12), ('textbox', 12), ('provider', 12), ('ex', 12), ('curly', 12), ('thomas', 12), ('addresses', 12), ('weird', 12), ('million', 12), ('pair', 12), ('egginfo', 12), ('upstream', 12), ('puts', 12), ('mysqlconfig', 12), ('stl', 12), ('cherrypick', 12), ('googled', 12), ('subclass', 12), ('stylesheet', 12), ('bound', 12), ('thrown', 12), ('lf', 12), ('near', 12), ('generates', 12), ('finished', 12), ('closed', 12), ('appreciate', 12), ('sizes', 12), ('pipe', 12), ('72', 12), ('pfile', 12), ('gotten', 12), ('cover', 12), ('previously', 12), ('flash', 12), ('eventually', 12), ('spec', 12), ('alert', 12), ('fresh', 12), ('c1', 12), ('videos', 12), ('ability', 12), ('mkdir', 12), ('applying', 12), ('temp', 12), ('concerned', 12), ('rreplacenew', 12), ('lead', 12), ('posted', 12), ('concepts', 12), ('practical', 12), ('adb', 12), ('applicationjson', 12), ('readable', 12), ('did', 12), ('margin', 12), ('bigger', 12), ('subversion', 12), ('preview', 12), ('oncreate', 12), ('documentreadyfunction', 12), ('sounds', 12), ('affect', 12), ('userid', 12), ('cars', 12), ('inc', 12), ('tabs', 12), ('feeling', 12), ('accessible', 12), ('amt', 12), ('processes', 12), ('role', 12), ('ideal', 12), ('align', 12), ('keeping', 12), ('management', 12), ('direction', 12), ('month', 12), ('notation', 12), ('myobject', 12), ('iterator', 12), ('http11', 12), ('cpp', 12), ('declared', 12), ('slice', 11), ('bitwise', 11), ('garbage', 11), ('those', 11), ('half', 11), ('recognized', 11), ('regardless', 11), ('mainly', 11), ('dependent', 11), ('preferably', 11), ('groups', 11), ('100px', 11), ('ssl', 11), ('dockerfile', 11), ('digit', 11), ('nodes', 11), ('datatype', 11), ('confusion', 11), ('shutdown', 11), ('trick', 11), ('letter', 11), ('player', 11), ('60', 11), ('suggestion', 11), ('nil', 11), ('thoughts', 11), ('printf', 11), ('braces', 11), ('anchor', 11), ('alone', 11), ('conditional', 11), ('advice', 11), ('linearlayout', 11), ('trigger', 11), ('2005', 11), ('ease', 11), ('graph', 11), ('downloading', 11), ('ofast', 11), ('rewrite', 11), ('declarations', 11), ('lorem', 11), ('fingerprint', 11), ('failure', 11), ('typically', 11), ('ide', 11), ('dolor', 11), ('broken', 11), ('feels', 11), ('fontsize', 11), ('pc', 11), ('56', 11), ('orders', 11), ('subset', 11), ('mystring', 11), ('vi', 11), ('38', 11), ('pointers', 11), ('uninstall', 11), ('assignment', 11), ('newly', 11), ('black', 11), ('remain', 11), ('easyinstall', 11), ('androidlayoutwidthfillparent', 11), ('players', 11), ('soon', 11), ('spam', 11), ('dont', 11), ('switching', 11), ('aptget', 11), ('serverside', 11), ('compatibility', 11), ('renamed', 11), ('matters', 11), ('timezone', 11), ('migration', 11), ('hashing', 11), ('forget', 11), ('endl', 11), ('review', 11), ('conflict', 11), ('stdioh', 11), ('accesscontrolalloworigin', 11), ('luck', 11), ('concept', 11), ('iteration', 11), ('leave', 11), ('displayname', 11), ('theory', 11), ('wildcard', 11), ('levels', 11), ('es6', 11), ('engine', 11), ('bots', 11), ('contained', 11), ('32bit', 11), ('saving', 11), ('english', 11), ('cookie', 11), ('analysis', 11), ('watch', 11), ('semantics', 11), ('crap', 11), ('notes', 11), ('because', 11), ('independent', 11), ('paw', 11), ('864913', 11), ('safety', 11), ('logged', 11), ('category', 11), ('initialization', 11), ('accidentally', 11), ('equality', 11), ('typeof', 11), ('installs', 11), ('pointed', 11), ('pdf', 11), ('myarray', 11), ('surprised', 11), ('bold', 11), ('xmm2', 11), ('guidelines', 11), ('transition', 11), ('strong', 11), ('potential', 11), ('todo', 11), ('xmm3', 11), ('neither', 11), ('8080', 11), ('interview', 11), ('tablename', 11), ('own', 11), ('asynchronous', 11), ('df1', 11), ('prototype', 11), ('happy', 11), ('just', 11), ('placeholder', 11), ('business', 11), ('detailed', 11), ('parallel', 11), ('pgconfig', 11), ('criteria', 11), ('legacy', 11), ('tuple', 11), ('consumer', 11), ('tomcat', 11), ('intermediate', 11), ('moved', 11), ('encryption', 11), ('horizontally', 11), ('typed', 11), ('perfect', 11), ('some', 11), ('trailing', 11), ('reasonable', 11), ('63', 11), ('cost', 11), ('dostuff', 11), ('indeed', 11), ('occur', 11), ('s2', 10), ('accepts', 10), ('textarea', 10), ('forked', 10), ('41959360000', 10), ('worry', 10), ('vice', 10), ('fibo', 10), ('53', 10), ('magic', 10), ('cycles', 10), ('manipulation', 10), ('respect', 10), ('fire', 10), ('int32', 10), ('libs', 10), ('responses', 10), ('concatenate', 10), ('consistent', 10), ('cors', 10), ('jenine', 10), ('secure', 10), ('jsonp', 10), ('intended', 10), ('circle', 10), ('versus', 10), ('overhead', 10), ('consolelog', 10), ('90', 10), ('arrayliststring', 10), ('weve', 10), ('focused', 10), ('yellow', 10), ('certainly', 10), ('useless', 10), ('50px', 10), ('myself', 10), ('bugs', 10), ('tmp', 10), ('evaluated', 10), ('replacing', 10), ('intel', 10), ('bytecode', 10), ('instantiate', 10), ('keywords', 10), ('card', 10), ('internally', 10), ('stick', 10), ('limenu', 10), ('telling', 10), ('textalign', 10), ('suspect', 10), ('providing', 10), ('transport', 10), ('uitextview', 10), ('gmt', 10), ('invoke', 10), ('rendering', 10), ('respectively', 10), ('versa', 10), ('matplotlib', 10), ('closures', 10), ('superoncreatesavedinstancestate', 10), ('newbie', 10), ('copies', 10), ('ordered', 10), ('modifying', 10), ('identifier', 10), ('perfectly', 10), ('helps', 10), ('scheme', 10), ('committing', 10), ('administrator', 10), ('protocol', 10), ('personid', 10), ('numerical', 10), ('cpython', 10), ('encountered', 10), ('argc', 10), ('dirname', 10), ('stderr', 10), ('androidviewviewgroupdispatchkeyeventviewgroupjava1112', 10), ('relatively', 10), ('portion', 10), ('indexing', 10), ('trivial', 10), ('extensions', 10), ('possibility', 10), ('flask', 10), ('tries', 10), ('navigation', 10), ('corrupt', 10), ('reduce', 10), ('boss', 10), ('while', 10), ('draw', 10), ('appjs', 10), ('effects', 10), ('navigate', 10), ('oncreatebundle', 10), ('brsome', 10), ('optimize', 10), ('fancy', 10), ('report', 10), ('defaultvalue', 10), ('pieces', 10), ('cool', 10), ('skeleton', 10), ('increment', 10), ('plan', 10), ('300', 10), ('guessing', 10), ('handled', 10), ('jpeg', 10), ('std', 10), ('recreate', 10), ('circumstances', 10), ('n2', 10), ('typecheckbox', 10), ('filetxt', 10), ('validate', 10), ('straight', 10), ('uptodate', 10), ('constraints', 10), ('noexcept', 10), ('pypy', 10), ('portable', 10), ('raise', 10), ('timestamp', 10), ('jsfiddle', 10), ('referencing', 10), ('cut', 10), ('compilers', 10), ('55', 10), ('conditions', 10), ('license', 10), ('concrete', 10), ('odd', 10), ('assumed', 10), ('ab', 10), ('overload', 10), ('sorting', 10), ('attempted', 10), ('crash', 10), ('depends', 10), ('flat', 10), ('mentions', 10), ('stay', 10), ('yyy', 10), ('representing', 10), ('brackets', 10), ('joins', 10), ('suit', 10), ('hg', 10), ('surely', 10), ('bundle', 10), ('architecture', 10), ('writes', 10), ('explanations', 10), ('keeps', 10), ('silly', 10), ('converted', 10), ('ids', 10), ('rotation', 10), ('hashtable', 10), ('del', 10), ('unstage', 10), ('implies', 10), ('resolution', 10), ('daemon', 10), ('money', 10), ('sha1', 10), ('slide', 9), ('bean', 9), ('devel', 9), ('mallory', 9), ('win32', 9), ('errormessage', 9), ('inserting', 9), ('smart', 9), ('tensorflow', 9), ('registered', 9), ('closure', 9), ('interactive', 9), ('table1', 9), ('st', 9), ('crossplatform', 9), ('populated', 9), ('packagename', 9), ('jvm', 9), ('parser', 9), ('arithmetic', 9), ('permanent', 9), ('metadata', 9), ('arraysize', 9), ('homebrew', 9), ('reads', 9), ('logical', 9), ('recover', 9), ('05', 9), ('lack', 9), ('xi', 9), ('maintaining', 9), ('grouping', 9), ('hundreds', 9), ('compared', 9), ('col', 9), ('uncommitted', 9), ('constantly', 9), ('flavors', 9), ('occasionally', 9), ('xmm14', 9), ('78', 9), ('effective', 9), ('redis', 9), ('clue', 9), ('virtualhost', 9), ('playing', 9), ('mixed', 9), ('justifyself', 9), ('blob', 9), ('iostream', 9), ('asks', 9), ('expecting', 9), ('dcodegt2git', 9), ('myprogram', 9), ('flag', 9), ('alignment', 9), ('websites', 9), ('searches', 9), ('answered', 9), ('entered', 9), ('greatly', 9), ('myapp', 9), ('bonus', 9), ('isquare', 9), ('identical', 9), ('backup', 9), ('idiom', 9), ('beginner', 9), ('utc', 9), ('unstaged', 9), ('mess', 9), ('dummy', 9), ('codebase', 9), ('party', 9), ('choosing', 9), ('hear', 9), ('boolvalue', 9), ('suffix', 9), ('googling', 9), ('unsure', 9), ('transform', 9), ('numerous', 9), ('delegates', 9), ('singular', 9), ('rejected', 9), ('synchronous', 9), ('resides', 9), ('impact', 9), ('1px', 9), ('b1', 9), ('mercurial', 9), ('occurrences', 9), ('repeated', 9), ('derived', 9), ('populate', 9), ('widget', 9), ('messed', 9), ('opens', 9), ('refers', 9), ('productid', 9), ('67', 9), ('products', 9), ('worth', 9), ('non', 9), ('leaves', 9), ('68', 9), ('concise', 9), ('cmp', 9), ('flow', 9), ('usual', 9), ('px', 9), ('computers', 9), ('javas', 9), ('minimumlength', 9), ('adds', 9), ('applicant', 9), ('requirementstxt', 9), ('66', 9), ('sync', 9), ('fired', 9), ('helped', 9), ('htaccess', 9), ('additionally', 9), ('sh', 9), ('chromes', 9), ('improve', 9), ('idiomatic', 9), ('upgraded', 9), ('builder', 9), ('min', 9), ('applicantposition', 9), ('declaring', 9), ('embed', 9), ('comparable', 9), ('ratio', 9), ('fires', 9), ('btw', 9), ('234', 9), ('az', 9), ('uploaded', 9), ('yesterday', 9), ('hours', 9), ('caused', 9), ('lost', 9), ('frontend', 9), ('icon', 9), ('copyright', 9), ('uilabel', 9), ('worse', 9), ('besides', 9), ('behave', 9), ('temporary', 9), ('opinion', 9), ('avail', 9), ('xx', 9), ('integration', 9), ('indexhtml', 9), ('substring', 9), ('mv', 9), ('turned', 9), ('distribute', 9), ('listening', 9), ('subdirectory', 9), ('hook', 9), ('36', 9), ('fly', 9), ('after', 9), ('throwing', 9), ('categoryid', 9), ('offset', 9), ('detached', 9), ('suddenly', 9), ('bare', 9), ('horizontal', 9), ('gitconfig', 9), ('zip', 9), ('tableb', 9), ('detection', 9), ('pos', 9), ('mydata', 9), ('popup', 9), ('sizet', 8), ('leak', 8), ('md5', 8), ('distributed', 8), ('had', 8), ('despite', 8), ('leads', 8), ('cwindowsmicrosoftnetframeworkv4030319temporary', 8), ('lastname', 8), ('automatic', 8), ('xor', 8), ('403', 8), ('mmessagesfragment', 8), ('skype', 8), ('allowing', 8), ('camera', 8), ('higher', 8), ('typehidden', 8), ('pro', 8), ('simulator', 8), ('84', 8), ('router', 8), ('honest', 8), ('deep', 8), ('enumeration', 8), ('nav', 8), ('machines', 8), ('88', 8), ('column1', 8), ('deployment', 8), ('differently', 8), ('resheader', 8), ('guideline', 8), ('41', 8), ('plorem', 8), ('opposite', 8), ('primitive', 8), ('401', 8), ('dictionarystring', 8), ('expose', 8), ('restart', 8), ('104', 8), ('oop', 8), ('servlet', 8), ('clarification', 8), ('kept', 8), ('requesturi', 8), ('txt', 8), ('foobar', 8), ('jane', 8), ('expects', 8), ('identify', 8), ('clause', 8), ('png', 8), ('hashmapstring', 8), ('posting', 8), ('overview', 8), ('dogs', 8), ('httpd', 8), ('argv', 8), ('achieved', 8), ('defaults', 8), ('ret', 8), ('1s', 8), ('selfx', 8), ('lea', 8), ('media', 8), ('lion', 8), ('assembler', 8), ('siteb', 8), ('stores', 8), ('table2', 8), ('human', 8), ('elit', 8), ('indentation', 8), ('unnecessary', 8), ('significant', 8), ('refactoring', 8), ('steve', 8), ('documentid', 8), ('expand', 8), ('02', 8), ('randomly', 8), ('outline', 8), ('looping', 8), ('guys', 8), ('nicely', 8), ('timing', 8), ('tom', 8), ('w3c', 8), ('1000000', 8), ('generating', 8), ('applicable', 8), ('waiting', 8), ('killed', 8), ('objectoriented', 8), ('n1', 8), ('getconfig', 8), ('fiddle', 8), ('absolutely', 8), ('junit', 8), ('latter', 8), ('cheese', 8), ('connected', 8), ('feed', 8), ('ie6', 8), ('96', 8), ('props', 8), ('selection', 8), ('stashed', 8), ('provisioning', 8), ('iisexpressexe', 8), ('scan', 8), ('depend', 8), ('seemed', 8), ('forced', 8), ('ints', 8), ('covered', 8), ('2l', 8), ('edited', 8), ('successful', 8), ('deletes', 8), ('classrow', 8), ('completed', 8), ('tee', 8), ('uiviewcontroller', 8), ('pgctl', 8), ('amet', 8), ('mytype', 8), ('benchmark', 8), ('fun', 8), ('disadvantages', 8), ('stackoverflow', 8), ('cells', 8), ('20111231', 8), ('forums', 8), ('mistake', 8), ('wc', 8), ('rebuild', 8), ('rf', 8), ('prop', 8), ('importing', 8), ('oh', 8), ('they', 8), ('wcf', 8), ('autoincrement', 8), ('bcrypt', 8), ('indent', 8), ('cloud', 8), ('sadly', 8), ('simplified', 8), ('connecting', 8), ('elapsed', 8), ('picture', 8), ('attention', 8), ('solved', 8), ('setupposixpy', 8), ('efficiently', 8), ('vote', 8), ('combine', 8), ('discovered', 8), ('breaking', 8), ('controls', 8), ('frequently', 8), ('selectors', 8), ('payload', 8), ('sublime', 8), ('44', 8), ('overwritten', 8), ('verticalalign', 8), ('sorry', 8), ('quantity', 8), ('hr', 8), ('overflows', 8), ('alternatively', 8), ('mime', 8), ('thousands', 8), ('repos', 8), ('marked', 8), ('98', 8), ('firstname', 8), ('x86apache', 8), ('myname', 8), ('templateurl', 8), ('recreating', 8), ('explaining', 8), ('inversion', 8), ('74', 8), ('equally', 8), ('orm', 8), ('commas', 8), ('direct', 8), ('underlying', 8), ('xcrun', 8), ('stdcout', 8), ('illegal', 8), ('v4030319', 8), ('aggregate', 8), ('params', 8), ('58', 8), ('somestring', 8), ('welcome', 8), ('weak', 8), ('covers', 8), ('mainint', 8), ('hints', 8), ('stumbled', 8), ('skip', 8), ('mar', 8), ('backend', 8), ('numtabs', 8), ('consistently', 8), ('aligned', 8), ('tocolor', 8), ('mapstring', 8), ('usrlocalvarpostgres', 8), ('panel', 8), ('unclear', 8), ('rfc', 8), ('nonnull', 8), ('adjust', 8), ('pid', 8), ('flags', 8), ('defines', 8), ('sources', 8), ('stage', 8), ('pain', 7), ('tokens', 7), ('parses', 7), ('integrated', 7), ('varchar', 7), ('tbody', 7), ('fixes', 7), ('env', 7), ('personal', 7), ('retrievedobject', 7), ('market', 7), ('lsfiles', 7), ('adipiscing', 7), ('bucket', 7), ('rare', 7), ('underscore', 7), ('remaining', 7), ('increase', 7), ('94', 7), ('conflicting', 7), ('choices', 7), ('involved', 7), ('whilst', 7), ('colour', 7), ('brings', 7), ('brace', 7), ('light', 7), ('ranges', 7), ('socket', 7), ('2011', 7), ('ports', 7), ('pg', 7), ('concerns', 7), ('tel', 7), ('quisque', 7), ('highlighted', 7), ('q', 7), ('fair', 7), ('crazy', 7), ('classbtn', 7), ('nginx', 7), ('powerful', 7), ('launcher', 7), ('nonclustered', 7), ('filesystem', 7), ('average', 7), ('registers', 7), ('33', 7), ('chmod', 7), ('stringformat', 7), ('terminology', 7), ('value1', 7), ('constants', 7), ('assets', 7), ('compatible', 7), ('myfunction', 7), ('suitable', 7), ('302', 7), ('convoluted', 7), ('newarray', 7), ('dicts', 7), ('notification', 7), ('wide', 7), ('authors', 7), ('cp', 7), ('attributenoinline', 7), ('variation', 7), ('billion', 7), ('valueerror', 7), ('youtube', 7), ('23001245622', 7), ('plenty', 7), ('unchecked', 7), ('mydatabase', 7), ('destination', 7), ('definitive', 7), ('feature1', 7), ('escaped', 7), ('grid', 7), ('locations', 7), ('pay', 7), ('modifier', 7), ('doctype', 7), ('repeatedly', 7), ('ioexception', 7), ('91', 7), ('studentt', 7), ('accessed', 7), ('crashed', 7), ('dt', 7), ('hexadecimal', 7), ('jsp', 7), ('ellipsis', 7), ('ordering', 7), ('serializable', 7), ('deploy', 7), ('rounding', 7), ('roll', 7), ('0l', 7), ('chance', 7), ('involve', 7), ('tweak', 7), ('crossorigin', 7), ('benchmarks', 7), ('spinner', 7), ('mathsqrt', 7), ('lately', 7), ('62', 7), ('attempts', 7), ('startup', 7), ('nodemodules', 7), ('servername', 7), ('99', 7), ('grasp', 7), ('29', 7), ('est', 7), ('listener', 7), ('encrypted', 7), ('111', 7), ('realworld', 7), ('ext', 7), ('consideration', 7), ('2221v201309180102833290', 7), ('generator', 7), ('socks', 7), ('subsequent', 7), ('wrapped', 7), ('limitation', 7), ('threw', 7), ('buffersize', 7), ('p2', 7), ('adt', 7), ('closest', 7), ('listing', 7), ('spent', 7), ('allocation', 7), ('procedure', 7), ('groupby', 7), ('exclude', 7), ('telephone', 7), ('loss', 7), ('challenge', 7), ('typefile', 7), ('backgroundimage', 7), ('involves', 7), ('friend', 7), ('helper', 7), ('gzip', 7), ('macos', 7), ('engines', 7), ('flexdirection', 7), ('largest', 7), ('h2', 7), ('missed', 7), ('requirements', 7), ('adapter', 7), ('443', 7), ('tend', 7), ('basis', 7), ('setuptools', 7), ('separately', 7), ('guid', 7), ('highlighting', 7), ('tldr', 7), ('formdata', 7), ('moves', 7), ('downloads', 7), ('matched', 7), ('uitextfield', 7), ('raised', 7), ('900', 7), ('appending', 7), ('indices', 7), ('resized', 7), ('rely', 7), ('librarycardid', 7), ('uppercase', 7), ('exceeded', 7), ('boilerplate', 7), ('desc', 7), ('hashes', 7), ('developed', 7), ('gflops', 7), ('safely', 7), ('mysqlpython', 7), ('salt', 7), ('mock', 7), ('switched', 7), ('linking', 7), ('ccc', 7), ('toe', 7), ('intention', 7), ('satisfy', 7), ('holds', 7), ('admin', 7), ('everytime', 7), ('eof', 7), ('supplied', 7), ('404', 7), ('lambdas', 7), ('semper', 7), ('wip', 7), ('scrolling', 7), ('column2', 7), ('planning', 7), ('preserving', 7), ('methodpost', 7), ('breakpoints', 7), ('prjtest', 7), ('manner', 7), ('mail', 7), ('sitea', 7), ('recreated', 7), ('interviewer', 7), ('52', 7), ('logger', 7), ('brought', 7), ('sinputbuf', 7), ('central', 7), ('globally', 7), ('indicates', 7), ('overridden', 7), ('testobject', 7), ('minor', 7), ('localstorage', 7), ('controllers', 7), ('isnt', 7), ('cdocuments', 7), ('quote', 7), ('canvas', 7), ('stated', 7), ('registry', 7), ('doubt', 7), ('lorenzoenzoerlang', 7), ('passphrase', 7), ('amp', 7), ('mov', 7), ('signs', 7), ('tips', 7), ('errorlog', 7), ('param', 7), ('blocked', 7), ('monad', 7), ('optimizations', 7), ('tue', 7), ('cocoa', 7), ('tpscopemanager', 7), ('helloworldpng', 7), ('autowired', 7), ('54', 7), ('var1', 7), ('selecting', 7), ('merges', 7), ('importerror', 7), ('mary', 7), ('submitted', 7), ('seo', 7), ('math', 7), ('risk', 7), ('indicator', 7), ('ampersand', 7), ('asc', 7), ('xsrf', 7), ('statistics', 7), ('toolbar', 7), ('sorts', 7), ('separator', 7), ('onchange', 7), ('37', 7), ('feb', 7), ('holding', 7), ('referring', 7), ('pitfalls', 7), ('accounts', 7), ('gt', 7), ('paper', 7), ('positive', 7), ('screens', 7), ('gethashcode', 7), ('generics', 7), ('wpf', 7), ('recurse', 7), ('pressing', 7), ('mmword', 7), ('subscriber', 7), ('relation', 7), ('themselves', 7), ('observable', 7), ('ending', 7), ('minimum', 7), ('felt', 7), ('jackson', 7), ('unset', 7), ('eq', 7), ('difficulty', 7), ('guidance', 7), ('recall', 7), ('canonical', 7), ('contact', 7), ('credentials', 7), ('gave', 7), ('col1', 7), ('doubles', 7), ('theoretical', 7), ('1st', 7), ('standards', 7), ('toggle', 7), ('leading', 7), ('improvement', 7), ('principle', 7), ('dum', 7), ('ecmascript', 7), ('experiment', 7), ('crashing', 7), ('implicitly', 7), ('crlf', 7), ('introduction', 7), ('hosted', 7), ('stand', 7), ('interest', 7), ('quit', 7), ('jquerys', 7), ('outcome', 7), ('contentdisposition', 7), ('prjform', 7), ('opera', 7), ('linear', 7), ('arc', 7), ('erlang', 7), ('optimal', 7), ('period', 7), ('encounter', 7), ('82', 7), ('nicer', 7), ('logo', 7), ('param2', 7), ('cleaner', 7), ('remains', 7), ('ignoring', 7), ('jshint', 7), ('released', 7), ('marks', 7), ('interchangeably', 7), ('dumb', 7), ('weeks', 6), ('trunk', 6), ('documentbody', 6), ('decoding', 6), ('subprocesses', 6), ('usb', 6), ('nexttriangle', 6), ('refs', 6), ('aside', 6), ('textfield', 6), ('65', 6), ('requirederrormessage', 6), ('wheel', 6), ('pseudocode', 6), ('sessions', 6), ('lookup', 6), ('precise', 6), ('ftp', 6), ('parsed', 6), ('shorthand', 6), ('sake', 6), ('descending', 6), ('clustered', 6), ('describing', 6), ('ngif', 6), ('86', 6), ('128', 6), ('deferred', 6), ('thinks', 6), ('expensive', 6), ('addint', 6), ('71', 6), ('workspace', 6), ('triggered', 6), ('datadb', 6), ('represented', 6), ('dataset', 6), ('commonjs', 6), ('efficiency', 6), ('favorite', 6), ('filepath', 6), ('alternatives', 6), ('pager', 6), ('till', 6), ('starttime', 6), ('owned', 6), ('antipattern', 6), ('yyyymmdd', 6), ('networking', 6), ('downloadingunpacking', 6), ('reflection', 6), ('touched', 6), ('onsaveinstancestate', 6), ('tedious', 6), ('hitting', 6), ('indexes', 6), ('temporarily', 6), ('underscores', 6), ('windowonload', 6), ('unexpectedly', 6), ('tstring', 6), ('ultimate', 6), ('attr', 6), ('compiletime', 6), ('mynamespace', 6), ('explains', 6), ('attributeerror', 6), ('fake', 6), ('represents', 6), ('goals', 6), ('naive', 6), ('microsofts', 6), ('truncate', 6), ('nullptr', 6), ('forgot', 6), ('interpreted', 6), ('typeradio', 6), ('ifdef', 6), ('technologies', 6), ('orange', 6), ('appconfig', 6), ('technically', 6), ('storycategory', 6), ('pdfs', 6), ('preference', 6), ('81', 6), ('serverresponseanonymous', 6), ('expressjs', 6), ('paging', 6), ('footer', 6), ('cart', 6), ('functiondata', 6), ('fetching', 6), ('reproduce', 6), ('jre', 6), ('messy', 6), ('publickey', 6), ('onclicklistener', 6), ('shortcuts', 6), ('reflected', 6), ('gmail', 6), ('gather', 6), ('highly', 6), ('symbolic', 6), ('novice', 6), ('someclass', 6), ('belong', 6), ('df2', 6), ('svg', 6), ('occurrence', 6), ('flux', 6), ('sha', 6), ('cloning', 6), ('webserver', 6), ('deployed', 6), ('streams', 6), ('10px', 6), ('snippets', 6), ('routines', 6), ('lifecycle', 6), ('repair', 6), ('tablet', 6), ('elmah', 6), ('assumption', 6), ('relativelayout', 6), ('polymorphism', 6), ('concatenation', 6), ('january', 6), ('margintop', 6), ('reach', 6), ('portland', 6), ('uibutton', 6), ('popcount', 6), ('structures', 6), ('eliminate', 6), ('phpini', 6), ('edits', 6), ('bounty', 6), ('256', 6), ('a2', 6), ('fling', 6), ('nov', 6), ('xmlnsandroidhttpschemasandroidcomapkresandroid', 6), ('3rd', 6), ('48', 6), ('encodingutf8', 6), ('truefalse', 6), ('ad', 6), ('overall', 6), ('dangerous', 6), ('upper', 6), ('ternary', 6), ('optionoption', 6), ('cancel', 6), ('hosting', 6), ('surprise', 6), ('20160613', 6), ('region', 6), ('someobject', 6), ('76', 6), ('unmanaged', 6), ('bounds', 6), ('forint', 6), ('performs', 6), ('promises', 6), ('scripters', 6), ('interchangeable', 6), ('zeroes', 6), ('dest', 6), ('inlineblock', 6), ('listt', 6), ('experienced', 6), ('flops', 6), ('usability', 6), ('wwwexamplecom', 6), ('endregion', 6), ('92', 6), ('toast', 6), ('deploying', 6), ('60629375d0eb12348f9d31933dd348ad0f038435', 6), ('appearing', 6), ('col2', 6), ('datac', 6), ('idempotent', 6), ('0703', 6), ('lia', 6), ('stupid', 6), ('capable', 6), ('italic', 6), ('intptr', 6), ('12345678901', 6), ('primarily', 6), ('redirects', 6), ('votes', 6), ('amd', 6), ('zeros', 6), ('ac', 6), ('atomic', 6), ('qwerty', 6), ('javautildate', 6), ('fontweight', 6), ('mon', 6), ('2d', 6), ('graphics', 6), ('dirty', 6), ('experimenting', 6), ('enums', 6), ('isra0', 6), ('datecreated', 6), ('h1', 6), ('sb', 6), ('staticinstance', 6), ('synchronized', 6), ('serialize', 6), ('destroy', 6), ('formatter', 6), ('flush', 6), ('tiles', 6), ('vary', 6), ('root69f1711a205e', 6), ('obtained', 6), ('href', 6), ('dark', 6), ('subfolders', 6), ('early', 6), ('46', 6), ('mybranch', 6), ('myuser', 6), ('85', 6), ('jsdelay', 6), ('builds', 6), ('statics', 6), ('tons', 6), ('emacs', 6), ('gap', 6), ('roundred', 6), ('03', 6), ('recyclerview', 6), ('aaa', 6), ('acceptable', 6), ('recursively', 6), ('clr', 6), ('alter', 6), ('surprising', 6), ('strip', 6), ('arr1', 6), ('duration', 6), ('discussions', 6), ('resort', 6), ('forvar', 6), ('am', 6), ('ifs', 6), ('stopped', 6), ('version10', 6), ('resolved', 6), ('debian', 6), ('logfile', 6), ('reports', 6), ('compute', 6), ('narrow', 6), ('sections', 6), ('claim', 6), ('asm', 6), ('io', 6), ('composite', 6), ('getcustomers', 6), ('dropping', 6), ('relationships', 6), ('rax', 6), ('var2', 6), ('borat', 6), ('usrbinenv', 6), ('entering', 6), ('d1', 6), ('timeout', 6), ('prune', 6), ('proxy', 6), ('corner', 6), ('wanting', 6), ('techniques', 6), ('tcp', 6), ('policy', 6), ('experimental', 6), ('serverroot', 6), ('ctrlc', 6), ('trycatch', 6), ('printfdn', 6), ('dumtwo', 6), ('pkgresources', 6), ('tar', 6), ('movie', 6), ('relies', 6), ('1234', 6), ('swiftc', 6), ('heavy', 6), ('locale', 6), ('inputnextline', 6), ('secs', 6), ('4th', 6), ('mileagefeecalculator', 6), ('inputstream', 6), ('assert', 6), ('handlers', 6), ('tmpamaster', 6), ('hot', 6), ('passes', 6), ('interact', 6), ('ctrl', 6), ('comparisons', 6), ('2263v2014041518371123206', 6), ('int11', 6), ('cs', 6), ('feedback', 6), ('aka', 6), ('clientid', 6), ('stubs', 6), ('justifycontent', 6), ('thisname', 6), ('lt', 6), ('req', 6), ('nullpointerexception', 6), ('vendor', 6), ('600', 6), ('decorator', 6), ('addtype', 6), ('singletons', 6), ('yay', 6), ('printed', 6), ('dollar', 6), ('255', 6), ('dlls', 6), ('200px', 6), ('69', 6), ('areas', 6), ('word1', 6), ('classmyclass', 6), ('corners', 6), ('00', 6), ('nullable', 6), ('mydb', 6), ('newbranch', 6), ('buckets', 6), ('foopy', 6), ('javadoc', 6), ('x64', 6), ('kinds', 6), ('oneliner', 6), ('runnable', 6), ('instruction', 6), ('documentready', 6), ('u64', 6), ('keypress', 6), ('04032009', 6), ('locate', 6), ('meaningful', 6), ('mapping', 6), ('posix', 6), ('uris', 6), ('slides', 6), ('keyup', 6), ('axes', 6), ('widely', 6), ('04', 6), ('xcoord', 5), ('homeeugenepublichtmlallthingsnodeprojectsfb2nodemodulesconnectlibhttpjs16213', 5), ('stringlength20', 5), ('devdependencies', 5), ('ascending', 5), ('poor', 5), ('conversions', 5), ('dbcustomers', 5), ('photo', 5), ('alt', 5), ('nas', 5), ('somecode', 5), ('preferences', 5), ('explained', 5), ('indexed', 5), ('mathematical', 5), ('watching', 5), ('83', 5), ('fclose', 5), ('fan', 5), ('newcont', 5), ('srt', 5), ('cpimage', 5), ('callbacks', 5), ('100000', 5), ('we', 5), ('apartment', 5), ('masterbranch', 5), ('rsa', 5), ('lastly', 5), ('unordered', 5), ('minus', 5), ('transparency', 5), ('bugfixb', 5), ('setcontentviewrlayoutmain', 5), ('over', 5), ('samples', 5), ('peak', 5), ('emulators', 5), ('emails', 5), ('consectetur', 5), ('truncated', 5), ('pad', 5), ('tchrist', 5), ('data2', 5), ('receiving', 5), ('datetimes', 5), ('became', 5), ('signing', 5), ('unowned', 5), ('140', 5), ('subclasses', 5), ('obsolete', 5), ('fade', 5), ('varying', 5), ('shopping', 5), ('head1', 5), ('unaware', 5), ('optimized', 5), ('respond', 5), ('hardcoding', 5), ('implications', 5), ('bufsize', 5), ('animals', 5), ('fonts', 5), ('se', 5), ('integrate', 5), ('bodypadding', 5), ('sdt', 5), ('3d', 5), ('db2', 5), ('alternate', 5), ('idle', 5), ('plural', 5), ('authenticated', 5), ('asyncawait', 5), ('0px', 5), ('u1', 5), ('jne', 5), ('homeeugenepublichtmlallthingsnodeprojectsfb2nodemodulesconnectlibpatchjs5020', 5), ('legend', 5), ('networkinfo', 5), ('accepting', 5), ('forth', 5), ('r10', 5), ('afterwards', 5), ('bag', 5), ('convenience', 5), ('842161320', 5), ('abcde', 5), ('companyid', 5), ('yields', 5), ('tbbtiming', 5), ('filtering', 5), ('apr', 5), ('associative', 5), ('bullets', 5), ('occasional', 5), ('ttc', 5), ('nonpackage', 5), ('selenium', 5), ('callq', 5), ('fx', 5), ('mutable', 5), ('enters', 5), ('printfd', 5), ('hung', 5), ('messagesfragment', 5), ('vendorsjs', 5), ('memberexpression', 5), ('intuitive', 5), ('allocate', 5), ('constructors', 5), ('privileges', 5), ('frames', 5), ('compares', 5), ('eacces', 5), ('treat', 5), ('textviews', 5), ('unlike', 5), ('afaik', 5), ('400', 5), ('getters', 5), ('ditems', 5), ('2015', 5), ('accesstoken', 5), ('lowercase', 5), ('kv', 5), ('exe', 5), ('worst', 5), ('presumably', 5), ('tfs', 5), ('loader', 5), ('inunion', 5), ('qty', 5), ('enclosed', 5), ('edmx', 5), ('reliably', 5), ('enumerator', 5), ('unhandled', 5), ('stringvalue', 5), ('fd', 5), ('000003', 5), ('str2', 5), ('expiration', 5), ('thirdparty', 5), ('variety', 5), ('mine', 5), ('cleaned', 5), ('1li', 5), ('classmethod', 5), ('prior', 5), ('probability', 5), ('brand', 5), ('colon', 5), ('421', 5), ('usrlocalvarpostgresserverlog', 5), ('grey', 5), ('offers', 5), ('httpjs52711', 5), ('sst', 5), ('androidviewviewlayoutviewjava5611', 5), ('quickest', 5), ('scrollable', 5), ('xp', 5), ('succinct', 5), ('dropped', 5), ('finishes', 5), ('birthday', 5), ('restarted', 5), ('hacks', 5), ('performed', 5), ('skipped', 5), ('fixing', 5), ('017968483', 5), ('hardware', 5), ('storyboard', 5), ('journalmode', 5), ('mainpy', 5), ('callto', 5), ('tens', 5), ('restored', 5), ('timings', 5), ('simplicity', 5), ('cleaning', 5), ('cygwin', 5), ('soap', 5), ('targetsdkversion', 5), ('ss', 5), ('c17', 5), ('shorter', 5), ('bat', 5), ('pointing', 5), ('iidentity', 5), ('alice', 5), ('1234567', 5), ('classnojs', 5), ('stats', 5), ('jsx', 5), ('trim', 5), ('joined', 5), ('examine', 5), ('submitting', 5), ('misunderstanding', 5), ('discussing', 5), ('through', 5), ('relationship', 5), ('jmime', 5), ('confuses', 5), ('mapped', 5), ('value2', 5), ('evil', 5), ('commented', 5), ('friends', 5), ('excellent', 5), ('de', 5), ('slows', 5), ('stm', 5), ('solving', 5), ('nuget', 5), ('matlab', 5), ('invisible', 5), ('constructed', 5), ('nearly', 5), ('homeeugenepublichtmlallthingsnodeprojectsfb2nodemodulesconnectlibhttpjs19815', 5), ('students', 5), ('scales', 5), ('submodules', 5), ('roslyn', 5), ('objective', 5), ('pomxml', 5), ('texthtml', 5), ('football', 5), ('memberexpr', 5), ('mimetype', 5), ('somevariable', 5), ('myfragment', 5), ('arrows', 5), ('pem', 5), ('allocated', 5), ('placeholders', 5), ('instantiation', 5), ('sentence', 5), ('designs', 5), ('word2', 5), ('sd', 5), ('percentage', 5), ('played', 5), ('deciding', 5), ('gray', 5), ('maintenance', 5), ('serialization', 5), ('remotespublicmaster', 5), ('rotate', 5), ('linkedlist', 5), ('increasing', 5), ('food', 5), ('scrolled', 5), ('hour', 5), ('keyvalue', 5), ('very', 5), ('processed', 5), ('paradigm', 5), ('rcxrax', 5), ('insertion', 5), ('completion', 5), ('exposed', 5), ('editors', 5), ('readmemd', 5), ('widespread', 5), ('serverresponsesetheader', 5), ('0179684827337041', 5), ('retain', 5), ('branching', 5), ('mistakes', 5), ('evaluates', 5), ('ycoord', 5), ('counting', 5), ('abi', 5), ('low', 5), ('losing', 5), ('yaml', 5), ('expert', 5), ('stacktrace', 5), ('malloc', 5), ('advanced', 5), ('sally', 5), ('inefficient', 5), ('knew', 5), ('an', 5), ('bundler', 5), ('listperson', 5), ('142', 5), ('capability', 5), ('dateofbirth', 5), ('langen', 5), ('dto', 5), ('customers', 5), ('soft', 5), ('critical', 5), ('makefile', 5), ('setters', 5), ('rarely', 5), ('inherited', 5), ('classpath', 5), ('practically', 5), ('flexbox', 5), ('plt', 5), ('effectively', 5), ('permanently', 5), ('menus', 5), ('deletion', 5), ('perf', 5), ('cstartclock', 5), ('modification', 5), ('logically', 5), ('svi', 5), ('2x2', 5), ('trees', 5), ('maxdist', 5), ('organize', 5), ('00248644019011408', 5), ('has', 5), ('room', 5), ('assistance', 5), ('girl', 5), ('timer', 5), ('firstordefault', 5), ('globospathjoinsrcc', 5), ('furthermore', 5), ('evaluate', 5), ('awk', 5), ('0363644931698218', 5), ('reliable', 5), ('sides', 5), ('recursion', 5), ('auth', 5), ('addconst', 5), ('instanceof', 5), ('orientation', 5), ('textplain', 5), ('layoutmanager', 5), ('clearfix', 5), ('invoked', 5), ('constructs', 5), ('tiendas', 5), ('workint', 5), ('py', 5), ('forgotten', 5), ('gnu', 5), ('presented', 5), ('file1', 5), ('reasoning', 5), ('pythonread', 5), ('train', 5), ('delays', 5), ('determined', 5), ('documentroot', 5), ('perspective', 5), ('deny', 5), ('attacks', 5), ('interpret', 5), ('v1', 5), ('rcx', 5), ('proposed', 5), ('amend', 5), ('macro', 5), ('contentlength', 5), ('javalangreflectmethodinvokenativenative', 5), ('issuing', 5), ('filesmicrosoft', 5), ('specifier', 5), ('concern', 5), ('versioning', 5), ('apis', 5), ('executioncontext', 5), ('overriding', 5), ('calendar', 5), ('conclusion', 5), ('tick', 5), ('cumbersome', 5), ('inventory', 5), ('parentheses', 5), ('your', 5), ('compilesdkversion', 5), ('thank', 5), ('slf4j', 5), ('itemn', 5), ('schedule', 5), ('arr', 5), ('converts', 5), ('ended', 5), ('ctx', 5), ('david', 5), ('rdi', 5), ('5570001', 5), ('substantially', 5), ('emailbtn', 5), ('psycopg2', 5), ('userschietalanpmallcachejson', 5), ('calculation', 5), ('cleanup', 5), ('venv', 5), ('epoch', 5), ('remotely', 5), ('designing', 5), ('surrogate', 5), ('rc', 5), ('preallocatememory', 5), ('generation', 5), ('race', 5), ('v0619', 5), ('libboxtime', 5), ('ilist', 5), ('assertions', 5), ('numargs', 5), ('differs', 5), ('expire', 5), ('dependencymanagement', 5), ('struggling', 5), ('fall', 5), ('limits', 5), ('456', 5), ('618889', 5), ('bugfixa', 5), ('desirable', 5), ('communicate', 5), ('separated', 5), ('20797227239', 5), ('msysgit', 5), ('flopscycle', 5), ('opinions', 5), ('overlap', 5), ('asset', 5), ('beach', 5), ('impression', 5), ('gb', 5), ('tabsuint', 5), ('testinnerhtml', 5), ('engineer', 5), ('persons', 5), ('typebutton', 5), ('layer', 5), ('solves', 5), ('coffeescript', 5), ('listeners', 5), ('enoent', 5), ('wants', 5), ('separators', 5), ('i1', 5), ('fgets', 5), ('annotation', 5), ('multipartformdata', 5), ('originbugfix', 5), ('2li', 5), ('imperative', 5), ('fits', 5), ('scrollbar', 5), ('2013', 5), ('selfclosing', 5), ('sockets', 5), ('110', 5), ('edition', 5), ('sykes2c11', 5), ('confirm', 5), ('peoplelist2addnew', 5), ('reboot', 5), ('bindings', 5), ('wed', 5), ('blur5px', 5), ('pm', 5), ('systemoutprintln', 5), ('variants', 5), ('floats', 5), ('minwidth', 5), ('ienumerable', 5), ('jsonnet', 5), ('googles', 5), ('androidlayoutheightfillparent', 5), ('charsetutf8', 5), ('systemlinq', 5), ('seriously', 5), ('marchnative', 5), ('targeting', 5), ('contextcallback', 5), ('demonstrate', 5), ('operand', 5), ('acts', 5), ('reflog', 5), ('ipython', 5), ('websockets', 5), ('2000', 5), ('svr', 5), ('markup', 5), ('thu', 5), ('webpack', 5), ('stalledcyclesfrontend', 5), ('sbr', 5), ('folks', 5), ('formats', 5), ('thearray', 5), ('101', 5), ('underline', 5), ('dalviksystemnativestartmainnative', 5), ('degree', 5), ('111111', 5), ('jb', 5), ('commithash', 5), ('former', 5), ('vehicle', 5), ('milliseconds', 5), ('isolated', 5), ('claims', 5), ('viewport', 4), ('inspect', 4), ('csproj', 4), ('20110524', 4), ('netbeans', 4), ('united', 4), ('sum3add', 4), ('arraytojs2', 4), ('str1', 4), ('addeventlistener', 4), ('convince', 4), ('rebasing', 4), ('handleerror', 4), ('semicolon', 4), ('nowrap', 4), ('mathrandom', 4), ('universal', 4), ('a1j', 4), ('nocache', 4), ('mikeos', 4), ('lisubitem', 4), ('gotcha', 4), ('androidlayoutmarginleft15dp', 4), ('schemes', 4), ('terribly', 4), ('walking', 4), ('roughly', 4), ('barpy', 4), ('unwanted', 4), ('unrolled', 4), ('65536', 4), ('checkboxes', 4), ('5th', 4), ('unsafe', 4), ('deneme', 4), ('exceeds', 4), ('inject', 4), ('cus', 4), ('outputtxt', 4), ('proguard', 4), ('identified', 4), ('seekbar', 4), ('ips', 4), ('iterations', 4), ('fellow', 4), ('ngrepeat', 4), ('caseinsensitive', 4), ('wizard', 4), ('sel', 4), ('concurrenthashmap', 4), ('productive', 4), ('coretestpy', 4), ('adapted', 4), ('alloc', 4), ('sqlite3opendatabase', 4), ('feofpfile', 4), ('values1', 4), ('scp', 4), ('reloading', 4), ('internals', 4), ('reporting', 4), ('ides', 4), ('newdate', 4), ('emulate', 4), ('requestcode', 4), ('036364493', 4), ('processor', 4), ('webview', 4), ('key1', 4), ('androidtextcolora5d4e2', 4), ('observe', 4), ('0400', 4), ('ngoninit', 4), ('story', 4), ('family', 4), ('shuffle', 4), ('scanner', 4), ('applicationhostconfig', 4), ('receives', 4), ('cpus', 4), ('compression', 4), ('bugging', 4), ('significantly', 4), ('draft', 4), ('addx', 4), ('elaborate', 4), ('pushes', 4), ('08', 4), ('extending', 4), ('viewholder', 4), ('xlsx', 4), ('2009', 4), ('advance', 4), ('osgetcwd', 4), ('hashcode', 4), ('macbook', 4), ('gulp', 4), ('doe', 4), ('projectid', 4), ('tall', 4), ('serialversionuid', 4), ('nevertheless', 4), ('violation', 4), ('camelcase', 4), ('elem', 4), ('tv', 4), ('quotedftvol', 4), ('val2', 4), ('dos', 4), ('distribution', 4), ('databasegeneratedsystemcomponentmodeldataannotationsdatabasegeneratedoptionidentity', 4), ('class1', 4), ('enables', 4), ('argparse', 4), ('animage', 4), ('systemnanotime', 4), ('physical', 4), ('c1j', 4), ('accurate', 4), ('beside', 4), ('unwind', 4), ('male', 4), ('leaked', 4), ('109', 4), ('outdated', 4), ('257', 4), ('77', 4), ('waldo', 4), ('vbnet', 4), ('selectedmessage', 4), ('ref', 4), ('decision', 4), ('sass', 4), ('chain', 4), ('register', 4), ('interop', 4), ('discusses', 4), ('aws', 4), ('throughput', 4), ('serial', 4), ('noncharacters', 4), ('mozilla', 4), ('webid', 4), ('webdriver', 4), ('originmynewfeature', 4), ('materialid', 4), ('reactive', 4), ('amulite', 4), ('servermappath', 4), ('ith', 4), ('runner', 4), ('tpaamayimnekudotayim', 4), ('bumped', 4), ('euler', 4), ('threshold', 4), ('reusing', 4), ('word3', 4), ('understandable', 4), ('releases', 4), ('affecting', 4), ('systemthreadingexecutioncontextrunexecutioncontext', 4), ('consisting', 4), ('yahoo', 4), ('enjoy', 4), ('favicon', 4), ('getname', 4), ('prone', 4), ('73', 4), ('shapes', 4), ('rand', 4), ('touching', 4), ('scriptjs', 4), ('comandroidideeclipseadtpackage', 4), ('rsi', 4), ('grant', 4), ('0200', 4), ('effort', 4), ('600016', 4), ('protection', 4), ('verbose', 4), ('selectedindex', 4), ('sentstr', 4), ('androidtextstylenormal', 4), ('aspectlibrary', 4), ('getdate', 4), ('wordpress', 4), ('stringified', 4), ('oblongyellow', 4), ('consuming', 4), ('girdlespring', 4), ('hibernate', 4), ('userpy', 4), ('paws', 4), ('razor', 4), ('rem', 4), ('memecom', 4), ('lastnom', 4), ('beautiful', 4), ('screenheight', 4), ('unchanged', 4), ('ksg061981', 4), ('retrieved', 4), ('uuid', 4), ('evidence', 4), ('myclassbaseclass', 4), ('driven', 4), ('overcome', 4), ('stable', 4), ('baseline', 4), ('datasets', 4), ('000008', 4), ('expertise', 4), ('oauth', 4), ('shift', 4), ('partially', 4), ('statusid', 4), ('intrinsic', 4), ('klein', 4), ('beatlesname', 4), ('s3', 4), ('reinstall', 4), ('addbannerdistancefrombottomconstraintconstant', 4), ('subtract', 4), ('116', 4), ('androids', 4), ('lilist', 4), ('staticcast', 4), ('idioms', 4), ('myint', 4), ('ld', 4), ('homeeugenepublichtmlallthingsnodeprojectsfb2nodemodulesconnectlibhttpjs2079', 4), ('concat', 4), ('androidbackgroundandroiddrawableeditboxbackground', 4), ('reply', 4), ('initializing', 4), ('composerlock', 4), ('assemblys', 4), ('setstring', 4), ('particles', 4), ('b1j', 4), ('newsep', 4), ('mysqlconfigpath', 4), ('mydict', 4), ('tim', 4), ('restricted', 4), ('initialstate', 4), ('noted', 4), ('architectures', 4), ('kernel', 4), ('19271231', 4), ('misses', 4), ('tricky', 4), ('stl74421', 4), ('strategies', 4), ('array4', 4), ('memorystream', 4), ('eprintstacktrace', 4), ('xhr', 4), ('minimal', 4), ('webservice', 4), ('httphost', 4), ('2x', 4), ('clockt', 4), ('stdendl', 4), ('mytable', 4), ('updatepanel', 4), ('architectural', 4), ('ircevent', 4), ('divide', 4), ('024970435', 4), ('stringempty', 4), ('enumerate', 4), ('listsize', 4), ('companies', 4), ('tap', 4), ('hate', 4), ('androidtextsize25sp', 4), ('slider', 4), ('forever', 4), ('intsi', 4), ('literature', 4), ('refspec', 4), ('shebang', 4), ('measured', 4), ('surprisingly', 4), ('pghbaconf', 4), ('stretch', 4), ('stringwriter', 4), ('increases', 4), ('epreventdefault', 4), ('sum4add', 4), ('tempdata', 4), ('duplicated', 4), ('keycode', 4), ('wondered', 4), ('itr', 4), ('uninstalled', 4), ('smith', 4), ('requesting', 4), ('layouts', 4), ('win', 4), ('allowoverride', 4), ('truly', 4), ('eggs', 4), ('xargs', 4), ('16bit', 4), ('socketio', 4), ('fs', 4), ('ciph', 4), ('invocation', 4), ('131', 4), ('pre', 4), ('raises', 4), ('exposing', 4), ('oo', 4), ('wall', 4), ('taskint', 4), ('captcha', 4), ('parents', 4), ('nasty', 4), ('technology', 4), ('mathematics', 4), ('somelist', 4), ('cerr', 4), ('terminate', 4), ('geturl', 4), ('handy', 4), ('goto', 4), ('latex', 4), ('i9001', 4), ('threading', 4), ('relate', 4), ('enablelevel', 4), ('jwt', 4), ('discover', 4), ('concatenating', 4), ('curiosity', 4), ('chat', 4), ('tolist', 4), ('generatedvaluestrategygenerationtypeidentity', 4), ('nets', 4), ('mul3mul', 4), ('unload', 4), ('colorred', 4), ('mul4mul', 4), ('unlimited', 4), ('remotes', 4), ('attachment', 4), ('utf8generalci', 4), ('cl', 4), ('gain', 4), ('val1', 4), ('punctuation', 4), ('authorslist', 4), ('feeds', 4), ('sum1add', 4), ('failing', 4), ('accomplishing', 4), ('errordocument', 4), ('lsof', 4), ('bulk', 4), ('nib', 4), ('mpt99318a', 4), ('ngview', 4), ('chronosystemclocknow', 4), ('uniqueidentifier', 4), ('cleanest', 4), ('quality', 4), ('listview', 4), ('ages', 4), ('md', 4), ('banana', 4), ('existed', 4), ('quotedftvoltvolscale', 4), ('textfieldtag', 4), ('behaviorsubject', 4), ('dir1', 4), ('viceversa', 4), ('x1', 4), ('exec', 4), ('equation', 4), ('fillparent', 4), ('war', 4), ('late', 4), ('boost', 4), ('mul2mul', 4), ('г', 4), ('hint', 4), ('deferreds', 4), ('infoempty', 4), ('books', 4), ('nslog', 4), ('grunt', 4), ('persistlevel', 4), ('005', 4), ('o1', 4), ('toplevel', 4), ('credit', 4), ('noise', 4), ('casting', 4), ('87', 4), ('mydatetimemydatetime', 4), ('continues', 4), ('settimeoutfunction', 4), ('pulls', 4), ('prettyprint', 4), ('blobs', 4), ('terminating', 4), ('remainder', 4), ('worried', 4), ('readwrite', 4), ('ambiguous', 4), ('dir2', 4), ('salts', 4), ('marker', 4), ('sum5add', 4), ('grouped', 4), ('retrieving', 4), ('functionmethod', 4), ('b2', 4), ('hiding', 4), ('androidpaddingleft15dp', 4), ('classitemdiv', 4), ('divisible', 4), ('mtextview', 4), ('func', 4), ('scalability', 4), ('syspath', 4), ('settingsmyapplicationcustomcontrolscontrolsmycustomcontrolxamlcsline', 4), ('intervals', 4), ('00284090070053935', 4), ('601939', 4), ('continuous', 4), ('sub2', 4), ('somevalue', 4), ('runners', 4), ('sitepackages', 4), ('06', 4), ('leaf', 4), ('whatsoever', 4), ('environmenterrors', 4), ('instantiated', 4), ('em', 4), ('upvoted', 4), ('foreignkey', 4), ('stops', 4), ('towards', 4), ('iswaiting', 4), ('programme', 4), ('improved', 4), ('puzzle', 4), ('jenkins', 4), ('purely', 4), ('hosts', 4), ('gender', 4), ('merely', 4), ('vs2008', 4), ('differential', 4), ('endings', 4), ('inputdatar', 4), ('egetp', 4), ('aug', 4), ('enterprise', 4), ('mongod', 4), ('disappear', 4), ('caveats', 4), ('reuse', 4), ('quota', 4), ('makenamests', 4), ('dategettime', 4), ('bannerisvisible', 4), ('responsible', 4), ('branched', 4), ('clientside', 4), ('uncomment', 4), ('restaurant', 4), ('httpclient', 4), ('webkit', 4), ('guaranteed', 4), ('styleheight', 4), ('arises', 4), ('file1txt', 4), ('onresume', 4), ('tinyint', 4), ('basics', 4), ('romain', 4), ('hashset', 4), ('cube', 4), ('pulling', 4), ('androidoshandlerdispatchmessagehandlerjava99', 4), ('stays', 4), ('dedicated', 4), ('descriptive', 4), ('ignores', 4), ('reached', 4), ('mul5mul', 4), ('intervention', 4), ('millions', 4), ('agnostic', 4), ('runbehavior', 4), ('typo', 4), ('c2', 4), ('procedures', 4), ('stating', 4), ('vimrc', 4), ('15px', 4), ('reactcomponent', 4), ('sub1', 4), ('tryexcept', 4), ('locking', 4), ('scott', 4), ('imagefile', 4), ('decorators', 4), ('exclamation', 4), ('spawned', 4), ('125', 4), ('unused', 4), ('replacement', 4), ('wiki', 4), ('log4j', 4), ('olog', 4), ('commonly', 4), ('totalrows', 4), ('foos', 4), ('forbidden', 4), ('backed', 4), ('produced', 4), ('encodings', 4), ('transitions', 4), ('prepared', 4), ('roles', 4), ('readability', 4), ('splitting', 4), ('3000', 4), ('150px', 4), ('fk', 4), ('specifications', 4), ('locrowindexcolindexer', 4), ('saves', 4), ('cleared', 4), ('contexts', 4), ('begins', 4), ('dead', 4), ('linecount', 4), ('comprehensive', 4), ('guarantee', 4), ('sealed', 4), ('professional', 4), ('subtle', 4), ('shifting', 4), ('customize', 4), ('homes', 4), ('colleague', 4), ('timespan', 4), ('fname', 4), ('precision', 4), ('pgadmin', 4), ('caught', 4), ('visit', 4), ('sqft', 4), ('foox', 4), ('matplotlibpyplot', 4), ('owner', 4), ('prefabulated', 4), ('hardly', 4), ('commons', 4), ('principles', 4), ('secret', 4), ('imagebutton', 4), ('aa', 4), ('spot', 4), ('fell', 4), ('mul1mul', 4), ('automate', 4), ('pojo', 4), ('modifications', 4), ('describes', 4), ('ut', 4), ('computed', 4), ('largely', 4), ('webconfig', 4), ('0n', 4), ('workon', 4), ('swiping', 4), ('2px', 4), ('40px', 4), ('tthey', 4), ('organization', 4), ('pi', 4), ('doublen', 4), ('robust', 4), ('ordinal', 4), ('settingwithcopywarning', 4), ('becoming', 4), ('cdata', 4), ('disabling', 4), ('messing', 4), ('ghz', 4), ('collision', 4), ('decompile', 4), ('domains', 4), ('disassembly', 4), ('obscure', 4), ('underneath', 4), ('f2c0c72', 4), ('forks', 4), ('rev', 4), ('uploads', 4), ('100644', 4), ('anotherparent', 4), ('o0', 4), ('woman', 4), ('reduces', 4), ('chars', 4), ('aclickfunction', 4), ('exiting', 4), ('classtocolor', 4), ('flexend', 4), ('485', 4), ('rounds', 4), ('measurements', 4), ('testlines', 4), ('listfootballplayer', 4), ('stkid', 4), ('onclickview', 4), ('colleagues', 4), ('blur', 4), ('cspbuildpy', 4), ('unity', 4), ('prefixes', 4), ('usersmichaeljamesdocumentsprojectsprojmeannodemodulesexpressnodemodulesconnectlibprotojs19315', 4), ('volatile', 4), ('jpg', 4), ('reload', 4), ('idheader', 4), ('boy', 4), ('androidlayoutmargintop4dp', 4), ('pyc', 4), ('environmenterror', 4), ('insight', 4), ('caching', 4), ('frequency', 4), ('ifndef', 4), ('ordernumber', 4), ('macosx', 4), ('alphanumeric', 4), ('poorly', 4), ('virtualbox', 4), ('placing', 4), ('redefine', 4), ('immutable', 4), ('array1', 4), ('publish', 4), ('routeprovider', 4), ('nsnumber', 4), ('humans', 4), ('inheriting', 4), ('mysqlconfiglibsr', 4), ('project2', 4), ('isrequired', 4), ('examplecom', 4), ('classname', 4), ('u32', 4), ('platforms', 4), ('namespaces', 4), ('jsonstring', 4), ('stdclass', 4), ('paragraph', 4), ('threadsafe', 4), ('scopeuser', 4), ('agree', 4), ('adventureworksentities', 4), ('detachvegan', 4), ('brain', 4), ('calculating', 4), ('d1j', 4), ('ram', 4), ('obtain', 4), ('newtons', 4), ('vba', 4), ('el', 4), ('multithreaded', 4), ('kotlin', 4), ('hardcode', 4), ('linkedhashmap', 4), ('reinterpretcast', 4), ('fopen', 4), ('value3', 4), ('h3', 4), ('scanning', 4), ('fastforward', 4), ('natively', 4), ('actionbar', 4), ('prevents', 4), ('controlled', 4), ('predefined', 4), ('stylebackgroundcolor', 4), ('xhrsend', 4), ('user1', 4), ('roundorange', 4), ('partition', 4), ('002486440', 4), ('onmessagelistactionlistener', 4), ('messes', 4), ('insensitive', 4), ('involving', 4), ('randstring', 4), ('assumptions', 4), ('limitations', 4), ('consolewritelinea', 4), ('discouraged', 4), ('appcomponent', 4), ('delimiter', 4), ('numofbeds', 4), ('homeeugenepublichtmlallthingsnodeprojectsfb2nodemodulesconnectlibhttpjs15023', 4), ('httpgooglecom', 4), ('angularcore', 4), ('25px', 4), ('statically', 4), ('originmybranch', 4), ('numberofholes', 4), ('relstylesheet', 4), ('individually', 4), ('chunks', 4), ('slowly', 4), ('rationale', 4), ('toes', 4), ('napplynames', 4), ('rbx', 4), ('aliases', 4), ('taskcustomer', 4), ('incompatible', 4), ('agent', 4), ('nature', 4), ('itd', 4), ('sender', 4), ('peter', 4), ('complains', 4), ('164501768633', 4), ('clarity', 4), ('cli', 4), ('20100101t1200000100', 4), ('rough', 4), ('eventargs', 4), ('guava', 4), ('elasticutils07dev', 4), ('ary', 4), ('aspects', 4), ('simplify', 4), ('clunky', 4), ('fontfamily', 4), ('magenic', 4), ('homezjm1126zjmtestmysitebuildmysqlpythonsetuppy', 4), ('rxvturxvt', 4), ('unsupported', 4), ('enabling', 4), ('topten', 4), ('evaluation', 4), ('data1', 4), ('science', 4), ('soreuseport', 4), ('asis', 4), ('elsewhere', 4), ('established', 4), ('feasible', 4), ('engineering', 4), ('comprehension', 4), ('significance', 4), ('led', 4), ('turning', 4), ('thehash', 4), ('numofbaths', 4), ('mimic', 4), ('transformation', 4), ('closely', 4), ('behaves', 4), ('statictext', 4), ('animations', 4), ('mytimeoutfunction', 4), ('structured', 4), ('lies', 4), ('renders', 4), ('phps', 4), ('8022011', 4), ('implied', 4), ('deserialize', 4), ('666', 4), ('javalangillegalstateexception', 4), ('crossbrowser', 4), ('camel', 4), ('othertable', 4), ('essential', 4), ('subscribers', 4), ('exports', 4), ('alerthello', 4), ('pr', 4), ('whichstring', 4), ('restarting', 4), ('idcontainer', 4), ('mycodejs', 4), ('subsystem', 4), ('launched', 4), ('intfield', 4), ('overloading', 4), ('asdasdcom', 4), ('collector', 4), ('serverjs', 4), ('talks', 4), ('anumber', 4), ('avoided', 4), ('minute', 4), ('number73', 4), ('met', 4), ('leaks', 4), ('on2', 4), ('ff', 4), ('overlay', 4), ('leo', 4), ('triggers', 4), ('blogs', 4), ('arbitrarily', 4), ('arg', 4), ('outputstream', 4), ('onactivityresult', 4), ('pops', 4), ('mongrel', 4), ('nvarchar', 4), ('yesterdays', 4), ('chose', 4), ('adjacent', 4), ('mocking', 4), ('addencoding', 4), ('mysql2', 4), ('216', 4), ('mysqldump', 4), ('sum2add', 4), ('canyouvotepy', 4), ('capturing', 4), ('pictures', 4), ('proceed', 4), ('exploring', 4), ('sufficient', 4), ('0249704354675487', 4), ('somesymbol', 4), ('externally', 3), ('closes', 3), ('poco', 3), ('identity11', 3), ('multiprocessing', 3), ('mmus', 3), ('menuitem', 3), ('ffffff', 3), ('initializer', 3), ('0051', 3), ('ಠಠ', 3), ('guides', 3), ('infottl', 3), ('specifies', 3), ('pasted', 3), ('gene', 3), ('consolelogtypeof', 3), ('hotkey', 3), ('keychain', 3), ('examined', 3), ('translation', 3), ('lineitemsquantity', 3), ('enumeratortstring', 3), ('dies', 3), ('iteratee', 3), ('relates', 3), ('alignitems', 3), ('hrefread', 3), ('randomstring', 3), ('resdrawable', 3), ('bugfix', 3), ('permutations1', 3), ('gut', 3), ('jqueryelasticsourcejs', 3), ('dosomethingasync', 3), ('logdui', 3), ('nougat', 3), ('boo', 3), ('caret', 3), ('marchnocona', 3), ('restrict', 3), ('nano', 3), ('moviemp4', 3), ('bg', 3), ('studying', 3), ('nulls', 3), ('reproducible', 3), ('operate', 3), ('crockfords', 3), ('httpproxy', 3), ('0x00ff', 3), ('ie7', 3), ('vendors', 3), ('decrease', 3), ('screenwidth', 3), ('mileagerateservice', 3), ('hwnd', 3), ('articlelist', 3), ('myclassdelegate', 3), ('survey', 3), ('usrlocalcellarpostgresql904sharepostgresqlpostgresqlconfsample', 3), ('returnval', 3), ('innerdiv', 3), ('0x23cb740', 3), ('commercial', 3), ('training', 3), ('alerts', 3), ('mappings', 3), ('eaxebx', 3), ('morea', 3), ('naturally', 3), ('macros', 3), ('standardize', 3), ('ensg00000221312', 3), ('purchases', 3), ('measuring', 3), ('calculations', 3), ('testsh', 3), ('combobox', 3), ('rolling', 3), ('guidempty', 3), ('n3', 3), ('stopwatch', 3), ('agenttelno', 3), ('zipcode', 3), ('immediate', 3), ('ocaml', 3), ('pagelist', 3), ('published', 3), ('pushdefault', 3), ('tight', 3), ('rawinput', 3), ('collapse', 3), ('letting', 3), ('intersection', 3), ('utf8bin', 3), ('iload1', 3), ('enlighten', 3), ('12700180', 3), ('filecontents', 3), ('sysstdout', 3), ('filetreedir', 3), ('casts', 3), ('june', 3), ('upvote', 3), ('customerid', 3), ('nix', 3), ('subprocess', 3), ('volumesfrom', 3), ('kegs', 3), ('partner', 3), ('retry', 3), ('waldomask', 3), ('lowest', 3), ('simpledateformat', 3), ('tomato', 3), ('approximation', 3), ('vanillajs', 3), ('su', 3), ('college', 3), ('careful', 3), ('gracefully', 3), ('debuglog', 3), ('peptidestxt', 3), ('alertsuccess', 3), ('rate', 3), ('comhunnysoftjmime', 3), ('sucks', 3), ('formed', 3), ('filepy', 3), ('divnavi', 3), ('density', 3), ('piping', 3), ('displayduration', 3), ('positionabsolute', 3), ('changeset', 3), ('autocompletion', 3), ('concurrency', 3), ('obfuscate', 3), ('resultset', 3), ('exits', 3), ('webpackdevserver', 3), ('testcompile', 3), ('mysqlrealescapestring', 3), ('trusted', 3), ('file2', 3), ('medium', 3), ('v01113', 3), ('fragmentmanager', 3), ('requirereact', 3), ('spanish', 3), ('notify', 3), ('amazonec2pem', 3), ('taskservice', 3), ('paddingtop', 3), ('heuristic', 3), ('heads', 3), ('somearray', 3), ('777', 3), ('chapters', 3), ('favor', 3), ('insist', 3), ('approved', 3), ('nonstatic', 3), ('selfsigned', 3), ('testios108209100607', 3), ('fromintegral', 3), ('ngclassactive', 3), ('ffmpeg', 3), ('regularly', 3), ('squashing', 3), ('toaster', 3), ('valuea', 3), ('band', 3), ('coolbranch', 3), ('don', 3), ('critique', 3), ('pep', 3), ('sshuserhostgitmod', 3), ('discuss', 3), ('flex2child', 3), ('fox', 3), ('under', 3), ('java2s', 3), ('overflowhidden', 3), ('putty', 3), ('foobarbaz', 3), ('mouseover', 3), ('metaclass', 3), ('bid', 3), ('periodically', 3), ('consolelogbeatle', 3), ('nonconstant', 3), ('preprocessing', 3), ('mydatacontainer', 3), ('reasonably', 3), ('systemtext', 3), ('mindist', 3), ('typecasting', 3), ('weights', 3), ('510', 3), ('chatroom', 3), ('achieving', 3), ('ngclass', 3), ('httprepo1mavenorgmaven2', 3), ('noisy', 3), ('webstorm', 3), ('bundlejs', 3), ('employed', 3), ('landscape', 3), ('shed', 3), ('x5', 3), ('brown', 3), ('mipmaps', 3), ('darken', 3), ('quotedf', 3), ('sharedpreferences', 3), ('sgi', 3), ('thisisasentence', 3), ('excludepattern', 3), ('openssl', 3), ('140000', 3), ('plays', 3), ('03032009', 3), ('rvm', 3), ('000000000', 3), ('xpath', 3), ('importance', 3), ('classmodal', 3), ('coreautocrlf', 3), ('detach', 3), ('fromviewcontrolleruiviewcontroller', 3), ('nbproject', 3), ('composition', 3), ('gnulinux', 3), ('appget', 3), ('scss', 3), ('mockito', 3), ('l4', 3), ('optimallive', 3), ('symlinks', 3), ('osx', 3), ('complaining', 3), ('ngondestroy', 3), ('strikes', 3), ('followup', 3), ('clutter', 3), ('picks', 3), ('commercially', 3), ('class2', 3), ('incorporate', 3), ('treemap', 3), ('ostream', 3), ('funky', 3), ('triple', 3), ('progressbar', 3), ('typetextjavascriptscript', 3), ('optimistic', 3), ('755', 3), ('frustrating', 3), ('li7li', 3), ('dotted', 3), ('rmi', 3), ('slamming', 3), ('drag', 3), ('sessionconfiguration', 3), ('line1', 3), ('titletitel', 3), ('currenttime', 3), ('widthheight', 3), ('categories', 3), ('fileoutputstream', 3), ('originmaster4', 3), ('aq', 3), ('popping', 3), ('stumped', 3), ('screenname', 3), ('abcd', 3), ('dirpy', 3), ('rerender', 3), ('systemconfiguration', 3), ('nsarray', 3), ('gesture', 3), ('conjunction', 3), ('luis', 3), ('miles', 3), ('col3', 3), ('test2list', 3), ('adopted', 3), ('wparam', 3), ('workitem', 3), ('0x0', 3), ('couchdb', 3), ('dbi', 3), ('bothers', 3), ('getter', 3), ('refsheadsmaster', 3), ('ai', 3), ('virtualenvwrapper', 3), ('nonempty', 3), ('halt', 3), ('beatle', 3), ('spite', 3), ('particle', 3), ('gitpull1', 3), ('nottrue', 3), ('dataid', 3), ('pseudo', 3), ('newobject', 3), ('myclassobject', 3), ('signout', 3), ('massive', 3), ('successes', 3), ('defer', 3), ('results0geometrylocation', 3), ('myprivatemethod', 3), ('bootstrapper', 3), ('sas', 3), ('startwatch', 3), ('packagelockjson', 3), ('dn', 3), ('ec2', 3), ('guy', 3), ('creators', 3), ('ne', 3), ('managing', 3), ('u10ffff', 3), ('rnor', 3), ('visibility', 3), ('faced', 3), ('mmessageslist', 3), ('excluding', 3), ('realise', 3), ('002840901', 3), ('reviewed', 3), ('ngclasstest', 3), ('y1', 3), ('rescue', 3), ('objselected', 3), ('hoc', 3), ('nmax', 3), ('skypeuser', 3), ('importsloader', 3), ('stdvectorint', 3), ('joe', 3), ('tip', 3), ('ensg00000199674', 3), ('dryrun', 3), ('2014', 3), ('compress', 3), ('strlenwhichstring', 3), ('numholes', 3), ('destroys', 3), ('kludgy', 3), ('patching', 3), ('sutter', 3), ('partial', 3), ('ef', 3), ('tgz', 3), ('firstborndate', 3), ('mytest', 3), ('assemblyversion', 3), ('li9li', 3), ('20090619', 3), ('replicate', 3), ('refactor', 3), ('050549877', 3), ('108', 3), ('0043', 3), ('8123', 3), ('cfam', 3), ('reduced', 3), ('panoramio', 3), ('harder', 3), ('unrelated', 3), ('ngfor', 3), ('bbb', 3), ('pause', 3), ('pseudorandom', 3), ('lineitemsdescription', 3), ('xmlserializer', 3), ('pom', 3), ('105', 3), ('crucial', 3), ('tclass', 3), ('whichever', 3), ('birth', 3), ('further', 3), ('nametype', 3), ('launching', 3), ('1001', 3), ('debate', 3), ('hassle', 3), ('firewall', 3), ('upgrading', 3), ('2option', 3), ('floatleft', 3), ('idtest', 3), ('slicing', 3), ('prepend', 3), ('interpreting', 3), ('varchar20', 3), ('relying', 3), ('variant', 3), ('textdecoration', 3), ('262', 3), ('stripped', 3), ('javascripts', 3), ('appviewscartwelcomethtml', 3), ('gc', 3), ('ngmodel', 3), ('verbs', 3), ('understands', 3), ('archived', 3), ('newdictkeys', 3), ('bashprofile', 3), ('mp', 3), ('jaxb', 3), ('gist', 3), ('plyr', 3), ('imho', 3), ('key2', 3), ('remotesoriginbugfix', 3), ('textinput', 3), ('strangely', 3), ('recommendation', 3), ('97', 3), ('wraps', 3), ('respective', 3), ('grails', 3), ('tcpip', 3), ('120000', 3), ('dropbox', 3), ('attaching', 3), ('logformat', 3), ('incremented', 3), ('consists', 3), ('convinced', 3), ('oriented', 3), ('spannablespanexclusiveexclusive', 3), ('redundant', 3), ('yourname', 3), ('fight', 3), ('hyperlink', 3), ('recorddateyear', 3), ('parallelism', 3), ('zone', 3), ('queue', 3), ('x86javajre7binjavawexe', 3), ('abstraction', 3), ('shtml', 3), ('inspection', 3), ('stopiteration', 3), ('jander', 3), ('lying', 3), ('hunny', 3), ('seotweaks', 3), ('nearby', 3), ('myusername', 3), ('nickname', 3), ('forcing', 3), ('varchar100', 3), ('ctrle', 3), ('picked', 3), ('reducer', 3), ('act', 3), ('exported', 3), ('pwd', 3), ('bridge', 3), ('cachemisses', 3), ('423156', 3), ('vc', 3), ('shady', 3), ('tickcount', 3), ('millisecond', 3), ('breakpoint', 3), ('literals', 3), ('printer', 3), ('programmatic', 3), ('experimentation', 3), ('nonstandard', 3), ('profiles', 3), ('puzzled', 3), ('javalangoutofmemoryerror', 3), ('resetting', 3), ('newlist', 3), ('bottles', 3), ('footballteam', 3), ('height20', 3), ('ah', 3), ('supposedly', 3), ('subs', 3), ('gif', 3), ('arr2', 3), ('yearsexperiencerequired', 3), ('tagged', 3), ('defaulttype', 3), ('instructs', 3), ('selfname', 3), ('who', 3), ('compound', 3), ('toolkitinterface', 3), ('objectauth', 3), ('threadsleep1000', 3), ('instructed', 3), ('selling', 3), ('facing', 3), ('requirejs', 3), ('910', 3), ('sspi', 3), ('dbname', 3), ('imply', 3), ('forum', 3), ('hotfix1', 3), ('sale', 3), ('strsetspannew', 3), ('db1', 3), ('suzi', 3), ('preventing', 3), ('debugttl', 3), ('scipy', 3), ('adopt', 3), ('113', 3), ('brian', 3), ('listofnames', 3), ('recommendations', 3), ('ioerror', 3), ('00000', 3), ('debian8ubuntu3', 3), ('nonvoid', 3), ('esoteric', 3), ('librarydevelopercommandlinetools', 3), ('endpoint', 3), ('autocomplete', 3), ('gvim', 3), ('0123456789', 3), ('iternext', 3), ('79', 3), ('sp1', 3), ('refused', 3), ('genericmethodt', 3), ('interactions', 3), ('redirected', 3), ('ipad', 3), ('extended', 3), ('headercontenttype', 3), ('browse', 3), ('reversed', 3), ('enableoversize', 3), ('systemio', 3), ('webkittransition', 3), ('capabilities', 3), ('t2', 3), ('connectionstrings', 3), ('resizing', 3), ('cosmic', 3), ('died', 3), ('legal', 3), ('injected', 3), ('asynctaskstring', 3), ('groupid', 3), ('nodedir', 3), ('testperfomancestrings', 3), ('retains', 3), ('scriptalias', 3), ('namea', 3), ('newer', 3), ('explode', 3), ('dataarray', 3), ('reader', 3), ('speaking', 3), ('modes', 3), ('mycolor', 3), ('transient', 3), ('thisrender', 3), ('valuesend', 3), ('evaluating', 3), ('midi', 3), ('backslash', 3), ('iframes', 3), ('multithreading', 3), ('3li', 3), ('cwd', 3), ('dbsavechanges', 3), ('fault', 3), ('activated', 3), ('addendum', 3), ('dragging', 3), ('nbsp', 3), ('stdlibh', 3), ('alpha030', 3), ('functionx', 3), ('jobdetailcontroller', 3), ('dismiss', 3), ('cin', 3), ('notion', 3), ('humanreadable', 3), ('iterateetstring', 3), ('20120930', 3), ('treated', 3), ('androidpaddingtop15dp', 3), ('hovering', 3), ('layers', 3), ('newinstance', 3), ('woot', 3), ('foo1', 3), ('exit1', 3), ('reducing', 3), ('mmmanufacturerid', 3), ('hhmmss', 3), ('dframe', 3), ('defaultttl', 3), ('instantiating', 3), ('nonconst', 3), ('newlines', 3), ('moztransition', 3), ('analytics', 3), ('textjavascript', 3), ('academic', 3), ('mypluginstartval', 3), ('libdir', 3), ('accustomed', 3), ('hashtag', 3), ('myservice', 3), ('hsap', 3), ('037s', 3), ('trans', 3), ('defaulting', 3), ('selfinit', 3), ('incrementing', 3), ('buildext', 3), ('addrange', 3), ('fileinputstreamfile', 3), ('script2py', 3), ('ve', 3), ('activate', 3), ('swear', 3), ('imageviews', 3), ('hrefsome', 3), ('0x0000ff', 3), ('duck', 3), ('gmt0', 3), ('documented', 3), ('writehost', 3), ('splice', 3), ('underscorejs', 3), ('retrieval', 3), ('20120909', 3), ('stmt', 3), ('rgb', 3), ('kilometers', 3), ('usermanager', 3), ('comandroidinternalpolicyimplphonewindowdecorviewdispatchkeyeventphonewindowjava1803', 3), ('med', 3), ('obj1', 3), ('boot', 3), ('doubleclockspersec', 3), ('stock', 3), ('catchexception', 3), ('satisfactory', 3), ('500px', 3), ('multiply', 3), ('erase', 3), ('bloch', 3), ('needing', 3), ('greaterlesserthan', 3), ('1option', 3), ('utf16', 3), ('assumes', 3), ('staticmethod', 3), ('scores', 3), ('sendfile', 3), ('serving', 3), ('51', 3), ('cherry', 3), ('functionreq', 3), ('addpd', 3), ('drwxrwxrx', 3), ('offering', 3), ('functionpane', 3), ('allocating', 3), ('lighten', 3), ('v0410', 3), ('detrimental', 3), ('str4', 3), ('separation', 3), ('peer', 3), ('week', 3), ('excels', 3), ('interestingly', 3), ('preserved', 3), ('vaguely', 3), ('gitk', 3), ('rainbow', 3), ('angularforms', 3), ('formgroup', 3), ('wherein', 3), ('datetimenow', 3), ('cont', 3), ('utilities', 3), ('windowevent', 3), ('18px', 3), ('namely', 3), ('ssh2msgnewkeys', 3), ('boxtime', 3), ('ngmodule', 3), ('addon', 3), ('sourcesafe', 3), ('java2', 3), ('persisting', 3), ('datetimeoffset', 3), ('permitted', 3), ('lineitems', 3), ('nexus', 3), ('reusable', 3), ('typesconfig', 3), ('idcontentdiv', 3), ('uk', 3), ('classcolxs4', 3), ('inherits', 3), ('persists', 3), ('extconfrb', 3), ('advise', 3), ('python3', 3), ('finds', 3), ('thelist', 3), ('xhronreadystatechange', 3), ('commenting', 3), ('rw', 3), ('eps', 3), ('sends', 3), ('juliet', 3), ('createdat', 3), ('migrating', 3), ('explore', 3), ('defeat', 3), ('willing', 3), ('heat', 3), ('fetched', 3), ('listanimal', 3), ('vast', 3), ('li6li', 3), ('benchmarking', 3), ('sam', 3), ('compelling', 3), ('amazon', 3), ('violate', 3), ('mountain', 3), ('readlinetestcpp', 3), ('asynctask', 3), ('proc', 3), ('privmsg', 3), ('ienumerablestring', 3), ('iter', 3), ('stub', 3), ('xmm8', 3), ('repeating', 3), ('homeeugenepublichtmlallthingsnodeprojectsfb2nodemodulesconnectauthlibindexjs1537', 3), ('vulnerable', 3), ('zwj', 3), ('formula', 3), ('consolelogouterscopevar', 3), ('accomplished', 3), ('presume', 3), ('formal', 3), ('circular', 3), ('enumeratorcurrent', 3), ('favoritefoods', 3), ('classbox', 3), ('timeh', 3), ('counts', 3), ('plots', 3), ('classa', 3), ('combined', 3), ('perceived', 3), ('bubble', 3), ('coffee', 3), ('hey', 3), ('alternating', 3), ('dns', 3), ('lib', 3), ('lineheight', 3), ('myfile', 3), ('cryptic', 3), ('cores', 3), ('xhtml', 3), ('assemblies', 3), ('slowing', 3), ('1em', 3), ('slim', 3), ('displaytemplate', 3), ('hid', 3), ('unusual', 3), ('traffic', 3), ('li4li', 3), ('datetimedatetime2011', 3), ('iboutlets', 3), ('horrible', 3), ('netrc', 3), ('privacysetting', 3), ('tablerowitem', 3), ('combining', 3), ('manualcontains', 3), ('whl', 3), ('creditorregistryid', 3), ('proportion', 3), ('xself', 3), ('hede', 3), ('orgspringframeworkspringcontextjar305release', 3), ('karma', 3), ('restless', 3), ('printmatrix', 3), ('eminem', 3), ('aux', 3), ('fontface', 3), ('resume', 3), ('roleid', 3), ('road', 3), ('devs', 3), ('commitbuildbat', 3), ('idisposable', 3), ('imyinterface', 3), ('enctypemultipartformdata', 3), ('admit', 3), ('iprincipal', 3), ('eliminates', 3), ('5000', 3), ('february', 3), ('calc', 3), ('imagemagick', 3), ('inclusive', 3), ('producing', 3), ('fetchtypeeager', 3), ('setupstream', 3), ('namemaplistchoice', 3), ('coders', 3), ('translate', 3), ('u200d', 3), ('justifyitems', 3), ('stri', 3), ('string2', 3), ('encourage', 3), ('constn', 3), ('dummybean', 3), ('song', 3), ('foundationapache22cgibin', 3), ('typejuggling', 3), ('sc', 3), ('persistent', 3), ('proved', 3), ('androidlayoutalignparenttoptrue', 3), ('2152', 3), ('cbindts', 3), ('toarray', 3), ('systemcollectionsgeneric', 3), ('identifiers', 3), ('dirbar', 3), ('507710000', 3), ('herb', 3), ('singleordefault', 3), ('39', 3), ('assigning', 3), ('identityinsert', 3), ('git1743282g844cb', 3), ('responsefilter', 3), ('myscript', 3), ('mymoduleservicemyservice', 3), ('cstyle', 3), ('uniqueness', 3), ('fromviewcontroller', 3), ('thisval', 3), ('tddata1td', 3), ('000001', 3), ('qbodyicontainscleanedsearchterm', 3), ('attraccessor', 3), ('appeared', 3), ('param1', 3), ('cans', 3), ('intrepeating', 3), ('awesome', 3), ('titles', 3), ('readline', 3), ('sessionstart', 3), ('v8', 3), ('la', 3), ('expressed', 3), ('odv', 3), ('defaultdata', 3), ('data2td', 3), ('callable', 3), ('walk', 3), ('intentions', 3), ('bestpractice', 3), ('sheets', 3), ('strength', 3), ('ontouchlistener', 3), ('forgets', 3), ('script3py', 3), ('u0000', 3), ('pet', 3), ('serves', 3), ('deadline', 3), ('y2', 3), ('arm', 3), ('textbox1text', 3), ('useragent', 3), ('egrep', 3), ('sidebar', 3), ('mathh', 3), ('95', 3), ('intentservice', 3), ('dun', 3), ('streamreader', 3), ('usercontrols', 3), ('errno', 3), ('satisfied', 3), ('protect', 3), ('factors', 3), ('proxysetheader', 3), ('dispatchonce', 3), ('providers', 3), ('androidosbundle', 3), ('isnumeric', 3), ('androidlayoutmarginright15dp', 3), ('supply', 3), ('9999', 3), ('mp3', 3), ('hands', 3), ('string1', 3), ('nsurl', 3), ('executables', 3), ('biggest', 3), ('duplicating', 3), ('mirror', 3), ('postman', 3), ('falls', 3), ('readers', 3), ('completeness', 3), ('pointless', 3), ('appropriately', 3), ('eye', 3), ('generatesymptoms', 3), ('cvs', 3), ('pypi', 3), ('intend', 3), ('desire', 3), ('contra', 3), ('fileseclipsesdk42win32x8664eclipsepluginsorgeclipseequinoxlauncher130v201205221813jar', 3), ('distinctvalues', 3), ('employee', 3), ('dickety', 3), ('fileclose', 3), ('submits', 3), ('seamlessly', 3), ('ambiguity', 3), ('responds', 3), ('countid', 3), ('basepageractivity', 3), ('enumerable', 3), ('en', 3), ('monitored', 3), ('azaz09', 3), ('githubs', 3), ('permutations', 3), ('221318694', 3), ('appealing', 3), ('consolewriteline', 3), ('young', 3), ('96000', 3), ('pow', 3), ('determining', 3), ('reject', 3), ('codec', 3), ('wonderful', 3), ('1345', 3), ('loggerddash', 3), ('767', 3), ('shot', 3), ('ssql', 3), ('illegalargumentexception', 3), ('keystrokes', 3), ('20120916', 3), ('gcd', 3), ('16px', 3), ('sudden', 3), ('digest', 3), ('tracks', 3), ('guest', 3), ('browserify', 3), ('viewing', 3), ('part1name', 3), ('progressdialog', 3), ('deeper', 3), ('junitjunit412', 3), ('genymotion', 3), ('suited', 3), ('qtitleicontainscleanedsearchterm', 3), ('culprit', 3), ('returnvalue', 3), ('tweet', 3), ('thisdata', 3), ('autogenerated', 3), ('negative', 3), ('hood', 3), ('sticks', 3), ('wordwrap', 3), ('alexs', 3), ('myparameterizedfunctionstring', 3), ('haswell', 3), ('podcast', 3), ('decipher', 3), ('dk', 3), ('fstruct', 3), ('blanktrue', 3), ('testphp', 3), ('mistakenly', 3), ('40k', 3), ('subnavigation', 3), ('incorrectly', 3), ('nametcol1', 3), ('willi', 3), ('classprintable', 3), ('construction', 3), ('culture', 3), ('bracket', 3), ('ancestor', 3), ('bitbucket', 3), ('iii', 3), ('2616', 3), ('backups', 3), ('jumps', 3), ('personally', 3), ('x8664', 3), ('injections', 3), ('idmain', 3), ('minified', 3), ('followsymlinks', 3), ('concurrent', 3), ('illustrate', 3), ('stringtoreplace', 3), ('nulltrue', 3), ('firstnom', 3), ('et', 3), ('unreliable', 3), ('systemoutprintlnenter', 3), ('jsf', 3), ('panametric', 3), ('myact', 3), ('hotfix', 3), ('slip', 3), ('traverse', 3), ('ass', 3), ('unsubscribes', 3), ('fizzsomeotherfile', 3), ('myurl', 3), ('intellijs', 3), ('figuring', 3), ('brief', 3), ('datetimetoday', 3), ('androidorientationvertical', 3), ('opensource', 3), ('detected', 3), ('proposal', 3), ('arise', 3), ('users1', 3), ('euler12hsx', 3), ('stubbing', 3), ('autolayout', 3), ('sidebyside', 3), ('itunes', 3), ('warnwarning', 3), ('wise', 3), ('61', 3), ('junk', 3), ('usuario', 3), ('priority', 3), ('optimizing', 3), ('mvn', 3), ('signatures', 3), ('irrelevant', 3), ('house', 3), ('132', 3), ('analogous', 3), ('implementationdefined', 3), ('gm', 3), ('xmas95', 3), ('blame', 3), ('stem', 3), ('datetime2', 3), ('messagectrl', 3), ('windowlocation', 3), ('transit', 3), ('rdirsi1eax', 3), ('testserverphp', 3), ('project1', 3), ('selfcontent', 3), ('sound', 3), ('somemethod', 3), ('dec', 3), ('v061pre', 3), ('terminated', 3), ('mocks', 3), ('closer', 3), ('enclose', 3), ('annotationprocessor', 3), ('mixin', 3), ('cash', 3), ('functionscope', 3), ('hyden', 3), ('unsubscribe', 3), ('coworkers', 3), ('usrbinpython', 3), ('overrides', 3), ('statlib', 3), ('hopefully', 3), ('recognizes', 3), ('meets', 3), ('myobjkey', 3), ('lparam', 3), ('filenamesx', 3), ('foojar', 3), ('inblasomecomjohnhomecom', 3), ('shrink', 3), ('theirs', 3), ('cutmp4', 3), ('movies', 3), ('randomize', 3), ('unacceptable', 3), ('decoded', 3), ('multidimensional', 3), ('apicontroller', 3), ('expandoobject', 3), ('marry', 3), ('tiny', 3), ('etcgmt0', 3), ('propagation', 3), ('typesafe', 3), ('zen', 3), ('daily', 3), ('800', 3), ('activitys', 3), ('str3', 3), ('cutting', 3), ('iboutlet', 3), ('presentation', 3), ('smooth', 3), ('scripting', 3), ('displaytemplates', 3), ('falling', 3), ('approute', 3), ('referred', 3), ('isa', 3), ('altered', 3), ('rebased', 3), ('entrypoint', 3), ('diacritics', 3), ('grammar', 3), ('createreactapp', 3), ('ddmmyyyy', 3), ('standalone', 3), ('paul', 3), ('2048', 3), ('gitclone', 3), ('compliant', 3), ('shape', 3), ('classic', 3), ('species', 3), ('omitted', 3), ('looper', 3), ('dataframes', 3), ('alertouterscopevar', 3), ('sreqqueryemail', 3), ('mainvoid', 3), ('addr', 3), ('aindex6', 3), ('infoplist', 3), ('revisions', 3), ('conclusions', 3), ('routing', 3), ('splits', 3), ('division', 3), ('positional', 3), ('applieddate', 3), ('lightweight', 3), ('catcherror', 3), ('cpythonprojects', 3), ('unicodeencodeerror', 3), ('monkey', 3), ('applicationspecific', 3), ('subjective', 3), ('widescreen', 3), ('resulted', 3), ('yanked', 3), ('derive', 3), ('iso', 3), ('resultlistappendx', 3), ('preprocessor', 3), ('consist', 3), ('tiendaslist', 3), ('painful', 3), ('manipulations', 3), ('2016', 3), ('thoroughly', 3), ('trust', 3), ('androidappactivity', 3), ('miss', 3), ('capitalization', 3), ('scoring', 3), ('onmessageinitialisation', 3), ('chosen', 3), ('peoplelist1addnew', 3), ('deltasec', 3), ('objectname', 3), ('school', 3), ('mydatabasebak', 3), ('metainformation', 3), ('fewer', 3), ('confident', 3), ('p2align', 3), ('binaryreader', 3), ('usepound', 3), ('nasm', 3), ('mymodule', 3), ('conda', 3), ('manipulate', 3), ('exporting', 3), ('distances', 3), ('allowdeny', 3), ('httpsgithubcomvisionmediaexpressgit', 3), ('mediaplayer', 3), ('newest', 3), ('maxi', 3), ('decent', 3), ('lm', 3), ('greedy', 3), ('environments', 3), ('blowfish', 3), ('tilde', 3), ('considerations', 3), ('idontlikeyouexception', 3), ('observed', 3), ('drawables', 3), ('li5li', 3), ('diteritems', 3), ('160px', 3), ('getsomestring', 3), ('devclip', 3), ('belongs', 3), ('li8li', 3), ('addhandler', 3), ('serialized', 3), ('appendoption', 3), ('dbmigrate', 3), ('importantly', 3), ('answering', 3), ('viewpage', 3), ('standardized', 3), ('borderleft', 3), ('gx', 3), ('tableid', 3), ('xls', 3), ('tty', 3), ('edittexts', 3), ('onetomanymappedbyparent', 3), ('stashing', 3), ('childs', 3), ('newuri', 3), ('shallow', 3), ('applicationxml', 3), ('h3lorem', 3), ('li3li', 3), ('shouldnt', 3), ('optionalarg', 3), ('tlsssl', 3), ('cprojectsmicrosoftpracticesesbsourcesamplesmanagement', 3), ('libjpeg', 3), ('rollover', 3), ('nameb', 3), ('objecthandle', 3), ('tvariable', 3), ('cr', 3), ('performant', 3), ('amounts', 3), ('firstclass', 3), ('renaming', 3), ('501', 3), ('javascriptserializer', 3), ('analytical', 3), ('extern', 3), ('listwherex', 3), ('viewonclicklistener', 3), ('locked', 3), ('databasename', 3), ('kb', 3), ('jars', 3), ('usersuesrlibrarydeveloperxcodederiveddataoptimallivefxatvygbofczeyhjsawtebkimvwxbuildproductsdebugiphoneosoptimalliveappinfoplist', 3), ('namename', 3), ('mins', 3), ('fg', 3), ('separates', 3), ('nullcoalescing', 3), ('binsh', 3), ('helloclass', 3), ('readlink', 3), ('association', 3), ('atxt', 3), ('confirmation', 3), ('fetchfetchtypeeager', 3), ('natural', 3), ('groovy', 3), ('30px', 3), ('judge', 3), ('powa6', 3), ('infinite', 3), ('pullright', 3), ('proto', 3), ('wikipedias', 3), ('transactions', 3), ('errorprone', 3), ('bearing', 3), ('cdata1', 3), ('postlist', 3), ('ondisk', 3), ('idiot', 3), ('applicability', 3), ('monday', 3), ('nesting', 3), ('subquery', 3), ('fp', 3), ('validator', 3), ('fourth', 3), ('morning', 3), ('userservice', 3), ('criterion', 3), ('terminates', 3), ('diagram', 3), ('iinterface', 3), ('department', 3), ('accountno', 3), ('wpserver', 3), ('gitsvn', 3), ('originbugfixc', 3), ('evenly', 3), ('bordercolor', 3), ('barely', 3), ('selectfilteractivity', 3), ('targets', 3), ('enumeratormovenext', 3), ('valdict', 3), ('binaries', 3), ('12345', 3), ('trash', 3), ('999', 3), ('titleh1', 3), ('characteristics', 3), ('li2li', 3), ('relearn', 3), ('resultcode', 3), ('arg0', 3), ('pathtopgconfig', 3), ('asynchronously', 3), ('notifications', 3), ('symlink', 3), ('insisted', 3), ('recording', 3), ('datastring', 3), ('sep', 3), ('fd9f578', 3), ('positioned', 3), ('mmul', 3), ('dfcolumnname', 3), ('head2', 3), ('bloated', 3), ('managementinstallps1', 3), ('scoping', 3), ('classwinstance', 3), ('customlog', 3), ('90px', 3), ('liitem', 3), ('changesets', 3), ('diamonds', 3), ('li1li', 3), ('fetchtypelazy', 3), ('refreshtoken', 3), ('classbold', 3), ('ilistitem', 3), ('awkward', 3), ('began', 3), ('printa', 3), ('edit2', 3), ('buildgradle', 3), ('renew', 3), ('collation', 3), ('mul', 3), ('ca', 3), ('v01', 3), ('openjdk', 3), ('recovery', 3), ('will', 3), ('typeface', 3), ('mydatagetsomedata', 3), ('artikel', 3), ('chalk', 3), ('unrestricted', 3), ('sbtostring', 3), ('css3', 3), ('hits', 3), ('pose', 3), ('introduces', 3), ('hresult', 3), ('fundamental', 3), ('myobj', 3), ('anytime', 2), ('boxshadow', 2), ('bloburl', 2), ('httplocalhost', 2), ('jerrycallfriendspikebark', 2), ('lamb', 2), ('globalasax', 2), ('phase2', 2), ('earth', 2), ('achieves', 2), ('nohup', 2), ('abd', 2), ('nowadays', 2), ('axios', 2), ('mimemodule', 2), ('east', 2), ('messagesfragmentclassgetname', 2), ('differentiate', 2), ('minyear', 2), ('credits', 2), ('masterpath', 2), ('movapd', 2), ('underlined', 2), ('clones', 2), ('mea', 2), ('realtime', 2), ('attributed', 2), ('gitdiff', 2), ('androidthemestyleappcompattheme', 2), ('xmlfindstrengthseachfunction', 2), ('myscriptjs', 2), ('mypattern', 2), ('itemtostringtolowerequalsvaluetrimtolower', 2), ('valueipsum', 2), ('logconfigmodule', 2), ('y16', 2), ('subtleties', 2), ('specialword', 2), ('authenticationmethod', 2), ('nslogexists', 2), ('die', 2), ('sizeofchar', 2), ('date1945', 2), ('cond1', 2), ('newname', 2), ('rsshandler', 2), ('latitude', 2), ('contemporary', 2), ('myclassmyprivatemethod', 2), ('persistence', 2), ('class4', 2), ('ifrnextint4', 2), ('fooi', 2), ('classtitleinput', 2), ('lazy', 2), ('autoresize', 2), ('androidwidgetlinearlayoutsetchildframelinearlayoutjava1119', 2), ('correspond', 2), ('gdp', 2), ('job2', 2), ('9600', 2), ('comandroidsupport', 2), ('ullirender', 2), ('someuser', 2), ('t1', 2), ('env1', 2), ('displaynone', 2), ('cake', 2), ('actiontypesstartedupdating', 2), ('backbonejs', 2), ('runatserver', 2), ('200000000', 2), ('contrived', 2), ('xmlserserializeswriter', 2), ('runtimeexception', 2), ('tfsession', 2), ('0m0020s', 2), ('scrollviewframeoriginy', 2), ('inplace', 2), ('0052', 2), ('keepalive', 2), ('mount', 2), ('aspnetregiisexe', 2), ('shipmentsshipment', 2), ('gps', 2), ('apples', 2), ('selfmedian', 2), ('motivations', 2), ('occurring', 2), ('repeaty', 2), ('3614131160212california', 2), ('tackle', 2), ('userprototypegetname', 2), ('1004', 2), ('420', 2), ('held', 2), ('northwindproducts', 2), ('retq', 2), ('getitemsjavaxservlethttphttpsession', 2), ('dataindex', 2), ('stragentcontact', 2), ('cnt', 2), ('qdefer', 2), ('virtually', 2), ('6291456byte', 2), ('lossy', 2), ('ratios', 2), ('getcontext', 2), ('258', 2), ('bank', 2), ('contour', 2), ('verified', 2), ('euler12', 2), ('consolelogi2', 2), ('dao', 2), ('0912385', 2), ('unified', 2), ('usrlocaloptjpeg', 2), ('wits', 2), ('eax30hxmm0', 2), ('array0', 2), ('code13', 2), ('androidappactivitythreadhhandlemessageactivitythreadjava1234', 2), ('dp', 2), ('cobject', 2), ('portability', 2), ('ܫ', 2), ('loose', 2), ('height100', 2), ('myfunctionstring', 2), ('z16', 2), ('tradition', 2), ('skwee357domaincom', 2), ('moderately', 2), ('49', 2), ('mpager', 2), ('html4', 2), ('clears', 2), ('nfsandisksjjhomedirfiletxt', 2), ('olddate', 2), ('124221303', 2), ('actionscript', 2), ('listmyclass', 2), ('argue', 2), ('pip3', 2), ('loc', 2), ('displayformatdataformatstring', 2), ('maplistgeti', 2), ('attack', 2), ('companymanager', 2), ('stress', 2), ('crack', 2), ('captures', 2), ('wrapper', 2), ('410881', 2), ('jsonvalidatereturnjsonencodearraytojs', 2), ('aliasing', 2), ('strnameargs', 2), ('dictionarytkeytvalue', 2), ('longrunning', 2), ('lxc', 2), ('expansion', 2), ('q2', 2), ('httphachecktelferhrxmlpl', 2), ('homeeugenepublichtmlallthingsnodeprojectsfb2nodemodulesconnectlibmiddlewarerouterjs1976', 2), ('traditional', 2), ('hell', 2), ('gittest2', 2), ('varies', 2), ('600036', 2), ('msil', 2), ('ipv6', 2), ('consolelogvalue', 2), ('marginleft', 2), ('factored', 2), ('mmpopcntu64bufferi2', 2), ('slowdown', 2), ('prod', 2), ('inputnamebedstatuscheckedval', 2), ('oldtable', 2), ('fiddler', 2), ('budget', 2), ('proprietary', 2), ('namebedstatus', 2), ('nonresponsive', 2), ('yb', 2), ('catchfunctionerr', 2), ('vlderror', 2), ('inset', 2), ('startactivityintent', 2), ('sqlite3stepstmt', 2), ('androidappactivitythreadmainactivitythreadjava5039', 2), ('thispropstyle', 2), ('xy', 2), ('ci', 2), ('489', 2), ('stems', 2), ('gameloopevents', 2), ('documentonload', 2), ('aforementioned', 2), ('squelch', 2), ('improper', 2), ('textbox1valthisischecked', 2), ('payment', 2), ('mydate', 2), ('myproject', 2), ('eoq', 2), ('jmimejar', 2), ('xa', 2), ('arraysaslist', 2), ('val4', 2), ('j2ee', 2), ('57', 2), ('mathematica', 2), ('systemdataentitycliententitycommanddefinitionexecutestorecommandsentitycommand', 2), ('whitespaces', 2), ('es5', 2), ('datajson', 2), ('securityexception', 2), ('regression', 2), ('positionfixed', 2), ('strsessionstring', 2), ('secondary', 2), ('sandbox', 2), ('habit', 2), ('itemli', 2), ('argv2', 2), ('hashtables', 2), ('perfile', 2), ('accountsreport', 2), ('classb', 2), ('aes256sha', 2), ('sitli', 2), ('emulator5554', 2), ('uffff', 2), ('funny', 2), ('entitystatemodified', 2), ('differing', 2), ('coalescing', 2), ('timenull', 2), ('mynameisbalajison', 2), ('debugskia4204', 2), ('simplifying', 2), ('formulation', 2), ('logthing', 2), ('thedict', 2), ('vmdk', 2), ('reactnative', 2), ('misused', 2), ('vstup', 2), ('acheive', 2), ('106', 2), ('loglevel', 2), ('responsibility', 2), ('syntactic', 2), ('c99', 2), ('syntaxerror', 2), ('invariant', 2), ('f12', 2), ('038s', 2), ('jframe', 2), ('namesremovename', 2), ('illegalaccessexception', 2), ('stdvector', 2), ('grepping', 2), ('titlea', 2), ('erased', 2), ('partitioning', 2), ('re', 2), ('prose', 2), ('squashes', 2), ('adict', 2), ('europe', 2), ('computations', 2), ('monty', 2), ('nt', 2), ('fedorahosted', 2), ('applicationpostauthenticaterequest', 2), ('firststringi', 2), ('scriptsock', 2), ('tsd', 2), ('altering', 2), ('skwee357', 2), ('javautilzipinflater', 2), ('operates', 2), ('bitmaps', 2), ('classtabmessage', 2), ('coworker', 2), ('filesfolders', 2), ('inform', 2), ('pagination', 2), ('collect2', 2), ('transactioncommitunlessmanaged', 2), ('wwdc', 2), ('origindevel', 2), ('jquerydistjqueryjs', 2), ('applicationoctetstream', 2), ('tcserver', 2), ('classmodalbody', 2), ('ee', 2), ('facebookid', 2), ('usable', 2), ('dtcol', 2), ('dostuffo', 2), ('progresssetprogresspos', 2), ('hmm', 2), ('alignments', 2), ('0x400dd0', 2), ('mmin', 2), ('sushi', 2), ('nrow', 2), ('complications', 2), ('street', 2), ('verbatim', 2), ('drill', 2), ('objsize', 2), ('pecan', 2), ('destructor', 2), ('gitgithubcomtheusertheprojectgit', 2), ('6015', 2), ('productname', 2), ('unwrapped', 2), ('submitfunction', 2), ('dcodes', 2), ('engineinnodb', 2), ('reflecting', 2), ('vldvalue', 2), ('endp', 2), ('angularmodulemyapp', 2), ('jsonloadf', 2), ('consolelogres', 2), ('yn', 2), ('androidididbutton', 2), ('homeeugenepublichtmlallthingsnodeprojectsfb2nodemodulesconnectlibmiddlewarerouterjs18913', 2), ('systemoutprintlnhello', 2), ('hackish', 2), ('agents', 2), ('id1', 2), ('assigns', 2), ('hellonworld', 2), ('selectorclickfunction', 2), ('reslayout', 2), ('xlfileformat', 2), ('logfiles', 2), ('collectionsabc', 2), ('takers', 2), ('workarounds', 2), ('odigicert', 2), ('javadeveloper', 2), ('friday', 2), ('httprequest', 2), ('23000', 2), ('teams', 2), ('provideplugin', 2), ('nonatomic', 2), ('voidmovebanneroffscreen', 2), ('xmm11', 2), ('1084', 2), ('dirmodule', 2), ('nsmutablearray', 2), ('buffering', 2), ('basepageradapter', 2), ('monads', 2), ('kex', 2), ('configureawaitfalse', 2), ('tocolor1', 2), ('companyidref', 2), ('artifactidjunitartifactid', 2), ('range0', 2), ('headerfileh', 2), ('inverse', 2), ('hihi', 2), ('misalignment', 2), ('setter', 2), ('homework', 2), ('stopwatchgettimestamp', 2), ('sysout', 2), ('aconcatb', 2), ('originremotename', 2), ('expands', 2), ('sethasmipmap', 2), ('cndigicert', 2), ('aiming', 2), ('iscategorical', 2), ('026780961', 2), ('graphic', 2), ('objectlist', 2), ('huh', 2), ('imagesappendaimage', 2), ('identifying', 2), ('cond2', 2), ('objmode', 2), ('javaneturlconnection', 2), ('texts', 2), ('tokencomment', 2), ('calloc', 2), ('objmyprivatemethod', 2), ('scrollviewframesizeheight', 2), ('androidlayoutcenterhorizontaltrue', 2), ('testc', 2), ('urlstring', 2), ('uidevice', 2), ('replay', 2), ('lsobjects', 2), ('auth0', 2), ('capacity', 2), ('fnoomitframepointer', 2), ('noteworthy', 2), ('infinity', 2), ('drawing', 2), ('m2e', 2), ('pleasing', 2), ('stdc11', 2), ('alive', 2), ('v21', 2), ('datetimedatetime', 2), ('softkeyboard', 2), ('testerpy', 2), ('mesitylene', 2), ('createaccountcs', 2), ('inte', 2), ('topicid', 2), ('xxxx', 2), ('lambdaexpression', 2), ('setupcfg', 2), ('unpacking', 2), ('myfeature', 2), ('flexibility', 2), ('structuring', 2), ('classcolxs5', 2), ('selfview', 2), ('dockerfiles', 2), ('c98', 2), ('summer', 2), ('assid', 2), ('iqueryablet', 2), ('gonna', 2), ('concerning', 2), ('12dihydro224', 2), ('setx', 2), ('120', 2), ('parentid', 2), ('1986l', 2), ('14988611', 2), ('toolset', 2), ('tattooed', 2), ('reenter', 2), ('stringlength10', 2), ('south', 2), ('symb', 2), ('poke', 2), ('comandroidinternalpolicyimplphonewindowdecorview433b7150', 2), ('vendorname', 2), ('swing', 2), ('laundry', 2), ('catchall', 2), ('withcredentials', 2), ('dojo', 2), ('u000d', 2), ('hoho', 2), ('clearer', 2), ('oneline', 2), ('timeittimeit', 2), ('testimplementation', 2), ('accesscontrolallowmethods', 2), ('ariahiddentrue', 2), ('boolfalse', 2), ('disregard', 2), ('permit', 2), ('noexit', 2), ('roe', 2), ('discarding', 2), ('5li', 2), ('lectures', 2), ('1066', 2), ('rand25chr', 2), ('contrary', 2), ('cachecontrol', 2), ('preceded', 2), ('stashes', 2), ('companyfeeddetailfeedsourcetabletoupper', 2), ('antigravity', 2), ('errorandroidruntime7737', 2), ('seven', 2), ('s1id', 2), ('myarray01', 2), ('newclass', 2), ('jersey', 2), ('classinstance', 2), ('1128', 2), ('extensively', 2), ('freeing', 2), ('distinguished', 2), ('inherently', 2), ('uikit', 2), ('0x400af8', 2), ('configuring', 2), ('conventional', 2), ('classitem', 2), ('smtp', 2), ('intact', 2), ('roomdetails', 2), ('functione', 2), ('amazing', 2), ('testios108209100611', 2), ('refreshcontactlist', 2), ('docheight', 2), ('element2', 2), ('contention', 2), ('stateless', 2), ('catches', 2), ('standardgeneric', 2), ('ngresource', 2), ('sourceproductautoid', 2), ('cheap', 2), ('nonsensical', 2), ('3option', 2), ('helloworld', 2), ('systemdataentity', 2), ('fdappend', 2), ('snip', 2), ('usrsharepostgresqlpostgresqlconfsample', 2), ('linebyline', 2), ('categorycomponent', 2), ('cbc', 2), ('filesmatch', 2), ('inputimage', 2), ('byte1024', 2), ('class3', 2), ('weather', 2), ('devfd4', 2), ('singlepage', 2), ('closedoc', 2), ('qty1', 2), ('0d', 2), ('matrixarray', 2), ('ecx20h', 2), ('yval', 2), ('ctrlspace', 2), ('0p2', 2), ('helping', 2), ('redfirstchild', 2), ('agoodfeature', 2), ('somenumber', 2), ('dirfoo', 2), ('93', 2), ('consume', 2), ('lame', 2), ('555', 2), ('32768', 2), ('etcgmt4', 2), ('multiviews', 2), ('7f1c864e', 2), ('peoplelist2', 2), ('homejohnsshidentity', 2), ('everyones', 2), ('orkut', 2), ('silently', 2), ('viewpoint', 2), ('theint', 2), ('giant', 2), ('lambdabodynodetype', 2), ('gl', 2), ('table2primarykey', 2), ('proscons', 2), ('nginx104', 2), ('selfsave', 2), ('svnmyserverpathtosvnrepos', 2), ('20110527', 2), ('inotifypropertychanged', 2), ('okhttp', 2), ('usr', 2), ('3f', 2), ('h9uest', 2), ('fuss', 2), ('searchage', 2), ('paid', 2), ('diamond', 2), ('fileinputinputinputfile', 2), ('conforms', 2), ('clientqueryinsert', 2), ('buttonbutton', 2), ('mircjoinmsession', 2), ('etcgmt12', 2), ('versionaspectjversionversion', 2), ('stringcontains', 2), ('file1nrwrwr', 2), ('20081122', 2), ('being', 2), ('optionselectedtext', 2), ('assembled', 2), ('sslrandomseed', 2), ('sourceiterator', 2), ('fileitem', 2), ('unfffe', 2), ('getwidth', 2), ('localespecific', 2), ('uitableviews', 2), ('myconstructordata', 2), ('ctr', 2), ('prototypically', 2), ('joy', 2), ('onetomanycascade', 2), ('htmldropdownlist', 2), ('openid', 2), ('validating', 2), ('baindex7', 2), ('mymethodstring', 2), ('119', 2), ('masks', 2), ('rootscopeloggeduser', 2), ('decoupled', 2), ('1051', 2), ('child0', 2), ('224441', 2), ('timeinchild', 2), ('robert', 2), ('1120', 2), ('bla', 2), ('bs', 2), ('ldap', 2), ('deleteafter', 2), ('routes', 2), ('httpgithubcomjscruggsmetricfugit', 2), ('nsoperationqueue', 2), ('checksum', 2), ('androidididtextview', 2), ('country', 2), ('predicates', 2), ('2034', 2), ('titlec', 2), ('instruct', 2), ('abc123', 2), ('exceeding', 2), ('readyfunction', 2), ('inputfiles0', 2), ('numarray', 2), ('arraysaslista', 2), ('10000000', 2), ('filereadallbytescusersluissimbiosdocumentsvisual', 2), ('nametest1', 2), ('roottestout', 2), ('classcontainer', 2), ('printr', 2), ('proposals', 2), ('bdata1', 2), ('consecutive', 2), ('applicantid', 2), ('47', 2), ('newheight', 2), ('myapplicationname', 2), ('euler12bin', 2), ('bark', 2), ('ulnotfirstchild', 2), ('updateviewpager', 2), ('objc', 2), ('trailimage2', 2), ('intentintentactionview', 2), ('exp1', 2), ('contours', 2), ('substitute', 2), ('visited', 2), ('sock', 2), ('foosh', 2), ('androidfontfamilyarial', 2), ('thisismystring', 2), ('androidid', 2), ('continuously', 2), ('timmy', 2), ('correlation', 2), ('awaiting', 2), ('publishing', 2), ('ant', 2), ('objclass', 2), ('clip', 2), ('hrefhomeadiv', 2), ('deeplyburieddifferentjavasourcedirectoryb', 2), ('mistaken', 2), ('errorparsing', 2), ('httpserverhandle', 2), ('struggle', 2), ('windowactionbar', 2), ('validationcheck', 2), ('abandon', 2), ('waits', 2), ('useragenti', 2), ('xz', 2), ('fieldbody', 2), ('swriter', 2), ('serialnumberc3268102', 2), ('median', 2), ('varchar3000', 2), ('fluid', 2), ('programmed', 2), ('1987l', 2), ('89', 2), ('picking', 2), ('btn', 2), ('asynctasks', 2), ('nosuchfieldexception', 2), ('suite', 2), ('accountcreditregistryid', 2), ('reshape', 2), ('serious', 2), ('sizeofstruct', 2), ('moref', 2), ('picjpg', 2), ('inbuilt', 2), ('20120923', 2), ('updown', 2), ('itrgetid', 2), ('photostream', 2), ('severely', 2), ('pool', 2), ('androidlayouttorightofidhostinput', 2), ('getsourcevalue', 2), ('fiboint', 2), ('applicationvndorgsniacdmidataobjectjson', 2), ('conventions', 2), ('mattered', 2), ('usercontrl1loaddatamethod', 2), ('f5', 2), ('ctrly', 2), ('systemerror', 2), ('processonuncaughtexception', 2), ('newboard', 2), ('positionrelative', 2), ('myremoterepocomstuffgit', 2), ('cleartext', 2), ('hype', 2), ('eventstoppropagation', 2), ('rmdir', 2), ('dataappend', 2), ('spans', 2), ('faye', 2), ('startedupdating', 2), ('treating', 2), ('googleservicesjson', 2), ('156467', 2), ('audio', 2), ('systemoutprint', 2), ('drawn', 2), ('formbuilder', 2), ('8601', 2), ('100byte', 2), ('fontstyle', 2), ('haha', 2), ('encapsulation', 2), ('xmx512m', 2), ('ini', 2), ('disappears', 2), ('excitement', 2), ('blocking', 2), ('100000sizeduration', 2), ('duplication', 2), ('bsdlike', 2), ('buttonfocus', 2), ('marginright', 2), ('cipher', 2), ('ogithub', 2), ('delta', 2), ('getschomp', 2), ('fashion', 2), ('ripple', 2), ('3configurationgroupnullnameconfiguration', 2), ('edges', 2), ('fragmentpageradapter', 2), ('wherever', 2), ('getid', 2), ('25f5fe70fa84', 2), ('ngifisvalid', 2), ('gitobjects03dfd60a4809a3ba7023cbf098eb322d08630b71', 2), ('ufdef', 2), ('pprint', 2), ('datacontractjsonserializer', 2), ('finger', 2), ('docwidth', 2), ('motivation', 2), ('picker', 2), ('authmessagesender', 2), ('vendorpluginsmetricfu', 2), ('znotnull', 2), ('fileid', 2), ('orphaned', 2), ('minientregash', 2), ('scrollbars', 2), ('hyphen', 2), ('usergroup', 2), ('clsinstancescls', 2), ('successfunction', 2), ('calculated', 2), ('mydataset', 2), ('rvalue', 2), ('secondsn', 2), ('encodeuricomponent', 2), ('fbcallbackaddress', 2), ('ktext', 2), ('nsmutableurlrequest', 2), ('msinternalthreadingexceptionfilterhelpertrycatchwhenobject', 2), ('motionevent', 2), ('charset', 2), ('httpexamplecomscriptphp', 2), ('innocents', 2), ('arraytypepork', 2), ('androidtextstringlabelsubmitbutton', 2), ('base64encoded', 2), ('cap', 2), ('macintosh', 2), ('restaurantprototypeuserestroom', 2), ('nu', 2), ('sslmodule', 2), ('loginform', 2), ('androidlayoutbelowidhostlabel', 2), ('snow', 2), ('mixins', 2), ('sheet', 2), ('testajax', 2), ('dd', 2), ('tabindex1', 2), ('illustrating', 2), ('casing', 2), ('presence', 2), ('112', 2), ('sometime', 2), ('5432', 2), ('ordersordernumber', 2), ('p3', 2), ('south073', 2), ('sensor', 2), ('bothering', 2), ('mainactivity', 2), ('delivering', 2), ('grandfather', 2), ('42000', 2), ('joshua', 2), ('v050', 2), ('pnormx', 2), ('installations', 2), ('titleb', 2), ('mxutilsdelegate', 2), ('libraryjavajavavirtualmachines', 2), ('test4', 2), ('aes', 2), ('functionapp', 2), ('ca1', 2), ('datamodel', 2), ('torn', 2), ('353', 2), ('enjoyed', 2), ('scrollviewframesizewidth', 2), ('nghide', 2), ('march', 2), ('routerhistorylocation', 2), ('tdtwotd', 2), ('christoph', 2), ('hithsidsdfhsjdfdfjsdsdjfsdnn', 2), ('http1270018888authfacebookcallback', 2), ('toy', 2), ('mythread', 2), ('foreache', 2), ('ccompanyid', 2), ('orgslf4jimplstaticloggerbinder', 2), ('pig', 2), ('135', 2), ('lift', 2), ('viewdata', 2), ('namebart', 2), ('stcalifornia', 2), ('zerofilled', 2), ('273', 2), ('9000000', 2), ('decorate', 2), ('ibmdb2', 2), ('v35', 2), ('listsetoncreatecontextmenulistenernew', 2), ('androidappactivitydispatchkeyeventactivityjava2269', 2), ('enclosing', 2), ('validated', 2), ('inputnextint', 2), ('osgetuid', 2), ('0s', 2), ('dot', 2), ('personnewinfo', 2), ('expired', 2), ('bcommon', 2), ('pathspec', 2), ('claimed', 2), ('searchterm', 2), ('unfamiliar', 2), ('codetoremovetup', 2), ('ukkonens', 2), ('somethings', 2), ('classfoo', 2), ('rulers', 2), ('lst', 2), ('invoking', 2), ('planned', 2), ('stringbyappendingstring', 2), ('curdate', 2), ('fabric120', 2), ('utf8unicodeci', 2), ('annoyance', 2), ('acommonfield', 2), ('branchname', 2), ('responseflush', 2), ('csh', 2), ('customerorderservice', 2), ('diffs', 2), ('minorversion', 2), ('portrait', 2), ('01012009', 2), ('xhropen', 2), ('newtable', 2), ('puzzling', 2), ('yyvalsum', 2), ('bluehost', 2), ('datetimemaxvalue', 2), ('9998', 2), ('mislastmessages', 2), ('duration10e9', 2), ('tableheader', 2), ('proj', 2), ('classba', 2), ('x2', 2), ('objmyclassmyprivatemethod', 2), ('pproductid', 2), ('classaa', 2), ('xmm9', 2), ('prefers', 2), ('bthe', 2), ('restoring', 2), ('raxrcx', 2), ('lad', 2), ('custs', 2), ('meyers', 2), ('columnscolumnnames', 2), ('inval', 2), ('gained', 2), ('respcontent', 2), ('tagnames', 2), ('encodeuri', 2), ('inverted', 2), ('mongo', 2), ('egetcolor', 2), ('applicationstartuppath', 2), ('lowlevel', 2), ('wreturntype', 2), ('sortedlist', 2), ('2030', 2), ('zsh', 2), ('doesn', 2), ('rptdate', 2), ('methodsget', 2), ('surrounded', 2), ('videolistcomponent', 2), ('userpass', 2), ('233', 2), ('item2', 2), ('unsorted', 2), ('rsirdx', 2), ('dcodegt2touch', 2), ('lodash', 2), ('hashmaps', 2), ('qk', 2), ('etcgmt3', 2), ('windowfeatureactionbar', 2), ('investigations', 2), ('x86gitbincurlcabundlecrt', 2), ('superclass', 2), ('dimensions', 2), ('jorman', 2), ('resorted', 2), ('objvalue1', 2), ('contributor', 2), ('corresponds', 2), ('xmm1', 2), ('232', 2), ('thisstring', 2), ('foot', 2), ('weaknesses', 2), ('idrawable', 2), ('nul', 2), ('widths', 2), ('ufffe', 2), ('systemiopathgetdirectoryname', 2), ('san', 2), ('bash31', 2), ('nonunique', 2), ('printrarray', 2), ('auxwww', 2), ('selectidengraving', 2), ('sharedinstance', 2), ('physically', 2), ('21st', 2), ('unmerged', 2), ('administration', 2), ('titlepageindicator', 2), ('thedate', 2), ('heroes', 2), ('encodes', 2), ('ten', 2), ('imgji', 2), ('carrot', 2), ('exceptional', 2), ('haystack', 2), ('reproduced', 2), ('serveradmin', 2), ('inputline', 2), ('oncreatecontextmenulistener', 2), ('routerrunroutes', 2), ('fileopenmyfiletxt', 2), ('unoptimized', 2), ('seemingly', 2), ('c90', 2), ('compressing', 2), ('enumeratort', 2), ('03454545', 2), ('distinction', 2), ('systemiofileloadexception', 2), ('ftpaddr', 2), ('leaning', 2), ('kicks', 2), ('0030915', 2), ('nchar', 2), ('uialertview', 2), ('decor', 2), ('documentstatuslogs', 2), ('scientist', 2), ('impacts', 2), ('v081', 2), ('contacts', 2), ('german', 2), ('ospathdirnamefilepath', 2), ('rewriting', 2), ('311', 2), ('androidappactivitythreadhandlelaunchactivityactivitythreadjava2230', 2), ('1n', 2), ('holes', 2), ('415', 2), ('doinbackground', 2), ('zzz', 2), ('issuer', 2), ('tclose', 2), ('serializedtodto', 2), ('installinstallfile', 2), ('eax', 2), ('1985l', 2), ('aligncontent', 2), ('mallocsizeofint', 2), ('polygoni', 2), ('glance', 2), ('assignments', 2), ('spacebetween', 2), ('blenb2', 2), ('lis', 2), ('listings', 2), ('inconvenient', 2), ('ulong', 2), ('awful', 2), ('questionref', 2), ('bundling', 2), ('p14cpp', 2), ('prebuild', 2), ('score', 2), ('independently', 2), ('clearall', 2), ('scopeusername', 2), ('authenticity', 2), ('getexecutionpolicy', 2), ('additions', 2), ('streamstring', 2), ('filenil', 2), ('canonization', 2), ('dbexit', 2), ('querysets', 2), ('fills', 2), ('unroll', 2), ('inconsistent', 2), ('0in', 2), ('oneli', 2), ('pococapsule', 2), ('typenumber', 2), ('contract', 2), ('ws', 2), ('composed', 2), ('thisvertical', 2), ('browsermodule', 2), ('recompiling', 2), ('bases', 2), ('retype', 2), ('factorial', 2), ('geocodergeocode', 2), ('commenters', 2), ('aspectlibraries', 2), ('bsd', 2), ('oncreatecontextmenucontextmenu', 2), ('blabla', 2), ('pessimistic', 2), ('totals', 2), ('divdiv', 2), ('aaash', 2), ('wishes', 2), ('2006', 2), ('eax30h', 2), ('portions', 2), ('animatewithduration2', 2), ('thissetstate', 2), ('asp', 2), ('servlets', 2), ('5452222', 2), ('uniquely', 2), ('queued', 2), ('modelviewviewmodel', 2), ('datacompanymicrosoft', 2), ('html2pdf', 2), ('functionresponse', 2), ('367', 2), ('bomb', 2), ('newvar', 2), ('relating', 2), ('parentheight', 2), ('educational', 2), ('xy2', 2), ('typos', 2), ('windowsauthentication', 2), ('emplaceback', 2), ('plotx', 2), ('fileutils', 2), ('reinstallation', 2), ('tampered', 2), ('paneselected', 2), ('th', 2), ('xmm5', 2), ('newval', 2), ('pythonh', 2), ('002', 2), ('transferred', 2), ('consolelogdate', 2), ('datasql', 2), ('contest', 2), ('idbox', 2), ('maximums', 2), ('xrange0', 2), ('minsdkversion', 2), ('onactivityresultint', 2), ('untagged', 2), ('filesandfolders', 2), ('nolock', 2), ('ggplot2', 2), ('maxelems', 2), ('arose', 2), ('rbp', 2), ('xattribute', 2), ('quirks', 2), ('purported', 2), ('defaultt', 2), ('coordinates', 2), ('childsomebaseclass', 2), ('etcgmt10', 2), ('cgibin', 2), ('dosomethingelse', 2), ('vh', 2), ('synchronizing', 2), ('education', 2), ('retaining', 2), ('subscriptions', 2), ('speak', 2), ('mailing', 2), ('nsurlsessionconfiguration', 2), ('relaunch', 2), ('abc07fcf79aebed56497e3894c6c3c06046f913a', 2), ('returnstream', 2), ('maintainability', 2), ('myobjprop', 2), ('proportional', 2), ('groupidorgaspectjgroupid', 2), ('receiver', 2), ('dataframecustomerid', 2), ('homeeugenepublichtmlallthingsnodeprojectsfb2nodemodulesconnectlibhttpjs2113', 2), ('blob2', 2), ('totalamount', 2), ('bhtml', 2), ('exp2', 2), ('processcwd', 2), ('ticks', 2), ('demonstrating', 2), ('controllercontext', 2), ('generalize', 2), ('mymap', 2), ('v3', 2), ('embedding', 2), ('httpgetdatajsonsuccessfunction', 2), ('wsdl', 2), ('chop', 2), ('francisco', 2), ('kindly', 2), ('utilize', 2), ('centerspanali', 2), ('king', 2), ('gotchas', 2), ('exclusively', 2), ('reveals', 2), ('methodname', 2), ('relied', 2), ('repr', 2), ('warned', 2), ('artifacts', 2), ('misunderstood', 2), ('261', 2), ('enhancement', 2), ('reside', 2), ('volumes', 2), ('vocabulary', 2), ('megabytes', 2), ('objtype', 2), ('namefile', 2), ('javalangnullpointerexception', 2), ('suck', 2), ('firsttotal', 2), ('cron', 2), ('wet', 2), ('gateway', 2), ('createsomething', 2), ('homeid', 2), ('hole', 2), ('overlooked', 2), ('i18n', 2), ('bstaged', 2), ('ghi', 2), ('slight', 2), ('bowerdir', 2), ('testtime', 2), ('formsauth', 2), ('valore', 2), ('magically', 2), ('mmpopcntu64bufferi1', 2), ('female', 2), ('xib', 2), ('5124', 2), ('6784329', 2), ('typeimagexicon', 2), ('maintainable', 2), ('etcgmt8', 2), ('ud800', 2), ('4000', 2), ('capital', 2), ('optimizes', 2), ('personname', 2), ('customizable', 2), ('layoutpersonal', 2), ('exited', 2), ('a3', 2), ('offending', 2), ('plata', 2), ('strvaluestosearch', 2), ('ps1', 2), ('op', 2), ('adictkey', 2), ('getset', 2), ('optionalint', 2), ('newfragment', 2), ('systemoutprintlnmapgetword', 2), ('ipkkllqk', 2), ('caseyagave', 2), ('recorded', 2), ('consolelogformat', 2), ('snapshot', 2), ('wont', 2), ('companyname', 2), ('sizeof', 2), ('androidtextstringwelcome', 2), ('listgeti', 2), ('107', 2), ('wecs', 2), ('localhostjoblist', 2), ('setdata', 2), ('thatd', 2), ('featuring', 2), ('age39', 2), ('improves', 2), ('mlistener', 2), ('intuitively', 2), ('reveal', 2), ('oldschool', 2), ('idsource', 2), ('meanwhile', 2), ('table2somethingelse', 2), ('child40', 2), ('arraytojs', 2), ('fnoalignfunctions', 2), ('flexstart', 2), ('smiley', 2), ('requireexpress', 2), ('qualify', 2), ('mapinteger', 2), ('loopbound', 2), ('setbased', 2), ('textviewthis', 2), ('youarebeingmeanexception', 2), ('transpile', 2), ('varname', 2), ('engravinghide', 2), ('deserialization', 2), ('etcgmt11', 2), ('co', 2), ('price350', 2), ('reopening', 2), ('tofrom', 2), ('removeelement', 2), ('efinreporterfmextpy449', 2), ('redirection', 2), ('labelsize20', 2), ('packed', 2), ('simplejsondumpsarraytojs', 2), ('unffff', 2), ('v2', 2), ('theyll', 2), ('refereri', 2), ('buttonactive', 2), ('stat', 2), ('logcat', 2), ('imperativeoo', 2), ('urllib2', 2), ('claiming', 2), ('simplejson', 2), ('mtextviewsettextwelcome', 2), ('unnecessarily', 2), ('variations', 2), ('typedefs', 2), ('dmgr2', 2), ('318', 2), ('androidmipmap', 2), ('highlight', 2), ('indicating', 2), ('speeds', 2), ('es2015', 2), ('mysitezjm1126zjm1126g41mts2zjmtestmysite', 2), ('statecomment', 2), ('lend', 2), ('screenshots', 2), ('sqlite3resetstmt', 2), ('alabama', 2), ('readlinetestpy', 2), ('doinbackgroundstring', 2), ('table1this', 2), ('sayhello', 2), ('sshadd', 2), ('quantitybreakdown', 2), ('positionid', 2), ('datetime1970', 2), ('file2n', 2), ('applyformatineditmode', 2), ('sqlfiddle', 2), ('shadow', 2), ('userdata', 2), ('insecure', 2), ('passbyreference', 2), ('opencv', 2), ('memcached', 2), ('xmlserializerdtogettype', 2), ('systemoutprintlnx', 2), ('typetextcss', 2), ('soreuseaddr', 2), ('ipsumli', 2), ('liner', 2), ('inext', 2), ('treeset', 2), ('xms40m', 2), ('androidwidgetframelayoutonlayoutframelayoutjava294', 2), ('idmyinput', 2), ('250000', 2), ('mmpopcntu64bufferi', 2), ('formmethodpost', 2), ('barcodenumber', 2), ('cxamppphp', 2), ('inuniont', 2), ('headsdevel', 2), ('unwrap', 2), ('insists', 2), ('objectanonymous', 2), ('arrived', 2), ('ahtml', 2), ('2478', 2), ('summing', 2), ('getapplicationcontext', 2), ('multilingual', 2), ('callmyfunctionint', 2), ('4li', 2), ('aires', 2), ('ie9', 2), ('adjustments', 2), ('doingusing', 2), ('spin', 2), ('789', 2), ('needle', 2), ('androidinputtypetextemailaddress', 2), ('601009', 2), ('mangling', 2), ('varrunscreenssb', 2), ('homeeugenepublichtmlallthingsnodeprojectsfb2nodemodulesconnectlibmiddlewaresessionjs3239', 2), ('browserspecific', 2), ('aborting', 2), ('functionrouteprovider', 2), ('8012011', 2), ('ospathabspath', 2), ('unnamed', 2), ('greek', 2), ('42f', 2), ('libmodelom', 2), ('var3', 2), ('modelstate', 2), ('pico', 2), ('expr', 2), ('microoptimization', 2), ('hrefjavascriptvoid0', 2), ('docsiisexpress', 2), ('testclass', 2), ('configdatabasesyml', 2), ('sales', 2), ('starter', 2), ('handful', 2), ('idfoo', 2), ('flushing', 2), ('frankly', 2), ('attrs', 2), ('controlling', 2), ('homeeugenepublichtmlallthingsnodeprojectsfb2nodemodulesconnectlibmiddlewarerouterjs19110', 2), ('consolelogmy', 2), ('myelement', 2), ('fare', 2), ('mailto', 2), ('waste', 2), ('creator', 2), ('coder', 2), ('fishing', 2), ('iteratorstring', 2), ('048', 2), ('seeking', 2), ('capath', 2), ('blob3', 2), ('dso', 2), ('vcs', 2), ('restricts', 2), ('determines', 2), ('l2', 2), ('office', 2), ('instancesclass', 2), ('listenport', 2), ('photos', 2), ('thisprop', 2), ('quotedftdate', 2), ('ctags', 2), ('127001', 2), ('eax38h', 2), ('savedev', 2), ('1123', 2), ('stylestylesinstructions', 2), ('raisedbutton', 2), ('val3', 2), ('xhttpmethodoverride', 2), ('valuechalk', 2), ('countemail', 2), ('havent', 2), ('structs', 2), ('sharing', 2), ('uninitialized', 2), ('yada', 2), ('typeofint', 2), ('thread2', 2), ('itertoolsgroupby', 2), ('118', 2), ('senders', 2), ('wasteful', 2), ('someuserinput', 2), ('c5', 2), ('titleh2', 2), ('keyerror', 2), ('myprivatemethodself', 2), ('functionprodgrp', 2), ('tiered', 2), ('atolargv1', 2), ('proportions', 2), ('jit', 2), ('atmp', 2), ('daunting', 2), ('http1270013000', 2), ('0619', 2), ('scalar', 2), ('iran', 2), ('dispatchoncet', 2), ('guard', 2), ('processclasses', 2), ('allign', 2), ('8192', 2), ('varwwwwwwexamplecomweb', 2), ('functionally', 2), ('evolution', 2), ('beginners', 2), ('objmystring', 2), ('tf', 2), ('tokensadd', 2), ('xmm10', 2), ('partly', 2), ('20130729', 2), ('mapchr', 2), ('shepherd', 2), ('etccrontab', 2), ('spit', 2), ('pd', 2), ('observer', 2), ('operands', 2), ('examplestring', 2), ('ubuntubase', 2), ('0x400a68', 2), ('hidefromkgb', 2), ('winning', 2), ('baskets', 2), ('w3schools', 2), ('stringcollection', 2), ('emitted', 2), ('york', 2), ('discards', 2), ('mxcontrolsmimport', 2), ('yo', 2), ('replied', 2), ('uninstalling', 2), ('tad', 2), ('sum0', 2), ('pane', 2), ('plotted', 2), ('ccity', 2), ('saxparser', 2), ('sibling', 2), ('column3', 2), ('ash', 2), ('polygon', 2), ('twitters', 2), ('aimagefileid', 2), ('xxmaxpermsize256m', 2), ('perfmon', 2), ('indented', 2), ('accident', 2), ('0016647', 2), ('dfdfa', 2), ('tzinfoutc', 2), ('dolorspec', 2), ('increased', 2), ('bet', 2), ('coldfusion', 2), ('viewcontroller', 2), ('resets', 2), ('frm', 2), ('capache', 2), ('bullet', 2), ('xmm6', 2), ('colorint', 2), ('ida', 2), ('quotation', 2), ('tile', 2), ('stringisnulloremptyvalue', 2), ('int0', 2), ('rivworksmodelnegotiationproduct', 2), ('56e05fced214c44a37759efa2dfc25a65d8ae98d', 2), ('binded', 2), ('mynameserver', 2), ('x16', 2), ('town', 2), ('optlampphtdocs', 2), ('outlet', 2), ('myselect', 2), ('webrick', 2), ('discussed', 2), ('opaque', 2), ('h1hover', 2), ('cocacola', 2), ('onsaveinstancestatebundle', 2), ('grand', 2), ('abis', 2), ('maxint', 2), ('sideeffects', 2), ('inputpng', 2), ('businesses', 2), ('stdsortdata', 2), ('truth', 2), ('appconfigurefunction', 2), ('thenfunctionval', 2), ('phones', 2), ('nanoos', 2), ('timed', 2), ('unneccessary', 2), ('ii', 2), ('destroyitemview', 2), ('outputpng', 2), ('subclipse', 2), ('javasqldate', 2), ('varchar500', 2), ('0075171', 2), ('heading', 2), ('0034160', 2), ('literally', 2), ('eb65635', 2), ('superior', 2), ('syntaxes', 2), ('templatetypename', 2), ('bitten', 2), ('toggles', 2), ('org', 2), ('rdoc', 2), ('authenticating', 2), ('1812', 2), ('gitgithubcommynameoldrepgit', 2), ('sourcefiles', 2), ('etcgmt7', 2), ('animatewithduration5', 2), ('outofcore', 2), ('muls', 2), ('0x400c00', 2), ('etcgmt9', 2), ('generators', 2), ('cipherupdateplaintext', 2), ('usercontrol', 2), ('ssh2msgkexinit', 2), ('backticks', 2), ('listiterator', 2), ('costs', 2), ('blown', 2), ('gitconfig1', 2), ('collectionssynchronizedmapmap', 2), ('spambot', 2), ('preserves', 2), ('formatabc', 2), ('downloadable', 2), ('propertychanged', 2), ('france', 2), ('automagically', 2), ('preincrementdecrement', 2), ('startp', 2), ('repeats', 2), ('aliasmodule', 2), ('a5', 2), ('1071', 2), ('webpath', 2), ('pascalcase', 2), ('foundationapache22htdocs', 2), ('openfname', 2), ('gitkeep', 2), ('000108678', 2), ('javadocs', 2), ('uninitializedbool', 2), ('tfconstanthello', 2), ('unlinked', 2), ('spurving', 2), ('spannable', 2), ('nonpython', 2), ('homeeugenepublichtmlallthingsnodeprojectsfb2nodemodulesconnectlibmiddlewaresessionjs3389', 2), ('gemfile', 2), ('cmovl', 2), ('engravingshow', 2), ('markers', 2), ('combinations', 2), ('inputdisabled', 2), ('stressing', 2), ('polygonsize', 2), ('logiomodule', 2), ('vardumpeacharray', 2), ('recursive', 2), ('parseintcol', 2), ('235408', 2), ('0109852', 2), ('textcss', 2), ('mapsuniqueindexchoices', 2), ('comandroidideeclipseadtfeaturefeaturegroup', 2), ('thisgetattributestyle', 2), ('serializebool', 2), ('contributed', 2), ('classca', 2), ('presses', 2), ('taught', 2), ('recoverable', 2), ('managepy', 2), ('itemmaster', 2), ('funcs', 2), ('dispatchtimet', 2), ('alerterror', 2), ('pertinent', 2), ('libfilterbase', 2), ('incredibly', 2), ('synchronously', 2), ('predicate', 2), ('restfulness', 2), ('statusddlval2', 2), ('counterparts', 2), ('maximal', 2), ('connects', 2), ('cascadetypeall', 2), ('elapsedtime', 2), ('myvalue', 2), ('sieve', 2), ('mypublicmethodself', 2), ('serviceconnection', 2), ('xcodeselect', 2), ('sqlite3bindtext', 2), ('racespecieskey', 2), ('f104', 2), ('dealercontact', 2), ('person3', 2), ('cond3', 2), ('ideographs', 2), ('seed', 2), ('initialheight', 2), ('al', 2), ('withpgconfig', 2), ('iequalitycomparer', 2), ('functionstyle', 2), ('connectivity', 2), ('rbxrdx', 2), ('coupling', 2), ('openitemurl', 2), ('icollectionapplicantposition', 2), ('tough', 2), ('nosql', 2), ('srcdir', 2), ('imgviewicon', 2), ('tense', 2), ('uid', 2), ('voidmovebanneronscreen', 2), ('maxheight', 2), ('functoolswraps', 2), ('adobe', 2), ('typeoptions', 2), ('worlddiv', 2), ('whos', 2), ('pfoo', 2), ('precisely', 2), ('ap', 2), ('varwwwappstatic', 2), ('componentscore', 2), ('singletonclass', 2), ('actiontypesupdated', 2), ('rdxrbx', 2), ('inbrowser', 2), ('gecko', 2), ('xmm7', 2), ('tempfile', 2), ('douglas', 2), ('usascii', 2), ('expressionfunct', 2), ('vboxmanage', 2), ('pltfigure', 2), ('functionresults', 2), ('za', 2), ('700', 2), ('prefixed', 2), ('mylib', 2), ('johnapartment', 2), ('pronounced', 2), ('yourmsg', 2), ('charactersfirst', 2), ('isinstanceb', 2), ('v01112', 2), ('reinventing', 2), ('demand', 2), ('forstateuicontrolstatenormal', 2), ('exercises', 2), ('maxwidth', 2), ('exotic', 2), ('myvariablename', 2), ('ie8', 2), ('gz', 2), ('manytoone', 2), ('scopesubgroups', 2), ('popped', 2), ('ienumerableproduct', 2), ('socketremoteaddress', 2), ('vain', 2), ('uniform', 2), ('16tostring16', 2), ('capitan', 2), ('dfreelance', 2), ('uncheck', 2), ('xmlser', 2), ('150529614', 2), ('sdklibrary', 2), ('myowninput', 2), ('proven', 2), ('respstatus', 2), ('mycollection', 2), ('contextsavechanges', 2), ('executions', 2), ('abc456', 2), ('2589', 2), ('strongly', 2), ('coreeditor', 2), ('serializing', 2), ('foobarsomefile', 2), ('librarydevelopercommandlinetoolsusrbinxcrun', 2), ('idrsa', 2), ('144', 2), ('pylabsetup', 2), ('performancewise', 2), ('quickanddirty', 2), ('dejavu', 2), ('iteratively', 2), ('forin', 2), ('3targetmoduletarget', 2), ('playerlist', 2), ('tabdelimited', 2), ('aes128cbc', 2), ('age10', 2), ('pile', 2), ('y0', 2), ('2ii', 2), ('curve', 2), ('linerace', 2), ('simplifies', 2), ('foundationapache22', 2), ('consolewritelineobjmystring', 2), ('mystruct', 2), ('responding', 2), ('globale', 2), ('accesscontrolallowcredentials', 2), ('width100', 2), ('stdafxh', 2), ('399', 2), ('enablemmap', 2), ('eia', 2), ('lightendarkencolorcol', 2), ('systemweboptimization', 2), ('sprintfssql', 2), ('mimemagicfile', 2), ('hogs', 2), ('array2', 2), ('distutils', 2), ('targetstream', 2), ('appends', 2), ('2256', 2), ('recovered', 2), ('0files0', 2), ('withthis', 2), ('novel', 2), ('acronyms', 2), ('intarray', 2), ('objectrouter', 2), ('ensured', 2), ('tdonetd', 2), ('realizing', 2), ('alisgithubcomderekerdmannlunchcallgitinforefs', 2), ('datatables', 2), ('aimagefilename', 2), ('flaw', 2), ('violating', 2), ('person1', 2), ('dedede', 2), ('pagentinfo', 2), ('bootstrapping', 2), ('tnsseparator', 2), ('modelobjectsexcludeatrue', 2), ('wiring', 2), ('logrotate', 2), ('subview', 2), ('30th', 2), ('anchors', 2), ('thisischecked', 2), ('deals', 2), ('suggesting', 2), ('instant', 2), ('respects', 2), ('rays', 2), ('607kb', 2), ('accountnumber', 2), ('onceuponatime', 2), ('c1l', 2), ('aaaa', 2), ('defid', 2), ('organized', 2), ('gof', 2), ('initialise', 2), ('getsomedeferredstuff', 2), ('applicationxgzip', 2), ('droid', 2), ('resultoptions', 2), ('applicationlanguagegr', 2), ('swelapsed', 2), ('androidlayoutwidthmatchparent', 2), ('ground', 2), ('iml', 2), ('maintainer', 2), ('uitableviewcell', 2), ('cipherfinalhex', 2), ('initiated', 2), ('thead', 2), ('destinationfolder', 2), ('091239', 2), ('phpmyadmin', 2), ('preceding', 2), ('exitfailure', 2), ('sqlite3preparev2', 2), ('itemcomments', 2), ('1724', 2), ('image1png', 2), ('propagated', 2), ('invocations', 2), ('3version0systemid3activetrue', 2), ('idid', 2), ('freshest', 2), ('voting', 2), ('nifty', 2), ('tencapsedandwhitespace', 2), ('sqlite3reset', 2), ('dictitems', 2), ('userfirst', 2), ('eddis', 2), ('joblist', 2), ('hardcover', 2), ('sess', 2), ('exponentiation', 2), ('nonascii', 2), ('selffiles', 2), ('obtains', 2), ('paris', 2), ('xdeleter', 2), ('attrreader', 2), ('painfully', 2), ('catnip', 2), ('uitableview', 2), ('19219268', 2), ('maincpp35', 2), ('territory', 2), ('exitsuccess', 2), ('lineitemsorderid', 2), ('9997', 2), ('catchfilenotfoundexception', 2), ('dprogram', 2), ('mails2in', 2), ('appuseexpresserrorhandler', 2), ('respheaderscontenttype', 2), ('mountainpy', 2), ('afoo', 2), ('packaging', 2), ('rerun', 2), ('somefunction', 2), ('itemsh2', 2), ('originhead', 2), ('automation', 2), ('cmdline', 2), ('postid', 2), ('printable', 2), ('getstuffdoneparam', 2), ('messaging', 2), ('httpexamplecomrequesturi', 2), ('excluded', 2), ('webservices', 2), ('subscriptionserver', 2), ('anders', 2), ('cmdexe', 2), ('realised', 2), ('shortest', 2), ('reverted', 2), ('wipe', 2), ('george', 2), ('summarized', 2), ('formsmodule', 2), ('interval', 2), ('trimethyl', 2), ('fileseclipsesdk42win32x8664eclipseeclipseexe', 2), ('uqpeoplelibrarycardid', 2), ('comandroidinternaloszygoteinitmethodandargscallerrunzygoteinitjava793', 2), ('sometable', 2), ('byrow', 2), ('range128', 2), ('filestorageemulated0testtxt', 2), ('unionnode', 2), ('catchhandler', 2), ('filtere', 2), ('cngithubcom', 2), ('bashrc', 2), ('myselectappendoption', 2), ('usermanagers', 2), ('chronodurationcaststdchrononanosecondsendpstartpcount', 2), ('delx', 2), ('loaduserdata', 2), ('neighbour', 2), ('includepattern', 2), ('dots', 2), ('objmypublicmethod', 2), ('maintained', 2), ('argv0', 2), ('jni', 2), ('optionname', 2), ('strategy', 2), ('table2that', 2), ('bias', 2), ('quotedftamttamtscale', 2), ('reinstalled', 2), ('stevie', 2), ('activateself', 2), ('linebreak', 2), ('compressed', 2), ('stringbuffer', 2), ('itrgetname', 2), ('inspections', 2), ('portal', 2), ('mainxml', 2), ('fyi', 2), ('getvaluephp', 2), ('linespersec', 2), ('27cf8e84bb88e24ae4b4b3df2b77aab91a3735d8', 2), ('commandstdout', 2), ('u1f469', 2), ('msc', 2), ('thisreadystate', 2), ('dashboardactivity', 2), ('stockarr', 2), ('caller', 2), ('comandroidsupportappcompatv72500', 2), ('c0dbc34fd631', 2), ('processdata', 2), ('sits', 2), ('etcgroup', 2), ('coobird', 2), ('convertible', 2), ('displayblock', 2), ('flasheventsmouseeventmimport', 2), ('oncreateview', 2), ('layoutaddress', 2), ('maindontcheckmeintxt', 2), ('cumsumjob2', 2), ('withsenderidsender', 2), ('nowhere', 2), ('httpwwwpanoramiocomwapidatagetphotosv1keydummykeytagtestoffset0length20callbackprocessimagesminx30miny0maxx0maxy150', 2), ('thousand', 2), ('conf1', 2), ('onlogn', 2), ('dumps', 2), ('xuacompatible', 2), ('alena2', 2), ('c0x', 2), ('textoverflow', 2), ('standing', 2), ('clientlist', 2), ('addressmanager', 2), ('0100', 2), ('dbreset', 2), ('holder', 2), ('heavily', 2), ('drawbacks', 2), ('gayo', 2), ('visitors', 2), ('runpepsh', 2), ('nsurlsession', 2), ('approximate', 2), ('hasclass', 2), ('aaaaaaaaaaaaaaaaaaaaaaaaaaaaaaaa', 2), ('favicons', 2), ('daytoday', 2), ('resmipmap', 2), ('temphtml', 2), ('pps', 2), ('width200px', 2), ('tallshort', 2), ('nhibernate', 2), ('cluttering', 2), ('yy', 2), ('mmpopcntu64bufferi3', 2), ('distinguishable', 2), ('01f', 2), ('typevalue', 2), ('193', 2), ('funct', 2), ('smoke', 2), ('onetoone', 2), ('propname', 2), ('emerged', 2), ('idb', 2), ('xxxxxxxxxxx', 2), ('movieservermodelts', 2), ('virtualenvs', 2), ('restriction', 2), ('doctor', 2), ('getprograms', 2), ('systemoutprintlndumtwogetdummy', 2), ('aimage', 2), ('greasemonkey', 2), ('derekerdmannlunchcallgitinforefsservicegitreceivepack', 2), ('corporate', 2), ('error2', 2), ('comandroidideeclipseadtfeaturegroup', 2), ('androidididedittext', 2), ('onetwo', 2), ('sitemaster', 2), ('argumentcaptorfoo', 2), ('mydiv', 2), ('iddestination', 2), ('poking', 2), ('euler12hs', 2), ('processnexttick', 2), ('north', 2), ('nsinternalinconsistencyexception', 2), ('quinoline', 2), ('mpageradapter', 2), ('everybody', 2), ('file2rb', 2), ('getheight', 2), ('datareader', 2), ('apiservice', 2), ('getallproducts', 2), ('myprogramexe', 2), ('ptdraft', 2), ('tunnel', 2), ('ixmlizable', 2), ('longitude', 2), ('modulename', 2), ('commaseparated', 2), ('unlucky', 2), ('locationprovider', 2), ('httpproxymycompany80', 2), ('argumentcaptorforclassfooclass', 2), ('jumping', 2), ('sqlite3clearbindingsstmt', 2), ('102', 2), ('anna', 2), ('arg1', 2), ('screenmap', 2), ('uncommited', 2), ('thisismyvariable', 2), ('arraytypefruit', 2), ('functionvalue', 2), ('superclassw', 2), ('realmgithub', 2), ('brushes', 2), ('methods001', 2), ('rdxrsi', 2), ('androidviewwindowleaked', 2), ('hrefcontactadiv', 2), ('execcgi', 2), ('thiscounter', 2), ('toolkit', 2), ('digging', 2), ('someones', 2), ('installutil', 2), ('nameuser', 2), ('preflight', 2), ('consumption', 2), ('050', 2), ('fear', 2), ('approximately', 2), ('fullscreen', 2), ('bobby', 2), ('collate', 2), ('callfriendstring', 2), ('iwasdesignedpoorly', 2), ('etcgmt6', 2), ('userserviceimpl', 2), ('stab', 2), ('consistency', 2), ('usersuesrdesktopworkspacesealivesealive11optimalliveinfoplist', 2), ('accountaccountnumber', 2), ('portalinstallscripts', 2), ('packet', 2), ('qtagsicontainscleanedsearchterm', 2), ('59', 2), ('emailview', 2), ('delayed', 2), ('branch2', 2), ('encouraged', 2), ('3f6d2a', 2), ('idlist', 2), ('decryption', 2), ('descriptions', 2), ('trailimage', 2), ('contentdiv', 2), ('ssplit', 2), ('addmulcpp', 2), ('reactrouter', 2), ('customcomparator', 2), ('inreadbuffer', 2), ('vldid', 2), ('comparator', 2), ('peoplelist1', 2), ('1100', 2), ('agenttelnostrip', 2), ('finishviewcontroller', 2), ('fig', 2), ('bulkinsert', 2), ('adata3', 2), ('meantime', 2), ('500k', 2), ('obfuscated', 2), ('bulkinserts', 2), ('1204', 2), ('601166', 2), ('promiseresolve', 2), ('namespacebase', 2), ('struggled', 2), ('u2', 2), ('wpcontentw3tcconfigmasterphp', 2), ('d583c3ac45fd', 2), ('margins', 2), ('preserve', 2), ('ctrlshiftf', 2), ('decompiled', 2), ('servicepoint', 2), ('myvar', 2), ('chart', 2), ('jextees', 2), ('michaeldrogalis', 2), ('transactional', 2), ('adhere', 2), ('decimalformat', 2), ('0x80131040', 2), ('http1270018000', 2), ('inherent', 2), ('abort', 2), ('readerreadtoend', 2), ('testantigravitypy', 2), ('graphicsdevicemanager', 2), ('doubts', 2), ('widthspecid', 2), ('statisticsgoo', 2), ('1104', 2), ('hoist', 2), ('rewritemodule', 2), ('theyve', 2), ('aesthetically', 2), ('httpsmichaeldrog', 2), ('cookiesecret', 2), ('propar', 2), ('ababc', 2), ('775', 2), ('70kb', 2), ('feedsource', 2), ('getinitialstate', 2), ('advantagesdisadvantages', 2), ('vims', 2), ('jes5199', 2), ('mandate', 2), ('301', 2), ('destbuffer16', 2), ('selfrightchild', 2), ('dateutil', 2), ('alertok', 2), ('investigation', 2), ('nonfastforward', 2), ('resource123', 2), ('lname', 2), ('setstatei', 2), ('tseekg0', 2), ('4402b8c', 2), ('advisable', 2), ('urllib', 2), ('mongoose', 2), ('diffing', 2), ('hat', 2), ('strlength', 2), ('xrange', 2), ('bc66559', 2), ('ordersorderid', 2), ('purchase', 2), ('textlabel', 2), ('recyclerviewviewholder', 2), ('entitycommand', 2), ('directoryindex', 2), ('comandroidinternalpolicyimplphonewindowsuperdispatchkeyeventphonewindowjava1277', 2), ('ga', 2), ('wat', 2), ('setneedslayout', 2), ('eligible', 2), ('rateservice', 2), ('rubygems', 2), ('periods', 2), ('negate', 2), ('whywhen', 2), ('publickeytoken764d581291d764f7', 2), ('etcgmt1', 2), ('flex2', 2), ('fetches', 2), ('contenttypes', 2), ('textxml', 2), ('fileinputstream', 2), ('interfering', 2), ('dispose', 2), ('0m0012s', 2), ('wildly', 2), ('higherlevel', 2), ('xxxxxxxx', 2), ('marco', 2), ('rkeknvq', 2), ('workbench', 2), ('interpolatedtime', 2), ('aid', 2), ('postinsqltopicid', 2), ('offsetaware', 2), ('namehomer', 2), ('hpp', 2), ('comandroidinternalpolicyimplphonewindowdecorview44c46ff0', 2), ('sykes2', 2), ('maxjsonlength', 2), ('smp', 2), ('cascade', 2), ('homeeugenepublichtmlallthingsnodeprojectsfb2nodemodulesconnectlibhttpjs10514', 2), ('u32u64', 2), ('superview', 2), ('religious', 2), ('ri', 2), ('groupidjunitgroupid', 2), ('quotedftdatemaplambda', 2), ('ecx28h', 2), ('plnkr', 2), ('reducelambda', 2), ('selfsealed', 2), ('resji', 2), ('20090922', 2), ('wwwauthenticate', 2), ('websphere', 2), ('elses', 2), ('printfiles', 2), ('vwsettextitalic', 2), ('dsstore', 2), ('velocityx', 2), ('2003', 2), ('b3', 2), ('percent', 2), ('orderpreserving', 2), ('requestdata', 2), ('designer', 2), ('scopeselect', 2), ('keypem', 2), ('2145', 2), ('strdomainargs', 2), ('tadaa', 2), ('adjusts', 2), ('residing', 2), ('fedora', 2), ('312', 2), ('installer', 2), ('repositoryformatversion', 2), ('divisors', 2), ('ewew', 2), ('arrange', 2), ('rwrwr', 2), ('horribly', 2), ('iss', 2), ('time1', 2), ('nb', 2), ('stringformat5gn', 2), ('pcompanyid', 2), ('decorated', 2), ('jsonparse', 2), ('0x4rcx', 2), ('mat', 2), ('5a', 2), ('dboscores', 2), ('reimport', 2), ('noinline', 2), ('overkill', 2), ('i2', 2), ('pecs', 2), ('rtl', 2), ('divinfoi', 2), ('classmain', 2), ('watched', 2), ('passphase', 2), ('linker', 2), ('contextmenuinfo', 2), ('arun', 2), ('iv', 2), ('othertablefk', 2), ('stepbystep', 2), ('stopeclipseformatting', 2), ('313', 2), ('thiscontext', 2), ('majorversion', 2), ('u12core', 2), ('myobjecttestfunc', 2), ('runmesh', 2), ('myfoo', 2), ('formyinputmy', 2), ('value30typetip', 2), ('1578', 2), ('unanswered', 2), ('winxp', 2), ('pleasant', 2), ('listchild', 2), ('nest', 2), ('initpybin', 2), ('accountid', 2), ('objectrow', 2), ('2690', 2), ('consequences', 2), ('paolo', 2), ('escapes', 2), ('iterhasnext', 2), ('companyfeeddetaillist', 2), ('certcsr', 2), ('driver', 2), ('windowlocationhash', 2), ('encryptionkey', 2), ('rdx', 2), ('thisshow', 2), ('fooitem', 2), ('nonidempotent', 2), ('jerrycallfriendquackerquack', 2), ('rejection', 2), ('getint', 2), ('issued', 2), ('actionresult', 2), ('diverged', 2), ('adata1', 2), ('deltas', 2), ('wallpaper', 2), ('215', 2), ('pltshow', 2), ('safestring', 2), ('a123', 2), ('layoutwidth', 2), ('columncontent', 2), ('lockfile', 2), ('myfiletxt', 2), ('microoptimizations', 2), ('beforecreate', 2), ('etcgmt2', 2), ('lc', 2), ('ttcstopindex', 2), ('growing', 2), ('codefirst', 2), ('ngshow', 2), ('expanded', 2), ('pretend', 2), ('transforming', 2), ('scriptps1', 2), ('test1', 2), ('boom', 2), ('sourcecode', 2), ('stoptime', 2), ('listorder', 2), ('vec', 2), ('seeded', 2), ('borderspacing', 2), ('namejohn', 2), ('unencoded', 2), ('passenger', 2), ('ufdd0', 2), ('waldo2', 2), ('multiplier', 2), ('disturbed', 2), ('extrapy', 2), ('slowest', 2), ('spades', 2), ('offsetnaive', 2), ('shut', 2), ('exitgracefully', 2), ('189', 2), ('25415private', 2), ('consolelogi', 2), ('level3', 2), ('unsafevariable', 2), ('sqlite3closedb', 2), ('acolumnc', 2), ('edit3', 2), ('financial', 2), ('teamcity', 2), ('meaningless', 2), ('selectidengravingchangefunction', 2), ('materials', 2), ('deinitialized', 2), ('spread', 2), ('runsynchronously', 2), ('degrade', 2), ('gitmyserverpathtogitrepos', 2), ('appservice', 2), ('stale', 2), ('notifysubscribers', 2), ('similarities', 2), ('forces', 2), ('otn', 2), ('foodiv', 2), ('1888', 2), ('voice', 2), ('idheaderdiv', 2), ('javalangruntimeexception', 2), ('putphp', 2), ('homekyle', 2), ('androidoslooperlooplooperjava123', 2), ('pdf2ps', 2), ('dirobj', 2), ('iterremove', 2), ('pack', 2), ('keystore', 2), ('printyou', 2), ('vehiclesvehicle', 2), ('hreffaviconico', 2), ('150733', 2), ('getx', 2), ('cineof', 2), ('0603', 2), ('horror', 2), ('appoptions', 2), ('statecode', 2), ('yosemite', 2), ('5789', 2), ('onitemclicklistener', 2), ('liftedit', 2), ('xdisplay', 2), ('345', 2), ('range10', 2), ('retail', 2), ('x04x57x810', 2), ('myviewpager', 2), ('sitting', 2), ('publicly', 2), ('demonstrates', 2), ('existsselect', 2), ('requiring', 2), ('systemreflectionassemblygetexecutingassemblylocation', 2), ('urance', 2), ('findviewbyid', 2), ('explanatory', 2), ('timetime', 2), ('tolower', 2), ('mcdonald', 2), ('idmydiv', 2), ('arraylisttienda', 2), ('deliver', 2), ('cdn', 2), ('20080922', 2), ('underbar', 2), ('m1putschildt', 2), ('overused', 2), ('omit', 2), ('recognizable', 2), ('height400px', 2), ('taskwait', 2), ('mloadmessagestask', 2), ('114', 2), ('1790', 2), ('objmyint', 2), ('ospathjoinrootdir', 2), ('documentgetelementbyidtrailimageidstyle', 2), ('mutex', 2), ('trigonometric', 2), ('rawinputenter', 2), ('trailimage1', 2), ('getcount', 2), ('typingstsddts', 2), ('0x400e50', 2), ('double109', 2), ('fff', 2), ('tracker', 2), ('p14', 2), ('revoked', 2), ('regional', 2), ('apiusers', 2), ('foundation', 2), ('aerospiketgz', 2), ('ggggggggghhhhhhhhhhhhhhhhhhhheeeeeeee', 2), ('collegues', 2), ('androidlayoutgravity', 2), ('timers', 2), ('dimnames', 2), ('calculator', 2), ('nondeterministic', 2), ('lmputschildt', 2), ('mbunit', 2), ('rollback', 2), ('branch1', 2), ('todoreducerjs', 2), ('watchers', 2), ('rebooting', 2), ('hundred', 2), ('guru', 2), ('thisi', 2), ('code1022', 2), ('kinda', 2), ('printfimported', 2), ('clientquery', 2), ('prefixsuffix', 2), ('bowerjson', 2), ('varlibdocker', 2), ('branchs', 2), ('width100px', 2), ('somecommand', 2), ('tz', 2), ('graphs', 2), ('hyperlinks', 2), ('thissetstatetestme', 2), ('pathtofolder', 2), ('dcodes2', 2), ('buy', 2), ('height600', 2), ('selectvalueskey', 2), ('1923', 2), ('preload', 2), ('positioning', 2), ('objdim', 2), ('bordercollapse', 2), ('jonny', 2), ('crossdomain', 2), ('mapview', 2), ('interfacing', 2), ('nerd', 2), ('124', 2), ('subviews', 2), ('ncol', 2), ('ungreedy', 2), ('11111', 2), ('xsetter', 2), ('regions', 2), ('hypothetical', 2), ('taste', 2), ('triggering', 2), ('cgrectmakescrollviewframeoriginx', 2), ('distinctness', 2), ('land', 2), ('wss', 2), ('postgresqlconf', 2), ('ngoptionsoptionvalue', 2), ('finite', 2), ('onsubmit', 2), ('searchandreplace', 2), ('excludefolder', 2), ('exciting', 2), ('dockercompose', 2), ('scared', 2), ('setstudentt', 2), ('redrawing', 2), ('0093168', 2), ('news', 2), ('mulpds', 2), ('hashsetstring', 2), ('getpresentnameself', 2), ('cheers', 2), ('middleware', 2), ('sse2', 2), ('8timesvalue', 2), ('libmodelmap', 2), ('loadmessagestask', 2), ('repeater', 2), ('interruptedexception', 2), ('divinylsiloxanebisbenzocyclobutene', 2), ('myattrself', 2), ('rowid', 2), ('quoted', 2), ('orderby', 2), ('mycomponent', 2), ('secretly', 2), ('uint', 2), ('nvmdirnvmsh', 2), ('retroactively', 2), ('basetimetotalmilliseconds', 2), ('tinkering', 2), ('plate', 2), ('statuses', 2), ('usrbin', 2), ('prove', 2), ('mytag', 2), ('throughout', 2), ('0083063', 2), ('roman', 2), ('btninfo', 2), ('serverport', 2), ('rdbms', 2), ('nsnotificationcenter', 2), ('dbproduct', 2), ('namevalue', 2), ('mood', 2), ('fundamentally', 2), ('therere', 2), ('hrefusermessagesspan', 2), ('repetitive', 2), ('3descriptionnullidentityconfiguration', 2), ('contribute', 2), ('centeredadiv', 2), ('rewriterule', 2), ('mypromisefnparam1', 2), ('reserved', 2), ('denoted', 2), ('foobarpy', 2), ('gitmerge', 2), ('honestly', 2), ('timesleepsleeptime', 2), ('accesscontrolallowheaders', 2), ('6855', 2), ('floatingactionbutton', 2), ('hes', 2), ('6291456', 2), ('2007', 2), ('spend', 2), ('consensus', 2), ('ffe', 2), ('fmt', 2), ('comgoogleautovalueautovalue12', 2), ('martin', 2), ('testuser', 2), ('20110819', 2), ('dangling', 2), ('matdumsas', 2), ('calc100', 2), ('price290', 2), ('gits', 2), ('originremotetagname', 2), ('stylesheets', 2), ('flickr', 2), ('1000000000', 2), ('xmm12', 2), ('attrwriter', 2), ('aesthetics', 2), ('magnitude', 2), ('androidoslooperlooplooperjava137', 2), ('scenes', 2), ('usemethodt', 2), ('userdbmodels', 2), ('referential', 2), ('branchmastermerge', 2), ('linting', 2), ('int1', 2), ('006', 2), ('maxranges', 2), ('windowmynamespace', 2), ('systemdatasqlclientsqlcommandrunexecutereadercommandbehavior', 2), ('cssonly', 2), ('selectvalues', 2), ('iliststring', 2), ('forgetting', 2), ('travisci', 2), ('ccygwinhomexpheriorcodelunchcallgit', 2), ('callednot', 2), ('rsync', 2), ('ewhich', 2), ('logsaccesslog', 2), ('annotate', 2), ('finalstring', 2), ('inspector', 2), ('dataformyservice', 2), ('cohesion', 2), ('grow', 2), ('idrsapub', 2), ('bt', 2), ('routine', 2), ('gurugurunotebook', 2), ('staticmethodt', 2), ('srccollisionb2aabbjs', 2), ('overflowauto', 2), ('ultimately', 2), ('freeopensource', 2), ('gulpgrunt', 2), ('115', 2), ('practicing', 2), ('readfilefile', 2), ('systemoutprintlnegetname', 2), ('otransition', 2), ('zi', 2), ('nonblocking', 2), ('javalangreflectmethodinvokemethodjava511', 2), ('whenwhy', 2), ('gitgitgithubcommozillaelasticutilsgit', 2), ('elf', 2), ('xrange108', 2), ('mdataset', 2), ('responsive', 2), ('demonstrated', 2), ('mypublicmethod', 2), ('lidolor', 2), ('testelementfadeinfast', 2), ('deduce', 2), ('ld4ld3', 2), ('indexphp', 2), ('darwin', 2), ('trycatchthrow', 2), ('hough', 2), ('oninit', 2), ('disappeared', 2), ('testint', 2), ('proof', 2), ('lremovei', 2), ('xss', 2), ('mikenone', 2), ('p14asm', 2), ('kdiff3', 2), ('istore1', 2), ('originbugfixb', 2), ('assumeunchanged', 2), ('netdeveloper', 2), ('isolation', 2), ('sunday', 2), ('affected', 2), ('badvalueerror', 2), ('enablesendfile', 2), ('crosscompiling', 2), ('migrated', 2), ('endpoints', 2), ('somevar', 2), ('writeblueline', 2), ('comandroidinternalpolicyimplphonewindowdecorviewsuperdispatchkeyeventphonewindowjava1855', 2), ('solely', 2), ('d6c45e8cc5f0', 2), ('pleaseliul', 2), ('totitlecase', 2), ('geterror', 2), ('rownum', 2), ('dispatchafter', 2), ('nocors', 2), ('objprototypetest', 2), ('disables', 2), ('conceptual', 2), ('mybool', 2), ('smallint', 2), ('descriptionname', 2), ('calculateandupdatetextfields', 2), ('sequential', 2), ('npx', 2), ('consequently', 2), ('originbugfixa', 2), ('bom', 2), ('affects', 2), ('loadvar1', 2), ('eric', 2), ('offline', 2), ('addmul', 2), ('arraya', 2), ('button1clickobject', 2), ('libformbase', 2), ('functionerr', 2), ('gnuplotdriverdir', 2), ('helloandroid', 2), ('bluetooth', 2), ('javaiobytearrayoutputstream', 2), ('fbsecret', 2), ('bdata2', 2), ('worker', 2), ('archiving', 2), ('x0', 2), ('shortened', 2), ('quadrillion', 2), ('polymerized', 2), ('testtimetotalmilliseconds', 2), ('vagrant', 2), ('isminlevel', 2), ('lili', 2), ('bigdecimal', 2), ('abcfg', 2), ('iswas', 2), ('deinit', 2), ('ib', 2), ('thisattr', 2), ('pytz', 2), ('logallrefupdates', 2), ('cafile', 2), ('jsonencode', 2), ('halts', 2), ('expires', 2), ('animalspecieskey', 2), ('testbinpython34', 2), ('ignoresyncctx', 2), ('aaaaaa', 2), ('supporting', 2), ('7302011', 2), ('unspecified', 2), ('objectobject', 2), ('inequality', 2), ('catalogue', 2), ('androidappactivitythreadaccess600activitythreadjava141', 2), ('testingrequirementstxt', 2), ('while1', 2), ('debianubuntu', 2), ('night', 2), ('32000', 2), ('liststylesquare', 2), ('newinstancefromxmlelement', 2), ('usecase', 2), ('foopng', 2), ('polling', 2), ('getsupportfragmentmanager', 2), ('regards', 2), ('ngroute', 2), ('v0616', 2), ('corrupted', 2), ('configurations', 2), ('thisattrstyle', 2), ('clubs', 2), ('dimension', 2), ('cwampwwwmypathindexphp', 2), ('selections', 2), ('buggy', 2), ('firstid', 2), ('alerteq', 2), ('singlethreaded', 2), ('cygwinmingw', 2), ('spinning', 2), ('fn', 2), ('commited', 2), ('onlyfullgroupby', 2), ('fooaddress', 2), ('dbaccommodationsfind', 2), ('vital', 2), ('improvements', 2), ('twocolumn', 2), ('stuffiwant', 2), ('rss', 2), ('postdatatask', 2), ('value2option', 2), ('xxvalsum', 2), ('simpledateformatyyyymmdd', 2), ('0098919', 2), ('obj2', 2), ('argumentparameter', 2), ('dat', 2), ('cssbackgroundcolor', 2), ('httpdconf', 2), ('onoff', 2), ('cultureneutral', 2), ('deletions', 2), ('0039679', 2), ('joel', 2), ('finisht', 2), ('currentstatus', 2), ('candidates', 2), ('20000', 2), ('consoleloginclude1', 2), ('yielding', 2), ('hearts', 2), ('jun', 2), ('stdifstream', 2), ('130', 2), ('centre', 2), ('matrices', 2), ('concurrenthashset', 2), ('thebranch', 2), ('frotz', 2), ('pinpoint', 2), ('northwindorder', 2), ('reactrenderhandler', 2), ('nondom', 2), ('numerics', 2), ('l1', 2), ('backslashes', 2), ('0045404', 2), ('misplaced', 2), ('ienumerablet', 2), ('documentonmousemove', 2), ('expresscreateserver', 2), ('needstoaddparameter', 2), ('cb', 2), ('screw', 2), ('dictiteritems', 2), ('248', 2), ('table1foreignkey', 2), ('subjectaltname', 2), ('backing', 2), ('semantic', 2), ('oklower', 2), ('jon', 2), ('finetune', 2), ('fnoalign', 2), ('memcpydestbuffer', 2), ('zombies', 2), ('ibdata1', 2), ('speaker', 2), ('httpsiteb', 2), ('withoutpgconfig', 2), ('item1', 2), ('insufficient', 2), ('topenfiletxt', 2), ('assemblyfileversion', 2), ('lines1192696', 2), ('intinputplease', 2), ('winner', 2), ('0nrwrwr', 2), ('hmacmd5', 2), ('sell', 2), ('systemwindowsthreadingexceptionwrapperinternalrealcalldelegate', 2), ('hierarchies', 2), ('arraytypemilk', 2), ('functionload', 2), ('dispatchoncestatictoken', 2), ('leopard', 2), ('insertions', 2), ('whatiwant', 2), ('fbid', 2), ('employer', 2), ('iloopbound', 2), ('varchar10', 2), ('btotal', 2), ('dolore', 2), ('dategetmonth', 2), ('xval', 2), ('txtviewtitle', 2), ('piano', 2), ('usages', 2), ('mygroup', 2), ('scrollviewframe', 2), ('labelnamelabel', 2), ('thunk', 2), ('listbranch', 2), ('sapply', 2), ('dataurl', 2), ('price543', 2), ('refsheadsrefsremotesorigin', 2), ('dash', 2), ('corrects', 2), ('0tolocaltime', 2), ('alertclicked', 2), ('asyncmethodint', 2), ('smputschildt', 2), ('reformat', 2), ('concatenated', 2), ('scriptaliased', 2), ('abarnerts', 2), ('getinstance', 2), ('quotedftamt', 2), ('devfd3', 2), ('1970', 2), ('selective', 2), ('radix', 2), ('testpl', 2), ('suo', 2), ('openssh', 2), ('nightmare', 2), ('selectboxes', 2), ('toronto', 2), ('displayinlineblock', 2), ('counterintuitive', 2), ('ya', 2), ('avoiding', 2), ('dbusersfindupdateduseruserid', 2), ('navicat', 2), ('1689', 2), ('qualifiers', 2), ('gemfilelock', 2), ('user2', 2), ('viewer', 2), ('sysstderr', 2), ('invalidoperationexception', 2), ('httpexamplecomonetwo', 2), ('ensg00000207604', 2), ('bf', 2), ('raster', 2), ('nsscanner', 2), ('filters', 2), ('completes', 2), ('packaged', 2), ('mathroundx', 2), ('memymachine', 2), ('kit', 2), ('filemode', 2), ('androidpaddingtop0dp', 2), ('subsets', 2), ('tooltip', 2), ('transportondata', 2), ('madness', 2), ('reminds', 2), ('fis', 2), ('datadismissmodal', 2), ('icc', 2), ('pressure', 2), ('indexof', 2), ('sameorigin', 2), ('bottle', 2), ('strdate', 2), ('negligible', 2), ('mysqlconnect', 2), ('tablecomponent', 2), ('gitobjects3165329bb680e30595f242b7c4d8406ca63eeab0', 2), ('vdbe', 2), ('writer', 2), ('dvcs', 2), ('np', 2), ('immfitemnumber', 2), ('enrun', 2), ('scopefetch', 2), ('rightclick', 2), ('phpscript', 2), ('environmentcurrentdirectory', 2), ('comandroidideeclipseadtpackageproduct', 2), ('dpis', 2), ('addons', 2), ('selfleftchild', 2), ('scripttypetextjavascript', 2), ('2367', 2), ('categoryidcategoryid', 2), ('tickcountnow', 2), ('systemoutprintb', 2), ('jade', 2), ('chown', 2), ('datetimedatetoday', 2), ('parentwidth', 2), ('0912300', 2), ('sans', 2), ('showsdkpath', 2), ('zb', 2), ('xy1', 2), ('gitmodules', 2), ('inmemory', 2), ('code1', 2), ('documentcompatmode', 2), ('androidlayoutwidth172dp', 2), ('nodejsorg', 2), ('madapter', 2), ('ospath', 2), ('recreation', 2), ('filetype', 2), ('hero', 2), ('fnoalignloops', 2), ('serversent', 2), ('bbbout', 2), ('filewriter', 2), ('orderproductform', 2), ('p1', 2), ('libpqfeh', 2), ('singlesignon', 2), ('thai', 2), ('udfff', 2), ('androidgravity', 2), ('responsecontent', 2), ('ev', 2), ('switchcont', 2), ('ongesturelistener', 2), ('sortedmap', 2), ('i686', 2), ('prodgrp', 2), ('astimezone', 2), ('angularservice', 2), ('threadstartnewthreadmyfunction', 2), ('commandbehavior', 2), ('migrations', 2), ('usrlibpython35jsondecoderpy', 2), ('13614131160213us', 2), ('directed', 2), ('textboxes', 2), ('propagate', 2), ('encrypt', 2), ('box3', 2), ('duplicatemore', 2), ('responsebody', 2), ('cherrypicking', 2), ('8s', 2), ('mytitle', 2), ('bother', 2), ('402', 2), ('bubbling', 2), ('absence', 2), ('5050', 2), ('chaining', 2), ('scalecontrol', 2), ('resultdir', 2), ('exp', 2), ('blob1', 2), ('normalizecss', 2), ('cond4', 2), ('sstringtoreplacestringtoreplaceitg', 2), ('face', 2), ('neat', 2), ('env1memymachine', 2), ('pylab', 2), ('androidlayoutbelowidhome', 2), ('perrorpath', 2), ('bb', 2), ('pushback', 2), ('interventiondetails', 2), ('validators', 2), ('xmlreader', 2), ('rendertemplate', 2), ('music', 2), ('systemcurrenttimemillis', 2), ('zalgo', 2), ('onmessageselectedmessage', 2), ('grasped', 2), ('lilorem', 2), ('nanny', 2), ('sized', 2), ('lifinal', 2), ('range12', 2), ('ctrlv', 2), ('systemoutprinto', 2), ('homeguymtmpnpm32312137317651802406586997057311237packagepackagejson', 2), ('vague', 2), ('merits', 2), ('logarithmic', 2), ('wwwexamplesitecomtextfiletxt', 2), ('sse', 2), ('roundnumber', 2), ('lang', 2), ('tailinunionu', 2), ('testelementfadeoutfast', 2), ('plans', 2), ('ol', 2), ('wparentheses', 2), ('managers', 2), ('cursorexecutedelete', 2), ('segues', 2), ('dictionaryof', 2), ('swritertostring', 2), ('conversely', 2), ('value1option', 2), ('sara', 2), ('fantastic', 2), ('ts', 2), ('rbprcx', 2), ('spare', 2), ('initialiser', 2), ('5142', 2), ('rootcommit', 2), ('parentjava', 2), ('systemoutprintlnmapgetwordid', 2), ('mod2', 2), ('scannednumber', 2), ('usrlocalvarpostgrespostgresqlconf', 2), ('tabular', 2), ('logincontroller', 2), ('gamerow', 2), ('nameerror', 2), ('selfstatus', 2), ('ouwwwdigicertcom', 2), ('unlikely', 2), ('formattednumber', 2), ('cproject', 2), ('lifetime', 2), ('unixstyle', 2), ('gitpath', 2), ('nonobvious', 2), ('syncfeeds', 2), ('oldname', 2), ('palette', 2), ('segmentation', 2), ('ought', 2), ('xpathfs', 2), ('alerttestlevel1level2level3', 2), ('javalangillegalargumentexception', 2), ('visually', 2), ('comandroidinternaloszygoteinitmainzygoteinitjava560', 2), ('mprogress', 2), ('fromlist', 2), ('msbuildbat', 2), ('jasmine', 2), ('serializer', 2), ('valuesearch', 2), ('granted', 2), ('confirmed', 2), ('oldfilter', 2), ('openssh47p1', 2), ('wider', 2), ('homezjm1126pippiplog', 2), ('catastrophic', 2), ('cmdbehavior', 2), ('recyclerviewadapter', 2), ('commit1', 2), ('ufeffimport', 2), ('fooa', 2), ('someobjectsomeproperty', 2), ('delself', 2), ('etcgmt5', 2), ('creditregistryid', 2), ('tech', 2), ('replica', 2), ('resp', 2), ('citerator', 2), ('enumgetvaluestypeoft', 2), ('xj', 2), ('vb6', 2), ('ptime', 2), ('magical', 2), ('tdd', 2), ('rootscope', 2), ('comandroidideeclipseadtpackagefeaturegroup', 2), ('optimizer', 2), ('part2quantity', 2), ('thenewobject', 2), ('listofvalues', 2), ('alignself', 2), ('pgtblspc', 2), ('safer', 2), ('uirouter', 2), ('0m0000s', 2), ('eyes', 2)]\n"
     ]
    }
   ],
   "source": [
    "print(tagText.count_word_occurencies(data_preprocessed))"
   ]
  },
  {
   "cell_type": "code",
   "execution_count": null,
   "metadata": {
    "collapsed": true
   },
   "outputs": [],
   "source": []
  },
  {
   "cell_type": "code",
   "execution_count": null,
   "metadata": {
    "collapsed": true
   },
   "outputs": [],
   "source": []
  },
  {
   "cell_type": "markdown",
   "metadata": {},
   "source": [
    "<p style=\"font-family: Arial; font-size:1.75em;color:#2462C0; font-style:bold\"><br>\n",
    "III.2 - Data - Bag of words - TF-IDF</p>"
   ]
  },
  {
   "cell_type": "code",
   "execution_count": 17,
   "metadata": {},
   "outputs": [
    {
     "name": "stdout",
     "output_type": "stream",
     "text": [
      "TF_IDF_matrix : (9, 247) of float64\n"
     ]
    },
    {
     "data": {
      "text/html": [
       "<div>\n",
       "<style>\n",
       "    .dataframe thead tr:only-child th {\n",
       "        text-align: right;\n",
       "    }\n",
       "\n",
       "    .dataframe thead th {\n",
       "        text-align: left;\n",
       "    }\n",
       "\n",
       "    .dataframe tbody tr th {\n",
       "        vertical-align: top;\n",
       "    }\n",
       "</style>\n",
       "<table border=\"1\" class=\"dataframe\">\n",
       "  <thead>\n",
       "    <tr style=\"text-align: right;\">\n",
       "      <th></th>\n",
       "      <th>tf_idf_weights</th>\n",
       "    </tr>\n",
       "  </thead>\n",
       "  <tbody>\n",
       "    <tr>\n",
       "      <th>file</th>\n",
       "      <td>2.203973</td>\n",
       "    </tr>\n",
       "    <tr>\n",
       "      <th>time</th>\n",
       "      <td>2.203973</td>\n",
       "    </tr>\n",
       "    <tr>\n",
       "      <th>int</th>\n",
       "      <td>2.203973</td>\n",
       "    </tr>\n",
       "    <tr>\n",
       "      <th>branch</th>\n",
       "      <td>2.203973</td>\n",
       "    </tr>\n",
       "    <tr>\n",
       "      <th>start</th>\n",
       "      <td>2.203973</td>\n",
       "    </tr>\n",
       "    <tr>\n",
       "      <th>thi</th>\n",
       "      <td>2.203973</td>\n",
       "    </tr>\n",
       "    <tr>\n",
       "      <th>return</th>\n",
       "      <td>2.203973</td>\n",
       "    </tr>\n",
       "    <tr>\n",
       "      <th>tri</th>\n",
       "      <td>2.203973</td>\n",
       "    </tr>\n",
       "    <tr>\n",
       "      <th>piec</th>\n",
       "      <td>2.203973</td>\n",
       "    </tr>\n",
       "    <tr>\n",
       "      <th>repositori</th>\n",
       "      <td>2.203973</td>\n",
       "    </tr>\n",
       "    <tr>\n",
       "      <th>id</th>\n",
       "      <td>2.203973</td>\n",
       "    </tr>\n",
       "    <tr>\n",
       "      <th>pull</th>\n",
       "      <td>2.203973</td>\n",
       "    </tr>\n",
       "    <tr>\n",
       "      <th>remot</th>\n",
       "      <td>2.203973</td>\n",
       "    </tr>\n",
       "    <tr>\n",
       "      <th>commit</th>\n",
       "      <td>2.203973</td>\n",
       "    </tr>\n",
       "    <tr>\n",
       "      <th>compil</th>\n",
       "      <td>2.203973</td>\n",
       "    </tr>\n",
       "    <tr>\n",
       "      <th>result</th>\n",
       "      <td>2.203973</td>\n",
       "    </tr>\n",
       "    <tr>\n",
       "      <th>standard</th>\n",
       "      <td>2.203973</td>\n",
       "    </tr>\n",
       "    <tr>\n",
       "      <th>differ</th>\n",
       "      <td>2.203973</td>\n",
       "    </tr>\n",
       "    <tr>\n",
       "      <th>undo</th>\n",
       "      <td>2.203973</td>\n",
       "    </tr>\n",
       "    <tr>\n",
       "      <th>similar</th>\n",
       "      <td>2.203973</td>\n",
       "    </tr>\n",
       "    <tr>\n",
       "      <th>yet</th>\n",
       "      <td>2.203973</td>\n",
       "    </tr>\n",
       "    <tr>\n",
       "      <th>well</th>\n",
       "      <td>2.203973</td>\n",
       "    </tr>\n",
       "    <tr>\n",
       "      <th>want</th>\n",
       "      <td>2.203973</td>\n",
       "    </tr>\n",
       "    <tr>\n",
       "      <th>new</th>\n",
       "      <td>2.203973</td>\n",
       "    </tr>\n",
       "    <tr>\n",
       "      <th>complet</th>\n",
       "      <td>2.203973</td>\n",
       "    </tr>\n",
       "    <tr>\n",
       "      <th>main</th>\n",
       "      <td>2.203973</td>\n",
       "    </tr>\n",
       "    <tr>\n",
       "      <th>run</th>\n",
       "      <td>2.203973</td>\n",
       "    </tr>\n",
       "    <tr>\n",
       "      <th>use</th>\n",
       "      <td>2.203973</td>\n",
       "    </tr>\n",
       "    <tr>\n",
       "      <th>selfmedian</th>\n",
       "      <td>2.609438</td>\n",
       "    </tr>\n",
       "    <tr>\n",
       "      <th>read</th>\n",
       "      <td>2.609438</td>\n",
       "    </tr>\n",
       "    <tr>\n",
       "      <th>...</th>\n",
       "      <td>...</td>\n",
       "    </tr>\n",
       "    <tr>\n",
       "      <th>iostream</th>\n",
       "      <td>2.609438</td>\n",
       "    </tr>\n",
       "    <tr>\n",
       "      <th>initi</th>\n",
       "      <td>2.609438</td>\n",
       "    </tr>\n",
       "    <tr>\n",
       "      <th>exampl</th>\n",
       "      <td>2.609438</td>\n",
       "    </tr>\n",
       "    <tr>\n",
       "      <th>extrem</th>\n",
       "      <td>2.609438</td>\n",
       "    </tr>\n",
       "    <tr>\n",
       "      <th>fail</th>\n",
       "      <td>2.609438</td>\n",
       "    </tr>\n",
       "    <tr>\n",
       "      <th>faster</th>\n",
       "      <td>2.609438</td>\n",
       "    </tr>\n",
       "    <tr>\n",
       "      <th>featur</th>\n",
       "      <td>2.609438</td>\n",
       "    </tr>\n",
       "    <tr>\n",
       "      <th>fetch</th>\n",
       "      <td>2.609438</td>\n",
       "    </tr>\n",
       "    <tr>\n",
       "      <th>first</th>\n",
       "      <td>2.609438</td>\n",
       "    </tr>\n",
       "    <tr>\n",
       "      <th>follow</th>\n",
       "      <td>2.609438</td>\n",
       "    </tr>\n",
       "    <tr>\n",
       "      <th>found</th>\n",
       "      <td>2.609438</td>\n",
       "    </tr>\n",
       "    <tr>\n",
       "      <th>from</th>\n",
       "      <td>2.609438</td>\n",
       "    </tr>\n",
       "    <tr>\n",
       "      <th>gather</th>\n",
       "      <td>2.609438</td>\n",
       "    </tr>\n",
       "    <tr>\n",
       "      <th>gcc</th>\n",
       "      <td>2.609438</td>\n",
       "    </tr>\n",
       "    <tr>\n",
       "      <th>intarrays</th>\n",
       "      <td>2.609438</td>\n",
       "    </tr>\n",
       "    <tr>\n",
       "      <th>gener</th>\n",
       "      <td>2.609438</td>\n",
       "    </tr>\n",
       "    <tr>\n",
       "      <th>getchildcandidatesself</th>\n",
       "      <td>2.609438</td>\n",
       "    </tr>\n",
       "    <tr>\n",
       "      <th>githubcomgitusergitproject</th>\n",
       "      <td>2.609438</td>\n",
       "    </tr>\n",
       "    <tr>\n",
       "      <th>go</th>\n",
       "      <td>2.609438</td>\n",
       "    </tr>\n",
       "    <tr>\n",
       "      <th>goe</th>\n",
       "      <td>2.609438</td>\n",
       "    </tr>\n",
       "    <tr>\n",
       "      <th>great</th>\n",
       "      <td>2.609438</td>\n",
       "    </tr>\n",
       "    <tr>\n",
       "      <th>happen</th>\n",
       "      <td>2.609438</td>\n",
       "    </tr>\n",
       "    <tr>\n",
       "      <th>here</th>\n",
       "      <td>2.609438</td>\n",
       "    </tr>\n",
       "    <tr>\n",
       "      <th>hidden</th>\n",
       "      <td>2.609438</td>\n",
       "    </tr>\n",
       "    <tr>\n",
       "      <th>hurt</th>\n",
       "      <td>2.609438</td>\n",
       "    </tr>\n",
       "    <tr>\n",
       "      <th>im</th>\n",
       "      <td>2.609438</td>\n",
       "    </tr>\n",
       "    <tr>\n",
       "      <th>import</th>\n",
       "      <td>2.609438</td>\n",
       "    </tr>\n",
       "    <tr>\n",
       "      <th>independ</th>\n",
       "      <td>2.609438</td>\n",
       "    </tr>\n",
       "    <tr>\n",
       "      <th>getchildcandid</th>\n",
       "      <td>2.609438</td>\n",
       "    </tr>\n",
       "    <tr>\n",
       "      <th>yield</th>\n",
       "      <td>2.609438</td>\n",
       "    </tr>\n",
       "  </tbody>\n",
       "</table>\n",
       "<p>247 rows × 1 columns</p>\n",
       "</div>"
      ],
      "text/plain": [
       "                            tf_idf_weights\n",
       "file                              2.203973\n",
       "time                              2.203973\n",
       "int                               2.203973\n",
       "branch                            2.203973\n",
       "start                             2.203973\n",
       "thi                               2.203973\n",
       "return                            2.203973\n",
       "tri                               2.203973\n",
       "piec                              2.203973\n",
       "repositori                        2.203973\n",
       "id                                2.203973\n",
       "pull                              2.203973\n",
       "remot                             2.203973\n",
       "commit                            2.203973\n",
       "compil                            2.203973\n",
       "result                            2.203973\n",
       "standard                          2.203973\n",
       "differ                            2.203973\n",
       "undo                              2.203973\n",
       "similar                           2.203973\n",
       "yet                               2.203973\n",
       "well                              2.203973\n",
       "want                              2.203973\n",
       "new                               2.203973\n",
       "complet                           2.203973\n",
       "main                              2.203973\n",
       "run                               2.203973\n",
       "use                               2.203973\n",
       "selfmedian                        2.609438\n",
       "read                              2.609438\n",
       "...                                    ...\n",
       "iostream                          2.609438\n",
       "initi                             2.609438\n",
       "exampl                            2.609438\n",
       "extrem                            2.609438\n",
       "fail                              2.609438\n",
       "faster                            2.609438\n",
       "featur                            2.609438\n",
       "fetch                             2.609438\n",
       "first                             2.609438\n",
       "follow                            2.609438\n",
       "found                             2.609438\n",
       "from                              2.609438\n",
       "gather                            2.609438\n",
       "gcc                               2.609438\n",
       "intarrays                         2.609438\n",
       "gener                             2.609438\n",
       "getchildcandidatesself            2.609438\n",
       "githubcomgitusergitproject        2.609438\n",
       "go                                2.609438\n",
       "goe                               2.609438\n",
       "great                             2.609438\n",
       "happen                            2.609438\n",
       "here                              2.609438\n",
       "hidden                            2.609438\n",
       "hurt                              2.609438\n",
       "im                                2.609438\n",
       "import                            2.609438\n",
       "independ                          2.609438\n",
       "getchildcandid                    2.609438\n",
       "yield                             2.609438\n",
       "\n",
       "[247 rows x 1 columns]"
      ]
     },
     "execution_count": 17,
     "metadata": {},
     "output_type": "execute_result"
    }
   ],
   "source": [
    "from sklearn.feature_extraction.text import TfidfTransformer\n",
    "from sklearn.feature_extraction.text import TfidfVectorizer\n",
    "\n",
    "stemmer = nltk.stem.porter.PorterStemmer()\n",
    "stopword = nltk.corpus.stopwords.words('english')\n",
    "\n",
    "#X = data_preprocessed.unique()\n",
    "X = data_preprocessed[0:9].unique()\n",
    "\n",
    "def stem_and_filter(doc):\n",
    "    tokens = [stemmer.stem(w) for w in analyzer(doc)]\n",
    "    return [token for token in tokens if token.isalpha()]\n",
    "\n",
    "analyzer = TfidfVectorizer().build_analyzer()\n",
    "cv = TfidfVectorizer(lowercase=True, stop_words=\"english\", analyzer=stem_and_filter, min_df=0.00, max_df=0.3)  # we remove words if it appears in more than 30 % of the corpus (not found stopwords like Box, Christmas and so on)\n",
    "word_count_vector = cv.fit_transform(X)\n",
    "print(\"TF_IDF_matrix :\", word_count_vector.shape, \"of\", word_count_vector.dtype)\n",
    "tfidf_transformer=TfidfTransformer(smooth_idf=True,use_idf=True)\n",
    "tfidf_transformer.fit(word_count_vector)\n",
    "# print idf values\n",
    "df_idf = pd.DataFrame(tfidf_transformer.idf_, index=cv.get_feature_names(),columns=[\"tf_idf_weights\"])\n",
    " \n",
    "# sort ascending\n",
    "df_idf.sort_values(by=['tf_idf_weights'])\n"
   ]
  },
  {
   "cell_type": "code",
   "execution_count": 18,
   "metadata": {},
   "outputs": [
    {
     "name": "stderr",
     "output_type": "stream",
     "text": [
      "C:\\Users\\naru_\\Anaconda3\\lib\\site-packages\\sklearn\\decomposition\\online_lda.py:294: DeprecationWarning: n_topics has been renamed to n_components in version 0.19 and will be removed in 0.21\n",
      "  DeprecationWarning)\n"
     ]
    },
    {
     "name": "stdout",
     "output_type": "stream",
     "text": [
      "Topic : 0 :\n",
      "command line run windows process\n",
      "Topic : 1 :\n",
      "git branch commit changes repository\n",
      "Topic : 2 :\n",
      "int code data return const\n",
      "Topic : 3 :\n",
      "table select database data sql\n",
      "Topic : 4 :\n",
      "python key error code add\n",
      "Topic : 5 :\n",
      "use function code like list\n",
      "Topic : 6 :\n",
      "im files server using request\n",
      "Topic : 7 :\n",
      "question use ive im answer\n",
      "Topic : 8 :\n",
      "way like object var want\n",
      "Topic : 9 :\n",
      "class string public new method\n",
      "Topic : 10 :\n",
      "div script button click path\n",
      "Topic : 11 :\n",
      "lines language programming container docker\n",
      "Topic : 12 :\n",
      "error install image npm module\n",
      "Topic : 13 :\n",
      "difference php mean whats use\n",
      "Topic : 14 :\n",
      "text set using page html\n",
      "Topic : 15 :\n",
      "user view app service 000\n",
      "Topic : 16 :\n",
      "test join address email abc\n",
      "Topic : 17 :\n",
      "version date console loaded versions\n",
      "Topic : 18 :\n",
      "file directory echo filename nan\n",
      "Topic : 19 :\n",
      "loadmodule eclipse vim apply testing\n",
      "['000', '10', '100', '1000', '11', '12', '123', '13', '15', '16', '20', '2010', '23', '25', '26', '30', '32', '50', '80', 'abc', 'able', 'abstract', 'accept', 'access', 'accomplish', 'according', 'achieve', 'action', 'activity', 'actual', 'actually', 'add', 'added', 'adding', 'additional', 'address', 'age', 'ago', 'ajax', 'algorithm', 'allow', 'allowed', 'allows', 'android', 'angularjs', 'answer', 'answers', 'apache', 'api', 'app', 'apparently', 'appear', 'appears', 'append', 'application', 'applications', 'apply', 'approach', 'appropriate', 'args', 'argument', 'arguments', 'array', 'arrays', 'article', 'ask', 'asked', 'asking', 'aspnet', 'assembly', 'assume', 'async', 'attempt', 'attribute', 'attributes', 'authentication', 'author', 'automatically', 'available', 'avoid', 'aware', 'away', 'background', 'backgroundcolor', 'bad', 'bar', 'base', 'based', 'bash', 'basic', 'basically', 'behavior', 'behaviour', 'believe', 'best', 'better', 'big', 'binary', 'bit', 'block', 'bob', 'body', 'book', 'bool', 'boolean', 'border', 'box', 'branch', 'branches', 'break', 'browser', 'browsers', 'buffer', 'bug', 'build', 'building', 'built', 'builtin', 'button', 'buttons', 'byte', 'bytes', 'cache', 'callback', 'called', 'calling', 'calls', 'came', 'case', 'cases', 'cat', 'catch', 'cause', 'center', 'certain', 'change', 'changed', 'changes', 'changing', 'char', 'character', 'characters', 'check', 'checked', 'checking', 'checkout', 'child', 'choice', 'choose', 'chrome', 'class', 'classes', 'clean', 'clear', 'click', 'client', 'clone', 'close', 'code', 'collection', 'color', 'column', 'columns', 'come', 'comes', 'coming', 'command', 'commands', 'comment', 'comments', 'commit', 'commits', 'committed', 'common', 'compare', 'comparison', 'compile', 'compiled', 'compiler', 'complete', 'completely', 'component', 'components', 'computer', 'config', 'configuration', 'configure', 'confused', 'connect', 'connection', 'consider', 'considered', 'console', 'const', 'constant', 'constructor', 'contain', 'container', 'containing', 'contains', 'content', 'contents', 'contenttype', 'context', 'continue', 'control', 'controller', 'convert', 'copy', 'core', 'correct', 'correctly', 'count', 'couple', 'course', 'cprogram', 'create', 'created', 'creating', 'css', 'curl', 'current', 'currently', 'custom', 'data', 'database', 'dataframe', 'date', 'datetime', 'day', 'days', 'db', 'debug', 'declare', 'def', 'default', 'define', 'defined', 'definition', 'delete', 'deleted', 'dependencies', 'dependency', 'description', 'design', 'details', 'detect', 'determine', 'developer', 'development', 'device', 'dictionary', 'diff', 'difference', 'differences', 'different', 'directly', 'directories', 'directory', 'disable', 'display', 'displayed', 'div', 'django', 'docker', 'docs', 'document', 'documentation', 'documents', 'does', 'dom', 'double', 'download', 'duplicate', 'easier', 'easily', 'easy', 'echo', 'eclipse', 'edit', 'editor', 'edittext', 'efficient', 'elegant', 'element', 'elements', 'email', 'encoding', 'end', 'enter', 'entire', 'entity', 'entry', 'enum', 'environment', 'equal', 'equals', 'equivalent', 'err', 'error', 'errors', 'especially', 'event', 'events', 'exact', 'exactly', 'example', 'examples', 'excel', 'exception', 'exceptions', 'execute', 'executed', 'executing', 'execution', 'exist', 'existing', 'exists', 'exit', 'expect', 'expected', 'experience', 'explain', 'explanation', 'explorer', 'export', 'express', 'expression', 'extends', 'extension', 'external', 'extra', 'fact', 'fail', 'failed', 'fails', 'fairly', 'false', 'far', 'fast', 'faster', 'fatal', 'feature', 'features', 'feel', 'fetch', 'field', 'fields', 'figure', 'file', 'filename', 'files', 'filter', 'final', 'finally', 'fine', 'firefox', 'fix', 'float', 'folder', 'folders', 'following', 'follows', 'foo', 'force', 'foreach', 'form', 'format', 'forward', 'fragment', 'fragments', 'frame', 'framework', 'free', 'function', 'functional', 'functionality', 'functions', 'future', 'gcc', 'general', 'generate', 'generated', 'generic', 'gets', 'getting', 'git', 'github', 'gitignore', 'given', 'gives', 'global', 'goes', 'going', 'good', 'google', 'got', 'great', 'grep', 'group', 'guess', 'guide', 'handle', 'handler', 'handling', 'happen', 'happening', 'happens', 'hard', 'hash', 'hashmap', 'head', 'header', 'headers', 'heard', 'height', 'hello', 'help', 'heres', 'hex', 'hidden', 'hide', 'history', 'hoping', 'host', 'html', 'http', 'id', 'idea', 'ideally', 'ideas', 'ignore', 'ill', 'im', 'image', 'images', 'img', 'implement', 'implementation', 'implemented', 'import', 'important', 'include', 'includes', 'including', 'index', 'info', 'information', 'init', 'initial', 'inline', 'inner', 'input', 'insert', 'inserts', 'inside', 'install', 'installed', 'installing', 'instance', 'instances', 'instead', 'int', 'integer', 'integers', 'intellij', 'interested', 'interface', 'interfaces', 'internet', 'ios', 'issue', 'issues', 'item', 'items', 'iterate', 'ive', 'jar', 'java', 'javascript', 'john', 'join', 'jquery', 'js', 'json', 'key', 'keyboard', 'keys', 'keyword', 'kill', 'kind', 'know', 'label', 'language', 'languages', 'large', 'later', 'latest', 'layout', 'learn', 'learning', 'left', 'length', 'let', 'lets', 'level', 'li', 'libraries', 'library', 'like', 'likely', 'line', 'lines', 'link', 'links', 'linq', 'linux', 'list', 'lists', 'little', 'load', 'loaded', 'loadmodule', 'local', 'localhost', 'locally', 'location', 'log', 'login', 'long', 'longer', 'look', 'looked', 'looking', 'looks', 'loop', 'loops', 'lot', 'lots', 'mac', 'machine', 'main', 'make', 'makes', 'making', 'managed', 'manager', 'manually', 'map', 'master', 'match', 'matches', 'matter', 'maybe', 'mean', 'meaning', 'means', 'member', 'memory', 'mentioned', 'menu', 'merge', 'message', 'messages', 'method', 'methods', 'missing', 'modal', 'mode', 'model', 'modified', 'modify', 'module', 'modules', 'moment', 'mongodb', 'multiple', 'mvc', 'myclass', 'mysql', 'named', 'names', 'namespace', 'nan', 'necessary', 'need', 'needed', 'needs', 'nested', 'net', 'new', 'nice', 'node', 'nodejs', 'normal', 'note', 'noticed', 'npm', 'null', 'number', 'numbers', 'obj', 'object', 'objects', 'obvious', 'obviously', 'official', 'ok', 'old', 'ones', 'open', 'operation', 'operator', 'operators', 'option', 'optional', 'options', 'order', 'origin', 'original', 'originmaster', 'os', 'output', 'outside', 'overflow', 'override', 'package', 'packages', 'page', 'pages', 'pandas', 'parameter', 'parameters', 'parent', 'parse', 'particular', 'pass', 'passed', 'password', 'path', 'pattern', 'patterns', 'people', 'perform', 'performance', 'perl', 'permission', 'person', 'phase', 'php', 'pip', 'place', 'places', 'plain', 'platform', 'plugin', 'point', 'pointer', 'points', 'port', 'position', 'possible', 'post', 'postgresql', 'practice', 'prefer', 'preferred', 'present', 'pretty', 'prevent', 'previous', 'primary', 'print', 'prints', 'private', 'probably', 'problem', 'problems', 'process', 'product', 'program', 'programming', 'project', 'projects', 'prompt', 'proper', 'properly', 'properties', 'property', 'protected', 'provide', 'provided', 'ps', 'ptr', 'public', 'pull', 'purpose', 'push', 'pushed', 'python', 'queries', 'query', 'question', 'questions', 'quick', 'quite', 'quotes', 'rails', 'ran', 'random', 'range', 'react', 'read', 'reading', 'real', 'really', 'reason', 'reasons', 'rebase', 'recent', 'recently', 'recommended', 'record', 'records', 'red', 'redirect', 'reference', 'references', 'regex', 'regular', 'related', 'relative', 'remote', 'remove', 'removing', 'render', 'replace', 'repo', 'repository', 'request', 'requests', 'require', 'required', 'requires', 'reset', 'resource', 'resources', 'response', 'rest', 'result', 'results', 'return', 'returned', 'returns', 'revert', 'right', 'rm', 'root', 'rounded', 'route', 'row', 'rows', 'ruby', 'rules', 'run', 'running', 'runs', 'runtime', 'said', 'sample', 'save', 'saw', 'say', 'says', 'scenario', 'scope', 'screen', 'script', 'scripts', 'scroll', 'search', 'searching', 'second', 'seconds', 'section', 'security', 'seen', 'select', 'selected', 'selector', 'self', 'send', 'sense', 'sent', 'separate', 'server', 'service', 'services', 'session', 'set', 'setting', 'settings', 'setup', 'shell', 'short', 'shown', 'shows', 'similar', 'simple', 'simplest', 'simply', 'single', 'singleton', 'site', 'situation', 'size', 'slow', 'small', 'software', 'solution', 'solutions', 'solve', 'sort', 'source', 'space', 'spaces', 'span', 'special', 'specific', 'specifically', 'specified', 'specify', 'speed', 'split', 'sql', 'ssh', 'stack', 'standard', 'start', 'started', 'starting', 'starts', 'stash', 'state', 'statement', 'statements', 'static', 'status', 'step', 'steps', 'stop', 'store', 'stored', 'str', 'string', 'strings', 'struct', 'structure', 'studio', 'stuff', 'style', 'submit', 'success', 'successfully', 'sudo', 'suggested', 'suggestions', 'sum', 'support', 'supported', 'suppose', 'supposed', 'sure', 'svn', 'swift', 'switch', 'syntax', 'tab', 'table', 'tables', 'tag', 'tags', 'takes', 'target', 'task', 'tell', 'template', 'terminal', 'terms', 'test', 'testing', 'tests', 'text', 'textview', 'thanks', 'thats', 'theres', 'theyre', 'thing', 'things', 'think', 'thinking', 'thought', 'thread', 'throw', 'throws', 'time', 'times', 'title', 'today', 'token', 'tool', 'tools', 'trace', 'traceback', 'track', 'tree', 'tried', 'trouble', 'true', 'try', 'trying', 'turn', 'type', 'types', 'typetext', 'ui', 'ul', 'unable', 'undefined', 'understand', 'understanding', 'undo', 'unexpected', 'unfortunately', 'unicode', 'unique', 'unit', 'unix', 'unsigned', 'untracked', 'update', 'updated', 'upload', 'url', 'usage', 'use', 'used', 'useful', 'user', 'username', 'users', 'uses', 'using', 'usually', 'utf8', 'val', 'valid', 'value', 'values', 'var', 'variable', 'variables', 'various', 'version', 'versions', 'view', 'vim', 'virtual', 'visual', 'void', 'vs', 'wait', 'want', 'wanted', 'warning', 'way', 'ways', 'web', 'website', 'whats', 'width', 'window', 'windows', 'wondering', 'word', 'words', 'work', 'worked', 'working', 'works', 'world', 'write', 'writing', 'written', 'wrong', 'xcode', 'xml', 'years', 'yes']\n",
      "LatentDirichletAllocation(batch_size=128, doc_topic_prior=None,\n",
      "             evaluate_every=-1, learning_decay=0.7,\n",
      "             learning_method='online', learning_offset=50.0,\n",
      "             max_doc_update_iter=100, max_iter=5, mean_change_tol=0.001,\n",
      "             n_components=10, n_jobs=1, n_topics=20, perp_tol=0.1,\n",
      "             random_state=0, topic_word_prior=None,\n",
      "             total_samples=1000000.0, verbose=0)\n"
     ]
    }
   ],
   "source": [
    "from sklearn.feature_extraction.text import CountVectorizer\n",
    "\n",
    "from sklearn.decomposition import LatentDirichletAllocation\n",
    "no_topics = 20\n",
    "documents = data_preprocessed.unique()\n",
    "\n",
    "tf_vectorizer = CountVectorizer(\n",
    "    max_df=0.95,\n",
    "    min_df=2, \n",
    "    max_features=1000,\n",
    "    stop_words='english'\n",
    ")\n",
    "tf = tf_vectorizer.fit_transform(documents)\n",
    "\n",
    "# Run LDA\n",
    "lda = LatentDirichletAllocation(n_topics=no_topics, max_iter=5, learning_method='online', learning_offset=50.,random_state=0).fit(tf)\n",
    "\n",
    "'''\n",
    "def display_topics(model, feature_names, no_top_words):\n",
    "    for topic_idx, topic in enumerate(model.components_):\n",
    "        print(\"Topic :\", topic_idx, \":\" )\n",
    "        print (\" \".join([feature_names[i]\n",
    "                        for i in topic.argsort()[:-no_top_words - 1:-1]]))\n",
    "'''\n",
    "\n",
    "no_top_words = 5\n",
    "tagText.display_topics(lda, tf_vectorizer.get_feature_names(), no_top_words)\n",
    "print(tf_vectorizer.get_feature_names())\n",
    "print(lda)\n"
   ]
  },
  {
   "cell_type": "markdown",
   "metadata": {},
   "source": [
    "<p style=\"font-family: Arial; font-size:1.75em;color:#2462C0; font-style:bold\"><br>\n",
    "IV - Data - Tag genetaor </p>"
   ]
  },
  {
   "cell_type": "markdown",
   "metadata": {},
   "source": [
    "<p style=\"font-family: Arial; font-size:1.75em;color:#2462C0; font-style:bold\"><br>\n",
    "IV.1 - Data - Tag generator - Unsupervised - By nb of occurence</p>"
   ]
  },
  {
   "cell_type": "code",
   "execution_count": 19,
   "metadata": {},
   "outputs": [
    {
     "name": "stdout",
     "output_type": "stream",
     "text": [
      "203\n",
      "1405\n",
      "250.0\n",
      "484.0\n",
      "234.0\n",
      "-101.0\n",
      "835.0\n"
     ]
    },
    {
     "data": {
      "text/plain": [
       "\"[('like', 1405), ('using', 1229), ('use', 1190), ('want', 1125), ('way', 1115), ('im', 1076), ('code', 1031), ('file', 1030), ('git', 1010), ('would', 960), ('get', 949), ('new', 850), ('one', 845), ('this', 834), ('string', 789), ('1', 736), ('function', 638), ('know', 610), ('need', 579), ('example', 576), ('error', 566), ('ive', 554), ('class', 552), ('c', 546), ('something', 545), ('it', 507), ('files', 501), ('2', 500), ('following', 498), ('return', 496), ('python', 495), ('work', 484), ('data', 481), ('id', 476), ('var', 468), ('0', 467), ('branch', 455), ('set', 452), ('value', 452), ('object', 442), ('public', 440), ('div', 433), ('method', 426), ('list', 423), ('javascript', 410), ('find', 406), ('also', 401), ('int', 398), ('line', 381), ('see', 374), ('name', 373), ('question', 370), ('command', 368), ('3', 360), ('make', 360), ('tried', 358), ('array', 351), ('time', 340), ('trying', 338), ('could', 336), ('create', 332), ('add', 331), ('two', 330), ('run', 328), ('used', 328), ('difference', 325), ('commit', 319), ('script', 311), ('possible', 310), ('without', 308), ('text', 307), ('server', 306), ('version', 306), ('first', 305), ('java', 293), ('i', 293), ('changes', 290), ('directory', 283), ('b', 282), ('problem', 280), ('seems', 279), ('type', 277), ('different', 274), ('user', 270), ('however', 269), ('application', 269), ('project', 268), ('cant', 264), ('a', 262), ('working', 262), ('found', 260), ('number', 255), ('x', 253), ('update', 250), ('test', 250), ('repository', 244), ('table', 238), ('values', 238), ('output', 235), ('input', 234), ('select', 231), ('best', 231), ('case', 230), ('another', 230), ('php', 228), ('master', 227), ('change', 226), ('page', 225), ('simple', 223), ('key', 222), ('jquery', 222), ('5', 216), ('whats', 215), ('element', 214), ('call', 211), ('static', 209), ('variable', 208), ('works', 208), ('is', 208), ('try', 208), ('read', 207), ('understand', 207), ('better', 206), ('database', 205), ('instead', 203)]\""
      ]
     },
     "execution_count": 19,
     "metadata": {},
     "output_type": "execute_result"
    }
   ],
   "source": [
    "dict_tag = count_word_occurencies(data_preprocessed)\n",
    "dict_tag = str(dict_tag)\n",
    "dict_tag\n"
   ]
  },
  {
   "cell_type": "code",
   "execution_count": 20,
   "metadata": {},
   "outputs": [
    {
     "name": "stdout",
     "output_type": "stream",
     "text": [
      "['code', 'with', 'like', 'git']\n",
      "['code', 'with']\n"
     ]
    }
   ],
   "source": [
    "def unsupervised_tag(dict_word_key, new_question, number_max_tag):\n",
    "    tags = [word for word in new_question.split() if (word in dict_word_key)]\n",
    "    return tags[0:number_max_tag]\n",
    "\n",
    "print(unsupervised_tag(dict_tag, \"How save my code source with soft like git\", 20))\n",
    "print(unsupervised_tag(dict_tag, \"How save my code source with soft like like git\", 2))\n",
    "#for word in \"like git branche totot, test\".split() if (word in dict_word_key)"
   ]
  },
  {
   "cell_type": "code",
   "execution_count": 21,
   "metadata": {},
   "outputs": [
    {
     "data": {
      "text/plain": [
       "['code', 'with']"
      ]
     },
     "execution_count": 21,
     "metadata": {},
     "output_type": "execute_result"
    }
   ],
   "source": [
    "tagText.unsupervised_tag(dict_tag, \"How save my code source with soft like git\", 2)"
   ]
  },
  {
   "cell_type": "markdown",
   "metadata": {},
   "source": [
    "<p style=\"font-family: Arial; font-size:1.75em;color:#2462C0; font-style:bold\"><br>\n",
    "IV.2-a - Data - Tag generator - Unsupervised - LDA</p>"
   ]
  },
  {
   "cell_type": "code",
   "execution_count": 22,
   "metadata": {},
   "outputs": [
    {
     "name": "stdout",
     "output_type": "stream",
     "text": [
      "Topic : 0 :\n",
      "file add way result around\n",
      "Topic : 1 :\n",
      "class arrays renam node textxjson\n",
      "Topic : 2 :\n",
      "bugfix that anomali thing result\n",
      "Topic : 3 :\n",
      "java question way def browser\n",
      "Topic : 4 :\n",
      "schulz undo issu mani applicationjson\n",
      "Topic : 5 :\n",
      "renam uptod need visual getchildcandid\n",
      "Topic : 6 :\n",
      "void textxjavascript sort selfrightchild use\n",
      "Topic : 7 :\n",
      "anybodi file cstl data stdsortdata\n",
      "Topic : 8 :\n",
      "gather describ use well iostream\n",
      "Topic : 9 :\n",
      "describ initi python support one\n",
      "Topic : 10 :\n",
      "almost behavior resultextendnodevalu follow goe\n",
      "Topic : 11 :\n",
      "file elapsedtim return selfmedian next\n",
      "Topic : 12 :\n",
      "stdrand support class getchildcandidatesself resultextendnodevalu\n",
      "Topic : 13 :\n",
      "selfrightchild getchildcandid subsequ text ad\n",
      "Topic : 14 :\n",
      "sum dataarrays distanc thing assum\n",
      "Topic : 15 :\n",
      "json add around commit again\n",
      "Topic : 16 :\n",
      "keyword piec branch gener second\n",
      "Topic : 17 :\n",
      "master dataarrays commit like textjavascript\n",
      "Topic : 18 :\n",
      "gcc clockspersec remotesoriginbugfix selfmedian understand\n",
      "Topic : 19 :\n",
      "describ branch mistakenli im remot\n"
     ]
    },
    {
     "name": "stderr",
     "output_type": "stream",
     "text": [
      "C:\\Users\\naru_\\Anaconda3\\lib\\site-packages\\sklearn\\decomposition\\online_lda.py:294: DeprecationWarning: n_topics has been renamed to n_components in version 0.19 and will be removed in 0.21\n",
      "  DeprecationWarning)\n"
     ]
    }
   ],
   "source": [
    "tf = word_count_vector\n",
    "\n",
    "from sklearn.decomposition import LatentDirichletAllocation\n",
    "no_topics = 20\n",
    "'''\n",
    "tf_vectorizer = COuntVectorizer(max_df)\n",
    "tf = tf_vectorizer.fit_transform(documents)\n",
    "'''\n",
    "# Run LDA\n",
    "lda = LatentDirichletAllocation(n_topics=no_topics, max_iter=5, learning_method='online', learning_offset=50.,random_state=0).fit(tf)\n",
    "\n",
    "\n",
    "def display_topics(model, feature_names, no_top_words):\n",
    "    for topic_idx, topic in enumerate(model.components_):\n",
    "        print(\"Topic :\", topic_idx, \":\" )\n",
    "        print (\" \".join([feature_names[i]\n",
    "                        for i in topic.argsort()[:-no_top_words - 1:-1]]))\n",
    "\n",
    "no_top_words = 5\n",
    "display_topics(lda, cv.get_feature_names(), no_top_words)\n",
    "# reprendre forcement avec countVectorizer"
   ]
  },
  {
   "cell_type": "code",
   "execution_count": 23,
   "metadata": {},
   "outputs": [
    {
     "name": "stdout",
     "output_type": "stream",
     "text": [
      "Topic : 0 :\n",
      "branch git remote local want\n",
      "Topic : 1 :\n",
      "branch similar returned new undo\n",
      "Topic : 2 :\n",
      "start main include result undo\n",
      "Topic : 3 :\n",
      "local want include start commit\n",
      "Topic : 4 :\n",
      "id new int pushed start\n",
      "Topic : 5 :\n",
      "git files commit undo pushed\n",
      "Topic : 6 :\n",
      "remote result main undo start\n",
      "Topic : 7 :\n",
      "undo pull int remote returned\n",
      "Topic : 8 :\n",
      "piece local code files returned\n",
      "Topic : 9 :\n",
      "id branch undo code start\n",
      "Topic : 10 :\n",
      "git pull similar returned include\n",
      "Topic : 11 :\n",
      "id local int main result\n",
      "Topic : 12 :\n",
      "piece returned undo branch want\n",
      "Topic : 13 :\n",
      "int code start include id\n",
      "Topic : 14 :\n",
      "undo include remote returned id\n",
      "Topic : 15 :\n",
      "remote local similar include returned\n",
      "Topic : 16 :\n",
      "main pull local start files\n",
      "Topic : 17 :\n",
      "commit files id new start\n",
      "Topic : 18 :\n",
      "result code returned int piece\n",
      "Topic : 19 :\n",
      "piece int local pushed start\n",
      "['branch', 'code', 'commit', 'files', 'git', 'id', 'include', 'int', 'local', 'main', 'new', 'piece', 'pull', 'pushed', 'remote', 'result', 'returned', 'similar', 'start', 'undo', 'want']\n",
      "LatentDirichletAllocation(batch_size=128, doc_topic_prior=None,\n",
      "             evaluate_every=-1, learning_decay=0.7,\n",
      "             learning_method='online', learning_offset=50.0,\n",
      "             max_doc_update_iter=100, max_iter=5, mean_change_tol=0.001,\n",
      "             n_components=10, n_jobs=1, n_topics=20, perp_tol=0.1,\n",
      "             random_state=0, topic_word_prior=None,\n",
      "             total_samples=1000000.0, verbose=0)\n"
     ]
    },
    {
     "name": "stderr",
     "output_type": "stream",
     "text": [
      "C:\\Users\\naru_\\Anaconda3\\lib\\site-packages\\sklearn\\decomposition\\online_lda.py:294: DeprecationWarning: n_topics has been renamed to n_components in version 0.19 and will be removed in 0.21\n",
      "  DeprecationWarning)\n"
     ]
    }
   ],
   "source": [
    "from sklearn.feature_extraction.text import CountVectorizer\n",
    "\n",
    "from sklearn.decomposition import LatentDirichletAllocation\n",
    "no_topics = 20\n",
    "documents = data_preprocessed[0:9].unique()\n",
    "\n",
    "tf_vectorizer = CountVectorizer(\n",
    "    max_df=0.95,\n",
    "    min_df=2, \n",
    "    max_features=1000,\n",
    "    stop_words='english'\n",
    ")\n",
    "tf = tf_vectorizer.fit_transform(documents)\n",
    "\n",
    "# Run LDA\n",
    "lda = LatentDirichletAllocation(n_topics=no_topics, max_iter=5, learning_method='online', learning_offset=50.,random_state=0).fit(tf)\n",
    "\n",
    "'''\n",
    "def display_topics(model, feature_names, no_top_words):\n",
    "    for topic_idx, topic in enumerate(model.components_):\n",
    "        print(\"Topic :\", topic_idx, \":\" )\n",
    "        print (\" \".join([feature_names[i]\n",
    "                        for i in topic.argsort()[:-no_top_words - 1:-1]]))\n",
    "'''\n",
    "\n",
    "no_top_words = 5\n",
    "tagText.display_topics(lda, tf_vectorizer.get_feature_names(), no_top_words)\n",
    "print(tf_vectorizer.get_feature_names())\n",
    "print(lda)\n"
   ]
  },
  {
   "cell_type": "code",
   "execution_count": 24,
   "metadata": {},
   "outputs": [
    {
     "name": "stdout",
     "output_type": "stream",
     "text": [
      "LatentDirichletAllocation(batch_size=128, doc_topic_prior=None,\n",
      "             evaluate_every=-1, learning_decay=0.7,\n",
      "             learning_method='online', learning_offset=50.0,\n",
      "             max_doc_update_iter=100, max_iter=5, mean_change_tol=0.001,\n",
      "             n_components=10, n_jobs=1, n_topics=20, perp_tol=0.1,\n",
      "             random_state=0, topic_word_prior=None,\n",
      "             total_samples=1000000.0, verbose=0)\n"
     ]
    }
   ],
   "source": [
    "from joblib import dump, load\n",
    "dump(lda, 'lda.joblib') \n",
    "ldaLoad = load('lda.joblib') \n",
    "\n",
    "dump(lda, 'lda.joblib') \n",
    "ldaLoad = load('lda.joblib') \n",
    "\n",
    "print(ldaLoad)"
   ]
  },
  {
   "cell_type": "code",
   "execution_count": 25,
   "metadata": {},
   "outputs": [
    {
     "name": "stderr",
     "output_type": "stream",
     "text": [
      "C:\\Users\\naru_\\Anaconda3\\lib\\site-packages\\sklearn\\decomposition\\online_lda.py:294: DeprecationWarning: n_topics has been renamed to n_components in version 0.19 and will be removed in 0.21\n",
      "  DeprecationWarning)\n"
     ]
    },
    {
     "name": "stdout",
     "output_type": "stream",
     "text": [
      "Topic : 0 :\n",
      "editor starting theyre hashmap whats\n",
      "Topic : 1 :\n",
      "git commit changes repository file\n",
      "Topic : 2 :\n",
      "random numbers generate range 32\n",
      "Topic : 3 :\n",
      "branch master merge feature git\n",
      "Topic : 4 :\n",
      "hello world phase bob note\n",
      "Topic : 5 :\n",
      "using use im ive like\n",
      "Topic : 6 :\n",
      "tag tags sort used finally\n",
      "Topic : 7 :\n",
      "test number abc nan 25\n",
      "Topic : 8 :\n",
      "10 result datetime expression 12\n",
      "Topic : 9 :\n",
      "directory file create exists makes\n",
      "Topic : 10 :\n",
      "turn instance projects whats block\n",
      "Topic : 11 :\n",
      "redirect created gitignore let pattern\n",
      "Topic : 12 :\n",
      "thanks exception inside missing happening\n",
      "Topic : 13 :\n",
      "behaviour prefer info android err\n",
      "Topic : 14 :\n",
      "stack language programming read testing\n",
      "Topic : 15 :\n",
      "differences rounded service angularjs prints\n",
      "Topic : 16 :\n",
      "interface class private abstract rules\n",
      "Topic : 17 :\n",
      "difference android passed following example\n",
      "Topic : 18 :\n",
      "check looking object request application\n",
      "Topic : 19 :\n",
      "possible element hidden using definition\n",
      "Topic : 20 :\n",
      "int const code loop case\n",
      "Topic : 21 :\n",
      "div css height content width\n",
      "Topic : 22 :\n",
      "like id table using data\n",
      "Topic : 23 :\n",
      "project studio code visual eclipse\n",
      "Topic : 24 :\n",
      "git directory contains commits commit\n",
      "Topic : 25 :\n",
      "compile jar dependencies libraries versions\n",
      "Topic : 26 :\n",
      "string convert view os characters\n",
      "Topic : 27 :\n",
      "request data server post http\n",
      "Topic : 28 :\n",
      "javascript loadmodule include browsers explain\n",
      "Topic : 29 :\n",
      "text input form button value\n",
      "Topic : 30 :\n",
      "version install package npm node\n",
      "Topic : 31 :\n",
      "wondering sent kind database structure\n",
      "Topic : 32 :\n",
      "key delete join inner keys\n",
      "Topic : 33 :\n",
      "array way check true false\n",
      "Topic : 34 :\n",
      "nan documentation compare certain virtual\n",
      "Topic : 35 :\n",
      "table html css like set\n",
      "Topic : 36 :\n",
      "class public new method java\n",
      "Topic : 37 :\n",
      "difference php mean use whats\n",
      "Topic : 38 :\n",
      "files remove list want add\n",
      "Topic : 39 :\n",
      "exception state try catch throw\n",
      "Topic : 40 :\n",
      "thought web unfortunately programming searching\n",
      "Topic : 41 :\n",
      "given determine expect ago days\n",
      "Topic : 42 :\n",
      "head reset hard revert undo\n",
      "Topic : 43 :\n",
      "ive seen obj way like\n",
      "Topic : 44 :\n",
      "property checked age enter years\n",
      "Topic : 45 :\n",
      "object question image date use\n",
      "Topic : 46 :\n",
      "address vim replace email copy\n",
      "Topic : 47 :\n",
      "function var python like return\n",
      "Topic : 48 :\n",
      "html background body strings document\n",
      "Topic : 49 :\n",
      "file error line script command\n",
      "Topic : 0 :\n",
      "editor starting theyre hashmap whats\n",
      "Topic : 1 :\n",
      "git commit changes repository file\n",
      "Topic : 2 :\n",
      "random numbers generate range 32\n",
      "Topic : 3 :\n",
      "branch master merge feature git\n",
      "Topic : 4 :\n",
      "hello world phase bob note\n",
      "Topic : 5 :\n",
      "using use im ive like\n",
      "Topic : 6 :\n",
      "tag tags sort used finally\n",
      "Topic : 7 :\n",
      "test number abc nan 25\n",
      "Topic : 8 :\n",
      "10 result datetime expression 12\n",
      "Topic : 9 :\n",
      "directory file create exists makes\n",
      "Topic : 10 :\n",
      "turn instance projects whats block\n",
      "Topic : 11 :\n",
      "redirect created gitignore let pattern\n",
      "Topic : 12 :\n",
      "thanks exception inside missing happening\n",
      "Topic : 13 :\n",
      "behaviour prefer info android err\n",
      "Topic : 14 :\n",
      "stack language programming read testing\n",
      "Topic : 15 :\n",
      "differences rounded service angularjs prints\n",
      "Topic : 16 :\n",
      "interface class private abstract rules\n",
      "Topic : 17 :\n",
      "difference android passed following example\n",
      "Topic : 18 :\n",
      "check looking object request application\n",
      "Topic : 19 :\n",
      "possible element hidden using definition\n",
      "Topic : 20 :\n",
      "int const code loop case\n",
      "Topic : 21 :\n",
      "div css height content width\n",
      "Topic : 22 :\n",
      "like id table using data\n",
      "Topic : 23 :\n",
      "project studio code visual eclipse\n",
      "Topic : 24 :\n",
      "git directory contains commits commit\n",
      "Topic : 25 :\n",
      "compile jar dependencies libraries versions\n",
      "Topic : 26 :\n",
      "string convert view os characters\n",
      "Topic : 27 :\n",
      "request data server post http\n",
      "Topic : 28 :\n",
      "javascript loadmodule include browsers explain\n",
      "Topic : 29 :\n",
      "text input form button value\n",
      "Topic : 30 :\n",
      "version install package npm node\n",
      "Topic : 31 :\n",
      "wondering sent kind database structure\n",
      "Topic : 32 :\n",
      "key delete join inner keys\n",
      "Topic : 33 :\n",
      "array way check true false\n",
      "Topic : 34 :\n",
      "nan documentation compare certain virtual\n",
      "Topic : 35 :\n",
      "table html css like set\n",
      "Topic : 36 :\n",
      "class public new method java\n",
      "Topic : 37 :\n",
      "difference php mean use whats\n",
      "Topic : 38 :\n",
      "files remove list want add\n",
      "Topic : 39 :\n",
      "exception state try catch throw\n",
      "Topic : 40 :\n",
      "thought web unfortunately programming searching\n",
      "Topic : 41 :\n",
      "given determine expect ago days\n",
      "Topic : 42 :\n",
      "head reset hard revert undo\n",
      "Topic : 43 :\n",
      "ive seen obj way like\n",
      "Topic : 44 :\n",
      "property checked age enter years\n",
      "Topic : 45 :\n",
      "object question image date use\n",
      "Topic : 46 :\n",
      "address vim replace email copy\n",
      "Topic : 47 :\n",
      "function var python like return\n",
      "Topic : 48 :\n",
      "html background body strings document\n",
      "Topic : 49 :\n",
      "file error line script command\n",
      "['000', '10', '100', '1000', '11', '12', '123', '13', '15', '16', '20', '2010', '23', '25', '26', '30', '32', '50', '80', 'abc', 'able', 'abstract', 'accept', 'access', 'accomplish', 'according', 'achieve', 'action', 'activity', 'actual', 'actually', 'add', 'added', 'adding', 'additional', 'address', 'age', 'ago', 'ajax', 'algorithm', 'allow', 'allowed', 'allows', 'android', 'angularjs', 'answer', 'answers', 'apache', 'api', 'app', 'apparently', 'appear', 'appears', 'append', 'application', 'applications', 'apply', 'approach', 'appropriate', 'args', 'argument', 'arguments', 'array', 'arrays', 'article', 'ask', 'asked', 'asking', 'aspnet', 'assembly', 'assume', 'async', 'attempt', 'attribute', 'attributes', 'authentication', 'author', 'automatically', 'available', 'avoid', 'aware', 'away', 'background', 'backgroundcolor', 'bad', 'bar', 'base', 'based', 'bash', 'basic', 'basically', 'behavior', 'behaviour', 'believe', 'best', 'better', 'big', 'binary', 'bit', 'block', 'bob', 'body', 'book', 'bool', 'boolean', 'border', 'box', 'branch', 'branches', 'break', 'browser', 'browsers', 'buffer', 'bug', 'build', 'building', 'built', 'builtin', 'button', 'buttons', 'byte', 'bytes', 'cache', 'callback', 'called', 'calling', 'calls', 'came', 'case', 'cases', 'cat', 'catch', 'cause', 'center', 'certain', 'change', 'changed', 'changes', 'changing', 'char', 'character', 'characters', 'check', 'checked', 'checking', 'checkout', 'child', 'choice', 'choose', 'chrome', 'class', 'classes', 'clean', 'clear', 'click', 'client', 'clone', 'close', 'code', 'collection', 'color', 'column', 'columns', 'come', 'comes', 'coming', 'command', 'commands', 'comment', 'comments', 'commit', 'commits', 'committed', 'common', 'compare', 'comparison', 'compile', 'compiled', 'compiler', 'complete', 'completely', 'component', 'components', 'computer', 'config', 'configuration', 'configure', 'confused', 'connect', 'connection', 'consider', 'considered', 'console', 'const', 'constant', 'constructor', 'contain', 'container', 'containing', 'contains', 'content', 'contents', 'contenttype', 'context', 'continue', 'control', 'controller', 'convert', 'copy', 'core', 'correct', 'correctly', 'count', 'couple', 'course', 'cprogram', 'create', 'created', 'creating', 'css', 'curl', 'current', 'currently', 'custom', 'data', 'database', 'dataframe', 'date', 'datetime', 'day', 'days', 'db', 'debug', 'declare', 'def', 'default', 'define', 'defined', 'definition', 'delete', 'deleted', 'dependencies', 'dependency', 'description', 'design', 'details', 'detect', 'determine', 'developer', 'development', 'device', 'dictionary', 'diff', 'difference', 'differences', 'different', 'directly', 'directories', 'directory', 'disable', 'display', 'displayed', 'div', 'django', 'docker', 'docs', 'document', 'documentation', 'documents', 'does', 'dom', 'double', 'download', 'duplicate', 'easier', 'easily', 'easy', 'echo', 'eclipse', 'edit', 'editor', 'edittext', 'efficient', 'elegant', 'element', 'elements', 'email', 'encoding', 'end', 'enter', 'entire', 'entity', 'entry', 'enum', 'environment', 'equal', 'equals', 'equivalent', 'err', 'error', 'errors', 'especially', 'event', 'events', 'exact', 'exactly', 'example', 'examples', 'excel', 'exception', 'exceptions', 'execute', 'executed', 'executing', 'execution', 'exist', 'existing', 'exists', 'exit', 'expect', 'expected', 'experience', 'explain', 'explanation', 'explorer', 'export', 'express', 'expression', 'extends', 'extension', 'external', 'extra', 'fact', 'fail', 'failed', 'fails', 'fairly', 'false', 'far', 'fast', 'faster', 'fatal', 'feature', 'features', 'feel', 'fetch', 'field', 'fields', 'figure', 'file', 'filename', 'files', 'filter', 'final', 'finally', 'fine', 'firefox', 'fix', 'float', 'folder', 'folders', 'following', 'follows', 'foo', 'force', 'foreach', 'form', 'format', 'forward', 'fragment', 'fragments', 'frame', 'framework', 'free', 'function', 'functional', 'functionality', 'functions', 'future', 'gcc', 'general', 'generate', 'generated', 'generic', 'gets', 'getting', 'git', 'github', 'gitignore', 'given', 'gives', 'global', 'goes', 'going', 'good', 'google', 'got', 'great', 'grep', 'group', 'guess', 'guide', 'handle', 'handler', 'handling', 'happen', 'happening', 'happens', 'hard', 'hash', 'hashmap', 'head', 'header', 'headers', 'heard', 'height', 'hello', 'help', 'heres', 'hex', 'hidden', 'hide', 'history', 'hoping', 'host', 'html', 'http', 'id', 'idea', 'ideally', 'ideas', 'ignore', 'ill', 'im', 'image', 'images', 'img', 'implement', 'implementation', 'implemented', 'import', 'important', 'include', 'includes', 'including', 'index', 'info', 'information', 'init', 'initial', 'inline', 'inner', 'input', 'insert', 'inserts', 'inside', 'install', 'installed', 'installing', 'instance', 'instances', 'instead', 'int', 'integer', 'integers', 'intellij', 'interested', 'interface', 'interfaces', 'internet', 'ios', 'issue', 'issues', 'item', 'items', 'iterate', 'ive', 'jar', 'java', 'javascript', 'john', 'join', 'jquery', 'js', 'json', 'key', 'keyboard', 'keys', 'keyword', 'kill', 'kind', 'know', 'label', 'language', 'languages', 'large', 'later', 'latest', 'layout', 'learn', 'learning', 'left', 'length', 'let', 'lets', 'level', 'li', 'libraries', 'library', 'like', 'likely', 'line', 'lines', 'link', 'links', 'linq', 'linux', 'list', 'lists', 'little', 'load', 'loaded', 'loadmodule', 'local', 'localhost', 'locally', 'location', 'log', 'login', 'long', 'longer', 'look', 'looked', 'looking', 'looks', 'loop', 'loops', 'lot', 'lots', 'mac', 'machine', 'main', 'make', 'makes', 'making', 'managed', 'manager', 'manually', 'map', 'master', 'match', 'matches', 'matter', 'maybe', 'mean', 'meaning', 'means', 'member', 'memory', 'mentioned', 'menu', 'merge', 'message', 'messages', 'method', 'methods', 'missing', 'modal', 'mode', 'model', 'modified', 'modify', 'module', 'modules', 'moment', 'mongodb', 'multiple', 'mvc', 'myclass', 'mysql', 'named', 'names', 'namespace', 'nan', 'necessary', 'need', 'needed', 'needs', 'nested', 'net', 'new', 'nice', 'node', 'nodejs', 'normal', 'note', 'noticed', 'npm', 'null', 'number', 'numbers', 'obj', 'object', 'objects', 'obvious', 'obviously', 'official', 'ok', 'old', 'ones', 'open', 'operation', 'operator', 'operators', 'option', 'optional', 'options', 'order', 'origin', 'original', 'originmaster', 'os', 'output', 'outside', 'overflow', 'override', 'package', 'packages', 'page', 'pages', 'pandas', 'parameter', 'parameters', 'parent', 'parse', 'particular', 'pass', 'passed', 'password', 'path', 'pattern', 'patterns', 'people', 'perform', 'performance', 'perl', 'permission', 'person', 'phase', 'php', 'pip', 'place', 'places', 'plain', 'platform', 'plugin', 'point', 'pointer', 'points', 'port', 'position', 'possible', 'post', 'postgresql', 'practice', 'prefer', 'preferred', 'present', 'pretty', 'prevent', 'previous', 'primary', 'print', 'prints', 'private', 'probably', 'problem', 'problems', 'process', 'product', 'program', 'programming', 'project', 'projects', 'prompt', 'proper', 'properly', 'properties', 'property', 'protected', 'provide', 'provided', 'ps', 'ptr', 'public', 'pull', 'purpose', 'push', 'pushed', 'python', 'queries', 'query', 'question', 'questions', 'quick', 'quite', 'quotes', 'rails', 'ran', 'random', 'range', 'react', 'read', 'reading', 'real', 'really', 'reason', 'reasons', 'rebase', 'recent', 'recently', 'recommended', 'record', 'records', 'red', 'redirect', 'reference', 'references', 'regex', 'regular', 'related', 'relative', 'remote', 'remove', 'removing', 'render', 'replace', 'repo', 'repository', 'request', 'requests', 'require', 'required', 'requires', 'reset', 'resource', 'resources', 'response', 'rest', 'result', 'results', 'return', 'returned', 'returns', 'revert', 'right', 'rm', 'root', 'rounded', 'route', 'row', 'rows', 'ruby', 'rules', 'run', 'running', 'runs', 'runtime', 'said', 'sample', 'save', 'saw', 'say', 'says', 'scenario', 'scope', 'screen', 'script', 'scripts', 'scroll', 'search', 'searching', 'second', 'seconds', 'section', 'security', 'seen', 'select', 'selected', 'selector', 'self', 'send', 'sense', 'sent', 'separate', 'server', 'service', 'services', 'session', 'set', 'setting', 'settings', 'setup', 'shell', 'short', 'shown', 'shows', 'similar', 'simple', 'simplest', 'simply', 'single', 'singleton', 'site', 'situation', 'size', 'slow', 'small', 'software', 'solution', 'solutions', 'solve', 'sort', 'source', 'space', 'spaces', 'span', 'special', 'specific', 'specifically', 'specified', 'specify', 'speed', 'split', 'sql', 'ssh', 'stack', 'standard', 'start', 'started', 'starting', 'starts', 'stash', 'state', 'statement', 'statements', 'static', 'status', 'step', 'steps', 'stop', 'store', 'stored', 'str', 'string', 'strings', 'struct', 'structure', 'studio', 'stuff', 'style', 'submit', 'success', 'successfully', 'sudo', 'suggested', 'suggestions', 'sum', 'support', 'supported', 'suppose', 'supposed', 'sure', 'svn', 'swift', 'switch', 'syntax', 'tab', 'table', 'tables', 'tag', 'tags', 'takes', 'target', 'task', 'tell', 'template', 'terminal', 'terms', 'test', 'testing', 'tests', 'text', 'textview', 'thanks', 'thats', 'theres', 'theyre', 'thing', 'things', 'think', 'thinking', 'thought', 'thread', 'throw', 'throws', 'time', 'times', 'title', 'today', 'token', 'tool', 'tools', 'trace', 'traceback', 'track', 'tree', 'tried', 'trouble', 'true', 'try', 'trying', 'turn', 'type', 'types', 'typetext', 'ui', 'ul', 'unable', 'undefined', 'understand', 'understanding', 'undo', 'unexpected', 'unfortunately', 'unicode', 'unique', 'unit', 'unix', 'unsigned', 'untracked', 'update', 'updated', 'upload', 'url', 'usage', 'use', 'used', 'useful', 'user', 'username', 'users', 'uses', 'using', 'usually', 'utf8', 'val', 'valid', 'value', 'values', 'var', 'variable', 'variables', 'various', 'version', 'versions', 'view', 'vim', 'virtual', 'visual', 'void', 'vs', 'wait', 'want', 'wanted', 'warning', 'way', 'ways', 'web', 'website', 'whats', 'width', 'window', 'windows', 'wondering', 'word', 'words', 'work', 'worked', 'working', 'works', 'world', 'write', 'writing', 'written', 'wrong', 'xcode', 'xml', 'years', 'yes']\n",
      "LatentDirichletAllocation(batch_size=128, doc_topic_prior=None,\n",
      "             evaluate_every=-1, learning_decay=0.7,\n",
      "             learning_method='online', learning_offset=50.0,\n",
      "             max_doc_update_iter=100, max_iter=5, mean_change_tol=0.001,\n",
      "             n_components=10, n_jobs=1, n_topics=50, perp_tol=0.1,\n",
      "             random_state=0, topic_word_prior=None,\n",
      "             total_samples=1000000.0, verbose=0)\n"
     ]
    }
   ],
   "source": [
    "from sklearn.feature_extraction.text import CountVectorizer\n",
    "\n",
    "from sklearn.decomposition import LatentDirichletAllocation\n",
    "no_topics = 50\n",
    "documents = data_preprocessed.unique()\n",
    "\n",
    "tf_vectorizer = CountVectorizer(\n",
    "    max_df=0.95,\n",
    "    min_df=2, \n",
    "    max_features=1000,\n",
    "    stop_words='english'\n",
    ")\n",
    "tf = tf_vectorizer.fit_transform(documents)\n",
    "\n",
    "# Run LDA\n",
    "lda = LatentDirichletAllocation(n_topics=no_topics, max_iter=5, learning_method='online', learning_offset=50.,random_state=0).fit(tf)\n",
    "\n",
    "\n",
    "def display_topics(model, feature_names, no_top_words):\n",
    "    for topic_idx, topic in enumerate(model.components_):\n",
    "        print(\"Topic :\", topic_idx, \":\" )\n",
    "        print (\" \".join([feature_names[i]\n",
    "                        for i in topic.argsort()[:-no_top_words - 1:-1]]))\n",
    "\n",
    "\n",
    "no_top_words = 5\n",
    "display_topics( lda, tf_vectorizer.get_feature_names(), no_top_words)\n",
    "tagText.display_topics(lda, tf_vectorizer.get_feature_names(), no_top_words)\n",
    "print(tf_vectorizer.get_feature_names())\n",
    "print(lda)\n"
   ]
  },
  {
   "cell_type": "code",
   "execution_count": 26,
   "metadata": {},
   "outputs": [
    {
     "name": "stderr",
     "output_type": "stream",
     "text": [
      "C:\\Users\\naru_\\Anaconda3\\lib\\site-packages\\sklearn\\decomposition\\online_lda.py:294: DeprecationWarning: n_topics has been renamed to n_components in version 0.19 and will be removed in 0.21\n",
      "  DeprecationWarning)\n"
     ]
    },
    {
     "name": "stdout",
     "output_type": "stream",
     "text": [
      "{'n_jobs': -1, 'max_iter': 10, 'random_state': 100, 'max_doc_update_iter': 100, 'mean_change_tol': 0.001, 'evaluate_every': -1, 'verbose': 0, 'batch_size': 128, 'doc_topic_prior': None, 'learning_method': 'online', 'learning_decay': 0.7, 'learning_offset': 10.0, 'n_components': 10, 'topic_word_prior': None, 'total_samples': 1000000.0, 'n_topics': 20, 'perp_tol': 0.1}\n",
      "Log Likelihood:  -989222.006366\n",
      "Perplexity:  1871.00612488\n",
      "{'n_jobs': -1, 'max_iter': 10, 'random_state': 100, 'max_doc_update_iter': 100, 'mean_change_tol': 0.001, 'evaluate_every': -1, 'verbose': 0, 'batch_size': 128, 'doc_topic_prior': None, 'learning_method': 'online', 'learning_decay': 0.7, 'learning_offset': 10.0, 'n_components': 10, 'topic_word_prior': None, 'total_samples': 1000000.0, 'n_topics': 20, 'perp_tol': 0.1}\n"
     ]
    },
    {
     "data": {
      "text/plain": [
       "(LatentDirichletAllocation(batch_size=128, doc_topic_prior=None,\n",
       "              evaluate_every=-1, learning_decay=0.7,\n",
       "              learning_method='online', learning_offset=10.0,\n",
       "              max_doc_update_iter=100, max_iter=10, mean_change_tol=0.001,\n",
       "              n_components=10, n_jobs=-1, n_topics=20, perp_tol=0.1,\n",
       "              random_state=100, topic_word_prior=None,\n",
       "              total_samples=1000000.0, verbose=0),\n",
       "                00        000     00000     000000  000000000    000001  \\\n",
       " Topic0   0.050003   0.050003  0.050003   0.050005   0.050003  0.050003   \n",
       " Topic1   0.050004   0.050003  0.050057   0.050004   0.050003  0.050002   \n",
       " Topic2   0.050015   0.050003  0.050068   0.050003   0.050003  0.050002   \n",
       " Topic3   0.050005   0.050003  2.716124   0.050004   0.050003  0.050003   \n",
       " Topic4   0.050015   0.050004  0.050003   0.050003   0.050003  0.050004   \n",
       " Topic5   0.050004   0.050006  0.050014   0.050004   0.050003  0.050003   \n",
       " Topic6   0.050003   0.050003  0.050003   0.050003   0.050023  6.937166   \n",
       " Topic7   0.050029   0.050004  0.050032   0.050018   0.050003  0.050003   \n",
       " Topic8   0.050003   0.050004  0.050003   0.050003   0.050003  0.050003   \n",
       " Topic9   0.050003   0.050003  0.050003   0.050003   0.050003  0.050003   \n",
       " Topic10  0.050010   0.050004  0.050046   0.050004   0.050003  0.050003   \n",
       " Topic11  0.050017   0.050003  0.050006   0.050003   3.199133  0.050028   \n",
       " Topic12  0.050005  55.308266  0.050260   0.050003   0.050003  0.050003   \n",
       " Topic13  0.050021   0.050007  0.050003   0.050029   0.050003  0.050003   \n",
       " Topic14  0.050003   0.050003  0.050003   0.050003   0.050003  0.050003   \n",
       " Topic15  0.050003   0.050003  0.050003   0.050003   0.050003  0.050003   \n",
       " Topic16  5.315138   0.050004  0.050009   0.050004   0.050003  0.050003   \n",
       " Topic17  0.050008   0.050013  0.050003   0.050028   0.050003  0.050003   \n",
       " Topic18  0.050003   0.050003  0.050004  20.029651   0.050004  0.050003   \n",
       " Topic19  0.050003   0.050003  0.050002   0.050006   0.050003  0.050104   \n",
       " \n",
       "            000003       005         01      0100    ...           yyy  \\\n",
       " Topic0   0.050003  3.633488  11.875310  0.050003    ...      0.050004   \n",
       " Topic1   0.050003  0.050008   0.050004  0.050003    ...      0.050003   \n",
       " Topic2   9.638259  0.050004   0.050004  0.050003    ...      0.050003   \n",
       " Topic3   0.050003  0.050004   0.050003  0.050003    ...      0.051030   \n",
       " Topic4   0.050004  0.050003   0.050002  0.050003    ...      0.050003   \n",
       " Topic5   0.050702  0.050022   0.050003  0.050027    ...      0.050144   \n",
       " Topic6   0.050003  0.050003   0.050007  0.050003    ...      0.050003   \n",
       " Topic7   0.050078  0.050010   0.050004  1.916324    ...      0.050082   \n",
       " Topic8   0.050003  0.050003   0.050003  0.050003    ...      0.050003   \n",
       " Topic9   0.050004  0.050005   0.050003  0.050003    ...      0.050017   \n",
       " Topic10  0.050003  0.050003   0.050003  0.050009    ...     11.784345   \n",
       " Topic11  0.050003  0.050004   0.050005  0.050003    ...      0.050003   \n",
       " Topic12  0.050004  0.050008   0.050048  0.050018    ...      0.050004   \n",
       " Topic13  0.050003  0.050014   0.050004  0.050004    ...      0.050003   \n",
       " Topic14  0.050004  0.050004   0.050004  0.050003    ...      0.050003   \n",
       " Topic15  0.050003  0.050003   0.050003  0.050003    ...      0.050003   \n",
       " Topic16  0.050256  0.050007   0.050009  0.050009    ...      0.050452   \n",
       " Topic17  0.050055  0.050003   0.050003  0.050003    ...      0.050113   \n",
       " Topic18  0.050004  0.050003   0.050003  0.050003    ...      0.050003   \n",
       " Topic19  0.050003  0.050013   0.050011  0.050003    ...      0.050003   \n",
       " \n",
       "          yyyymmdd       zen      zero    zeroes     zeros       zip   zipcode  \\\n",
       " Topic0   0.050003  0.050004  0.050017  0.050005  0.050003  0.050003  0.050003   \n",
       " Topic1   0.050003  0.050003  0.050003  0.050013  0.050003  0.050004  0.050006   \n",
       " Topic2   0.050010  0.050011  0.050003  0.050004  0.050003  0.050003  0.050014   \n",
       " Topic3   0.050004  0.050003  0.050002  0.050003  0.050003  0.050003  0.050003   \n",
       " Topic4   0.050003  0.050004  0.050003  0.050003  0.050003  0.050004  0.050003   \n",
       " Topic5   0.050004  0.050004  0.066342  0.050003  0.050003  0.050003  0.050006   \n",
       " Topic6   0.050003  0.050003  0.050003  0.050005  0.050003  0.050004  2.859383   \n",
       " Topic7   0.050003  0.050004  7.546599  0.201191  0.050012  0.050033  0.050003   \n",
       " Topic8   0.050003  0.050003  0.050003  0.050003  0.050002  0.050004  0.050003   \n",
       " Topic9   0.050003  0.050009  0.050003  0.050003  0.050003  0.050003  0.050003   \n",
       " Topic10  0.050003  0.050003  0.050003  0.050005  0.050003  0.050003  0.050003   \n",
       " Topic11  6.009136  0.050249  8.777663  5.544407  0.050091  0.050003  0.050003   \n",
       " Topic12  0.050003  0.050012  0.050021  0.050003  0.050003  0.050035  0.050003   \n",
       " Topic13  0.050531  0.050004  0.050019  0.050004  0.050010  0.050026  0.050026   \n",
       " Topic14  0.050003  0.050003  0.050003  0.050004  0.050003  0.050003  0.050003   \n",
       " Topic15  0.050003  0.050003  0.050003  0.050003  0.050004  0.050003  0.050007   \n",
       " Topic16  0.050003  0.050003  0.050005  0.050011  0.050011  0.050004  0.050007   \n",
       " Topic17  0.050003  2.800084  0.055153  0.050005  0.050003  8.407754  0.050004   \n",
       " Topic18  0.050003  0.050003  0.050003  0.050003  0.050003  0.050003  0.050003   \n",
       " Topic19  0.050003  0.050003  0.050003  0.050003  6.384092  0.050003  0.050015   \n",
       " \n",
       "              zone       zsh  \n",
       " Topic0   0.050003  0.050004  \n",
       " Topic1   0.050003  0.050003  \n",
       " Topic2   0.050011  2.327793  \n",
       " Topic3   0.050003  0.050004  \n",
       " Topic4   0.050003  0.050032  \n",
       " Topic5   0.050003  0.050003  \n",
       " Topic6   0.050003  0.050004  \n",
       " Topic7   0.050007  0.050068  \n",
       " Topic8   0.050004  0.050003  \n",
       " Topic9   0.050003  0.050003  \n",
       " Topic10  0.050003  0.050003  \n",
       " Topic11  0.050008  0.050003  \n",
       " Topic12  0.050014  0.050003  \n",
       " Topic13  0.050003  0.050017  \n",
       " Topic14  0.050013  0.050003  \n",
       " Topic15  0.050003  0.050003  \n",
       " Topic16  0.050003  0.050010  \n",
       " Topic17  2.998404  0.050013  \n",
       " Topic18  0.050003  0.050003  \n",
       " Topic19  0.050003  0.050003  \n",
       " \n",
       " [20 rows x 6399 columns],\n",
       " CountVectorizer(analyzer='word', binary=False, decode_error='strict',\n",
       "         dtype=<class 'numpy.int64'>, encoding='utf-8', input='content',\n",
       "         lowercase=True, max_df=0.95, max_features=50000, min_df=2,\n",
       "         ngram_range=(1, 1), preprocessor=None, stop_words='english',\n",
       "         strip_accents=None, token_pattern='(?u)\\\\b\\\\w\\\\w+\\\\b',\n",
       "         tokenizer=None, vocabulary=None))"
      ]
     },
     "execution_count": 26,
     "metadata": {},
     "output_type": "execute_result"
    }
   ],
   "source": [
    "tagText.lda_prepare_tag(data_preprocessed)"
   ]
  },
  {
   "cell_type": "code",
   "execution_count": 27,
   "metadata": {},
   "outputs": [
    {
     "name": "stderr",
     "output_type": "stream",
     "text": [
      "C:\\Users\\naru_\\Anaconda3\\lib\\site-packages\\sklearn\\decomposition\\online_lda.py:532: DeprecationWarning: The default value for 'learning_method' will be changed from 'online' to 'batch' in the release 0.20. This warning was introduced in 0.18.\n",
      "  DeprecationWarning)\n",
      "C:\\Users\\naru_\\Anaconda3\\lib\\site-packages\\sklearn\\decomposition\\online_lda.py:532: DeprecationWarning: The default value for 'learning_method' will be changed from 'online' to 'batch' in the release 0.20. This warning was introduced in 0.18.\n",
      "  DeprecationWarning)\n",
      "C:\\Users\\naru_\\Anaconda3\\lib\\site-packages\\sklearn\\decomposition\\online_lda.py:532: DeprecationWarning: The default value for 'learning_method' will be changed from 'online' to 'batch' in the release 0.20. This warning was introduced in 0.18.\n",
      "  DeprecationWarning)\n",
      "C:\\Users\\naru_\\Anaconda3\\lib\\site-packages\\sklearn\\decomposition\\online_lda.py:532: DeprecationWarning: The default value for 'learning_method' will be changed from 'online' to 'batch' in the release 0.20. This warning was introduced in 0.18.\n",
      "  DeprecationWarning)\n",
      "C:\\Users\\naru_\\Anaconda3\\lib\\site-packages\\sklearn\\decomposition\\online_lda.py:532: DeprecationWarning: The default value for 'learning_method' will be changed from 'online' to 'batch' in the release 0.20. This warning was introduced in 0.18.\n",
      "  DeprecationWarning)\n",
      "C:\\Users\\naru_\\Anaconda3\\lib\\site-packages\\sklearn\\decomposition\\online_lda.py:532: DeprecationWarning: The default value for 'learning_method' will be changed from 'online' to 'batch' in the release 0.20. This warning was introduced in 0.18.\n",
      "  DeprecationWarning)\n",
      "C:\\Users\\naru_\\Anaconda3\\lib\\site-packages\\sklearn\\decomposition\\online_lda.py:532: DeprecationWarning: The default value for 'learning_method' will be changed from 'online' to 'batch' in the release 0.20. This warning was introduced in 0.18.\n",
      "  DeprecationWarning)\n",
      "C:\\Users\\naru_\\Anaconda3\\lib\\site-packages\\sklearn\\decomposition\\online_lda.py:532: DeprecationWarning: The default value for 'learning_method' will be changed from 'online' to 'batch' in the release 0.20. This warning was introduced in 0.18.\n",
      "  DeprecationWarning)\n",
      "C:\\Users\\naru_\\Anaconda3\\lib\\site-packages\\sklearn\\decomposition\\online_lda.py:532: DeprecationWarning: The default value for 'learning_method' will be changed from 'online' to 'batch' in the release 0.20. This warning was introduced in 0.18.\n",
      "  DeprecationWarning)\n",
      "C:\\Users\\naru_\\Anaconda3\\lib\\site-packages\\sklearn\\decomposition\\online_lda.py:532: DeprecationWarning: The default value for 'learning_method' will be changed from 'online' to 'batch' in the release 0.20. This warning was introduced in 0.18.\n",
      "  DeprecationWarning)\n",
      "C:\\Users\\naru_\\Anaconda3\\lib\\site-packages\\sklearn\\decomposition\\online_lda.py:532: DeprecationWarning: The default value for 'learning_method' will be changed from 'online' to 'batch' in the release 0.20. This warning was introduced in 0.18.\n",
      "  DeprecationWarning)\n",
      "C:\\Users\\naru_\\Anaconda3\\lib\\site-packages\\sklearn\\decomposition\\online_lda.py:532: DeprecationWarning: The default value for 'learning_method' will be changed from 'online' to 'batch' in the release 0.20. This warning was introduced in 0.18.\n",
      "  DeprecationWarning)\n",
      "C:\\Users\\naru_\\Anaconda3\\lib\\site-packages\\sklearn\\decomposition\\online_lda.py:532: DeprecationWarning: The default value for 'learning_method' will be changed from 'online' to 'batch' in the release 0.20. This warning was introduced in 0.18.\n",
      "  DeprecationWarning)\n",
      "C:\\Users\\naru_\\Anaconda3\\lib\\site-packages\\sklearn\\decomposition\\online_lda.py:532: DeprecationWarning: The default value for 'learning_method' will be changed from 'online' to 'batch' in the release 0.20. This warning was introduced in 0.18.\n",
      "  DeprecationWarning)\n",
      "C:\\Users\\naru_\\Anaconda3\\lib\\site-packages\\sklearn\\decomposition\\online_lda.py:532: DeprecationWarning: The default value for 'learning_method' will be changed from 'online' to 'batch' in the release 0.20. This warning was introduced in 0.18.\n",
      "  DeprecationWarning)\n",
      "C:\\Users\\naru_\\Anaconda3\\lib\\site-packages\\sklearn\\decomposition\\online_lda.py:532: DeprecationWarning: The default value for 'learning_method' will be changed from 'online' to 'batch' in the release 0.20. This warning was introduced in 0.18.\n",
      "  DeprecationWarning)\n",
      "C:\\Users\\naru_\\Anaconda3\\lib\\site-packages\\sklearn\\decomposition\\online_lda.py:532: DeprecationWarning: The default value for 'learning_method' will be changed from 'online' to 'batch' in the release 0.20. This warning was introduced in 0.18.\n",
      "  DeprecationWarning)\n",
      "C:\\Users\\naru_\\Anaconda3\\lib\\site-packages\\sklearn\\decomposition\\online_lda.py:532: DeprecationWarning: The default value for 'learning_method' will be changed from 'online' to 'batch' in the release 0.20. This warning was introduced in 0.18.\n",
      "  DeprecationWarning)\n",
      "C:\\Users\\naru_\\Anaconda3\\lib\\site-packages\\sklearn\\decomposition\\online_lda.py:532: DeprecationWarning: The default value for 'learning_method' will be changed from 'online' to 'batch' in the release 0.20. This warning was introduced in 0.18.\n",
      "  DeprecationWarning)\n",
      "C:\\Users\\naru_\\Anaconda3\\lib\\site-packages\\sklearn\\decomposition\\online_lda.py:532: DeprecationWarning: The default value for 'learning_method' will be changed from 'online' to 'batch' in the release 0.20. This warning was introduced in 0.18.\n",
      "  DeprecationWarning)\n",
      "C:\\Users\\naru_\\Anaconda3\\lib\\site-packages\\sklearn\\decomposition\\online_lda.py:532: DeprecationWarning: The default value for 'learning_method' will be changed from 'online' to 'batch' in the release 0.20. This warning was introduced in 0.18.\n",
      "  DeprecationWarning)\n",
      "C:\\Users\\naru_\\Anaconda3\\lib\\site-packages\\sklearn\\decomposition\\online_lda.py:532: DeprecationWarning: The default value for 'learning_method' will be changed from 'online' to 'batch' in the release 0.20. This warning was introduced in 0.18.\n",
      "  DeprecationWarning)\n",
      "C:\\Users\\naru_\\Anaconda3\\lib\\site-packages\\sklearn\\decomposition\\online_lda.py:532: DeprecationWarning: The default value for 'learning_method' will be changed from 'online' to 'batch' in the release 0.20. This warning was introduced in 0.18.\n",
      "  DeprecationWarning)\n",
      "C:\\Users\\naru_\\Anaconda3\\lib\\site-packages\\sklearn\\decomposition\\online_lda.py:532: DeprecationWarning: The default value for 'learning_method' will be changed from 'online' to 'batch' in the release 0.20. This warning was introduced in 0.18.\n",
      "  DeprecationWarning)\n",
      "C:\\Users\\naru_\\Anaconda3\\lib\\site-packages\\sklearn\\decomposition\\online_lda.py:532: DeprecationWarning: The default value for 'learning_method' will be changed from 'online' to 'batch' in the release 0.20. This warning was introduced in 0.18.\n",
      "  DeprecationWarning)\n",
      "C:\\Users\\naru_\\Anaconda3\\lib\\site-packages\\sklearn\\decomposition\\online_lda.py:532: DeprecationWarning: The default value for 'learning_method' will be changed from 'online' to 'batch' in the release 0.20. This warning was introduced in 0.18.\n",
      "  DeprecationWarning)\n",
      "C:\\Users\\naru_\\Anaconda3\\lib\\site-packages\\sklearn\\decomposition\\online_lda.py:532: DeprecationWarning: The default value for 'learning_method' will be changed from 'online' to 'batch' in the release 0.20. This warning was introduced in 0.18.\n",
      "  DeprecationWarning)\n",
      "C:\\Users\\naru_\\Anaconda3\\lib\\site-packages\\sklearn\\decomposition\\online_lda.py:532: DeprecationWarning: The default value for 'learning_method' will be changed from 'online' to 'batch' in the release 0.20. This warning was introduced in 0.18.\n",
      "  DeprecationWarning)\n",
      "C:\\Users\\naru_\\Anaconda3\\lib\\site-packages\\sklearn\\decomposition\\online_lda.py:532: DeprecationWarning: The default value for 'learning_method' will be changed from 'online' to 'batch' in the release 0.20. This warning was introduced in 0.18.\n",
      "  DeprecationWarning)\n",
      "C:\\Users\\naru_\\Anaconda3\\lib\\site-packages\\sklearn\\decomposition\\online_lda.py:532: DeprecationWarning: The default value for 'learning_method' will be changed from 'online' to 'batch' in the release 0.20. This warning was introduced in 0.18.\n",
      "  DeprecationWarning)\n",
      "C:\\Users\\naru_\\Anaconda3\\lib\\site-packages\\sklearn\\decomposition\\online_lda.py:532: DeprecationWarning: The default value for 'learning_method' will be changed from 'online' to 'batch' in the release 0.20. This warning was introduced in 0.18.\n",
      "  DeprecationWarning)\n"
     ]
    },
    {
     "name": "stderr",
     "output_type": "stream",
     "text": [
      "C:\\Users\\naru_\\Anaconda3\\lib\\site-packages\\sklearn\\decomposition\\online_lda.py:532: DeprecationWarning: The default value for 'learning_method' will be changed from 'online' to 'batch' in the release 0.20. This warning was introduced in 0.18.\n",
      "  DeprecationWarning)\n",
      "C:\\Users\\naru_\\Anaconda3\\lib\\site-packages\\sklearn\\decomposition\\online_lda.py:532: DeprecationWarning: The default value for 'learning_method' will be changed from 'online' to 'batch' in the release 0.20. This warning was introduced in 0.18.\n",
      "  DeprecationWarning)\n",
      "C:\\Users\\naru_\\Anaconda3\\lib\\site-packages\\sklearn\\decomposition\\online_lda.py:532: DeprecationWarning: The default value for 'learning_method' will be changed from 'online' to 'batch' in the release 0.20. This warning was introduced in 0.18.\n",
      "  DeprecationWarning)\n",
      "C:\\Users\\naru_\\Anaconda3\\lib\\site-packages\\sklearn\\decomposition\\online_lda.py:532: DeprecationWarning: The default value for 'learning_method' will be changed from 'online' to 'batch' in the release 0.20. This warning was introduced in 0.18.\n",
      "  DeprecationWarning)\n",
      "C:\\Users\\naru_\\Anaconda3\\lib\\site-packages\\sklearn\\decomposition\\online_lda.py:532: DeprecationWarning: The default value for 'learning_method' will be changed from 'online' to 'batch' in the release 0.20. This warning was introduced in 0.18.\n",
      "  DeprecationWarning)\n",
      "C:\\Users\\naru_\\Anaconda3\\lib\\site-packages\\sklearn\\decomposition\\online_lda.py:532: DeprecationWarning: The default value for 'learning_method' will be changed from 'online' to 'batch' in the release 0.20. This warning was introduced in 0.18.\n",
      "  DeprecationWarning)\n",
      "C:\\Users\\naru_\\Anaconda3\\lib\\site-packages\\sklearn\\decomposition\\online_lda.py:532: DeprecationWarning: The default value for 'learning_method' will be changed from 'online' to 'batch' in the release 0.20. This warning was introduced in 0.18.\n",
      "  DeprecationWarning)\n",
      "C:\\Users\\naru_\\Anaconda3\\lib\\site-packages\\sklearn\\decomposition\\online_lda.py:532: DeprecationWarning: The default value for 'learning_method' will be changed from 'online' to 'batch' in the release 0.20. This warning was introduced in 0.18.\n",
      "  DeprecationWarning)\n",
      "C:\\Users\\naru_\\Anaconda3\\lib\\site-packages\\sklearn\\decomposition\\online_lda.py:532: DeprecationWarning: The default value for 'learning_method' will be changed from 'online' to 'batch' in the release 0.20. This warning was introduced in 0.18.\n",
      "  DeprecationWarning)\n",
      "C:\\Users\\naru_\\Anaconda3\\lib\\site-packages\\sklearn\\decomposition\\online_lda.py:532: DeprecationWarning: The default value for 'learning_method' will be changed from 'online' to 'batch' in the release 0.20. This warning was introduced in 0.18.\n",
      "  DeprecationWarning)\n",
      "C:\\Users\\naru_\\Anaconda3\\lib\\site-packages\\sklearn\\decomposition\\online_lda.py:532: DeprecationWarning: The default value for 'learning_method' will be changed from 'online' to 'batch' in the release 0.20. This warning was introduced in 0.18.\n",
      "  DeprecationWarning)\n",
      "C:\\Users\\naru_\\Anaconda3\\lib\\site-packages\\sklearn\\decomposition\\online_lda.py:532: DeprecationWarning: The default value for 'learning_method' will be changed from 'online' to 'batch' in the release 0.20. This warning was introduced in 0.18.\n",
      "  DeprecationWarning)\n",
      "C:\\Users\\naru_\\Anaconda3\\lib\\site-packages\\sklearn\\decomposition\\online_lda.py:532: DeprecationWarning: The default value for 'learning_method' will be changed from 'online' to 'batch' in the release 0.20. This warning was introduced in 0.18.\n",
      "  DeprecationWarning)\n",
      "C:\\Users\\naru_\\Anaconda3\\lib\\site-packages\\sklearn\\decomposition\\online_lda.py:532: DeprecationWarning: The default value for 'learning_method' will be changed from 'online' to 'batch' in the release 0.20. This warning was introduced in 0.18.\n",
      "  DeprecationWarning)\n",
      "C:\\Users\\naru_\\Anaconda3\\lib\\site-packages\\sklearn\\decomposition\\online_lda.py:532: DeprecationWarning: The default value for 'learning_method' will be changed from 'online' to 'batch' in the release 0.20. This warning was introduced in 0.18.\n",
      "  DeprecationWarning)\n"
     ]
    },
    {
     "name": "stdout",
     "output_type": "stream",
     "text": [
      "Best Model's Params:  {'n_components': 10, 'learning_decay': 0.9}\n",
      "Best Log Likelihood Score:  -368124.673014\n",
      "Model Perplexity:  1871.87327386\n"
     ]
    },
    {
     "name": "stderr",
     "output_type": "stream",
     "text": [
      "C:\\Users\\naru_\\Anaconda3\\lib\\site-packages\\sklearn\\model_selection\\_search.py:747: DeprecationWarning: The grid_scores_ attribute was deprecated in version 0.18 in favor of the more elaborate cv_results_ attribute. The grid_scores_ attribute will not be available from 0.20\n",
      "  DeprecationWarning)\n",
      "C:\\Users\\naru_\\Anaconda3\\lib\\site-packages\\sklearn\\model_selection\\_search.py:747: DeprecationWarning: The grid_scores_ attribute was deprecated in version 0.18 in favor of the more elaborate cv_results_ attribute. The grid_scores_ attribute will not be available from 0.20\n",
      "  DeprecationWarning)\n",
      "C:\\Users\\naru_\\Anaconda3\\lib\\site-packages\\sklearn\\model_selection\\_search.py:747: DeprecationWarning: The grid_scores_ attribute was deprecated in version 0.18 in favor of the more elaborate cv_results_ attribute. The grid_scores_ attribute will not be available from 0.20\n",
      "  DeprecationWarning)\n"
     ]
    },
    {
     "data": {
      "image/png": "[encoded data removed]",
      "text/plain": [
       "<matplotlib.figure.Figure at 0x1ef421a5978>"
      ]
     },
     "metadata": {},
     "output_type": "display_data"
    }
   ],
   "source": [
    "tagText.lda_fin_best_topic_number(data_preprocessed)\n"
   ]
  },
  {
   "cell_type": "code",
   "execution_count": 1,
   "metadata": {},
   "outputs": [
    {
     "ename": "NameError",
     "evalue": "name 'tagText' is not defined",
     "output_type": "error",
     "traceback": [
      "\u001b[0;31m---------------------------------------------------------------------------\u001b[0m",
      "\u001b[0;31mNameError\u001b[0m                                 Traceback (most recent call last)",
      "\u001b[0;32m<ipython-input-1-0b52c3fdd25e>\u001b[0m in \u001b[0;36m<module>\u001b[0;34m()\u001b[0m\n\u001b[0;32m----> 1\u001b[0;31m \u001b[0mtagText\u001b[0m\u001b[1;33m.\u001b[0m\u001b[0mnmf_fin_best_topic_number\u001b[0m\u001b[1;33m(\u001b[0m\u001b[0mdata_preprocessed\u001b[0m\u001b[1;33m)\u001b[0m\u001b[1;33m\u001b[0m\u001b[0m\n\u001b[0m",
      "\u001b[0;31mNameError\u001b[0m: name 'tagText' is not defined"
     ]
    }
   ],
   "source": [
    "tagText.nmf_fin_best_topic_number(data_preprocessed)"
   ]
  },
  {
   "cell_type": "code",
   "execution_count": null,
   "metadata": {
    "collapsed": true
   },
   "outputs": [],
   "source": [
    "perfs_lda = tagText.lda_find_topic_number(\n",
    "                    data_preprocessed,\n",
    "                    cluster_number_min,\n",
    "                    cluster_number_max,\n",
    "                    cluster_number_step\n",
    "                )\n"
   ]
  },
  {
   "cell_type": "code",
   "execution_count": null,
   "metadata": {
    "collapsed": true
   },
   "outputs": [],
   "source": [
    "import matplotlib.pyplot as plt\n",
    "import numpy as np\n",
    "mini=min(perfs_lda)\n",
    "x = range(cluster_number_min,cluster_number_max,cluster_number_step)\n",
    "\n",
    "\n",
    "plt.bar(x, perfs_lda)\n",
    "plt.ylabel(\"Performance\")\n",
    "plt.xlabel(\"number of topics\")\n",
    "plt.title(\"performance/number of topics\")\n",
    "plt.show()\n",
    "\n",
    "plt.bar(x, perfs_lda-mini)\n",
    "plt.ylabel(\"Performance-mini\")\n",
    "plt.xlabel(\"number of topics\")\n",
    "plt.title(\"performance/number of topics\")\n",
    "plt.show()"
   ]
  },
  {
   "cell_type": "code",
   "execution_count": null,
   "metadata": {
    "collapsed": true
   },
   "outputs": [],
   "source": [
    "    def lda_predict(\n",
    "        model,\n",
    "        text,\n",
    "        lda,\n",
    "        lda_df_topic_keywords,\n",
    "        lda_tf_vectorizer,\n",
    "        no_top_words\n",
    "    ):\n",
    "        '''\n",
    "        predict tag form text in function of lda, topic ad tf vectorizer\n",
    "        '''\n",
    "        text = [text]\n",
    "        mytext = lda_tf_vectorizer.transform(text)\n",
    "        lda_topic_probability_scores = lda.transform(mytext)\n",
    "        lda_topic = lda_df_topic_keywords.iloc[\n",
    "            tagText.np.argmax(lda_topic_probability_scores),\n",
    "            :\n",
    "        ].values.tolist()\n",
    "        topic_array = model.np.array(lda_topic)\n",
    "        lda_feature_names = lda_tf_vectorizer.get_feature_names()\n",
    "        print(lda_topic)\n",
    "        print(topic_array.argsort())\n",
    "        print(lda_feature_names)\n",
    "        return (\n",
    "            \" \".join(\n",
    "                        [\n",
    "                            lda_feature_names[i]\n",
    "                            for i in topic_array.argsort()\n",
    "                            [\n",
    "                                :-no_top_words - 1:-1\n",
    "                            ]\n",
    "                        ]\n",
    "                )\n",
    "        )"
   ]
  },
  {
   "cell_type": "code",
   "execution_count": null,
   "metadata": {
    "collapsed": true
   },
   "outputs": [],
   "source": [
    "lda_tagText, df_topic_keywords, tf_vectorizer = tagText.lda_prepare_tag(data_preprocessed)\n",
    "\n",
    "print(lda_predict(tagText, 'I cannot intall a git repository. I try github and gitlab', lda_tagText, df_topic_keywords, tf_vectorizer, 5))\n",
    "print(tagText.lda_predict( \"How to cast number as integer in java\", lda_tagText, df_topic_keywords, tf_vectorizer, 5))"
   ]
  },
  {
   "cell_type": "code",
   "execution_count": null,
   "metadata": {
    "collapsed": true
   },
   "outputs": [],
   "source": [
    "from joblib import dump, load\n",
    "dump(lda, 'lda.joblib',0)\n",
    "dump(df_topic_keywords, 'df_lda_topic_keywords.joblib',0)\n",
    "dump(tf_vectorizer, 'tf_lda_vectorizer.joblib',0)"
   ]
  },
  {
   "cell_type": "markdown",
   "metadata": {},
   "source": [
    "<p style=\"font-family: Arial; font-size:1.75em;color:#2462C0; font-style:bold\"><br>\n",
    "IV.2-b - Data - Tag generator - Unsupervised - MNF</p>"
   ]
  },
  {
   "cell_type": "code",
   "execution_count": null,
   "metadata": {
    "collapsed": true
   },
   "outputs": [],
   "source": [
    "from sklearn.feature_extraction.text import TfidfVectorizer, CountVectorizer\n",
    "from sklearn.decomposition import NMF\n",
    "no_features=0\n",
    "X = data_preprocessed[0:9].unique()\n",
    "\n",
    "# NMF is able to use tf-idf\n",
    "tfidf_vectorizer = TfidfVectorizer(\n",
    "    max_df=0.95,\n",
    "    min_df=2,\n",
    "    max_features=None,\n",
    "    stop_words='english')\n",
    "tfidf = tfidf_vectorizer.fit_transform(X)\n",
    "tfidf_feature_names = tfidf_vectorizer.get_feature_names()\n",
    "\n",
    "no_topics = 5\n",
    "\n",
    "# Run NMF\n",
    "nmf = NMF(n_components=no_topics, random_state=1, alpha=.1, l1_ratio=.5, init='nndsvd').fit(tfidf)\n",
    "\n",
    "no_top_words = 10\n",
    "display_topics(nmf, tfidf_feature_names, no_top_words)"
   ]
  },
  {
   "cell_type": "code",
   "execution_count": null,
   "metadata": {
    "collapsed": true
   },
   "outputs": [],
   "source": [
    "perfs_nmf = tagText.nmf_find_topic_number(\n",
    "                    data_preprocessed,\n",
    "                    cluster_number_min,\n",
    "                    cluster_number_max,\n",
    "                    cluster_number_step\n",
    "                )\n",
    "\n",
    "import matplotlib.pyplot as plt\n",
    "import numpy as np\n",
    "mini=min(perfs_nmf)\n",
    "x = range(cluster_number_min,cluster_number_max,cluster_number_step)\n",
    "\n",
    "\n",
    "plt.bar(x, perfs_nmf)\n",
    "plt.ylabel(\"Performance\")\n",
    "plt.xlabel(\"number of topics\")\n",
    "plt.title(\"performance/number of topics\")\n",
    "plt.show()\n",
    "\n",
    "plt.bar(x, perfs_nmf-mini)\n",
    "plt.ylabel(\"Performance-mini\")\n",
    "plt.xlabel(\"number of topics\")\n",
    "plt.title(\"performance/number of topics\")\n",
    "plt.show()"
   ]
  },
  {
   "cell_type": "code",
   "execution_count": null,
   "metadata": {
    "collapsed": true
   },
   "outputs": [],
   "source": [
    "nmf_tagText, tfidf_topic_keywords_tagText, tf_vectorizer = tagText.nmf_prepare_tag(data_preprocessed)\n",
    "            \n",
    "tagText.nmf_predict('git est un outils de code source.', nmf_tagText, tfidf_topic_keywords_tagText, tf_vectorizer, 5)"
   ]
  },
  {
   "cell_type": "code",
   "execution_count": null,
   "metadata": {
    "collapsed": true
   },
   "outputs": [],
   "source": [
    "from joblib import dump, load\n",
    "dump(nmf_tagText, 'nmf.joblib') \n",
    "nmfLoad = load('nmf.joblib') \n",
    "print(nmfLoad)"
   ]
  },
  {
   "cell_type": "code",
   "execution_count": null,
   "metadata": {
    "collapsed": true
   },
   "outputs": [],
   "source": [
    "lda_tagText, df_lda_topic_keywords, tf_lda_vectorizer = tagText.lda_prepare_tag_and_save(data_preprocessed)\n",
    "mnf_tagText, df_nmf_topic_keywords, tf_mnf_vectorizer = tagText.nmf_prepare_tag_and_save(data_preprocessed)\n",
    "\n",
    "tagText.lda_predict('git est un outils de code source. C\\'est bien', lda_tagText, df_lda_topic_keywords, tf_lda_vectorizer, 5)\n",
    "tagText.nmf_predict('git est un outils de code source. C\\'est bien', mnf_tagText, df_nmf_topic_keywords, tf_mnf_vectorizer, 5)\n"
   ]
  },
  {
   "cell_type": "code",
   "execution_count": null,
   "metadata": {
    "collapsed": true
   },
   "outputs": [],
   "source": []
  },
  {
   "cell_type": "markdown",
   "metadata": {},
   "source": [
    "<p style=\"font-family: Arial; font-size:1.75em;color:#2462C0; font-style:bold\"><br>\n",
    "IV.3 - Data - Tag generator - Supervised</p>"
   ]
  },
  {
   "cell_type": "code",
   "execution_count": 5,
   "metadata": {},
   "outputs": [
    {
     "ename": "TypeError",
     "evalue": "Singleton array array(<tagText.TagText object at 0x0000021479202B70>, dtype=object) cannot be considered a valid collection.",
     "output_type": "error",
     "traceback": [
      "\u001b[0;31m---------------------------------------------------------------------------\u001b[0m",
      "\u001b[0;31mTypeError\u001b[0m                                 Traceback (most recent call last)",
      "\u001b[0;32m<ipython-input-5-46fdb2697f2a>\u001b[0m in \u001b[0;36m<module>\u001b[0;34m()\u001b[0m\n\u001b[1;32m     18\u001b[0m     \u001b[1;32mreturn\u001b[0m \u001b[0mstr\u001b[0m\u001b[1;33m(\u001b[0m\u001b[0mtags\u001b[0m\u001b[1;33m)\u001b[0m\u001b[1;33m\u001b[0m\u001b[0m\n\u001b[1;32m     19\u001b[0m \u001b[1;33m\u001b[0m\u001b[0m\n\u001b[0;32m---> 20\u001b[0;31m \u001b[0msuperviedTagPurposerFromMessage\u001b[0m\u001b[1;33m(\u001b[0m\u001b[1;34m'git est un outils de code source. C\\'est bien'\u001b[0m\u001b[1;33m,\u001b[0m \u001b[1;34m'true'\u001b[0m\u001b[1;33m,\u001b[0m \u001b[1;34m'False'\u001b[0m\u001b[1;33m)\u001b[0m\u001b[1;33m\u001b[0m\u001b[0m\n\u001b[0m",
      "\u001b[0;32m<ipython-input-5-46fdb2697f2a>\u001b[0m in \u001b[0;36msuperviedTagPurposerFromMessage\u001b[0;34m(message, reload, saveModel)\u001b[0m\n\u001b[1;32m     11\u001b[0m         \u001b[1;32melse\u001b[0m\u001b[1;33m:\u001b[0m\u001b[1;33m\u001b[0m\u001b[0m\n\u001b[1;32m     12\u001b[0m             \u001b[0mdata_preprocessed\u001b[0m \u001b[1;33m=\u001b[0m \u001b[0mdata_question\u001b[0m\u001b[1;33m[\u001b[0m\u001b[1;34m'body'\u001b[0m\u001b[1;33m]\u001b[0m\u001b[1;33m.\u001b[0m\u001b[0mapply\u001b[0m\u001b[1;33m(\u001b[0m\u001b[0mtagText\u001b[0m\u001b[1;33m.\u001b[0m\u001b[0mpreprocessing\u001b[0m\u001b[1;33m)\u001b[0m\u001b[1;33m\u001b[0m\u001b[0m\n\u001b[0;32m---> 13\u001b[0;31m             \u001b[0mclassifier\u001b[0m\u001b[1;33m,\u001b[0m \u001b[0mtags\u001b[0m \u001b[1;33m=\u001b[0m \u001b[0mtagText\u001b[0m\u001b[1;33m.\u001b[0m\u001b[0msupervised_prepare_tag\u001b[0m\u001b[1;33m(\u001b[0m\u001b[0mdata_preprocessed\u001b[0m\u001b[1;33m,\u001b[0m \u001b[0mdata_question\u001b[0m\u001b[1;33m[\u001b[0m\u001b[1;34m'SelectedTags'\u001b[0m\u001b[1;33m]\u001b[0m\u001b[1;33m)\u001b[0m\u001b[1;33m\u001b[0m\u001b[0m\n\u001b[0m\u001b[1;32m     14\u001b[0m             \u001b[0mtags\u001b[0m \u001b[1;33m=\u001b[0m \u001b[0mtagText\u001b[0m\u001b[1;33m.\u001b[0m\u001b[0msupervised_predict\u001b[0m\u001b[1;33m(\u001b[0m\u001b[0mmessage\u001b[0m\u001b[1;33m,\u001b[0m \u001b[0mclassifier\u001b[0m\u001b[1;33m,\u001b[0m \u001b[0mtags\u001b[0m\u001b[1;33m)\u001b[0m\u001b[1;33m\u001b[0m\u001b[0m\n\u001b[1;32m     15\u001b[0m     \u001b[1;32melse\u001b[0m\u001b[1;33m:\u001b[0m\u001b[1;33m\u001b[0m\u001b[0m\n",
      "\u001b[0;32mC:\\Users\\naru_\\Documents\\Projet6_CategorizationAutomatiqueQuestions\\SourceGitV2\\TextCategorization\\Python\\tagText.py\u001b[0m in \u001b[0;36msupervised_prepare_tag\u001b[0;34m(self, data_preprocessed, data_tag)\u001b[0m\n\u001b[1;32m    759\u001b[0m         ]\n\u001b[1;32m    760\u001b[0m \u001b[1;33m\u001b[0m\u001b[0m\n\u001b[0;32m--> 761\u001b[0;31m         \u001b[0mX_train\u001b[0m\u001b[1;33m,\u001b[0m \u001b[0mX_test\u001b[0m\u001b[1;33m,\u001b[0m \u001b[0my_train\u001b[0m\u001b[1;33m,\u001b[0m \u001b[0my_test\u001b[0m \u001b[1;33m=\u001b[0m \u001b[0mself\u001b[0m\u001b[1;33m.\u001b[0m\u001b[0mtrain_test_split\u001b[0m\u001b[1;33m(\u001b[0m\u001b[0mX\u001b[0m\u001b[1;33m,\u001b[0m \u001b[0my\u001b[0m\u001b[1;33m,\u001b[0m \u001b[0mtest_size\u001b[0m\u001b[1;33m=\u001b[0m\u001b[1;36m0.33\u001b[0m\u001b[1;33m,\u001b[0m \u001b[0mrandom_state\u001b[0m\u001b[1;33m=\u001b[0m\u001b[1;36m42\u001b[0m\u001b[1;33m)\u001b[0m\u001b[1;33m\u001b[0m\u001b[0m\n\u001b[0m\u001b[1;32m    762\u001b[0m \u001b[1;33m\u001b[0m\u001b[0m\n\u001b[1;32m    763\u001b[0m         \u001b[1;31m#print(y_train_tag)\u001b[0m\u001b[1;33m\u001b[0m\u001b[1;33m\u001b[0m\u001b[0m\n",
      "\u001b[0;32mC:\\Users\\naru_\\Anaconda3\\lib\\site-packages\\sklearn\\model_selection\\_split.py\u001b[0m in \u001b[0;36mtrain_test_split\u001b[0;34m(*arrays, **options)\u001b[0m\n\u001b[1;32m   2013\u001b[0m         \u001b[0mtest_size\u001b[0m \u001b[1;33m=\u001b[0m \u001b[1;36m0.25\u001b[0m\u001b[1;33m\u001b[0m\u001b[0m\n\u001b[1;32m   2014\u001b[0m \u001b[1;33m\u001b[0m\u001b[0m\n\u001b[0;32m-> 2015\u001b[0;31m     \u001b[0marrays\u001b[0m \u001b[1;33m=\u001b[0m \u001b[0mindexable\u001b[0m\u001b[1;33m(\u001b[0m\u001b[1;33m*\u001b[0m\u001b[0marrays\u001b[0m\u001b[1;33m)\u001b[0m\u001b[1;33m\u001b[0m\u001b[0m\n\u001b[0m\u001b[1;32m   2016\u001b[0m \u001b[1;33m\u001b[0m\u001b[0m\n\u001b[1;32m   2017\u001b[0m     \u001b[1;32mif\u001b[0m \u001b[0mshuffle\u001b[0m \u001b[1;32mis\u001b[0m \u001b[1;32mFalse\u001b[0m\u001b[1;33m:\u001b[0m\u001b[1;33m\u001b[0m\u001b[0m\n",
      "\u001b[0;32mC:\\Users\\naru_\\Anaconda3\\lib\\site-packages\\sklearn\\utils\\validation.py\u001b[0m in \u001b[0;36mindexable\u001b[0;34m(*iterables)\u001b[0m\n\u001b[1;32m    196\u001b[0m         \u001b[1;32melse\u001b[0m\u001b[1;33m:\u001b[0m\u001b[1;33m\u001b[0m\u001b[0m\n\u001b[1;32m    197\u001b[0m             \u001b[0mresult\u001b[0m\u001b[1;33m.\u001b[0m\u001b[0mappend\u001b[0m\u001b[1;33m(\u001b[0m\u001b[0mnp\u001b[0m\u001b[1;33m.\u001b[0m\u001b[0marray\u001b[0m\u001b[1;33m(\u001b[0m\u001b[0mX\u001b[0m\u001b[1;33m)\u001b[0m\u001b[1;33m)\u001b[0m\u001b[1;33m\u001b[0m\u001b[0m\n\u001b[0;32m--> 198\u001b[0;31m     \u001b[0mcheck_consistent_length\u001b[0m\u001b[1;33m(\u001b[0m\u001b[1;33m*\u001b[0m\u001b[0mresult\u001b[0m\u001b[1;33m)\u001b[0m\u001b[1;33m\u001b[0m\u001b[0m\n\u001b[0m\u001b[1;32m    199\u001b[0m     \u001b[1;32mreturn\u001b[0m \u001b[0mresult\u001b[0m\u001b[1;33m\u001b[0m\u001b[0m\n\u001b[1;32m    200\u001b[0m \u001b[1;33m\u001b[0m\u001b[0m\n",
      "\u001b[0;32mC:\\Users\\naru_\\Anaconda3\\lib\\site-packages\\sklearn\\utils\\validation.py\u001b[0m in \u001b[0;36mcheck_consistent_length\u001b[0;34m(*arrays)\u001b[0m\n\u001b[1;32m    167\u001b[0m     \"\"\"\n\u001b[1;32m    168\u001b[0m \u001b[1;33m\u001b[0m\u001b[0m\n\u001b[0;32m--> 169\u001b[0;31m     \u001b[0mlengths\u001b[0m \u001b[1;33m=\u001b[0m \u001b[1;33m[\u001b[0m\u001b[0m_num_samples\u001b[0m\u001b[1;33m(\u001b[0m\u001b[0mX\u001b[0m\u001b[1;33m)\u001b[0m \u001b[1;32mfor\u001b[0m \u001b[0mX\u001b[0m \u001b[1;32min\u001b[0m \u001b[0marrays\u001b[0m \u001b[1;32mif\u001b[0m \u001b[0mX\u001b[0m \u001b[1;32mis\u001b[0m \u001b[1;32mnot\u001b[0m \u001b[1;32mNone\u001b[0m\u001b[1;33m]\u001b[0m\u001b[1;33m\u001b[0m\u001b[0m\n\u001b[0m\u001b[1;32m    170\u001b[0m     \u001b[0muniques\u001b[0m \u001b[1;33m=\u001b[0m \u001b[0mnp\u001b[0m\u001b[1;33m.\u001b[0m\u001b[0munique\u001b[0m\u001b[1;33m(\u001b[0m\u001b[0mlengths\u001b[0m\u001b[1;33m)\u001b[0m\u001b[1;33m\u001b[0m\u001b[0m\n\u001b[1;32m    171\u001b[0m     \u001b[1;32mif\u001b[0m \u001b[0mlen\u001b[0m\u001b[1;33m(\u001b[0m\u001b[0muniques\u001b[0m\u001b[1;33m)\u001b[0m \u001b[1;33m>\u001b[0m \u001b[1;36m1\u001b[0m\u001b[1;33m:\u001b[0m\u001b[1;33m\u001b[0m\u001b[0m\n",
      "\u001b[0;32mC:\\Users\\naru_\\Anaconda3\\lib\\site-packages\\sklearn\\utils\\validation.py\u001b[0m in \u001b[0;36m<listcomp>\u001b[0;34m(.0)\u001b[0m\n\u001b[1;32m    167\u001b[0m     \"\"\"\n\u001b[1;32m    168\u001b[0m \u001b[1;33m\u001b[0m\u001b[0m\n\u001b[0;32m--> 169\u001b[0;31m     \u001b[0mlengths\u001b[0m \u001b[1;33m=\u001b[0m \u001b[1;33m[\u001b[0m\u001b[0m_num_samples\u001b[0m\u001b[1;33m(\u001b[0m\u001b[0mX\u001b[0m\u001b[1;33m)\u001b[0m \u001b[1;32mfor\u001b[0m \u001b[0mX\u001b[0m \u001b[1;32min\u001b[0m \u001b[0marrays\u001b[0m \u001b[1;32mif\u001b[0m \u001b[0mX\u001b[0m \u001b[1;32mis\u001b[0m \u001b[1;32mnot\u001b[0m \u001b[1;32mNone\u001b[0m\u001b[1;33m]\u001b[0m\u001b[1;33m\u001b[0m\u001b[0m\n\u001b[0m\u001b[1;32m    170\u001b[0m     \u001b[0muniques\u001b[0m \u001b[1;33m=\u001b[0m \u001b[0mnp\u001b[0m\u001b[1;33m.\u001b[0m\u001b[0munique\u001b[0m\u001b[1;33m(\u001b[0m\u001b[0mlengths\u001b[0m\u001b[1;33m)\u001b[0m\u001b[1;33m\u001b[0m\u001b[0m\n\u001b[1;32m    171\u001b[0m     \u001b[1;32mif\u001b[0m \u001b[0mlen\u001b[0m\u001b[1;33m(\u001b[0m\u001b[0muniques\u001b[0m\u001b[1;33m)\u001b[0m \u001b[1;33m>\u001b[0m \u001b[1;36m1\u001b[0m\u001b[1;33m:\u001b[0m\u001b[1;33m\u001b[0m\u001b[0m\n",
      "\u001b[0;32mC:\\Users\\naru_\\Anaconda3\\lib\\site-packages\\sklearn\\utils\\validation.py\u001b[0m in \u001b[0;36m_num_samples\u001b[0;34m(x)\u001b[0m\n\u001b[1;32m    116\u001b[0m         \u001b[1;32mif\u001b[0m \u001b[0mlen\u001b[0m\u001b[1;33m(\u001b[0m\u001b[0mx\u001b[0m\u001b[1;33m.\u001b[0m\u001b[0mshape\u001b[0m\u001b[1;33m)\u001b[0m \u001b[1;33m==\u001b[0m \u001b[1;36m0\u001b[0m\u001b[1;33m:\u001b[0m\u001b[1;33m\u001b[0m\u001b[0m\n\u001b[1;32m    117\u001b[0m             raise TypeError(\"Singleton array %r cannot be considered\"\n\u001b[0;32m--> 118\u001b[0;31m                             \" a valid collection.\" % x)\n\u001b[0m\u001b[1;32m    119\u001b[0m         \u001b[1;32mreturn\u001b[0m \u001b[0mx\u001b[0m\u001b[1;33m.\u001b[0m\u001b[0mshape\u001b[0m\u001b[1;33m[\u001b[0m\u001b[1;36m0\u001b[0m\u001b[1;33m]\u001b[0m\u001b[1;33m\u001b[0m\u001b[0m\n\u001b[1;32m    120\u001b[0m     \u001b[1;32melse\u001b[0m\u001b[1;33m:\u001b[0m\u001b[1;33m\u001b[0m\u001b[0m\n",
      "\u001b[0;31mTypeError\u001b[0m: Singleton array array(<tagText.TagText object at 0x0000021479202B70>, dtype=object) cannot be considered a valid collection."
     ]
    }
   ],
   "source": [
    "def superviedTagPurposerFromMessage(message, reload, saveModel):\n",
    "    tagText = TagText()\n",
    "    tags = ''\n",
    "    if reload.lower() == 'true':\n",
    "        tagText.fileName = 'QuestionVsTags.csv'\n",
    "        data_question = tagText.read_source()\n",
    "        if saveModel.lower() == 'true':\n",
    "            data_preprocessed = data_question['body'].apply(tagText.preprocessing)\n",
    "            classifier, tags = tagText.supervised_prepare_tag_and_save(data_preprocessed, data_question['SelectedTags'])\n",
    "            tags = tagText.supervised_predict(message, classifier, tags)\n",
    "        else:\n",
    "            data_preprocessed = data_question['body'].apply(tagText.preprocessing)\n",
    "            classifier, tags = tagText.supervised_prepare_tag(data_preprocessed, data_question['SelectedTags'])\n",
    "            tags = tagText.supervised_predict(message, classifier, tags)\n",
    "    else:\n",
    "        classifier, tags = tagText.supervised_prepare_tag_load()\n",
    "        tags = tagText.supervised_predict(message, classifier, tags)\n",
    "    return str(tags)\n",
    "\n",
    "superviedTagPurposerFromMessage('git est un outils de code source. C\\'est bien', 'true', 'False')"
   ]
  },
  {
   "cell_type": "markdown",
   "metadata": {},
   "source": [
    "<p style=\"font-family: Arial; font-size:1.75em;color:#2462C0; font-style:bold\"><br>\n",
    "V - Resultat</p>"
   ]
  },
  {
   "cell_type": "code",
   "execution_count": null,
   "metadata": {
    "collapsed": true
   },
   "outputs": [],
   "source": [
    "\n",
    "import numpy as np\n",
    "import nltk\n",
    "import pandas as pd\n",
    "import os\n",
    "import sys\n",
    "\n",
    "sys.path.insert(0, './Python/')\n",
    "\n",
    "from tagText import TagText\n",
    "\n",
    "\n",
    "tagText = TagText()\n",
    "print(tagText.urlDirectory)\n",
    "print(tagText.fileName)\n",
    "\n",
    "\n",
    "def supervisedTagPurposer():\n",
    "    return tagPurposer('supervised', 'This is a test to have tag GIT & branche', 'false', 'false')\n",
    "\n",
    "def supervisedTagPurposerAndReload():\n",
    "    return tagPurposer('supervised', 'This is a test to have tag GIT & branche', 'true', 'false')\n",
    "\n",
    "def supervisedTagPurposerAndReloadAndSave():\n",
    "    return tagPurposer('supervised', 'This is a test to have tag GIT & branche', 'true', 'true')\n",
    "\n",
    "def tagLDAPurposer():\n",
    "    return tagPurposer('LDA', 'This is a test to have tag GIT & branche', 'false', 'false')\n",
    "\n",
    "def tagLDAPurposerAndReload():\n",
    "    return tagPurposer('LDA', 'This is a test to have tag GIT & branche', 'true', 'false')\n",
    "\n",
    "def tagLDAPurposerAndReloadAndSave():\n",
    "    return tagPurposer('LDA', 'This is a test to have tag GIT & branche', 'true', 'true')\n",
    "\n",
    "def tagNMFPurposer():\n",
    "    return tagPurposer('NMF', 'This is a test to have tag GIT & branche', 'false', 'false')\n",
    "\n",
    "def tagNMFPurposerAndReload():\n",
    "    return tagPurposer('NMF', 'This is a test to have tag GIT & branche', 'true', 'false')\n",
    "\n",
    "def tagNMFPurposerAndReloadAndSave():\n",
    "    return tagPurposer('NMF', 'This is a test to have tag GIT & branche', 'true', 'true')\n",
    "\n",
    "def tagPurposer(mode, message, reload, saveModel):\n",
    "    if mode.lower() == 'supervised':\n",
    "        return superviedTagPurposerFromMessage(message, reload.lower(), saveModel.lower())\n",
    "    if mode.lower() == 'lda' or mode.lower() =='nmf':\n",
    "        return unsuperviedTagTFIDFPurposerFromMessage(mode.lower(), message, reload.lower(), saveModel.lower())\n",
    "    return '/i\\\\Mode indefined/i\\\\'\n",
    "\n",
    "def superviedTagPurposerFromMessage(message, reload, saveModel):\n",
    "    tagText = TagText()\n",
    "    tags = ''\n",
    "    if reload.lower() == 'true':\n",
    "        data_question = tagText.read_source()\n",
    "        data_preprocessed = data_question['body'].apply(tagText.preprocessing)\n",
    "        logistic_regression = tagText.supervised_prepare_tag(data_preprocessed)\n",
    "        tags = tagText.supervised_predict(message, logistic_regression, 5)\n",
    "    else:\n",
    "        logistic_regression = tagText.supervised_prepare_tag_load()\n",
    "        tags = tagText.supervised_predict(message, logistic_regression, 5)\n",
    "    return tags\n",
    "\n",
    "def unsuperviedTagTFIDFPurposerFromMessage(option, message, reloadModel, saveModel):\n",
    "    tagText = TagText()\n",
    "    tags = ''\n",
    "    if option.lower() != 'lda' and option.lower() != 'nmf':\n",
    "        return '/i\\\\Mode indefined/i\\\\'\n",
    "    if reloadModel.lower() == 'true':\n",
    "        data_question = tagText.read_source()\n",
    "        data_preprocessed = data_question['body'].apply(tagText.preprocessing)\n",
    "        if option.lower() == 'lda':\n",
    "            if saveModel.lower() == 'true':\n",
    "                lda_tagText, df_topic_keywords_tagText, tf_vectorizer_tagText = tagText.lda_prepare_tag_and_save(data_preprocessed)\n",
    "                tags = tagText.lda_predict(message, lda_tagText, df_topic_keywords_tagText, tf_vectorizer_tagText, 5)\n",
    "            else:\n",
    "                lda_tagText, df_topic_keywords_tagText, tf_vectorizer_tagText = tagText.lda_prepare_tag(data_preprocessed)\n",
    "                tags = tagText.lda_predict(message, lda_tagText, df_topic_keywords_tagText, tf_vectorizer_tagText, 5)\n",
    "        if option.lower() == 'nmf':\n",
    "            if saveModel.lower() == 'true':\n",
    "                nmf_tagText, df_topic_keywords_tagText, tf_vectorizer_tagText = tagText.nmf_prepare_tag_and_save(data_preprocessed)\n",
    "                tags = tagText.nmf_predict(message, nmf_tagText, df_topic_keywords_tagText, tf_vectorizer_tagText, 5)\n",
    "            else:\n",
    "                nmf_tagText, df_topic_keywords_tagText, tf_vectorizer_tagText = tagText.nmf_prepare_tag(data_preprocessed)\n",
    "                tags = tagText.nmf_predict(message, nmf_tagText, df_topic_keywords_tagText, tf_vectorizer_tagText, 5)\n",
    "    else:\n",
    "        if option.lower() == 'lda':\n",
    "            lda_tagText, df_topic_keywords_tagText, tf_vectorizer_tagText = tagText.lda_prepare_tag_load()\n",
    "            tags = tagText.lda_predict(message, lda_tagText, df_topic_keywords_tagText, tf_vectorizer_tagText, 5)\n",
    "        if option.lower() == 'nmf':\n",
    "            nmf_tagText, df_topic_keywords_tagText, tf_vectorizer_tagText = tagText.nmf_prepare_tag_load()\n",
    "            tags = tagText.nmf_predict(message, nmf_tagText, df_topic_keywords_tagText, tf_vectorizer_tagText, 5)\n",
    "    return tags\n"
   ]
  },
  {
   "cell_type": "code",
   "execution_count": null,
   "metadata": {
    "collapsed": true
   },
   "outputs": [],
   "source": [
    "tagLDAPurposerAndReloadAndSave()"
   ]
  },
  {
   "cell_type": "markdown",
   "metadata": {
    "collapsed": true
   },
   "source": [
    "Une API :  https://ejacques.pythonanywhere.com/apiTagGenerator/\n",
    "\n",
    "Un depot GIT : https://github.com/EricJacquesPro/TextCategorization/"
   ]
  },
  {
   "cell_type": "code",
   "execution_count": null,
   "metadata": {
    "collapsed": true
   },
   "outputs": [],
   "source": []
  },
  {
   "cell_type": "code",
   "execution_count": null,
   "metadata": {
    "collapsed": true
   },
   "outputs": [],
   "source": []
  },
  {
   "cell_type": "code",
   "execution_count": null,
   "metadata": {
    "collapsed": true
   },
   "outputs": [],
   "source": []
  },
  {
   "cell_type": "code",
   "execution_count": null,
   "metadata": {
    "collapsed": true
   },
   "outputs": [],
   "source": []
  }
 ],
 "metadata": {
  "anaconda-cloud": {},
  "celltoolbar": "Raw Cell Format",
  "kernelspec": {
   "display_name": "Python [conda root]",
   "language": "python",
   "name": "conda-root-py"
  },
  "language_info": {
   "codemirror_mode": {
    "name": "ipython",
    "version": 3
   },
   "file_extension": ".py",
   "mimetype": "text/x-python",
   "name": "python",
   "nbconvert_exporter": "python",
   "pygments_lexer": "ipython3",
   "version": "3.5.2"
  }
 },
 "nbformat": 4,
 "nbformat_minor": 2
}
