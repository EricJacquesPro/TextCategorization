{
 "cells": [
  {
   "cell_type": "markdown",
   "metadata": {},
   "source": [
    "<p style=\"font-family: Arial; font-size:2.75em;color:blue; font-style:bold\"><br>\n",
    "Projet 6 :<br><br>\n",
    "Catégorisez automatiquement des questions<br><br>\n",
    "</p><br>\n",
    "\n",
    "* **Data Source / Data Source :** \n",
    "    - Data :\n",
    "        - Outils d'extraction de data : https://data.stackexchange.com/stackoverflow\n",
    "        - Script : https://github.com/EricJacquesPro/TextCategorization/blob/master/SQL/ExtractionDonnees.sql\n",
    "    - Source Python : https://github.com/EricJacquesPro/TextCategorization\n",
    "* **Description / Description : ** Projet 6 de la formation Data Scientist Proposée par OpenClassroom\n",
    "    - Analyse\n",
    "    - Entrainement\n",
    "* **Auteur / Author : ** Eric JACQUES \n",
    "* **Date : ** 06/08/2019 "
   ]
  },
  {
   "cell_type": "markdown",
   "metadata": {},
   "source": [
    "<p style=\"font-family: Arial; font-size:1.75em;color:#2462C0; font-style:bold\"><br>\n",
    "I - Sélection des datas entrantes</p>"
   ]
  },
  {
   "cell_type": "markdown",
   "metadata": {},
   "source": [
    "Stack overfloaw met a disposition un outils en ligne permettant d'extraire le contenu de post diffusés sur le site internet.\n",
    "(https://data.stackexchange.com/stackoverflow)<br>\n",
    "En se basant sur la structure de la base de données(https://i.stack.imgur.com/JZHsN.png), il en ressort des données (tables) plus intéressantes que d'autres : Post, type de post, Tag, tags des posts <br>\n",
    "Pour notre cas, tous les posts ne sont pas intéressants : Supprimé, score null, sans réponse, type de post....<br>\n",
    "<br>\n",
    "Parmis les posts, les données les plus explicites qui permettent de connaitre leurs sujets sont le body.<br>\n",
    "<br>\n",
    "Script téléchargeable sur https://github.com/EricJacquesPro/TextCategorization/blob/master/SQL/ExtractionDonnees.sql\n",
    "\n"
   ]
  },
  {
   "cell_type": "markdown",
   "metadata": {},
   "source": [
    "<p style=\"font-family: Arial; font-size:1.75em;color:#2462C0; font-style:bold\"><br>\n",
    "II - Data cleaning & preprocessing</p>"
   ]
  },
  {
   "cell_type": "code",
   "execution_count": null,
   "metadata": {
    "collapsed": true
   },
   "outputs": [],
   "source": []
  },
  {
   "cell_type": "code",
   "execution_count": 1,
   "metadata": {
    "collapsed": true
   },
   "outputs": [],
   "source": [
    "import sys\n",
    "import os\n",
    "import numpy as np\n",
    "import pandas as pd\n",
    "sys.path.insert(0, './Python/')"
   ]
  },
  {
   "cell_type": "code",
   "execution_count": 2,
   "metadata": {
    "collapsed": true
   },
   "outputs": [],
   "source": [
    "'''\n",
    "python class for the data engineering (reading, cleaning, training...)\n",
    "localised in ./Python\n",
    "'''\n",
    "from tagText import TagText "
   ]
  },
  {
   "cell_type": "code",
   "execution_count": 3,
   "metadata": {},
   "outputs": [
    {
     "name": "stdout",
     "output_type": "stream",
     "text": [
      "Data/\n",
      "QuestionVsTags.csv\n"
     ]
    },
    {
     "data": {
      "text/html": [
       "<div>\n",
       "<table border=\"1\" class=\"dataframe\">\n",
       "  <thead>\n",
       "    <tr style=\"text-align: right;\">\n",
       "      <th></th>\n",
       "      <th>body</th>\n",
       "      <th>title</th>\n",
       "      <th>tags</th>\n",
       "      <th>SelectedTags</th>\n",
       "      <th>Name</th>\n",
       "    </tr>\n",
       "  </thead>\n",
       "  <tbody>\n",
       "    <tr>\n",
       "      <th>0</th>\n",
       "      <td>&lt;p&gt;Here is a piece of C++ code that shows some...</td>\n",
       "      <td>Why is processing a sorted array faster than p...</td>\n",
       "      <td>&lt;java&gt;&lt;c++&gt;&lt;performance&gt;&lt;optimization&gt;&lt;branch-...</td>\n",
       "      <td>java,c++,performance,optimization,</td>\n",
       "      <td>Question</td>\n",
       "    </tr>\n",
       "    <tr>\n",
       "      <th>1</th>\n",
       "      <td>&lt;p&gt;I accidentally committed the wrong files to...</td>\n",
       "      <td>How do I undo the most recent local commits in...</td>\n",
       "      <td>&lt;git&gt;&lt;version-control&gt;&lt;git-commit&gt;&lt;undo&gt;</td>\n",
       "      <td>git,version-control,git-commit,</td>\n",
       "      <td>Question</td>\n",
       "    </tr>\n",
       "    <tr>\n",
       "      <th>2</th>\n",
       "      <td>&lt;p&gt;I want to delete a branch both locally and ...</td>\n",
       "      <td>How do I delete a Git branch locally and remot...</td>\n",
       "      <td>&lt;git&gt;&lt;git-branch&gt;&lt;git-remote&gt;</td>\n",
       "      <td>git,git-branch,</td>\n",
       "      <td>Question</td>\n",
       "    </tr>\n",
       "    <tr>\n",
       "      <th>3</th>\n",
       "      <td>&lt;blockquote&gt;\\n  &lt;p&gt;&lt;strong&gt;Moderator Note:&lt;/st...</td>\n",
       "      <td>What is the difference between 'git pull' and ...</td>\n",
       "      <td>&lt;git&gt;&lt;git-pull&gt;&lt;git-fetch&gt;</td>\n",
       "      <td>git,</td>\n",
       "      <td>Question</td>\n",
       "    </tr>\n",
       "    <tr>\n",
       "      <th>4</th>\n",
       "      <td>&lt;p&gt;I've been messing around with &lt;a href=\"http...</td>\n",
       "      <td>What is the correct JSON content type?</td>\n",
       "      <td>&lt;json&gt;&lt;http-headers&gt;&lt;content-type&gt;</td>\n",
       "      <td>json,http-headers,content-type,</td>\n",
       "      <td>Question</td>\n",
       "    </tr>\n",
       "  </tbody>\n",
       "</table>\n",
       "</div>"
      ],
      "text/plain": [
       "                                                body  \\\n",
       "0  <p>Here is a piece of C++ code that shows some...   \n",
       "1  <p>I accidentally committed the wrong files to...   \n",
       "2  <p>I want to delete a branch both locally and ...   \n",
       "3  <blockquote>\\n  <p><strong>Moderator Note:</st...   \n",
       "4  <p>I've been messing around with <a href=\"http...   \n",
       "\n",
       "                                               title  \\\n",
       "0  Why is processing a sorted array faster than p...   \n",
       "1  How do I undo the most recent local commits in...   \n",
       "2  How do I delete a Git branch locally and remot...   \n",
       "3  What is the difference between 'git pull' and ...   \n",
       "4             What is the correct JSON content type?   \n",
       "\n",
       "                                                tags  \\\n",
       "0  <java><c++><performance><optimization><branch-...   \n",
       "1           <git><version-control><git-commit><undo>   \n",
       "2                      <git><git-branch><git-remote>   \n",
       "3                         <git><git-pull><git-fetch>   \n",
       "4                 <json><http-headers><content-type>   \n",
       "\n",
       "                         SelectedTags      Name  \n",
       "0  java,c++,performance,optimization,  Question  \n",
       "1     git,version-control,git-commit,  Question  \n",
       "2                     git,git-branch,  Question  \n",
       "3                                git,  Question  \n",
       "4     json,http-headers,content-type,  Question  "
      ]
     },
     "execution_count": 3,
     "metadata": {},
     "output_type": "execute_result"
    }
   ],
   "source": [
    "tagText = TagText()\n",
    "print(tagText.urlDirectory)#folder for cvs file generated by SQL query (cf. I) \n",
    "print(tagText.fileName)#name of the cvs file generated by SQL query (cf. I)\n",
    "data_question = tagText.read_source()\n",
    "data_question.head()"
   ]
  },
  {
   "cell_type": "code",
   "execution_count": 4,
   "metadata": {},
   "outputs": [
    {
     "data": {
      "text/html": [
       "<div>\n",
       "<table border=\"1\" class=\"dataframe\">\n",
       "  <thead>\n",
       "    <tr style=\"text-align: right;\">\n",
       "      <th></th>\n",
       "      <th>count</th>\n",
       "      <th>unique</th>\n",
       "      <th>top</th>\n",
       "      <th>freq</th>\n",
       "    </tr>\n",
       "  </thead>\n",
       "  <tbody>\n",
       "    <tr>\n",
       "      <th>body</th>\n",
       "      <td>4000</td>\n",
       "      <td>4000</td>\n",
       "      <td>&lt;p&gt;I've tried checking &lt;a href=\"https://stacko...</td>\n",
       "      <td>1</td>\n",
       "    </tr>\n",
       "    <tr>\n",
       "      <th>title</th>\n",
       "      <td>4000</td>\n",
       "      <td>4000</td>\n",
       "      <td>Deleting DataFrame row in Pandas based on colu...</td>\n",
       "      <td>1</td>\n",
       "    </tr>\n",
       "    <tr>\n",
       "      <th>tags</th>\n",
       "      <td>4000</td>\n",
       "      <td>3413</td>\n",
       "      <td>&lt;git&gt;</td>\n",
       "      <td>64</td>\n",
       "    </tr>\n",
       "    <tr>\n",
       "      <th>SelectedTags</th>\n",
       "      <td>4000</td>\n",
       "      <td>3054</td>\n",
       "      <td>git,</td>\n",
       "      <td>139</td>\n",
       "    </tr>\n",
       "    <tr>\n",
       "      <th>Name</th>\n",
       "      <td>4000</td>\n",
       "      <td>1</td>\n",
       "      <td>Question</td>\n",
       "      <td>4000</td>\n",
       "    </tr>\n",
       "  </tbody>\n",
       "</table>\n",
       "</div>"
      ],
      "text/plain": [
       "             count unique                                                top  \\\n",
       "body          4000   4000  <p>I've tried checking <a href=\"https://stacko...   \n",
       "title         4000   4000  Deleting DataFrame row in Pandas based on colu...   \n",
       "tags          4000   3413                                              <git>   \n",
       "SelectedTags  4000   3054                                               git,   \n",
       "Name          4000      1                                           Question   \n",
       "\n",
       "              freq  \n",
       "body             1  \n",
       "title            1  \n",
       "tags            64  \n",
       "SelectedTags   139  \n",
       "Name          4000  "
      ]
     },
     "execution_count": 4,
     "metadata": {},
     "output_type": "execute_result"
    }
   ],
   "source": [
    "data_question.describe().T"
   ]
  },
  {
   "cell_type": "code",
   "execution_count": 5,
   "metadata": {},
   "outputs": [
    {
     "name": "stdout",
     "output_type": "stream",
     "text": [
      "{\"that'll\", 'd', 'once', 'hadn', \"shan't\", 'their', 'her', 'above', 'whom', 'for', 'up', 'doesn', 'ourselves', 'a', \"weren't\", 'each', 'mightn', 'isn', 'theirs', 'after', 'myself', 'had', 'how', 'too', \"hadn't\", 'himself', 'wasn', 'over', 'very', 'if', 'have', 'can', 'such', 'themselves', 'out', \"should've\", 'has', 'yourselves', 'but', 'now', \"wouldn't\", 'didn', 'when', \"you'd\", 'weren', 'm', 'ma', \"wasn't\", 'them', \"mightn't\", 'are', 'to', 'between', 'most', 'so', 'here', \"isn't\", 'y', 'against', \"you've\", 'wouldn', 'about', 'under', 'some', 'through', 'why', 'until', 'all', 'doing', 'ours', \"shouldn't\", 'while', 'this', 'he', 'you', 'or', 'just', 'yourself', 'only', 'that', \"doesn't\", \"mustn't\", 'where', 'my', 'more', 'should', 've', 'as', 'did', 'before', \"couldn't\", 'mustn', 'other', \"it's\", 'it', \"won't\", 'by', 'is', 'do', 'from', 'was', 'any', 'don', 'him', 'of', 's', 'its', 'aren', 'what', 'further', 'she', 'who', 'hasn', 'these', 'o', 'own', 'i', 'because', 'will', 'herself', 'does', 'hers', 'be', 'down', \"she's\", 'in', 'your', \"don't\", 'the', 'having', 'yours', 'couldn', 'into', 'not', 't', 'needn', 'our', 'were', 'than', 'there', 'below', 'an', 'they', 'itself', 'again', 'at', 'with', 'nor', 'which', 'same', \"needn't\", 'been', \"didn't\", \"hasn't\", 'during', 'those', 'shan', 'then', \"haven't\", 'no', 'and', 'll', 'both', 're', 'being', 'haven', 'on', 'off', 'ain', \"you're\", \"you'll\", 'shouldn', 'won', 'am', 'me', 'few', \"aren't\", 'we', 'his'}\n"
     ]
    },
    {
     "data": {
      "text/plain": [
       "'Stop word issu to nltk.corpus'"
      ]
     },
     "execution_count": 5,
     "metadata": {},
     "output_type": "execute_result"
    }
   ],
   "source": [
    "print(tagText.stopwords)\n",
    "'''Stop word issu to nltk.corpus'''"
   ]
  },
  {
   "cell_type": "code",
   "execution_count": 6,
   "metadata": {},
   "outputs": [
    {
     "data": {
      "text/plain": [
       "1    <p>I accidentally committed the wrong files to...\n",
       "2    <p>I want to delete a branch both locally and ...\n",
       "3    <blockquote>\\n  <p><strong>Moderator Note:</st...\n",
       "4    <p>I've been messing around with <a href=\"http...\n",
       "5    <p>What is the use of the <code>yield</code> k...\n",
       "6    <p>After reading <a href=\"http://groups.google...\n",
       "7    <p>I mistakenly added files to git using the c...\n",
       "8    <p>I don't want to rename a remote branch, as ...\n",
       "Name: body, dtype: object"
      ]
     },
     "execution_count": 6,
     "metadata": {},
     "output_type": "execute_result"
    }
   ],
   "source": [
    "data_question['body'][1:9]"
   ]
  },
  {
   "cell_type": "markdown",
   "metadata": {},
   "source": [
    "nltk stop word are not efficient.\n",
    "There are lot of html and punctuation caracters"
   ]
  },
  {
   "cell_type": "code",
   "execution_count": 7,
   "metadata": {},
   "outputs": [
    {
     "name": "stdout",
     "output_type": "stream",
     "text": [
      "1    accidentally committed wrong files git pushed ...\n",
      "2    want delete branch locally remotely failed att...\n",
      "3    moderator note given question already sixtysev...\n",
      "4    ive messing around json time pushing text hurt...\n",
      "5    use yield keyword python do example im trying ...\n",
      "6    reading hidden features dark corners cstl comp...\n",
      "7    mistakenly added files git using command git a...\n",
      "8    want rename remote branch described rename mas...\n",
      "Name: body, dtype: object\n"
     ]
    }
   ],
   "source": [
    "data_preprocessed = data_question['body'].apply(tagText.preprocessing)\n",
    "print(data_preprocessed[1:9])"
   ]
  },
  {
   "cell_type": "code",
   "execution_count": 8,
   "metadata": {},
   "outputs": [
    {
     "data": {
      "text/html": [
       "<div>\n",
       "<table border=\"1\" class=\"dataframe\">\n",
       "  <thead>\n",
       "    <tr style=\"text-align: right;\">\n",
       "      <th></th>\n",
       "      <th>body</th>\n",
       "      <th>title</th>\n",
       "      <th>tags</th>\n",
       "      <th>SelectedTags</th>\n",
       "      <th>Name</th>\n",
       "    </tr>\n",
       "  </thead>\n",
       "  <tbody>\n",
       "    <tr>\n",
       "      <th>0</th>\n",
       "      <td>&lt;p&gt;Here is a piece of C++ code that shows some...</td>\n",
       "      <td>Why is processing a sorted array faster than p...</td>\n",
       "      <td>&lt;java&gt;&lt;c++&gt;&lt;performance&gt;&lt;optimization&gt;&lt;branch-...</td>\n",
       "      <td>java,c++,performance,optimization,</td>\n",
       "      <td>Question</td>\n",
       "    </tr>\n",
       "    <tr>\n",
       "      <th>1</th>\n",
       "      <td>&lt;p&gt;I accidentally committed the wrong files to...</td>\n",
       "      <td>How do I undo the most recent local commits in...</td>\n",
       "      <td>&lt;git&gt;&lt;version-control&gt;&lt;git-commit&gt;&lt;undo&gt;</td>\n",
       "      <td>git,version-control,git-commit,</td>\n",
       "      <td>Question</td>\n",
       "    </tr>\n",
       "    <tr>\n",
       "      <th>2</th>\n",
       "      <td>&lt;p&gt;I want to delete a branch both locally and ...</td>\n",
       "      <td>How do I delete a Git branch locally and remot...</td>\n",
       "      <td>&lt;git&gt;&lt;git-branch&gt;&lt;git-remote&gt;</td>\n",
       "      <td>git,git-branch,</td>\n",
       "      <td>Question</td>\n",
       "    </tr>\n",
       "    <tr>\n",
       "      <th>3</th>\n",
       "      <td>&lt;blockquote&gt;\\n  &lt;p&gt;&lt;strong&gt;Moderator Note:&lt;/st...</td>\n",
       "      <td>What is the difference between 'git pull' and ...</td>\n",
       "      <td>&lt;git&gt;&lt;git-pull&gt;&lt;git-fetch&gt;</td>\n",
       "      <td>git,</td>\n",
       "      <td>Question</td>\n",
       "    </tr>\n",
       "    <tr>\n",
       "      <th>4</th>\n",
       "      <td>&lt;p&gt;I've been messing around with &lt;a href=\"http...</td>\n",
       "      <td>What is the correct JSON content type?</td>\n",
       "      <td>&lt;json&gt;&lt;http-headers&gt;&lt;content-type&gt;</td>\n",
       "      <td>json,http-headers,content-type,</td>\n",
       "      <td>Question</td>\n",
       "    </tr>\n",
       "  </tbody>\n",
       "</table>\n",
       "</div>"
      ],
      "text/plain": [
       "                                                body  \\\n",
       "0  <p>Here is a piece of C++ code that shows some...   \n",
       "1  <p>I accidentally committed the wrong files to...   \n",
       "2  <p>I want to delete a branch both locally and ...   \n",
       "3  <blockquote>\\n  <p><strong>Moderator Note:</st...   \n",
       "4  <p>I've been messing around with <a href=\"http...   \n",
       "\n",
       "                                               title  \\\n",
       "0  Why is processing a sorted array faster than p...   \n",
       "1  How do I undo the most recent local commits in...   \n",
       "2  How do I delete a Git branch locally and remot...   \n",
       "3  What is the difference between 'git pull' and ...   \n",
       "4             What is the correct JSON content type?   \n",
       "\n",
       "                                                tags  \\\n",
       "0  <java><c++><performance><optimization><branch-...   \n",
       "1           <git><version-control><git-commit><undo>   \n",
       "2                      <git><git-branch><git-remote>   \n",
       "3                         <git><git-pull><git-fetch>   \n",
       "4                 <json><http-headers><content-type>   \n",
       "\n",
       "                         SelectedTags      Name  \n",
       "0  java,c++,performance,optimization,  Question  \n",
       "1     git,version-control,git-commit,  Question  \n",
       "2                     git,git-branch,  Question  \n",
       "3                                git,  Question  \n",
       "4     json,http-headers,content-type,  Question  "
      ]
     },
     "execution_count": 8,
     "metadata": {},
     "output_type": "execute_result"
    }
   ],
   "source": [
    "data_question.head()"
   ]
  },
  {
   "cell_type": "code",
   "execution_count": 9,
   "metadata": {},
   "outputs": [
    {
     "data": {
      "text/plain": [
       "count                                                  4000\n",
       "unique                                                 4000\n",
       "top       anyone explain difference servermappath server...\n",
       "freq                                                      1\n",
       "Name: body, dtype: object"
      ]
     },
     "execution_count": 9,
     "metadata": {},
     "output_type": "execute_result"
    }
   ],
   "source": [
    "data_preprocessed.describe()"
   ]
  },
  {
   "cell_type": "markdown",
   "metadata": {},
   "source": [
    "<p style=\"font-family: Arial; font-size:1.75em;color:#2462C0; font-style:bold\"><br>\n",
    "III - Data - Bag of words</p>"
   ]
  },
  {
   "cell_type": "markdown",
   "metadata": {},
   "source": [
    "<p style=\"font-family: Arial; font-size:1.75em;color:#2462C0; font-style:bold\"><br>\n",
    "III.1 - Data - Bag of words - most frequent data</p>"
   ]
  },
  {
   "cell_type": "code",
   "execution_count": 10,
   "metadata": {},
   "outputs": [
    {
     "name": "stdout",
     "output_type": "stream",
     "text": [
      "['piece', 'c', 'code', 'shows', 'peculiar', 'behavior', 'strange', 'reason', 'sorting', 'data']\n",
      "['piece', 'c', 'code', 'shows', 'peculiar', 'behavior', 'strange', 'reason', 'sorting', 'data']\n",
      "['piece', 'c', 'code', 'shows', 'peculiar', 'behavior', 'strange', 'reason', 'sorting', 'data']\n",
      "['piece', 'c', 'code', 'shows', 'peculiar', 'behavior', 'strange', 'reason', 'sorting', 'data']\n"
     ]
    }
   ],
   "source": [
    "import nltk\n",
    "print(nltk.word_tokenize(data_preprocessed[0])[0:10])\n",
    "print(nltk.tokenize.WhitespaceTokenizer().tokenize(data_preprocessed[0])[0:10])\n",
    "# Tokenize using Punctuations\n",
    "print(nltk.tokenize.WordPunctTokenizer().tokenize(data_preprocessed[0])[0:10])\n",
    "print(nltk.tokenize.TreebankWordTokenizer().tokenize(data_preprocessed[0])[0:10])"
   ]
  },
  {
   "cell_type": "code",
   "execution_count": null,
   "metadata": {
    "collapsed": true
   },
   "outputs": [],
   "source": []
  },
  {
   "cell_type": "markdown",
   "metadata": {},
   "source": [
    "<p style=\"font-family: Arial; font-size:1.75em;color:#2462C0; font-style:bold\"><br>\n",
    "III.2 - Data - Bag of words - Nb of occurence</p>"
   ]
  },
  {
   "cell_type": "code",
   "execution_count": 11,
   "metadata": {
    "collapsed": true
   },
   "outputs": [],
   "source": [
    "import nltk\n",
    "from collections import defaultdict\n",
    "    \n",
    "corpora = defaultdict(list)\n",
    "        \n",
    "tokenizer = nltk.RegexpTokenizer(r'\\w+')\n",
    "for id, row in data_preprocessed.iteritems():\n",
    "    for word in tokenizer.tokenize(row):\n",
    "        if not word in corpora :\n",
    "            corpora[word] = 0\n",
    "        #print(word)\n",
    "        corpora[word] += 1\n",
    "    \n",
    "\n",
    "#print(corpora)\n",
    "#print(sorted(corpora.items(), reverse=True,  key=lambda x: x[1]))"
   ]
  },
  {
   "cell_type": "code",
   "execution_count": 12,
   "metadata": {
    "collapsed": true
   },
   "outputs": [],
   "source": [
    "import matplotlib.pyplot as plt\n",
    "minimum_count = 200\n",
    "def count_word_occurencies(df):\n",
    "        corpora = defaultdict(list)                \n",
    "        tokenizer = nltk.RegexpTokenizer(r'\\w+')\n",
    "        for id, row in df.iteritems():\n",
    "            for word in tokenizer.tokenize(row):\n",
    "                if not word in corpora :\n",
    "                    corpora[word] = 0\n",
    "                #print(word)\n",
    "                corpora[word] += 1\n",
    "        corpora = dict((k, v) for k, v in corpora.items() if ((v > minimum_count)))\n",
    "        sorted(corpora)\n",
    "        max_occurence = max(corpora.values())\n",
    "        min_occurence = (corpora.values())\n",
    "        min_occurence = min(corpora.values())\n",
    "        quartil1 =  np.percentile(list(corpora.values()), 25)\n",
    "        quartil3 =  np.percentile(list(corpora.values()), 75)\n",
    "        inter_quartil_range = quartil3 - quartil1\n",
    "        lower_bound = quartil1 -(1.5 * inter_quartil_range) \n",
    "        upper_bound = quartil3 +(1.5 * inter_quartil_range) \n",
    "        print (min_occurence)\n",
    "        print (max_occurence)\n",
    "        print (quartil1)\n",
    "        print (quartil3)\n",
    "        print (inter_quartil_range)\n",
    "        print (lower_bound)\n",
    "        print (upper_bound)\n",
    "        #plt.boxplot(corpora.items())\n",
    "        #print(corpora.values())\n",
    "        #quartil1 = np.percentile(corpora.values(),25)\n",
    "        corpora = dict((k, v) for k, v in corpora.items() if ((v > 1)))# and (v > lower_bound) and (v < upper_bound)))\n",
    "        return (sorted(corpora.items(), reverse=True,  key=lambda x: x[1]))"
   ]
  },
  {
   "cell_type": "markdown",
   "metadata": {},
   "source": [
    "dico = count_word_occurencies(data_preprocessed)\n"
   ]
  },
  {
   "cell_type": "code",
   "execution_count": 13,
   "metadata": {},
   "outputs": [
    {
     "name": "stdout",
     "output_type": "stream",
     "text": [
      "204\n",
      "1413\n",
      "245.5\n",
      "474.25\n",
      "228.75\n",
      "-97.625\n",
      "817.375\n"
     ]
    }
   ],
   "source": [
    "dico = count_word_occurencies(data_preprocessed)"
   ]
  },
  {
   "cell_type": "code",
   "execution_count": 14,
   "metadata": {},
   "outputs": [
    {
     "data": {
      "text/plain": [
       "128"
      ]
     },
     "execution_count": 14,
     "metadata": {},
     "output_type": "execute_result"
    }
   ],
   "source": [
    "len(dico)"
   ]
  },
  {
   "cell_type": "code",
   "execution_count": 15,
   "metadata": {},
   "outputs": [
    {
     "data": {
      "text/plain": [
       "[('like', 1413),\n",
       " ('use', 1244),\n",
       " ('using', 1232),\n",
       " ('way', 1130),\n",
       " ('want', 1123),\n",
       " ('im', 1088),\n",
       " ('code', 1051),\n",
       " ('git', 1035),\n",
       " ('file', 1021),\n",
       " ('would', 962),\n",
       " ('get', 950),\n",
       " ('new', 861),\n",
       " ('one', 855),\n",
       " ('this', 826),\n",
       " ('string', 786),\n",
       " ('1', 694),\n",
       " ('know', 637),\n",
       " ('function', 635),\n",
       " ('example', 584),\n",
       " ('need', 571),\n",
       " ('class', 567),\n",
       " ('ive', 560),\n",
       " ('error', 554),\n",
       " ('something', 548),\n",
       " ('c', 545),\n",
       " ('it', 511),\n",
       " ('return', 495),\n",
       " ('following', 494),\n",
       " ('files', 492),\n",
       " ('work', 489),\n",
       " ('id', 479),\n",
       " ('var', 478),\n",
       " ('data', 473),\n",
       " ('0', 468),\n",
       " ('2', 461),\n",
       " ('python', 460),\n",
       " ('branch', 459),\n",
       " ('set', 458),\n",
       " ('public', 456),\n",
       " ('method', 439),\n",
       " ('value', 434),\n",
       " ('list', 427),\n",
       " ('object', 426),\n",
       " ('javascript', 418),\n",
       " ('also', 410),\n",
       " ('div', 408),\n",
       " ('find', 407),\n",
       " ('int', 392),\n",
       " ('see', 379),\n",
       " ('line', 374),\n",
       " ('question', 371),\n",
       " ('make', 357),\n",
       " ('tried', 354),\n",
       " ('command', 352),\n",
       " ('array', 351),\n",
       " ('time', 349),\n",
       " ('create', 345),\n",
       " ('name', 345),\n",
       " ('used', 344),\n",
       " ('could', 343),\n",
       " ('3', 343),\n",
       " ('difference', 334),\n",
       " ('trying', 331),\n",
       " ('possible', 328),\n",
       " ('add', 327),\n",
       " ('two', 326),\n",
       " ('run', 325),\n",
       " ('text', 313),\n",
       " ('script', 310),\n",
       " ('java', 310),\n",
       " ('without', 308),\n",
       " ('commit', 307),\n",
       " ('first', 304),\n",
       " ('version', 303),\n",
       " ('server', 298),\n",
       " ('type', 294),\n",
       " ('i', 292),\n",
       " ('seems', 286),\n",
       " ('problem', 284),\n",
       " ('however', 283),\n",
       " ('changes', 281),\n",
       " ('different', 280),\n",
       " ('directory', 279),\n",
       " ('application', 275),\n",
       " ('b', 272),\n",
       " ('number', 271),\n",
       " ('user', 269),\n",
       " ('project', 265),\n",
       " ('found', 265),\n",
       " ('cant', 262),\n",
       " ('working', 261),\n",
       " ('a', 260),\n",
       " ('update', 259),\n",
       " ('x', 248),\n",
       " ('test', 247),\n",
       " ('select', 246),\n",
       " ('jquery', 244),\n",
       " ('table', 240),\n",
       " ('input', 240),\n",
       " ('best', 239),\n",
       " ('case', 239),\n",
       " ('repository', 236),\n",
       " ('php', 236),\n",
       " ('page', 236),\n",
       " ('output', 231),\n",
       " ('master', 230),\n",
       " ('values', 228),\n",
       " ('simple', 227),\n",
       " ('another', 225),\n",
       " ('key', 220),\n",
       " ('whats', 220),\n",
       " ('is', 220),\n",
       " ('change', 220),\n",
       " ('variable', 214),\n",
       " ('5', 213),\n",
       " ('works', 213),\n",
       " ('database', 212),\n",
       " ('try', 212),\n",
       " ('element', 211),\n",
       " ('better', 210),\n",
       " ('read', 210),\n",
       " ('understand', 210),\n",
       " ('static', 210),\n",
       " ('instead', 208),\n",
       " ('call', 208),\n",
       " ('html', 206),\n",
       " ('solution', 206),\n",
       " ('looking', 204)]"
      ]
     },
     "execution_count": 15,
     "metadata": {},
     "output_type": "execute_result"
    }
   ],
   "source": [
    "dico"
   ]
  },
  {
   "cell_type": "code",
   "execution_count": 16,
   "metadata": {},
   "outputs": [
    {
     "name": "stdout",
     "output_type": "stream",
     "text": [
      "[('like', 1413), ('use', 1244), ('using', 1232), ('way', 1130), ('want', 1123), ('im', 1088), ('code', 1051), ('git', 1035), ('file', 1021), ('would', 962), ('get', 950), ('new', 861), ('one', 855), ('this', 826), ('string', 786), ('1', 694), ('know', 637), ('function', 635), ('example', 584), ('need', 571), ('class', 567), ('ive', 560), ('error', 554), ('something', 548), ('c', 545), ('it', 511), ('return', 495), ('following', 494), ('files', 492), ('work', 489), ('id', 479), ('var', 478), ('data', 473), ('0', 468), ('2', 461), ('python', 460), ('branch', 459), ('set', 458), ('public', 456), ('method', 439), ('value', 434), ('list', 427), ('object', 426), ('javascript', 418), ('also', 410), ('div', 408), ('find', 407), ('int', 392), ('see', 379), ('line', 374), ('question', 371), ('make', 357), ('tried', 354), ('command', 352), ('array', 351), ('time', 349), ('name', 345), ('create', 345), ('used', 344), ('3', 343), ('could', 343), ('difference', 334), ('trying', 331), ('possible', 328), ('add', 327), ('two', 326), ('run', 325), ('text', 313), ('script', 310), ('java', 310), ('without', 308), ('commit', 307), ('first', 304), ('version', 303), ('server', 298), ('type', 294), ('i', 292), ('seems', 286), ('problem', 284), ('however', 283), ('changes', 281), ('different', 280), ('directory', 279), ('application', 275), ('b', 272), ('number', 271), ('user', 269), ('found', 265), ('project', 265), ('cant', 262), ('working', 261), ('a', 260), ('update', 259), ('x', 248), ('test', 247), ('select', 246), ('jquery', 244), ('table', 240), ('input', 240), ('best', 239), ('case', 239), ('php', 236), ('repository', 236), ('page', 236), ('output', 231), ('master', 230), ('values', 228), ('simple', 227), ('another', 225), ('change', 220), ('whats', 220), ('key', 220), ('is', 220), ('variable', 214), ('5', 213), ('works', 213), ('try', 212), ('database', 212), ('element', 211), ('understand', 210), ('better', 210), ('static', 210), ('read', 210), ('call', 208), ('instead', 208), ('html', 206), ('solution', 206), ('looking', 204), ('good', 199), ('methods', 197), ('still', 196), ('say', 195), ('that', 194), ('right', 194), ('remote', 192), ('null', 191), ('so', 188), ('current', 186), ('even', 184), ('4', 184), ('android', 183), ('answer', 181), ('foo', 181), ('image', 181), ('able', 181), ('result', 180), ('local', 180), ('really', 180), ('css', 179), ('always', 178), ('check', 177), ('default', 177), ('true', 177), ('since', 176), ('please', 176), ('remove', 173), ('app', 171), ('void', 170), ('think', 167), ('form', 167), ('n', 166), ('main', 165), ('web', 165), ('done', 165), ('write', 164), ('many', 162), ('install', 162), ('back', 161), ('running', 161), ('request', 161), ('loop', 160), ('date', 159), ('sure', 158), ('end', 157), ('anyone', 155), ('mean', 155), ('import', 154), ('every', 153), ('private', 153), ('convert', 152), ('order', 152), ('etc', 151), ('print', 151), ('objects', 151), ('source', 150), ('program', 149), ('go', 149), ('seem', 148), ('else', 148), ('here', 147), ('already', 147), ('windows', 146), ('may', 146), ('wrong', 145), ('include', 144), ('access', 143), ('someone', 142), ('button', 142), ('called', 142), ('syntax', 142), ('anything', 141), ('false', 140), ('well', 140), ('lines', 140), ('merge', 140), ('inside', 140), ('elements', 139), ('look', 139), ('property', 138), ('long', 138), ('do', 138), ('url', 137), ('delete', 137), ('got', 136), ('specific', 136), ('exception', 136), ('option', 136), ('content', 135), ('things', 135), ('field', 134), ('note', 134), ('correct', 133), ('push', 133), ('exactly', 133), ('eg', 133), ('ie', 132), ('people', 131), ('message', 131), ('start', 131), ('given', 130), ('10', 130), ('status', 129), ('view', 129), ('npm', 128), ('multiple', 128), ('sql', 126), ('last', 126), ('created', 126), ('idea', 126), ('around', 125), ('going', 124), ('instance', 124), ('edit', 124), ('put', 124), ('path', 123), ('times', 123), ('either', 123), ('getting', 123), ('system', 122), ('cannot', 122), ('me', 122), ('show', 122), ('single', 121), ('copy', 120), ('looks', 120), ('returns', 120), ('module', 119), ('and', 118), ('point', 118), ('not', 117), ('package', 117), ('pull', 117), ('help', 116), ('lot', 116), ('json', 116), ('post', 115), ('studio', 115), ('8', 115), ('item', 115), ('similar', 114), ('much', 114), ('thing', 114), ('made', 114), ('library', 113), ('must', 113), ('commits', 113), ('index', 113), ('head', 113), ('added', 112), ('within', 112), ('actually', 112), ('functions', 112), ('def', 112), ('take', 111), ('seen', 111), ('fine', 111), ('characters', 110), ('them', 110), ('bit', 110), ('for', 109), ('contains', 109), ('second', 109), ('activity', 109), ('now', 108), ('results', 107), ('images', 107), ('easy', 107), ('state', 106), ('build', 106), ('height', 106), ('branches', 106), ('count', 106), ('standard', 106), ('currently', 106), ('character', 106), ('open', 106), ('format', 105), ('browser', 105), ('column', 105), ('size', 104), ('give', 104), ('might', 104), ('or', 103), ('process', 103), ('link', 101), ('folder', 101), ('bash', 100), ('far', 100), ('performance', 100), ('classes', 100), ('bar', 100), ('d', 100), ('issue', 100), ('whether', 99), ('e', 99), ('keep', 99), ('information', 99), ('query', 99), ('google', 99), ('documentation', 98), ('6', 98), ('variables', 98), ('missing', 97), ('in', 97), ('github', 97), ('mysql', 97), ('node', 97), ('thought', 97), ('r', 97), ('reason', 96), ('s', 96), ('display', 96), ('api', 95), ('examples', 95), ('interface', 95), ('empty', 95), ('pass', 94), ('several', 94), ('tag', 94), ('compile', 93), ('based', 93), ('t', 93), ('linux', 92), ('simply', 92), ('changed', 92), ('100', 92), ('language', 92), ('writing', 92), ('visual', 92), ('http', 92), ('makes', 91), ('strings', 91), ('development', 91), ('explain', 91), ('header', 90), ('memory', 90), ('rather', 90), ('part', 90), ('echo', 90), ('options', 89), ('feature', 89), ('via', 89), ('nodejs', 88), ('particular', 88), ('none', 88), ('available', 88), ('creating', 87), ('attribute', 87), ('event', 87), ('load', 87), ('nothing', 87), ('everything', 87), ('installed', 87), ('site', 86), ('background', 86), ('names', 86), ('lets', 85), ('gives', 85), ('eclipse', 85), ('insert', 85), ('search', 85), ('three', 85), ('stack', 85), ('style', 85), ('with', 84), ('log', 84), ('answers', 84), ('exists', 84), ('types', 83), ('uses', 83), ('os', 83), ('tell', 83), ('thats', 83), ('questions', 83), ('clear', 83), ('7', 82), ('next', 82), ('reference', 82), ('heres', 82), ('users', 82), ('f', 82), ('p', 82), ('operator', 82), ('define', 82), ('on', 81), ('differences', 81), ('figure', 81), ('replace', 81), ('reset', 81), ('certain', 81), ('shows', 80), ('override', 80), ('quite', 80), ('properties', 80), ('programming', 80), ('checkout', 79), ('defined', 79), ('container', 79), ('often', 79), ('never', 79), ('statement', 78), ('real', 78), ('stuff', 78), ('says', 78), ('modified', 78), ('thread', 78), ('rows', 77), ('screen', 77), ('framework', 77), ('columns', 77), ('client', 77), ('equivalent', 77), ('wondering', 77), ('though', 76), ('theres', 76), ('below', 76), ('arguments', 76), ('to', 75), ('20', 75), ('items', 75), ('break', 75), ('store', 75), ('needs', 74), ('unexpected', 74), ('errors', 74), ('yet', 74), ('ways', 74), ('loadmodule', 73), ('origin', 73), ('come', 73), ('projects', 73), ('const', 73), ('control', 73), ('color', 73), ('handle', 73), ('sometimes', 72), ('hello', 72), ('xml', 72), ('less', 72), ('except', 72), ('save', 71), ('structure', 71), ('checked', 70), ('old', 70), ('password', 70), ('exist', 70), ('console', 69), ('commands', 69), ('hard', 69), ('failed', 69), ('support', 69), ('window', 69), ('duplicate', 69), ('little', 69), ('appears', 69), ('parameter', 69), ('sort', 69), ('resource', 69), ('service', 68), ('let', 68), ('takes', 68), ('location', 68), ('net', 68), ('achieve', 67), ('means', 67), ('started', 67), ('width', 67), ('configuration', 67), ('body', 67), ('step', 67), ('integer', 66), ('row', 66), ('pretty', 66), ('seconds', 66), ('matter', 66), ('original', 66), ('vs', 66), ('approach', 66), ('click', 66), ('loaded', 65), ('thanks', 65), ('existing', 65), ('related', 65), ('implement', 65), ('across', 65), ('repo', 65), ('points', 65), ('clone', 64), ('contain', 64), ('double', 64), ('kind', 64), ('stash', 64), ('problems', 64), ('design', 64), ('machine', 64), ('random', 64), ('world', 64), ('map', 63), ('recently', 63), ('why', 63), ('join', 63), ('reading', 63), ('email', 63), ('large', 63), ('tags', 63), ('as', 63), ('left', 63), ('functionality', 62), ('chrome', 62), ('address', 62), ('place', 62), ('general', 62), ('least', 62), ('numbers', 61), ('parent', 61), ('maybe', 61), ('common', 61), ('behavior', 61), ('adding', 61), ('length', 61), ('grep', 61), ('apply', 61), ('fix', 61), ('which', 61), ('correctly', 61), ('compiler', 61), ('assembly', 60), ('probably', 60), ('model', 60), ('updated', 60), ('move', 60), ('ideas', 59), ('full', 59), ('constructor', 59), ('send', 59), ('wanted', 59), ('cases', 59), ('faster', 58), ('other', 58), ('undefined', 58), ('response', 57), ('small', 57), ('the', 57), ('foreach', 57), ('all', 57), ('fields', 57), ('img', 57), ('top', 57), ('scripts', 57), ('nice', 57), ('directly', 57), ('char', 56), ('required', 56), ('expression', 56), ('testing', 56), ('ruby', 56), ('course', 56), ('ajax', 56), ('docker', 56), ('solutions', 56), ('specify', 56), ('avoid', 56), ('again', 55), ('tree', 55), ('datetime', 55), ('parameters', 55), ('tables', 55), ('block', 55), ('dependency', 54), ('whole', 54), ('versions', 54), ('provide', 54), ('up', 54), ('pattern', 54), ('entire', 54), ('space', 54), ('device', 54), ('later', 54), ('assume', 54), ('catch', 54), ('rest', 54), ('vim', 54), ('allow', 54), ('generate', 54), ('layout', 54), ('tools', 54), ('controller', 53), ('operators', 53), ('j', 53), ('host', 53), ('warning', 53), ('important', 53), ('action', 53), ('g', 53), ('per', 53), ('9', 53), ('stored', 53), ('throw', 53), ('custom', 53), ('position', 52), ('issues', 52), ('swift', 52), ('algorithm', 52), ('m', 52), ('understanding', 52), ('argument', 52), ('implementation', 52), ('section', 52), ('comment', 52), ('match', 52), ('basically', 52), ('regular', 52), ('rebase', 52), ('needed', 52), ('various', 52), ('browsers', 52), ('args', 52), ('worked', 52), ('committed', 52), ('connection', 52), ('root', 52), ('title', 51), ('basic', 51), ('000', 51), ('enum', 51), ('boolean', 51), ('task', 51), ('shell', 51), ('aspnet', 51), ('cache', 51), ('useful', 51), ('others', 51), ('group', 51), ('recent', 51), ('building', 51), ('entity', 50), ('setting', 50), ('there', 50), ('15', 50), ('level', 50), ('messages', 50), ('overflow', 50), ('but', 50), ('latest', 50), ('of', 50), ('final', 50), ('solve', 49), ('ul', 49), ('containing', 49), ('out', 49), ('usually', 49), ('enter', 49), ('str', 49), ('12', 49), ('explanation', 49), ('side', 49), ('download', 49), ('consider', 49), ('split', 49), ('word', 49), ('great', 48), ('normal', 48), ('abc', 48), ('keys', 48), ('ok', 48), ('execution', 48), ('y', 48), ('prefer', 48), ('deleted', 48), ('manually', 48), ('thinking', 48), ('specifically', 48), ('0125', 48), ('context', 48), ('calling', 48), ('clean', 48), ('u', 47), ('selected', 47), ('filename', 47), ('references', 47), ('comments', 47), ('automatically', 47), ('extra', 47), ('enough', 47), ('developer', 47), ('l', 47), ('arrays', 47), ('came', 47), ('asked', 47), ('textview', 47), ('tool', 47), ('valid', 47), ('expected', 47), ('separate', 46), ('situation', 46), ('confused', 46), ('keyword', 46), ('v', 46), ('determine', 46), ('terms', 45), ('environment', 45), ('previous', 45), ('ill', 45), ('computer', 45), ('runs', 45), ('err', 45), ('ignore', 45), ('suppose', 45), ('relative', 45), ('checking', 45), ('switch', 45), ('obviously', 45), ('perhaps', 45), ('dependencies', 45), ('from', 44), ('sense', 44), ('fast', 44), ('close', 44), ('software', 44), ('session', 44), ('article', 44), ('30', 44), ('xcode', 44), ('template', 44), ('features', 44), ('dictionary', 43), ('requests', 43), ('extends', 43), ('dataframe', 43), ('internet', 43), ('above', 43), ('gets', 43), ('reasons', 43), ('applications', 43), ('written', 43), ('abstract', 43), ('happens', 43), ('completely', 43), ('history', 43), ('efficient', 43), ('obj', 43), ('tests', 43), ('obvious', 42), ('red', 42), ('contents', 42), ('complete', 42), ('libraries', 42), ('requires', 42), ('if', 42), ('person', 42), ('languages', 42), ('us', 42), ('port', 42), ('debug', 42), ('usage', 42), ('comparison', 42), ('extension', 42), ('terminal', 41), ('disable', 41), ('specified', 41), ('bad', 41), ('allows', 41), ('looked', 41), ('diff', 41), ('continue', 41), ('named', 41), ('center', 41), ('practice', 41), ('making', 41), ('too', 41), ('easier', 41), ('lists', 41), ('builtin', 41), ('rails', 41), ('actual', 41), ('short', 41), ('purpose', 41), ('scope', 40), ('range', 40), ('guess', 40), ('thus', 40), ('sent', 40), ('unfortunately', 40), ('target', 40), ('iterate', 40), ('according', 40), ('base', 40), ('outside', 40), ('errorandroidruntime3896', 40), ('website', 40), ('11', 40), ('mode', 40), ('returned', 40), ('longer', 39), ('due', 39), ('filter', 39), ('generated', 39), ('pip', 39), ('events', 39), ('span', 39), ('z', 39), ('16', 39), ('mac', 39), ('big', 39), ('box', 39), ('050549917', 39), ('words', 39), ('ssh', 39), ('setup', 39), ('config', 39), ('yes', 39), ('async', 39), ('encoding', 39), ('details', 39), ('records', 39), ('fragment', 39), ('suggestions', 39), ('feel', 39), ('border', 39), ('info', 39), ('fact', 39), ('force', 38), ('apparently', 38), ('including', 38), ('inner', 38), ('shown', 38), ('unicode', 38), ('execute', 38), ('virtual', 38), ('username', 38), ('collection', 38), ('were', 37), ('utf8', 37), ('supposed', 37), ('require', 37), ('free', 37), ('expect', 37), ('directories', 37), ('built', 37), ('almost', 37), ('are', 37), ('ios', 37), ('easily', 37), ('bug', 37), ('js', 37), ('detect', 37), ('stop', 37), ('ones', 37), ('aware', 37), ('fairly', 37), ('render', 37), ('no', 36), ('hash', 36), ('pushed', 36), ('compiled', 36), ('binary', 36), ('callback', 36), ('properly', 36), ('special', 36), ('gitignore', 36), ('calls', 36), ('unique', 36), ('namespace', 36), ('compare', 36), ('future', 36), ('fatal', 36), ('asking', 36), ('accept', 36), ('you', 36), ('perform', 36), ('firefox', 36), ('document', 36), ('13', 35), ('svn', 35), ('django', 35), ('years', 35), ('global', 35), ('queries', 35), ('frame', 35), ('appear', 35), ('become', 35), ('turn', 35), ('couple', 35), ('primary', 35), ('prints', 35), ('throws', 35), ('together', 35), ('otherwise', 35), ('necessary', 35), ('happen', 35), ('inline', 35), ('along', 35), ('executed', 34), ('be', 34), ('float', 34), ('50', 34), ('unit', 34), ('unable', 34), ('debug1', 34), ('fails', 34), ('age', 34), ('exit', 34), ('spaces', 34), ('ran', 34), ('modules', 34), ('security', 34), ('suggested', 34), ('follows', 34), ('handler', 34), ('definition', 34), ('slow', 34), ('functional', 33), ('pointer', 33), ('somehow', 33), ('linq', 33), ('o', 33), ('cause', 33), ('somewhere', 33), ('runtime', 33), ('each', 33), ('sum', 33), ('prevent', 33), ('allowed', 33), ('editor', 33), ('plugin', 33), ('struct', 33), ('goes', 33), ('export', 33), ('mentioned', 33), ('saw', 33), ('settings', 32), ('parse', 32), ('component', 32), ('meaning', 32), ('learning', 32), ('rounded', 32), ('authentication', 32), ('learn', 32), ('most', 32), ('byte', 32), ('changing', 32), ('proper', 32), ('submit', 32), ('declare', 32), ('sample', 32), ('present', 32), ('untracked', 32), ('handling', 32), ('noticed', 32), ('john', 32), ('elegant', 32), ('ever', 32), ('speed', 32), ('links', 32), ('plain', 32), ('keyboard', 31), ('implemented', 31), ('fail', 31), ('unsigned', 31), ('trace', 31), ('express', 31), ('appropriate', 31), ('rules', 31), ('fragments', 31), ('menu', 31), ('passed', 31), ('comes', 31), ('integers', 31), ('login', 31), ('manager', 31), ('external', 31), ('patterns', 31), ('searching', 31), ('success', 31), ('everyone', 31), ('upload', 31), ('apache', 31), ('pages', 31), ('choice', 31), ('curl', 31), ('starting', 31), ('day', 31), ('scenario', 31), ('edittext', 31), ('postgresql', 31), ('modify', 31), ('append', 30), ('said', 30), ('loops', 30), ('happening', 30), ('folders', 30), ('preferred', 30), ('init', 30), ('anyway', 30), ('sudo', 30), ('includes', 30), ('generic', 30), ('member', 30), ('rm', 30), ('platform', 30), ('amount', 30), ('places', 30), ('buttons', 30), ('displayed', 30), ('whenever', 30), ('redirect', 30), ('bottom', 30), ('then', 30), ('child', 30), ('gcc', 30), ('hoping', 30), ('protected', 30), ('especially', 30), ('32', 30), ('tab', 30), ('how', 29), ('trouble', 29), ('explorer', 29), ('self', 29), ('equal', 29), ('ui', 29), ('hashmap', 29), ('away', 29), ('description', 29), ('wait', 29), ('headers', 29), ('considered', 29), ('days', 29), ('have', 29), ('resources', 29), ('hidden', 29), ('k', 29), ('accomplish', 29), ('heard', 29), ('official', 29), ('26', 29), ('services', 29), ('li', 29), ('revert', 29), ('exceptions', 29), ('removing', 29), ('does', 29), ('sqlite', 29), ('selector', 29), ('23', 29), ('token', 29), ('matches', 29), ('unless', 29), ('care', 29), ('h', 29), ('starts', 29), ('androidlayoutheightwrapcontent', 29), ('quick', 28), ('1000', 28), ('123', 28), ('likely', 28), ('ptr', 28), ('constant', 28), ('dom', 28), ('80', 28), ('cat', 28), ('interfaces', 28), ('today', 28), ('core', 28), ('ago', 28), ('label', 28), ('perl', 28), ('interested', 28), ('instances', 28), ('quotes', 28), ('regex', 28), ('rename', 28), ('steps', 28), ('mvc', 28), ('bytes', 28), ('provided', 28), ('successfully', 28), ('jar', 28), ('myclass', 28), ('mongodb', 28), ('record', 28), ('25', 28), ('guide', 27), ('choose', 27), ('src', 27), ('documents', 27), ('packages', 27), ('tr', 27), ('operation', 27), ('executing', 27), ('ask', 27), ('connect', 27), ('theyre', 27), ('typetext', 27), ('configure', 27), ('becomes', 27), ('resolve', 27), ('react', 27), ('past', 27), ('experience', 27), ('buffer', 27), ('angularjs', 27), ('permission', 27), ('hide', 27), ('quickly', 27), ('checkbox', 27), ('equals', 27), ('excel', 27), ('recommended', 27), ('docs', 27), ('cprogram', 27), ('creates', 27), ('attributes', 27), ('whatever', 27), ('db', 27), ('forms', 27), ('although', 27), ('coming', 27), ('book', 27), ('ps', 27), ('managed', 27), ('finally', 27), ('moment', 27), ('declaration', 27), ('release', 27), ('before', 27), ('sdk', 27), ('fixed', 27), ('ideally', 27), ('network', 27), ('inserts', 27), ('mind', 27), ('loading', 26), ('developers', 26), ('singleton', 26), ('included', 26), ('developing', 26), ('pandas', 26), ('contenttype', 26), ('iframe', 26), ('additional', 26), ('14', 26), ('effect', 26), ('mention', 26), ('forward', 26), ('scroll', 26), ('into', 26), ('modal', 26), ('exact', 26), ('lots', 26), ('product', 26), ('anywhere', 26), ('track', 26), ('andor', 26), ('optional', 26), ('installing', 26), ('fetch', 26), ('what', 26), ('decimal', 26), ('finding', 26), ('fully', 26), ('unix', 26), ('undo', 26), ('views', 26), ('white', 25), ('processing', 25), ('hex', 25), ('urls', 25), ('alternative', 25), ('assuming', 25), ('safe', 25), ('submodule', 25), ('by', 25), ('bootstrap', 25), ('42', 25), ('invalid', 25), ('implements', 25), ('programs', 25), ('doing', 25), ('upon', 25), ('entry', 25), ('suggest', 25), ('locally', 25), ('supported', 25), ('statements', 25), ('total', 25), ('same', 25), ('represent', 25), ('localhost', 25), ('applied', 25), ('nested', 25), ('simplest', 25), ('twitter', 25), ('extract', 25), ('bunch', 25), ('gbs', 25), ('saying', 25), ('native', 25), ('expressions', 24), ('ubuntu', 24), ('typetextjavascript', 24), ('operations', 24), ('cursor', 24), ('arbitrary', 24), ('rule', 24), ('22', 24), ('intellij', 24), ('talking', 24), ('therefore', 24), ('coding', 24), ('components', 24), ('share', 24), ('route', 24), ('practices', 24), ('complex', 24), ('programmer', 24), ('focus', 24), ('nan', 24), ('scale', 24), ('interesting', 24), ('storage', 24), ('matching', 24), ('attempt', 24), ('itself', 24), ('behaviour', 24), ('2010', 24), ('solid', 24), ('ls', 24), ('logic', 24), ('traceback', 24), ('constraint', 24), ('templates', 23), ('extend', 23), ('depending', 23), ('remember', 23), ('initial', 23), ('stream', 23), ('prompt', 23), ('square', 23), ('storing', 23), ('downloaded', 23), ('produce', 23), ('warnings', 23), ('packagejson', 23), ('2008', 23), ('known', 23), ('anybody', 23), ('0517', 23), ('seeing', 23), ('home', 23), ('whitespace', 23), ('errorwindowmanager18850', 23), ('br', 23), ('drop', 23), ('hand', 23), ('area', 23), ('182457069', 23), ('appreciated', 23), ('originmaster', 23), ('provides', 23), ('author', 23), ('transaction', 23), ('35', 23), ('stdout', 23), ('lock', 23), ('bob', 22), ('wish', 22), ('stepping', 22), ('realize', 22), ('plus', 22), ('explicitly', 22), ('situations', 22), ('utility', 22), ('visible', 22), ('factor', 22), ('backgroundcolor', 22), ('term', 22), ('triangle', 22), ('wonder', 22), ('four', 22), ('deal', 22), ('batch', 22), ('mouse', 22), ('account', 22), ('angular', 22), ('sec', 22), ('followed', 22), ('html5', 22), ('o2', 22), ('bool', 22), ('dialog', 22), ('apple', 22), ('td', 22), ('stdstring', 22), ('searched', 22), ('executable', 22), ('production', 22), ('repositories', 22), ('dynamic', 22), ('stuck', 22), ('manual', 22), ('implementations', 22), ('strtok', 22), ('entirely', 22), ('advantages', 22), ('instructions', 22), ('tutorial', 22), ('believe', 22), ('apk', 22), ('accepted', 22), ('passing', 22), ('curious', 22), ('discussion', 22), ('individual', 22), ('pulled', 22), ('fit', 22), ('goal', 22), ('relevant', 22), ('animal', 22), ('job', 21), ('directive', 21), ('checks', 21), ('piece', 21), ('progress', 21), ('maven', 21), ('liststring', 21), ('online', 21), ('nonuser', 21), ('dict', 21), ('phone', 21), ('press', 21), ('operating', 21), ('microsoft', 21), ('wikipedia', 21), ('w', 21), ('res', 21), ('sites', 21), ('identity', 21), ('cmd', 21), ('such', 21), ('containers', 21), ('kill', 21), ('condition', 21), ('third', 21), ('virtualenv', 21), ('removed', 21), ('ms', 21), ('symbols', 21), ('vertically', 21), ('subject', 21), ('love', 21), ('apps', 21), ('permissions', 21), ('naming', 21), ('super', 21), ('40', 21), ('systems', 21), ('cgi', 21), ('plugins', 21), ('padding', 21), ('high', 21), ('behind', 21), ('styles', 21), ('newline', 21), ('duplicates', 21), ('updates', 21), ('maximum', 21), ('retrieve', 21), ('candidate', 21), ('realized', 21), ('sequence', 21), ('initself', 20), ('disk', 20), ('threads', 20), ('possibly', 20), ('returning', 20), ('dll', 20), ('addsd', 20), ('pick', 20), ('optimization', 20), ('huge', 20), ('haskell', 20), ('wget', 20), ('notice', 20), ('blank', 20), ('popcnt', 20), ('follow', 20), ('receive', 20), ('21', 20), ('wrote', 20), ('disabled', 20), ('updating', 20), ('laptop', 20), ('fork', 20), ('datatable', 20), ('desktop', 20), ('raw', 20), ('clicks', 20), ('val', 20), ('implementing', 20), ('corresponding', 20), ('symbol', 20), ('can', 20), ('complicated', 20), ('imports', 20), ('beta', 20), ('minutes', 20), ('more', 20), ('simpler', 20), ('strange', 20), ('absolute', 20), ('easiest', 20), ('pragma', 20), ('cross', 20), ('pros', 20), ('blah', 20), ('inheritance', 20), ('paths', 20), ('2012', 20), ('internal', 20), ('year', 20), ('regarding', 20), ('onclick', 20), ('axis', 20), ('cloned', 20), ('knowing', 20), ('alias', 20), ('safari', 20), ('mulsd', 20), ('intent', 20), ('hit', 20), ('attempting', 19), ('man', 19), ('refer', 19), ('converting', 19), ('beginning', 19), ('wrap', 19), ('iis', 19), ('was', 19), ('fi', 19), ('na', 19), ('parsing', 19), ('deleting', 19), ('strict', 19), ('onto', 19), ('facebook', 19), ('modern', 19), ('middle', 19), ('its', 19), ('programmatically', 19), ('initialize', 19), ('patch', 19), ('originally', 19), ('dynamically', 19), ('stringbuilder', 19), ('jdk', 19), ('dev', 19), ('talk', 19), ('car', 19), ('opposed', 19), ('video', 19), ('figured', 19), ('anymore', 19), ('auto', 19), ('older', 19), ('18', 19), ('about', 19), ('clang', 19), ('merging', 19), ('decided', 19), ('cc', 19), ('showing', 19), ('psql', 19), ('clicking', 19), ('mainstring', 19), ('sending', 19), ('nsstring', 19), ('hack', 19), ('decide', 19), ('escape', 19), ('once', 19), ('larger', 19), ('measure', 19), ('timeout', 19), ('discard', 19), ('both', 19), ('definitely', 19), ('listed', 19), ('factorcount', 18), ('cons', 18), ('500', 18), ('scala', 18), ('warn', 18), ('frameworks', 18), ('supports', 18), ('tracked', 18), ('at', 18), ('shared', 18), ('200', 18), ('restful', 18), ('kwargs', 18), ('validation', 18), ('children', 18), ('received', 18), ('servers', 18), ('prefix', 18), ('ugly', 18), ('any', 18), ('rid', 18), ('meant', 18), ('https', 18), ('base64', 18), ('greater', 18), ('entities', 18), ('bits', 18), ('serrmsg', 18), ('paste', 18), ('ifmodule', 18), ('technical', 18), ('dates', 18), ('popular', 18), ('down', 18), ('deprecated', 18), ('setuppy', 18), ('cars', 18), ('benefits', 18), ('editing', 18), ('combination', 18), ('knows', 18), ('lambda', 18), ('244', 18), ('company', 18), ('baz', 18), ('navigation', 18), ('clock', 18), ('posts', 18), ('1l', 18), ('font', 18), ('construct', 18), ('cd', 18), ('moving', 18), ('normally', 18), ('familiar', 18), ('putting', 18), ('fastest', 18), ('generally', 18), ('hope', 18), ('theme', 17), ('androidlayoutwidthwrapcontent', 17), ('ignored', 17), ('debugging', 17), ('tuples', 17), ('passwords', 17), ('o3', 17), ('twice', 17), ('blue', 17), ('literal', 17), ('s1', 17), ('copying', 17), ('major', 17), ('gui', 17), ('capture', 17), ('located', 17), ('taking', 17), ('arraylist', 17), ('learned', 17), ('postgres', 17), ('whereas', 17), ('i0', 17), ('cookies', 17), ('configured', 17), ('notepad', 17), ('conversion', 17), ('gradle', 17), ('business', 17), ('sets', 17), ('active', 17), ('annoying', 17), ('mipmap', 17), ('requested', 17), ('everywhere', 17), ('await', 17), ('max', 17), ('sqlite3execdb', 17), ('dealing', 17), ('dosomething', 17), ('radio', 17), ('bin', 17), ('displays', 17), ('play', 17), ('detail', 17), ('vm', 17), ('slower', 17), ('these', 17), ('mark', 17), ('cpu', 17), ('embedded', 17), ('five', 17), ('conflicts', 17), ('clicked', 17), ('creation', 17), ('whose', 17), ('interpreter', 17), ('gone', 17), ('outputs', 17), ('csv', 17), ('distinct', 17), ('iphone', 17), ('mylist', 17), ('gem', 17), ('dictionaries', 17), ('fill', 17), ('letters', 17), ('lps', 17), ('giving', 17), ('only', 17), ('nvm', 17), ('snippet', 16), ('drive', 16), ('shortcut', 16), ('tracking', 16), ('arrow', 16), ('uint64t', 16), ('commandline', 16), ('okay', 16), ('squash', 16), ('among', 16), ('clever', 16), ('parts', 16), ('64bit', 16), ('assign', 16), ('directions', 16), ('states', 16), ('unknown', 16), ('transfer', 16), ('encode', 16), ('typecheckbox', 16), ('imported', 16), ('opacity', 16), ('overwrite', 16), ('slightly', 16), ('neither', 16), ('28', 16), ('touch', 16), ('24', 16), ('definitions', 16), ('somebody', 16), ('ensure', 16), ('taken', 16), ('algorithms', 16), ('clients', 16), ('saved', 16), ('confusing', 16), ('64', 16), ('clipboard', 16), ('df', 16), ('impossible', 16), ('typing', 16), ('powershell', 16), ('githubcom', 16), ('team', 16), ('tells', 16), ('brew', 16), ('xyz', 16), ('immediately', 16), ('savedinstancestate', 16), ('printing', 16), ('ip', 16), ('maintain', 16), ('enable', 16), ('dispatch', 16), ('pythonic', 16), ('binbash', 16), ('ready', 16), ('occurs', 16), ('merged', 16), ('manage', 16), ('webpage', 16), ('enabled', 16), ('workaround', 16), ('refresh', 16), ('license', 16), ('icons', 16), ('programmers', 16), ('redux', 16), ('produces', 16), ('understood', 16), ('19', 16), ('pressed', 16), ('comparing', 15), ('linearlayout', 15), ('preferable', 15), ('tricks', 15), ('objectivec', 15), ('faq', 15), ('earlier', 15), ('clearly', 15), ('45', 15), ('factory', 15), ('centered', 15), ('administrator', 15), ('emulator', 15), ('sit', 15), ('restore', 15), ('purposes', 15), ('xxx', 15), ('leaving', 15), ('27', 15), ('introduced', 15), ('causing', 15), ('extremely', 15), ('research', 15), ('dog', 15), ('a1', 15), ('activities', 15), ('70', 15), ('numeric', 15), ('denied', 15), ('defining', 15), ('anonymous', 15), ('ewindowmanager', 15), ('dropdown', 15), ('months', 15), ('typical', 15), ('differ', 15), ('bind', 15), ('develop', 15), ('uri', 15), ('pure', 15), ('life', 15), ('dplyr', 15), ('blog', 15), ('resize', 15), ('smaller', 15), ('told', 15), ('linked', 15), ('cool', 15), ('17', 15), ('crashes', 15), ('offer', 15), ('specification', 15), ('beyond', 15), ('01', 15), ('breaks', 15), ('comma', 15), ('posted', 15), ('executes', 15), ('listview', 15), ('describe', 15), ('endif', 15), ('labels', 15), ('power', 15), ('opening', 15), ('advantage', 15), ('sign', 15), ('binding', 15), ('androidlayoutwidthfillparent', 15), ('union', 15), ('initpy', 15), ('compiling', 15), ('vector', 15), ('encoded', 15), ('signature', 15), ('my', 15), ('ends', 15), ('attached', 15), ('ioc', 15), ('calculate', 15), ('sun', 15), ('oct', 15), ('complexity', 15), ('divs', 15), ('firebug', 15), ('topic', 15), ('bitmap', 15), ('typename', 15), ('doc', 15), ('boxes', 15), ('xmm0mmword', 15), ('delegate', 15), ('sed', 15), ('series', 15), ('bring', 15), ('reverse', 15), ('databases', 14), ('counter', 14), ('msdn', 14), ('heroku', 14), ('classframe', 14), ('designed', 14), ('existence', 14), ('indexhtml', 14), ('num', 14), ('effects', 14), ('doesnt', 14), ('unstage', 14), ('certificate', 14), ('len', 14), ('inserted', 14), ('assigned', 14), ('matrix', 14), ('inherit', 14), ('ability', 14), ('cover', 14), ('ahead', 14), ('approaches', 14), ('readonly', 14), ('tmp', 14), ('foreign', 14), ('actions', 14), ('selects', 14), ('pop', 14), ('mynewfeature', 14), ('bower', 14), ('sqlitetransient', 14), ('xmm13', 14), ('yield', 14), ('flex', 14), ('essentially', 14), ('hold', 14), ('5px', 14), ('installation', 14), ('imageview', 14), ('yi', 14), ('tested', 14), ('associated', 14), ('turns', 14), ('off', 14), ('causes', 14), ('uncaught', 14), ('pos', 14), ('dump', 14), ('removes', 14), ('begin', 14), ('handles', 14), ('mobile', 14), ('ipsum', 14), ('43', 14), ('explicit', 14), ('pythons', 14), ('compilation', 14), ('recognize', 14), ('hierarchy', 14), ('implicit', 14), ('typeerror', 14), ('mechanism', 14), ('specifying', 14), ('colors', 14), ('resulting', 14), ('upgrade', 14), ('transparent', 14), ('aspect', 14), ('logs', 14), ('favorite', 14), ('codes', 14), ('dir', 14), ('collections', 14), ('promise', 14), ('ascii', 14), ('movsd', 14), ('viewpager', 14), ('addresses', 14), ('zero', 14), ('pixels', 14), ('outer', 14), ('alert', 14), ('iterating', 14), ('srchttpjsfiddlenetimglogopng', 14), ('limited', 14), ('flash', 14), ('animation', 14), ('knowledge', 14), ('spam', 14), ('round', 14), ('staging', 14), ('hence', 14), ('took', 14), ('apart', 14), ('sqlite3bindtextstmt', 14), ('initialized', 14), ('vertical', 14), ('listen', 14), ('formatted', 14), ('community', 14), ('necessarily', 14), ('delay', 14), ('jslint', 13), ('archive', 13), ('eval', 13), ('msg', 13), ('rendered', 13), ('strong', 13), ('edge', 13), ('displaying', 13), ('accessing', 13), ('meta', 13), ('outerscopevar', 13), ('ex', 13), ('compiles', 13), ('tostring', 13), ('convention', 13), ('applies', 13), ('blocks', 13), ('bound', 13), ('193519', 13), ('feeling', 13), ('replaced', 13), ('members', 13), ('groups', 13), ('typesubmit', 13), ('clarify', 13), ('domain', 13), ('particularly', 13), ('uiview', 13), ('totally', 13), ('models', 13), ('initially', 13), ('staged', 13), ('summary', 13), ('googled', 13), ('uiscrollview', 13), ('tablea', 13), ('lower', 13), ('live', 13), ('screenshot', 13), ('authorization', 13), ('mb', 13), ('c11', 13), ('reasonable', 13), ('jump', 13), ('stdin', 13), ('launch', 13), ('renamed', 13), ('lf', 13), ('performing', 13), ('subversion', 13), ('tail', 13), ('retrying', 13), ('10000', 13), ('workflow', 13), ('connections', 13), ('aout', 13), ('described', 13), ('filenames', 13), ('spring', 13), ('sorted', 13), ('nodes', 13), ('404', 13), ('mostly', 13), ('six', 13), ('crash', 13), ('hover', 13), ('pair', 13), ('5s', 13), ('preview', 13), ('articles', 13), ('notes', 13), ('scratch', 13), ('multiline', 13), ('happy', 13), ('repeat', 13), ('sub', 13), ('playing', 13), ('cast', 13), ('lose', 13), ('technique', 13), ('stylesheet', 13), ('pixel', 13), ('scenarios', 13), ('confusion', 13), ('grab', 13), ('helpful', 13), ('digits', 13), ('easyinstall', 13), ('desired', 13), ('textarea', 13), ('indeed', 13), ('subdirectories', 13), ('finish', 13), ('5570000', 13), ('avg', 13), ('styling', 13), ('pairs', 13), ('tabs', 13), ('notation', 13), ('difficult', 13), ('concepts', 13), ('injection', 13), ('sqrt', 13), ('limit', 13), ('when', 13), ('31', 13), ('potentially', 13), ('devices', 13), ('maps', 13), ('2005', 13), ('recommend', 13), ('attach', 13), ('keeping', 13), ('occurred', 13), ('where', 13), ('oracle', 13), ('imagine', 13), ('distance', 13), ('closing', 13), ('formatting', 13), ('game', 12), ('ide', 12), ('stl', 12), ('requirement', 12), ('ease', 12), ('documentreadyfunction', 12), ('mainly', 12), ('perfectly', 12), ('coverage', 12), ('trick', 12), ('pushing', 12), ('convenient', 12), ('between', 12), ('settimeout', 12), ('moved', 12), ('management', 12), ('margin', 12), ('logged', 12), ('black', 12), ('while', 12), ('processes', 12), ('manifest', 12), ('tablename', 12), ('egginfo', 12), ('interview', 12), ('nil', 12), ('advice', 12), ('category', 12), ('pfile', 12), ('happened', 12), ('2nd', 12), ('direction', 12), ('own', 12), ('verify', 12), ('went', 12), ('recognized', 12), ('detailed', 12), ('textbox', 12), ('packagename', 12), ('provider', 12), ('benefit', 12), ('oncreate', 12), ('mv', 12), ('sys', 12), ('inputs', 12), ('lead', 12), ('drawable', 12), ('loads', 12), ('considering', 12), ('pc', 12), ('hate', 12), ('than', 12), ('spec', 12), ('million', 12), ('dont', 12), ('downloading', 12), ('curly', 12), ('mkdir', 12), ('surprised', 12), ('independent', 12), ('incorrect', 12), ('room', 12), ('cycle', 12), ('conditional', 12), ('orders', 12), ('safety', 12), ('debugger', 12), ('green', 12), ('generates', 12), ('straightforward', 12), ('placed', 12), ('ideal', 12), ('inc', 12), ('accessible', 12), ('graph', 12), ('gotten', 12), ('align', 12), ('tutorials', 12), ('copied', 12), ('closed', 12), ('jsonp', 12), ('sounds', 12), ('aptget', 12), ('guidelines', 12), ('cpp', 12), ('trailing', 12), ('heap', 12), ('customers', 12), ('rectangle', 12), ('concept', 12), ('scaling', 12), ('x86', 12), ('hi', 12), ('09', 12), ('numpy', 12), ('eventually', 12), ('datatype', 12), ('suggests', 12), ('stdvectorint', 12), ('parallel', 12), ('mysqlconfig', 12), ('typed', 12), ('ids', 12), ('c1', 12), ('http11', 12), ('month', 12), ('worry', 12), ('myobject', 12), ('concerned', 12), ('addition', 12), ('navigate', 12), ('rake', 12), ('hearing', 12), ('previously', 12), ('plot', 12), ('floating', 12), ('those', 12), ('typedef', 12), ('entries', 12), ('migration', 12), ('stdioh', 12), ('wrapping', 12), ('magic', 12), ('front', 12), ('fresh', 12), ('finished', 12), ('demo', 12), ('resharper', 12), ('puts', 12), ('userid', 12), ('architecture', 12), ('did', 12), ('72', 12), ('thomas', 12), ('cherrypick', 12), ('iteration', 12), ('sleep', 12), ('joins', 12), ('released', 12), ('customer', 12), ('half', 12), ('sizes', 12), ('role', 12), ('initandlisten', 12), ('personal', 12), ('signed', 12), ('readme', 12), ('concise', 12), ('declared', 12), ('pointers', 12), ('pipe', 12), ('tasks', 12), ('trivial', 12), ('encryption', 12), ('practical', 12), ('digit', 12), ('di', 12), ('directives', 12), ('sublime', 11), ('should', 11), ('suggestion', 11), ('silly', 11), ('vi', 11), ('conflict', 11), ('raise', 11), ('56', 11), ('34', 11), ('theory', 11), ('weve', 11), ('horizontally', 11), ('possibility', 11), ('shutdown', 11), ('card', 11), ('conditions', 11), ('affect', 11), ('63', 11), ('bitwise', 11), ('svg', 11), ('representation', 11), ('reactcreateclass', 11), ('some', 11), ('thrown', 11), ('clause', 11), ('icon', 11), ('failure', 11), ('typically', 11), ('logging', 11), ('cost', 11), ('just', 11), ('referenced', 11), ('broken', 11), ('decode', 11), ('typeof', 11), ('serverside', 11), ('prototype', 11), ('generating', 11), ('bold', 11), ('watch', 11), ('temp', 11), ('fontsize', 11), ('embed', 11), ('cout', 11), ('hear', 11), ('money', 11), ('moduleexports', 11), ('subclass', 11), ('remain', 11), ('32bit', 11), ('xmm2', 11), ('compilers', 11), ('anchor', 11), ('near', 11), ('initialization', 11), ('cached', 11), ('circumstances', 11), ('respect', 11), ('review', 11), ('intermediate', 11), ('resolution', 11), ('secure', 11), ('occur', 11), ('because', 11), ('similarly', 11), ('criteria', 11), ('legacy', 11), ('contained', 11), ('versa', 11), ('submitted', 11), ('leave', 11), ('paw', 11), ('displayname', 11), ('semantics', 11), ('feels', 11), ('declaring', 11), ('appreciate', 11), ('xmm3', 11), ('relatively', 11), ('xmlhttprequest', 11), ('serve', 11), ('converted', 11), ('tries', 11), ('newly', 11), ('luck', 11), ('dostuff', 11), ('pdf', 11), ('pgconfig', 11), ('backup', 11), ('closures', 11), ('turned', 11), ('forget', 11), ('braces', 11), ('fire', 11), ('vice', 11), ('mod', 11), ('alone', 11), ('schema', 11), ('immutable', 11), ('odd', 11), ('864913', 11), ('referencing', 11), ('38', 11), ('indicate', 11), ('choosing', 11), ('todo', 11), ('engine', 11), ('dolor', 11), ('myarray', 11), ('declarations', 11), ('tomcat', 11), ('analysis', 11), ('encountered', 11), ('grid', 11), ('brackets', 11), ('fired', 11), ('revision', 11), ('matters', 11), ('regardless', 11), ('ofast', 11), ('bots', 11), ('consumer', 11), ('transition', 11), ('perfect', 11), ('iterator', 11), ('readable', 11), ('compatibility', 11), ('dependent', 11), ('tuple', 11), ('hashing', 11), ('cookie', 11), ('english', 11), ('placeholder', 11), ('filled', 11), ('trigger', 11), ('transport', 11), ('preferably', 11), ('useless', 11), ('timezone', 11), ('crap', 11), ('mystring', 11), ('pointed', 11), ('upstream', 11), ('assignment', 11), ('clue', 11), ('int32', 10), ('garbage', 10), ('mixed', 10), ('versus', 10), ('uitextview', 10), ('assumed', 10), ('60', 10), ('es6', 10), ('equality', 10), ('androidviewviewgroupdispatchkeyeventviewgroupjava1112', 10), ('surely', 10), ('underlying', 10), ('unnecessary', 10), ('df1', 10), ('arrayliststring', 10), ('cycles', 10), ('skip', 10), ('expects', 10), ('attempted', 10), ('numerical', 10), ('telling', 10), ('consistent', 10), ('extensions', 10), ('jpeg', 10), ('overhead', 10), ('rotation', 10), ('weird', 10), ('intel', 10), ('newbie', 10), ('concatenate', 10), ('products', 10), ('manipulation', 10), ('copies', 10), ('scheme', 10), ('2011', 10), ('additionally', 10), ('forked', 10), ('keywords', 10), ('wildcard', 10), ('unstaged', 10), ('fires', 10), ('noexcept', 10), ('indexing', 10), ('opinion', 10), ('direct', 10), ('50px', 10), ('accidentally', 10), ('boss', 10), ('writes', 10), ('googling', 10), ('city', 10), ('plan', 10), ('textalign', 10), ('honest', 10), ('devel', 10), ('fun', 10), ('non', 10), ('evaluated', 10), ('flow', 10), ('certainly', 10), ('optimize', 10), ('responses', 10), ('typescript', 10), ('constantly', 10), ('representing', 10), ('committing', 10), ('bigger', 10), ('55', 10), ('personid', 10), ('scrolling', 10), ('controls', 10), ('recreate', 10), ('amt', 10), ('rewrite', 10), ('soon', 10), ('cut', 10), ('defaultvalue', 10), ('report', 10), ('worth', 10), ('suspect', 10), ('100px', 10), ('bounds', 10), ('pieces', 10), ('circle', 10), ('subset', 10), ('stderr', 10), ('mess', 10), ('53', 10), ('searches', 10), ('300', 10), ('brsome', 10), ('javas', 10), ('switching', 10), ('rendering', 10), ('argc', 10), ('potential', 10), ('yyy', 10), ('straight', 10), ('gmt', 10), ('jenine', 10), ('uninstall', 10), ('hg', 10), ('sorting', 10), ('ssl', 10), ('reduce', 10), ('virtualhost', 10), ('del', 10), ('ab', 10), ('superoncreatesavedinstancestate', 10), ('offset', 10), ('printf', 10), ('fibo', 10), ('overload', 10), ('discovered', 10), ('templateurl', 10), ('thoughts', 10), ('cell', 10), ('btw', 10), ('yellow', 10), ('hashtable', 10), ('appjs', 10), ('05', 10), ('intended', 10), ('instantiate', 10), ('handled', 10), ('41959360000', 10), ('opened', 10), ('libs', 10), ('focused', 10), ('worse', 10), ('internally', 10), ('invoke', 10), ('codebase', 10), ('oncreatebundle', 10), ('saving', 10), ('replacing', 10), ('limenu', 10), ('flag', 10), ('constraints', 10), ('depends', 10), ('az', 10), ('suit', 10), ('bundle', 10), ('matplotlib', 10), ('75', 10), ('computers', 10), ('hours', 10), ('somewhat', 10), ('win32', 10), ('besides', 10), ('applicationjson', 10), ('90', 10), ('widget', 10), ('adapter', 10), ('draw', 10), ('filetxt', 10), ('dirname', 10), ('serializable', 10), ('asynchronous', 10), ('flat', 10), ('8080', 9), ('letter', 9), ('mercurial', 9), ('helped', 9), ('synchronous', 9), ('scan', 9), ('67', 9), ('tensorflow', 9), ('transform', 9), ('w3c', 9), ('endl', 9), ('attention', 9), ('registered', 9), ('player', 9), ('occasionally', 9), ('cmp', 9), ('slice', 9), ('n1', 9), ('applying', 9), ('px', 9), ('uilabel', 9), ('utc', 9), ('interest', 9), ('stick', 9), ('arithmetic', 9), ('answered', 9), ('redis', 9), ('refers', 9), ('successful', 9), ('idiomatic', 9), ('flavors', 9), ('dcodegt2git', 9), ('h1', 9), ('dockerfile', 9), ('maintaining', 9), ('nicely', 9), ('setters', 9), ('mydata', 9), ('applicantposition', 9), ('uptodate', 9), ('col1', 9), ('skeleton', 9), ('expose', 9), ('usual', 9), ('occurrences', 9), ('lastname', 9), ('stage', 9), ('derived', 9), ('greatly', 9), ('copyright', 9), ('positive', 9), ('isquare', 9), ('fly', 9), ('ordered', 9), ('gitconfig', 9), ('modifying', 9), ('mentions', 9), ('deep', 9), ('wcf', 9), ('protocol', 9), ('comparable', 9), ('explanations', 9), ('automatic', 9), ('resides', 9), ('tbody', 9), ('caused', 9), ('bonus', 9), ('96', 9), ('canonical', 9), ('videos', 9), ('metadata', 9), ('daemon', 9), ('consolelog', 9), ('levels', 9), ('improve', 9), ('orm', 9), ('tableb', 9), ('sh', 9), ('messed', 9), ('installs', 9), ('sorts', 9), ('applicant', 9), ('providing', 9), ('waiting', 9), ('websites', 9), ('idiom', 9), ('identical', 9), ('jackson', 9), ('importing', 9), ('n2', 9), ('helps', 9), ('hashmapstring', 9), ('rejected', 9), ('permanent', 9), ('effective', 9), ('col', 9), ('timestamp', 9), ('pypy', 9), ('junit', 9), ('png', 9), ('builder', 9), ('alignment', 9), ('identifier', 9), ('dummy', 9), ('stay', 9), ('fonts', 9), ('xi', 9), ('homebrew', 9), ('implies', 9), ('suffix', 9), ('bean', 9), ('arraysize', 9), ('differently', 9), ('parser', 9), ('marked', 9), ('std', 9), ('66', 9), ('populate', 9), ('yesterday', 9), ('ratio', 9), ('emails', 9), ('productid', 9), ('bugs', 9), ('xx', 9), ('q', 9), ('impact', 9), ('entered', 9), ('mistake', 9), ('frontend', 9), ('b1', 9), ('connecting', 9), ('asks', 9), ('numerous', 9), ('covered', 9), ('panel', 9), ('justifyself', 9), ('distributed', 9), ('interactive', 9), ('minimum', 9), ('xmm14', 9), ('picture', 9), ('234', 9), ('listening', 9), ('bare', 9), ('myself', 9), ('integration', 9), ('despite', 9), ('controllers', 9), ('boolvalue', 9), ('s2', 9), ('closure', 9), ('detached', 9), ('profile', 9), ('detection', 9), ('hibernate', 9), ('keeps', 9), ('populated', 9), ('consistently', 9), ('jquerys', 9), ('singular', 9), ('logical', 9), ('engines', 9), ('explaining', 9), ('portable', 9), ('players', 9), ('efficiently', 9), ('smart', 9), ('defaults', 9), ('minimumlength', 9), ('validate', 9), ('increment', 9), ('respectively', 9), ('temporary', 9), ('prop', 8), ('chromes', 8), ('cp', 8), ('equally', 8), ('fixes', 8), ('applicable', 8), ('stupid', 8), ('delegates', 8), ('88', 8), ('documentid', 8), ('iostream', 8), ('inserting', 8), ('1px', 8), ('difficulty', 8), ('popup', 8), ('v4030319', 8), ('crazy', 8), ('substring', 8), ('demonstrate', 8), ('encodingutf8', 8), ('leaves', 8), ('jane', 8), ('router', 8), ('listener', 8), ('applesdo', 8), ('crossplatform', 8), ('2l', 8), ('assets', 8), ('quantity', 8), ('selfx', 8), ('descending', 8), ('mainint', 8), ('indentation', 8), ('eq', 8), ('stackoverflow', 8), ('suddenly', 8), ('corrupt', 8), ('cloud', 8), ('grouping', 8), ('they', 8), ('tee', 8), ('guideline', 8), ('restart', 8), ('selectors', 8), ('significant', 8), ('killed', 8), ('lack', 8), ('media', 8), ('siteb', 8), ('column1', 8), ('nonnull', 8), ('x86apache', 8), ('compared', 8), ('firstname', 8), ('covers', 8), ('fiddle', 8), ('somestring', 8), ('pay', 8), ('104', 8), ('selection', 8), ('84', 8), ('camera', 8), ('weak', 8), ('md5', 8), ('typehidden', 8), ('higher', 8), ('doctype', 8), ('leading', 8), ('col2', 8), ('servlet', 8), ('401', 8), ('accepts', 8), ('xmlnsandroidhttpschemasandroidcomapkresandroid', 8), ('36', 8), ('78', 8), ('standards', 8), ('technically', 8), ('overriding', 8), ('sorry', 8), ('cocoa', 8), ('oop', 8), ('kept', 8), ('screens', 8), ('41', 8), ('fontweight', 8), ('planning', 8), ('mock', 8), ('refactoring', 8), ('suitable', 8), ('oh', 8), ('rfc', 8), ('nav', 8), ('choices', 8), ('edited', 8), ('bcrypt', 8), ('upgraded', 8), ('flask', 8), ('assembler', 8), ('stashed', 8), ('autoincrement', 8), ('disabling', 8), ('distribute', 8), ('setupposixpy', 8), ('errormessage', 8), ('opens', 8), ('alternatively', 8), ('outline', 8), ('tocolor', 8), ('throwing', 8), ('adjust', 8), ('plorem', 8), ('payload', 8), ('errorlog', 8), ('party', 8), ('deployment', 8), ('20111231', 8), ('repos', 8), ('machines', 8), ('mime', 8), ('principle', 8), ('involve', 8), ('keyup', 8), ('beginner', 8), ('proxy', 8), ('wc', 8), ('partial', 8), ('encounter', 8), ('relation', 8), ('avail', 8), ('overflows', 8), ('concrete', 8), ('uiviewcontroller', 8), ('attempts', 8), ('overview', 8), ('latter', 8), ('breaking', 8), ('amp', 8), ('classbtn', 8), ('expand', 8), ('techniques', 8), ('58', 8), ('disadvantages', 8), ('stumbled', 8), ('st', 8), ('vote', 8), ('limitation', 8), ('sha1', 8), ('xcrun', 8), ('benchmarks', 8), ('lea', 8), ('lambdas', 8), ('enumeration', 8), ('getconfig', 8), ('period', 8), ('adb', 8), ('connected', 8), ('subsequent', 8), ('central', 8), ('pro', 8), ('reports', 8), ('leak', 8), ('objectoriented', 8), ('sources', 8), ('behave', 8), ('recover', 8), ('requesturi', 8), ('randomly', 8), ('had', 8), ('manner', 8), ('overwritten', 8), ('usrlocalvarpostgres', 8), ('elit', 8), ('msysgit', 8), ('completed', 8), ('plenty', 8), ('txt', 8), ('preference', 8), ('powerful', 8), ('hundreds', 8), ('argv', 8), ('xor', 8), ('cells', 8), ('rely', 8), ('simplified', 8), ('expecting', 8), ('price', 8), ('crlf', 8), ('stopped', 8), ('indent', 8), ('skype', 8), ('mmessagesfragment', 8), ('solved', 8), ('iisexpressexe', 8), ('challenge', 8), ('indicates', 8), ('fancy', 8), ('supplied', 8), ('zip', 8), ('hr', 8), ('lately', 8), ('elapsed', 8), ('stores', 8), ('unclear', 8), ('welcome', 8), ('aggregate', 8), ('after', 8), ('frequently', 8), ('commas', 8), ('rebuild', 8), ('tips', 8), ('pgctl', 8), ('forums', 8), ('clarification', 8), ('markdown', 8), ('68', 8), ('allowing', 8), ('annotation', 8), ('chmod', 8), ('repeated', 8), ('ended', 8), ('socket', 8), ('primitive', 8), ('leads', 8), ('dogs', 8), ('sizet', 8), ('recreating', 8), ('unsure', 8), ('guys', 8), ('reads', 8), ('resheader', 8), ('403', 8), ('fingerprint', 8), ('stdcout', 8), ('timing', 8), ('illegal', 8), ('introduction', 8), ('htaccess', 8), ('dangerous', 8), ('version10', 8), ('exclude', 8), ('defines', 8), ('liitem', 8), ('ret', 8), ('slide', 8), ('mar', 8), ('httpd', 8), ('numtabs', 8), ('allowoverride', 8), ('overridden', 8), ('lost', 8), ('javadoc', 8), ('sadly', 8), ('dark', 8), ('portion', 8), ('props', 8), ('amet', 8), ('steve', 8), ('classrow', 8), ('guidance', 8), ('aligned', 8), ('backend', 8), ('mytype', 8), ('1s', 8), ('horizontal', 8), ('benchmark', 8), ('sync', 8), ('deploy', 8), ('students', 8), ('concerns', 8), ('identify', 8), ('cwindowsmicrosoftnetframeworkv4030319temporary', 8), ('verticalalign', 8), ('someclass', 7), ('checkboxes', 7), ('formdata', 7), ('retrievedobject', 7), ('ignoring', 7), ('reflector', 7), ('ioexception', 7), ('tend', 7), ('wide', 7), ('recall', 7), ('interchangeably', 7), ('recurse', 7), ('guid', 7), ('indexes', 7), ('cdocuments', 7), ('feature1', 7), ('gzip', 7), ('achieved', 7), ('rounding', 7), ('underscore', 7), ('indicator', 7), ('holding', 7), ('dumb', 7), ('value1', 7), ('deletes', 7), ('quit', 7), ('wants', 7), ('remains', 7), ('62', 7), ('quisque', 7), ('sitea', 7), ('improvement', 7), ('an', 7), ('erlang', 7), ('ternary', 7), ('inversion', 7), ('hosted', 7), ('optimal', 7), ('interviewer', 7), ('generator', 7), ('youtube', 7), ('cleaner', 7), ('clr', 7), ('opinions', 7), ('82', 7), ('ctrl', 7), ('stand', 7), ('highlighted', 7), ('claim', 7), ('tokens', 7), ('looping', 7), ('900', 7), ('prjform', 7), ('globally', 7), ('pressing', 7), ('notification', 7), ('paper', 7), ('depend', 7), ('androidlayoutheightfillparent', 7), ('votes', 7), ('appending', 7), ('opposite', 7), ('forvar', 7), ('dum', 7), ('billion', 7), ('logo', 7), ('spent', 7), ('registry', 7), ('locations', 7), ('evaluates', 7), ('nonclustered', 7), ('launcher', 7), ('uppercase', 7), ('localstorage', 7), ('canvas', 7), ('74', 7), ('toggle', 7), ('streams', 7), ('hashes', 7), ('dirty', 7), ('compatible', 7), ('explains', 7), ('referring', 7), ('terminology', 7), ('roll', 7), ('column2', 7), ('forint', 7), ('implicitly', 7), ('procedure', 7), ('ampersand', 7), ('contact', 7), ('advanced', 7), ('telephone', 7), ('asc', 7), ('lsfiles', 7), ('sessions', 7), ('holds', 7), ('deferred', 7), ('comparisons', 7), ('weeks', 7), ('nicer', 7), ('accesscontrolalloworigin', 7), ('observable', 7), ('bytecode', 7), ('54', 7), ('h2', 7), ('overall', 7), ('myprogram', 7), ('ints', 7), ('est', 7), ('nodemodules', 7), ('theoretical', 7), ('443', 7), ('crashed', 7), ('ellipsis', 7), ('guessing', 7), ('minor', 7), ('strip', 7), ('linear', 7), ('involved', 7), ('getters', 7), ('backgroundimage', 7), ('autowired', 7), ('somelist', 7), ('ac', 7), ('effectively', 7), ('posting', 7), ('belong', 7), ('snippets', 7), ('dictionarystring', 7), ('highly', 7), ('recyclerview', 7), ('generation', 7), ('escaped', 7), ('jsp', 7), ('highlighting', 7), ('contentdisposition', 7), ('23001245622', 7), ('selecting', 7), ('subscriber', 7), ('symbolic', 7), ('unchecked', 7), ('experienced', 7), ('builds', 7), ('helloworldpng', 7), ('gave', 7), ('param2', 7), ('xsrf', 7), ('flags', 7), ('toe', 7), ('params', 7), ('ultimate', 7), ('3rd', 7), ('locate', 7), ('hexadecimal', 7), ('2221v201309180102833290', 7), ('math', 7), ('fontface', 7), ('allocation', 7), ('threw', 7), ('accessed', 7), ('safely', 7), ('sake', 7), ('remaining', 7), ('ngview', 7), ('outcome', 7), ('largest', 7), ('heads', 7), ('respond', 7), ('absolutely', 7), ('pain', 7), ('integrated', 7), ('desc', 7), ('ranges', 7), ('foobar', 7), ('average', 7), ('encrypted', 7), ('ordering', 7), ('grasp', 7), ('mathsqrt', 7), ('repeatedly', 7), ('downloads', 7), ('hosting', 7), ('toolbar', 7), ('appearing', 7), ('table1', 7), ('typefile', 7), ('p2', 7), ('52', 7), ('structures', 7), ('ecmascript', 7), ('mail', 7), ('startup', 7), ('mary', 7), ('302', 7), ('lorenzoenzoerlang', 7), ('variation', 7), ('44', 7), ('adt', 7), ('combine', 7), ('brings', 7), ('wpf', 7), ('spinner', 7), ('cs', 7), ('consideration', 7), ('light', 7), ('98', 7), ('primarily', 7), ('0l', 7), ('uitextfield', 7), ('wip', 7), ('gflops', 7), ('completion', 7), ('mov', 7), ('moves', 7), ('jre', 7), ('experiment', 7), ('111', 7), ('conflicting', 7), ('adipiscing', 7), ('jshint', 7), ('friend', 7), ('var1', 7), ('cheese', 7), ('human', 7), ('ccc', 7), ('market', 7), ('trees', 7), ('destination', 7), ('94', 7), ('tel', 7), ('involves', 7), ('exceeded', 7), ('buffersize', 7), ('basis', 7), ('signs', 7), ('boilerplate', 7), ('onclicklistener', 7), ('thousands', 7), ('statistics', 7), ('eof', 7), ('brought', 7), ('helper', 7), ('1st', 7), ('themselves', 7), ('bucket', 7), ('feb', 7), ('min', 7), ('salt', 7), ('satisfy', 7), ('param', 7), ('jsfiddle', 7), ('ext', 7), ('mmword', 7), ('stringformat', 7), ('resort', 7), ('lion', 7), ('myfunction', 7), ('raised', 7), ('varchar', 7), ('loss', 7), ('tweak', 7), ('semper', 7), ('switched', 7), ('sinputbuf', 7), ('arc', 7), ('mapstring', 7), ('attributenoinline', 7), ('91', 7), ('merges', 7), ('hook', 7), ('constants', 7), ('listt', 7), ('adds', 7), ('brace', 7), ('breakpoints', 7), ('dlls', 7), ('tom', 7), ('unset', 7), ('crossorigin', 7), ('authors', 7), ('generics', 7), ('x64', 7), ('socks', 7), ('rare', 7), ('librarycardid', 7), ('concatenation', 7), ('dt', 7), ('mysqlpython', 7), ('shorthand', 7), ('testobject', 7), ('uploaded', 7), ('99', 7), ('resized', 7), ('matched', 7), ('optimizations', 7), ('corners', 7), ('separately', 7), ('registers', 7), ('pg', 7), ('filesystem', 7), ('definitive', 7), ('rf', 7), ('increase', 7), ('linking', 7), ('env', 7), ('early', 7), ('closest', 7), ('listing', 7), ('1000000', 7), ('timer', 7), ('convoluted', 7), ('gt', 7), ('doubles', 7), ('missed', 7), ('developed', 7), ('recreated', 7), ('pitfalls', 7), ('prjtest', 7), ('intention', 6), ('reasoning', 6), ('opera', 6), ('replacement', 6), ('antipattern', 6), ('wwwexamplecom', 6), ('2d', 6), ('risk', 6), ('81', 6), ('48', 6), ('subprocesses', 6), ('accounts', 6), ('wondered', 6), ('deny', 6), ('represented', 6), ('buckets', 6), ('stays', 6), ('auth', 6), ('experimenting', 6), ('logfile', 6), ('promises', 6), ('sha', 6), ('tiles', 6), ('workon', 6), ('lookup', 6), ('inlineblock', 6), ('var2', 6), ('composite', 6), ('fake', 6), ('axes', 6), ('footer', 6), ('interchangeable', 6), ('edits', 6), ('swiftc', 6), ('dollar', 6), ('2li', 6), ('intptr', 6), ('dest', 6), ('vagrant', 6), ('tldr', 6), ('10px', 6), ('truncate', 6), ('resolved', 6), ('worried', 6), ('20160613', 6), ('pulling', 6), ('interact', 6), ('indices', 6), ('goals', 6), ('df2', 6), ('lxml', 6), ('roundred', 6), ('surprise', 6), ('handlers', 6), ('touched', 6), ('02', 6), ('constructors', 6), ('naive', 6), ('myuser', 6), ('discussions', 6), ('photo', 6), ('tstring', 6), ('cumbersome', 6), ('vendor', 6), ('int11', 6), ('getcustomers', 6), ('serverroot', 6), ('04032009', 6), ('decoding', 6), ('borat', 6), ('runnable', 6), ('newbranch', 6), ('jvm', 6), ('fair', 6), ('255', 6), ('inputnextline', 6), ('mydb', 6), ('ifdef', 6), ('00', 6), ('marker', 6), ('javautildate', 6), ('margintop', 6), ('lt', 6), ('cancel', 6), ('nov', 6), ('locale', 6), ('soap', 6), ('compiletime', 6), ('starttime', 6), ('mysqldump', 6), ('occurrence', 6), ('nullable', 6), ('myapp', 6), ('setuptools', 6), ('feed', 6), ('deployed', 6), ('pager', 6), ('emacs', 6), ('wheel', 6), ('ports', 6), ('600', 6), ('tar', 6), ('branching', 6), ('atomic', 6), ('alternatives', 6), ('000000', 6), ('u64', 6), ('flops', 6), ('attributeerror', 6), ('lifecycle', 6), ('sb', 6), ('table2', 6), ('sd', 6), ('evil', 6), ('04', 6), ('splitting', 6), ('intuitive', 6), ('paging', 6), ('routines', 6), ('arr1', 6), ('0703', 6), ('fontfamily', 6), ('oneliner', 6), ('addtype', 6), ('mynamespace', 6), ('phpini', 6), ('relativelayout', 6), ('orange', 6), ('googles', 6), ('toast', 6), ('constructed', 6), ('experimental', 6), ('italic', 6), ('widely', 6), ('gmail', 6), ('clustered', 6), ('layouts', 6), ('am', 6), ('region', 6), ('repair', 6), ('excellent', 6), ('deploying', 6), ('60629375d0eb12348f9d31933dd348ad0f038435', 6), ('attr', 6), ('uuid', 6), ('stubs', 6), ('owned', 6), ('tmpamaster', 6), ('organize', 6), ('novice', 6), ('ef', 6), ('recursively', 6), ('singletons', 6), ('uibutton', 6), ('offers', 6), ('seemed', 6), ('scripters', 6), ('chance', 6), ('microsofts', 6), ('statics', 6), ('duration', 6), ('capacity', 6), ('upper', 6), ('onsaveinstancestate', 6), ('logger', 6), ('nullptr', 6), ('commonjs', 6), ('synchronized', 6), ('2013', 6), ('86', 6), ('typeradio', 6), ('compute', 6), ('classmyclass', 6), ('scrolled', 6), ('85', 6), ('mon', 6), ('rax', 6), ('crashing', 6), ('blocked', 6), ('claims', 6), ('addint', 6), ('webconfig', 6), ('datac', 6), ('messy', 6), ('ie6', 6), ('de', 6), ('256', 6), ('92', 6), ('req', 6), ('bounty', 6), ('dropping', 6), ('subfolders', 6), ('separator', 6), ('refs', 6), ('realworld', 6), ('instanceof', 6), ('temporarily', 6), ('documentbody', 6), ('128', 6), ('corner', 6), ('fetching', 6), ('acts', 6), ('aside', 6), ('documentready', 6), ('4th', 6), ('trunk', 6), ('strategies', 6), ('alter', 6), ('requirements', 6), ('namecheckboxname', 6), ('2015', 6), ('mapping', 6), ('differs', 6), ('vary', 6), ('unexpectedly', 6), ('instruction', 6), ('slides', 6), ('dicts', 6), ('speak', 6), ('asm', 6), ('publickey', 6), ('yyyymmdd', 6), ('eliminate', 6), ('subclasses', 6), ('listperson', 6), ('tablet', 6), ('meaningful', 6), ('usrbinenv', 6), ('word1', 6), ('surprising', 6), ('doubt', 6), ('printfdn', 6), ('1234', 6), ('pdfs', 6), ('posix', 6), ('describing', 6), ('handy', 6), ('areas', 6), ('subdirectory', 6), ('keypress', 6), ('documentroot', 6), ('bag', 6), ('ending', 6), ('triggered', 6), ('usb', 6), ('dataset', 6), ('trycatch', 6), ('idempotent', 6), ('seo', 6), ('hitting', 6), ('ienumerable', 6), ('shorter', 6), ('fling', 6), ('ifs', 6), ('forth', 6), ('valueerror', 6), ('methodpost', 6), ('kinds', 6), ('appconfig', 6), ('performs', 6), ('sections', 6), ('followsymlinks', 6), ('flux', 6), ('1li', 6), ('interpreted', 6), ('misunderstanding', 6), ('flexdirection', 6), ('acceptable', 6), ('gap', 6), ('till', 6), ('categoryid', 6), ('nexttriangle', 6), ('decision', 6), ('stated', 6), ('fan', 6), ('isnt', 6), ('thisname', 6), ('clientid', 6), ('storycategory', 6), ('idcheckboxid', 6), ('precise', 6), ('underneath', 6), ('wanting', 6), ('whilst', 6), ('amd', 6), ('obscure', 6), ('windowonload', 6), ('qwerty', 6), ('29', 6), ('secs', 6), ('io', 6), ('endregion', 6), ('truefalse', 6), ('afaik', 6), ('dumtwo', 6), ('struggling', 6), ('policy', 6), ('technologies', 6), ('capable', 6), ('webkit', 6), ('ascending', 6), ('relationships', 6), ('mytable', 6), ('feedback', 6), ('popcount', 6), ('networking', 6), ('colour', 6), ('tedious', 6), ('gethashcode', 6), ('cart', 6), ('unmanaged', 6), ('datecreated', 6), ('locking', 6), ('scrollable', 6), ('12345678901', 6), ('destroy', 6), ('href', 6), ('reflection', 6), ('root69f1711a205e', 6), ('nullpointerexception', 6), ('decorator', 6), ('jsdelay', 6), ('2263v2014041518371123206', 6), ('grey', 6), ('aaa', 6), ('hints', 6), ('requirederrormessage', 6), ('represents', 6), ('d1', 6), ('flush', 6), ('isra0', 6), ('zeros', 6), ('graphics', 6), ('forced', 6), ('tcp', 6), ('inefficient', 6), ('heavy', 6), ('layer', 6), ('polymorphism', 6), ('aka', 6), ('lia', 6), ('h3', 6), ('expert', 6), ('awk', 6), ('assert', 6), ('inputstream', 6), ('datadb', 6), ('gather', 6), ('thinks', 6), ('indexed', 6), ('exe', 6), ('staticinstance', 6), ('12345', 6), ('zeroes', 6), ('03', 6), ('uncommitted', 6), ('justifycontent', 6), ('newarray', 6), ('46', 6), ('serverresponseanonymous', 6), ('65', 6), ('obtained', 6), ('january', 6), ('shortcuts', 6), ('tons', 6), ('simulator', 6), ('parsed', 6), ('mybranch', 6), ('perspective', 6), ('hot', 6), ('redirects', 6), ('entering', 6), ('yay', 6), ('critical', 6), ('mileagefeecalculator', 6), ('played', 6), ('enums', 6), ('reach', 6), ('everytime', 6), ('elmah', 6), ('assumption', 6), ('narrow', 6), ('beach', 5), ('mydatabase', 5), ('ycoord', 5), ('callto', 5), ('array1', 5), ('pid', 5), ('homeeugenepublichtmlallthingsnodeprojectsfb2nodemodulesconnectlibhttpjs19815', 5), ('svi', 5), ('hardly', 5), ('pem', 5), ('prior', 5), ('2x2', 5), ('privileges', 5), ('200px', 5), ('nas', 5), ('systemoutprintln', 5), ('relationship', 5), ('communicate', 5), ('cleaned', 5), ('dateofbirth', 5), ('remotely', 5), ('continuous', 5), ('soft', 5), ('storyboard', 5), ('33', 5), ('peoples', 5), ('processed', 5), ('edmx', 5), ('emailbtn', 5), ('serialversionuid', 5), ('uris', 5), ('late', 5), ('clearfix', 5), ('addconst', 5), ('tchrist', 5), ('fall', 5), ('bugfixb', 5), ('attacks', 5), ('puzzle', 5), ('furthermore', 5), ('myfragment', 5), ('svr', 5), ('rotate', 5), ('apartment', 5), ('retrieved', 5), ('efficiency', 5), ('allocate', 5), ('confirm', 5), ('counting', 5), ('pad', 5), ('head1', 5), ('epoch', 5), ('birthday', 5), ('quickest', 5), ('compilesdkversion', 5), ('somecode', 5), ('fixing', 5), ('inunion', 5), ('minus', 5), ('loader', 5), ('word2', 5), ('worst', 5), ('20797227239', 5), ('garage', 5), ('routing', 5), ('stm', 5), ('testinnerhtml', 5), ('multipartformdata', 5), ('serverresponsesetheader', 5), ('x1', 5), ('pointing', 5), ('16px', 5), ('listeners', 5), ('capability', 5), ('srt', 5), ('networkinfo', 5), ('mine', 5), ('textviews', 5), ('ditems', 5), ('convenience', 5), ('degree', 5), ('71', 5), ('layoutmanager', 5), ('compares', 5), ('pomxml', 5), ('cleanup', 5), ('gnu', 5), ('finishes', 5), ('kernel', 5), ('parentheses', 5), ('alternate', 5), ('reflected', 5), ('tolist', 5), ('usability', 5), ('arrows', 5), ('printfd', 5), ('colleague', 5), ('associative', 5), ('value2', 5), ('persons', 5), ('maxdist', 5), ('r10', 5), ('macos', 5), ('calendar', 5), ('cl', 5), ('statically', 5), ('serialize', 5), ('somevariable', 5), ('0px', 5), ('inherited', 5), ('poor', 5), ('hint', 5), ('delays', 5), ('legend', 5), ('400', 5), ('restarted', 5), ('increasing', 5), ('targetsdkversion', 5), ('underline', 5), ('food', 5), ('disappear', 5), ('curiosity', 5), ('continues', 5), ('solving', 5), ('positioned', 5), ('targeting', 5), ('accomplishing', 5), ('succinct', 5), ('credit', 5), ('stacktrace', 5), ('brand', 5), ('knew', 5), ('solves', 5), ('selfclosing', 5), ('filesmicrosoft', 5), ('divide', 5), ('begins', 5), ('selenium', 5), ('preserving', 5), ('unordered', 5), ('aa', 5), ('quote', 5), ('logically', 5), ('oo', 5), ('numargs', 5), ('thank', 5), ('stock', 5), ('nonpackage', 5), ('confuses', 5), ('editors', 5), ('jmime', 5), ('xp', 5), ('rcx', 5), ('abcde', 5), ('hung', 5), ('thearray', 5), ('implications', 5), ('remotespublicmaster', 5), ('0179684827337041', 5), ('ai', 5), ('0363644931698218', 5), ('rc', 5), ('globospathjoinsrcc', 5), ('presumably', 5), ('messagesfragment', 5), ('masterbranch', 5), ('stats', 5), ('restored', 5), ('tens', 5), ('08', 5), ('jars', 5), ('nginx', 5), ('conclusion', 5), ('thu', 5), ('idle', 5), ('currying', 5), ('skipped', 5), ('devdependencies', 5), ('renaming', 5), ('conversions', 5), ('ref', 5), ('iframes', 5), ('technology', 5), ('sdt', 5), ('colon', 5), ('autocomplete', 5), ('lastly', 5), ('asset', 5), ('enclosed', 5), ('peak', 5), ('bugfixa', 5), ('limits', 5), ('beautiful', 5), ('reliably', 5), ('we', 5), ('callq', 5), ('adapted', 5), ('coffeescript', 5), ('classnojs', 5), ('apis', 5), ('00248644019011408', 5), ('became', 5), ('strategy', 5), ('treat', 5), ('mimetype', 5), ('varying', 5), ('animals', 5), ('javalangreflectmethodinvokenativenative', 5), ('usrlocalvarpostgresserverlog', 5), ('pm', 5), ('col3', 5), ('pythonread', 5), ('will', 5), ('seriously', 5), ('protect', 5), ('06', 5), ('str2', 5), ('edition', 5), ('jsx', 5), ('scanner', 5), ('viewing', 5), ('commercial', 5), ('dependencymanagement', 5), ('explained', 5), ('androids', 5), ('unowned', 5), ('serialization', 5), ('losing', 5), ('rarely', 5), ('asyncawait', 5), ('relies', 5), ('perf', 5), ('razor', 5), ('tick', 5), ('i1', 5), ('jne', 5), ('marchnative', 5), ('vendorsjs', 5), ('firstordefault', 5), ('mathematical', 5), ('watching', 5), ('maintenance', 5), ('tbbtiming', 5), ('stmt', 5), ('140', 5), ('forgot', 5), ('bindings', 5), ('pre', 5), ('reporting', 5), ('ngrepeat', 5), ('joined', 5), ('folks', 5), ('textplain', 5), ('cygwin', 5), ('signal', 5), ('receiving', 5), ('webserver', 5), ('variants', 5), ('feeds', 5), ('systemlinq', 5), ('stringlength20', 5), ('sides', 5), ('100000', 5), ('classpath', 5), ('flopscycle', 5), ('exec', 5), ('designs', 5), ('blur5px', 5), ('procedures', 5), ('describes', 5), ('1234567', 5), ('mainpy', 5), ('mistakes', 5), ('paradigm', 5), ('charsetutf8', 5), ('stringvalue', 5), ('converts', 5), ('versioning', 5), ('night', 5), ('v1', 5), ('formatter', 5), ('girl', 5), ('foopy', 5), ('yaml', 5), ('journalmode', 5), ('func', 5), ('vehicle', 5), ('ss', 5), ('v0619', 5), ('preferences', 5), ('over', 5), ('operand', 5), ('selfstatus', 5), ('dbcustomers', 5), ('timings', 5), ('menus', 5), ('hardware', 5), ('overlap', 5), ('objective', 5), ('reflog', 5), ('slows', 5), ('rsa', 5), ('retain', 5), ('afterwards', 5), ('sentence', 5), ('classname', 5), ('bat', 5), ('sally', 5), ('iidentity', 5), ('workint', 5), ('76', 5), ('tricky', 5), ('milliseconds', 5), ('engineer', 5), ('reproduce', 5), ('samples', 5), ('000003', 5), ('commithash', 5), ('probability', 5), ('dropped', 5), ('ngif', 5), ('floats', 5), ('homeeugenepublichtmlallthingsnodeprojectsfb2nodemodulesconnectlibhttpjs16213', 5), ('modification', 5), ('se', 5), ('fits', 5), ('isolated', 5), ('concern', 5), ('recursion', 5), ('jb', 5), ('expiration', 5), ('register', 5), ('wed', 5), ('3d', 5), ('memberexpression', 5), ('a2', 5), ('shopping', 5), ('transparency', 5), ('felt', 5), ('shapes', 5), ('sbr', 5), ('originbugfix', 5), ('callbacks', 5), ('rcxrax', 5), ('emulators', 5), ('unused', 5), ('pseudocode', 5), ('companyid', 5), ('minwidth', 5), ('fd', 5), ('itemn', 5), ('plural', 5), ('datetimes', 5), ('preallocatememory', 5), ('110', 5), ('discussing', 5), ('width100', 5), ('feasible', 5), ('millions', 5), ('reboot', 5), ('placeholders', 5), ('arr', 5), ('peoplelist2addnew', 5), ('data2', 5), ('humans', 5), ('trim', 5), ('variety', 5), ('roslyn', 5), ('consectetur', 5), ('optimized', 5), ('contextcallback', 5), ('101', 5), ('tabsuint', 5), ('db2', 5), ('111111', 5), ('football', 5), ('prune', 5), ('separators', 5), ('libxml2', 5), ('python3', 5), ('passes', 5), ('obsolete', 5), ('em', 5), ('invisible', 5), ('setcontentviewrlayoutmain', 5), ('performed', 5), ('b2', 5), ('homeeugenepublichtmlallthingsnodeprojectsfb2nodemodulesconnectlibpatchjs5020', 5), ('fgets', 5), ('memberexpr', 5), ('androidviewviewlayoutviewjava5611', 5), ('tfs', 5), ('downloadingunpacking', 5), ('onchange', 5), ('sockets', 5), ('recommendations', 5), ('enterprise', 5), ('langen', 5), ('bundler', 5), ('textfield', 5), ('percentage', 5), ('ctx', 5), ('printed', 5), ('mapped', 5), ('hardcoding', 5), ('substantially', 5), ('httpjs52711', 5), ('cpimage', 5), ('routeprovider', 5), ('simplicity', 5), ('has', 5), ('xcoord', 5), ('desirable', 5), ('thirdparty', 5), ('3way', 5), ('alt', 5), ('nuget', 5), ('through', 5), ('eacces', 5), ('universal', 5), ('multiviews', 5), ('kv', 5), ('readmemd', 5), ('ctrlc', 5), ('83', 5), ('unhandled', 5), ('low', 5), ('el', 5), ('ilist', 5), ('hacks', 5), ('surrogate', 5), ('sykes2c11', 5), ('file1', 5), ('interpret', 5), ('slf4j', 5), ('2000', 5), ('evaluate', 5), ('deciding', 5), ('issuing', 5), ('submodules', 5), ('unsupported', 5), ('plt', 5), ('schedule', 5), ('abi', 5), ('2px', 5), ('mimic', 5), ('constructs', 5), ('debian', 5), ('bullets', 5), ('newcont', 5), ('fade', 5), ('superclass', 5), ('expensive', 5), ('servername', 5), ('evidence', 5), ('pkgresources', 5), ('orientation', 5), ('cloning', 5), ('ttc', 5), ('race', 5), ('formats', 5), ('imperative', 5), ('ld', 5), ('webpack', 5), ('classmethod', 5), ('invocation', 5), ('dalviksystemnativestartmainnative', 5), ('sst', 5), ('executioncontext', 5), ('filtering', 5), ('bodypadding', 5), ('456', 5), ('occasional', 5), ('tiendas', 5), ('tpscopemanager', 5), ('rdi', 5), ('142', 5), ('identified', 5), ('dto', 5), ('reliable', 5), ('mutable', 5), ('hes', 5), ('ipython', 5), ('amend', 5), ('unaware', 5), ('deletion', 5), ('parses', 5), ('submitting', 5), ('cstartclock', 5), ('marks', 5), ('malloc', 5), ('impression', 5), ('matlab', 5), ('movie', 5), ('618889', 5), ('failing', 5), ('former', 5), ('842161320', 5), ('texthtml', 5), ('truncated', 5), ('allocated', 5), ('stalledcyclesfrontend', 5), ('separated', 5), ('allowdeny', 5), ('decent', 5), ('signing', 5), ('onclickview', 5), ('gc', 5), ('expressjs', 5), ('stops', 5), ('myname', 5), ('typebutton', 5), ('examine', 5), ('hashcode', 5), ('involving', 5), ('assistance', 5), ('userschietalanpmallcachejson', 5), ('bufsize', 5), ('017968483', 5), ('5570001', 5), ('linkedlist', 5), ('enjoy', 5), ('colleagues', 5), ('functiondata', 5), ('css3', 5), ('determined', 5), ('slider', 4), ('scriptjs', 4), ('opensource', 4), ('subsystem', 4), ('deferreds', 4), ('androidlayoutmarginleft15dp', 4), ('systemthreadingexecutioncontextrunexecutioncontext', 4), ('applicationhostconfig', 4), ('complains', 4), ('defeat', 4), ('guarantee', 4), ('intervention', 4), ('shebang', 4), ('placing', 4), ('napplynames', 4), ('mocking', 4), ('uniqueidentifier', 4), ('jenkins', 4), ('contexts', 4), ('implied', 4), ('examplecom', 4), ('getid', 4), ('ary', 4), ('c2', 4), ('005', 4), ('sender', 4), ('saves', 4), ('materialid', 4), ('culture', 4), ('oauth', 4), ('nevertheless', 4), ('datasets', 4), ('myint', 4), ('ff', 4), ('foreignkey', 4), ('increases', 4), ('commented', 4), ('companies', 4), ('on2', 4), ('blobs', 4), ('comandroidideeclipseadtpackage', 4), ('largely', 4), ('minimal', 4), ('ghz', 4), ('116', 4), ('unsafe', 4), ('train', 4), ('sealed', 4), ('infoempty', 4), ('frequency', 4), ('statictext', 4), ('admin', 4), ('errordocument', 4), ('onresume', 4), ('recursive', 4), ('mul1mul', 4), ('insertion', 4), ('addeventlistener', 4), ('concatenating', 4), ('deneme', 4), ('initialstate', 4), ('c1j', 4), ('homeeugenepublichtmlallthingsnodeprojectsfb2nodemodulesconnectlibhttpjs2079', 4), ('wise', 4), ('invoked', 4), ('computed', 4), ('backups', 4), ('resulted', 4), ('deeper', 4), ('reactive', 4), ('verbose', 4), ('modifier', 4), ('dn', 4), ('0249704354675487', 4), ('prefabulated', 4), ('permanently', 4), ('morning', 4), ('queue', 4), ('somemethod', 4), ('combined', 4), ('mikeos', 4), ('screenshots', 4), ('precision', 4), ('led', 4), ('mytimeoutfunction', 4), ('uploads', 4), ('environments', 4), ('f2c0c72', 4), ('effort', 4), ('randomize', 4), ('purely', 4), ('arg', 4), ('favicon', 4), ('a1j', 4), ('retrieval', 4), ('markers', 4), ('actionbar', 4), ('goto', 4), ('xhr', 4), ('mongod', 4), ('environmenterrors', 4), ('fontstyle', 4), ('viewonclicklistener', 4), ('cleared', 4), ('topten', 4), ('gender', 4), ('truly', 4), ('elem', 4), ('listfootballplayer', 4), ('s3', 4), ('compression', 4), ('handleerror', 4), ('whatsoever', 4), ('value3', 4), ('locked', 4), ('024970435', 4), ('clientside', 4), ('lastnom', 4), ('000008', 4), ('boot', 4), ('mul4mul', 4), ('jwt', 4), ('inspection', 4), ('exposing', 4), ('breakpoint', 4), ('ksg061981', 4), ('601939', 4), ('indication', 4), ('emulate', 4), ('serves', 4), ('divisible', 4), ('gray', 4), ('bulk', 4), ('666', 4), ('tiny', 4), ('nsnumber', 4), ('scanning', 4), ('sucks', 4), ('fname', 4), ('rand', 4), ('specifications', 4), ('receives', 4), ('pops', 4), ('formal', 4), ('draft', 4), ('relate', 4), ('jpa', 4), ('onactivityresult', 4), ('yields', 4), ('disassembly', 4), ('partition', 4), ('systemnanotime', 4), ('roughly', 4), ('number73', 4), ('prefixes', 4), ('mongrel', 4), ('blob', 4), ('customlog', 4), ('newsep', 4), ('terribly', 4), ('fopen', 4), ('runners', 4), ('geturl', 4), ('lowercase', 4), ('mathrandom', 4), ('sum1add', 4), ('extending', 4), ('deserialize', 4), ('dir1', 4), ('volatile', 4), ('spawned', 4), ('16bit', 4), ('staticcast', 4), ('seekbar', 4), ('partially', 4), ('20100101t1200000100', 4), ('mpt99318a', 4), ('enablelevel', 4), ('epreventdefault', 4), ('mul5mul', 4), ('cus', 4), ('mozilla', 4), ('established', 4), ('renders', 4), ('grouped', 4), ('awesome', 4), ('user1', 4), ('casting', 4), ('merely', 4), ('matplotlibpyplot', 4), ('launched', 4), ('lilist', 4), ('architectures', 4), ('linkedhashmap', 4), ('runbehavior', 4), ('prepared', 4), ('clunky', 4), ('o1', 4), ('leaked', 4), ('bumped', 4), ('bugging', 4), ('data1', 4), ('phps', 4), ('terminated', 4), ('releases', 4), ('restarting', 4), ('uninstalled', 4), ('toplevel', 4), ('organization', 4), ('5th', 4), ('fell', 4), ('magenic', 4), ('productive', 4), ('consolewritelinea', 4), ('noncharacters', 4), ('memecom', 4), ('cssiphonecss', 4), ('domains', 4), ('smith', 4), ('predefined', 4), ('webservice', 4), ('3li', 4), ('euler', 4), ('interop', 4), ('et', 4), ('cerr', 4), ('classtocolor', 4), ('dp', 4), ('instantiated', 4), ('listsize', 4), ('00284090070053935', 4), ('customize', 4), ('alphanumeric', 4), ('crossbrowser', 4), ('calculating', 4), ('taskcustomer', 4), ('homezjm1126zjmtestmysitebuildmysqlpythonsetuppy', 4), ('webid', 4), ('secret', 4), ('generatedvaluestrategygenerationtypeidentity', 4), ('rescue', 4), ('threshold', 4), ('outdated', 4), ('persistlevel', 4), ('pictures', 4), ('columnname', 4), ('ancestor', 4), ('stating', 4), ('hardcode', 4), ('frustrating', 4), ('numberofholes', 4), ('pyc', 4), ('originmynewfeature', 4), ('enables', 4), ('protection', 4), ('very', 4), ('036364493', 4), ('131', 4), ('d1j', 4), ('male', 4), ('backed', 4), ('expertise', 4), ('flexend', 4), ('unchanged', 4), ('hey', 4), ('statusid', 4), ('nslog', 4), ('surprisingly', 4), ('measured', 4), ('behaves', 4), ('androidtextsize25sp', 4), ('restricted', 4), ('key1', 4), ('clarity', 4), ('consist', 4), ('chat', 4), ('dead', 4), ('namespaces', 4), ('textfieldtag', 4), ('outputstream', 4), ('whichstring', 4), ('tthey', 4), ('belongs', 4), ('robust', 4), ('evaluation', 4), ('newer', 4), ('widespread', 4), ('androidtextcolora5d4e2', 4), ('flexbox', 4), ('baseline', 4), ('schemes', 4), ('imagebutton', 4), ('fetchtypelazy', 4), ('extern', 4), ('stable', 4), ('rbx', 4), ('caching', 4), ('reloading', 4), ('cdata', 4), ('visit', 4), ('2x', 4), ('viceversa', 4), ('typo', 4), ('originmybranch', 4), ('structured', 4), ('natively', 4), ('macro', 4), ('someobject', 4), ('discusses', 4), ('unity', 4), ('65536', 4), ('millisecond', 4), ('randstring', 4), ('concat', 4), ('ages', 4), ('prettyprint', 4), ('httpclient', 4), ('sound', 4), ('forgotten', 4), ('keystrokes', 4), ('branched', 4), ('colorred', 4), ('str1', 4), ('itunes', 4), ('salts', 4), ('40px', 4), ('raises', 4), ('advance', 4), ('iswaiting', 4), ('commons', 4), ('appcomponent', 4), ('keycode', 4), ('transitions', 4), ('filepath', 4), ('reply', 4), ('pane', 4), ('serverjs', 4), ('projectid', 4), ('executables', 4), ('002486440', 4), ('beside', 4), ('fclose', 4), ('scopeuser', 4), ('overcome', 4), ('behaviorsubject', 4), ('leaks', 4), ('individually', 4), ('addbannerdistancefrombottomconstraintconstant', 4), ('readability', 4), ('unload', 4), ('driven', 4), ('practically', 4), ('reuse', 4), ('otherobj', 4), ('producing', 4), ('contentlength', 4), ('measurements', 4), ('vbnet', 4), ('t2', 4), ('agent', 4), ('macbook', 4), ('screenheight', 4), ('elsewhere', 4), ('androidorientationvertical', 4), ('600016', 4), ('javalangillegalstateexception', 4), ('noise', 4), ('calc100', 4), ('environmenterror', 4), ('favor', 4), ('ordernumber', 4), ('file1txt', 4), ('ah', 4), ('rxvturxvt', 4), ('aug', 4), ('books', 4), ('forever', 4), ('quotedftvol', 4), ('sub1', 4), ('professional', 4), ('faced', 4), ('767', 4), ('addx', 4), ('family', 4), ('road', 4), ('suited', 4), ('109', 4), ('pojo', 4), ('barpy', 4), ('inputdatar', 4), ('exceeds', 4), ('stretch', 4), ('closely', 4), ('stylebackgroundcolor', 4), ('simplify', 4), ('fastforward', 4), ('mysqlconfigpath', 4), ('newtons', 4), ('war', 4), ('convince', 4), ('romain', 4), ('friends', 4), ('foos', 4), ('servermappath', 4), ('ca', 4), ('yesterdays', 4), ('endings', 4), ('physical', 4), ('girdlespring', 4), ('newlines', 4), ('enters', 4), ('feofpfile', 4), ('unlimited', 4), ('extended', 4), ('myclassbaseclass', 4), ('multithreaded', 4), ('incrementing', 4), ('grant', 4), ('reinterpretcast', 4), ('messing', 4), ('aspects', 4), ('misses', 4), ('2009', 4), ('figuring', 4), ('madeup', 4), ('reduces', 4), ('eggs', 4), ('semicolon', 4), ('nocache', 4), ('intrinsic', 4), ('designing', 4), ('terminating', 4), ('leaf', 4), ('forks', 4), ('settingwithcopywarning', 4), ('fellow', 4), ('androidbackgroundandroiddrawableeditboxbackground', 4), ('foox', 4), ('owner', 4), ('webdriver', 4), ('presented', 4), ('ifndef', 4), ('virtualbox', 4), ('69', 4), ('mul2mul', 4), ('87', 4), ('values1', 4), ('adventureworksentities', 4), ('cwd', 4), ('relstylesheet', 4), ('studying', 4), ('accurate', 4), ('avoided', 4), ('memorystream', 4), ('began', 4), ('homeeugenepublichtmlallthingsnodeprojectsfb2nodemodulesconnectlibhttpjs15023', 4), ('ciph', 4), ('markup', 4), ('poorly', 4), ('pushes', 4), ('macosx', 4), ('barely', 4), ('negative', 4), ('fs', 4), ('improved', 4), ('chronosystemclocknow', 4), ('tempdata', 4), ('totalrows', 4), ('gain', 4), ('cr', 4), ('androidtextstylenormal', 4), ('dategettime', 4), ('tpaamayimnekudotayim', 4), ('duplicated', 4), ('architectural', 4), ('alerthello', 4), ('asis', 4), ('216', 4), ('publish', 4), ('val2', 4), ('proceed', 4), ('engineering', 4), ('egetp', 4), ('settingsmyapplicationcustomcontrolscontrolsmycustomcontrolxamlcsline', 4), ('messes', 4), ('parents', 4), ('canyouvotepy', 4), ('initializing', 4), ('internals', 4), ('persisting', 4), ('arraytojs2', 4), ('nature', 4), ('toes', 4), ('science', 4), ('gulp', 4), ('ircevent', 4), ('inheriting', 4), ('agnostic', 4), ('ides', 4), ('array4', 4), ('enoent', 4), ('minute', 4), ('wrapped', 4), ('equation', 4), ('eventargs', 4), ('nets', 4), ('roles', 4), ('integrate', 4), ('ut', 4), ('monkey', 4), ('httpgooglecom', 4), ('becoming', 4), ('enabling', 4), ('calculations', 4), ('rate', 4), ('discover', 4), ('selectedmessage', 4), ('sub2', 4), ('makenamests', 4), ('thehash', 4), ('fx', 4), ('py', 4), ('netbeans', 4), ('37', 4), ('remotes', 4), ('kinda', 4), ('wizard', 4), ('binsh', 4), ('pr', 4), ('guava', 4), ('significance', 4), ('inspect', 4), ('yahoo', 4), ('chose', 4), ('refused', 4), ('throughput', 4), ('caught', 4), ('processor', 4), ('sum5add', 4), ('expire', 4), ('sentstr', 4), ('word3', 4), ('violation', 4), ('nvarchar', 4), ('readwrite', 4), ('gvim', 4), ('quotedftvoltvolscale', 4), ('credentials', 4), ('pghbaconf', 4), ('dk', 4), ('passphrase', 4), ('8022011', 4), ('scott', 4), ('jpg', 4), ('b1j', 4), ('boost', 4), ('rem', 4), ('19271231', 4), ('authorslist', 4), ('subscribers', 4), ('testlines', 4), ('upvote', 4), ('collector', 4), ('log4j', 4), ('functionmethod', 4), ('150px', 4), ('vimrc', 4), ('angularcore', 4), ('unwind', 4), ('rev', 4), ('providers', 4), ('proguard', 4), ('xlsx', 4), ('257', 4), ('iterations', 4), ('arises', 4), ('bannerisvisible', 4), ('swiping', 4), ('onmessagelistactionlistener', 4), ('insight', 4), ('commonly', 4), ('differential', 4), ('subtle', 4), ('slowly', 4), ('principles', 4), ('mysqlconfiglibsr', 4), ('125', 4), ('ips', 4), ('doe', 4), ('validator', 4), ('blur', 4), ('androidoshandlerdispatchmessagehandlerjava99', 4), ('animations', 4), ('spot', 4), ('hassle', 4), ('consuming', 4), ('errno', 4), ('agree', 4), ('adjacent', 4), ('exclamation', 4), ('sqlite3opendatabase', 4), ('explore', 4), ('rebasing', 4), ('dragging', 4), ('addencoding', 4), ('webview', 4), ('supply', 4), ('asdasdcom', 4), ('mydatetimemydatetime', 4), ('pulls', 4), ('wraps', 4), ('userpy', 4), ('minified', 4), ('cpus', 4), ('ram', 4), ('tv', 4), ('arbitrarily', 4), ('androidpaddingleft15dp', 4), ('exports', 4), ('woman', 4), ('literature', 4), ('imagefile', 4), ('anumber', 4), ('hashset', 4), ('x2', 4), ('ordinal', 4), ('interestingly', 4), ('locrowindexcolindexer', 4), ('mycodejs', 4), ('rsi', 4), ('viewport', 4), ('updatepanel', 4), ('nasty', 4), ('eprintstacktrace', 4), ('idheader', 4), ('descriptive', 4), ('u32', 4), ('wiki', 4), ('sufficient', 4), ('modifications', 4), ('pwd', 4), ('nearly', 4), ('camel', 4), ('walking', 4), ('stdendl', 4), ('coretestpy', 4), ('aclickfunction', 4), ('mymodule', 4), ('othertable', 4), ('quota', 4), ('somevalue', 4), ('myobj', 4), ('clockt', 4), ('cli', 4), ('vs2008', 4), ('mydict', 4), ('viewholder', 4), ('nonobject', 4), ('visibility', 4), ('roundorange', 4), ('unrolled', 4), ('scripting', 4), ('sum3add', 4), ('mul3mul', 4), ('chain', 4), ('15px', 4), ('osx', 4), ('subtract', 4), ('decompile', 4), ('threading', 4), ('timespan', 4), ('significantly', 4), ('sass', 4), ('100644', 4), ('triggers', 4), ('aspectlibrary', 4), ('utf8generalci', 4), ('leo', 4), ('inject', 4), ('frames', 4), ('3000', 4), ('stdclass', 4), ('fk', 4), ('chunks', 4), ('outputtxt', 4), ('ad', 4), ('restaurant', 4), ('osgetcwd', 4), ('delimiter', 4), ('assemblys', 4), ('redefine', 4), ('calculation', 4), ('comprehensive', 4), ('makefile', 4), ('sudden', 4), ('0400', 4), ('detachvegan', 4), ('united', 4), ('proposed', 4), ('sum4add', 4), ('composerlock', 4), ('enumerate', 4), ('referred', 4), ('dos', 4), ('chars', 4), ('essential', 4), ('csproj', 4), ('exploring', 4), ('reached', 4), ('classitemdiv', 4), ('xhrsend', 4), ('automate', 4), ('decorators', 4), ('consisting', 4), ('intfield', 4), ('tinyint', 4), ('jsonnet', 4), ('understandable', 4), ('stringempty', 4), ('story', 4), ('elaborate', 4), ('attachment', 4), ('waldo', 4), ('programme', 4), ('accepting', 4), ('insensitive', 4), ('dir2', 4), ('boy', 4), ('serial', 4), ('linecount', 4), ('reactcomponent', 4), ('rounds', 4), ('win', 4), ('0n', 4), ('selectedindex', 4), ('affecting', 4), ('cleaning', 4), ('mtextview', 4), ('xargs', 4), ('blogs', 4), ('gotcha', 4), ('androidlayoutmargintop4dp', 4), ('25px', 4), ('shuffle', 4), ('exposed', 4), ('nib', 4), ('argparse', 4), ('dedicated', 4), ('assumptions', 4), ('scales', 4), ('stkid', 4), ('stringwriter', 4), ('rationale', 4), ('limitations', 4), ('getdate', 4), ('platforms', 4), ('transformation', 4), ('soreuseport', 4), ('gb', 4), ('scalability', 4), ('idioms', 4), ('animage', 4), ('bg', 4), ('concurrenthashmap', 4), ('scp', 4), ('incremented', 4), ('sel', 4), ('requestcode', 4), ('prone', 4), ('your', 4), ('noted', 4), ('somesymbol', 4), ('quality', 4), ('beatlesname', 4), ('intsi', 4), ('777', 4), ('oblongyellow', 4), ('unwanted', 4), ('rough', 4), ('mysql2', 4), ('doublen', 4), ('refspec', 4), ('discouraged', 4), ('amulite', 4), ('val1', 4), ('peter', 4), ('bearing', 4), ('stringified', 4), ('uncomment', 4), ('exiting', 4), ('collision', 4), ('particles', 4), ('settimeoutfunction', 4), ('cleanest', 4), ('observe', 4), ('sum2add', 4), ('lies', 4), ('multiply', 4), ('encodings', 4), ('authenticated', 4), ('o0', 4), ('class1', 4), ('fillparent', 4), ('lisubitem', 4), ('trust', 4), ('rollover', 4), ('forbidden', 4), ('paws', 4), ('mathematics', 4), ('discuss', 4), ('punctuation', 4), ('keyvalue', 4), ('patching', 4), ('captcha', 4), ('scriptalias', 4), ('basics', 4), ('alloc', 4), ('databasegeneratedsystemcomponentmodeldataannotationsdatabasegeneratedoptionidentity', 4), ('terminate', 4), ('uikit', 4), ('hour', 4), ('cspbuildpy', 4), ('stl74421', 4), ('reload', 4), ('existed', 4), ('grunt', 4), ('pi', 4), ('preventbust', 4), ('project2', 4), ('aq', 4), ('overloading', 4), ('newdate', 4), ('shift', 4), ('fewer', 4), ('myact', 3), ('usersuesrlibrarydeveloperxcodederiveddataoptimallivefxatvygbofczeyhjsawtebkimvwxbuildproductsdebugiphoneosoptimalliveappinfoplist', 3), ('typos', 3), ('analytical', 3), ('displaytemplate', 3), ('isnumeric', 3), ('humanreadable', 3), ('debugttl', 3), ('determining', 3), ('insisted', 3), ('amazing', 3), ('subnavigation', 3), ('stripped', 3), ('redirected', 3), ('websockets', 3), ('shady', 3), ('abstraction', 3), ('responsible', 3), ('presume', 3), ('lparam', 3), ('resume', 3), ('manipulate', 3), ('varchar20', 3), ('2016', 3), ('usrlocalcellarpostgresql904sharepostgresqlpostgresqlconfsample', 3), ('fizzsomeotherfile', 3), ('explode', 3), ('objselected', 3), ('sidebyside', 3), ('replicate', 3), ('testcompile', 3), ('ec2', 3), ('generatesymptoms', 3), ('hosts', 3), ('nonconstant', 3), ('caller', 3), ('syntactic', 3), ('file2', 3), ('documented', 3), ('returnvectorvoid', 3), ('enableoversize', 3), ('toaster', 3), ('expressed', 3), ('hyperlink', 3), ('prevents', 3), ('logformat', 3), ('printable', 3), ('cores', 3), ('sendfile', 3), ('dies', 3), ('httprepo1mavenorgmaven2', 3), ('interactions', 3), ('edit2', 3), ('horrible', 3), ('importsloader', 3), ('requesting', 3), ('provisioning', 3), ('relates', 3), ('enumerator', 3), ('cdata1', 3), ('guest', 3), ('dbmigrate', 3), ('execcgi', 3), ('edittexts', 3), ('classbold', 3), ('somearray', 3), ('typecasting', 3), ('band', 3), ('wherein', 3), ('validating', 3), ('gif', 3), ('podcast', 3), ('ensg00000199674', 3), ('mydatacontainer', 3), ('la', 3), ('painful', 3), ('exclusively', 3), ('someobjectsomeproperty', 3), ('idiot', 3), ('u0000', 3), ('positional', 3), ('000001', 3), ('v0410', 3), ('unreliable', 3), ('idtest', 3), ('paid', 3), ('factors', 3), ('injected', 3), ('debate', 3), ('couchdb', 3), ('typeface', 3), ('y1', 3), ('recognise', 3), ('importerror', 3), ('106', 3), ('recognizes', 3), ('examined', 3), ('getter', 3), ('vaguely', 3), ('dirpy', 3), ('mediaplayer', 3), ('translucent', 3), ('serving', 3), ('nbsp', 3), ('irrelevant', 3), ('ffffff', 3), ('nottrue', 3), ('dns', 3), ('usermanager', 3), ('ondisk', 3), ('talks', 3), ('rvalref', 3), ('functionpane', 3), ('prepend', 3), ('iinterface', 3), ('considerations', 3), ('combining', 3), ('applicability', 3), ('duck', 3), ('titles', 3), ('90px', 3), ('literals', 3), ('rnor', 3), ('cprojectsmicrosoftpracticesesbsourcesamplesmanagement', 3), ('triple', 3), ('pow', 3), ('valuea', 3), ('ilistitem', 3), ('allapplesdo', 3), ('omitted', 3), ('mycolor', 3), ('dbsavechanges', 3), ('preserved', 3), ('105', 3), ('purchases', 3), ('1em', 3), ('0x23cb740', 3), ('brian', 3), ('transactions', 3), ('reinstall', 3), ('gitmerge', 3), ('httpsgithubcomvisionmediaexpressgit', 3), ('importantly', 3), ('sgi', 3), ('objectauth', 3), ('teach', 3), ('standardized', 3), ('firewall', 3), ('gm', 3), ('zen', 3), ('fd9f578', 3), ('kb', 3), ('tcpip', 3), ('recommendation', 3), ('organized', 3), ('fromviewcontroller', 3), ('reusing', 3), ('nano', 3), ('nonstatic', 3), ('readers', 3), ('applicationxml', 3), ('orderby', 3), ('ssh2msgnewkeys', 3), ('whl', 3), ('imyinterface', 3), ('harder', 3), ('md', 3), ('listanimal', 3), ('spanish', 3), ('optionalarg', 3), ('subtree', 3), ('backslash', 3), ('implementationdefined', 3), ('lib', 3), ('distribution', 3), ('initializer', 3), ('onoff', 3), ('latex', 3), ('spend', 3), ('commercially', 3), ('angularforms', 3), ('fetchtypeeager', 3), ('archived', 3), ('bbb', 3), ('digest', 3), ('h3lorem', 3), ('derive', 3), ('lightweight', 3), ('wonderful', 3), ('linker', 3), ('vanillajs', 3), ('readline', 3), ('str4', 3), ('putty', 3), ('pushdefault', 3), ('odv', 3), ('eminem', 3), ('collapse', 3), ('borderleft', 3), ('rmi', 3), ('remotesoriginbugfix', 3), ('incompatible', 3), ('nonstandard', 3), ('hood', 3), ('retrieving', 3), ('bestpractice', 3), ('caveats', 3), ('preprocessor', 3), ('annotated', 3), ('assemblyversion', 3), ('injections', 3), ('privacysetting', 3), ('wparam', 3), ('appget', 3), ('p2align', 3), ('hotfix', 3), ('refactor', 3), ('spannablespanexclusiveexclusive', 3), ('meantime', 3), ('alertsuccess', 3), ('performant', 3), ('nonconst', 3), ('blanktrue', 3), ('proto', 3), ('rebased', 3), ('applieddate', 3), ('unrelated', 3), ('presence', 3), ('2048', 3), ('paul', 3), ('gesture', 3), ('java2', 3), ('supporting', 3), ('asynctaskstring', 3), ('ಠಠ', 3), ('styleheight', 3), ('jander', 3), ('037s', 3), ('sessionconfiguration', 3), ('wall', 3), ('completeness', 3), ('setupstream', 3), ('sreqqueryemail', 3), ('weights', 3), ('layers', 3), ('classa', 3), ('hotkey', 3), ('autolayout', 3), ('brain', 3), ('screw', 3), ('fromintegral', 3), ('tilde', 3), ('jaxb', 3), ('cpythonprojects', 3), ('subs', 3), ('changeset', 3), ('externally', 3), ('encapsulation', 3), ('0043', 3), ('clutter', 3), ('lineitemsquantity', 3), ('nulltrue', 3), ('ngclasstest', 3), ('confirmation', 3), ('vendors', 3), ('mul', 3), ('endpoint', 3), ('myclassobject', 3), ('cin', 3), ('formula', 3), ('judge', 3), ('displayduration', 3), ('manipulations', 3), ('printer', 3), ('usepound', 3), ('addrange', 3), ('ctrle', 3), ('realise', 3), ('cherry', 3), ('proc', 3), ('comshowboymyclass', 3), ('peer', 3), ('natural', 3), ('160px', 3), ('assemblies', 3), ('subview', 3), ('item2', 3), ('ensg00000221312', 3), ('expandoobject', 3), ('tight', 3), ('script2py', 3), ('titletitel', 3), ('imply', 3), ('persistent', 3), ('datetime2', 3), ('satisfied', 3), ('mvn', 3), ('ftp', 3), ('browserify', 3), ('20090619', 3), ('tickcount', 3), ('hrefread', 3), ('employee', 3), ('panoramio', 3), ('chalk', 3), ('denyallow', 3), ('t1', 3), ('reside', 3), ('approved', 3), ('falling', 3), ('vulnerable', 3), ('datetimetoday', 3), ('alternating', 3), ('idmain', 3), ('ncover', 3), ('ngmodel', 3), ('beginners', 3), ('progressdialog', 3), ('ap', 3), ('libdir', 3), ('cosmic', 3), ('separates', 3), ('wordwrap', 3), ('shot', 3), ('mydatabasebak', 3), ('excluding', 3), ('dec', 3), ('monitored', 3), ('423156', 3), ('academic', 3), ('guy', 3), ('test2list', 3), ('finds', 3), ('intersection', 3), ('discussed', 3), ('bothers', 3), ('2014', 3), ('reproducible', 3), ('divnavi', 3), ('slim', 3), ('parseintcol16', 3), ('usercontrols', 3), ('androidlayoutmarginright15dp', 3), ('relying', 3), ('gene', 3), ('myservice', 3), ('yourname', 3), ('hhmmss', 3), ('databasename', 3), ('classic', 3), ('amounts', 3), ('chunk', 3), ('nearby', 3), ('ddmmyyyy', 3), ('webkittransition', 3), ('wider', 3), ('ton', 3), ('githubs', 3), ('jqueryelasticsourcejs', 3), ('resultlistappendx', 3), ('defaultttl', 3), ('signatures', 3), ('lineitems', 3), ('slamming', 3), ('persists', 3), ('cgibin', 3), ('refreshtoken', 3), ('panametric', 3), ('orgspringframeworkspringcontextjar305release', 3), ('lightendarkencolorcolamt', 3), ('apicontroller', 3), ('erase', 3), ('array0', 3), ('newinstance', 3), ('fstruct', 3), ('objectname', 3), ('encrypt', 3), ('submits', 3), ('responsefilter', 3), ('selectfilteractivity', 3), ('supposedly', 3), ('miles', 3), ('hsap', 3), ('webstorm', 3), ('followup', 3), ('libxml2sources2627targz', 3), ('users1', 3), ('qtitleicontainscleanedsearchterm', 3), ('singleordefault', 3), ('sheets', 3), ('excels', 3), ('priority', 3), ('ev', 3), ('comprehension', 3), ('recording', 3), ('mmmanufacturerid', 3), ('scrollbar', 3), ('myclassdelegate', 3), ('underscores', 3), ('resizing', 3), ('755', 3), ('xxxx', 3), ('subprocess', 3), ('oriented', 3), ('resetting', 3), ('commitbuildbat', 3), ('key2', 3), ('occurring', 3), ('diteritems', 3), ('separation', 3), ('typejuggling', 3), ('monad', 3), ('med', 3), ('daily', 3), ('sidebar', 3), ('hunny', 3), ('proportion', 3), ('identityinsert', 3), ('ngoninit', 3), ('inblasomecomjohnhomecom', 3), ('stumped', 3), ('junk', 3), ('stub', 3), ('strangely', 3), ('createdat', 3), ('zzz', 3), ('traffic', 3), ('groupid', 3), ('git1743282g844cb', 3), ('permutations', 3), ('threadsafe', 3), ('experimentation', 3), ('functionx', 3), ('cryptic', 3), ('thousand', 3), ('defaulttype', 3), ('workitem', 3), ('specifier', 3), ('ngmodule', 3), ('loggerddash', 3), ('dryrun', 3), ('defaultdata', 3), ('backbonejs', 3), ('stashing', 3), ('kegs', 3), ('systemtext', 3), ('inventory', 3), ('popping', 3), ('dataframes', 3), ('vague', 3), ('sep', 3), ('ewhich', 3), ('newlist', 3), ('halt', 3), ('stringtoreplace', 3), ('operate', 3), ('bloch', 3), ('classprintable', 3), ('fileoutputstream', 3), ('enumeratormovenext', 3), ('agenttelno', 3), ('unlike', 3), ('consolelogouterscopevar', 3), ('ienumerablestring', 3), ('lineitemsdescription', 3), ('logdui', 3), ('cfam', 3), ('managers', 3), ('setstring', 3), ('staticmethod', 3), ('notify', 3), ('hotfix1', 3), ('hede', 3), ('nbproject', 3), ('basepageractivity', 3), ('netrc', 3), ('towards', 3), ('brief', 3), ('land', 3), ('looper', 3), ('910', 3), ('remainder', 3), ('obj1', 3), ('bundling', 3), ('christoph', 3), ('comandroidinternalpolicyimplphonewindowdecorviewdispatchkeyeventphonewindowjava1803', 3), ('woot', 3), ('u10ffff', 3), ('menuitem', 3), ('pseudorandom', 3), ('timeh', 3), ('revisions', 3), ('mmus', 3), ('piping', 3), ('luis', 3), ('rerender', 3), ('plays', 3), ('platformdependent', 3), ('waldomask', 3), ('translation', 3), ('accomplished', 3), ('reasonably', 3), ('funny', 3), ('quotedf', 3), ('articlelist', 3), ('combobox', 3), ('myurl', 3), ('homeeugenepublichtmlallthingsnodeprojectsfb2nodemodulesconnectauthlibindexjs1537', 3), ('transit', 3), ('consists', 3), ('notifications', 3), ('xls', 3), ('alpha030', 3), ('silverlight', 3), ('textjavascript', 3), ('utf16', 3), ('iprincipal', 3), ('overlooked', 3), ('libxslt', 3), ('desire', 3), ('selfname', 3), ('39', 3), ('bubble', 3), ('approute', 3), ('confirmed', 3), ('onetomanymappedbyparent', 3), ('foundationapache22cgibin', 3), ('myobjkey', 3), ('exit1', 3), ('fear', 3), ('helloclass', 3), ('requirementstxt', 3), ('isa', 3), ('utilities', 3), ('metainformation', 3), ('beatle', 3), ('verbs', 3), ('titleh1', 3), ('maxi', 3), ('77', 3), ('intellijs', 3), ('aws', 3), ('y2', 3), ('obtain', 3), ('groovy', 3), ('sam', 3), ('mainvoid', 3), ('tomato', 3), ('namevalue', 3), ('joe', 3), ('addr', 3), ('nodedir', 3), ('collation', 3), ('morea', 3), ('dotted', 3), ('abcd', 3), ('jobdetailcontroller', 3), ('lighten', 3), ('theirs', 3), ('v01', 3), ('cutmp4', 3), ('eps', 3), ('fromviewcontrolleruiviewcontroller', 3), ('050549877', 3), ('alerts', 3), ('lying', 3), ('tweet', 3), ('entrypoint', 3), ('retry', 3), ('dd', 3), ('diverged', 3), ('flaw', 3), ('hid', 3), ('mindist', 3), ('scoping', 3), ('indicated', 3), ('113', 3), ('dimension', 3), ('00000', 3), ('unusual', 3), ('crucial', 3), ('itd', 3), ('banana', 3), ('instructed', 3), ('phpmyadmin', 3), ('financial', 3), ('param1', 3), ('managing', 3), ('sans', 3), ('partner', 3), ('importance', 3), ('18px', 3), ('actionscript', 3), ('overflowhidden', 3), ('invoking', 3), ('tty', 3), ('sessionstart', 3), ('modes', 3), ('testsh', 3), ('wrapper', 3), ('reader', 3), ('terminates', 3), ('95', 3), ('restrict', 3), ('hashtag', 3), ('recorddateyear', 3), ('concurrent', 3), ('str3', 3), ('pseudo', 3), ('diamonds', 3), ('db1', 3), ('mileagerateservice', 3), ('filetreedir', 3), ('testserverphp', 3), ('paragraph', 3), ('hopefully', 3), ('illustrate', 3), ('closes', 3), ('requirejs', 3), ('coolbranch', 3), ('enclose', 3), ('usuario', 3), ('line1', 3), ('genymotion', 3), ('who', 3), ('sourcesafe', 3), ('pause', 3), ('appviewscartwelcomethtml', 3), ('tip', 3), ('optimizing', 3), ('ffmpeg', 3), ('unicodeencodeerror', 3), ('iboutlet', 3), ('nowrap', 3), ('0x0', 3), ('rgb', 3), ('assertions', 3), ('refsheadsmaster', 3), ('annotationprocessor', 3), ('casts', 3), ('namely', 3), ('262', 3), ('strsetspannew', 3), ('threadsleep1000', 3), ('eaxebx', 3), ('resolves', 3), ('benchmarking', 3), ('ie7', 3), ('rolling', 3), ('proposal', 3), ('distinctvalues', 3), ('scss', 3), ('mouseover', 3), ('openssl', 3), ('standalone', 3), ('midi', 3), ('thisdata', 3), ('v01113', 3), ('getname', 3), ('javascripts', 3), ('cachemisses', 3), ('tlsssl', 3), ('mins', 3), ('reject', 3), ('haswell', 3), ('nsurl', 3), ('whitespaces', 3), ('defer', 3), ('eliminates', 3), ('intentservice', 3), ('assumes', 3), ('doubleclockspersec', 3), ('pose', 3), ('shrink', 3), ('catchexception', 3), ('debuglog', 3), ('maintainable', 3), ('presentation', 3), ('nougat', 3), ('listwherex', 3), ('libjpeg', 3), ('callable', 3), ('attraccessor', 3), ('instructs', 3), ('asynctask', 3), ('systemconfiguration', 3), ('diagram', 3), ('nesting', 3), ('simpledateformat', 3), ('gcd', 3), ('dosomethingasync', 3), ('identity11', 3), ('young', 3), ('noisy', 3), ('enctypemultipartformdata', 3), ('bottles', 3), ('newest', 3), ('valuesend', 3), ('compress', 3), ('fox', 3), ('classwinstance', 3), ('decoded', 3), ('functionscope', 3), ('swear', 3), ('smooth', 3), ('cstyle', 3), ('proved', 3), ('u200d', 3), ('shallow', 3), ('headercontenttype', 3), ('restless', 3), ('mypluginstartval', 3), ('counts', 3), ('controlled', 3), ('co', 3), ('willing', 3), ('volumesfrom', 3), ('issued', 3), ('heat', 3), ('su', 3), ('pagelist', 3), ('height20', 3), ('guides', 3), ('userservice', 3), ('closer', 3), ('sharing', 3), ('upvoted', 3), ('tvariable', 3), ('perceived', 3), ('sp1', 3), ('fragmentmanager', 3), ('analytics', 3), ('stopiteration', 3), ('optimallive', 3), ('etcgmt0', 3), ('darken', 3), ('corresponds', 3), ('introduces', 3), ('hovering', 3), ('selfcontent', 3), ('mp', 3), ('ocaml', 3), ('monday', 3), ('characteristics', 3), ('programmatic', 3), ('idontlikeyouexception', 3), ('filenamesx', 3), ('preprocessing', 3), ('l4', 3), ('satisfactory', 3), ('chapters', 3), ('enlighten', 3), ('needing', 3), ('xhtml', 3), ('javascriptserializer', 3), ('employed', 3), ('randomstring', 3), ('coworkers', 3), ('sutter', 3), ('published', 3), ('standardize', 3), ('blowfish', 3), ('codec', 3), ('thoroughly', 3), ('detrimental', 3), ('deltasec', 3), ('azaz09', 3), ('140000', 3), ('dbname', 3), ('funky', 3), ('startwatch', 3), ('setinterval', 3), ('dropbox', 3), ('mappings', 3), ('combinations', 3), ('turning', 3), ('mp3', 3), ('2616', 3), ('1001', 3), ('formed', 3), ('ndepend', 3), ('wikipedias', 3), ('fourth', 3), ('currenttime', 3), ('systemoutprintlnenter', 3), ('admit', 3), ('widescreen', 3), ('tracks', 3), ('measuring', 3), ('dfcolumnname', 3), ('picking', 3), ('fg', 3), ('project1', 3), ('typesafe', 3), ('classbox', 3), ('translate', 3), ('aliases', 3), ('gut', 3), ('conjunction', 3), ('consolelogtypeof', 3), ('decipher', 3), ('typetextjavascriptscript', 3), ('symlink', 3), ('foo1', 3), ('imageviews', 3), ('privmsg', 3), ('ci', 3), ('comhunnysoftjmime', 3), ('peptidestxt', 3), ('nsarray', 3), ('reducing', 3), ('allocating', 3), ('string1', 3), ('cb', 3), ('arr2', 3), ('assigning', 3), ('extconfrb', 3), ('ilspy', 3), ('androidlayoutalignparenttoptrue', 3), ('printmatrix', 3), ('multiprocessing', 3), ('picks', 3), ('hands', 3), ('addon', 3), ('caret', 3), ('tooltip', 3), ('dispatchonce', 3), ('pointless', 3), ('strikes', 3), ('permitted', 3), ('1128', 3), ('imagemagick', 3), ('meets', 3), ('migrating', 3), ('criterion', 3), ('pullright', 3), ('traverse', 3), ('0x0000ff', 3), ('ws', 3), ('gitpull1', 3), ('tgz', 3), ('infinite', 3), ('nonvoid', 3), ('hwnd', 3), ('bashprofile', 3), ('cors', 3), ('newuri', 3), ('dataarray', 3), ('browse', 3), ('tiendaslist', 3), ('dummybean', 3), ('head2', 3), ('nameb', 3), ('resultset', 3), ('favoritefoods', 3), ('resultcode', 3), ('identifiers', 3), ('department', 3), ('decrease', 3), ('python2', 3), ('retains', 3), ('coffee', 3), ('buildgradle', 3), ('encourage', 3), ('fight', 3), ('reviewed', 3), ('ne', 3), ('devclip', 3), ('drwxrwxrx', 3), ('pathtopgconfig', 3), ('covering', 3), ('sometime', 3), ('recovery', 3), ('genericmethodt', 3), ('mountain', 3), ('drag', 3), ('lm', 3), ('appealing', 3), ('xhronreadystatechange', 3), ('medium', 3), ('mathh', 3), ('regularly', 3), ('destroys', 3), ('alertouterscopevar', 3), ('textbox1text', 3), ('openjdk', 3), ('incorrectly', 3), ('amazonec2pem', 3), ('zwj', 3), ('dirbar', 3), ('yearsexperiencerequired', 3), ('met', 3), ('273', 3), ('college', 3), ('zipcode', 3), ('taskservice', 3), ('peoplelist1addnew', 3), ('filecontents', 3), ('defaulting', 3), ('cvs', 3), ('framed', 3), ('myparameterizedfunctionstring', 3), ('pet', 3), ('pom', 3), ('treemap', 3), ('variant', 3), ('messagectrl', 3), ('offering', 3), ('hits', 3), ('transient', 3), ('lowest', 3), ('varchar100', 3), ('week', 3), ('thisisasentence', 3), ('signout', 3), ('sshuserhostgitmod', 3), ('trans', 3), ('foobarbaz', 3), ('2152', 3), ('bloated', 3), ('distances', 3), ('interpreting', 3), ('arm', 3), ('calc', 3), ('newdictkeys', 3), ('results0geometrylocation', 3), ('neat', 3), ('mocks', 3), ('firstborndate', 3), ('concurrency', 3), ('ngondestroy', 3), ('xmlserializer', 3), ('conda', 3), ('fileseclipsesdk42win32x8664eclipsepluginsorgeclipseequinoxlauncher130v201205221813jar', 3), ('idisposable', 3), ('eye', 3), ('wwdc', 3), ('responds', 3), ('relearn', 3), ('tim', 3), ('numholes', 3), ('bid', 3), ('kilometers', 3), ('ontouchlistener', 3), ('1345', 3), ('addhandler', 3), ('nmax', 3), ('compound', 3), ('loglevel', 3), ('crockfords', 3), ('legal', 3), ('roleid', 3), ('notion', 3), ('lineheight', 3), ('herb', 3), ('reusable', 3), ('221318694', 3), ('sale', 3), ('mistakenly', 3), ('speaking', 3), ('arise', 3), ('permutations1', 3), ('ctrlshiftf', 3), ('gmt0', 3), ('successes', 3), ('fetched', 3), ('stopwatch', 3), ('egrep', 3), ('connectionstrings', 3), ('forcing', 3), ('nexus', 3), ('unrestricted', 3), ('fetchfetchtypeeager', 3), ('footballteam', 3), ('androidappactivity', 3), ('moviemp4', 3), ('incorporate', 3), ('accesstoken', 3), ('guidempty', 3), ('species', 3), ('streamreader', 3), ('understands', 3), ('mydatagetsomedata', 3), ('gist', 3), ('credits', 3), ('sysstdout', 3), ('useragent', 3), ('brown', 3), ('testperfomancestrings', 3), ('fault', 3), ('functionreq', 3), ('shtml', 3), ('rawinput', 3), ('readlink', 3), ('marry', 3), ('androidpaddingtop15dp', 3), ('firstnom', 3), ('tclass', 3), ('dframe', 3), ('warnwarning', 3), ('hyden', 3), ('atxt', 3), ('density', 3), ('tagged', 3), ('customerid', 3), ('ssql', 3), ('innerdiv', 3), ('enumerable', 3), ('iter', 3), ('reduced', 3), ('4li', 3), ('conclusions', 3), ('bother', 3), ('kludgy', 3), ('cont', 3), ('division', 3), ('thelist', 3), ('suzi', 3), ('script3py', 3), ('tryexcept', 3), ('addendum', 3), ('zerofilled', 3), ('uk', 3), ('viewpage', 3), ('packet', 3), ('httpproxy', 3), ('insist', 3), ('0051', 3), ('screenname', 3), ('sas', 3), ('drawables', 3), ('caseinsensitive', 3), ('act', 3), ('sticks', 3), ('ee', 3), ('stem', 3), ('bases', 3), ('scoring', 3), ('chatroom', 3), ('specifies', 3), ('unsubscribe', 3), ('nonfalse', 3), ('imho', 3), ('commenting', 3), ('critique', 3), ('108', 3), ('statlib', 3), ('blame', 3), ('constn', 3), ('slowing', 3), ('61', 3), ('june', 3), ('divdiv', 3), ('5li', 3), ('newobject', 3), ('vba', 3), ('obfuscate', 3), ('toarray', 3), ('typesconfig', 3), ('preventing', 3), ('bundlejs', 3), ('ostream', 3), ('rvm', 3), ('binaryreader', 3), ('gx', 3), ('serveradmin', 3), ('firstclass', 3), ('moztransition', 3), ('uniqueness', 3), ('personally', 3), ('2007', 3), ('addpd', 3), ('optimistic', 3), ('school', 3), ('ipad', 3), ('autogenerated', 3), ('nullcoalescing', 3), ('rw', 3), ('nulls', 3), ('exported', 3), ('capturing', 3), ('heuristic', 3), ('widthheight', 3), ('rainbow', 3), ('linebyline', 3), ('accountno', 3), ('debian8ubuntu3', 3), ('treated', 3), ('survey', 3), ('xmm8', 3), ('skypeuser', 3), ('stubbing', 3), ('clearer', 3), ('tue', 3), ('myprivatemethod', 3), ('excludepattern', 3), ('grails', 3), ('periodically', 3), ('unsubscribes', 3), ('enforce', 3), ('systemcollectionsgeneric', 3), ('formgroup', 3), ('massive', 3), ('msbuild', 3), ('datastring', 3), ('biggest', 3), ('postlist', 3), ('ngclass', 3), ('fileclose', 3), ('capabilities', 3), ('originbugfixc', 3), ('librarydevelopercommandlinetools', 3), ('selfinit', 3), ('fileinputstreamfile', 3), ('greedy', 3), ('sc', 3), ('juliet', 3), ('nonempty', 3), ('pgadmin', 3), ('manualcontains', 3), ('textdecoration', 3), ('gracefully', 3), ('myscript', 3), ('justifyitems', 3), ('v061pre', 3), ('plyr', 3), ('mipmaps', 3), ('detected', 3), ('data2td', 3), ('ambiguity', 3), ('thisval', 3), ('wpserver', 3), ('packagelockjson', 3), ('dbi', 3), ('picked', 3), ('cash', 3), ('movies', 3), ('aindex6', 3), ('buildext', 3), ('vast', 3), ('errorprone', 3), ('careful', 3), ('boo', 3), ('floatleft', 3), ('cans', 3), ('gitk', 3), ('03032009', 3), ('mymoduleservicemyservice', 3), ('puzzled', 3), ('creators', 3), ('hiding', 3), ('evaluating', 3), ('birth', 3), ('507710000', 3), ('mirror', 3), ('arg0', 3), ('activated', 3), ('adopted', 3), ('blown', 3), ('subquery', 3), ('flexibility', 3), ('returnvalue', 3), ('drawbacks', 3), ('seotweaks', 3), ('systemio', 3), ('myusername', 3), ('answering', 3), ('sspi', 3), ('datetimedatetime2011', 3), ('javalangoutofmemoryerror', 3), ('v8', 3), ('jumps', 3), ('xmas95', 3), ('splits', 3), ('classmodal', 3), ('dataid', 3), ('particle', 3), ('cssmobilecss', 3), ('spite', 3), ('scores', 3), ('x8664', 3), ('idcontentdiv', 3), ('foojar', 3), ('activitys', 3), ('ioerror', 3), ('approximation', 3), ('rdirsi1eax', 3), ('nametcol1', 3), ('bugfix', 3), ('association', 3), ('intentions', 3), ('forgets', 3), ('confident', 3), ('returnval', 3), ('functionrouteprovider', 3), ('euler12hsx', 3), ('rvalue', 3), ('fundamental', 3), ('landscape', 3), ('dickety', 3), ('510', 3), ('powa6', 3), ('gitsvn', 3), ('12700180', 3), ('sends', 3), ('crack', 3), ('appropriately', 3), ('validated', 3), ('overrides', 3), ('returnvector', 3), ('parallelism', 3), ('datetimeoffset', 3), ('subjective', 3), ('ass', 3), ('highlight', 3), ('namemaplistchoice', 3), ('97', 3), ('nickname', 3), ('dun', 3), ('launching', 3), ('httphost', 3), ('yanked', 3), ('wont', 3), ('targets', 3), ('mathematica', 3), ('enumeratorcurrent', 3), ('outlet', 3), ('creditorregistryid', 3), ('idcontainer', 3), ('gnulinux', 3), ('mmul', 3), ('hrefsome', 3), ('willi', 3), ('shifting', 3), ('sitepackages', 3), ('binaries', 3), ('forces', 3), ('namea', 3), ('0123456789', 3), ('sharedpreferences', 3), ('nowhere', 3), ('resdrawable', 3), ('hresult', 3), ('marchnocona', 3), ('cutting', 3), ('iboutlets', 3), ('greaterlesserthan', 3), ('thisrender', 3), ('mono', 3), ('contra', 3), ('stri', 3), ('mysqlrealescapestring', 3), ('test1', 3), ('shed', 3), ('iload1', 3), ('grateful', 3), ('respective', 3), ('iternext', 3), ('0x00ff', 3), ('tddata1td', 3), ('ordereddict', 3), ('string2', 3), ('getsomestring', 3), ('multithreading', 3), ('51', 3), ('driving', 3), ('further', 3), ('coreautocrlf', 3), ('al', 3), ('cbindts', 3), ('circular', 3), ('x86javajre7binjavawexe', 3), ('iso', 3), ('song', 3), ('february', 3), ('artikel', 3), ('tablerowitem', 3), ('strlenwhichstring', 3), ('immediate', 3), ('convinced', 3), ('infoplist', 3), ('buster', 3), ('testphp', 3), ('unacceptable', 3), ('categories', 3), ('testios108209100607', 3), ('changesets', 3), ('originmaster4', 3), ('infottl', 3), ('progressbar', 3), ('applicationspecific', 3), ('compliant', 3), ('5000', 3), ('x3', 3), ('splice', 3), ('deadline', 3), ('consolelogbeatle', 3), ('aux', 3), ('inherits', 3), ('screenwidth', 3), ('slip', 3), ('junitjunit412', 3), ('trash', 3), ('mmessageslist', 3), ('writer', 3), ('800', 3), ('nasm', 3), ('79', 3), ('chosen', 3), ('positionabsolute', 3), ('readlinetestcpp', 3), ('setter', 3), ('multidimensional', 3), ('countid', 3), ('java2s', 3), ('framebusting', 3), ('facing', 3), ('tad', 3), ('tableid', 3), ('bars', 3), ('training', 3), ('upgrading', 3), ('manytoone', 3), ('olog', 3), ('died', 3), ('xself', 3), ('reversed', 3), ('datetimenow', 3), ('utf8bin', 3), ('qbodyicontainscleanedsearchterm', 3), ('mytest', 3), ('miss', 3), ('intrepeating', 3), ('classcolxs4', 3), ('132', 3), ('differentiate', 3), ('displaytemplates', 3), ('graphs', 3), ('webpackdevserver', 3), ('40k', 3), ('esoteric', 3), ('evenly', 3), ('serialized', 3), ('002840901', 3), ('mixin', 3), ('metaclass', 3), ('bracket', 3), ('sbtostring', 3), ('writehost', 3), ('selling', 3), ('androidosbundle', 3), ('naturally', 3), ('adopt', 3), ('walk', 3), ('squashing', 3), ('reducer', 3), ('illegalargumentexception', 3), ('metrics', 3), ('paddingtop', 3), ('zone', 3), ('class2', 3), ('wordpress', 3), ('advise', 3), ('consolewriteline', 3), ('stdlibh', 3), ('nametype', 3), ('macros', 3), ('omit', 3), ('strength', 3), ('culprit', 3), ('slicing', 3), ('jsf', 3), ('poco', 3), ('73', 3), ('managementinstallps1', 3), ('ambiguous', 3), ('9999', 3), ('onmessageinitialisation', 3), ('alignitems', 3), ('96000', 3), ('pypi', 3), ('inform', 2), ('misused', 2), ('xxmaxpermsize256m', 2), ('v2', 2), ('myclassmyprivatemethod', 2), ('selectboxes', 2), ('duration10e9', 2), ('setbased', 2), ('numarray', 2), ('serializing', 2), ('precisely', 2), ('duplication', 2), ('marco', 2), ('dcodes', 2), ('assigns', 2), ('ungreedy', 2), ('dosomethingelse', 2), ('wallpaper', 2), ('childsomebaseclass', 2), ('scopeusername', 2), ('joel', 2), ('ib', 2), ('rendertemplate', 2), ('ground', 2), ('george', 2), ('8timesvalue', 2), ('googleservicesjson', 2), ('recreation', 2), ('recognizable', 2), ('fileitem', 2), ('fedora', 2), ('nfsandisksjjhomedirfiletxt', 2), ('091239', 2), ('navicat', 2), ('materials', 2), ('phones', 2), ('bdata2', 2), ('mixins', 2), ('lineitemsorderid', 2), ('dbreset', 2), ('parentid', 2), ('proscons', 2), ('httpserverhandle', 2), ('applicationxgzip', 2), ('typeoptions', 2), ('1051', 2), ('systemoutprinto', 2), ('inconsistent', 2), ('getset', 2), ('objectrow', 2), ('env1memymachine', 2), ('quinoline', 2), ('cmss', 2), ('0m0000s', 2), ('eoq', 2), ('myprogramexe', 2), ('etcgmt3', 2), ('haystack', 2), ('1923', 2), ('territory', 2), ('paneselected', 2), ('varchar3000', 2), ('efinreporterfmextpy449', 2), ('carrot', 2), ('100byte', 2), ('comgoogleautovalueautovalue12', 2), ('wherever', 2), ('validators', 2), ('displaynone', 2), ('bhtml', 2), ('androidwidgetlinearlayoutsetchildframelinearlayoutjava1119', 2), ('iv', 2), ('creative', 2), ('listofvalues', 2), ('collg', 2), ('vardumpeacharray', 2), ('include1234', 2), ('2690', 2), ('bark', 2), ('cascadetypeall', 2), ('testelementfadeinfast', 2), ('215', 2), ('bank', 2), ('scopefetch', 2), ('shutting', 2), ('ridiculous', 2), ('gnuplotdriverdir', 2), ('calculated', 2), ('getsourcevalue', 2), ('ensured', 2), ('dirmodule', 2), ('draggable', 2), ('bashrc', 2), ('nonascii', 2), ('uniquely', 2), ('movapd', 2), ('rowid', 2), ('bluehost', 2), ('element2', 2), ('sane', 2), ('dataframecustomerid', 2), ('argv1', 2), ('callednot', 2), ('idrawable', 2), ('n3', 2), ('scared', 2), ('commandstdout', 2), ('testajax', 2), ('contentstring', 2), ('datareader', 2), ('createaccountcs', 2), ('tablecomponent', 2), ('buttonfocus', 2), ('cake', 2), ('regions', 2), ('photos', 2), ('objmypublicmethod', 2), ('poke', 2), ('hashtables', 2), ('testtime', 2), ('migrated', 2), ('jsonloadf', 2), ('shadow', 2), ('liner', 2), ('descriptionname', 2), ('angle', 2), ('methodsget', 2), ('contrived', 2), ('smtp', 2), ('dataindex', 2), ('transportondata', 2), ('datetime1970', 2), ('tempfile', 2), ('thispropstyle', 2), ('height600', 2), ('49', 2), ('distutils', 2), ('c90', 2), ('bbbout', 2), ('stdmovetmp', 2), ('msinternalthreadingexceptionfilterhelpertrycatchwhenobject', 2), ('stopwatchgettimestamp', 2), ('p14asm', 2), ('crit', 2), ('armv7s', 2), ('longitude', 2), ('activerecord', 2), ('1000000000', 2), ('boom', 2), ('srccollisionb2aabbjs', 2), ('xn', 2), ('objmyint', 2), ('caseyagave', 2), ('abarnerts', 2), ('vboxmanage', 2), ('yn', 2), ('curve', 2), ('expansion', 2), ('arg1', 2), ('contour', 2), ('regression', 2), ('selections', 2), ('windowfeatureactionbar', 2), ('browserspecific', 2), ('reserved', 2), ('inputimage', 2), ('comandroidinternalpolicyimplphonewindowdecorview44c46ff0', 2), ('bias', 2), ('companymanager', 2), ('gulpgrunt', 2), ('anchors', 2), ('onetomanycascade', 2), ('alive', 2), ('adata1', 2), ('loc', 2), ('consume', 2), ('stale', 2), ('whos', 2), ('marginright', 2), ('companyidref', 2), ('subscriptionserver', 2), ('yyvalsum', 2), ('mailing', 2), ('harmful', 2), ('0619', 2), ('strsessionstring', 2), ('zb', 2), ('rmdir', 2), ('textbox1valthisischecked', 2), ('5452222', 2), ('btotal', 2), ('androidfontfamilyarial', 2), ('cheers', 2), ('destinationfolder', 2), ('child0', 2), ('6784329', 2), ('redirection', 2), ('fundamentally', 2), ('optimizer', 2), ('thisattr', 2), ('jsonparse', 2), ('trailimage2', 2), ('parentheight', 2), ('8s', 2), ('disturbed', 2), ('androidididtextview', 2), ('nvmdirnvmsh', 2), ('xmlser', 2), ('helloworld', 2), ('memcpydestbuffer', 2), ('oldfilter', 2), ('cmdexe', 2), ('sstringtoreplacestringtoreplaceitg', 2), ('snapshot', 2), ('txtviewtitle', 2), ('expresscreateserver', 2), ('tadaa', 2), ('segmentation', 2), ('encodeuricomponent', 2), ('ulnotfirstchild', 2), ('keystore', 2), ('aliasmodule', 2), ('summer', 2), ('xrange', 2), ('capache', 2), ('unroll', 2), ('classaa', 2), ('conversely', 2), ('ubuntubase', 2), ('interfere', 2), ('functionvalue', 2), ('csh', 2), ('ash', 2), ('kindly', 2), ('higherlevel', 2), ('xmm10', 2), ('12dihydro224', 2), ('androidthemestyleappcompattheme', 2), ('expr', 2), ('objmode', 2), ('xlfileformat', 2), ('gz', 2), ('configuring', 2), ('mmpopcntu64bufferi3', 2), ('someones', 2), ('achieves', 2), ('ssh2msgkexinit', 2), ('customerrors', 2), ('captures', 2), ('alerteq', 2), ('sourceiterator', 2), ('3version0systemid3activetrue', 2), ('thisischecked', 2), ('backslashes', 2), ('cipherupdateplaintext', 2), ('xy2', 2), ('selfrightchild', 2), ('extrapy', 2), ('readlinetestpy', 2), ('fashion', 2), ('functionload', 2), ('ifrnextint4', 2), ('ie8', 2), ('lidolor', 2), ('fiboint', 2), ('modelobjectsexcludeatrue', 2), ('stringcontains', 2), ('89', 2), ('resji', 2), ('workarounds', 2), ('tabular', 2), ('propname', 2), ('redfirstchild', 2), ('button1clickobject', 2), ('myprivatemethodself', 2), ('maxallowedpacket', 2), ('ctnitems', 2), ('observer', 2), ('valueipsum', 2), ('earth', 2), ('mydiv', 2), ('c98', 2), ('namefile', 2), ('stdafxh', 2), ('overlay', 2), ('lambdabodynodetype', 2), ('getcount', 2), ('bothering', 2), ('printfimported', 2), ('gitconfig1', 2), ('v01112', 2), ('interval', 2), ('0603', 2), ('utf8unicodeci', 2), ('classmain', 2), ('air', 2), ('longrunning', 2), ('serializebool', 2), ('radix', 2), ('27cf8e84bb88e24ae4b4b3df2b77aab91a3735d8', 2), ('clip', 2), ('thiscounter', 2), ('factorial', 2), ('peoplelist1', 2), ('array2', 2), ('needstoaddparameter', 2), ('gitgithubcomtheusertheprojectgit', 2), ('yosemite', 2), ('fedorahosted', 2), ('popped', 2), ('kit', 2), ('frotz', 2), ('table1foreignkey', 2), ('respects', 2), ('muls', 2), ('tnsseparator', 2), ('eu', 2), ('servicepoint', 2), ('abc456', 2), ('stcalifornia', 2), ('520', 2), ('searchterm', 2), ('jasmine', 2), ('improper', 2), ('branchs', 2), ('haha', 2), ('presses', 2), ('70kb', 2), ('smputschildt', 2), ('autocompletion', 2), ('oldtable', 2), ('x86gitbincurlcabundlecrt', 2), ('shouldnt', 2), ('increments', 2), ('mbunit', 2), ('myfiletxt', 2), ('capitalization', 2), ('mainactivity', 2), ('touching', 2), ('sees', 2), ('winning', 2), ('solely', 2), ('stab', 2), ('testingrequirementstxt', 2), ('5142', 2), ('argumentparameter', 2), ('uint', 2), ('routine', 2), ('xmm12', 2), ('http1270018888authfacebookcallback', 2), ('newclass', 2), ('accesscontrolallowcredentials', 2), ('mailto', 2), ('getwidth', 2), ('administration', 2), ('jsonvalidatereturnjsonencodearraytojs', 2), ('etcgmt1', 2), ('openitemurl', 2), ('companys', 2), ('testtimetotalmilliseconds', 2), ('python27', 2), ('consensus', 2), ('subscriptions', 2), ('aligncontent', 2), ('argv0', 2), ('preceded', 2), ('havent', 2), ('150529614', 2), ('interruptedexception', 2), ('requireexpress', 2), ('dictionarytkeytvalue', 2), ('weather', 2), ('mxutilsdelegate', 2), ('distinction', 2), ('featuring', 2), ('ratios', 2), ('maxjsonlength', 2), ('alignments', 2), ('permit', 2), ('pleasant', 2), ('stressing', 2), ('downloadable', 2), ('301', 2), ('318', 2), ('horribly', 2), ('shortened', 2), ('1option', 2), ('maindontcheckmeintxt', 2), ('emailview', 2), ('unsafevariable', 2), ('alerterror', 2), ('attrreader', 2), ('emplaceback', 2), ('rootscope', 2), ('classmodalbody', 2), ('seeded', 2), ('fnoalign', 2), ('np', 2), ('conforms', 2), ('nsurlsession', 2), ('bullet', 2), ('ܫ', 2), ('pile', 2), ('disregard', 2), ('preload', 2), ('closedoc', 2), ('inbuilt', 2), ('345', 2), ('hrefjavascriptvoid0', 2), ('standardgeneric', 2), ('poking', 2), ('freeopensource', 2), ('communication', 2), ('dot', 2), ('misplaced', 2), ('etcgmt4', 2), ('construction', 2), ('chop', 2), ('abis', 2), ('valuechalk', 2), ('myselect', 2), ('lad', 2), ('1970', 2), ('yval', 2), ('checksum', 2), ('dojo', 2), ('contours', 2), ('0052', 2), ('printyou', 2), ('simplejsondumpsarraytojs', 2), ('hasclass', 2), ('fig', 2), ('doinbackgroundstring', 2), ('branchmastermerge', 2), ('newheight', 2), ('indexphp', 2), ('32000', 2), ('imagesappendaimage', 2), ('decisions', 2), ('commaseparated', 2), ('mydataset', 2), ('trailimage1', 2), ('leopard', 2), ('flexstart', 2), ('offsetnaive', 2), ('uninitializedbool', 2), ('0m0012s', 2), ('ngroute', 2), ('mybool', 2), ('helping', 2), ('applicationvndorgsniacdmidataobjectjson', 2), ('nginx104', 2), ('elasticsearch', 2), ('attributed', 2), ('triggering', 2), ('selectidengravingchangefunction', 2), ('everybody', 2), ('httpgithubcomjscruggsmetricfugit', 2), ('dsstore', 2), ('improves', 2), ('inspections', 2), ('table2somethingelse', 2), ('moderately', 2), ('20130729', 2), ('initialiser', 2), ('rejection', 2), ('foreache', 2), ('includepattern', 2), ('gecko', 2), ('varies', 2), ('sizeof', 2), ('repeatable', 2), ('0098919', 2), ('scriptaliased', 2), ('rbprcx', 2), ('233', 2), ('javaneturlconnection', 2), ('opencover', 2), ('startedupdating', 2), ('interfering', 2), ('adict', 2), ('simplejson', 2), ('57', 2), ('loginform', 2), ('customcomparator', 2), ('unfamiliar', 2), ('carefully', 2), ('itemcomments', 2), ('ullirender', 2), ('rbxrdx', 2), ('tied', 2), ('interpolatedtime', 2), ('oncreatecontextmenucontextmenu', 2), ('pdf2ps', 2), ('dbexit', 2), ('indented', 2), ('118', 2), ('usrlocalvarpostgrespostgresqlconf', 2), ('mygroup', 2), ('guaranteed', 2), ('msc', 2), ('ideographs', 2), ('0001', 2), ('iloopbound', 2), ('ouwwwdigicertcom', 2), ('fluid', 2), ('fnoalignfunctions', 2), ('sqlite3resetstmt', 2), ('353', 2), ('die', 2), ('proportional', 2), ('datatables', 2), ('getallproducts', 2), ('onactivityresultint', 2), ('feedsource', 2), ('elf', 2), ('1120', 2), ('gonna', 2), ('postid', 2), ('callmyfunctionint', 2), ('systemwindowsthreadingexceptionwrapperinternalrealcalldelegate', 2), ('comandroidinternaloszygoteinitmethodandargscallerrunzygoteinitjava793', 2), ('scientist', 2), ('mycollection', 2), ('23000', 2), ('noinline', 2), ('axios', 2), ('cipher', 2), ('clears', 2), ('cleartext', 2), ('reverting', 2), ('500k', 2), ('xmm11', 2), ('comandroidideeclipseadtfeaturefeaturegroup', 2), ('mockito', 2), ('xmlserializerdtogettype', 2), ('repr', 2), ('showsdkpath', 2), ('ncol', 2), ('applicantid', 2), ('concatenated', 2), ('aesthetics', 2), ('id1', 2), ('mentioning', 2), ('statecode', 2), ('aforementioned', 2), ('struggle', 2), ('userserviceimpl', 2), ('buy', 2), ('nameerror', 2), ('userpass', 2), ('vldvalue', 2), ('xz', 2), ('image1png', 2), ('5124', 2), ('lowlevel', 2), ('4000', 2), ('ctrly', 2), ('objtype', 2), ('commandbehavior', 2), ('nghide', 2), ('filereadallbytescusersluissimbiosdocumentsvisual', 2), ('strdomainargs', 2), ('3f', 2), ('ariahiddentrue', 2), ('0x4rcx', 2), ('variations', 2), ('heading', 2), ('mylib', 2), ('usrlibcgibin', 2), ('improvements', 2), ('approximate', 2), ('relied', 2), ('nonatomic', 2), ('createsomething', 2), ('hero', 2), ('0912385', 2), ('mapinteger', 2), ('ps1', 2), ('insufficient', 2), ('dashboardactivity', 2), ('userprototypegetname', 2), ('iss', 2), ('etcgmt5', 2), ('775', 2), ('ibmdb2', 2), ('merits', 2), ('1985l', 2), ('instant', 2), ('httpexamplecomonetwo', 2), ('filetype', 2), ('lamb', 2), ('silently', 2), ('certcsr', 2), ('outputting', 2), ('being', 2), ('noteworthy', 2), ('jni', 2), ('isinstanceb', 2), ('repositoryformatversion', 2), ('approximately', 2), ('dispatchafter', 2), ('235408', 2), ('x04x57x810', 2), ('severely', 2), ('existsselect', 2), ('double109', 2), ('repeaty', 2), ('convertible', 2), ('readyfunction', 2), ('commenters', 2), ('johns', 2), ('speaker', 2), ('sethasmipmap', 2), ('lesson', 2), ('tense', 2), ('inbrowser', 2), ('iswas', 2), ('quotedftamttamtscale', 2), ('firststringi', 2), ('claiming', 2), ('simpleton', 2), ('arraytojs', 2), ('dcodes2', 2), ('javadeveloper', 2), ('width200px', 2), ('inputdisabled', 2), ('passwordxxx', 2), ('borderspacing', 2), ('geterror', 2), ('0075171', 2), ('consumption', 2), ('logiomodule', 2), ('127001', 2), ('novel', 2), ('installinstallfile', 2), ('uffff', 2), ('claimed', 2), ('student', 2), ('124', 2), ('dostuffo', 2), ('blenb2', 2), ('awkward', 2), ('whatiwant', 2), ('education', 2), ('enablesendfile', 2), ('planned', 2), ('icollectionapplicantposition', 2), ('seemingly', 2), ('fnoalignloops', 2), ('voting', 2), ('getstuffdoneparam', 2), ('newfragment', 2), ('attrwriter', 2), ('cmovl', 2), ('engravinghide', 2), ('gemfile', 2), ('eax', 2), ('datamodel', 2), ('coworker', 2), ('cproject', 2), ('serialnumberc3268102', 2), ('newinstancefromxmlelement', 2), ('0x400e50', 2), ('redrawing', 2), ('exceptional', 2), ('crosscompiling', 2), ('objsize', 2), ('waste', 2), ('androidoslooperlooplooperjava123', 2), ('decoupled', 2), ('layoutwidth', 2), ('range12', 2), ('thisi', 2), ('propagated', 2), ('01012009', 2), ('health', 2), ('1n', 2), ('orphaned', 2), ('delself', 2), ('uialertview', 2), ('prefixed', 2), ('mathpow', 2), ('mysitezjm1126zjm1126g41mts2zjmtestmysite', 2), ('selffiles', 2), ('s1id', 2), ('recovered', 2), ('vital', 2), ('cluttering', 2), ('concurrenthashset', 2), ('formattednumber', 2), ('0016647', 2), ('syntaxerror', 2), ('divinylsiloxanebisbenzocyclobutene', 2), ('fantastic', 2), ('consolelogi', 2), ('guru', 2), ('402', 2), ('dejavu', 2), ('deinit', 2), ('publishing', 2), ('channel', 2), ('polygoni', 2), ('faviconico', 2), ('charset', 2), ('unlinked', 2), ('cx', 2), ('annotations', 2), ('spit', 2), ('val3', 2), ('0x80131040', 2), ('periods', 2), ('03454545', 2), ('entitystatemodified', 2), ('anna', 2), ('repeating', 2), ('fff', 2), ('collectionssynchronizedmapmap', 2), ('xmm7', 2), ('code1', 2), ('zombies', 2), ('sprintfssql', 2), ('passenger', 2), ('overloaded', 2), ('designer', 2), ('aaash', 2), ('pico', 2), ('0x400af8', 2), ('stress', 2), ('freshest', 2), ('sortedlist', 2), ('tocolor1', 2), ('ecx28h', 2), ('comandroidsupport', 2), ('lossy', 2), ('smp', 2), ('etcgmt8', 2), ('ogithub', 2), ('cherrypicking', 2), ('pylab', 2), ('iteratorstring', 2), ('usascii', 2), ('strlength', 2), ('kex', 2), ('charactersfirst', 2), ('imgviewicon', 2), ('conceptual', 2), ('deals', 2), ('sslrandomseed', 2), ('classb', 2), ('utilize', 2), ('objectobject', 2), ('chaining', 2), ('forin', 2), ('mydb1', 2), ('aes128cbc', 2), ('consolelogi2', 2), ('javasqldate', 2), ('theint', 2), ('retype', 2), ('ensuring', 2), ('applicationoctetstream', 2), ('awaiting', 2), ('cf', 2), ('waits', 2), ('directed', 2), ('doinbackground', 2), ('nightmare', 2), ('lname', 2), ('systemoutprint', 2), ('neighbour', 2), ('rdbms', 2), ('passphase', 2), ('adonet', 2), ('pnormx', 2), ('pagination', 2), ('responding', 2), ('idb', 2), ('scannednumber', 2), ('paragraphs', 2), ('2145', 2), ('filemode', 2), ('relaunch', 2), ('escapes', 2), ('autoresize', 2), ('arraysaslista', 2), ('myconstructordata', 2), ('mytitle', 2), ('angularservice', 2), ('javalangillegalargumentexception', 2), ('248', 2), ('untagged', 2), ('processcwd', 2), ('newname', 2), ('bdata1', 2), ('oldschool', 2), ('diffs', 2), ('astimezone', 2), ('bs', 2), ('aimage', 2), ('systemiofileloadexception', 2), ('processonuncaughtexception', 2), ('catchfilenotfoundexception', 2), ('underbar', 2), ('reactrenderhandler', 2), ('getcontext', 2), ('layoutaddress', 2), ('311', 2), ('bb', 2), ('apples', 2), ('thisstring', 2), ('functionresponse', 2), ('additions', 2), ('roottestout', 2), ('doingusing', 2), ('setx', 2), ('webpath', 2), ('functionerr', 2), ('adhere', 2), ('partitioning', 2), ('updateviewpager', 2), ('etcgmt6', 2), ('homework', 2), ('dictitems', 2), ('mmin', 2), ('quotedftdatemaplambda', 2), ('york', 2), ('aspectlibraries', 2), ('documentonmousemove', 2), ('physically', 2), ('accountaccountnumber', 2), ('uncheck', 2), ('etcgmt10', 2), ('collect', 2), ('responsecontent', 2), ('addons', 2), ('somenumber', 2), ('elapsedtime', 2), ('face', 2), ('grow', 2), ('8012011', 2), ('treats', 2), ('compelling', 2), ('contemporary', 2), ('racespecieskey', 2), ('actiontypesstartedupdating', 2), ('accountsreport', 2), ('etcgroup', 2), ('9600', 2), ('javalangreflectmethodinvokemethodjava511', 2), ('guard', 2), ('virtually', 2), ('gained', 2), ('messaging', 2), ('reproduced', 2), ('jsonencode', 2), ('hell', 2), ('idbox', 2), ('filestorageemulated0testtxt', 2), ('consecutive', 2), ('jade', 2), ('subscribe', 2), ('stoptime', 2), ('requestdata', 2), ('comandroidideeclipseadtfeaturegroup', 2), ('thiscreatetextrange', 2), ('x16', 2), ('softkeyboard', 2), ('tf', 2), ('aspnetregiisexe', 2), ('formsmodule', 2), ('replica', 2), ('helpers', 2), ('lame', 2), ('arraya', 2), ('calculator', 2), ('pack', 2), ('homeeugenepublichtmlallthingsnodeprojectsfb2nodemodulesconnectlibmiddlewarerouterjs1976', 2), ('agents', 2), ('ultimately', 2), ('quadrillion', 2), ('dataappend', 2), ('cube', 2), ('keyerror', 2), ('javaiobytearrayoutputstream', 2), ('searchage', 2), ('mloadmessagestask', 2), ('xattribute', 2), ('logallrefupdates', 2), ('intend', 2), ('42f', 2), ('repeater', 2), ('idsource', 2), ('timenull', 2), ('getsomedeferredstuff', 2), ('playerlist', 2), ('objectlist', 2), ('anytime', 2), ('globalasax', 2), ('0039679', 2), ('vec', 2), ('bomb', 2), ('lazy', 2), ('trigonometric', 2), ('aid', 2), ('range0', 2), ('packaged', 2), ('alerttestlevel1level2level3', 2), ('toronto', 2), ('delivering', 2), ('pythonh', 2), ('strnameargs', 2), ('libformbase', 2), ('resultdir', 2), ('linting', 2), ('0tolocaltime', 2), ('companyname', 2), ('112', 2), ('corporate', 2), ('arrange', 2), ('258', 2), ('refuses', 2), ('singlepage', 2), ('mmpopcntu64bufferi', 2), ('locationprovider', 2), ('tattooed', 2), ('routerhistorylocation', 2), ('m1putschildt', 2), ('y0', 2), ('oklower', 2), ('cmdbehavior', 2), ('0p2', 2), ('methodname', 2), ('idrsa', 2), ('openssh47p1', 2), ('000000000', 2), ('ixmlizable', 2), ('buffering', 2), ('minyear', 2), ('itemli', 2), ('androidpaddingtop0dp', 2), ('switches', 2), ('counterparts', 2), ('fnoomitframepointer', 2), ('tfsession', 2), ('northwindproducts', 2), ('thunk', 2), ('tiered', 2), ('readerreadtoend', 2), ('mangling', 2), ('replay', 2), ('224441', 2), ('onsaveinstancestatebundle', 2), ('paris', 2), ('sized', 2), ('0030915', 2), ('16tostring16', 2), ('c0x', 2), ('unfffe', 2), ('testpl', 2), ('formsauth', 2), ('atolargv1', 2), ('501', 2), ('otherwiseredirectto', 2), ('deduced', 2), ('carscolorbluetypesedandoors4', 2), ('directoryindex', 2), ('p14cpp', 2), ('usercontrol', 2), ('tdd', 2), ('datetimemaxvalue', 2), ('rdoc', 2), ('initializations', 2), ('propagation', 2), ('antoherparent', 2), ('tseekg0', 2), ('120', 2), ('prefers', 2), ('sibling', 2), ('aaaaaaaaaaaaaaaaaaaaaaaaaaaaaaaa', 2), ('table2that', 2), ('varwwwwwwexamplecomweb', 2), ('field2', 2), ('squeeze', 2), ('spread', 2), ('while1', 2), ('mapview', 2), ('regional', 2), ('encodeuri', 2), ('flamewars', 2), ('unffff', 2), ('mod2', 2), ('requiring', 2), ('maplistgeti', 2), ('ant', 2), ('respcontent', 2), ('sitli', 2), ('openssh', 2), ('theyll', 2), ('plans', 2), ('pococapsule', 2), ('3descriptionnullidentityconfiguration', 2), ('emitted', 2), ('ospathjoinrootdir', 2), ('pcompanyid', 2), ('homeeugenepublichtmlallthingsnodeprojectsfb2nodemodulesconnectlibmiddlewaresessionjs3389', 2), ('stuffiwant', 2), ('tile', 2), ('ufdef', 2), ('gittest2', 2), ('varchar10', 2), ('classinstance', 2), ('pproductid', 2), ('specialword', 2), ('006', 2), ('mlistener', 2), ('mycomponent', 2), ('20110527', 2), ('portrait', 2), ('versionaspectjversionversion', 2), ('gl', 2), ('spacebetween', 2), ('coalescing', 2), ('lombok', 2), ('mount', 2), ('tdonetd', 2), ('sheet', 2), ('unsorted', 2), ('nt', 2), ('dockerfiles', 2), ('userfirst', 2), ('chronodurationcaststdchrononanosecondsendpstartpcount', 2), ('html4', 2), ('xmm9', 2), ('othertablefk', 2), ('devfd3', 2), ('baindex7', 2), ('cshtml', 2), ('systemcurrenttimemillis', 2), ('ulong', 2), ('originbugfixa', 2), ('107', 2), ('logarithmic', 2), ('grepping', 2), ('alignself', 2), ('binded', 2), ('systemdataentity', 2), ('discarding', 2), ('testimplementation', 2), ('sse', 2), ('egetcolor', 2), ('taskint', 2), ('javalangruntimeexception', 2), ('reveals', 2), ('wss', 2), ('printfiles', 2), ('androidlayoutbelowidhostlabel', 2), ('objc', 2), ('yourmsg', 2), ('androidpaddingtop5px', 2), ('piano', 2), ('investigation', 2), ('photostream', 2), ('2256', 2), ('overused', 2), ('catnip', 2), ('thebranch', 2), ('dvcs', 2), ('martin', 2), ('inplace', 2), ('violating', 2), ('javautilzipinflater', 2), ('20090922', 2), ('refereri', 2), ('httpdconf', 2), ('usergroup', 2), ('collectionsabc', 2), ('libfilterbase', 2), ('int0', 2), ('scipy', 2), ('usrlocaloptjpeg', 2), ('callfriendstring', 2), ('multiplier', 2), ('47', 2), ('1084', 2), ('quotedftamt', 2), ('nolock', 2), ('comandroidinternalpolicyimplphonewindowdecorviewsuperdispatchkeyeventphonewindowjava1855', 2), ('appservice', 2), ('taskwait', 2), ('hardcover', 2), ('dtcol', 2), ('finger', 2), ('getheight', 2), ('slowdown', 2), ('homeeugenepublichtmlallthingsnodeprojectsfb2nodemodulesconnectlibmiddlewarerouterjs19110', 2), ('evolution', 2), ('kotlin', 2), ('box3', 2), ('outlook', 2), ('maintainer', 2), ('nu', 2), ('range128', 2), ('mapsuniqueindexchoices', 2), ('trycatchthrow', 2), ('11111', 2), ('1724', 2), ('javabean', 2), ('dbproduct', 2), ('inval', 2), ('timeinchild', 2), ('androidoslooperlooplooperjava137', 2), ('tz', 2), ('idheaderdiv', 2), ('filesmatch', 2), ('hellonworld', 2), ('v21', 2), ('testbinpython34', 2), ('robert', 2), ('huh', 2), ('inputpng', 2), ('homezjm1126pippiplog', 2), ('systemweboptimization', 2), ('branch2', 2), ('functionstyle', 2), ('obfuscation', 2), ('idmydiv', 2), ('rtl', 2), ('lst', 2), ('statusddlval2', 2), ('adjustment', 2), ('mtextviewsettextwelcome', 2), ('repetitive', 2), ('vocabulary', 2), ('atmp', 2), ('logfiles', 2), ('decor', 2), ('complain', 2), ('holder', 2), ('runatserver', 2), ('pgtblspc', 2), ('deleteafter', 2), ('datetimedatetime', 2), ('httpexamplecomscriptphp', 2), ('testios108209100611', 2), ('maxheight', 2), ('barcodenumber', 2), ('1986l', 2), ('scrollviewframe', 2), ('compressing', 2), ('somevar', 2), ('typeimagexicon', 2), ('stylesheets', 2), ('reformatting', 2), ('summarized', 2), ('250000', 2), ('mikenone', 2), ('curdate', 2), ('maintainability', 2), ('androidlayouttorightofidhostinput', 2), ('candidates', 2), ('catalogue', 2), ('grasped', 2), ('lodash', 2), ('pylabsetup', 2), ('maxranges', 2), ('proof', 2), ('johnapartment', 2), ('consolewritelineobjmystring', 2), ('gotchas', 2), ('forbid', 2), ('59', 2), ('upset', 2), ('usemethodt', 2), ('religion', 2), ('taste', 2), ('myattrself', 2), ('bowerdir', 2), ('objclass', 2), ('homeeugenepublichtmlallthingsnodeprojectsfb2nodemodulesconnectlibhttpjs10514', 2), ('yielding', 2), ('expanded', 2), ('deserialization', 2), ('systemoutprintlnmapgetwordid', 2), ('resmipmap', 2), ('rdxrbx', 2), ('usrsharedoc', 2), ('itertoolsgroupby', 2), ('9998', 2), ('imperativeoo', 2), ('connects', 2), ('methods001', 2), ('appconfigurefunction', 2), ('313', 2), ('56e05fced214c44a37759efa2dfc25a65d8ae98d', 2), ('recyclerviewviewholder', 2), ('normalizecss', 2), ('jun', 2), ('magically', 2), ('catastrophic', 2), ('nonidempotent', 2), ('unwrap', 2), ('intinputplease', 2), ('optimizes', 2), ('screenmap', 2), ('jquerydistjqueryjs', 2), ('reported', 2), ('daytoday', 2), ('usermanagers', 2), ('etcgmt9', 2), ('hreffaviconico', 2), ('lifetime', 2), ('setneedslayout', 2), ('varrunscreenssb', 2), ('stopeclipseformatting', 2), ('functionally', 2), ('oneline', 2), ('authenticating', 2), ('euler12', 2), ('headerfileh', 2), ('conventions', 2), ('class3', 2), ('rateservice', 2), ('reshape', 2), ('5789', 2), ('cachecontrol', 2), ('eventstoppropagation', 2), ('unanswered', 2), ('francisco', 2), ('systemreflectionassemblygetexecutingassemblylocation', 2), ('ld4ld3', 2), ('thatd', 2), ('myapplicationname', 2), ('scrollbars', 2), ('revoked', 2), ('majorversion', 2), ('freeing', 2), ('foundationapache22', 2), ('ordersordernumber', 2), ('joincolumnname', 2), ('employer', 2), ('plotx', 2), ('delayed', 2), ('mutex', 2), ('optlampphtdocs', 2), ('handful', 2), ('exitsuccess', 2), ('titlepageindicator', 2), ('usable', 2), ('wecs', 2), ('vstup', 2), ('filesandfolders', 2), ('reslayout', 2), ('iscategorical', 2), ('groupidorgaspectjgroupid', 2), ('tech', 2), ('avoids', 2), ('xmm1', 2), ('plots', 2), ('pool', 2), ('testint', 2), ('androidappactivitythreadhandlelaunchactivityactivitythreadjava2230', 2), ('takers', 2), ('treeset', 2), ('voidmovebanneronscreen', 2), ('pps', 2), ('divinfoi', 2), ('watchers', 2), ('07', 2), ('receiver', 2), ('preceding', 2), ('ba', 2), ('systemoutprintlnegetname', 2), ('scopeselect', 2), ('accountcreditregistryid', 2), ('anotherparent', 2), ('packaging', 2), ('favicons', 2), ('0files0', 2), ('xxxxxxxxxxx', 2), ('es5', 2), ('firstid', 2), ('ggggggggghhhhhhhhhhhhhhhhhhhheeeeeeee', 2), ('onlyfullgroupby', 2), ('mysqliquerymysqli', 2), ('dotcover', 2), ('strvaluestosearch', 2), ('25415private', 2), ('winxp', 2), ('scrollviewframesizeheight', 2), ('camelcase', 2), ('0912300', 2), ('1066', 2), ('bet', 2), ('readfilefile', 2), ('nerd', 2), ('quoted', 2), ('eax30h', 2), ('prove', 2), ('everyones', 2), ('cap', 2), ('successfunction', 2), ('vista', 2), ('accesscontrolallowheaders', 2), ('9997', 2), ('unionnode', 2), ('custs', 2), ('decimalformat', 2), ('testantigravitypy', 2), ('appeared', 2), ('sharedinstancetpscopemanager', 2), ('theyve', 2), ('businesses', 2), ('listsetoncreatecontextmenulistenernew', 2), ('adobe', 2), ('newtable', 2), ('prose', 2), ('classcolxs5', 2), ('cwampwwwmypathindexphp', 2), ('ewew', 2), ('dividing', 2), ('selectvalueskey', 2), ('operands', 2), ('mvccontrib', 2), ('responsebody', 2), ('topenfiletxt', 2), ('fragmentpageradapter', 2), ('runsynchronously', 2), ('complications', 2), ('functionresults', 2), ('transforming', 2), ('usersuesrdesktopworkspacesealivesealive11optimalliveinfoplist', 2), ('ptdraft', 2), ('dirobj', 2), ('expressive', 2), ('systemdatasqlclientsqlcommandrunexecutereadercommandbehavior', 2), ('mesitylene', 2), ('dcodegt2touch', 2), ('submitfunction', 2), ('testuser', 2), ('speeds', 2), ('timeittimeit', 2), ('distinguishable', 2), ('stringbyappendingstring', 2), ('nonobvious', 2), ('introducing', 2), ('invariant', 2), ('vendorname', 2), ('timed', 2), ('socketremoteaddress', 2), ('confuse', 2), ('v050', 2), ('funcs', 2), ('lockfile', 2), ('loaduserdata', 2), ('personnewinfo', 2), ('flickr', 2), ('nametest1', 2), ('displayblock', 2), ('strongly', 2), ('liked', 2), ('secondsn', 2), ('2030', 2), ('stringbuffer', 2), ('euler12hs', 2), ('threadstartnewthreadmyfunction', 2), ('mysqlifetcharray', 2), ('overflowauto', 2), ('march', 2), ('xss', 2), ('sensor', 2), ('javadocs', 2), ('cssbackgroundcolor', 2), ('literally', 2), ('datacontractjsonserializer', 2), ('sell', 2), ('stroke', 2), ('clones', 2), ('texts', 2), ('linerace', 2), ('elses', 2), ('20081122', 2), ('workbench', 2), ('resource123', 2), ('correlation', 2), ('streamstring', 2), ('applicationstartuppath', 2), ('psycopg2', 2), ('filenil', 2), ('increased', 2), ('nsscanner', 2), ('sizeofstruct', 2), ('voice', 2), ('pertinent', 2), ('usrlibpython35jsondecoderpy', 2), ('coobird', 2), ('fileopenmyfiletxt', 2), ('jit', 2), ('finisht', 2), ('dao', 2), ('worlddiv', 2), ('sshadd', 2), ('faye', 2), ('nonresponsive', 2), ('261', 2), ('mypublicmethod', 2), ('syntaxes', 2), ('bridge', 2), ('serializer', 2), ('foopng', 2), ('ca1', 2), ('selectvalues', 2), ('etcgmt7', 2), ('relating', 2), ('fbcallbackaddress', 2), ('dothings', 2), ('phpnet', 2), ('configureawaitfalse', 2), ('getpresentnameself', 2), ('androidmipmap', 2), ('programmed', 2), ('selfsigned', 2), ('clientquery', 2), ('runtimeexception', 2), ('systemerror', 2), ('runner', 2), ('uitableviewcell', 2), ('corrupted', 2), ('respstatus', 2), ('systemoutprintb', 2), ('usercontrl1loaddatamethod', 2), ('notfound', 2), ('quotedftdate', 2), ('stdsortdata', 2), ('textboxes', 2), ('mymap', 2), ('tap', 2), ('zi', 2), ('printr', 2), ('intuitively', 2), ('d583c3ac45fd', 2), ('diamond', 2), ('ctr', 2), ('fills', 2), ('formyinputmy', 2), ('maximal', 2), ('valore', 2), ('realtime', 2), ('deletions', 2), ('seed', 2), ('linespersec', 2), ('modulename', 2), ('restfulness', 2), ('customizable', 2), ('ecx20h', 2), ('memcached', 2), ('lmputschildt', 2), ('doesn', 2), ('comandroidinternalpolicyimplphonewindowdecorview433b7150', 2), ('exp', 2), ('nohup', 2), ('unpacking', 2), ('listofnames', 2), ('getvaluephp', 2), ('widthspecid', 2), ('struggled', 2), ('fooaddress', 2), ('centre', 2), ('androidorientationhorizontal', 2), ('hithsidsdfhsjdfdfjsdsdjfsdnn', 2), ('crossdomain', 2), ('c5', 2), ('bindparam', 2), ('dile', 2), ('unmerged', 2), ('lectures', 2), ('114', 2), ('identifying', 2), ('ufeffimport', 2), ('treating', 2), ('v081', 2), ('item1', 2), ('0083063', 2), ('ukkonens', 2), ('roundnumber', 2), ('typedefs', 2), ('cond3', 2), ('table1this', 2), ('religious', 2), ('scopesubgroups', 2), ('accountid', 2), ('enhancement', 2), ('positionrelative', 2), ('cond4', 2), ('don', 2), ('clientlist', 2), ('argue', 2), ('perfile', 2), ('sum0', 2), ('pecs', 2), ('immfitemnumber', 2), ('paolo', 2), ('foodiv', 2), ('smoke', 2), ('htmldropdownlist', 2), ('abcfg', 2), ('droid', 2), ('boolfalse', 2), ('thead', 2), ('androidpaddingbottom5px', 2), ('xmm6', 2), ('branchname', 2), ('migrations', 2), ('vc', 2), ('quantitybreakdown', 2), ('giant', 2), ('setstatei', 2), ('throughout', 2), ('transferred', 2), ('0093168', 2), ('innocents', 2), ('enhancements', 2), ('totalamount', 2), ('btn', 2), ('basepageradapter', 2), ('antigravity', 2), ('automagically', 2), ('personname', 2), ('androidgravity', 2), ('date1945', 2), ('typevalue', 2), ('homeusernamewwwmyproject', 2), ('thisismystring', 2), ('objecthandle', 2), ('documentgetelementbyidtrailimageidstyle', 2), ('evolved', 2), ('acommonfield', 2), ('doctor', 2), ('foosh', 2), ('globale', 2), ('disappears', 2), ('chart', 2), ('country', 2), ('jason', 2), ('lsobjects', 2), ('prototypically', 2), ('debugskia4204', 2), ('zsh', 2), ('restoring', 2), ('rubygems', 2), ('iii', 2), ('rays', 2), ('town', 2), ('offsetaware', 2), ('coder', 2), ('xval', 2), ('selfsave', 2), ('facts', 2), ('gitmyserverpathtogitrepos', 2), ('eric', 2), ('street', 2), ('idx1', 2), ('advisable', 2), ('cecil', 2), ('xhttpmethodoverride', 2), ('branch1', 2), ('u12core', 2), ('sortedmap', 2), ('javahome', 2), ('peoplelist2', 2), ('puzzling', 2), ('6855', 2), ('rsirdx', 2), ('slowest', 2), ('x5', 2), ('unixstyle', 2), ('superior', 2), ('endp', 2), ('realizing', 2), ('virtualenvs', 2), ('vcs', 2), ('textxml', 2), ('ten', 2), ('someuserinput', 2), ('sourcecode', 2), ('misunderstood', 2), ('bc66559', 2), ('qualify', 2), ('httpwwwpanoramiocomwapidatagetphotosv1keydummykeytagtestoffset0length20callbackprocessimagesminx30miny0maxx0maxy150', 2), ('120000', 2), ('namebedstatus', 2), ('darwin', 2), ('logcat', 2), ('backing', 2), ('dx', 2), ('jersey', 2), ('6291456', 2), ('drawn', 2), ('conventional', 2), ('150', 2), ('appends', 2), ('comparator', 2), ('componentscore', 2), ('companyfeeddetailfeedsourcetabletoupper', 2), ('sapply', 2), ('geocodergeocode', 2), ('fileinputstream', 2), ('profiles', 2), ('xmx512m', 2), ('rootcommit', 2), ('redundant', 2), ('tvalue', 2), ('es2015', 2), ('inte', 2), ('androidwidgetframelayoutonlayoutframelayoutjava294', 2), ('finetune', 2), ('twodimensional', 2), ('buttonbutton', 2), ('restaurantprototypeuserestroom', 2), ('infinity', 2), ('thissetstatetestme', 2), ('datadismissmodal', 2), ('exits', 2), ('jumping', 2), ('bthe', 2), ('ssplit', 2), ('tough', 2), ('documentonload', 2), ('polymerized', 2), ('a5', 2), ('capitan', 2), ('gameloopevents', 2), ('ababc', 2), ('divisors', 2), ('advantagesdisadvantages', 2), ('dolore', 2), ('expired', 2), ('gitmodules', 2), ('plate', 2), ('resets', 2), ('removeelement', 2), ('errorparsing', 2), ('flaws', 2), ('xdeleter', 2), ('withpgconfig', 2), ('aimagefilename', 2), ('width100px', 2), ('comandroidsupportappcompatv72500', 2), ('actively', 2), ('backticks', 2), ('syspath', 2), ('eh', 2), ('docheight', 2), ('attrs', 2), ('lxc', 2), ('119', 2), ('kicks', 2), ('nslogexists', 2), ('artifactidjunitartifactid', 2), ('destbuffer16', 2), ('absence', 2), ('d6c45e8cc5f0', 2), ('colmd', 2), ('dolorspec', 2), ('myfunctionstring', 2), ('europe', 2), ('motivation', 2), ('falls', 2), ('time1', 2), ('setupcfg', 2), ('fileid', 2), ('promiseresolve', 2), ('contenttypes', 2), ('roundup', 2), ('cheap', 2), ('provideplugin', 2), ('repeats', 2), ('dockercompose', 2), ('intarray', 2), ('obj2', 2), ('hashmapinteger', 2), ('errorandroidruntime7737', 2), ('formmethodpost', 2), ('complaints', 2), ('mythread', 2), ('itemsh2', 2), ('sits', 2), ('hrefhomeadiv', 2), ('logsaccesslog', 2), ('dat', 2), ('optionselectedtext', 2), ('emerg', 2), ('excitement', 2), ('osgetuid', 2), ('mimemodule', 2), ('titleh2', 2), ('german', 2), ('999', 2), ('rootscopeloggeduser', 2), ('consolelogformat', 2), ('uidevice', 2), ('middleware', 2), ('32768', 2), ('dfdfa', 2), ('nobody', 2), ('tfconstanthello', 2), ('retail', 2), ('udfff', 2), ('0045404', 2), ('sara', 2), ('infowindow', 2), ('hidefromkgb', 2), ('vmdk', 2), ('cgrectmakescrollviewframeoriginx', 2), ('userdbmodels', 2), ('joshua', 2), ('1790', 2), ('aconcatb', 2), ('pascalcase', 2), ('bobby', 2), ('13614131160213us', 2), ('nsoperationqueue', 2), ('p3', 2), ('thai', 2), ('bsdlike', 2), ('djangos', 2), ('exitgracefully', 2), ('sizeofchar', 2), ('singlethreaded', 2), ('textlabel', 2), ('computations', 2), ('moref', 2), ('2034', 2), ('ngoptionsoptionvalue', 2), ('pressure', 2), ('stockarr', 2), ('indicating', 2), ('dboscores', 2), ('typenumber', 2), ('thisvertical', 2), ('httphachecktelferhrxmlpl', 2), ('cmdline', 2), ('bla', 2), ('8601', 2), ('stepbystep', 2), ('93', 2), ('subjectaltname', 2), ('coordinates', 2), ('pig', 2), ('thenewobject', 2), ('foundationapache22htdocs', 2), ('socketio', 2), ('symlinksifownermatch', 2), ('optionoption', 2), ('surfing', 2), ('gtk', 2), ('uitableview', 2), ('authenticationmethod', 2), ('onitemclicklistener', 2), ('cnt', 2), ('tofrom', 2), ('eax38h', 2), ('myobjprop', 2), ('person1', 2), ('deeplyburieddifferentjavasourcedirectoryb', 2), ('activateself', 2), ('listenport', 2), ('dso', 2), ('20110819', 2), ('tclose', 2), ('asp', 2), ('3614131160212california', 2), ('hyperlinks', 2), ('hihi', 2), ('androidlayoutgravity', 2), ('responseflush', 2), ('routerrunroutes', 2), ('replied', 2), ('stevie', 2), ('env1', 2), ('realmgithub', 2), ('cxamppphp', 2), ('hashsetstring', 2), ('classca', 2), ('picjpg', 2), ('formatabc', 2), ('automated', 2), ('arrived', 2), ('dataformyservice', 2), ('aimagefileid', 2), ('nodejsorg', 2), ('wipe', 2), ('onceuponatime', 2), ('partcover', 2), ('cocacola', 2), ('finishviewcontroller', 2), ('vendorpluginsmetricfu', 2), ('wat', 2), ('progresssetprogresspos', 2), ('propertychanged', 2), ('matrixarray', 2), ('xmm5', 2), ('incredibly', 2), ('mynameserver', 2), ('somethings', 2), ('opencv', 2), ('mulpds', 2), ('itemmaster', 2), ('thenfunctionval', 2), ('torn', 2), ('demand', 2), ('sps', 2), ('objectanonymous', 2), ('librarydevelopercommandlinetoolsusrbinxcrun', 2), ('wasteful', 2), ('twocolumn', 2), ('mysqlconnect', 2), ('androidlayoutbelowidhome', 2), ('residing', 2), ('unlucky', 2), ('laundry', 2), ('subviews', 2), ('alertok', 2), ('6291456byte', 2), ('itemlist', 2), ('argv2', 2), ('l2', 2), ('firsttotal', 2), ('error2', 2), ('microoptimization', 2), ('wreturntype', 2), ('u000d', 2), ('msbuildbat', 2), ('fishing', 2), ('realised', 2), ('androididandroididlist', 2), ('november', 2), ('tidy', 2), ('height400px', 2), ('positionid', 2), ('held', 2), ('dollars', 2), ('namebart', 2), ('trailimage', 2), ('securityexception', 2), ('999999', 2), ('actionresult', 2), ('ongesturelistener', 2), ('offline', 2), ('obfuscated', 2), ('namename', 2), ('adata3', 2), ('scriptsock', 2), ('fooa', 2), ('recompiling', 2), ('jes5199', 2), ('ctags', 2), ('classitem', 2), ('animatewithduration5', 2), ('a123', 2), ('fbsecret', 2), ('moderator', 2), ('originremotetagname', 2), ('returnstream', 2), ('outputpng', 2), ('similarities', 2), ('garages', 2), ('macintosh', 2), ('nb', 2), ('exotic', 2), ('madapter', 2), ('datetimedatetoday', 2), ('contest', 2), ('nonfastforward', 2), ('partly', 2), ('serviceconnection', 2), ('devtools', 2), ('catches', 2), ('stdc11', 2), ('beforecreate', 2), ('proprietary', 2), ('test4', 2), ('sock', 2), ('creditregistryid', 2), ('mattered', 2), ('truth', 2), ('basetimetotalmilliseconds', 2), ('publicly', 2), ('masterpath', 2), ('titems', 2), ('ar', 2), ('refsheadsrefsremotesorigin', 2), ('mathroundx', 2), ('michaeldrogalis', 2), ('functionapp', 2), ('encouraged', 2), ('stringformat5gn', 2), ('sameorigin', 2), ('h9uest', 2), ('collecting', 2), ('instantiating', 2), ('ngshow', 2), ('usecase', 2), ('cron', 2), ('varlibdocker', 2), ('groupidjunitgroupid', 2), ('pushback', 2), ('ought', 2), ('nifty', 2), ('ea', 2), ('encodes', 2), ('demonstrating', 2), ('thisattrstyle', 2), ('8192', 2), ('ii', 2), ('xa', 2), ('accident', 2), ('keychain', 2), ('rdxrsi', 2), ('dirfoo', 2), ('ggplot2', 2), ('exponentiation', 2), ('euler12bin', 2), ('forstateuicontrolstatenormal', 2), ('es', 2), ('org', 2), ('smiley', 2), ('negate', 2), ('404s', 2), ('skwee357', 2), ('north', 2), ('illustrating', 2), ('scriptps1', 2), ('nest', 2), ('testclass', 2), ('adjusts', 2), ('invocations', 2), ('aires', 2), ('a3', 2), ('ccity', 2), ('waldo2', 2), ('job2', 2), ('tencapsedandwhitespace', 2), ('starter', 2), ('libraryjavajavavirtualmachines', 2), ('analogous', 2), ('0m0020s', 2), ('thisprop', 2), ('contentdiv', 2), ('pasted', 2), ('windowlocationhash', 2), ('systemoutprintlndumtwogetdummy', 2), ('reimport', 2), ('pretend', 2), ('svnmyserverpathtosvnrepos', 2), ('bt', 2), ('srcdir', 2), ('blabla', 2), ('ngifisvalid', 2), ('ttcstopindex', 2), ('whenwhy', 2), ('distinguished', 2), ('assembled', 2), ('loopbound', 2), ('thisismyvariable', 2), ('voidmovebanneroffscreen', 2), ('cineof', 2), ('789', 2), ('seven', 2), ('80column', 2), ('namejohn', 2), ('tracker', 2), ('withthis', 2), ('oneli', 2), ('costs', 2), ('optionalint', 2), ('193', 2), ('tampered', 2), ('onetoone', 2), ('memymachine', 2), ('swelapsed', 2), ('homeeugenepublichtmlallthingsnodeprojectsfb2nodemodulesconnectlibhttpjs2113', 2), ('whywhen', 2), ('j2ee', 2), ('exp2', 2), ('jframe', 2), ('qty1', 2), ('xrange108', 2), ('docsiisexpress', 2), ('myvariablename', 2), ('stragentcontact', 2), ('engineinnodb', 2), ('transactioncommitunlessmanaged', 2), ('2ii', 2), ('intact', 2), ('thiscontext', 2), ('wparentheses', 2), ('user2', 2), ('androidviewwindowleaked', 2), ('professor', 2), ('windowmynamespace', 2), ('xj', 2), ('dictiteritems', 2), ('listmyclass', 2), ('blocking', 2), ('sqlite3preparev2', 2), ('activate', 2), ('newval', 2), ('youarebeingmeanexception', 2), ('recyclerviewadapter', 2), ('rerun', 2), ('controllercontext', 2), ('getitemsjavaxservlethttphttpsession', 2), ('parentwidth', 2), ('bottle', 2), ('dmgr2', 2), ('reveal', 2), ('rand25chr', 2), ('unneccessary', 2), ('reinstallation', 2), ('600036', 2), ('madness', 2), ('bulkinserts', 2), ('destroyitemview', 2), ('dbusersfindupdateduseruserid', 2), ('115', 2), ('localhostjoblist', 2), ('setdata', 2), ('mistaken', 2), ('oldname', 2), ('apiusers', 2), ('chown', 2), ('icc', 2), ('queued', 2), ('ith', 2), ('vain', 2), ('invalidoperationexception', 2), ('animatewithduration2', 2), ('555', 2), ('h1hover', 2), ('documentstatuslogs', 2), ('objprototypetest', 2), ('portability', 2), ('mysqliresult', 2), ('possibilities', 2), ('generators', 2), ('p1', 2), ('collate', 2), ('tabindex1', 2), ('myselectappendoption', 2), ('objmyclassmyprivatemethod', 2), ('shut', 2), ('afoo', 2), ('gateway', 2), ('varchar500', 2), ('extensively', 2), ('hierarchies', 2), ('respheaderscontenttype', 2), ('startp', 2), ('perfmon', 2), ('routes', 2), ('intentintentactionview', 2), ('shepherd', 2), ('newvar', 2), ('disables', 2), ('statuses', 2), ('saxparser', 2), ('b3', 2), ('xcodeselect', 2), ('androidtextstringwelcome', 2), ('appuseexpresserrorhandler', 2), ('androidappactivitythreadaccess600activitythreadjava141', 2), ('assignments', 2), ('san', 2), ('listings', 2), ('pagentinfo', 2), ('bundled', 2), ('music', 2), ('myproject', 2), ('arun', 2), ('z16', 2), ('summing', 2), ('01f', 2), ('systemdataentitycliententitycommanddefinitionexecutestorecommandsentitycommand', 2), ('performancewise', 2), ('cookiesecret', 2), ('ufffe', 2), ('hashmaps', 2), ('datasql', 2), ('myscriptjs', 2), ('table2primarykey', 2), ('floatingactionbutton', 2), ('postgresqlconf', 2), ('topicid', 2), ('bm', 2), ('premature', 2), ('regards', 2), ('trimethyl', 2), ('pessimistic', 2), ('480', 2), ('anders', 2), ('foobarpy', 2), ('tcserver', 2), ('startactivityintent', 2), ('baskets', 2), ('jerrycallfriendquackerquack', 2), ('ipkkllqk', 2), ('cascade', 2), ('acolumnc', 2), ('authenticity', 2), ('parentjava', 2), ('meaningless', 2), ('yy', 2), ('shipmentsshipment', 2), ('pathspec', 2), ('rdx', 2), ('tdtwotd', 2), ('labelnamelabel', 2), ('androidappactivitythreadmainactivitythreadjava5039', 2), ('jmimejar', 2), ('classfoo', 2), ('taught', 2), ('getschomp', 2), ('boxshadow', 2), ('yb', 2), ('catcherror', 2), ('suppresswarningsunchecked', 2), ('inuniont', 2), ('serversent', 2), ('2006', 2), ('habit', 2), ('jetbrains', 2), ('textviewthis', 2), ('interventiondetails', 2), ('raisedbutton', 2), ('v35', 2), ('myobjecttestfunc', 2), ('nsinternalinconsistencyexception', 2), ('selectidengraving', 2), ('v0616', 2), ('annotate', 2), ('312', 2), ('drill', 2), ('vb6', 2), ('dig', 2), ('nowadays', 2), ('bash31', 2), ('qk', 2), ('persistence', 2), ('etccrontab', 2), ('file2n', 2), ('phpscript', 2), ('forum', 2), ('ot', 2), ('mallocsizeofint', 2), ('retq', 2), ('jorman', 2), ('mircjoinmsession', 2), ('accountnumber', 2), ('publickeytoken764d581291d764f7', 2), ('child40', 2), ('mdataset', 2), ('bluetooth', 2), ('0100', 2), ('inclusive', 2), ('2589', 2), ('addmul', 2), ('encryptionkey', 2), ('mypattern', 2), ('stringlength10', 2), ('exporting', 2), ('ctrlspace', 2), ('za', 2), ('rsync', 2), ('purported', 2), ('hough', 2), ('foobarsomefile', 2), ('viewcontroller', 2), ('nsmutableurlrequest', 2), ('secretly', 2), ('mmpopcntu64bufferi1', 2), ('lorem', 2), ('columnscolumnnames', 2), ('hearts', 2), ('east', 2), ('substitute', 2), ('cumsumjob2', 2), ('filters', 2), ('puzzles', 2), ('tokencomment', 2), ('noexit', 2), ('squelch', 2), ('nondeterministic', 2), ('reused', 2), ('stateless', 2), ('swriter', 2), ('lremovei', 2), ('rownum', 2), ('syncfeeds', 2), ('todoreducerjs', 2), ('exercises', 2), ('contrary', 2), ('auth0', 2), ('hogs', 2), ('blob3', 2), ('south', 2), ('pinpoint', 2), ('person3', 2), ('mislastmessages', 2), ('loadvar1', 2), ('safestring', 2), ('xy1', 2), ('fromlist', 2), ('altered', 2), ('connectivity', 2), ('100000sizeduration', 2), ('sometable', 2), ('onlogn', 2), ('instancesclass', 2), ('dispatchoncet', 2), ('validationcheck', 2), ('executions', 2), ('myelement', 2), ('watched', 2), ('deinitialized', 2), ('selfview', 2), ('catchall', 2), ('9000000', 2), ('mpageradapter', 2), ('pathtofolder', 2), ('audio', 2), ('sitemaster', 2), ('titlec', 2), ('categoryidcategoryid', 2), ('stat', 2), ('myvar', 2), ('inspire', 2), ('frankly', 2), ('nrow', 2), ('sqlfiddle', 2), ('hmacmd5', 2), ('iwasdesignedpoorly', 2), ('aspnetmvc', 2), ('21st', 2), ('phase2', 2), ('iterhasnext', 2), ('fieldbody', 2), ('viewer', 2), ('sideeffects', 2), ('2003', 2), ('processclasses', 2), ('olddate', 2), ('systemoutprintlnx', 2), ('spambot', 2), ('casing', 2), ('reminds', 2), ('installutil', 2), ('yo', 2), ('androidbackgroundc8c8c8', 2), ('stringcollection', 2), ('inext', 2), ('i2', 2), ('modelstate', 2), ('altering', 2), ('matrices', 2), ('cursorexecutedelete', 2), ('quotation', 2), ('nosql', 2), ('050', 2), ('fileseclipsesdk42win32x8664eclipseeclipseexe', 2), ('607kb', 2), ('xrange0', 2), ('delta', 2), ('independently', 2), ('20080922', 2), ('capath', 2), ('inherently', 2), ('1004', 2), ('quirks', 2), ('okhttp', 2), ('level3', 2), ('cobject', 2), ('unencoded', 2), ('unnamed', 2), ('mynameisbalajison', 2), ('c0dbc34fd631', 2), ('002', 2), ('comandroidideeclipseadtpackageproduct', 2), ('0d', 2), ('scopeheader', 2), ('sequential', 2), ('myremoterepocomstuffgit', 2), ('btninfo', 2), ('abc07fcf79aebed56497e3894c6c3c06046f913a', 2), ('aaaaaa', 2), ('instruct', 2), ('aes', 2), ('friday', 2), ('2367', 2), ('idmyinput', 2), ('interfacing', 2), ('symlinks', 2), ('ienumerablet', 2), ('propagate', 2), ('payment', 2), ('nul', 2), ('cw', 2), ('gemfilelock', 2), ('uqpeoplelibrarycardid', 2), ('rsshandler', 2), ('raster', 2), ('rivworksmodelnegotiationproduct', 2), ('outofcore', 2), ('flasheventsmouseeventmimport', 2), ('filtere', 2), ('indexof', 2), ('thread2', 2), ('statecomment', 2), ('nsurlsessionconfiguration', 2), ('windowactionbar', 2), ('abandon', 2), ('stashes', 2), ('destructor', 2), ('amazon', 2), ('onetwo', 2), ('classtabmessage', 2), ('nsmutablearray', 2), ('grandfather', 2), ('finite', 2), ('asyncmethodint', 2), ('bothered', 2), ('unspecified', 2), ('1104', 2), ('visitors', 2), ('typetextcss', 2), ('ios9', 2), ('1888', 2), ('selfleftchild', 2), ('verified', 2), ('buttonactive', 2), ('unintentionally', 2), ('tickcountnow', 2), ('codetoremovetup', 2), ('qtagsicontainscleanedsearchterm', 2), ('eia', 2), ('douglas', 2), ('cssonly', 2), ('illegalaccessexception', 2), ('justified', 2), ('601009', 2), ('sdklibrary', 2), ('adjusted', 2), ('graphicsdevicemanager', 2), ('allign', 2), ('usrbinpython', 2), ('byte1024', 2), ('bust', 2), ('maxelems', 2), ('listlong', 2), ('mypublicmethodself', 2), ('filesfolders', 2), ('thisreadystate', 2), ('achieving', 2), ('velocityx', 2), ('winner', 2), ('installations', 2), ('value30typetip', 2), ('age39', 2), ('ccygwinhomexpheriorcodelunchcallgit', 2), ('runmesh', 2), ('i18n', 2), ('http1270018000', 2), ('embedding', 2), ('rwrwr', 2), ('addressmanager', 2), ('proportions', 2), ('preserves', 2), ('enclosing', 2), ('1689', 2), ('deltas', 2), ('204', 2), ('dimensions', 2), ('alisgithubcomderekerdmannlunchcallgitinforefs', 2), ('initialise', 2), ('abc123', 2), ('someuser', 2), ('etcgmt11', 2), ('048', 2), ('alena2', 2), ('grabbing', 2), ('androidtextstringlabelsubmitbutton', 2), ('resultoptions', 2), ('helloandroid', 2), ('targetlonglist', 2), ('fdappend', 2), ('eddis', 2), ('enumgetvaluestypeoft', 2), ('roman', 2), ('myproperty', 2), ('wpcontentw3tcconfigmasterphp', 2), ('5a', 2), ('tall', 2), ('tradition', 2), ('xmlfindstrengthseachfunction', 2), ('listiterator', 2), ('androidappactivitythreadhhandlemessageactivitythreadjava1234', 2), ('pltshow', 2), ('arraylisttienda', 2), ('iliststring', 2), ('overkill', 2), ('cygwinmingw', 2), ('twitters', 2), ('documentcompatmode', 2), ('cndigicert', 2), ('cdn', 2), ('uninitialized', 2), ('questionref', 2), ('operates', 2), ('androidididedittext', 2), ('stems', 2), ('preincrementdecrement', 2), ('openid', 2), ('polling', 2), ('coders', 2), ('deduce', 2), ('contract', 2), ('libmodelmap', 2), ('10000000', 2), ('objdim', 2), ('portions', 2), ('usr', 2), ('listapplesdo', 2), ('jon', 2), ('datacompanymicrosoft', 2), ('responsive', 2), ('bigdecimal', 2), ('wsdl', 2), ('androidlayoutwidthmatchparent', 2), ('height100', 2), ('bcommon', 2), ('spades', 2), ('uploading', 2), ('cond1', 2), ('unions', 2), ('usages', 2), ('imgji', 2), ('simpledateformatyyyymmdd', 2), ('contribute', 2), ('0109852', 2), ('currentstatus', 2), ('shape', 2), ('lilorem', 2), ('val4', 2), ('singletonclass', 2), ('auxwww', 2), ('reinstalled', 2), ('prod', 2), ('busting', 2), ('inputnamebedstatuscheckedval', 2), ('scrollviewframeoriginy', 2), ('defaultt', 2), ('agoodfeature', 2), ('ts', 2), ('somefunction', 2), ('xrange010', 2), ('19219268', 2), ('finalstring', 2), ('decorated', 2), ('myviewpager', 2), ('httpproxymycompany80', 2), ('sqlite3bindtext', 2), ('mongo', 2), ('itemtostringtolowerequalsvaluetrimtolower', 2), ('cond2', 2), ('tackle', 2), ('phase', 2), ('displayformatdataformatstring', 2), ('news', 2), ('sykes2', 2), ('2478', 2), ('score', 2), ('textoverflow', 2), ('senders', 2), ('installer', 2), ('alabama', 2), ('segues', 2), ('blob2', 2), ('tzinfoutc', 2), ('typeofint', 2), ('worker', 2), ('plata', 2), ('gps', 2), ('qdefer', 2), ('slight', 2), ('contacts', 2), ('0x400a68', 2), ('querystring', 2), ('code1022', 2), ('xhropen', 2), ('fileutils', 2), ('polygonsize', 2), ('dispatchtimet', 2), ('shortest', 2), ('scrollviewframesizewidth', 2), ('mea', 2), ('authmessagesender', 2), ('rulers', 2), ('contextmenuinfo', 2), ('greasemonkey', 2), ('adjustments', 2), ('swing', 2), ('toy', 2), ('teams', 2), ('needless', 2), ('putphp', 2), ('margins', 2), ('collegues', 2), ('proj', 2), ('bstaged', 2), ('nhibernate', 2), ('commit1', 2), ('restriction', 2), ('lili', 2), ('pprint', 2), ('misalignment', 2), ('vehiclesvehicle', 2), ('minorversion', 2), ('demonstrated', 2), ('picker', 2), ('dategetmonth', 2), ('ufdd0', 2), ('recorded', 2), ('notifysubscribers', 2), ('switchcont', 2), ('suo', 2), ('vlderror', 2), ('cbc', 2), ('columncontent', 2), ('myvalue', 2), ('html2pdf', 2), ('gitkeep', 2), ('functionprodgrp', 2), ('tabdelimited', 2), ('l1', 2), ('qa', 2), ('entitycommand', 2), ('pltfigure', 2), ('iequalitycomparer', 2), ('scalar', 2), ('awful', 2), ('simplifies', 2), ('wishes', 2), ('blob1', 2), ('pep', 2), ('originremotename', 2), ('abort', 2), ('violate', 2), ('xxvalsum', 2), ('uirouter', 2), ('rewritemodule', 2), ('serious', 2), ('value1option', 2), ('blatantly', 2), ('ktext', 2), ('joblist', 2), ('processdata', 2), ('hackish', 2), ('decryption', 2), ('withoutpgconfig', 2), ('httpsmichaeldrog', 2), ('serializedtodto', 2), ('environmentcurrentdirectory', 2), ('ri', 2), ('expressionfunct', 2), ('determines', 2), ('135', 2), ('l2s', 2), ('232', 2), ('propar', 2), ('cngithubcom', 2), ('mpager', 2), ('getapplicationcontext', 2), ('eax30hxmm0', 2), ('ahtml', 2), ('timesleepsleeptime', 2), ('exited', 2), ('namehomer', 2), ('classtitleinput', 2), ('cafile', 2), ('xmlreader', 2), ('insecure', 2), ('age10', 2), ('magical', 2), ('surrounded', 2), ('dispatchoncestatictoken', 2), ('setprivatevalueint', 2), ('openfname', 2), ('fabric120', 2), ('oncreateview', 2), ('contributor', 2), ('obtains', 2), ('7f1c864e', 2), ('odigicert', 2), ('dots', 2), ('lc', 2), ('xuacompatible', 2), ('actionname', 2), ('inmemory', 2), ('underlined', 2), ('templatetypename', 2), ('synchronizing', 2), ('viewpoint', 2), ('latitude', 2), ('jsonstring', 2), ('toggles', 2), ('ghi', 2), ('logrotate', 2), ('unnecessarily', 2), ('duplicating', 2), ('smallint', 2), ('fbid', 2), ('browsermodule', 2), ('000108678', 2), ('jextees', 2), ('keepalive', 2), ('124221303', 2), ('reenter', 2), ('consolelogres', 2), ('explanatory', 2), ('referential', 2), ('httpsiteb', 2), ('367', 2), ('bf', 2), ('eb65635', 2), ('datajson', 2), ('logincontroller', 2), ('fn', 2), ('0nrwrwr', 2), ('dprogram', 2), ('heavily', 2), ('appoptions', 2), ('ship', 2), ('canonization', 2), ('initialheight', 2), ('packed', 2), ('synchronously', 2), ('aliasing', 2), ('fooitem', 2), ('homeguymtmpnpm32312137317651802406586997057311237packagepackagejson', 2), ('mypromisefnparam1', 2), ('teaching', 2), ('maxwidth', 2), ('deliver', 2), ('accustomed', 2), ('ancestors', 2), ('hole', 2), ('int1', 2), ('ga', 2), ('nondom', 2), ('hat', 2), ('189', 2), ('sales', 2), ('minsdkversion', 2), ('testc', 2), ('inherent', 2), ('usrsharepostgresqlpostgresqlconfsample', 2), ('homeeugenepublichtmlallthingsnodeprojectsfb2nodemodulesconnectlibmiddlewarerouterjs18913', 2), ('foot', 2), ('strdate', 2), ('badvalueerror', 2), ('javalangnullpointerexception', 2), ('var3', 2), ('meyers', 2), ('emulator5554', 2), ('abcdefg', 2), ('androidinputtypetextemailaddress', 2), ('file1nrwrwr', 2), ('listchild', 2), ('hrefcontactadiv', 2), ('sqlite3clearbindingsstmt', 2), ('spinning', 2), ('ptime', 2), ('postdatatask', 2), ('angularmodulemyapp', 2), ('m2e', 2), ('percent', 2), ('q2', 2), ('needle', 2), ('coldfusion', 2), ('orderproductform', 2), ('gamerow', 2), ('gits', 2), ('superclassw', 2), ('examplestring', 2), ('zalgo', 2), ('ngshownghide', 2), ('bulkinsert', 2), ('objectrouter', 2), ('sqlite3stepstmt', 2), ('completes', 2), ('formatsvg', 2), ('ipsumli', 2), ('stringisnulloremptyvalue', 2), ('f12', 2), ('1071', 2), ('equivilent', 2), ('ordersorderid', 2), ('south073', 2), ('mails2in', 2), ('visited', 2), ('spannable', 2), ('snip', 2), ('motionevent', 2), ('university', 2), ('tripped', 2), ('14988611', 2), ('aaaa', 2), ('u1f469', 2), ('lambdaexpression', 2), ('bear', 2), ('xxxxxxxx', 2), ('catchfunctionerr', 2), ('prodgrp', 2), ('verbatim', 2), ('pronounced', 2), ('squashes', 2), ('accesscontrolallowmethods', 2), ('negligible', 2), ('predicates', 2), ('0x400c00', 2), ('visually', 2), ('numerics', 2), ('rollback', 2), ('sourcefiles', 2), ('labelsize20', 2), ('attaching', 2), ('orgslf4jimplstaticloggerbinder', 2), ('emerged', 2), ('consistency', 2), ('skwee357domaincom', 2), ('assemblyfileversion', 2), ('op', 2), ('checkedchecked', 2), ('withsenderidsender', 2), ('httpgetdatajsonsuccessfunction', 2), ('formbuilder', 2), ('pleaseliul', 2), ('suite', 2), ('re', 2), ('infrastructure', 2), ('mymethodstring', 2), ('spare', 2), ('listorder', 2), ('clearall', 2), ('suggesting', 2), ('sandbox', 2), ('phpstorm', 2), ('getexecutionpolicy', 2), ('debianubuntu', 2), ('iddestination', 2), ('code13', 2), ('0x400dd0', 2), ('serverport', 2), ('matdumsas', 2), ('headsdevel', 2), ('hundred', 2), ('dash', 2), ('bitmaps', 2), ('applicationlanguagegr', 2), ('useragenti', 2), ('degrade', 2), ('erased', 2), ('102', 2), ('arose', 2), ('vh', 2), ('libpqfeh', 2), ('dbaccommodationsfind', 2), ('valuesearch', 2), ('calculateandupdatetextfields', 2), ('maintained', 2), ('localespecific', 2), ('horror', 2), ('hypothetical', 2), ('rptdate', 2), ('oncreatecontextmenulistener', 2), ('3f6d2a', 2), ('orkut', 2), ('snow', 2), ('pecan', 2), ('composed', 2), ('th', 2), ('myfeature', 2), ('mmpopcntu64bufferi2', 2), ('byrow', 2), ('ffe', 2), ('whichever', 2), ('monads', 2), ('spans', 2), ('autoremove', 2), ('ccompanyid', 2), ('uml', 2), ('budget', 2), ('observed', 2), ('androidididbutton', 2), ('excludefolder', 2), ('415', 2), ('androidlayoutcenterhorizontaltrue', 2), ('raxrcx', 2), ('idlist', 2), ('counterintuitive', 2), ('savedev', 2), ('xframeoptions', 2), ('keen', 2), ('subsets', 2), ('0034160', 2), ('median', 2), ('hpp', 2), ('reinventing', 2), ('functione', 2), ('catchhandler', 2), ('ud800', 2), ('decompiled', 2), ('mystruct', 2), ('gitgithubcommynameoldrepgit', 2), ('c1l', 2), ('consolelogdate', 2), ('bitten', 2), ('sunday', 2), ('onbeforeunload', 2), ('webrick', 2), ('iterremove', 2), ('nonpython', 2), ('inputline', 2), ('mood', 2), ('fetches', 2), ('scenes', 2), ('reformat', 2), ('king', 2), ('perrorpath', 2), ('france', 2), ('cohesion', 2), ('postman', 2), ('otn', 2), ('fyi', 2), ('growing', 2), ('postinsqltopicid', 2), ('issuer', 2), ('mat', 2), ('positionfixed', 2), ('otransition', 2), ('codefirst', 2), ('holes', 2), ('f104', 2), ('istore1', 2), ('getint', 2), ('nix', 2), ('doubts', 2), ('ldap', 2), ('marginleft', 2), ('ctrlv', 2), ('156467', 2), ('bsd', 2), ('cultureneutral', 2), ('uitableviews', 2), ('1578', 2), ('v3', 2), ('platformindependent', 2), ('engravingshow', 2), ('tinkering', 2), ('windowsauthentication', 2), ('systemoutprintlnmapgetword', 2), ('androidid', 2), ('iran', 2), ('actiontypesupdated', 2), ('titlea', 2), ('jonny', 2), ('stdifstream', 2), ('calloc', 2), ('nonblocking', 2), ('asynctasks', 2), ('dangling', 2), ('descriptions', 2), ('getsupportfragmentmanager', 2), ('standing', 2), ('writeblueline', 2), ('lend', 2), ('038s', 2), ('excluded', 2), ('inotifypropertychanged', 2), ('dispose', 2), ('adictkey', 2), ('updown', 2), ('denoted', 2), ('iqueryablet', 2), ('dedede', 2), ('sitting', 2), ('systemoutprintlnhello', 2), ('daunting', 2), ('ibdata1', 2), ('aerospiketgz', 2), ('classba', 2), ('defid', 2), ('portalinstallscripts', 2), ('4402b8c', 2), ('resorted', 2), ('x0', 2), ('filewriter', 2), ('fp', 2), ('productname', 2), ('spin', 2), ('userdata', 2), ('wildly', 2), ('devs', 2), ('objmystring', 2), ('ax', 2), ('nsnotificationcenter', 2), ('tableheader', 2), ('enablemmap', 2), ('homeeugenepublichtmlallthingsnodeprojectsfb2nodemodulesconnectlibmiddlewaresessionjs3239', 2), ('1987l', 2), ('websphere', 2), ('sslmodule', 2), ('value2option', 2), ('stmtbindparam', 2), ('windowonbeforeunload', 2), ('clsinstancescls', 2), ('masks', 2), ('superview', 2), ('devfd4', 2), ('idrsapub', 2), ('safer', 2), ('inset', 2), ('dpis', 2), ('getx', 2), ('tailinunionu', 2), ('410', 2), ('delx', 2), ('thisgetattributestyle', 2), ('i686', 2), ('investigations', 2), ('bordercolor', 2), ('origindevel', 2), ('testelementfadeoutfast', 2), ('edit3', 2), ('homekyle', 2), ('ensg00000207604', 2), ('w3schools', 2), ('unwrapped', 2), ('clubs', 2), ('pytz', 2), ('modelviewviewmodel', 2), ('insertions', 2), ('androidappactivitydispatchkeyeventactivityjava2269', 2), ('endpoints', 2), ('configdatabasesyml', 2), ('nanny', 2), ('ienumerableproduct', 2), ('travisci', 2), ('therere', 2), ('countemail', 2), ('700', 2), ('399', 2), ('urlstring', 2), ('hoho', 2), ('rewriterule', 2), ('inverted', 2), ('structuring', 2), ('hype', 2), ('staticmethodt', 2), ('attack', 2), ('rbp', 2), ('bordercollapse', 2), ('fmt', 2), ('1123', 2), ('sushi', 2), ('msil', 2), ('inputbox', 2), ('uniform', 2), ('reflecting', 2), ('layoutpersonal', 2), ('northwindorder', 2), ('ida', 2), ('vldid', 2), ('simulate', 2), ('getinstance', 2), ('uid', 2), ('affects', 2), ('roe', 2), ('tagnames', 2), ('mimemagicfile', 2), ('libmodelom', 2), ('6015', 2), ('optionname', 2), ('processnexttick', 2), ('cipherfinalhex', 2), ('5432', 2), ('visualizing', 2), ('etcgmt12', 2), ('foreachvar', 2), ('iml', 2), ('recoverable', 2), ('semantic', 2), ('hrefusermessagesspan', 2), ('mytag', 2), ('u32u64', 2), ('ve', 2), ('consolelogmy', 2), ('namespacebase', 2), ('originhead', 2), ('exciting', 2), ('homejohnsshidentity', 2), ('enjoyed', 2), ('buildingid', 2), ('driver', 2), ('sess', 2), ('brushes', 2), ('tunnel', 2), ('singlesignon', 2), ('addmulcpp', 2), ('equalshashcode', 2), ('inputnextint', 2), ('consolelogvalue', 2), ('orderbydescending', 2), ('gitpath', 2), ('comandroidinternalpolicyimplphonewindowsuperdispatchkeyeventphonewindowjava1277', 2), ('0in', 2), ('urllib', 2), ('objmyprivatemethod', 2), ('contention', 2), ('f5', 2), ('ie9', 2), ('af', 2), ('bootstrapping', 2), ('mydate', 2), ('invert', 2), ('mxcontrolsmimport', 2), ('5050', 2), ('reopening', 2), ('educational', 2), ('selfmedian', 2), ('python32', 2), ('mprogress', 2), ('heroes', 2), ('toolset', 2), ('mismatches', 2), ('generalize', 2), ('soreuseaddr', 2), ('titleb', 2), ('printrarray', 2), ('derekerdmannlunchcallgitinforefsservicegitreceivepack', 2), ('unoptimized', 2), ('p14', 2), ('widths', 2), ('wet', 2), ('etcgmt2', 2), ('sqlite3reset', 2), ('gdp', 2), ('displayinlineblock', 2), ('25f5fe70fa84', 2), ('spurving', 2), ('dictionaryof', 2), ('jerrycallfriendspikebark', 2), ('2option', 2), ('aiming', 2), ('clearing', 2), ('varargs', 2), ('animalspecieskey', 2), ('targetstream', 2), ('wwwauthenticate', 2), ('selective', 2), ('predicate', 2), ('mainxml', 2), ('rss', 2), ('maxint', 2), ('selectorclickfunction', 2), ('42000', 2), ('gitdiff', 2), ('impacts', 2), ('sensitive', 2), ('coupling', 2), ('2627', 2), ('7302011', 2), ('refreshcontactlist', 2), ('polygon', 2), ('listgeti', 2), ('comandroidinternaloszygoteinitmainzygoteinitjava560', 2), ('aborting', 2), ('segment', 2), ('timers', 2), ('nanoos', 2), ('tdeliveryselection', 2), ('detach', 2), ('fare', 2), ('movement', 2), ('office', 2), ('foundation', 2), ('textcss', 2), ('clientqueryinsert', 2), ('144', 2), ('corrects', 2), ('lifinal', 2), ('granted', 2), ('formatwoff', 2), ('loadmessagestask', 2), ('y16', 2), ('xib', 2), ('temphtml', 2), ('differing', 2), ('1812', 2), ('edges', 2), ('thedict', 2), ('dfreelance', 2), ('runpepsh', 2), ('maximums', 2), ('statisticsgoo', 2), ('drawing', 2), ('netdeveloper', 2), ('purchase', 2), ('motivations', 2), ('onsubmit', 2), ('cgpoint', 2), ('messagesfragmentclassgetname', 2), ('docwidth', 2), ('stdvector', 2), ('urance', 2), ('scalecontrol', 2), ('httpexamplecomrequesturi', 2), ('xms40m', 2), ('timmy', 2), ('female', 2), ('assid', 2), ('workspace', 2), ('artifacts', 2), ('vb', 2), ('rawinputenter', 2), ('rkeknvq', 2), ('ya', 2), ('601166', 2), ('demonstrates', 2), ('ripple', 2), ('wiring', 2), ('comandroidideeclipseadtpackagefeaturegroup', 2), ('eligible', 2), ('swritertostring', 2), ('bowerjson', 2), ('customerorderservice', 2), ('varname', 2), ('sieve', 2), ('frm', 2), ('viewdata', 2), ('sqlite3closedb', 2), ('offending', 2), ('znotnull', 2), ('proven', 2), ('grammar', 2), ('servlets', 2), ('500px', 2), ('dateutil', 2), ('inverse', 2), ('inputfiles0', 2), ('subclipse', 2), ('myfile', 2), ('wits', 2), ('findviewbyid', 2), ('structs', 2), ('vdbe', 2), ('applyformatineditmode', 2), ('bi', 2), ('200000000', 2), ('diacritics', 2), ('functoolswraps', 2), ('3configurationgroupnullnameconfiguration', 2), ('citerator', 2), ('centeredadiv', 2), ('column3', 2), ('collect2', 2), ('meanwhile', 2), ('myfoo', 2), ('hmm', 2), ('monty', 2), ('sensible', 2), ('tokensadd', 2), ('androidlayoutwidth172dp', 2), ('logconfigmodule', 2), ('ignoresyncctx', 2), ('diffing', 2), ('resp', 2), ('exp1', 2), ('sysout', 2), ('class4', 2), ('xmlserserializeswriter', 2), ('selfsealed', 2), ('sayhello', 2), ('glance', 2), ('under', 2), ('seamlessly', 2), ('contextsavechanges', 2), ('fileinputinputinputfile', 2), ('mapchr', 2), ('sourceproductautoid', 2), ('funct', 2), ('overly', 2), ('expands', 2), ('originbugfixb', 2), ('xsetter', 2), ('virus', 2), ('liststylesquare', 2), ('agenttelnostrip', 2), ('decorate', 2), ('exitfailure', 2), ('idfoo', 2), ('magnitude', 2), ('requirereact', 2), ('timetime', 2), ('fis', 2), ('ipv6', 2), ('inreadbuffer', 2), ('lines1192696', 2), ('nameuser', 2), ('weaknesses', 2), ('ignores', 2), ('nchar', 2), ('xdisplay', 2), ('abd', 2), ('warned', 2), ('dealercontact', 2), ('suck', 2), ('0s', 2), ('consequences', 2), ('querysets', 2), ('ospathdirnamefilepath', 2), ('graphic', 2), ('vwsettextitalic', 2), ('subqueries', 2), ('formattruetype', 2), ('usrbin', 2), ('coreeditor', 2), ('listbranch', 2), ('continuously', 2), ('arraysaslist', 2), ('companyfeeddetaillist', 2), ('dimnames', 2), ('nosuchfieldexception', 2), ('20000', 2), ('3targetmoduletarget', 2), ('applicationpostauthenticaterequest', 2), ('fooi', 2), ('objvalue1', 2), ('microoptimizations', 2), ('aes256sha', 2), ('namesremovename', 2), ('uninstalling', 2), ('inequality', 2), ('reactrouter', 2), ('onmessageselectedmessage', 2), ('intervals', 2), ('systemiopathgetdirectoryname', 2), ('finder', 2), ('410881', 2), ('flushing', 2), ('kdiff3', 2), ('wwwexamplesitecomtextfiletxt', 2), ('026780961', 2), ('keypem', 2), ('centerspanali', 2), ('unified', 2), ('reducelambda', 2), ('gayo', 2), ('commited', 2)]\n"
     ]
    }
   ],
   "source": [
    "print(tagText.count_word_occurencies(data_preprocessed))"
   ]
  },
  {
   "cell_type": "code",
   "execution_count": null,
   "metadata": {
    "collapsed": true
   },
   "outputs": [],
   "source": []
  },
  {
   "cell_type": "code",
   "execution_count": null,
   "metadata": {
    "collapsed": true
   },
   "outputs": [],
   "source": []
  },
  {
   "cell_type": "markdown",
   "metadata": {},
   "source": [
    "<p style=\"font-family: Arial; font-size:1.75em;color:#2462C0; font-style:bold\"><br>\n",
    "III.2 - Data - Bag of words - TF-IDF</p>"
   ]
  },
  {
   "cell_type": "code",
   "execution_count": 17,
   "metadata": {},
   "outputs": [
    {
     "name": "stdout",
     "output_type": "stream",
     "text": [
      "TF_IDF_matrix : (9, 256) of float64\n"
     ]
    },
    {
     "data": {
      "text/html": [
       "<div>\n",
       "<table border=\"1\" class=\"dataframe\">\n",
       "  <thead>\n",
       "    <tr style=\"text-align: right;\">\n",
       "      <th></th>\n",
       "      <th>tf_idf_weights</th>\n",
       "    </tr>\n",
       "  </thead>\n",
       "  <tbody>\n",
       "    <tr>\n",
       "      <th>file</th>\n",
       "      <td>2.203973</td>\n",
       "    </tr>\n",
       "    <tr>\n",
       "      <th>tri</th>\n",
       "      <td>2.203973</td>\n",
       "    </tr>\n",
       "    <tr>\n",
       "      <th>remot</th>\n",
       "      <td>2.203973</td>\n",
       "    </tr>\n",
       "    <tr>\n",
       "      <th>branch</th>\n",
       "      <td>2.203973</td>\n",
       "    </tr>\n",
       "    <tr>\n",
       "      <th>differ</th>\n",
       "      <td>2.203973</td>\n",
       "    </tr>\n",
       "    <tr>\n",
       "      <th>start</th>\n",
       "      <td>2.203973</td>\n",
       "    </tr>\n",
       "    <tr>\n",
       "      <th>thi</th>\n",
       "      <td>2.203973</td>\n",
       "    </tr>\n",
       "    <tr>\n",
       "      <th>delet</th>\n",
       "      <td>2.203973</td>\n",
       "    </tr>\n",
       "    <tr>\n",
       "      <th>piec</th>\n",
       "      <td>2.203973</td>\n",
       "    </tr>\n",
       "    <tr>\n",
       "      <th>return</th>\n",
       "      <td>2.203973</td>\n",
       "    </tr>\n",
       "    <tr>\n",
       "      <th>result</th>\n",
       "      <td>2.203973</td>\n",
       "    </tr>\n",
       "    <tr>\n",
       "      <th>pull</th>\n",
       "      <td>2.203973</td>\n",
       "    </tr>\n",
       "    <tr>\n",
       "      <th>repositori</th>\n",
       "      <td>2.203973</td>\n",
       "    </tr>\n",
       "    <tr>\n",
       "      <th>id</th>\n",
       "      <td>2.203973</td>\n",
       "    </tr>\n",
       "    <tr>\n",
       "      <th>question</th>\n",
       "      <td>2.203973</td>\n",
       "    </tr>\n",
       "    <tr>\n",
       "      <th>commit</th>\n",
       "      <td>2.203973</td>\n",
       "    </tr>\n",
       "    <tr>\n",
       "      <th>compil</th>\n",
       "      <td>2.203973</td>\n",
       "    </tr>\n",
       "    <tr>\n",
       "      <th>complet</th>\n",
       "      <td>2.203973</td>\n",
       "    </tr>\n",
       "    <tr>\n",
       "      <th>one</th>\n",
       "      <td>2.203973</td>\n",
       "    </tr>\n",
       "    <tr>\n",
       "      <th>standard</th>\n",
       "      <td>2.203973</td>\n",
       "    </tr>\n",
       "    <tr>\n",
       "      <th>time</th>\n",
       "      <td>2.203973</td>\n",
       "    </tr>\n",
       "    <tr>\n",
       "      <th>run</th>\n",
       "      <td>2.203973</td>\n",
       "    </tr>\n",
       "    <tr>\n",
       "      <th>similar</th>\n",
       "      <td>2.203973</td>\n",
       "    </tr>\n",
       "    <tr>\n",
       "      <th>yet</th>\n",
       "      <td>2.203973</td>\n",
       "    </tr>\n",
       "    <tr>\n",
       "      <th>alreadi</th>\n",
       "      <td>2.203973</td>\n",
       "    </tr>\n",
       "    <tr>\n",
       "      <th>well</th>\n",
       "      <td>2.203973</td>\n",
       "    </tr>\n",
       "    <tr>\n",
       "      <th>undo</th>\n",
       "      <td>2.203973</td>\n",
       "    </tr>\n",
       "    <tr>\n",
       "      <th>answer</th>\n",
       "      <td>2.203973</td>\n",
       "    </tr>\n",
       "    <tr>\n",
       "      <th>want</th>\n",
       "      <td>2.203973</td>\n",
       "    </tr>\n",
       "    <tr>\n",
       "      <th>int</th>\n",
       "      <td>2.203973</td>\n",
       "    </tr>\n",
       "    <tr>\n",
       "      <th>...</th>\n",
       "      <td>...</td>\n",
       "    </tr>\n",
       "    <tr>\n",
       "      <th>intarrays</th>\n",
       "      <td>2.609438</td>\n",
       "    </tr>\n",
       "    <tr>\n",
       "      <th>extrem</th>\n",
       "      <td>2.609438</td>\n",
       "    </tr>\n",
       "    <tr>\n",
       "      <th>fail</th>\n",
       "      <td>2.609438</td>\n",
       "    </tr>\n",
       "    <tr>\n",
       "      <th>faster</th>\n",
       "      <td>2.609438</td>\n",
       "    </tr>\n",
       "    <tr>\n",
       "      <th>featur</th>\n",
       "      <td>2.609438</td>\n",
       "    </tr>\n",
       "    <tr>\n",
       "      <th>fetch</th>\n",
       "      <td>2.609438</td>\n",
       "    </tr>\n",
       "    <tr>\n",
       "      <th>first</th>\n",
       "      <td>2.609438</td>\n",
       "    </tr>\n",
       "    <tr>\n",
       "      <th>follow</th>\n",
       "      <td>2.609438</td>\n",
       "    </tr>\n",
       "    <tr>\n",
       "      <th>found</th>\n",
       "      <td>2.609438</td>\n",
       "    </tr>\n",
       "    <tr>\n",
       "      <th>from</th>\n",
       "      <td>2.609438</td>\n",
       "    </tr>\n",
       "    <tr>\n",
       "      <th>gather</th>\n",
       "      <td>2.609438</td>\n",
       "    </tr>\n",
       "    <tr>\n",
       "      <th>gcc</th>\n",
       "      <td>2.609438</td>\n",
       "    </tr>\n",
       "    <tr>\n",
       "      <th>gener</th>\n",
       "      <td>2.609438</td>\n",
       "    </tr>\n",
       "    <tr>\n",
       "      <th>getchildcandid</th>\n",
       "      <td>2.609438</td>\n",
       "    </tr>\n",
       "    <tr>\n",
       "      <th>getchildcandidatesself</th>\n",
       "      <td>2.609438</td>\n",
       "    </tr>\n",
       "    <tr>\n",
       "      <th>githubcomgitusergitproject</th>\n",
       "      <td>2.609438</td>\n",
       "    </tr>\n",
       "    <tr>\n",
       "      <th>given</th>\n",
       "      <td>2.609438</td>\n",
       "    </tr>\n",
       "    <tr>\n",
       "      <th>go</th>\n",
       "      <td>2.609438</td>\n",
       "    </tr>\n",
       "    <tr>\n",
       "      <th>goe</th>\n",
       "      <td>2.609438</td>\n",
       "    </tr>\n",
       "    <tr>\n",
       "      <th>great</th>\n",
       "      <td>2.609438</td>\n",
       "    </tr>\n",
       "    <tr>\n",
       "      <th>happen</th>\n",
       "      <td>2.609438</td>\n",
       "    </tr>\n",
       "    <tr>\n",
       "      <th>here</th>\n",
       "      <td>2.609438</td>\n",
       "    </tr>\n",
       "    <tr>\n",
       "      <th>hidden</th>\n",
       "      <td>2.609438</td>\n",
       "    </tr>\n",
       "    <tr>\n",
       "      <th>hurt</th>\n",
       "      <td>2.609438</td>\n",
       "    </tr>\n",
       "    <tr>\n",
       "      <th>im</th>\n",
       "      <td>2.609438</td>\n",
       "    </tr>\n",
       "    <tr>\n",
       "      <th>import</th>\n",
       "      <td>2.609438</td>\n",
       "    </tr>\n",
       "    <tr>\n",
       "      <th>independ</th>\n",
       "      <td>2.609438</td>\n",
       "    </tr>\n",
       "    <tr>\n",
       "      <th>initi</th>\n",
       "      <td>2.609438</td>\n",
       "    </tr>\n",
       "    <tr>\n",
       "      <th>everyth</th>\n",
       "      <td>2.609438</td>\n",
       "    </tr>\n",
       "    <tr>\n",
       "      <th>yield</th>\n",
       "      <td>2.609438</td>\n",
       "    </tr>\n",
       "  </tbody>\n",
       "</table>\n",
       "<p>256 rows × 1 columns</p>\n",
       "</div>"
      ],
      "text/plain": [
       "                            tf_idf_weights\n",
       "file                              2.203973\n",
       "tri                               2.203973\n",
       "remot                             2.203973\n",
       "branch                            2.203973\n",
       "differ                            2.203973\n",
       "start                             2.203973\n",
       "thi                               2.203973\n",
       "delet                             2.203973\n",
       "piec                              2.203973\n",
       "return                            2.203973\n",
       "result                            2.203973\n",
       "pull                              2.203973\n",
       "repositori                        2.203973\n",
       "id                                2.203973\n",
       "question                          2.203973\n",
       "commit                            2.203973\n",
       "compil                            2.203973\n",
       "complet                           2.203973\n",
       "one                               2.203973\n",
       "standard                          2.203973\n",
       "time                              2.203973\n",
       "run                               2.203973\n",
       "similar                           2.203973\n",
       "yet                               2.203973\n",
       "alreadi                           2.203973\n",
       "well                              2.203973\n",
       "undo                              2.203973\n",
       "answer                            2.203973\n",
       "want                              2.203973\n",
       "int                               2.203973\n",
       "...                                    ...\n",
       "intarrays                         2.609438\n",
       "extrem                            2.609438\n",
       "fail                              2.609438\n",
       "faster                            2.609438\n",
       "featur                            2.609438\n",
       "fetch                             2.609438\n",
       "first                             2.609438\n",
       "follow                            2.609438\n",
       "found                             2.609438\n",
       "from                              2.609438\n",
       "gather                            2.609438\n",
       "gcc                               2.609438\n",
       "gener                             2.609438\n",
       "getchildcandid                    2.609438\n",
       "getchildcandidatesself            2.609438\n",
       "githubcomgitusergitproject        2.609438\n",
       "given                             2.609438\n",
       "go                                2.609438\n",
       "goe                               2.609438\n",
       "great                             2.609438\n",
       "happen                            2.609438\n",
       "here                              2.609438\n",
       "hidden                            2.609438\n",
       "hurt                              2.609438\n",
       "im                                2.609438\n",
       "import                            2.609438\n",
       "independ                          2.609438\n",
       "initi                             2.609438\n",
       "everyth                           2.609438\n",
       "yield                             2.609438\n",
       "\n",
       "[256 rows x 1 columns]"
      ]
     },
     "execution_count": 17,
     "metadata": {},
     "output_type": "execute_result"
    }
   ],
   "source": [
    "from sklearn.feature_extraction.text import TfidfTransformer\n",
    "from sklearn.feature_extraction.text import TfidfVectorizer\n",
    "\n",
    "stemmer = nltk.stem.porter.PorterStemmer()\n",
    "stopword = nltk.corpus.stopwords.words('english')\n",
    "\n",
    "#X = data_preprocessed.unique()\n",
    "X = data_preprocessed[0:9].unique()\n",
    "\n",
    "def stem_and_filter(doc):\n",
    "    tokens = [stemmer.stem(w) for w in analyzer(doc)]\n",
    "    return [token for token in tokens if token.isalpha()]\n",
    "\n",
    "analyzer = TfidfVectorizer().build_analyzer()\n",
    "cv = TfidfVectorizer(lowercase=True, stop_words=\"english\", analyzer=stem_and_filter, min_df=0.00, max_df=0.3)  # we remove words if it appears in more than 30 % of the corpus (not found stopwords like Box, Christmas and so on)\n",
    "word_count_vector = cv.fit_transform(X)\n",
    "print(\"TF_IDF_matrix :\", word_count_vector.shape, \"of\", word_count_vector.dtype)\n",
    "tfidf_transformer=TfidfTransformer(smooth_idf=True,use_idf=True)\n",
    "tfidf_transformer.fit(word_count_vector)\n",
    "# print idf values\n",
    "df_idf = pd.DataFrame(tfidf_transformer.idf_, index=cv.get_feature_names(),columns=[\"tf_idf_weights\"])\n",
    " \n",
    "# sort ascending\n",
    "df_idf.sort_values(by=['tf_idf_weights'])\n"
   ]
  },
  {
   "cell_type": "code",
   "execution_count": 18,
   "metadata": {},
   "outputs": [
    {
     "name": "stdout",
     "output_type": "stream",
     "text": [
      "Topic : 0 :\n",
      "list python key values print\n",
      "Topic : 1 :\n",
      "string object var variable test\n",
      "Topic : 2 :\n",
      "function return var code value\n",
      "Topic : 3 :\n",
      "android application file version data\n",
      "Topic : 4 :\n",
      "public new method void string\n",
      "Topic : 5 :\n",
      "use difference question php know\n",
      "Topic : 6 :\n",
      "table studio visual eclipse html\n",
      "Topic : 7 :\n",
      "way number want best easy\n",
      "Topic : 8 :\n",
      "int code long main lines\n",
      "Topic : 9 :\n",
      "file error python install command\n",
      "Topic : 10 :\n",
      "im code file script use\n",
      "Topic : 11 :\n",
      "language good things programming right\n",
      "Topic : 12 :\n",
      "like id im way using\n",
      "Topic : 13 :\n",
      "div css height content width\n",
      "Topic : 14 :\n",
      "loadmodule cprogram override virtual list\n",
      "Topic : 15 :\n",
      "search certain grep contain pattern\n",
      "Topic : 16 :\n",
      "git branch commit file files\n",
      "Topic : 17 :\n",
      "run image windows command process\n",
      "Topic : 18 :\n",
      "class methods java private interface\n",
      "Topic : 19 :\n",
      "data user request server database\n",
      "['000', '10', '100', '1000', '11', '12', '123', '13', '14', '15', '16', '20', '23', '25', '26', '30', '32', '50', '80', 'abc', 'able', 'abstract', 'accept', 'access', 'accomplish', 'according', 'achieve', 'action', 'activity', 'actual', 'actually', 'add', 'added', 'adding', 'additional', 'address', 'age', 'ago', 'ajax', 'algorithm', 'allow', 'allowed', 'allows', 'andor', 'android', 'androidlayoutheightwrapcontent', 'angularjs', 'answer', 'answers', 'apache', 'api', 'app', 'apparently', 'appear', 'appears', 'append', 'application', 'applications', 'apply', 'approach', 'appropriate', 'args', 'argument', 'arguments', 'array', 'arrays', 'article', 'ask', 'asked', 'asking', 'aspnet', 'assembly', 'assume', 'async', 'attribute', 'attributes', 'authentication', 'automatically', 'available', 'avoid', 'aware', 'away', 'background', 'bad', 'bar', 'base', 'based', 'bash', 'basic', 'basically', 'behavior', 'best', 'better', 'big', 'binary', 'bit', 'block', 'body', 'book', 'boolean', 'border', 'box', 'branch', 'branches', 'break', 'browser', 'browsers', 'buffer', 'bug', 'build', 'building', 'built', 'builtin', 'button', 'buttons', 'byte', 'bytes', 'cache', 'callback', 'called', 'calling', 'calls', 'came', 'care', 'case', 'cases', 'cat', 'catch', 'cause', 'center', 'certain', 'change', 'changed', 'changes', 'changing', 'char', 'character', 'characters', 'check', 'checkbox', 'checked', 'checking', 'checkout', 'child', 'choice', 'choose', 'chrome', 'class', 'classes', 'clean', 'clear', 'click', 'client', 'clone', 'close', 'code', 'collection', 'color', 'column', 'columns', 'come', 'comes', 'coming', 'command', 'commands', 'comment', 'comments', 'commit', 'commits', 'committed', 'common', 'compare', 'comparison', 'compile', 'compiled', 'compiler', 'complete', 'completely', 'component', 'computer', 'config', 'configuration', 'configure', 'confused', 'connect', 'connection', 'consider', 'considered', 'console', 'const', 'constant', 'constructor', 'contain', 'container', 'containing', 'contains', 'content', 'contents', 'contenttype', 'context', 'continue', 'control', 'controller', 'convert', 'copy', 'core', 'correct', 'correctly', 'count', 'couple', 'course', 'cprogram', 'create', 'created', 'creates', 'creating', 'css', 'curl', 'current', 'currently', 'custom', 'data', 'database', 'dataframe', 'date', 'datetime', 'day', 'days', 'db', 'debug', 'decimal', 'declaration', 'declare', 'def', 'default', 'define', 'defined', 'definition', 'delete', 'deleted', 'dependencies', 'dependency', 'description', 'design', 'details', 'detect', 'determine', 'developer', 'developers', 'development', 'device', 'dictionary', 'diff', 'difference', 'differences', 'different', 'directly', 'directories', 'directory', 'disable', 'display', 'displayed', 'div', 'django', 'docker', 'docs', 'document', 'documentation', 'documents', 'does', 'dom', 'double', 'download', 'duplicate', 'easier', 'easily', 'easy', 'echo', 'eclipse', 'edit', 'editor', 'edittext', 'effect', 'efficient', 'elegant', 'element', 'elements', 'email', 'encoding', 'end', 'enter', 'entire', 'entity', 'enum', 'environment', 'equal', 'equals', 'equivalent', 'err', 'error', 'errors', 'especially', 'event', 'events', 'exact', 'exactly', 'example', 'examples', 'excel', 'exception', 'exceptions', 'execute', 'executed', 'executing', 'execution', 'exist', 'existing', 'exists', 'exit', 'expect', 'expected', 'experience', 'explain', 'explanation', 'explorer', 'export', 'express', 'expression', 'extends', 'extension', 'external', 'extra', 'fact', 'fail', 'failed', 'fails', 'fairly', 'false', 'far', 'fast', 'faster', 'fatal', 'feature', 'features', 'feel', 'fetch', 'field', 'fields', 'figure', 'file', 'filename', 'files', 'filter', 'final', 'finally', 'finding', 'fine', 'firefox', 'fix', 'fixed', 'float', 'folder', 'folders', 'following', 'follows', 'foo', 'force', 'foreach', 'form', 'format', 'forms', 'forward', 'fragment', 'fragments', 'frame', 'framework', 'free', 'fully', 'function', 'functional', 'functionality', 'functions', 'future', 'gcc', 'general', 'generate', 'generated', 'generic', 'gets', 'getting', 'git', 'github', 'gitignore', 'given', 'gives', 'global', 'goes', 'going', 'good', 'google', 'got', 'great', 'grep', 'group', 'guess', 'guide', 'handle', 'handler', 'handling', 'happen', 'happening', 'happens', 'hard', 'hash', 'hashmap', 'head', 'header', 'headers', 'heard', 'height', 'hello', 'help', 'heres', 'hidden', 'hide', 'history', 'hoping', 'host', 'html', 'http', 'id', 'idea', 'ideally', 'ideas', 'iframe', 'ignore', 'ill', 'im', 'image', 'images', 'img', 'implement', 'implementation', 'implemented', 'import', 'important', 'include', 'included', 'includes', 'including', 'index', 'info', 'information', 'init', 'inline', 'inner', 'input', 'insert', 'inserts', 'inside', 'install', 'installed', 'instance', 'instances', 'instead', 'int', 'integer', 'integers', 'interested', 'interface', 'interfaces', 'internet', 'ios', 'issue', 'issues', 'item', 'items', 'iterate', 'ive', 'jar', 'java', 'javascript', 'john', 'join', 'jquery', 'js', 'json', 'key', 'keyboard', 'keys', 'keyword', 'kind', 'know', 'label', 'language', 'languages', 'large', 'later', 'latest', 'layout', 'learn', 'learning', 'left', 'length', 'let', 'lets', 'level', 'li', 'libraries', 'library', 'like', 'likely', 'line', 'lines', 'link', 'links', 'linq', 'linux', 'list', 'lists', 'little', 'load', 'loaded', 'loading', 'loadmodule', 'local', 'location', 'log', 'login', 'long', 'longer', 'look', 'looked', 'looking', 'looks', 'loop', 'loops', 'lot', 'lots', 'mac', 'machine', 'main', 'make', 'makes', 'making', 'managed', 'manager', 'manually', 'map', 'master', 'match', 'matches', 'matter', 'maybe', 'mean', 'meaning', 'means', 'member', 'memory', 'mention', 'mentioned', 'menu', 'merge', 'message', 'messages', 'method', 'methods', 'mind', 'missing', 'mode', 'model', 'modified', 'modify', 'module', 'modules', 'moment', 'mongodb', 'multiple', 'mvc', 'myclass', 'mysql', 'named', 'names', 'namespace', 'necessary', 'need', 'needed', 'needs', 'net', 'network', 'new', 'nice', 'node', 'nodejs', 'normal', 'note', 'noticed', 'npm', 'null', 'number', 'numbers', 'obj', 'object', 'objects', 'obvious', 'obviously', 'official', 'ok', 'old', 'ones', 'open', 'operation', 'operator', 'operators', 'option', 'optional', 'options', 'order', 'origin', 'original', 'os', 'output', 'outside', 'overflow', 'override', 'package', 'packages', 'page', 'pages', 'pandas', 'parameter', 'parameters', 'parent', 'parse', 'particular', 'pass', 'passed', 'password', 'past', 'path', 'pattern', 'patterns', 'people', 'perform', 'performance', 'perl', 'permission', 'person', 'php', 'pip', 'place', 'places', 'plain', 'platform', 'plugin', 'point', 'pointer', 'points', 'port', 'position', 'possible', 'post', 'postgresql', 'practice', 'prefer', 'preferred', 'present', 'pretty', 'prevent', 'previous', 'primary', 'print', 'prints', 'private', 'probably', 'problem', 'problems', 'process', 'program', 'programming', 'project', 'projects', 'proper', 'properly', 'properties', 'property', 'protected', 'provide', 'provided', 'ps', 'ptr', 'public', 'pull', 'purpose', 'push', 'pushed', 'python', 'queries', 'query', 'question', 'questions', 'quick', 'quickly', 'quite', 'quotes', 'rails', 'ran', 'random', 'range', 'react', 'read', 'reading', 'real', 'really', 'reason', 'reasons', 'rebase', 'recent', 'recently', 'recommended', 'record', 'records', 'red', 'redirect', 'reference', 'references', 'regex', 'regular', 'related', 'relative', 'release', 'remote', 'remove', 'removing', 'rename', 'render', 'replace', 'repo', 'repository', 'request', 'requests', 'require', 'required', 'requires', 'reset', 'resolve', 'resource', 'resources', 'response', 'rest', 'result', 'results', 'return', 'returned', 'returns', 'revert', 'right', 'rm', 'root', 'rounded', 'row', 'rows', 'ruby', 'rules', 'run', 'running', 'runs', 'runtime', 'said', 'sample', 'save', 'saw', 'say', 'says', 'scenario', 'scope', 'screen', 'script', 'scripts', 'scroll', 'sdk', 'search', 'searching', 'second', 'seconds', 'section', 'security', 'seen', 'select', 'selected', 'selector', 'self', 'send', 'sense', 'sent', 'separate', 'server', 'service', 'services', 'session', 'set', 'setting', 'settings', 'setup', 'shell', 'short', 'shown', 'shows', 'similar', 'simple', 'simply', 'single', 'singleton', 'site', 'situation', 'size', 'slow', 'small', 'software', 'solution', 'solutions', 'solve', 'sort', 'source', 'space', 'spaces', 'span', 'special', 'specific', 'specifically', 'specified', 'specify', 'speed', 'split', 'sql', 'sqlite', 'src', 'ssh', 'stack', 'standard', 'start', 'started', 'starting', 'starts', 'stash', 'state', 'statement', 'static', 'status', 'step', 'steps', 'stop', 'store', 'stored', 'str', 'string', 'strings', 'struct', 'structure', 'studio', 'stuff', 'style', 'submit', 'success', 'successfully', 'sudo', 'suggested', 'suggestions', 'sum', 'support', 'suppose', 'supposed', 'sure', 'svn', 'swift', 'switch', 'syntax', 'tab', 'table', 'tables', 'tag', 'tags', 'takes', 'target', 'task', 'tell', 'template', 'terminal', 'terms', 'test', 'testing', 'tests', 'text', 'textview', 'thanks', 'thats', 'theres', 'theyre', 'thing', 'things', 'think', 'thinking', 'thought', 'thread', 'throw', 'throws', 'time', 'times', 'title', 'today', 'token', 'tool', 'tools', 'tr', 'trace', 'track', 'tree', 'tried', 'trouble', 'true', 'try', 'trying', 'turn', 'type', 'types', 'typetext', 'ui', 'ul', 'unable', 'undefined', 'understand', 'understanding', 'undo', 'unexpected', 'unfortunately', 'unicode', 'unique', 'unit', 'unless', 'unsigned', 'untracked', 'update', 'updated', 'upload', 'url', 'usage', 'use', 'used', 'useful', 'user', 'username', 'users', 'uses', 'using', 'usually', 'utf8', 'valid', 'value', 'values', 'var', 'variable', 'variables', 'various', 'version', 'versions', 'view', 'views', 'vim', 'virtual', 'visual', 'void', 'vs', 'wait', 'want', 'wanted', 'warning', 'way', 'ways', 'web', 'website', 'whats', 'width', 'window', 'windows', 'wondering', 'word', 'words', 'work', 'worked', 'working', 'works', 'world', 'write', 'writing', 'written', 'wrong', 'xcode', 'xml', 'years', 'yes']\n",
      "LatentDirichletAllocation(batch_size=128, doc_topic_prior=None,\n",
      "             evaluate_every=-1, learning_decay=0.7,\n",
      "             learning_method='online', learning_offset=50.0,\n",
      "             max_doc_update_iter=100, max_iter=5, mean_change_tol=0.001,\n",
      "             n_jobs=1, n_topics=20, perp_tol=0.1, random_state=0,\n",
      "             topic_word_prior=None, total_samples=1000000.0, verbose=0)\n"
     ]
    }
   ],
   "source": [
    "from sklearn.feature_extraction.text import CountVectorizer\n",
    "\n",
    "from sklearn.decomposition import LatentDirichletAllocation\n",
    "no_topics = 20\n",
    "documents = data_preprocessed.unique()\n",
    "\n",
    "tf_vectorizer = CountVectorizer(\n",
    "    max_df=0.95,\n",
    "    min_df=2, \n",
    "    max_features=1000,\n",
    "    stop_words='english'\n",
    ")\n",
    "tf = tf_vectorizer.fit_transform(documents)\n",
    "\n",
    "# Run LDA\n",
    "lda = LatentDirichletAllocation(n_topics=no_topics, max_iter=5, learning_method='online', learning_offset=50.,random_state=0).fit(tf)\n",
    "\n",
    "'''\n",
    "def display_topics(model, feature_names, no_top_words):\n",
    "    for topic_idx, topic in enumerate(model.components_):\n",
    "        print(\"Topic :\", topic_idx, \":\" )\n",
    "        print (\" \".join([feature_names[i]\n",
    "                        for i in topic.argsort()[:-no_top_words - 1:-1]]))\n",
    "'''\n",
    "\n",
    "no_top_words = 5\n",
    "tagText.display_topics(lda, tf_vectorizer.get_feature_names(), no_top_words)\n",
    "print(tf_vectorizer.get_feature_names())\n",
    "print(lda)\n"
   ]
  },
  {
   "cell_type": "markdown",
   "metadata": {},
   "source": [
    "<p style=\"font-family: Arial; font-size:1.75em;color:#2462C0; font-style:bold\"><br>\n",
    "IV - Data - Tag genetaor </p>"
   ]
  },
  {
   "cell_type": "markdown",
   "metadata": {},
   "source": [
    "<p style=\"font-family: Arial; font-size:1.75em;color:#2462C0; font-style:bold\"><br>\n",
    "IV.1 - Data - Tag generator - Unsupervised - By nb of occurence</p>"
   ]
  },
  {
   "cell_type": "code",
   "execution_count": 19,
   "metadata": {},
   "outputs": [
    {
     "name": "stdout",
     "output_type": "stream",
     "text": [
      "204\n",
      "1413\n",
      "245.5\n",
      "474.25\n",
      "228.75\n",
      "-97.625\n",
      "817.375\n"
     ]
    },
    {
     "data": {
      "text/plain": [
       "\"[('like', 1413), ('use', 1244), ('using', 1232), ('way', 1130), ('want', 1123), ('im', 1088), ('code', 1051), ('git', 1035), ('file', 1021), ('would', 962), ('get', 950), ('new', 861), ('one', 855), ('this', 826), ('string', 786), ('1', 694), ('know', 637), ('function', 635), ('example', 584), ('need', 571), ('class', 567), ('ive', 560), ('error', 554), ('something', 548), ('c', 545), ('it', 511), ('return', 495), ('following', 494), ('files', 492), ('work', 489), ('id', 479), ('var', 478), ('data', 473), ('0', 468), ('2', 461), ('python', 460), ('branch', 459), ('set', 458), ('public', 456), ('method', 439), ('value', 434), ('list', 427), ('object', 426), ('javascript', 418), ('also', 410), ('div', 408), ('find', 407), ('int', 392), ('see', 379), ('line', 374), ('question', 371), ('make', 357), ('tried', 354), ('command', 352), ('array', 351), ('time', 349), ('create', 345), ('name', 345), ('used', 344), ('could', 343), ('3', 343), ('difference', 334), ('trying', 331), ('possible', 328), ('add', 327), ('two', 326), ('run', 325), ('text', 313), ('script', 310), ('java', 310), ('without', 308), ('commit', 307), ('first', 304), ('version', 303), ('server', 298), ('type', 294), ('i', 292), ('seems', 286), ('problem', 284), ('however', 283), ('changes', 281), ('different', 280), ('directory', 279), ('application', 275), ('b', 272), ('number', 271), ('user', 269), ('project', 265), ('found', 265), ('cant', 262), ('working', 261), ('a', 260), ('update', 259), ('x', 248), ('test', 247), ('select', 246), ('jquery', 244), ('table', 240), ('input', 240), ('best', 239), ('case', 239), ('repository', 236), ('php', 236), ('page', 236), ('output', 231), ('master', 230), ('values', 228), ('simple', 227), ('another', 225), ('key', 220), ('whats', 220), ('is', 220), ('change', 220), ('variable', 214), ('5', 213), ('works', 213), ('database', 212), ('try', 212), ('element', 211), ('better', 210), ('read', 210), ('understand', 210), ('static', 210), ('instead', 208), ('call', 208), ('html', 206), ('solution', 206), ('looking', 204)]\""
      ]
     },
     "execution_count": 19,
     "metadata": {},
     "output_type": "execute_result"
    }
   ],
   "source": [
    "dict_tag = count_word_occurencies(data_preprocessed)\n",
    "dict_tag = str(dict_tag)\n",
    "dict_tag\n"
   ]
  },
  {
   "cell_type": "code",
   "execution_count": 20,
   "metadata": {},
   "outputs": [
    {
     "name": "stdout",
     "output_type": "stream",
     "text": [
      "['code', 'with', 'like', 'git']\n",
      "['code', 'with']\n"
     ]
    }
   ],
   "source": [
    "def unsupervised_tag(dict_word_key, new_question, number_max_tag):\n",
    "    tags = [word for word in new_question.split() if (word in dict_word_key)]\n",
    "    return tags[0:number_max_tag]\n",
    "\n",
    "print(unsupervised_tag(dict_tag, \"How save my code source with soft like git\", 20))\n",
    "print(unsupervised_tag(dict_tag, \"How save my code source with soft like like git\", 2))\n",
    "#for word in \"like git branche totot, test\".split() if (word in dict_word_key)"
   ]
  },
  {
   "cell_type": "code",
   "execution_count": 21,
   "metadata": {},
   "outputs": [
    {
     "data": {
      "text/plain": [
       "['code', 'with']"
      ]
     },
     "execution_count": 21,
     "metadata": {},
     "output_type": "execute_result"
    }
   ],
   "source": [
    "tagText.unsupervised_tag(dict_tag, \"How save my code source with soft like git\", 2)"
   ]
  },
  {
   "cell_type": "markdown",
   "metadata": {},
   "source": [
    "<p style=\"font-family: Arial; font-size:1.75em;color:#2462C0; font-style:bold\"><br>\n",
    "IV.2-a - Data - Tag generator - Unsupervised - LDA</p>"
   ]
  },
  {
   "cell_type": "code",
   "execution_count": 22,
   "metadata": {},
   "outputs": [
    {
     "name": "stdout",
     "output_type": "stream",
     "text": [
      "Topic : 0 :\n",
      "reason applicationxjavascript mani keyword pull\n",
      "Topic : 1 :\n",
      "branch primari anomali method stop\n",
      "Topic : 2 :\n",
      "anomali wrong start stdendl branch\n",
      "Topic : 3 :\n",
      "faster method subsequ browser selfleftchild\n",
      "Topic : 4 :\n",
      "moder sixtyseven differ getchildcandid target\n",
      "Topic : 5 :\n",
      "remot case show fail sinc\n",
      "Topic : 6 :\n",
      "static self uptod staticcastdoubleclock random\n",
      "Topic : 7 :\n",
      "anoth modul uptod might complangcmoder\n",
      "Topic : 8 :\n",
      "algorithm thing python unsort remotesoriginbugfix\n",
      "Topic : 9 :\n",
      "rest server unsort whether api\n",
      "Topic : 10 :\n",
      "follow them systemoutprintlnsum describ goe\n",
      "Topic : 11 :\n",
      "from seen them exampl strang\n",
      "Topic : 12 :\n",
      "int here systemoutprintlnsum commit loop\n",
      "Topic : 13 :\n",
      "distanc seen getchildcandidatesself written silli\n",
      "Topic : 14 :\n",
      "textxjavascript gather make mistakenli mani\n",
      "Topic : 15 :\n",
      "systemnanotim sinc branch case given\n",
      "Topic : 16 :\n",
      "again text primari success call\n",
      "Topic : 17 :\n",
      "rest method remot renam similar\n",
      "Topic : 18 :\n",
      "need support accident rnd around\n",
      "Topic : 19 :\n",
      "branch given gener applicationjson moder\n"
     ]
    }
   ],
   "source": [
    "tf = word_count_vector\n",
    "\n",
    "from sklearn.decomposition import LatentDirichletAllocation\n",
    "no_topics = 20\n",
    "'''\n",
    "tf_vectorizer = COuntVectorizer(max_df)\n",
    "tf = tf_vectorizer.fit_transform(documents)\n",
    "'''\n",
    "# Run LDA\n",
    "lda = LatentDirichletAllocation(n_topics=no_topics, max_iter=5, learning_method='online', learning_offset=50.,random_state=0).fit(tf)\n",
    "\n",
    "\n",
    "def display_topics(model, feature_names, no_top_words):\n",
    "    for topic_idx, topic in enumerate(model.components_):\n",
    "        print(\"Topic :\", topic_idx, \":\" )\n",
    "        print (\" \".join([feature_names[i]\n",
    "                        for i in topic.argsort()[:-no_top_words - 1:-1]]))\n",
    "\n",
    "no_top_words = 5\n",
    "display_topics(lda, cv.get_feature_names(), no_top_words)\n",
    "# reprendre forcement avec countVectorizer"
   ]
  },
  {
   "cell_type": "code",
   "execution_count": 23,
   "metadata": {},
   "outputs": [
    {
     "name": "stdout",
     "output_type": "stream",
     "text": [
      "Topic : 0 :\n",
      "branch remote local git pushed\n",
      "Topic : 1 :\n",
      "id question start similar returned\n",
      "Topic : 2 :\n",
      "pushed git commit local new\n",
      "Topic : 3 :\n",
      "start commit pushed branch piece\n",
      "Topic : 4 :\n",
      "returned similar want commit git\n",
      "Topic : 5 :\n",
      "local git start want branch\n",
      "Topic : 6 :\n",
      "undo remote commit deleted include\n",
      "Topic : 7 :\n",
      "git branch commit new remote\n",
      "Topic : 8 :\n",
      "main git id local branch\n",
      "Topic : 9 :\n",
      "question start code similar include\n",
      "Topic : 10 :\n",
      "int id local main include\n",
      "Topic : 11 :\n",
      "main undo question returned similar\n",
      "Topic : 12 :\n",
      "result piece code files returned\n",
      "Topic : 13 :\n",
      "pushed code local new branch\n",
      "Topic : 14 :\n",
      "int code include start main\n",
      "Topic : 15 :\n",
      "pushed question result branch deleted\n",
      "Topic : 16 :\n",
      "result pull new include want\n",
      "Topic : 17 :\n",
      "similar commit branch deleted question\n",
      "Topic : 18 :\n",
      "include want piece int deleted\n",
      "Topic : 19 :\n",
      "start new int result pull\n",
      "['branch', 'code', 'commit', 'deleted', 'files', 'git', 'id', 'include', 'int', 'local', 'main', 'new', 'piece', 'pull', 'pushed', 'question', 'remote', 'result', 'returned', 'similar', 'start', 'undo', 'want']\n",
      "LatentDirichletAllocation(batch_size=128, doc_topic_prior=None,\n",
      "             evaluate_every=-1, learning_decay=0.7,\n",
      "             learning_method='online', learning_offset=50.0,\n",
      "             max_doc_update_iter=100, max_iter=5, mean_change_tol=0.001,\n",
      "             n_jobs=1, n_topics=20, perp_tol=0.1, random_state=0,\n",
      "             topic_word_prior=None, total_samples=1000000.0, verbose=0)\n"
     ]
    }
   ],
   "source": [
    "from sklearn.feature_extraction.text import CountVectorizer\n",
    "\n",
    "from sklearn.decomposition import LatentDirichletAllocation\n",
    "no_topics = 20\n",
    "documents = data_preprocessed[0:9].unique()\n",
    "\n",
    "tf_vectorizer = CountVectorizer(\n",
    "    max_df=0.95,\n",
    "    min_df=2, \n",
    "    max_features=1000,\n",
    "    stop_words='english'\n",
    ")\n",
    "tf = tf_vectorizer.fit_transform(documents)\n",
    "\n",
    "# Run LDA\n",
    "lda = LatentDirichletAllocation(n_topics=no_topics, max_iter=5, learning_method='online', learning_offset=50.,random_state=0).fit(tf)\n",
    "\n",
    "'''\n",
    "def display_topics(model, feature_names, no_top_words):\n",
    "    for topic_idx, topic in enumerate(model.components_):\n",
    "        print(\"Topic :\", topic_idx, \":\" )\n",
    "        print (\" \".join([feature_names[i]\n",
    "                        for i in topic.argsort()[:-no_top_words - 1:-1]]))\n",
    "'''\n",
    "\n",
    "no_top_words = 5\n",
    "tagText.display_topics(lda, tf_vectorizer.get_feature_names(), no_top_words)\n",
    "print(tf_vectorizer.get_feature_names())\n",
    "print(lda)\n"
   ]
  },
  {
   "cell_type": "code",
   "execution_count": 24,
   "metadata": {},
   "outputs": [
    {
     "name": "stdout",
     "output_type": "stream",
     "text": [
      "Topic : 0 :\n",
      "list python key values print\n",
      "Topic : 1 :\n",
      "string object var variable test\n",
      "Topic : 2 :\n",
      "function return var code value\n",
      "Topic : 3 :\n",
      "android application file version data\n",
      "Topic : 4 :\n",
      "public new method void string\n",
      "Topic : 5 :\n",
      "use difference question php know\n",
      "Topic : 6 :\n",
      "table studio visual eclipse html\n",
      "Topic : 7 :\n",
      "way number want best easy\n",
      "Topic : 8 :\n",
      "int code long main lines\n",
      "Topic : 9 :\n",
      "file error python install command\n",
      "Topic : 10 :\n",
      "im code file script use\n",
      "Topic : 11 :\n",
      "language good things programming right\n",
      "Topic : 12 :\n",
      "like id im way using\n",
      "Topic : 13 :\n",
      "div css height content width\n",
      "Topic : 14 :\n",
      "loadmodule cprogram override virtual list\n",
      "Topic : 15 :\n",
      "search certain grep contain pattern\n",
      "Topic : 16 :\n",
      "git branch commit file files\n",
      "Topic : 17 :\n",
      "run image windows command process\n",
      "Topic : 18 :\n",
      "class methods java private interface\n",
      "Topic : 19 :\n",
      "data user request server database\n",
      "['000', '10', '100', '1000', '11', '12', '123', '13', '14', '15', '16', '20', '23', '25', '26', '30', '32', '50', '80', 'abc', 'able', 'abstract', 'accept', 'access', 'accomplish', 'according', 'achieve', 'action', 'activity', 'actual', 'actually', 'add', 'added', 'adding', 'additional', 'address', 'age', 'ago', 'ajax', 'algorithm', 'allow', 'allowed', 'allows', 'andor', 'android', 'androidlayoutheightwrapcontent', 'angularjs', 'answer', 'answers', 'apache', 'api', 'app', 'apparently', 'appear', 'appears', 'append', 'application', 'applications', 'apply', 'approach', 'appropriate', 'args', 'argument', 'arguments', 'array', 'arrays', 'article', 'ask', 'asked', 'asking', 'aspnet', 'assembly', 'assume', 'async', 'attribute', 'attributes', 'authentication', 'automatically', 'available', 'avoid', 'aware', 'away', 'background', 'bad', 'bar', 'base', 'based', 'bash', 'basic', 'basically', 'behavior', 'best', 'better', 'big', 'binary', 'bit', 'block', 'body', 'book', 'boolean', 'border', 'box', 'branch', 'branches', 'break', 'browser', 'browsers', 'buffer', 'bug', 'build', 'building', 'built', 'builtin', 'button', 'buttons', 'byte', 'bytes', 'cache', 'callback', 'called', 'calling', 'calls', 'came', 'care', 'case', 'cases', 'cat', 'catch', 'cause', 'center', 'certain', 'change', 'changed', 'changes', 'changing', 'char', 'character', 'characters', 'check', 'checkbox', 'checked', 'checking', 'checkout', 'child', 'choice', 'choose', 'chrome', 'class', 'classes', 'clean', 'clear', 'click', 'client', 'clone', 'close', 'code', 'collection', 'color', 'column', 'columns', 'come', 'comes', 'coming', 'command', 'commands', 'comment', 'comments', 'commit', 'commits', 'committed', 'common', 'compare', 'comparison', 'compile', 'compiled', 'compiler', 'complete', 'completely', 'component', 'computer', 'config', 'configuration', 'configure', 'confused', 'connect', 'connection', 'consider', 'considered', 'console', 'const', 'constant', 'constructor', 'contain', 'container', 'containing', 'contains', 'content', 'contents', 'contenttype', 'context', 'continue', 'control', 'controller', 'convert', 'copy', 'core', 'correct', 'correctly', 'count', 'couple', 'course', 'cprogram', 'create', 'created', 'creates', 'creating', 'css', 'curl', 'current', 'currently', 'custom', 'data', 'database', 'dataframe', 'date', 'datetime', 'day', 'days', 'db', 'debug', 'decimal', 'declaration', 'declare', 'def', 'default', 'define', 'defined', 'definition', 'delete', 'deleted', 'dependencies', 'dependency', 'description', 'design', 'details', 'detect', 'determine', 'developer', 'developers', 'development', 'device', 'dictionary', 'diff', 'difference', 'differences', 'different', 'directly', 'directories', 'directory', 'disable', 'display', 'displayed', 'div', 'django', 'docker', 'docs', 'document', 'documentation', 'documents', 'does', 'dom', 'double', 'download', 'duplicate', 'easier', 'easily', 'easy', 'echo', 'eclipse', 'edit', 'editor', 'edittext', 'effect', 'efficient', 'elegant', 'element', 'elements', 'email', 'encoding', 'end', 'enter', 'entire', 'entity', 'enum', 'environment', 'equal', 'equals', 'equivalent', 'err', 'error', 'errors', 'especially', 'event', 'events', 'exact', 'exactly', 'example', 'examples', 'excel', 'exception', 'exceptions', 'execute', 'executed', 'executing', 'execution', 'exist', 'existing', 'exists', 'exit', 'expect', 'expected', 'experience', 'explain', 'explanation', 'explorer', 'export', 'express', 'expression', 'extends', 'extension', 'external', 'extra', 'fact', 'fail', 'failed', 'fails', 'fairly', 'false', 'far', 'fast', 'faster', 'fatal', 'feature', 'features', 'feel', 'fetch', 'field', 'fields', 'figure', 'file', 'filename', 'files', 'filter', 'final', 'finally', 'finding', 'fine', 'firefox', 'fix', 'fixed', 'float', 'folder', 'folders', 'following', 'follows', 'foo', 'force', 'foreach', 'form', 'format', 'forms', 'forward', 'fragment', 'fragments', 'frame', 'framework', 'free', 'fully', 'function', 'functional', 'functionality', 'functions', 'future', 'gcc', 'general', 'generate', 'generated', 'generic', 'gets', 'getting', 'git', 'github', 'gitignore', 'given', 'gives', 'global', 'goes', 'going', 'good', 'google', 'got', 'great', 'grep', 'group', 'guess', 'guide', 'handle', 'handler', 'handling', 'happen', 'happening', 'happens', 'hard', 'hash', 'hashmap', 'head', 'header', 'headers', 'heard', 'height', 'hello', 'help', 'heres', 'hidden', 'hide', 'history', 'hoping', 'host', 'html', 'http', 'id', 'idea', 'ideally', 'ideas', 'iframe', 'ignore', 'ill', 'im', 'image', 'images', 'img', 'implement', 'implementation', 'implemented', 'import', 'important', 'include', 'included', 'includes', 'including', 'index', 'info', 'information', 'init', 'inline', 'inner', 'input', 'insert', 'inserts', 'inside', 'install', 'installed', 'instance', 'instances', 'instead', 'int', 'integer', 'integers', 'interested', 'interface', 'interfaces', 'internet', 'ios', 'issue', 'issues', 'item', 'items', 'iterate', 'ive', 'jar', 'java', 'javascript', 'john', 'join', 'jquery', 'js', 'json', 'key', 'keyboard', 'keys', 'keyword', 'kind', 'know', 'label', 'language', 'languages', 'large', 'later', 'latest', 'layout', 'learn', 'learning', 'left', 'length', 'let', 'lets', 'level', 'li', 'libraries', 'library', 'like', 'likely', 'line', 'lines', 'link', 'links', 'linq', 'linux', 'list', 'lists', 'little', 'load', 'loaded', 'loading', 'loadmodule', 'local', 'location', 'log', 'login', 'long', 'longer', 'look', 'looked', 'looking', 'looks', 'loop', 'loops', 'lot', 'lots', 'mac', 'machine', 'main', 'make', 'makes', 'making', 'managed', 'manager', 'manually', 'map', 'master', 'match', 'matches', 'matter', 'maybe', 'mean', 'meaning', 'means', 'member', 'memory', 'mention', 'mentioned', 'menu', 'merge', 'message', 'messages', 'method', 'methods', 'mind', 'missing', 'mode', 'model', 'modified', 'modify', 'module', 'modules', 'moment', 'mongodb', 'multiple', 'mvc', 'myclass', 'mysql', 'named', 'names', 'namespace', 'necessary', 'need', 'needed', 'needs', 'net', 'network', 'new', 'nice', 'node', 'nodejs', 'normal', 'note', 'noticed', 'npm', 'null', 'number', 'numbers', 'obj', 'object', 'objects', 'obvious', 'obviously', 'official', 'ok', 'old', 'ones', 'open', 'operation', 'operator', 'operators', 'option', 'optional', 'options', 'order', 'origin', 'original', 'os', 'output', 'outside', 'overflow', 'override', 'package', 'packages', 'page', 'pages', 'pandas', 'parameter', 'parameters', 'parent', 'parse', 'particular', 'pass', 'passed', 'password', 'past', 'path', 'pattern', 'patterns', 'people', 'perform', 'performance', 'perl', 'permission', 'person', 'php', 'pip', 'place', 'places', 'plain', 'platform', 'plugin', 'point', 'pointer', 'points', 'port', 'position', 'possible', 'post', 'postgresql', 'practice', 'prefer', 'preferred', 'present', 'pretty', 'prevent', 'previous', 'primary', 'print', 'prints', 'private', 'probably', 'problem', 'problems', 'process', 'program', 'programming', 'project', 'projects', 'proper', 'properly', 'properties', 'property', 'protected', 'provide', 'provided', 'ps', 'ptr', 'public', 'pull', 'purpose', 'push', 'pushed', 'python', 'queries', 'query', 'question', 'questions', 'quick', 'quickly', 'quite', 'quotes', 'rails', 'ran', 'random', 'range', 'react', 'read', 'reading', 'real', 'really', 'reason', 'reasons', 'rebase', 'recent', 'recently', 'recommended', 'record', 'records', 'red', 'redirect', 'reference', 'references', 'regex', 'regular', 'related', 'relative', 'release', 'remote', 'remove', 'removing', 'rename', 'render', 'replace', 'repo', 'repository', 'request', 'requests', 'require', 'required', 'requires', 'reset', 'resolve', 'resource', 'resources', 'response', 'rest', 'result', 'results', 'return', 'returned', 'returns', 'revert', 'right', 'rm', 'root', 'rounded', 'row', 'rows', 'ruby', 'rules', 'run', 'running', 'runs', 'runtime', 'said', 'sample', 'save', 'saw', 'say', 'says', 'scenario', 'scope', 'screen', 'script', 'scripts', 'scroll', 'sdk', 'search', 'searching', 'second', 'seconds', 'section', 'security', 'seen', 'select', 'selected', 'selector', 'self', 'send', 'sense', 'sent', 'separate', 'server', 'service', 'services', 'session', 'set', 'setting', 'settings', 'setup', 'shell', 'short', 'shown', 'shows', 'similar', 'simple', 'simply', 'single', 'singleton', 'site', 'situation', 'size', 'slow', 'small', 'software', 'solution', 'solutions', 'solve', 'sort', 'source', 'space', 'spaces', 'span', 'special', 'specific', 'specifically', 'specified', 'specify', 'speed', 'split', 'sql', 'sqlite', 'src', 'ssh', 'stack', 'standard', 'start', 'started', 'starting', 'starts', 'stash', 'state', 'statement', 'static', 'status', 'step', 'steps', 'stop', 'store', 'stored', 'str', 'string', 'strings', 'struct', 'structure', 'studio', 'stuff', 'style', 'submit', 'success', 'successfully', 'sudo', 'suggested', 'suggestions', 'sum', 'support', 'suppose', 'supposed', 'sure', 'svn', 'swift', 'switch', 'syntax', 'tab', 'table', 'tables', 'tag', 'tags', 'takes', 'target', 'task', 'tell', 'template', 'terminal', 'terms', 'test', 'testing', 'tests', 'text', 'textview', 'thanks', 'thats', 'theres', 'theyre', 'thing', 'things', 'think', 'thinking', 'thought', 'thread', 'throw', 'throws', 'time', 'times', 'title', 'today', 'token', 'tool', 'tools', 'tr', 'trace', 'track', 'tree', 'tried', 'trouble', 'true', 'try', 'trying', 'turn', 'type', 'types', 'typetext', 'ui', 'ul', 'unable', 'undefined', 'understand', 'understanding', 'undo', 'unexpected', 'unfortunately', 'unicode', 'unique', 'unit', 'unless', 'unsigned', 'untracked', 'update', 'updated', 'upload', 'url', 'usage', 'use', 'used', 'useful', 'user', 'username', 'users', 'uses', 'using', 'usually', 'utf8', 'valid', 'value', 'values', 'var', 'variable', 'variables', 'various', 'version', 'versions', 'view', 'views', 'vim', 'virtual', 'visual', 'void', 'vs', 'wait', 'want', 'wanted', 'warning', 'way', 'ways', 'web', 'website', 'whats', 'width', 'window', 'windows', 'wondering', 'word', 'words', 'work', 'worked', 'working', 'works', 'world', 'write', 'writing', 'written', 'wrong', 'xcode', 'xml', 'years', 'yes']\n",
      "LatentDirichletAllocation(batch_size=128, doc_topic_prior=None,\n",
      "             evaluate_every=-1, learning_decay=0.7,\n",
      "             learning_method='online', learning_offset=50.0,\n",
      "             max_doc_update_iter=100, max_iter=5, mean_change_tol=0.001,\n",
      "             n_jobs=1, n_topics=20, perp_tol=0.1, random_state=0,\n",
      "             topic_word_prior=None, total_samples=1000000.0, verbose=0)\n"
     ]
    }
   ],
   "source": [
    "from sklearn.feature_extraction.text import CountVectorizer\n",
    "\n",
    "from sklearn.decomposition import LatentDirichletAllocation\n",
    "no_topics = 20\n",
    "documents = data_preprocessed.unique()\n",
    "\n",
    "tf_vectorizer = CountVectorizer(\n",
    "    max_df=0.95,\n",
    "    min_df=2, \n",
    "    max_features=1000,\n",
    "    stop_words='english'\n",
    ")\n",
    "tf = tf_vectorizer.fit_transform(documents)\n",
    "\n",
    "# Run LDA\n",
    "lda = LatentDirichletAllocation(n_topics=no_topics, max_iter=5, learning_method='online', learning_offset=50.,random_state=0).fit(tf)\n",
    "\n",
    "'''\n",
    "def display_topics(model, feature_names, no_top_words):\n",
    "    for topic_idx, topic in enumerate(model.components_):\n",
    "        print(\"Topic :\", topic_idx, \":\" )\n",
    "        print (\" \".join([feature_names[i]\n",
    "                        for i in topic.argsort()[:-no_top_words - 1:-1]]))\n",
    "'''\n",
    "\n",
    "no_top_words = 5\n",
    "tagText.display_topics(lda, tf_vectorizer.get_feature_names(), no_top_words)\n",
    "print(tf_vectorizer.get_feature_names())\n",
    "print(lda)\n"
   ]
  },
  {
   "cell_type": "code",
   "execution_count": 25,
   "metadata": {},
   "outputs": [
    {
     "name": "stdout",
     "output_type": "stream",
     "text": [
      "LatentDirichletAllocation(batch_size=128, doc_topic_prior=None,\n",
      "             evaluate_every=-1, learning_decay=0.7,\n",
      "             learning_method='online', learning_offset=50.0,\n",
      "             max_doc_update_iter=100, max_iter=5, mean_change_tol=0.001,\n",
      "             n_jobs=1, n_topics=20, perp_tol=0.1, random_state=0,\n",
      "             topic_word_prior=None, total_samples=1000000.0, verbose=0)\n"
     ]
    }
   ],
   "source": [
    "from joblib import dump, load\n",
    "dump(lda, 'lda.joblib') \n",
    "ldaLoad = load('lda.joblib') \n",
    "\n",
    "dump(lda, 'lda.joblib') \n",
    "ldaLoad = load('lda.joblib') \n",
    "\n",
    "print(ldaLoad)"
   ]
  },
  {
   "cell_type": "code",
   "execution_count": 26,
   "metadata": {},
   "outputs": [
    {
     "data": {
      "text/plain": [
       "(LatentDirichletAllocation(batch_size=128, doc_topic_prior=None,\n",
       "              evaluate_every=-1, learning_decay=0.7,\n",
       "              learning_method='online', learning_offset=50.0,\n",
       "              max_doc_update_iter=100, max_iter=5, mean_change_tol=0.001,\n",
       "              n_jobs=1, n_topics=20, perp_tol=0.1, random_state=0,\n",
       "              topic_word_prior=None, total_samples=1000000.0, verbose=0),\n",
       "                00        000     00000    000000  000000000    000001  \\\n",
       " Topic0   0.053118   0.052715  0.053150  0.052344   0.052576  0.052718   \n",
       " Topic1   0.052437   0.052260  0.052836  0.052800   0.052175  0.052540   \n",
       " Topic2   0.052550   0.052687  0.052190  0.052302   0.052613  0.051992   \n",
       " Topic3   0.052619   0.052946  0.052853  0.052461   0.052848  0.052230   \n",
       " Topic4   0.053190   0.052314  0.052989  0.053377   0.052600  0.052558   \n",
       " Topic5   0.052709   0.052799  0.053297  0.053076   0.052474  0.053219   \n",
       " Topic6   0.052599   0.052951  0.052922  0.052132   0.053396  0.052527   \n",
       " Topic7   0.053129   0.053847  0.052838  0.052930   0.052621  0.052437   \n",
       " Topic8   2.765011   0.053118  0.056861  3.237870   0.052759  0.052357   \n",
       " Topic9   0.052728   0.052242  0.052780  0.052385   0.052785  0.052256   \n",
       " Topic10  0.054600   0.053773  0.052417  3.136955   1.946458  0.052786   \n",
       " Topic11  0.054392   0.052705  0.053258  0.054045   0.053057  0.052191   \n",
       " Topic12  0.052966   0.052176  0.053004  0.052817   0.052208  0.052479   \n",
       " Topic13  0.052607   0.052073  0.052805  0.052721   0.052846  0.052399   \n",
       " Topic14  2.339493   0.063867  2.638814  0.057098   0.052528  0.054018   \n",
       " Topic15  0.052591   0.052394  0.052249  0.052153   0.052197  0.052489   \n",
       " Topic16  0.057278   0.052454  0.057600  0.055373   0.053491  3.230995   \n",
       " Topic17  0.052823  41.519769  0.052660  0.052427   0.052579  0.052827   \n",
       " Topic18  0.052883   0.052608  0.052814  0.052510   0.052817  0.052594   \n",
       " Topic19  0.052528   0.052442  0.052728  0.052629   0.052125  0.052348   \n",
       " \n",
       "            000003      0001       005        01    ...          zen  \\\n",
       " Topic0   0.052818  0.052638  0.052728  0.052697    ...     0.052379   \n",
       " Topic1   0.052832  0.052765  0.052507  0.053247    ...     0.052611   \n",
       " Topic2   0.059089  0.056843  0.053034  0.052438    ...     0.052728   \n",
       " Topic3   0.052628  0.052486  0.052500  0.052753    ...     0.052214   \n",
       " Topic4   0.052774  0.055387  0.052957  0.054060    ...     0.053117   \n",
       " Topic5   0.052358  2.155631  0.052648  0.052257    ...     0.052282   \n",
       " Topic6   0.052906  0.052815  0.053369  0.052580    ...     0.052549   \n",
       " Topic7   0.052777  0.053073  0.052202  0.052751    ...     0.052318   \n",
       " Topic8   0.052668  0.053167  1.861167  0.053359    ...     0.054491   \n",
       " Topic9   0.052353  0.052542  0.052502  0.053982    ...     0.052737   \n",
       " Topic10  0.080630  0.056067  0.058821  4.383693    ...     2.576024   \n",
       " Topic11  0.053177  0.052577  0.056069  0.054050    ...     0.052459   \n",
       " Topic12  0.052650  0.052636  0.052765  0.052406    ...     0.052530   \n",
       " Topic13  0.052959  0.052884  0.052328  0.052668    ...     0.052320   \n",
       " Topic14  0.055316  0.053246  1.657929  0.362242    ...     0.054054   \n",
       " Topic15  0.052541  0.052488  0.052544  0.052630    ...     0.052461   \n",
       " Topic16  6.379858  0.052645  0.054444  0.054945    ...     0.057647   \n",
       " Topic17  0.052613  0.052978  0.052906  0.052493    ...     0.055344   \n",
       " Topic18  0.052604  0.052543  0.052198  0.052574    ...     0.052235   \n",
       " Topic19  0.052267  0.052800  0.055157  7.890257    ...     0.053132   \n",
       " \n",
       "               zero    zeroes  zerofilled     zeros       zip   zipcode  \\\n",
       " Topic0    0.052372  0.052460    0.052317  0.053154  0.053175  0.052778   \n",
       " Topic1    0.052419  0.052361    0.053046  0.052536  0.052496  0.052634   \n",
       " Topic2    0.052888  0.056907    1.725196  0.052885  0.053068  0.052992   \n",
       " Topic3    0.052830  0.052803    0.052713  0.053077  0.053008  0.052774   \n",
       " Topic4    0.053997  0.076920    0.095222  0.059909  3.798220  0.052625   \n",
       " Topic5    0.052404  0.052883    0.052778  3.738945  0.052586  0.055519   \n",
       " Topic6    0.052697  0.052350    0.052372  0.052897  0.052388  0.052816   \n",
       " Topic7    0.052664  0.052596    0.052592  0.052298  0.053099  0.052352   \n",
       " Topic8    0.053240  0.052572    0.052236  0.052847  0.052661  0.052755   \n",
       " Topic9    0.052180  0.052297    0.052831  0.052943  0.052918  0.052483   \n",
       " Topic10  13.647797  3.598833    1.844057  2.851087  3.122592  0.058105   \n",
       " Topic11   0.107331  0.054197    0.070200  0.053720  0.065431  0.059018   \n",
       " Topic12   0.052293  0.052897    0.052412  0.052457  0.052946  0.052670   \n",
       " Topic13   0.052782  0.053108    0.052797  0.052420  0.073163  0.052686   \n",
       " Topic14   0.052691  0.054292    0.056172  0.054118  0.084226  0.053075   \n",
       " Topic15   0.052735  0.052490    0.052729  0.052918  0.053094  0.052852   \n",
       " Topic16   0.052768  2.078222    0.052892  0.055248  0.052774  2.763370   \n",
       " Topic17   0.052615  0.053067    0.052460  0.053635  0.052495  0.052084   \n",
       " Topic18   0.052920  0.052274    0.052941  0.052873  0.052471  0.052430   \n",
       " Topic19   0.053305  0.052154    0.052235  0.052977  0.052434  0.052211   \n",
       " \n",
       "              zone       zsh       zzz  \n",
       " Topic0   0.052385  0.052139  0.052601  \n",
       " Topic1   0.052398  0.052644  0.052273  \n",
       " Topic2   0.052043  0.055532  0.052681  \n",
       " Topic3   0.052496  0.052699  0.052773  \n",
       " Topic4   0.052587  0.052404  8.001306  \n",
       " Topic5   0.052634  0.052757  0.052838  \n",
       " Topic6   0.052783  0.052536  0.052544  \n",
       " Topic7   0.052897  0.054405  0.052323  \n",
       " Topic8   0.055319  0.055303  0.052801  \n",
       " Topic9   0.052697  0.052728  0.052740  \n",
       " Topic10  3.165457  0.054099  0.052703  \n",
       " Topic11  0.052386  0.055728  0.052919  \n",
       " Topic12  0.052533  0.052485  0.053077  \n",
       " Topic13  0.052555  0.052531  0.052926  \n",
       " Topic14  0.056179  6.553994  0.080964  \n",
       " Topic15  0.052327  0.052595  0.052286  \n",
       " Topic16  0.052917  0.052155  0.052632  \n",
       " Topic17  0.059759  0.052473  0.052600  \n",
       " Topic18  0.052801  0.052367  0.052712  \n",
       " Topic19  0.052528  0.052678  0.052429  \n",
       " \n",
       " [20 rows x 6470 columns],\n",
       " CountVectorizer(analyzer='word', binary=False, decode_error='strict',\n",
       "         dtype=<class 'numpy.int64'>, encoding='utf-8', input='content',\n",
       "         lowercase=True, max_df=0.95, max_features=50000, min_df=2,\n",
       "         ngram_range=(1, 1), preprocessor=None, stop_words='english',\n",
       "         strip_accents=None, token_pattern='(?u)\\\\b\\\\w\\\\w+\\\\b',\n",
       "         tokenizer=None, vocabulary=None))"
      ]
     },
     "execution_count": 26,
     "metadata": {},
     "output_type": "execute_result"
    }
   ],
   "source": [
    "tagText.lda_prepare_tag(data_preprocessed)"
   ]
  },
  {
   "cell_type": "code",
   "execution_count": 27,
   "metadata": {},
   "outputs": [
    {
     "data": {
      "text/plain": [
       "'git file files branch want'"
      ]
     },
     "execution_count": 27,
     "metadata": {},
     "output_type": "execute_result"
    }
   ],
   "source": [
    "lda_tagText, df_topic_keywords, tf_vectorizer = tagText.lda_prepare_tag(data_preprocessed)\n",
    "            \n",
    "tagText.lda_predict('git est un outils de code source.', lda_tagText, df_topic_keywords, tf_vectorizer, 5)"
   ]
  },
  {
   "cell_type": "code",
   "execution_count": 28,
   "metadata": {},
   "outputs": [
    {
     "ename": "NameError",
     "evalue": "name 'joblib' is not defined",
     "output_type": "error",
     "traceback": [
      "\u001b[0;31m---------------------------------------------------------------------------\u001b[0m",
      "\u001b[0;31mNameError\u001b[0m                                 Traceback (most recent call last)",
      "\u001b[0;32m<ipython-input-28-bf1d061cd880>\u001b[0m in \u001b[0;36m<module>\u001b[0;34m()\u001b[0m\n\u001b[1;32m      1\u001b[0m \u001b[1;32mfrom\u001b[0m \u001b[0mjoblib\u001b[0m \u001b[1;32mimport\u001b[0m \u001b[0mdump\u001b[0m\u001b[1;33m,\u001b[0m \u001b[0mload\u001b[0m\u001b[1;33m\u001b[0m\u001b[0m\n\u001b[0;32m----> 2\u001b[0;31m \u001b[0mjoblib\u001b[0m\u001b[1;33m.\u001b[0m\u001b[0mdump\u001b[0m\u001b[1;33m(\u001b[0m\u001b[0mlda\u001b[0m\u001b[1;33m,\u001b[0m \u001b[1;34m'lda.joblib'\u001b[0m\u001b[1;33m,\u001b[0m\u001b[1;36m0\u001b[0m\u001b[1;33m)\u001b[0m\u001b[1;33m\u001b[0m\u001b[0m\n\u001b[0m\u001b[1;32m      3\u001b[0m \u001b[0mjoblib\u001b[0m\u001b[1;33m.\u001b[0m\u001b[0mdump\u001b[0m\u001b[1;33m(\u001b[0m\u001b[0mdf_topic_keywords\u001b[0m\u001b[1;33m,\u001b[0m \u001b[1;34m'df_lda_topic_keywords.joblib'\u001b[0m\u001b[1;33m,\u001b[0m\u001b[1;36m0\u001b[0m\u001b[1;33m)\u001b[0m\u001b[1;33m\u001b[0m\u001b[0m\n\u001b[1;32m      4\u001b[0m \u001b[0mjoblib\u001b[0m\u001b[1;33m.\u001b[0m\u001b[0mdump\u001b[0m\u001b[1;33m(\u001b[0m\u001b[0mtf_vectorizer\u001b[0m\u001b[1;33m,\u001b[0m \u001b[1;34m'tf_lda_vectorizer.joblib'\u001b[0m\u001b[1;33m,\u001b[0m\u001b[1;36m0\u001b[0m\u001b[1;33m)\u001b[0m\u001b[1;33m\u001b[0m\u001b[0m\n",
      "\u001b[0;31mNameError\u001b[0m: name 'joblib' is not defined"
     ]
    }
   ],
   "source": [
    "from joblib import dump, load\n",
    "joblib.dump(lda, 'lda.joblib',0)\n",
    "joblib.dump(df_topic_keywords, 'df_lda_topic_keywords.joblib',0)\n",
    "joblib.dump(tf_vectorizer, 'tf_lda_vectorizer.joblib',0)"
   ]
  },
  {
   "cell_type": "markdown",
   "metadata": {},
   "source": [
    "<p style=\"font-family: Arial; font-size:1.75em;color:#2462C0; font-style:bold\"><br>\n",
    "IV.2-b - Data - Tag generator - Unsupervised - MNF</p>"
   ]
  },
  {
   "cell_type": "code",
   "execution_count": 29,
   "metadata": {},
   "outputs": [
    {
     "name": "stdout",
     "output_type": "stream",
     "text": [
      "Topic : 0 :\n",
      "git commit files undo pushed local deleted pull question new\n",
      "Topic : 1 :\n",
      "int code include main start id new similar piece commit\n",
      "Topic : 2 :\n",
      "branch remote git local want pull deleted new pushed include\n",
      "Topic : 3 :\n",
      "id question returned similar start want int code commit deleted\n",
      "Topic : 4 :\n",
      "result piece returned code want local commit deleted files git\n"
     ]
    }
   ],
   "source": [
    "from sklearn.feature_extraction.text import TfidfVectorizer, CountVectorizer\n",
    "from sklearn.decomposition import NMF\n",
    "no_features=0\n",
    "X = data_preprocessed[0:9].unique()\n",
    "\n",
    "# NMF is able to use tf-idf\n",
    "tfidf_vectorizer = TfidfVectorizer(\n",
    "    max_df=0.95,\n",
    "    min_df=2,\n",
    "    max_features=None,\n",
    "    stop_words='english')\n",
    "tfidf = tfidf_vectorizer.fit_transform(X)\n",
    "tfidf_feature_names = tfidf_vectorizer.get_feature_names()\n",
    "\n",
    "no_topics = 5\n",
    "\n",
    "# Run NMF\n",
    "nmf = NMF(n_components=no_topics, random_state=1, alpha=.1, l1_ratio=.5, init='nndsvd').fit(tfidf)\n",
    "\n",
    "no_top_words = 10\n",
    "display_topics(nmf, tfidf_feature_names, no_top_words)"
   ]
  },
  {
   "cell_type": "code",
   "execution_count": 30,
   "metadata": {},
   "outputs": [
    {
     "data": {
      "text/plain": [
       "'git branch commit master remote'"
      ]
     },
     "execution_count": 30,
     "metadata": {},
     "output_type": "execute_result"
    }
   ],
   "source": [
    "nmf_tagText, tfidf_topic_keywords_tagText, tf_vectorizer = tagText.nmf_prepare_tag(data_preprocessed)\n",
    "            \n",
    "tagText.nmf_predict('git est un outils de code source.', nmf_tagText, tfidf_topic_keywords_tagText, tf_vectorizer, 5)"
   ]
  },
  {
   "cell_type": "code",
   "execution_count": 31,
   "metadata": {},
   "outputs": [
    {
     "name": "stdout",
     "output_type": "stream",
     "text": [
      "NMF(alpha=0.1, beta=1, eta=0.1, init='nndsvd', l1_ratio=0.5, max_iter=200,\n",
      "  n_components=5, nls_max_iter=2000, random_state=1, shuffle=False,\n",
      "  solver='cd', sparseness=None, tol=0.0001, verbose=0)\n"
     ]
    }
   ],
   "source": [
    "from joblib import dump, load\n",
    "dump(nmf_tagText, 'nmf.joblib') \n",
    "nmfLoad = load('nmf.joblib') \n",
    "print(nmfLoad)"
   ]
  },
  {
   "cell_type": "code",
   "execution_count": 32,
   "metadata": {},
   "outputs": [
    {
     "data": {
      "text/plain": [
       "'git branch commit master remote'"
      ]
     },
     "execution_count": 32,
     "metadata": {},
     "output_type": "execute_result"
    }
   ],
   "source": [
    "lda_tagText, df_lda_topic_keywords, tf_lda_vectorizer = tagText.lda_prepare_tag_and_save(data_preprocessed)\n",
    "mnf_tagText, df_nmf_topic_keywords, tf_mnf_vectorizer = tagText.nmf_prepare_tag_and_save(data_preprocessed)\n",
    "\n",
    "tagText.lda_predict('git est un outils de code source. C\\'est bien', lda_tagText, df_lda_topic_keywords, tf_lda_vectorizer, 5)\n",
    "tagText.nmf_predict('git est un outils de code source. C\\'est bien', mnf_tagText, df_nmf_topic_keywords, tf_mnf_vectorizer, 5)\n"
   ]
  },
  {
   "cell_type": "code",
   "execution_count": null,
   "metadata": {
    "collapsed": true
   },
   "outputs": [],
   "source": []
  },
  {
   "cell_type": "markdown",
   "metadata": {},
   "source": [
    "<p style=\"font-family: Arial; font-size:1.75em;color:#2462C0; font-style:bold\"><br>\n",
    "IV.3 - Data - Tag generator - Supervised</p>"
   ]
  },
  {
   "cell_type": "code",
   "execution_count": 34,
   "metadata": {},
   "outputs": [
    {
     "name": "stdout",
     "output_type": "stream",
     "text": [
      "[['java', 'c++', 'performance', 'optimization'], ['git', 'version-control', 'git-commit'], ['git', 'git-branch'], ['git'], ['json', 'http-headers', 'content-type'], ['python', 'iterator', 'generator', 'yield', 'coroutine'], ['c++', 'operators', 'code-formatting'], ['git', 'version-control', 'git-commit'], ['git', 'git-branch'], ['javascript', 'jquery', 'redirect'], ['memory-management', 'stack', 'language-agnostic', 'heap', 'dynamic-memory-allocation'], ['git', 'git-commit'], ['javascript', 'function', 'variables', 'scope', 'closures'], ['javascript', 'string', 'substring', 'string-matching'], ['javascript', 'jquery', 'dom', 'visibility'], ['javascript', 'arrays'], ['javascript', 'syntax'], ['html', 'css', 'background-color'], ['git'], ['json', 'comments'], ['javascript', 'function', 'syntax'], ['java', 'date', 'timezone'], ['git', 'branch', 'git-branch'], ['git', 'version-control', 'overwrite'], ['git'], ['c#', '.net', 'string', 'types', 'alias'], ['javascript', 'operators', 'equality'], ['javascript', 'javascript-objects'], ['android', 'android-layout', 'user-interface'], ['python', 'operators', 'ternary-operator'], ['http', 'security', 'authentication', 'language-agnostic'], ['python', 'oop'], ['python', 'namespaces', 'main', 'python-module'], ['javascript', 'object', 'clone'], ['rest', 'http', 'post', 'put'], ['javascript', 'jquery', 'ajax', 'asynchronous', 'xmlhttprequest'], ['algorithm', 'time-complexity', 'big-o', 'computer-science', 'complexity-theory'], ['javascript', 'file', 'import', 'include'], ['linux', 'text', 'directory', 'grep', 'find'], ['git', 'gitignore'], ['soap', 'apache-flex', 'coldfusion', 'actionscript', 'wsdl'], ['http', 'url', 'browser'], ['javascript', 'jquery', 'angularjs'], ['bash', 'directory'], ['git', 'git-merge'], ['git', 'git-branch', 'branching-and-merging'], ['sql', 'database', 'join', 'inner-join', 'outer-join'], ['git', 'version-control'], ['python', 'shell', 'subprocess', 'command', 'external'], ['javascript', 'arrays', 'loops', 'foreach', 'iteration'], ['javascript', 'jquery', 'html', 'dom', 'checkbox'], ['php', 'arguments', 'operators', 'symbols', 'php-5.3'], ['http', 'url', 'uri'], ['python', 'dictionary', 'merge'], ['git', 'version-control'], ['git', 'repository', 'git-branch', 'git-push'], ['html', 'css', 'alignment', 'centering'], ['regex', 'regex-lookarounds', 'regex-negation', 'regex-group'], ['javascript', 'ecmascript-6', 'scope', 'var'], ['javascript', 'regex', 'validation', 'email'], ['javascript', 'jquery', 'checkbox'], ['javascript', 'string', 'replace'], ['git', 'directory'], ['git', 'github', 'git-branch'], ['javascript', 'json', 'ajax', 'security'], ['rest', 'http', 'definition'], ['java', 'object', 'nullpointerexception', 'null'], ['html', 'css', 'html5', 'placeholder'], ['algorithm', 'sorting', 'language-agnostic', 'matching'], ['javascript', 'uuid', 'guid'], ['javascript', 'date', 'datetime', 'timestamp', 'unix-timestamp'], ['java', 'string', 'io', 'stream', 'inputstream'], ['python', 'exception', 'directory', 'path', 'operating-system'], ['javascript', 'arrays', 'algorithm', 'time-complexity', 'javascript-objects'], ['python', 'string', 'substring', 'contains'], ['android', 'android-layout', 'android-softkeyboard'], ['git', 'github'], ['git', 'git-merge'], ['c#', '.net', 'loops', 'enums', 'enumeration'], ['java', 'collections', 'hashmap', 'hashtable'], ['java', 'casting', 'operators', 'variable-assignment', 'assignment-operator'], ['shell', 'unix', 'posix'], ['sql', 'sql-server', 'tsql', 'select'], ['java', 'android'], ['python', 'sorting', 'dictionary'], ['vim', 'vi'], ['docker', 'containers', 'virtual-machine', 'virtualization'], ['git', 'branch', 'git-branch'], ['java', 'arrays', 'arraylist', 'type-conversion'], ['git', 'url'], ['git', 'git-submodules'], ['angularjs', 'dependency-injection', 'angularjs-service'], ['git'], ['git', 'github', 'fork', 'pull-request'], ['python', 'list'], ['java', 'string', 'security', 'char', 'passwords'], ['python', 'oop', 'methods', 'python-decorators'], ['python', 'list', 'loops'], ['logging', 'search', 'grep', 'command-line-interface'], ['java', 'loops', 'hashmap', 'iteration'], ['html', 'css', 'html-table', 'alignment'], ['regex', 'validation', 'email'], ['python', 'list', 'data-structures', 'append', 'extend'], ['git'], ['java', 'memory', 'memory-leaks'], ['java', 'dictionary', 'collections', 'iteration'], ['bash', 'file-io', 'scripting'], ['node.js', 'npm', 'package.json'], ['git', 'branch', 'git-branch'], ['javascript', 'performance', 'function', 'dynamic'], ['git', 'git-rebase'], ['design-patterns', 'dependency-injection', 'language-agnostic', 'terminology'], ['c#', 'enums', 'casting'], ['git'], ['java', 'private', 'public', 'protected'], ['java', 'arraylist', 'collections', 'linked-list'], ['javascript', 'arrays', 'append'], ['css', 'css-selectors'], ['git', 'git-branch'], ['python', 'list', 'slice'], ['python', 'scope', 'global-variables'], ['javascript', 'jquery', 'javascript-events', 'event-handling'], ['c++', 'string', 'split'], ['javascript', 'javascript-objects', 'clone'], ['git', 'rebase', 'git-rebase'], ['git'], ['java', 'string', 'type-conversion', 'int'], ['c', 'performance', 'sqlite', 'optimization'], ['java', 'serialization'], ['javascript', 'url'], ['git', 'repository', 'delete-file', 'remote-server'], ['git'], ['python', 'python-2.7', 'dictionary'], ['javascript', 'operators'], ['python', 'list', 'indexing'], ['php', 'mysql', 'sql', 'security', 'sql-injection'], ['python', 'list', 'multidimensional-array'], ['flash', 'caching'], ['c#', 'string', 'contains'], ['android', 'listview', 'android-edittext'], ['javascript', 'url', 'plugins', 'query-string'], ['math', 'floating-point', 'language-agnostic', 'floating-accuracy'], ['python', 'dictionary'], ['git'], ['c++', 'constructor'], ['javascript', 'object', 'undefined'], ['php', 'string', 'substring', 'contains', 'string-matching'], ['javascript', 'html', 'css', 'css3'], ['git', 'file-io'], ['javascript', 'loops', 'closures'], ['java', 'performance', 'loops', 'for-loop'], ['git', 'git-branch'], ['javascript', 'arrays', 'object'], ['javascript', 'jquery'], ['html', 'browser', 'autocomplete'], ['javascript', 'loops', 'each'], ['python', 'decorator', 'python-decorators'], ['android', 'uniqueidentifier'], ['javascript', 'html', 'dom'], ['sql', 'sql-server', 'sql-server-2005', 'sql-server-2000'], ['javascript', 'jquery', 'arrays', 'insert'], ['java', 'arraylist', 'collections', 'initialization'], ['git', 'git-commit'], ['mysql', 'datetime', 'timestamp', 'sqldatatypes'], ['javascript', 'null'], ['javascript', 'jquery', 'html', 'radio-button', 'jquery-selectors'], ['git'], ['unit-testing', 'tdd'], ['json', 'rest', 'spring-mvc', 'curl', 'http-headers'], ['bash', 'shell', 'syntax', 'concat', 'string-concatenation'], ['javascript', 'arrays', 'javascript-objects'], ['javascript'], ['python', 'datetime', 'time'], ['r'], ['android', 'android-activity'], ['python'], ['shell', 'command-line', 'copy', 'scp'], ['powershell'], ['html', 'css'], ['python', 'windows', 'installation', 'pip'], ['javascript', 'ecmascript-6'], ['python', 'exception', 'exception-handling'], ['c++', 'namespaces', 'std'], ['php', 'mysql', 'database'], ['http-headers', 'http-status-code-403', 'http-status-codes'], ['python', 'language-design'], ['javascript', 'arrays', 'sorting'], ['git', 'caching', 'version-control', 'gitignore'], ['c++', 'c', 'bit-manipulation', 'bitwise-operators'], ['python', 'reference', 'parameter-passing', 'pass-by-reference'], ['c#', '.net', 'visual-studio'], ['html', 'css'], ['javascript', 'decimal', 'rounding'], ['javascript', 'url', 'encoding'], ['c#', 'loops', 'dictionary'], ['python', 'dictionary', 'lookup'], ['javascript', 'html5', 'local-storage'], ['javascript', 'string', 'multiline'], ['c++', 'pointers', 'casting'], ['python', 'class', 'oop', 'inheritance', 'super'], ['javascript', 'jquery', 'refresh', 'reload'], ['javascript', 'jquery'], ['php', 'arrays'], ['javascript', 'validation', 'numbers'], ['javascript', 'jquery', 'html-table'], ['c', 'casting', 'malloc'], ['git', 'export'], ['git', 'vim', 'emacs', 'editor'], ['sql', 'database', 'performance', 'indexing'], ['java', 'android'], ['php', 'curl', 'youtube', 'youtube-api', 'youtube-data-api'], ['javascript', 'function', 'parameters'], ['javascript'], ['javascript', 'javascript-objects'], ['jquery', 'cors', 'restful-authentication'], ['java', 'return'], ['javascript', 'jquery', 'dom', 'attr'], ['css', 'margin', 'padding'], ['git', 'version-control'], ['java', 'maven-2', 'build-process', 'executable-jar', 'build-automation'], ['javascript', 'undefined'], ['string', 'bash', 'substring'], ['javascript', 'arrays'], ['javascript', 'node.js', 'web-applications'], ['javascript', 'node.js', 'arguments', 'command-line-arguments'], ['git', 'branch', 'git-branch'], ['javascript', 'jquery', 'drop-down-menu', 'jquery-selectors'], ['python', 'list', 'copy', 'clone'], ['html', 'css', 'opacity'], ['windows', 'command-line'], ['javascript', 'jquery'], ['javascript', 'jquery', 'jquery-selectors', 'this'], ['javascript', 'javascript-objects'], ['java', 'arrays'], ['c++', 'c', 'performance', 'vectorization', 'compiler-optimization'], ['html', 'css', 'vertical-alignment'], ['javascript', 'jquery'], ['javascript', 'html', 'url', 'url-rewriting'], ['python', 'list', 'concatenation'], ['git', 'chmod'], ['ios', 'cocoa-touch', 'uikit', 'uilabel'], ['javascript', 'json'], ['python', 'android', 'jython'], ['java', 'constructor'], ['c#', '.net', 'string', 'character-encoding'], ['c#', '.net', 'clone'], ['vim', 'editor', 'indentation', 'vi'], ['gcc', 'assembly', 'floating-point', 'compiler-optimization'], ['bash', 'shell', 'unix', 'redirect'], ['javascript', 'date'], ['python', 'syntax', 'parameter-passing', 'variadic-functions'], ['python', 'parsing', 'floating-point', 'type-conversion', 'integer'], ['php', 'xml', 'parsing', 'xml-parsing', 'html-parsing'], ['bash', 'echo', 'newline'], ['user-interface', 'model-view-controller', 'design-patterns', 'mvp'], ['c++', 'copy-constructor', 'assignment-operator'], ['docker', 'vagrant'], ['python', 'file', 'copy', 'filesystems'], ['git', 'repository', 'push', 'git-push'], ['git', 'repository'], ['installation', 'homebrew', 'versioning'], ['javascript', 'json', 'jsonp', 'terminology'], ['git'], ['git', 'branch', 'git-branch'], ['ruby', 'switch-statement', 'conditional'], ['python', 'list', 'split'], ['javascript', 'null', 'undefined'], ['git', 'branch', 'git-branch'], ['.net', 'floating-point', 'double', 'decimal'], ['java', 'multithreading', 'runnable'], ['python', 'exception'], ['javascript', 'sleep'], ['git', 'diff'], ['java', 'reflection', 'terminology'], ['javascript'], ['git'], ['node.js', 'npm', 'package'], ['c#', '.net', 'exception', 'exception-handling'], ['time-complexity', 'big-o'], ['javascript', 'jquery', 'css-selectors', 'jquery-selectors'], ['bash'], ['python', 'datetime'], ['jquery', 'asp.net', 'json', 'ajax'], ['python', 'module', 'package'], ['python', 'string'], ['javascript', 'syntax', 'enums'], ['c#', '.net', 'namespaces'], ['javascript', 'jquery', 'variables', 'null', 'undefined'], ['php', 'class', 'oop', 'scope'], ['git', 'git-branch', 'git-merge', 'branching-and-merging'], ['html'], ['javascript', 'function', 'variables', 'scope', 'var'], ['css', 'css3', 'css-transitions'], ['windows', 'networking', 'port'], ['html'], ['javascript', 'angularjs', 'data-binding'], ['design-patterns', 'singleton'], ['python', 'directory'], ['string', 'bash', 'filenames'], ['android', 'textview'], ['java', 'arrays'], ['docker', 'copy', 'dockerfile'], ['java', 'http', 'httprequest', 'httpurlconnection'], ['java', 'exception', 'junit', 'junit4', 'assert'], ['c#', '.net', 'vb.net', 'null', 'nullreferenceexception'], ['algorithm', 'logic', 'artificial-intelligence'], ['javascript', 'jquery', 'layout', 'cross-browser'], ['javascript', 'string'], ['javascript', 'jquery'], ['c++', 'copy-constructor', 'assignment-operator'], ['php', 'loops', 'foreach', 'iteration'], ['c', 'operators'], ['android', 'image', 'listview', 'url'], ['javascript'], ['css', 'vertical-alignment'], ['android', 'eclipse', 'certificate'], ['git'], ['python', 'string', 'uppercase'], ['java', 'enums'], ['css'], ['javascript', 'printf'], ['android', 'android-context'], ['git', 'git-commit'], ['ms-word'], ['linux', 'symlink'], ['vim', 'replace', 'escaping', 'newline', 'vi'], ['javascript', 'node.js', 'npm'], ['ios', 'objective-c', 'properties', 'atomic'], ['bash', 'shell', 'split', 'scripting'], ['python', 'list'], ['python', 'file-io', 'directory', 'delete-file'], ['python', 'python-3.x', 'string'], ['java', 'arrays', 'printing'], ['node.js', 'npm'], ['android', 'layout', 'screen', 'pixel'], ['git', 'authentication', 'github', 'git-push'], ['javascript', 'date', 'date-format'], ['vim', 'highlight'], ['python', 'python-3.x', 'performance', 'range'], ['rest', 'http', 'http-get'], ['javascript', 'slice', 'trim'], ['git'], ['npm', 'webpack', 'gulp', 'gruntjs', 'bower'], ['css', 'css3', 'geometry', 'polygon', 'css-shapes'], ['c#', '.net', 'excel', 'file-io'], ['c++', 'multithreading', 'c++11', 'language-lawyer'], ['python', 'list', 'indexing'], ['javascript', 'jquery', 'ajax'], ['python', 'pip'], ['javascript', 'random', 'integer'], ['python', 'class', 'oop', 'static'], ['sql', 'sql-server', 'csv', 'string-concatenation', 'group-concat'], ['sql-server', 'tsql', 'sql-server-2008', 'sql-server-2012', 'sql-server-2016'], ['postgresql', 'psql', 'postgresql-9.1'], ['python', 'environment-variables'], ['c#', '.net', 'datetime'], ['postgresql', 'psql'], ['ssh', 'permissions'], ['c#', 'random'], ['mysql', 'sql', 'command-line', 'import'], ['javascript', 'arrays', 'loops', 'for-loop', 'iteration'], ['javascript', 'jquery', 'url', 'path'], ['python', 'switch-statement'], ['git', 'tfs'], ['git'], ['java', 'string', 'random'], ['sql', 'duplicates'], ['java', 'loops'], ['git', 'gitignore'], ['javascript', 'npm', 'bower'], ['c#'], ['javascript', 'date', 'datetime', 'object', 'compare'], ['python', 'c++', 'benchmarking', 'iostream', 'getline'], ['html', 'button', 'hyperlink', 'anchor'], ['git'], ['git', 'github', 'version-control', 'branch'], ['python', 'newline', 'python-2.x'], ['git'], ['shell', 'scripting', 'ksh', 'aix'], ['node.js'], ['javascript', 'arrays', 'variables'], ['c++', 'unix', 'profiling'], ['javascript', 'jquery', 'events'], ['css', 'sass'], ['oop', 'interface', 'abstract-class'], ['bash', 'command-line', 'scripting', 'arguments'], ['c++', 'c++11', 'pointers', 'smart-pointers'], ['git', 'git-submodules'], ['design-patterns', 'static', 'singleton'], ['javascript', 'new-operator'], ['oop', 'design-patterns', 'inversion-of-control'], ['iis', 'iis-7'], ['ios', 'objective-c', 'uiscrollview', 'uitextfield'], ['java', 'inner-classes'], ['html', 'css', 'html-table'], ['python', 'list', 'sorting', 'dictionary', 'data-structures'], ['html', 'css', 'forms', 'cross-browser', 'alignment'], ['sql', 'sql-server', 'tsql', 'date', 'datetime'], ['linux', 'directory', 'permissions', 'chmod'], ['python'], ['java', 'string', 'random'], ['javascript', 'facebook', 'google-chrome-devtools'], ['javascript', 'string'], ['javascript', 'formatting', 'currency'], ['c#', 'enums', 'casting', 'int'], ['java', 'jsp'], ['javascript', 'json', 'parsing'], ['c++', 'pointers', 'casting'], ['function', 'oop', 'methods', 'language-agnostic', 'terminology'], ['java', 'javabeans'], ['python', 'string', 'list', 'join'], ['notepad++', 'code-formatting'], ['postgresql'], ['c++', 'templates'], ['node.js', 'npm'], ['c#', 'lambda', 'foreach', 'scope'], ['git', 'version-control'], ['python', 'static-methods'], ['c', 'linux', 'linux-kernel', 'macros'], ['python', 'list', 'random'], ['c++', 'graph', 'cycle'], ['javascript', 'arrays'], ['shell', 'sed'], ['git'], ['java', 'enums'], ['php'], ['linux', 'shell'], ['javascript', 'html-select'], ['javascript', 'syntax'], ['javascript', 'jquery', 'html'], ['git', 'github', 'git-commit'], ['git'], ['regex', 'regex-group'], ['c++', 'c++11', 'move-semantics'], ['linux', 'unix', 'grep'], ['javascript', 'typescript'], ['html', 'button', 'compatibility'], ['javascript', 'string', 'integer', 'data-conversion'], ['javascript', 'variables', 'if-statement', 'initialization', 'undefined'], ['javascript'], ['javascript', 'random'], ['php', 'html', 'css', 'pdf', 'pdf-generation'], ['javascript', 'jquery', 'json', 'serialization'], ['c++', 'algorithm', 'opencv', 'image-processing'], ['unix', 'time', 'benchmarking'], ['git', 'branch', 'git-branch'], ['git', 'github', 'markdown'], ['c#', '.net', 'garbage-collection', 'idisposable'], ['google-chrome', 'caching', 'browser', 'google-chrome-devtools', 'browser-cache'], ['visual-studio', 'visual-studio-2008'], ['algorithm', 'recursion', 'functional-programming', 'language-agnostic', 'tail-recursion'], ['git'], ['git'], ['c', 'arrays', 'pointers'], ['javascript', 'underscore.js', 'lodash'], ['image-processing', 'wolfram-mathematica'], ['search', 'vim'], ['javascript', 'jquery', 'mobile'], ['mysql', 'sql', 'join', 'inner-join', 'outer-join'], ['vim', 'editor', 'keyboard-shortcuts', 'vi'], ['java', 'string'], ['java', 'methods', 'parameters', 'overloading'], ['java', 'jvm'], ['javascript', 'node.js', 'debugging', 'google-chrome-devtools'], ['powershell', 'windows-server-2008-r2'], ['linq', 'sql-order-by'], ['git'], ['javascript', 'random'], ['c++', 'c++11', 'pointers'], ['git', 'file', 'version-control'], ['javascript', 'formatting', 'numbers'], ['html', 'xhtml', 'meta'], ['git', 'merge', 'git-branch'], ['javascript', 'keyword', 'ecmascript-5'], ['python', 'oop', 'static-methods'], ['oop', 'programming-languages', 'abstract', 'virtual-functions'], ['c#'], ['python', 'pandas', 'dataframe'], ['javascript'], ['python', 'pandas', 'dataframe', 'replace', 'rename'], ['python', 'object'], ['git', 'version-control', 'symlink'], ['bash', 'shell'], ['html5', 'meta-tags', 'doctype'], ['java', 'stringbuilder'], ['orm'], ['macos', 'process'], ['javascript', 'jquery', 'html', 'append'], ['c++', 'performance', 'assembly'], ['favicon'], ['javascript', 'node.js', 'file', 'express', 'fs'], ['git', 'svn', 'version-control', 'git-svn'], ['c++', 'performance', 'visual-studio-2010', 'compilation', 'floating-point'], ['multithreading', 'process'], ['javascript', 'jquery', 'scroll'], ['ios', 'uitableview', 'autolayout'], ['git', 'merge', 'repository'], ['python', 'casting', 'floating-point', 'type-conversion'], ['javascript'], ['sql-server', 'tsql', 'left-join', 'outer-join'], ['css'], ['makefile'], ['git'], ['javascript', 'javascript-objects'], ['c++', 'c'], ['git', 'visual-studio'], ['c#', '.net', 'try-catch', 'performance-testing', 'clr'], ['c#', 'datetime', 'time', 'datediff'], ['bash', 'terminal', 'reload', 'profile'], ['java', 'oop', 'setter', 'getter'], ['git', 'gitignore'], ['c++', 'string', 'type-conversion', 'int'], ['python', 'dictionary'], ['http', 'caching', 'https', 'http-headers'], ['xcode', 'frameworks', 'xcode4'], ['javascript', 'arrays'], ['javascript', 'jquery', 'file-upload'], ['javascript', 'forms', 'http', 'post', 'submit'], ['python', 'attributes'], ['asp.net', 'asp.net-mvc', 'validation'], ['java', 'foreach'], ['bash', 'shell', 'command-line'], ['sql', 'sql-server', 'tsql', 'if-statement', 'case'], ['c#'], ['ios', 'xcode', 'ios9', 'ios10'], ['java', 'tostring', 'stack-trace'], ['javascript', 'performance', 'properties', 'count', 'key'], ['python', 'file', 'append'], ['ruby-on-rails', 'ruby-on-rails-3', 'migration'], ['c++', 'c', 'gcc', 'embedded'], ['linux', 'bash', 'redirect', 'stream', 'pipe'], ['git', 'git-commit'], ['c++', 'linker-errors'], ['integer'], ['javascript', 'node.js'], ['python', 'json', 'parsing'], ['linux', 'environment-variables'], ['c#', '.net', 'visual-studio', 'debugging', 'breakpoints'], ['c++', 'polymorphism', 'shared-ptr'], ['c++', 'c++11', 'lambda'], ['javascript', 'ajax', 'google-chrome'], ['php', 'string'], ['java', 'math', 'optimization'], ['docker'], ['javascript', 'jquery', 'arrays', 'object', 'javascript-objects'], ['javascript', 'date', 'datetime', 'date-format'], ['html', 'css', 'html5', 'html-select', 'placeholder'], ['python', 'virtualenv'], ['java', 'field'], ['caching', 'web-applications', 'redis', 'memcached'], ['python', 'list', 'count'], ['javascript', 'jquery', 'html'], ['.net', 'algorithm', 'hashcode'], ['android', 'android-layout'], ['javascript', 'encoding', 'query-string'], ['c#', 'inheritance', 'constructor'], ['http', 'post', 'parameters', 'request', 'uri'], ['javascript'], ['git'], ['sql', 'sql-server', 'naming-conventions'], ['git'], ['security'], ['oop', 'interface', 'abstract-class'], ['javascript', 'hex', 'tostring', 'number-formatting', 'base'], ['python', 'pandas', 'dataframe', 'rows'], ['c#', 'overriding', 'hashcode'], ['c#', 'enums', 'flags'], ['bash', 'shell', 'variables'], ['python'], ['c++', 'performance', 'assembly', 'optimization', 'compiler-optimization'], ['git'], ['git', 'git-merge'], ['html5', 'internet-explorer', 'browser'], ['javascript', 'jquery', 'arrays', 'html-select'], ['bash', 'shell', 'for-loop', 'syntax'], ['android-studio'], ['git', 'gitignore'], ['css', 'image', 'vertical-alignment'], ['objective-c', 'xcode', 'automatic-ref-counting'], ['html', 'regex', 'xhtml'], ['html', 'css', 'image'], ['android', 'android-activity', 'rotation'], ['javascript', 'arrays'], ['c#', 'constants'], ['c#', '.net', 'vb.net', 'data-structures'], ['java', 'unicode', 'comments'], ['bit-manipulation', 'operators', 'bit-shift'], ['ios', 'objective-c', 'swift', 'model-view-controller', 'uiviewcontroller'], ['git', 'branch', 'git-branch', 'git-push'], ['c#', '.net', 'enums'], ['javascript', 'date'], ['string', 'syntax', 'yaml'], ['mysql', 'command-line'], ['file', 'unix', 'text-files', 'newline'], ['vim', 'sudo'], ['python', 'performance', 'logging', 'string-formatting'], ['linux', 'bash', 'shell', 'scripting'], ['ios', 'macos', 'cocoa', 'cocoa-touch'], ['sql', 'union'], ['c#', '.net', 'multithreading', 'winforms', 'user-interface'], ['java', 'file-io'], ['docker'], ['arrays', 'bash', 'shell'], ['git', 'grep', 'diff'], ['git', 'git-branch'], ['javascript', 'jquery', 'ajax', 'redirect'], ['jquery', 'jquery-selectors'], ['sql', 'database', 'syntax'], ['html', 'html-select'], ['javascript', 'arrays', 'delete-operator'], ['git', 'version-control', 'diff'], ['css', 'cross-browser', 'alignment', 'vertical-alignment', 'centering'], ['javascript', 'setinterval'], ['docker'], ['git', 'git-commit'], ['sql-server', 'varchar'], ['authentication', 'github', 'git-push'], ['javascript', 'arrays', 'contains'], ['javascript', 'string', 'trim'], ['java', 'apache-camel', 'soa'], ['sql', 'mongodb', 'mongodb-query', 'sql-like'], ['python', 'list'], ['c#', 'arrays', 'hex'], ['javascript', 'json'], ['css', 'css3', 'css-transitions'], ['curl', 'http-headers'], ['git', 'branch', 'git-branch'], ['html', 'sublimetext2', 'sublimetext', 'indentation'], ['android', 'android-layout'], ['javascript', 'html', 'internet-explorer', 'xhtml'], ['git'], ['sed'], ['javascript', 'callback', 'this'], ['android', 'android-intent', 'android-activity'], ['python', 'string'], ['r', 'sorting', 'dataframe'], ['model-view-controller', 'design-patterns', 'mvvm'], ['eclipse', 'performance'], ['ios', 'objective-c', 'memory-leaks', 'automatic-ref-counting'], ['javascript', 'string'], ['java', 'nullpointerexception', 'null'], ['c#', 'constructor', 'warnings', 'resharper', 'virtual-functions'], ['c#', '.net', 'list', 'oop', 'inheritance'], ['android', 'url', 'android-intent'], ['python', 'string', 'integer'], ['python', 'string', 'format', 'string-formatting'], ['html', 'http-headers', 'multipartform-data'], ['ios', 'objective-c', 'sorting', 'cocoa-touch', 'nsmutablearray'], ['sql', 'sql-server', 'tsql', 'sql-server-2005', 'sql-update'], ['javascript', 'void'], ['python'], ['git', 'repository', 'subdirectory'], ['sql-server', 'tsql', 'duplicates'], ['http', 'post', 'http-headers'], ['android-studio', 'gradle', 'android-gradle', 'build-automation'], ['python', 'string'], ['arrays', 'ruby'], ['javascript', 'button', 'onclick'], ['git'], ['android', 'image', 'bitmap', 'out-of-memory', 'android-bitmap'], ['javascript', 'regex'], ['javascript', 'this'], ['json', 'google-chrome', 'asp.net-web-api'], ['javascript', 'operators'], ['yaml', 'comments'], ['angular', 'promise', 'rxjs', 'angular-promise'], ['c++', 'c', 'pointers', 'int', 'const'], ['php', 'cryptography', 'passwords', 'bcrypt', 'password-protection'], ['c#', '.net', 'const', 'constants', 'readonly'], ['git'], ['syntax', 'markdown', 'comments'], ['html', 'css', 'combobox', 'cross-browser'], ['css', 'css-selectors'], ['java', 'android', 'eclipse', 'overriding', 'superclass'], ['exception', 'memory-leaks', 'out-of-memory'], ['java', 'class', 'main'], ['angularjs', 'angularjs-scope'], ['python', 'string'], ['javascript', 'jquery', 'html', 'dom'], ['javascript', 'jquery', 'hyperlink'], ['python', 'string', 'random'], ['html', 'unicode', 'icons', 'ascii', 'symbols'], ['pdf', 'http-headers', 'content-type', 'mime'], ['javascript', 'arrays', 'sorting'], ['javascript', 'jquery', 'drop-down-menu', 'jquery-selectors'], ['javascript', 'node.js', 'environment-variables'], ['git'], ['javascript', 'dom'], ['ios', 'objective-c', 'string', 'substring'], ['http', 'http-status-codes'], ['javascript', 'arrays', 'merge'], ['c#', 'regex', 'performance'], ['git'], ['macos', 'tcp'], ['vim', 'whitespace', 'indentation', 'vi'], ['javascript'], ['javascript', 'regex'], ['node.js', 'unix', 'npm', 'permissions', 'sudo'], ['android', 'apk', 'android-resources'], ['javascript', 'jquery', 'cookies'], ['javascript', 'jquery', 'javascript-events'], ['android-studio'], ['python', 'printing', 'stderr'], ['python', 'dictionary', 'list-comprehension'], ['javascript', 'jquery', 'json', 'ajax', 'serialization'], ['rest', 'web-services', 'http', 'soap', 'definition'], ['git', 'android-studio', 'gitignore'], ['android', 'colors', 'hex', 'transparency'], ['python', 'unicode', 'beautifulsoup', 'python-2.x'], ['python', 'dictionary'], ['javascript', 'url'], ['git', 'gitignore'], ['java', 'decimal', 'rounding'], ['svn', 'tags', 'branch'], ['javascript', 'jquery'], ['linux', 'shell', 'find'], ['javascript', 'arrays', 'unique'], ['linux', 'bash', 'loops', 'unix', 'io'], ['javascript', 'arrays', 'duplicates', 'unique'], ['python', 'random', 'integer'], ['css', 'css3', 'background-image', 'gradient'], ['ios', 'uitableview', 'cocoa-touch'], ['javascript', 'jquery', 'html'], ['c++', 'virtual-functions'], ['css', 'angularjs'], ['git', 'push', 'git-push'], ['sql-server', 'tsql', 'null'], ['python', 'performance', 'time-complexity', 'profiling'], ['javascript', 'node.js', 'json', 'string', 'object'], ['python', 'naming-conventions'], ['javascript', 'function'], ['javascript', 'jquery', 'ajax', 'asynchronous'], ['css', 'google-chrome', 'input', 'focus', 'border'], ['c#', 'asp.net', '.net', 'url', 'path'], ['css', 'css-selectors'], ['functional-programming', 'reactive-programming', 'terminology'], ['reactjs', 'react-router'], ['python', 'python-3.x', 'enums'], ['bash', 'shell'], ['python', 'mysql', 'pip', 'mysql-python'], ['git', 'version-control'], ['javascript'], ['javascript', 'node.js', 'npm'], ['php', 'include', 'require'], ['mysql', 'boolean', 'sqldatatypes'], ['javascript', 'eslint'], ['java', 'collections'], ['c', 'function-pointers'], ['java', 'multithreading', 'sleep'], ['git', 'gitignore'], ['python', 'oop', 'inheritance', 'types'], ['docker'], ['datetime', 'math', 'language-agnostic'], ['docker'], ['git', 'commit'], ['php', 'mysql', 'linux', 'apache', 'utf-8'], ['css', 'twitter-bootstrap', 'drop-down-menu'], ['php', 'security', 'hash', 'passwords'], ['sql', 'database', 'sqlite', 'metadata'], ['mysql', 'sql', 'auto-increment'], ['vim', 'vi'], ['javascript', 'reactjs', 'redux', 'flux'], ['sql', 'postgresql', 'sqlite', 'group-by', 'greatest-n-per-group'], ['sql-server', 'tsql'], ['git', 'version-control'], ['python', 'exception'], ['ssl', 'openssl', 'certificate', 'ssl-certificate', 'x509certificate'], ['git'], ['sql', 'sql-server', 'sql-server-2008', 'inner-join', 'sql-delete'], ['ios', 'macos', 'cocoa', 'cocoa-touch', 'interface-builder'], ['android'], ['linux'], ['git', 'version-control', 'branch'], ['oop', 'design-patterns', 'naming-conventions', 'naming'], ['javascript', 'jquery', 'html', 'dom', 'jquery-selectors'], ['python', 'types'], ['git', 'macos', 'gitignore'], ['javascript'], ['javascript', 'object', 'types', 'javascript-objects'], ['r', 'dataframe', 'join', 'merge'], ['git', 'version-control', 'cloud', 'dropbox'], ['javascript', 'constants'], ['git'], ['python', 'filenames'], ['mysql', 'sql', 'concat', 'group-concat'], ['c#', 'list', 'sorting', 'generics'], ['string', 'bash', 'shell', 'uppercase'], ['html', 'pdf'], ['git', 'git-merge'], ['vim', 'editor', 'keyboard-shortcuts', 'vi'], ['algorithm', 'math'], ['php', 'arrays', 'variables', 'warnings'], ['css', 'css3', 'sass'], ['objective-c', 'nsstring', 'string-concatenation'], ['bash', 'alias'], ['php', 'enumeration'], ['git', 'github', 'bitbucket', 'git-bash', 'delete-file'], ['git'], ['mysql', 'sql', 'aggregate-functions', 'greatest-n-per-group'], ['vim', 'configuration', 'editor', 'indentation'], ['android', 'memory-leaks', 'dialog'], ['css', 'twitter-bootstrap', 'twitter-bootstrap-3', 'centering'], ['python', 'string', 'trim'], ['html'], ['java', 'multithreading', 'servlets', 'session-variables', 'instance-variables'], ['javascript', 'arrays', 'shuffle'], ['css', 'visibility'], ['objective-c', 'enums', 'typedef'], ['javascript', 'jquery', 'checkbox'], ['asynchronous', 'execution', 'synchronous'], ['mysql', 'csv', 'quotes'], ['c#', 'generics', 'enums'], ['javascript', 'jquery', 'scroll'], ['python', 'string', 'multiline'], ['java', 'arrays', 'arraylist'], ['git'], ['ruby-on-rails', 'ruby'], ['java', 'sorting', 'date', 'comparator'], ['javascript', 'string'], ['git'], ['python', 'django', 'web-applications', 'scalability'], ['docker'], ['android', 'listener'], ['node.js'], ['html', 'css', 'vertical-alignment'], ['batch-file', 'arguments'], ['node.js', 'express', 'query-string'], ['angularjs', 'angularjs-scope'], ['ruby-on-rails', 'amazon-web-services', 'heroku'], ['javascript'], ['javascript', 'angular', 'typescript', 'input'], ['python', 'python-3.x', 'printing', 'flush'], ['vim', 'vi'], ['ruby', 'string', 'uppercase'], ['php', 'security', 'xss', 'user-input', 'sql-injection'], ['html', 'css', 'vertical-alignment'], ['validation', 'security', 'sql-injection'], ['node.js', 'git', 'npm', 'version-control'], ['javascript', 'angularjs', 'angular-ui-router', 'angularjs-routing'], ['angularjs', 'angular-services'], ['javascript', 'reactjs'], ['git'], ['python', 'pandas', 'dataframe'], ['python', 'python-3.x'], ['python', 'version'], ['java', 'dictionary', 'collections', 'initialization'], ['visual-studio'], ['javascript'], ['angularjs', 'angularjs-directive', 'angularjs-scope'], ['python', 'string', 'comparison', 'identity', 'equality'], ['android', 'eclipse', 'compiler-errors', 'android-resources', 'android-sdk-tools'], ['sql', 'oracle'], ['string', 'algorithm', 'language-agnostic'], ['javascript', 'jquery', 'google-chrome-devtools'], ['git'], ['linux', 'file', 'symlink'], ['python', 'file-io'], ['ruby', 'command-line', 'rake', 'command-line-arguments'], ['docker', 'nginx', 'reverse-proxy'], ['c#', 'asp.net', 'json', 'enums'], ['javascript', 'jquery', 'html'], ['computer-science', 'complexity-theory'], ['python', 'python-3.x', 'python-2.7', 'comments', 'documentation'], ['python', 'null'], ['git'], ['python', 'class', 'oop', 'object', 'inheritance'], ['c++', 'templates'], ['git', 'version-control'], ['vim', 'comments'], ['css', 'responsive-design', 'font-size'], ['git', 'git-merge'], ['android', 'android-emulator', 'emulation'], ['sql-server', 'tsql', 'sql-server-2005', 'sql-server-2000'], ['c#', 'linq', 'linq-to-sql', 'ienumerable', 'iqueryable'], ['jquery'], ['python', 'class', 'oop', 'self'], ['xml', 'windows', 'editor', 'text-editor', 'large-files'], ['sql', 'sql-server', 'tsql'], ['javascript', 'json'], ['php', 'arrays', 'sorting', 'multidimensional-array'], ['oop', 'design-patterns', 'functional-programming'], ['vim', 'command', 'mapping'], ['python', 'list', 'dictionary'], ['android', 'date', 'time'], ['java', 'arrays', 'generics', 'reflection', 'instantiation'], ['git', 'git-merge'], ['http', 'http-headers'], ['git'], ['ruby-on-rails', 'ruby', 'url'], ['ruby', 'rubygems'], ['javascript', 'angularjs', 'inheritance', 'prototype'], ['c', 'syntax', 'static'], ['angularjs', 'angularjs-scope', 'this'], ['vim'], ['notepad++', 'whitespace', 'indentation'], ['bash', 'shell', 'date'], ['python', 'string', 'whitespace', 'trim'], ['java', 'android', 'download', 'android-asynctask'], ['jquery', 'cdn'], ['php', 'session', 'cookies'], ['sql', 'sql-server', 'parameters'], ['css', 'css-position', 'center', 'absolute'], ['postgresql', 'psql'], ['bash'], ['.net', 'asp.net-mvc', 'partial-views'], ['git', 'version-control'], ['c#', 'properties', 'field'], ['lint'], ['javascript', 'syntax'], ['ruby', 'shell', 'interop'], ['objective-c', 'cocoa', 'constants'], ['android', 'gradle', 'android-gradle', 'gson', 'dependency-management'], ['php'], ['javascript', 'date', 'time', 'date-format'], ['javascript', 'validation', 'numeric'], ['javascript', 'jquery', 'html-select', 'option'], ['visual-studio-code', 'code-formatting'], ['r', 'lapply'], ['javascript', 'cors', 'cross-domain'], ['html', 'css'], ['python', 'directory'], ['c#', '.net', 'post', 'httprequest', 'httpwebrequest'], ['javascript', 'naming-conventions'], ['visual-studio', 'windows-8', 'uac'], ['python', 'matplotlib', 'plot'], ['git'], ['java', 'maven', 'libraries'], ['xcode'], ['sql-server', 'performance', 'indexing'], ['javascript', 'profiling'], ['html', 'hyperlink', 'tabs', 'window', 'href'], ['c#', 'generics', 'reflection'], ['php', 'url'], ['javascript', 'null', 'undefined'], ['c#', 'date'], ['c#', '.net', 'linq', 'datatable', '.net-3.5'], ['node.js', 'windows', 'install'], ['php', 'arrays'], ['asp.net', 'iis', 'file-upload'], ['c', 'linux', 'gcc', 'c-preprocessor'], ['php', 'websocket', 'server-sent-events', 'comet', 'long-polling'], ['c++', 'memory-management'], ['python'], ['java', 'string', 'switch-statement'], ['javascript', 'object'], ['ruby'], ['emulation'], ['mysql', 'unicode', 'utf-8', 'collation'], ['c#', 'linq', 'group-by'], ['javascript'], ['javascript', 'jquery', 'html', 'innerhtml'], ['vim'], ['ios', 'ios7', 'statusbar'], ['c++', 'undefined-behavior'], ['javascript', 'javascript-events'], ['java', 'hash', 'md5', 'hashcode'], ['javascript', 'namespaces'], ['python', 'configuration', 'python-import', 'python-module'], ['bash'], ['c#', 'linq', '.net-3.5', 'distinct'], ['.htaccess', 'http', 'cors', 'xmlhttprequest', 'cross-domain'], ['python', 'list', 'tuples'], ['html', 'css', 'css3', 'responsive-design'], ['javascript', 'object', 'comparison'], ['python', 'gcc'], ['html', 'checkbox', 'click', 'label'], ['c++', 'constructor', 'initialization', 'new-operator'], ['html', 'css', 'layout', 'cross-browser'], ['git', 'version-control', 'gitignore'], ['ios'], ['docker'], ['python', 'virtualenv'], ['c#', 'linq', 'linq-to-sql'], ['visual-studio-code'], ['c', 'obfuscation'], ['html', 'css', 'html-entities'], ['windows', 'git', 'gitignore', 'git-bash'], ['python', 'json'], ['jquery', 'html', 'jquery-selectors'], ['python'], ['excel', 'ms-word', 'ms-office', 'powerpoint', 'mime-types'], ['git', 'branch', 'git-branch'], ['javascript', 'jquery', 'string', 'substring', 'contains'], ['html', 'cookies', 'local-storage', 'httprequest'], ['linux', 'pdf', 'merge', 'command-line-interface'], ['ruby-on-rails', 'ruby'], ['python', 'syntax', 'line-breaks'], ['python', 'file-io'], ['jquery', 'html5'], ['javascript', 'arrays'], ['node.js', 'nginx'], ['linux', 'bash', 'command-line', 'scripting'], ['python', 'ascii'], ['html', 'css', 'google-chrome', 'internet-explorer', 'firefox'], ['xml'], ['java', 'formatting'], ['sql', 'oracle', 'pagination', 'limit'], ['java', 'stack-trace'], ['batch-file'], ['android', 'android-sqlite'], ['android', 'hyperlink', 'textview'], ['git', 'version-control', 'git-merge', 'git-rebase'], ['java', 'dictionary', 'collections', 'initialization'], ['java', 'arrays', 'string', 'arraylist', 'collections'], ['html', 'css'], ['javascript', 'arrays', 'node.js'], ['c#', '.net', 'string', 'parsing', 'formatting'], ['php', 'oop', 'private', 'public', 'protected'], ['c#', '.net', 'asynchronous', 'async-await'], ['php', 'mysql'], ['sql', 'group-by'], ['java', 'multithreading', 'keyword', 'synchronized'], ['python', 'class', 'oop', 'types'], ['javascript', 'arrays'], ['concurrency', 'parallel-processing', 'language-agnostic'], ['c++', 'inheritance', 'encapsulation'], ['java', 'android', 'android-recyclerview'], ['git', 'merge'], ['python'], ['linux', 'grep'], ['git'], ['jquery', 'html', 'hide', 'styling'], ['c#', '.net', 'versioning'], ['javascript', 'node.js', 'json'], ['google-chrome', 'firefox', 'http-post'], ['git', 'config'], ['java', 'android', 'windows', 'eclipse', '32bit-64bit'], ['jquery', 'jquery-selectors'], ['python', 'pip', 'setuptools'], ['objective-c', 'swift'], ['javascript', 'coffeescript', 'clipboard'], ['ios', 'objective-c', 'animation', 'autolayout', 'ios6'], ['javascript', 'string'], ['html'], ['git'], ['c#', 'string'], ['git'], ['javascript', 'redirect'], ['jquery', 'events', 'javascript-events'], ['android', 'android-layout'], ['python', 'list'], ['javascript', 'html5', 'canvas', 'html5-canvas'], ['android', 'android-intent', 'android-activity'], ['postgresql', 'macos', 'homebrew'], ['java', 'arrays', 'list', 'containers', 'data-conversion'], ['android', 'android-context'], ['jpa', 'merge', 'entitymanager'], ['swift', 'performance', 'sorting', 'xcode6', 'compiler-optimization'], ['java', 'map'], ['bash', 'grep', 'pipe', 'stdout', 'stderr'], ['authentication', 'oauth', 'openid'], ['ssl', 'https', 'httprequest'], ['javascript'], ['javascript', 'math', 'browser', 'cross-browser'], ['sql', 'sql-server', 'join', 'inner-join'], ['c', 'arrays', 'initialization'], ['postgresql'], ['java', 'windows', 'eclipse', 'java-native-interface'], ['bash', 'git', 'shell', 'ssh'], ['android'], ['zip', 'compression', 'gzip', 'zlib'], ['python', 'xml'], ['validation', 'email', 'max'], ['powershell', 'syntax', 'powershell-2.0'], ['.net', 'linq', 'group-by', 'aggregate'], ['swift'], ['python', 'pip', 'virtualenv'], ['javascript', 'jquery'], ['css', 'twitter-bootstrap'], ['android', 'xml', 'android-layout', 'android-context'], ['nuget'], ['bash', 'syntax'], ['android', 'debugging', 'adb', 'wifi'], ['python', 'module', 'pip'], ['c#', 'constructor'], ['python', 'function', 'lambda', 'closures'], ['c++', 'types'], ['mysql', 'database', 'rename', 'innodb'], ['c#', '.net', 'json', 'serialization', 'dynamic'], ['android', 'bitmap', 'android-drawable'], ['git', 'logging', 'svn'], ['node.js'], ['python', 'text-files'], ['c++', 'naming-conventions', 'standards'], ['android'], ['javascript', 'css', 'html5', 'input', 'numbers'], ['c++', 'switch-statement'], ['git'], ['java'], ['vim', 'vi'], ['android', 'android-manifest', 'orientation'], ['python', 'string', 'count'], ['java', 'java-8'], ['java', 'file-io', 'ascii'], ['c#', 'lambda', 'delegates', 'expression-trees'], ['c#', 'enums'], ['regex', 'validation', 'phone-number'], ['java'], ['python', 'json'], ['git', 'version-control', 'git-merge'], ['android', 'android-service'], ['python', 'mongodb', 'pandas', 'hdf5', 'large-data'], ['git', 'git-branch'], ['javascript', 'html', 'xhtml'], ['docker'], ['javascript', 'jquery', 'css', 'jquery-selectors', 'pseudo-element'], ['node.js', 'http', 'post', 'httprequest'], ['c#', '.net', 'console', 'console-application'], ['git'], ['shell'], ['eclipse', 'tabs', 'formatting', 'whitespace'], ['rest', 'versioning'], ['javascript', 'arrays'], ['git', 'push', 'commit'], ['javascript', 'css', 'performance'], ['mysql', 'sql', 'join', 'inner-join'], ['c#', '.net', 'string'], ['xml', 'escaping', 'character'], ['python', 'iteration'], ['javascript', 'html5', 'canvas', 'screenshot'], ['javascript'], ['bash', 'shell'], ['git'], ['angular', 'typescript'], ['ios', 'iphone', 'xcode'], ['python', 'constants'], ['multithreading', 'concurrency', 'terminology', 'race-condition'], ['php', 'http', 'request'], ['c++', 'class', 'oop', 'struct'], ['java', 'memory-management', 'parameters', 'jvm'], ['grep'], ['java', 'string', 'performance', 'concatenation', 'stringbuilder'], ['sql', 'sql-server', 'performance', 'tsql'], ['floating-point', 'currency'], ['android', 'android-activity', 'transparent'], ['ruby', 'exception-handling'], ['python', 'list'], ['c#', 'arrays', '.net', 'string', 'type-conversion'], ['git', 'proxy', 'version-control'], ['java', 'lambda', 'java-8', 'java-stream'], ['javascript', 'date'], ['string', 'bash'], ['xcode', 'git', 'macos', 'version-control', 'gitignore'], ['javascript', 'jquery', 'ajax', 'forms', 'submit'], ['scala', 'scala-collections'], ['eclipse', 'maven', 'spring-data', 'm2eclipse'], ['python', 'pandas', 'dataframe'], ['bash'], ['javascript', 'arrays', 'concatenation'], ['jquery', 'html', 'validation', 'numeric'], ['bash', 'directory', 'ls'], ['javascript', 'variables', 'undefined'], ['javascript', 'html', 'firefox', 'dom', 'browser'], ['docker'], ['programming-languages', 'computer-science'], ['unix', 'ssh', 'passwords'], ['c', 'arrays', 'memory'], ['android', 'multithreading'], ['html', 'css', 'twitter-bootstrap', 'css3', 'twitter-bootstrap-3'], ['c++', 'constructor'], ['git', 'git-branch', 'branching-and-merging'], ['c#'], ['javascript', 'object', 'null', 'undefined'], ['css'], ['jquery', 'jquery-selectors', 'html-select'], ['javascript'], ['git'], ['css', 'css-selectors'], ['android', 'android-layout'], ['c++', 'string', 'char', 'const'], ['php', 'date'], ['html', 'css', 'position', 'overlay'], ['c#', 'asp.net-mvc-3', 'entity-framework-5'], ['windows', 'command-line', 'environment-variables', 'prompt'], ['git', 'branch'], ['git', 'git-branch'], ['markdown'], ['git', 'heroku', 'deployment'], ['java', 'static-methods'], ['python', 'oop', 'multiple-inheritance', 'mixins'], ['ssh', 'rsa', 'ssh-keys'], ['linux', 'bash', 'shell'], ['algorithm', 'performance', 'optimization', 'big-o', 'complexity-theory'], ['c#', '.net', 'random'], ['git'], ['git', 'version-control', 'versioning', 'terminology', 'definition'], ['node.js', 'npm'], ['c#', '.net-3.5', 'inputstream'], ['python', 'pandas', 'dataframe'], ['python', 'pandas', 'dataframe', 'select'], ['javascript', 'arrays', 'json'], ['git', 'version-control'], ['sqlite'], ['html', 'email'], ['git', 'push', 'git-commit', 'git-push'], ['mysql', 'sql', 'group-by', 'greatest-n-per-group'], ['math', 'integer'], ['sql', 'sql-server', 'tsql'], ['java', 'for-loop', 'enums'], ['sql-server', 'tsql'], ['git'], ['python', 'dictionary'], ['linux', 'bash', 'file-io', 'io', 'stdout'], ['testing', 'mocking'], ['java', 'unit-testing', 'mocking', 'mockito'], ['language-agnostic'], ['ios', 'xcode', 'itunesconnect', 'code-signing', 'testflight'], ['c#', 'double', 'decimal', 'precision', 'currency'], ['c#', '.net', 'email', 'smtp', 'gmail'], ['python', 'properties', 'decorator', 'python-decorators'], ['php', 'header'], ['linux', 'kill'], ['java', 'multithreading', 'concurrency'], ['linux', 'bash', 'macos', 'clipboard'], ['git'], ['java', 'string', 'date', 'time', 'data-conversion'], ['python', 'debugging'], ['mysql', 'datetime'], ['android', 'debugging', 'networking', 'tcp', 'adb'], ['.net', 'attributes', 'assemblies'], ['linux', 'unix', 'search', 'command-line', 'grep'], ['javascript', 'jquery', 'forms', 'radio-button'], ['c#', 'reference', 'keyword'], ['math', 'random', 'language-agnostic'], ['git', 'git-branch'], ['angularjs', 'angularjs-scope'], ['git'], ['python'], ['json', 'notepad++'], ['javascript', 'node.js', 'functional-programming'], ['javascript', 'function', 'operators'], ['php', 'linux'], ['python', 'algorithm', 'list', 'duplicates', 'intersection'], ['python', 'file'], ['haskell', 'functional-programming'], ['javascript', 'jquery', 'css'], ['c', 'unit-testing', 'testing', 'embedded'], ['mongodb'], ['javascript', 'node.js'], ['asp.net', '.net', 'visual-studio', 'projects-and-solutions'], ['git', 'merge'], ['javascript', 'math', 'modulo'], ['c#', '.net', 'windows-7'], ['java'], ['sql', 'postgresql', 'csv'], ['c#', 'wcf', 'dictionary', 'concurrency', 'thread-safety'], ['algorithm', 'binary', 'bit-manipulation'], ['algorithm', 'math', 'maps', 'latitude-longitude'], ['c#', '.net', 'iis'], ['css', 'google-chrome', 'hover', 'google-chrome-devtools', 'state'], ['c++', 'memory-management', 'heap', 'new-operator'], ['python', 'assert'], ['python', 'image-processing'], ['ios', 'objective-c'], ['ruby', 'singleton'], ['python', 'syntax', 'namespaces'], ['gradle', 'build.gradle', 'dependency-management'], ['bash', 'shell', 'scripting', 'boolean', 'sh'], ['frameworks', 'libraries', 'terminology'], ['c#', 'foreach'], ['jenkins'], ['javascript'], ['python', 'installation'], ['rest', 'wcf', 'security', 'authorization'], ['mysql', 'text', 'varchar'], ['java', 'jvm', 'benchmarking'], ['c#', '.net', 'json', 'serialization'], ['android', 'android-intent', 'android-activity'], ['java', 'string', 'type-conversion', 'inputstream'], ['git', 'gitignore'], ['javascript', 'arrays'], ['python', 'string', 'path'], ['git', 'commit'], ['c#', 'reflection'], ['css', 'background'], ['visual-studio', 'version-control'], ['postgresql'], ['windows', 'batch-file', 'cmd', 'command-line'], ['linux', 'permissions', 'sudo', 'io-redirection', 'permission-denied'], ['java', 'string', 'numeric'], ['mysql', 'unique-constraint'], ['mysql', 'insert'], ['bash', 'command-line'], ['ruby', 'gem'], ['c++', 'c++11', 'typedef'], ['python', 'tuples'], ['html', 'css'], ['java', 'eclipse', 'wsdl'], ['algorithm', 'time-complexity', 'complexity-theory'], ['c++', 'functor'], ['android', 'android-fragments', 'android-activity'], ['.net', 'entity-framework', 'linq-to-sql'], ['javascript', 'dom'], ['uuid', 'guid'], ['c#', 'asp.net-mvc', 'asp.net-mvc-3'], ['python', 'matplotlib', 'legend'], ['c', 'declaration', 'terminology', 'definition'], ['oop', 'definition'], ['unix', 'cron'], ['javascript', 'node.js', 'npm', 'location'], ['git'], ['javascript', 'module', 'requirejs', 'amd'], ['python', 'python-3.x', 'setup.py'], ['git'], ['python', 'variables', 'exception'], ['javascript', 'jquery', 'html-select'], ['javascript', 'html', 'xhtml'], ['javascript', 'function', 'arguments'], ['python', 'performance', 'profiling', 'benchmarking'], ['git', 'git-branch'], ['linux', 'unix', 'posix', 'terminology'], ['node.js', 'npm'], ['mysql'], ['php', 'arrays'], ['java', 'inputstream', 'bytearray'], ['python', 'http', 'urllib'], ['java', 'jsp', 'jsf', 'servlets', 'java-ee'], ['javascript', 'browser', 'navigation'], ['android', 'textview', 'scale', 'word-wrap'], ['java', 'performance', 'benchmarking', 'bytecode', 'jit'], ['c++', 'performance', 'assembly', 'optimization', 'x86'], ['c#', 'string'], ['javascript', 'redux', 'timeout'], ['javascript', 'substring'], ['javascript', 'arrays', 'declaration'], ['c++', 'gcc', 'g++'], ['sql-server', 'tsql', 'foreign-keys', 'constraints'], ['javascript'], ['arrays', 'ruby', 'string'], ['html', 'css', 'alignment', 'center'], ['python', 'math'], ['c#', '.net', 'file', 'file-io'], ['git', 'git-merge'], ['python', 'sorting', 'dictionary'], ['mysql', 'sql', 'insert-update'], ['javascript', 'arrays'], ['java', 'linq'], ['python'], ['ssh', 'ssh-keys'], ['git', 'git-branch'], ['java', 'intellij-idea', 'java-8'], ['docker'], ['javascript'], ['git', 'github'], ['c', 'for-loop'], ['javascript', 'node.js', 'ecmascript-6', 'babeljs'], ['python', 'singleton', 'decorator'], ['java', 'android', 'memory', 'memory-management'], ['java', 'design-patterns', 'singleton'], ['sql-server', 'tsql', 'join', 'sql-update'], ['javascript', 'dom', 'events'], ['mysql'], ['javascript', 'angularjs', 'escaping'], ['android', 'textview'], ['r', 'dataframe'], ['python', 'multiple-inheritance'], ['java', 'file-io', 'io'], ['c++', 'struct', 'typedef'], ['language-agnostic', 'coding-style'], ['android', 'android-studio', 'android-library'], ['shell'], ['javascript', 'arrays', 'object', 'nested', 'data-manipulation'], ['javascript', 'arrays', 'random'], ['c#', '.net', 'linq'], ['html', 'css', 'image', 'background-image'], ['javascript', 'jquery', 'google-api'], ['language-agnostic', 'definition'], ['c++', 'inheritance', 'interface', 'abstract-class'], ['python', 'integer', 'string-formatting'], ['linux', 'bash', 'unix', 'path', 'zsh'], ['python', 'django', 'django-models'], ['testing', 'terminology', 'definition'], ['css'], ['git'], ['android', 'geolocation', 'location', 'latitude-longitude'], ['jquery'], ['c#', 'string'], ['batch-file', 'cmd', 'comments'], ['git', 'heroku'], ['php', 'json', 'header'], ['python', 'coding-style', 'documentation'], ['sql', 'sql-server', 'tsql', 'stored-procedures'], ['javascript', 'google-chrome', 'console', 'google-chrome-devtools'], ['oop', 'interface', 'language-agnostic'], ['git', 'git-merge', 'gitignore'], ['python', 'time'], ['javascript', 'parameters', 'callback', 'settimeout'], ['android-studio', 'ide', 'keyboard-shortcuts'], ['javascript'], ['css', 'css3', 'css-selectors'], ['html', 'css', 'checkbox'], ['python', 'pip', 'mysql-python'], ['java', 'timing'], ['java', 'performance', 'collections', 'initialization'], ['ios', 'cocoa-touch', 'fonts'], ['c#', '.net'], ['python', 'file'], ['c#'], ['android', 'android-studio', 'gradle'], ['r', 'dataframe', 'filter', 'missing-data'], ['c', 'increment', 'undefined-behavior', 'operator-precedence'], ['bash', 'error-handling', 'find', 'file-permissions'], ['java', 'reference'], ['ruby-on-rails', 'ruby', 'random'], ['sql', 'sql-server', 'tsql'], ['git'], ['git', 'global', 'gitignore'], ['database', 'database-design', 'data-modeling'], ['javascript', 'dom', 'input'], ['jquery', 'html', 'css', 'jquery-ui', 'jquery-ui-dialog'], ['php', 'http', 'comet'], ['c#', 'base64'], ['python', 'shell', 'subprocess'], ['bash', 'shell', 'sh', 'posix', 'trace'], ['xml', 'comments'], ['javascript', 'jquery', 'html', 'forms'], ['c#', 'unit-testing', 'mstest', 'assert'], ['python', 'matplotlib', 'jupyter-notebook', 'ipython', 'data-visualization'], ['css', 'opacity'], ['php', 'mysql', 'sql', 'performance', 'primary-key'], ['javascript', 'reactjs', 'react-jsx'], ['swift', 'string'], ['github', 'npm', 'node-modules', 'npm-install'], ['java', 'hyperlink', 'javadoc'], ['javascript', 'jquery', 'iframe'], ['android', 'user-interface', 'android-recyclerview'], ['javascript'], ['rest', 'http', 'http-status-codes'], ['python', 'list', 'lambda', 'filter', 'functional-programming'], ['function', 'lambda', 'functional-programming', 'closures'], ['git'], ['html', 'html5', 'hyperlink'], ['c#', 'loops', 'enumeration'], ['java', 'variadic-functions'], ['haskell', 'functional-programming'], ['android', 'build.gradle'], ['algorithm', 'math', 'language-agnostic'], ['node.js', 'encoding', 'base64'], ['java', 'maven', 'dependency-management'], ['git'], ['image', 'markdown'], ['copy', 'language-agnostic', 'deep-copy'], ['javascript', 'node.js', 'promise', 'async-await'], ['python', 'windows', 'pip'], ['php', 'string', 'random'], ['c', 'undefined-behavior'], ['ios', 'xcode', 'build', 'process'], ['linux', 'command-line', 'terminal'], ['unicode', 'utf-8', 'character-encoding'], ['visual-studio', 'ide'], ['c#', 'yield'], ['c#', '.net', 'sorting', 'dictionary'], ['mysql', 'sql', 'join', 'subquery'], ['linux', 'unix', 'ssh'], ['javascript', 'arrays'], ['visual-studio'], ['javascript', 'javascript-objects'], ['javascript', 'file', 'web-applications', 'client-side'], ['php', 'string', 'syntax'], ['c#', 'entity-framework', 'entity-framework-4', 'entity-framework-4.1'], ['git', 'git-submodules'], ['javascript', 'dom'], ['git'], ['node.js', 'express', 'npm'], ['oop', 'functional-programming'], ['java', 'object', 'copy', 'clone'], ['svn', 'directory', 'version-control'], ['oop', 'interface', 'language-agnostic'], ['java', 'android', 'debugging', 'kotlin', 'crash'], ['javascript', 'jquery', 'html', 'html5'], ['visual-studio'], ['c#', 'string', 'enums'], ['html', 'css', 'height'], ['json', 'bash', 'parsing'], ['node.js'], ['javascript', 'jquery', 'html', 'css', 'layout'], ['android-studio'], ['angularjs', 'angularjs-directive'], ['c', 'struct', 'typedef'], ['css'], ['python', 'list'], ['android', 'multithreading', 'android-service'], ['javascript', 'file', 'http', 'three.js', '3d'], ['java'], ['git'], ['ruby-on-rails', 'schema', 'database-schema', 'rollback'], ['facebook', 'url', 'twitter'], ['git'], ['javascript', 'jquery', 'dom'], ['css'], ['java', 'maven', 'dependencies', 'maven-2'], ['c#', '.net', 'configuration'], ['linux', 'unix'], ['python', 'python-import', 'relative-path'], ['shell', 'unix', 'search', 'command-line', 'grep'], ['git', 'git-branch'], ['python', 'if-statement', 'keyword', 'logical-operators'], ['java', 'garbage-collection', 'out-of-memory', 'heap-memory'], ['localhost', 'virtual-machine', 'virtualbox'], ['c++', 'c', 'c-preprocessor'], ['c++', 'performance', 'gcc', 'memory-management'], ['python', 'file', 'file-handling'], ['html', 'css'], ['git'], ['python', 'module', 'python-import', 'reload'], ['javascript', 'jquery', 'anchor'], ['docker'], ['javascript', 'jquery'], ['python', 'dictionary', 'max'], ['javascript'], ['html5', 'websocket', 'server-sent-events'], ['c#', '.net', 'command-line-arguments'], ['windows', 'cmd', 'command-line', 'process'], ['javascript', 'jquery', 'asp.net', 'json', 'ajax'], ['bash', 'environment-variables'], ['python'], ['database', 'database-design', 'language-agnostic', 'naming-conventions'], ['javascript', 'arrays', 'function'], ['python', 'iterator'], ['javascript', 'node.js', 'debugging', 'console.log'], ['javascript', 'node.js', 'express', 'post'], ['bash', 'shell'], ['ios', 'objective-c', 'cocoa', 'callback', 'delegates'], ['html', 'xhtml'], ['php', 'arrays'], ['objective-c', 'random'], ['python', 'cross-platform'], ['python', 'if-statement', 'syntax'], ['javascript', 'setinterval'], ['git', 'diff'], ['c#', '.net', 'reflection'], ['html', 'css'], ['git'], ['git', 'version-control', 'mercurial', 'comparison'], ['keyboard', 'midi'], ['c#', 'random'], ['algorithm', 'recursion', 'language-agnostic', 'tail-recursion'], ['bash', 'command-line-arguments'], ['c#', '.net', 'string', 'split'], ['java', 'string', 'equality'], ['javascript', 'http', 'get'], ['git'], ['ruby-on-rails', 'postgresql', 'ruby-on-rails-3'], ['android', 'android-layout'], ['unix', 'symlink'], ['macos', 'terminal', 'keyboard-shortcuts'], ['docker'], ['git'], ['node.js', 'exception-handling'], ['javascript', 'events'], ['python', 'setup.py'], ['linux', 'shell', 'tar', 'archive'], ['git', 'github'], ['android', 'security', 'proguard', 'reverse-engineering'], ['visual-studio', 'indentation'], ['c++', 'c++11'], ['php', 'arrays', 'string'], ['git', 'version-control'], ['cgi'], ['git'], ['mysql'], ['java', 'java-8', 'javac', 'java-9'], ['mysql', 'innodb'], ['python', 'list-comprehension'], ['machine-learning', 'neural-network', 'artificial-intelligence'], ['c', 'malloc'], ['python', 'operators', 'increment'], ['javascript', 'jquery', 'html', 'escaping'], ['c#', '.net', 'string'], ['c#', 'excel', 'interop', 'com-interop'], ['ruby', 'random', 'passwords'], ['java', 'generics', 'collections'], ['git', 'git-rebase'], ['javascript', 'arrays', 'sorting', 'numbers'], ['php', 'arrays'], ['python'], ['javascript', 'html', 'ajax'], ['javascript', 'base64'], ['css', 'css-selectors'], ['java'], ['database', 'mongodb', 'database-design', 'cassandra'], ['sublimetext2', 'sublimetext', 'text-editor'], ['vim'], ['javascript', 'overloading'], ['python', 'coding-style'], ['sql', 'sql-server', 'stored-procedures'], ['rest', 'authentication', 'restful-authentication'], ['javascript', 'unit-testing', 'tdd'], ['git', 'command-line'], ['javascript'], ['git', 'branch'], ['javascript', 'naming-conventions'], ['git'], ['rest', 'http'], ['makefile', 'gnu-make'], ['arrays', 'swift'], ['elasticsearch', 'search', 'solr', 'lucene'], ['java', 'generics', 'inheritance', 'polymorphism'], ['javascript', 'prototype', 'javascript-objects'], ['linux', 'bash', 'shell', 'unix', 'diff'], ['mysql', 'sql', 'max', 'distinct', 'greatest-n-per-group'], ['python', 'pandas', 'dataframe'], ['css', 'internet-explorer-10'], ['android', 'android-fragments', 'android-viewpager'], ['javascript'], ['android', 'html', 'textview', 'xml-parsing'], ['git'], ['css', 'css-selectors'], ['mongodb', 'nosql'], ['ruby', 'comments'], ['git', 'branch'], ['html', 'asp.net', 'asp.net-mvc', 'http-post', 'form-submit'], ['http', 'post', 'put'], ['git', 'commit'], ['asp.net', 'asp.net-mvc-3', 'razor', 'webmatrix'], ['python', 'virtualenv'], ['html5', 'input', 'floating-point'], ['python', 'exception'], ['linux', 'shell'], ['java', 'android', 'object', 'android-intent', 'android-activity'], ['arrays', 'bash'], ['objective-c', 'cocoa', 'cocoa-touch'], ['python', 'syntax'], ['javascript', 'jquery', 'ajax', 'post', 'file-upload'], ['android', 'scroll', 'textview'], ['ios', 'objective-c', 'cocoa-touch', 'uitextview', 'placeholder'], ['html', 'css', 'twitter-bootstrap', 'twitter-bootstrap-3'], ['jquery', 'select'], ['css', 'css3', 'css-selectors'], ['java', 'url', 'hyperlink', 'javadoc'], ['ios', 'cocoa-touch', 'interface-builder', 'xib'], ['python', 'properties', 'getter-setter'], ['android', 'android-intent'], ['php', 'mysql', 'encoding', 'collation'], ['c++', 'string'], ['javascript', 'jquery', 'events', 'bind', 'keypress'], ['java', 'arrays', 'java-8', 'java-stream'], ['sql', 'sql-server', 'tsql', 'datetime'], ['python', 'list', 'duplicates', 'unique'], ['lambda', 'language-agnostic', 'computer-science', 'terminology', 'theory'], ['compiler-construction', 'language-agnostic'], ['git', 'credentials'], ['python', 'python-3.x', 'virtualenv'], ['git', 'github', 'git-commit'], ['python', 'while-loop', 'do-while'], ['python', 'arrays', 'methods'], ['encoding', 'base64', 'encode'], ['ios', 'xcode', 'itunesconnect'], ['android', 'android-intent'], ['angular', 'angular2-template'], ['java', 'spring', 'spring-boot', 'server', 'port'], ['python', 'python-3.x', 'shell'], ['android', 'android-emulator', 'install', 'apk'], ['c#', 'lambda', 'c#-3.0', 'extension-methods'], ['windows', 'batch-file', 'cmd'], ['angularjs', 'html5', 'seo', 'search-engine', 'google-search'], ['linux', 'bash', 'io-redirection'], ['python', 'floating-point', 'integer', 'python-2.x', 'division'], ['git', 'build-process'], ['haskell', 'monads'], ['python', 'multithreading', 'multiprocessing'], ['sql', 'sql-server', 'tsql', 'sql-server-2000'], ['git'], ['html', 'css'], ['javascript', 'obfuscation'], ['python', 'package', 'python-import', 'importerror', 'init'], ['vim', 'editor', 'clipboard'], ['jquery', 'html', 'forms', 'form-submit'], ['html', 'css', 'twitter-bootstrap'], ['javascript', 'cross-browser', 'viewport'], ['php', 'datetime', 'datediff'], ['c#', 'properties', 'extension-methods'], ['python', 'list', 'performance'], ['sql-server-2008', 'save', 'ssms', 'menuitem'], ['css'], ['c#', 'asp.net', '.net'], ['mysql', 'sql-update', 'mysql-workbench'], ['github', 'markdown'], ['python', 'list', 'performance', 'set'], ['eclipse', 'find'], ['c#', 'compiler-errors', 'reference', 'dependencies', 'version'], ['javascript'], ['javascript', 'jquery'], ['java', 'file-io'], ['git'], ['javascript'], ['java', 'android', 'delay', 'handler'], ['c#', 'string', 'unit-testing', 'stream'], ['java', 'android', 'reverse-engineering'], ['python', 'list', 'random', 'shuffle'], ['java', 'list', 'collections'], ['python', 'function', 'variables', 'naming-conventions'], ['r', 'dplyr', 'data.table'], ['css', 'google-chrome'], ['c++', 'performance', 'caching', 'memory'], ['android', 'android-layout', 'textview'], ['port', 'scp'], ['c#', 'delegates'], ['visual-studio-code', 'vscode-settings'], ['android', 'timeout', 'install', 'apk'], ['php', 'arrays'], ['python', 'multithreading', 'kill'], ['javascript', 'reactjs'], ['bash', 'terminal'], ['css', 'browser', 'scrollbar'], ['html', 'css', 'vertical-alignment'], ['javascript', 'jquery', 'html', 'css'], ['c#', 'datetime', 'unix', 'data-conversion', 'epoch'], ['css', 'twitter-bootstrap', 'twitter-bootstrap-3', 'bootstrap-4', 'navbar'], ['git'], ['javascript', 'jquery', 'javascript-events', 'keyboard-events'], ['php'], ['angularjs', 'if-statement'], ['python', 'packages', 'setuptools'], ['macos', 'terminal'], ['javascript', 'class', 'oop'], ['c#', '.net', 'string', 'initialization'], ['c#', 'async-await'], ['c#', 'arrays', '.net', 'stream'], ['python', 'string', 'uppercase'], ['bash', 'git', 'shell'], ['sql', 'sql-server', 'performance'], ['javascript', 'jquery'], ['linq', 'foreach', 'ienumerable'], ['regex'], ['python', 'loops', 'range', 'python-2.x'], ['html', 'css'], ['javascript', 'jquery'], ['python', 'list', 'sorting', 'count'], ['ruby', 'string'], ['javascript', 'local-storage'], ['css'], ['python', 'string', 'dictionary'], ['python', 'trim'], ['javascript', 'node.js'], ['javascript', 'types', 'numbers'], ['scala', 'groovy', 'clojure'], ['algorithm', 'file', 'search', 'out-of-memory'], ['git'], ['postgresql'], ['javascript', 'jquery', 'twitter-bootstrap'], ['vim', 'clipboard'], ['android', 'android-layout', 'textview'], ['python', 'string', 'hex'], ['linux', 'memory', 'process'], ['visual-studio-2013'], ['c', 'math', 'division'], ['java', 'json', 'jackson'], ['javascript'], ['javascript', 'arrays'], ['ios', 'uitableview', 'cocoa-touch'], ['unit-testing', 'testing', 'definition'], ['ios', 'objective-c', 'app-store'], ['c#', '.net', 'linq'], ['java', 'oop', 'design-patterns'], ['javascript', 'html5', 'canvas', 'export', 'png'], ['python', 'directory-structure'], ['docker', 'environment-variables', 'dockerfile'], ['git', 'git-branch'], ['bash'], ['haskell', 'syntax'], ['linux', 'file', 'vim', 'editor'], ['java', 'macos'], ['html5', 'css3', 'date', 'input'], ['python', 'arrays', 'list'], ['python', 'json', 'serialization'], ['android', 'database', 'sqlite'], ['javascript'], ['angularjs', 'angularjs-ng-repeat'], ['bash'], ['git'], ['javascript', 'string', 'split'], ['r', 'ggplot2'], ['redis'], ['java', 'jsp', 'servlets', 'java-ee', 'file-upload'], ['jquery'], ['.net', '.net-core', '.net-standard'], ['python', 'pandas', 'dataframe', 'append'], ['git'], ['javascript', 'variables', 'static', 'closures'], ['c#', 'string', 'parsing'], ['c#', '.net', 'performance', 'reflection', 'types'], ['android', 'android-resources', 'android-6.0-marshmallow'], ['git', 'git-merge'], ['android', 'android-fragments'], ['php'], ['java', 'collections', 'constructor', 'initialization', 'hashset'], ['c#', '.net', 'version', 'assemblies'], ['html', 'css'], ['python', 'list', 'performance', 'instantiation', 'literals'], ['git', 'github'], ['java', 'inheritance', 'interface', 'extends'], ['git', 'git-push'], ['c#', 'casting'], ['ios', 'xcode', 'logging', 'xcode8', 'ios10'], ['javascript', 'node.js', 'promise', 'callback', 'bluebird'], ['git', 'gitignore'], ['javascript', 'floating-point', 'number-formatting'], ['java', 'generics', 'super'], ['c++', 'design-patterns', 'singleton'], ['git'], ['javascript', 'asynchronous'], ['git', 'git-merge'], ['html', 'unicode'], ['git', 'git-submodules'], ['javascript', 'data-structures', 'stack', 'queue'], ['sql', 'sql-server', 'tsql'], ['python', 'string', 'unicode', 'binary'], ['java', 'exception'], ['python'], ['mysql', 'sql', 'database'], ['python', 'unit-testing', 'exception', 'exception-handling'], ['html', 'css', 'iframe', 'internet-explorer-6'], ['docker'], ['javascript', 'angularjs'], ['amazon-web-services', 'authentication', 'amazon-ec2', 'ssh', 'permissions'], ['json', 'rest', 'grails', 'file-upload'], ['javascript'], ['java', 'arrays', 'collections', 'set'], ['python', 'module'], ['ios', 'objective-c', 'swift', 'uitableview', 'ios8'], ['java', 'http', 'url', 'encoding', 'urlencode'], ['linux', 'bash', 'shell', 'grep'], ['bash', 'git', 'shell'], ['c#', '.net', 'entity-framework', 'ado.net'], ['python', 'python-3.x', 'string', 'character-encoding'], ['url', 'url-encoding'], ['vim'], ['android', 'android-asynctask'], ['android'], ['string', 'go', 'string-concatenation'], ['vim', 'emacs', 'editor'], ['java', 'vector', 'stack', 'deprecated'], ['jquery'], ['python', 'oop'], ['batch-file'], ['html', 'radio-button'], ['git', 'windows-xp', 'copy-paste'], ['html', 'attributes'], ['javascript', 'switch-statement'], ['git'], ['eclipse', 'tabs'], ['python', 'date', 'datetime'], ['python', 'performance', 'jit'], ['git', 'git-commit'], ['git'], ['git', 'version-control'], ['android', 'android-drawable', 'android-resources'], ['maven'], ['python', 'exception-handling'], ['python', 'python-import'], ['java', 'file-io', 'io', 'text-files'], ['python', 'list-comprehension'], ['vim', 'vi'], ['c#', 'linq', 'linq-to-objects'], ['sql', 'sql-server'], ['java', 'exception', 'try-catch'], ['python', 'file'], ['python', 'floating-point', 'range'], ['python', 'performance', 'memory-management', 'profiling'], ['android'], ['python', 'python-requests', 'urllib', 'urllib2', 'python-2.x'], ['git', 'timestamp', 'commit'], ['python', 'dictionary', 'python-2.x'], ['java', 'datetime'], ['c++', 'c++11', 'visual-studio-2010', 'stl', 'move-semantics'], ['windows', 'cmd', 'command-line', 'pipe'], ['windows', 'batch-file', 'command-line', 'restart', 'shutdown'], ['gradle'], ['python', 'coding-style'], ['git'], ['string', 'bash', 'shell', 'substring'], ['html', 'css'], ['c++', 'c', 'return-value', 'main', 'return-type'], ['java', 'tuples'], ['git'], ['git'], ['maven', 'pom.xml', 'dependency-management'], ['bash'], ['html', 'css', 'file-io'], ['c#', 'asp.net', 'asp.net-mvc'], ['javascript', 'properties'], ['c++', 'c'], ['javascript', 'google-chrome', 'debugging', 'breakpoints'], ['javascript', 'php', 'jquery', 'ajax', 'post'], ['git', 'reset'], ['git', 'branching-and-merging'], ['r', 'assignment-operator'], ['java', 'intellij-idea'], ['jquery', 'string'], ['javascript', 'html', 'code-snippets'], ['windows', 'date', 'batch-file', 'cmd', 'file-io'], ['bash', 'shell'], ['linux', 'file', 'unix', 'path'], ['git'], ['html', 'css'], ['java', 'generics'], ['java', 'reflection', 'invoke'], ['swift', 'selector', 'nstimer'], ['ios', 'xcode'], ['c#', 'arrays', 'syntax'], ['javascript', 'dom', 'insert', 'append'], ['string', 'bash', 'comparison'], ['batch-file', 'timeout'], ['ruby-on-rails', 'postgresql'], ['java', 'spring', 'dependency-injection', 'autowired'], ['c#', '.net', 'datetime', 'timezone'], ['c#', 'visual-studio', 'visual-studio-2010', 'c#-4.0'], ['javascript', 'jquery', 'arrays'], ['c#', 'multithreading', 'locking', 'volatile'], ['c++', 'inheritance', 'constructor'], ['xcode', 'git', 'macos', 'command-line', 'terminal'], ['algorithm', 'sorting', 'embedded', 'ram'], ['java', 'jackson'], ['django', 'file', 'upload'], ['c', 'boolean'], ['python', 'constructor'], ['java', 'jaxb', 'java-9'], ['python', 'c', 'performance', 'haskell', 'erlang'], ['android', 'android-edittext'], ['ios', 'objective-c', 'nsstring'], ['python', 'pandas', 'dataframe', 'types', 'casting'], ['angularjs'], ['nuget'], ['python', 'matrix', 'syntax-error'], ['windows', 'powershell', 'scripting'], ['batch-file', 'cmd'], ['asp.net', 'asp.net-mvc', 'forms-authentication'], ['python', 'string', 'function'], ['node.js', 'macos', 'upgrade'], ['html', 'css', 'pseudo-element'], ['php', 'const', 'constants'], ['python', 'path', 'filesystems', 'glob'], ['java', 'filter', 'collections'], ['eclipse', 'svn'], ['css', 'vertical-alignment'], ['c#', 'asp.net', 'directory'], ['asp.net', 'json', 'asp.net-mvc'], ['javascript', 'html', 'javascript-events'], ['java', 'difference'], ['javascript', 'node.js', 'npm'], ['android', 'android-layout', 'android-widget'], ['java', 'android', 'android-intent', 'javamail'], ['algorithm', 'url'], ['c#', 'asp.net-core', '.net-core'], ['ios', 'arrays', 'swift', 'string', 'split'], ['typescript'], ['angularjs'], ['git', 'git-branch', 'git-merge'], ['line-breaks'], ['android', 'android-source'], ['parameters', 'arguments', 'language-agnostic', 'terminology'], ['python', 'reference', 'equality', 'semantics'], ['r', 'dataframe', 'na'], ['json', 'yaml'], ['java', 'list', 'collections', 'map'], ['javascript', 'php'], ['java', 'android', 'android-fragments', 'android-context'], ['javascript', 'regex', 'match'], ['json', 'json.net', 'asp.net-ajax', 'asp.net-3.5'], ['c#', 'floating-point', 'type-conversion', 'double', 'decimal'], ['c#', 'asp.net', 'rest', 'api', 'http'], ['javascript', 'onclick', 'addeventlistener'], ['javascript', 'jquery', 'ajax'], ['python', 'directory'], ['javascript', 'google-maps', 'google-maps-api-3'], ['c++', 'c', 'struct', 'sizeof'], ['visual-studio', 'directory', 'projects-and-solutions'], ['bash', 'parameter-passing', 'command-line-arguments'], ['google-chrome', 'google-chrome-devtools'], ['linux'], ['javascript', 'internet-explorer', 'internet-explorer-9'], ['android', 'asynchronous', 'networking'], ['c#', 'arrays'], ['virtual-machine', 'virtualbox', 'keyboard-shortcuts'], ['scala', 'haskell', 'functional-programming', 'f#'], ['bash', 'syntax'], ['c#', '.net', 'generics'], ['git'], ['postgresql', 'authentication'], ['css', 'css-selectors', 'wildcard'], ['c#', 'sql', 'entity-framework'], ['javascript'], ['c#', '.net', 'methods', 'delegates'], ['python', 'number-formatting'], ['jquery'], ['javascript', 'ecmascript-6', 'import'], ['cocoa', 'autolayout'], ['json', 'request', 'response'], ['bash', 'shell', 'redirect', 'pipe'], ['node.js', 'middleware'], ['javascript', 'object', 'properties'], ['git', 'git-branch'], ['android', 'android-layout', 'fonts'], ['javascript', 'jquery', 'html'], ['python', 'date', 'datetime'], ['php', 'security', 'pdo', 'sql-injection'], ['bash', 'path'], ['.net', 'embedded-resource', 'streamreader'], ['android', 'xml', 'android-layout', 'user-interface'], ['javascript', 'oop'], ['unit-testing', 'mocking', 'terminology', 'definition'], ['.net', 'class', 'struct'], ['jquery', 'jquery-selectors'], ['javascript', 'jquery', 'scroll', 'pagination'], ['c#', '.net', 'wpf', 'mutex'], ['python', 'concatenation', 'sequence'], ['mysql', 'duplicates'], ['python', 'path', 'relative-path'], ['java', 'overriding', 'equals', 'hashcode'], ['html', 'html5', 'syntax'], ['javascript'], ['python'], ['android', 'google-play-services', 'genymotion'], ['angularjs'], ['windows', 'registry', 'putty'], ['html', 'css', 'opacity'], ['python'], ['ssh', 'virtualbox'], ['git', 'version-control', 'git-rebase'], ['javascript', 'arrays'], ['javascript', 'javascript-events'], ['ruby-on-rails', 'ruby-on-rails-4'], ['python', 'unit-testing'], ['c#', '.net', 'list', 'linq'], ['rest', 'http'], ['javascript', 'dialog'], ['c#', '.net', 'wpf', 'visual-studio-2008', 'c#-3.0'], ['wget'], ['sql', 'sql-server', 'tsql', 'sql-server-2008'], ['sql', 'sql-server', 'tsql', 'sql-server-2005', 'sql-update'], ['python', 'loops', 'reverse'], ['svn', 'command'], ['angular', 'rxjs', 'observable', 'subscription'], ['git', 'github', 'git-commit'], ['ruby', 'keyword'], ['c#', 'list', 'linq', 'ienumerable'], ['git', 'git-merge'], ['git', 'rename'], ['dictionary', 'go'], ['python', 'python-2.7', 'encapsulation'], ['ios', 'swift', 'macos'], ['java', 'date'], ['svn', 'version-control', 'branch', 'branching-and-merging'], ['postgresql', 'psql'], ['c#', '.net', 'string', 'split'], ['python', 'string', 'split'], ['python', 'string'], ['java', 'multithreading', 'keyword', 'volatile'], ['linux', 'windows', 'sockets', 'unix', 'portability'], ['database', 'database-design', 'nosql', 'scalability'], ['http', 'http-headers'], ['android', 'android-drawable', 'shapes'], ['javascript', 'jquery', 'jquery-selectors'], ['javascript', 'string'], ['c#', '.net', 'winforms', 'inotifypropertychanged'], ['apache', 'tomcat', 'webserver'], ['android', 'http', 'https'], ['mongodb', 'performance', 'nosql', 'comparison', 'couchdb'], ['c++', 'c', 'assembly', 'optimization', 'architecture'], ['node.js', 'configuration-files'], ['rest', 'web-services', 'http'], ['c#', '.net', 'interface'], ['c++', 'casting'], ['ios', 'uitableview', 'ios7'], ['sql', 'postgresql'], ['node.js', 'upgrade'], ['git', 'github'], ['java', 'debugging', 'stack-trace'], ['vim', 'indentation', 'vi'], ['objective-c', 'ios8', 'location', 'cllocationmanager'], ['github', 'markdown'], ['git', 'git-bash'], ['python', 'pandas', 'dataframe', 'nan'], ['python', 'integer'], ['mysql'], ['sql', 'sql-server', 'database', 'sql-server-2008', 'azure-sql-database'], ['mysql'], ['windows', 'cygwin', 'mingw'], ['git', 'git-commit'], ['functional-programming', 'terminology', 'definition'], ['node.js', 'windows', 'npm'], ['java', 'io', 'java.util.scanner'], ['git'], ['python'], ['git', 'branch', 'commit'], ['bash', 'scripting', 'exit'], ['django', 'search', 'django-queryset'], ['javascript', 'gruntjs', 'bower'], ['xcode', 'code-formatting'], ['git', 'branch'], ['python', 'pip', 'ipython', 'conda'], ['php', 'parsing', 'debugging', 'syntax-error'], ['javascript', 'function', 'parameters'], ['android', 'sharedpreferences'], ['java', 'file', 'directory', 'io'], ['javascript', 'jquery', 'javascript-events', 'event-handling', 'firebug'], ['node.js', 'console', 'console.log'], ['python', 'exception-handling'], ['git'], ['android', 'android-emulator', 'android-widget'], ['javascript', 'jquery'], ['http', 'caching', 'http-headers'], ['python'], ['javascript', 'jquery', 'jquery-selectors'], ['javascript', 'ajax', 'google-chrome'], ['dependency-injection', 'inversion-of-control', 'ioc-container'], ['unix', 'gnu'], ['entity-framework', 'ef-code-first', 'entity-framework-4.1', 'poco'], ['java', 'mockito'], ['bootstrapping'], ['twitter', 'unicode', 'compression'], ['ajax', 'asp.net-mvc'], ['sql', 'join', 'where-clause'], ['java', 'android', 'eclipse', 'adt'], ['c#', 'asynchronous', 'async-await'], ['git', 'git-branch'], ['visual-studio-code'], ['git', 'github'], ['c#', '.net'], ['java', 'spring', 'web', 'web-applications', 'frameworks'], ['python'], ['ajax', 'http', 'browser', 'cross-browser'], ['c#', '.net', 'decimal', 'rounding'], ['python', 'pip'], ['git', 'version-control', 'git-merge'], ['android', 'android-activity', 'view'], ['ios', 'objective-c', 'nsnotificationcenter'], ['performance', 'optimization', 'language-agnostic'], ['javascript', 'object'], ['java', 'linux', 'install', 'wget'], ['javascript', 'html5', 'html5-audio'], ['python', 'arrays', 'string', 'list'], ['sql', 'sql-server', 'sql-server-2008'], ['node.js', 'express', 'cors', 'coffeescript'], ['javascript', 'node.js', 'express'], ['sql', 'postgresql'], ['git'], ['batch-file', 'newline'], ['javascript', 'date', 'date-format'], ['android', 'singleton', 'global-variables', 'state'], ['python', 'obfuscation', 'licensing'], ['javascript', 'promise', 'scope', 'es6-promise', 'bluebird'], ['mysql', 'sql', 'quotes'], ['java', 'static'], ['jquery', 'loops'], ['database', 'version-control'], ['linux', 'unix', 'port'], ['git', 'github'], ['java', 'scala', 'asynchronous', 'akka'], ['php', 'wordpress', 'directory'], ['javascript', 'jquery'], ['c#', 'class', 'static'], ['python', 'if-statement', 'coding-style'], ['java', 'hex', 'bytearray'], ['python'], ['git'], ['java', 'collections'], ['mysql', 'sql', 'date', 'datetime', 'group-by'], ['javascript', 'html', 'iframe'], ['java', 'exception', 'exception-handling', 'aop'], ['postgresql'], ['rest', 'web-services'], ['git', 'version-control'], ['mongodb', 'mongodb-query'], ['git', 'github'], ['git'], ['python', 'django', 'django-models', 'django-queryset'], ['sql-server', 'database', 'indexing'], ['javascript', 'jquery', 'event-handling'], ['java', 'java-8', 'java-stream'], ['ruby-on-rails', 'ruby', 'database', 'rake'], ['git', 'commit', 'gitignore'], ['bash', 'git', 'shell'], ['javascript', 'string', 'replace'], ['scala', 'class', 'object'], ['jquery', 'css'], ['javascript', 'sorting', 'object', 'properties'], ['php', 'arrays', 'json', 'performance', 'serialization'], ['ruby-on-rails', 'json', 'ruby'], ['python', 'setuptools', 'packaging'], ['mysql', 'mariadb'], ['python', 'file-io'], ['java', 'memory'], ['html', 'html5', 'validation'], ['python', 'git', 'pip'], ['python', 'json'], ['ruby-on-rails', 'ruby', 'data-structures', 'associative-array'], ['ruby-on-rails', 'ruby', 'database', 'activerecord'], ['design-patterns', 'factory-pattern'], ['sql-server', 'varchar'], ['operating-system', 'kernel'], ['javascript', 'jquery', 'string', 'escaping'], ['java', 'android', 'java-8', 'android-gradle'], ['security', 'oauth', 'access-token'], ['javascript', 'jquery'], ['angular', 'typescript', 'angular2-forms'], ['javascript', 'momentjs'], ['linux'], ['c++'], ['javascript', 'concurrency'], ['python', 'python-3.x', 'list', 'dictionary', 'python-2.x'], ['visual-studio-2012', 'visual-studio-2013'], ['linux', 'command-line', 'overwrite'], ['php', 'mysql', 'sql', 'security', 'sql-injection'], ['javascript', 'jquery', 'checkbox', 'jquery-selectors'], ['android', 'android-permissions'], ['php', 'string'], ['sockets', 'tcp'], ['python', 'uuid', 'guid', 'uniqueidentifier'], ['git', 'cross-platform', 'newline'], ['svn', 'tortoisesvn'], ['ios', 'xcode', 'xcode6', 'interface-builder', 'uistoryboard'], ['git', 'https', 'version-control'], ['android', 'android-intent', 'android-activity', 'android-button', 'android-lifecycle'], ['javascript', 'arrays', 'associative-array'], ['c#', '.net', 'coding-style'], ['css', 'css3', 'flexbox'], ['linux', 'bash', 'shell', 'sh'], ['mysql', 'sql', 'django', 'django-models'], ['ios', 'ios6', 'uistoryboard'], ['java', 'identity', 'equality'], ['mysql', 'sql', 'join', 'outer-join'], ['excel', 'csv', 'encoding', 'utf-8'], ['php', 'datetime'], ['git', 'git-merge'], ['java', 'date'], ['git', 'version-control', 'branch', 'git-branch'], ['r', 'ggplot2', 'labels'], ['javascript', 'html', 'string'], ['javascript', 'javascript-events'], ['python', 'if-statement', 'comparison', 'match', 'boolean-logic'], ['html', 'css', 'css-selectors'], ['amazon-web-services', 'amazon-s3'], ['html', 'html-table', 'xhtml'], ['python', 'linux', 'file-io', 'file-permissions'], ['python', 'unicode', 'python-2.x'], ['javascript', 'object', 'equals', 'hashcode'], ['python', 'oop', 'methods'], ['mysql', 'foreign-keys', 'constraints', 'truncate'], ['shell', 'unix', 'sed', 'io-redirection'], ['git'], ['sql-server', 'tsql'], ['sqlite', 'primary-key', 'ddl'], ['c++', 'vector', 'std'], ['unit-testing'], ['docker'], ['python', 'flask'], ['javascript', 'html', 'angularjs'], ['bash', 'shell', 'syntax'], ['css', 'position', 'css-position', 'fixed'], ['google-chrome', 'input', 'autocomplete'], ['java', 'xml', 'date'], ['unit-testing', 'code-coverage'], ['c++', 'c++11'], ['python', 'executable'], ['git'], ['regex', 'bash', 'awk', 'terminal'], ['c#', 'datetime'], ['java'], ['javascript', 'object', 'properties', 'nested'], ['sql', 'sql-order-by'], ['css', 'firefox'], ['shell', 'unix', 'command-line'], ['java', 'dictionary', 'concurrency'], ['node.js', 'npm', 'package', 'save'], ['security', 'authentication', 'authorization'], ['node.js', 'http-post'], ['ruby-on-rails', 'apache', 'passenger'], ['javascript', 'jquery'], ['java', 'constructor', 'abstract-class'], ['php', 'string'], ['github', 'markdown'], ['css', 'display'], ['java', 'eclipse', 'intellij-idea', 'ide'], ['javascript', 'jquery', 'jquery-selectors'], ['bash', 'shell', 'unix'], ['java', 'boolean', 'boolean-logic'], ['git'], ['css', 'css3', 'flexbox', 'language-lawyer', 'w3c'], ['git'], ['java', 'json', 'jackson'], ['git', 'github'], ['curl', 'time', 'download', 'upload'], ['html5'], ['c#', 'entity-framework', 'entity-framework-4'], ['java', 'hashmap', 'key'], ['git', 'version-control'], ['bash', 'loops', 'while-loop'], ['python', 'command-line', 'command-line-arguments'], ['sql-server'], ['jquery', 'jquery-ui'], ['javascript', 'datetime'], ['html', 'include'], ['android', 'android-viewpager'], ['java', 'stringbuilder'], ['javascript', 'arrays', 'duplicates', 'copy', 'slice'], ['haskell', 'functional-programming', 'monads'], ['git', 'search', 'grep'], ['vim', 'split'], ['database', 'database-design'], ['ruby', 'reflection'], ['c++', 'templates'], ['json', 'rest', 'http', 'put'], ['javascript', 'angularjs'], ['python', 'argparse'], ['android', 'localization'], ['vim', 'copy-paste'], ['c++', 'vector', 'stl', 'initialization'], ['json', 'base64'], ['git'], ['android', 'textview', 'transparency'], ['c#', 'file', 'rename'], ['objective-c', 'nsstring'], ['java', 'arrays'], ['java', 'eclipse', 'maven', 'java-7', 'm2eclipse'], ['jquery', 'url', 'parameters', 'query-string'], ['duplicates', 'notepad++'], ['c', 'int'], ['entity-framework', 'ado.net'], ['visual-studio', 'build-process'], ['regex', 'ruby'], ['android', 'android-drawable'], ['html', 'xml', 'notepad++'], ['git', 'git-commit'], ['javascript', 'scope', 'coding-style'], ['regex'], ['python', 'dictionary', 'mapping'], ['javascript', 'ecmascript-6'], ['javascript', 'html', 'arrays', 'html5', 'local-storage'], ['git'], ['c#', '.net', 'c#-4.0', '.net-4.0'], ['python', 'logical-operators'], ['linux', 'unix', 'grep'], ['ios', 'nsstring', 'nsdata'], ['image', 'svg', 'png', 'jpeg', 'gif'], ['cocoa', 'cocoa-touch', 'uiview'], ['javascript', 'jquery', 'javascript-events'], ['git'], ['java', 'garbage-collection', 'destructor'], ['reactjs', 'react-jsx'], ['ios', 'cocoa-touch', 'ios6', 'views', 'hierarchy'], ['javascript', 'node.js', 'json'], ['git', 'github', 'version-control'], ['ruby-on-rails', 'ubuntu'], ['git', 'file', 'directory', 'gitignore'], ['bash', 'shell'], ['jquery', 'animation'], ['java'], ['c#', '.net', 'string', 'type-conversion', 'int'], ['asp.net-mvc', 'logging'], ['linux', 'process', 'signals', 'kill'], ['java', 'generics', 'warnings'], ['javascript'], ['c#', '.net', 'dll', 'merge', 'linker'], ['swift', 'singleton'], ['html', 'static', 'favicon'], ['git', 'git-merge'], ['git'], ['forms', 'email'], ['ios', 'cocoa-touch', 'uiview'], ['java', 'loops', 'foreach', 'iterator'], ['c#', '.net', 'enums'], ['c#', 'asp.net', 'asp.net-mvc', 'roslyn'], ['xcode', 'macos', 'npm', 'npm-install'], ['html', 'css', 'twitter-bootstrap'], ['html', 'file', 'types'], ['bash', 'if-statement', 'scripting'], ['ruby-on-rails', 'ruby-on-rails-3', 'rake'], ['intellij-idea', 'settings'], ['javascript', 'global-variables', 'undefined'], ['python', 'http', 'networking'], ['reactjs', 'react-native', 'constructor'], ['android', 'networking', 'retrofit'], ['java', 'class', 'oop', 'object', 'abstract'], ['java', 'floating-point', 'double', 'rounding'], ['c++', 'file-io'], ['c++', 'iostream'], ['javascript', 'jquery', 'this'], ['java'], ['html', 'css', 'html5', 'css3', 'flexbox'], ['php', 'casting', 'type-conversion'], ['javascript', 'object'], ['gradle'], ['python', 'string', 'append'], ['c#', 'entity-framework', 'transactions', 'inversion-of-control'], ['javascript', 'string', 'character', 'repeat'], ['python', 'username', 'portability'], ['javascript', 'reactjs', 'asynchronous', 'redux', 'redux-thunk'], ['linux', 'git', 'github'], ['python'], ['windows', 'windows-services', 'installer'], ['javascript', 'angular'], ['javascript', 'reactjs', 'react-native'], ['python', 'variables', 'naming-conventions'], ['javascript', 'date', 'type-conversion'], ['c++', 'linux', 'sleep'], ['c++', 'c++11', 'move-semantics'], ['c#', 'wpf', 'colors', 'hex'], ['c#', '.net'], ['ios', 'objective-c', 'cocoa', 'cocoa-touch'], ['c#', 'xml', 'winforms', 'configuration-files'], ['.net', 'wpf', 'xaml', 'data-binding'], ['javascript', 'caching', 'versioning'], ['python', 'pandas', 'csv', 'dataframe'], ['perl', 'unicode', 'utf-8'], ['python', 'string', 'text', 'file-io'], ['oauth-2.0'], ['c#', 'regex'], ['jquery', 'google-maps', 'google-maps-api-3', 'jquery-plugins'], ['python', 'decorator'], ['git', 'merge', 'version-control'], ['xcode'], ['ios', 'objective-c', 'uitableview', 'cocoa-touch', 'uikit'], ['c++', 'string', 'caching', 'file-io'], ['arrays', '.net', 'list'], ['css', 'forms', 'twitter-bootstrap'], ['php', 'numbers', 'format'], ['python', 'list', 'file', 'file-io', 'newline'], ['php', 'debugging', 'error-handling'], ['angularjs', 'angular-ngmodel'], ['python', 'pandas', 'dataframe'], ['git', 'version-control', 'branch', 'git-branch'], ['android', 'android-activity', 'fullscreen'], ['html', 'browser', 'base64'], ['objective-c', 'cocoa', 'cocoa-touch'], ['git'], ['html', 'css', 'html5', 'css3', 'flexbox'], ['linux', 'unix', 'command-line-arguments'], ['javascript', 'jquery'], ['git'], ['java', 'jvm', 'java-native-interface', '64-bit', '32-bit'], ['arrays', 'ruby', 'math', 'sum'], ['python', 'django', 'debugging'], ['android', 'android-spinner'], ['c#', '.net', 'string'], ['sql', 'oracle', 'greatest-n-per-group'], ['python', 'file', 'directory', 'subdirectory'], ['visual-studio-code', 'editor', 'keyboard-shortcuts'], ['javascript', 'scope', 'closures'], ['javascript', 'angularjs'], ['git', 'push'], ['perl', 'locale'], ['jquery', 'html', 'html5', 'jquery-ui'], ['java', 'jar', 'path', 'executable-jar'], ['c#', '.net', 'serialization', 'clone'], ['sql', 'sql-server', 'database', 'insert'], ['node.js', 'http'], ['javascript', 'null', 'undefined'], ['android', 'user-interface', 'view', 'margin', 'padding'], ['ruby', 'rubygems', 'rvm'], ['vim', 'scroll'], ['php', 'operators'], ['sql-server', 'ssms', 'code-generation'], ['java', 'string', 'io', 'stream'], ['git', 'commit', 'git-commit'], ['security', 'hash', 'bcrypt'], ['html', 'svg'], ['http-headers', 'google-chrome-devtools'], ['git', 'ssh', 'ssh-keys'], ['javascript', 'rounding'], ['.net', 'performance', 'linq', '.net-3.5', 'extension-methods'], ['javascript', 'jquery', 'regex', 'jquery-selectors'], ['c#', 'multithreading', 'winforms', 'invoke'], ['algorithm', 'combinations'], ['ios', 'swift', 'grand-central-dispatch'], ['c#', 'visual-studio', 'visual-studio-2010', 'debugging'], ['javascript', 'jquery', 'arrays', 'string'], ['sql', 'sql-server', 'tsql', 'case'], ['bash', 'if-statement', 'unix', 'sh'], ['git', 'version-control', 'push', 'branch'], ['java', 'eclipse', 'ide'], ['postgresql', 'auto-increment'], ['macos', 'macos-sierra', 'osx-elcapitan'], ['css', 'css-selectors'], ['python', 'list', 'sorting', 'tuples'], ['java', 'list'], ['python', 'error-handling', 'exception-handling'], ['ssl', 'openssl'], ['javascript', 'ajax', 'javascript-events'], ['c#', '.net', 'winforms', 'textbox'], ['asp.net', 'asp.net-mvc', 'msbuild'], ['c++', 'gcc', 'crash', 'assert', 'stack-trace'], ['sql-server'], ['c', 'function', 'pointers', 'syntax', 'parameters'], ['r', 'casting'], ['bash', 'shell', 'error-handling', 'exit'], ['git'], ['python', 'date', 'datetime'], ['git', 'github', 'merge', 'branch'], ['c#', '.net', 'command-line', 'command', 'prompt'], ['ios', 'objective-c'], ['javascript', 'browser', 'window', 'focus'], ['algorithm', 'machine-learning', 'difference'], ['java', 'generics', 'return-value'], ['c++', 'oop', 'inheritance'], ['java', 'android', 'web-services', 'soap', 'wsdl'], ['java', 'eclipse', 'formatting', 'ide'], ['html', 'html5', 'semantics'], ['java', 'time'], ['c#', 'algorithm', 'math'], ['arrays', 'bash', 'split'], ['asp.net-mvc', 'configuration', 'iis-7', 'asp.net-4.0'], ['c#', 'string', 'list', 'delimiter'], ['ruby', 'file-io'], ['c++', 'c++11', 'pointers'], ['bash', 'shell', 'scripting', 'permissions', 'sudo'], ['html', 'html5'], ['java', 'macos'], ['php', 'oop', 'model-view-controller', 'model', 'architecture'], ['c', 'constants'], ['ios', 'uitextfield'], ['javascript', 'dictionary', 'hashtable'], ['javascript', 'jquery'], ['linux', 'bash', 'datetime'], ['javascript', 'jquery', 'javascript-events'], ['sql-server', 'backup', 'restore'], ['svn', 'commit'], ['bash', 'shell', 'syntax', 'syntax-error'], ['python'], ['javascript', 'css', 'twitter-bootstrap', 'modal-dialog'], ['css'], ['mysql', 'database', 'innodb'], ['python', 'syntax', 'parameter-passing'], ['objective-c', 'uibutton'], ['swift', 'delegates'], ['python', 'python-3.x', 'python-import'], ['javascript', 'jquery', 'html', 'javascript-events'], ['github', 'markdown'], ['string', 'go', 'multiline'], ['string', 'postgresql', 'text', 'types', 'varchar'], ['python', 'python-import'], ['.net', 'wpf', 'xaml'], ['security', 'post', 'encryption', 'https', 'get'], ['php', 'string'], ['windows', 'git', 'cygwin', 'editor'], ['ios', 'swift', 'crash', 'xcode6'], ['git', 'branch', 'git-branch'], ['javascript'], ['makefile', 'command-line-arguments', 'gnu'], ['bash'], ['css', 'input', 'safari', 'webkit', 'border'], ['javascript', 'object'], ['python', 'list', 'nested-lists'], ['mysql', 'subquery', 'sql-delete'], ['python', 'date'], ['python', 'object', 'iterator'], ['git'], ['ios', 'objective-c', 'cocoa-touch', 'interface-builder', 'automatic-ref-counting'], ['c', 'file', 'while-loop'], ['python', 'datetime'], ['git'], ['algorithm', 'routing', 'mapping'], ['linux', 'bash', 'shell', 'scripting'], ['c#', 'switch-statement'], ['angular', 'rxjs'], ['android', 'html', 'google-chrome'], ['jquery', 'twitter-bootstrap', 'modal-dialog'], ['linux', 'bash', 'posix'], ['ios', 'objective-c', 'swift', 'event-handling'], ['python', 'coding-style'], ['arrays', 'ruby', 'random'], ['jquery'], ['python', 'string'], ['ruby', 'macos', 'rubygems'], ['java', 'spring', 'jpa', 'spring-data-jpa', 'spring-data'], ['php', 'json'], ['git'], ['c++', 'c', 'file', 'directory'], ['javascript', 'facebook', 'iframe'], ['mysql', 'replace'], ['html', 'css', 'browser', 'css-selectors'], ['git', 'github', 'version-control'], ['newline'], ['c#'], ['filesystems', 'limit'], ['java', 'command-line', 'command-line-arguments'], ['shell', 'wget'], ['python', 'pandas', 'dataframe', 'indexing'], ['windows', 'git'], ['java', 'spring', 'nullpointerexception', 'null', 'autowired'], ['visual-studio', 'visual-studio-2010', 'visual-studio-2012'], ['css'], ['ios', 'uiview', 'uiviewcontroller'], ['function', 'parameters', 'arguments', 'language-agnostic', 'terminology'], ['java', 'java-ee', 'deployment'], ['java', 'arraylist'], ['java', 'string', 'split', 'whitespace'], ['algorithm', 'machine-learning', 'dataset', 'classification'], ['redis'], ['c#', 'asp.net-mvc', 'controller'], ['python', 'list', 'split'], ['java', 'loops', 'collections', 'iteration'], ['git', 'gitignore'], ['ruby', 'comparison', 'operators', 'equality'], ['c#', 'properties'], ['.net', 'timer'], ['windows', 'powershell'], ['c#', 'list', 'generics', 'clone'], ['java', 'exception', 'nullpointerexception', 'null'], ['tensorflow', 'cpu'], ['node.js'], ['android', 'email', 'android-intent'], ['jquery', 'ajax', 'file-upload', 'multipartform-data', 'form-data'], ['javascript', 'jquery', 'cors', 'xmlhttprequest', 'jsonp'], ['jquery', 'dom', 'events'], ['javascript', 'timezone'], ['java', 'arrays', 'collections'], ['intellij-idea', 'cursor', 'editor'], ['javascript', 'google-chrome-devtools'], ['python', 'dictionary'], ['jquery', 'httprequest', 'put'], ['android', 'android-recyclerview', 'onclick', 'onclicklistener'], ['java', 'mockito', 'tdd'], ['git', 'github', 'gitignore'], ['oop', 'polymorphism', 'computer-science'], ['python', 'class', 'object', 'inheritance'], ['javascript', 'jquery', 'data-structures'], ['python', 'cross-platform'], ['java', 'ubuntu'], ['git', 'directory', 'rename'], ['javascript', 'node.js', 'json'], ['c#'], ['html', 'css', 'forms'], ['javascript', 'character'], ['android', 'textview', 'styles'], ['git', 'git-push'], ['java', 'gradle', 'build.gradle', 'dependency-management'], ['angularjs'], ['node.js', 'npm'], ['android', 'icons'], ['html', 'html5', 'header'], ['asp.net-mvc-3', 'razor'], ['java', 'javabeans', 'terminology', 'pojo', 'dto'], ['sql', 'sqlite', 'syntax'], ['jquery', 'date', 'jquery-ui', 'jquery-ui-datepicker'], ['linux', 'bash', 'shell'], ['c#', '.net', 'sql-server'], ['javascript', 'html'], ['python', 'django'], ['javascript', 'regex', 'string'], ['statistics', 'probability', 'physics'], ['linux', 'bash', 'scripting'], ['javascript', 'dom', 'prototypejs'], ['macos', 'homebrew'], ['javascript', 'floating-point'], ['java', 'string'], ['regex', 'excel', 'vba'], ['macos', 'environment-variables', 'osx-lion'], ['eclipse', 'ide'], ['android', 'image', 'button', 'text'], ['python'], ['bash', 'variables'], ['javascript', 'jquery'], ['java', 'cross-platform', 'newline'], ['javascript', 'node.js', 'babeljs'], ['android', 'this', 'android-context'], ['java', 'swing', 'user-interface', 'jframe'], ['git'], ['javascript'], ['java', 'list', 'interface'], ['php'], ['javascript', 'html', 'css', 'tooltip'], ['c++', 'c', 'shared-libraries', 'static-libraries'], ['javascript', 'jquery', 'html'], ['swift', 'string', 'unicode', 'emoji'], ['android-studio'], ['android', 'imageview', 'android-imageview', 'android-image'], ['java', '.net', 'exception'], ['java', 'hibernate', 'orm'], ['visual-studio-code', 'vscode-settings'], ['javascript', 'reactjs'], ['bash', 'function', 'parameter-passing'], ['r', 'ggplot2', 'plot'], ['c++', 'filenames'], ['jquery', 'select'], ['mysql', 'sql', 'database', 'mysqldump'], ['python', 'algorithm', 'permutation', 'combinatorics'], ['swift', 'string', 'casting', 'int', 'converter'], ['windows-services'], ['android-studio', 'search', 'intellij-idea'], ['git', 'authentication', 'github'], ['javascript', 'github'], ['typescript'], ['c++', 'c', 'segmentation-fault'], ['php', 'apache'], ['git', 'version-control', 'mercurial'], ['python', 'module', 'directory', 'path', 'python-import'], ['json'], ['python', 'interface', 'abstract-class'], ['php', 'coding-style'], ['javascript', 'reactjs'], ['android', 'android-intent', 'google-play'], ['javascript', 'jquery', 'event-handling'], ['visual-studio', '.net-4.0', 'app-config'], ['c#', '.net', 'sqlite', '.net-4.0'], ['ruby-on-rails', 'ruby', 'exception', 'error-handling', 'exception-handling'], ['visual-studio-2008', 'keyboard-shortcuts'], ['c#', 'exception-handling', 'try-catch'], ['jquery', 'autocomplete', 'tags'], ['c++', 'coding-style', 'iostream'], ['linux', 'docker', 'filesystems'], ['node.js', 'gruntjs'], ['ruby-on-rails', 'ruby', 'ruby-on-rails-3', 'hashmap'], ['c#', 'reflection', 'interface'], ['javascript', 'jquery', 'jquery-selectors'], ['c', 'random'], ['git', 'version-control', 'binaryfiles', 'large-files'], ['python', 'django', 'django-models'], ['mysql', 'sql', 'database'], ['angularjs', 'ajax', 'post'], ['python', 'dictionary'], ['android', 'android-layout'], ['git'], ['html', 'css', 'html5', 'css3'], ['javascript', 'arrays'], ['javascript', 'date', 'datetime'], ['javascript', 'date', 'utc'], ['angular', 'if-statement'], ['swift', 'optional'], ['multipartform-data'], ['python', 'list', 'int'], ['node.js'], ['html', 'icons', 'favicon'], ['c#', 'string', 'escaping', 'literals'], ['java', 'string'], ['git', 'rebase', 'git-rebase'], ['php', 'syntax-error', 'runtime-error'], ['unit-testing', 'naming-conventions'], ['javascript', 'security', 'eval'], ['facebook', 'facebook-graph-api'], ['android', 'android-activity', 'android-dialog'], ['c#', '.net'], ['entity-framework'], ['dependency-injection'], ['css', 'css3', 'transform'], ['javascript', 'html5', 'local-storage'], ['android', 'bitmap', 'imageview'], ['python'], ['python', 'design-patterns', 'class-design'], ['c#', 'constructor', 'interface'], ['css', 'twitter-bootstrap', 'twitter-bootstrap-3', 'responsive-design', 'bootstrap-4'], ['python', 'python-2.7', 'tuples'], ['apache', 'configuration', 'httpd.conf', 'http-status-code-403'], ['java', 'websphere', 'slf4j'], ['linux', 'bash', 'unix', 'curl', 'scripting'], ['bash', 'shell', 'unix', 'awk', 'sed'], ['android', 'colors', 'textview'], ['python', 'string', 'comparison', 'equality'], ['angularjs', 'angularjs-directive'], ['node.js', 'npm'], ['c++', 'c++11', 'const', 'constexpr'], ['virtualbox'], ['jquery', 'google-chrome', 'webkit'], ['node.js', 'express'], ['java', 'string', 'substring'], ['java', 'html', 'javadoc'], ['c++', 'performance', 'compilation'], ['python', 'time', 'timezone'], ['python'], ['python', 'url-encoding'], ['java', 'final'], ['git', 'git-commit'], ['javascript', 'node.js', 'v8'], ['html', 'css', 'multiple-columns'], ['java', 'eclipse', 'templates', 'ide', 'code-generation'], ['browser', 'max', 'query-string'], ['c#', 'static', 'extension-methods'], ['ios', 'cocoa-touch', 'autolayout', 'uikit', 'uitextview'], ['c#', 'optimization', 'lambda', 'reflection', 'c#-3.0'], ['xcode'], ['markdown'], ['r', 'packages'], ['sql-server', 'tsql', 'sql-server-2005', 'insert'], ['javascript', 'jquery', 'events'], ['c#', '.net', 'equals'], ['windows', 'datetime', 'batch-file', 'command-line'], ['javascript', 'node.js', 'file-io', 'lazy-evaluation'], ['python', 'class', 'private'], ['ruby', 'methods', 'naming-conventions', 'immutability'], ['mysql', 'foreign-keys', 'innodb'], ['python', 'python-3.x', 'loops', 'validation', 'user-input'], ['angularjs'], ['c#', 'asp.net', '.net', 'entity-framework', 'primary-key'], ['android', 'email'], ['mysql', 'mongodb'], ['java', 'string'], ['c#', 'stream'], ['javascript'], ['html', 'css'], ['android', 'string', 'resources'], ['javascript'], ['python', 'exception-handling'], ['c#', 'generics'], ['c#', '.net', 'multithreading'], ['css', 'border'], ['java', 'static', 'overriding', 'static-methods'], ['sql', 'algorithm', 'recursion', 'tree', 'hierarchical-data'], ['sql', 'sql-server', 'line-breaks'], ['android', 'android-viewpager'], ['javascript'], ['ruby'], ['python'], ['objective-c', 'abstract-class'], ['sql', 'sqlite'], ['python', 'oop', 'inheritance', 'super'], ['html', 'css', 'twitter-bootstrap', 'frontend'], ['javascript', 'angularjs'], ['linux', 'apache', 'ubuntu', 'amazon-ec2', 'httpd.conf'], ['java', 'string', 'collections', 'split'], ['c++', 'c++11', 'iterator', 'c++17'], ['c#', '.net', 'string-comparison'], ['java', 'design-patterns', 'builder'], ['html', 'tags'], ['c++', 'keyword'], ['algorithm', 'language-agnostic', 'e-commerce'], ['python', 'pandas', 'dataframe', 'dictionary'], ['node.js', 'npm', 'version', 'versioning'], ['c++', 'c', 'undefined-behavior'], ['ios', 'xcode', 'provisioning-profile'], ['c++', 'inline'], ['vim', 'editor', 'keyboard-shortcuts', 'vi'], ['java', 'annotations'], ['c#', 'arrays', '.net', 'performance'], ['javascript', 'reactjs'], ['macos', 'maven', 'maven-3'], ['java', 'maven', 'intellij-idea'], ['jquery', 'jquery-ui'], ['html'], ['android', 'dpi'], ['python', 'dictionary', 'object'], ['c#', 'linq', '.net-3.5'], ['bash', 'ssh', 'replace', 'scripting', 'ironpython'], ['python', 'networking', 'ip-address'], ['swift', 'string', 'enums'], ['docker'], ['javascript', 'jquery'], ['git', 'branch', 'commit'], ['javascript', 'jquery'], ['python', 'dictionary'], ['python', 'python-3.x'], ['c', 'malloc', 'free'], ['python', 'indentation'], ['browser', 'http-headers', 'specifications'], ['python', 'python-import', 'python-module'], ['r', 'installation', 'package', 'repository'], ['node.js', 'command-line'], ['ios', 'iphone', 'screen'], ['jquery', 'click'], ['git', 'comments', 'gitignore'], ['javascript', 'hash'], ['ios', 'deprecated'], ['css', 'css3', 'layout', 'colors', 'html-lists'], ['javascript', 'html'], ['java', 'enums'], ['javascript', 'date'], ['jquery', 'textarea'], ['bash', 'sed', 'scripting'], ['visual-studio-code', 'vscode-settings'], ['windows', 'curl', 'installation'], ['git', 'github'], ['.net', 'string', 'vb.net', 'memorystream'], ['node.js', 'npm', 'npm-install'], ['node.js'], ['go', 'foreach', 'slice'], ['python', 'argparse'], ['android', 'splash-screen'], ['android', 'android-intent', 'android-pendingintent'], ['android', 'visibility', 'android-softkeyboard'], ['javascript', 'data-structures', 'intersection'], ['bash', 'dictionary', 'hashtable', 'associative-array'], ['swift', 'xcode', 'terminal'], ['node.js', 'macos', 'npm', 'homebrew'], ['mysql', 'mysql-workbench'], ['java', 'arrays', 'string'], ['git', 'version-control', 'composer-php'], ['excel', 'vba'], ['javascript', 'null', 'compare'], ['git', 'git-branch'], ['java', 'android', 'formatting', 'apache-commons'], ['html'], ['python', 'yaml'], ['emulation', 'simulation', 'terminology'], ['r', 'dataframe'], ['linux', 'bash', 'macos', 'shell', 'unix'], ['python', 'comparison'], ['security', 'cookies'], ['html', 'css', 'fonts', 'font-face'], ['c#', 'xml'], ['android-studio'], ['sublimetext2', 'sublimetext'], ['jquery', 'twitter-bootstrap', 'modal-dialog'], ['ios', 'cocoa-touch', 'uikit', 'screen'], ['rest', 'session-state'], ['java', 'android', 'model-view-controller', 'design-patterns'], ['javascript', 'function', 'arguments'], ['c', 'printf', 'flush'], ['java', 'reflection', 'packages'], ['sql', 'sql-server'], ['javascript', 'iframe', 'widget'], ['uml', 'modeling', 'diagram'], ['python', 'tensorflow', 'machine-learning', 'model'], ['swift', 'string', 'nsstring', 'substring'], ['python', 'boolean', 'argparse'], ['git'], ['python', 'json', 'python-requests', 'cherrypy'], ['c', 'sizeof'], ['javascript', 'html'], ['html', 'css'], ['android', 'android-intent', 'android-activity'], ['sql', 'sql-server', 'tsql', 'date', 'datetime'], ['java', 'spring', 'transactions', 'annotations', 'dao'], ['java', 'static', 'main'], ['java', 'kotlin'], ['php', 'formatting', 'numbers', 'rounding', 'number-formatting'], ['java', 'loops', 'operators', 'variable-assignment', 'increment'], ['git', 'branch', 'clone'], ['logging'], ['html', 'xml'], ['python', 'controls', 'signals'], ['linux', 'bash', 'unix'], ['java', 'noclassdeffounderror'], ['node.js', 'ubuntu', 'npm'], ['r', 'function'], ['powershell', 'string-concatenation'], ['git', 'github'], ['javascript', 'jquery', 'timer', 'jquery-plugins'], ['sql-server', 'security', 'connection-string'], ['bash', 'process', 'wait'], ['git'], ['angularjs'], ['security', 'encryption', 'hash', 'cryptography'], ['xcode', 'build', 'warnings'], ['python', 'string', 'iteration'], ['excel', 'csv', 'import'], ['c++', 'header'], ['eclipse', 'file', 'hidden'], ['c#', '.net', 'copy'], ['python', 'python-2.7', 'import', 'relative'], ['perl'], ['sublimetext', 'syntax-highlighting'], ['python', 'module', 'package'], ['java', 'hibernate', 'jpa', 'orm'], ['html', 'css', 'image'], ['scripting', 'bots', 'e-commerce', 'detection'], ['unix', 'sed', 'command-line', 'text-processing'], ['android', 'gradle', 'android-gradle', 'apk', 'release'], ['python', 'pip'], ['android', 'android-imageview'], ['rest', 'architecture'], ['html', 'css'], ['database', 'mongodb', 'couchdb'], ['vim'], ['c#', 'generics'], ['python', 'input', 'command-line-arguments'], ['python', 'pandas', 'dataframe'], ['c#', 'asp.net-web-api', 'async-await', 'task-parallel-library'], ['vim'], ['git', 'branch'], ['javascript', 'events', 'triggers', 'javascript-events', 'addeventlistener'], ['java', 'sql', 'date', 'datetime', 'jdbc'], ['python'], ['php', 'arrays', 'copy'], ['mysql', 'sql', 'variables'], ['javascript'], ['c#'], ['sql', 'random'], ['python', 'find'], ['javascript'], ['git'], ['c', 'string', 'char', 'constants'], ['ruby-on-rails', 'ruby'], ['c++', 'arrays', 'multidimensional-array'], ['c++', 'performance', 'memory', 'stack', 'heap'], ['java', 'installer', 'exe'], ['docker'], ['bash', 'for-loop', 'filenames', 'glob'], ['git', 'github', 'repository'], ['python'], ['mysql', 'byte', 'varchar'], ['tsql', 'join'], ['c#', 'reflection', 'default'], ['language-agnostic'], ['python'], ['python', 'python-3.x', 'pip', 'package', 'setuptools'], ['linux', 'bash', 'cpu'], ['html', 'css', 'word-wrap'], ['c++', 'const'], ['c#', 'xml', 'linq-to-xml', 'xmldocument'], ['c#', '.net', 'file', 'file-io', 'directory'], ['python', 'django', 'web-applications', 'scheduled-tasks'], ['java', 'collections', 'concurrency', 'hashmap', 'hashset'], ['python', 'django'], ['php'], ['python'], ['html', 'css', 'word-wrap'], ['jquery', 'css'], ['exception', 'error-handling', 'null'], ['compilation', 'compiler-construction', 'jit'], ['docker'], ['swift', 'design-patterns', 'optional'], ['editor', 'sublimetext2', 'sublimetext', 'indentation'], ['python', 'terminology'], ['git'], ['git'], ['java', 'hashset'], ['asp.net', 'asp.net-mvc', 'iis', 'iis-7'], ['java', 'inheritance'], ['python', 'macos', 'matplotlib', 'anaconda'], ['html', 'css', 'angularjs'], ['android', 'android-fragments', 'design-patterns', 'android-viewpager'], ['javascript', 'text'], ['git'], ['visual-studio', 'visual-studio-2010', 'visual-c++', 'cross-platform'], ['git'], ['javascript', 'jquery', 'javascript-events', 'key'], ['ruby', 'syntax', 'operators', 'parameter-passing'], ['c#', 'linq', 'lambda', 'expression-trees'], ['git', 'version-control'], ['bash', 'shell', 'unix'], ['javascript', 'arrays'], ['git'], ['grep'], ['javascript', 'html5', 'local-storage'], ['css', 'hyperlink'], ['ios', 'objective-c', 'iphone'], ['html', 'forms', 'submit'], ['html', 'css'], ['mysql', 'select', 'temp-tables', 'create-table'], ['git'], ['r', 'dataframe', 'import'], ['git'], ['r', 'memory-management'], ['c++', 'namespaces'], ['sql-server', 'locking'], ['php', 'comparison', 'operators', 'equality'], ['sql', 'sql-server', 'tsql', 'split'], ['c++', 'llvm', 'undefined-behavior'], ['android', 'sdk', 'android-gradle'], ['python', 'datetime'], ['android', 'android-edittext', 'android-styles'], ['r', 'package'], ['mongodb', 'reference', 'embed'], ['javascript', 'oop'], ['r', 'list', 'dataframe', 'extract'], ['python', 'wait'], ['c++', 'visual-studio', 'debugging', 'command-line'], ['python', 'c++', 'c'], ['javascript', 'reactjs', 'url', 'react-router', 'router'], ['c#', '.net', 'timer', 'io'], ['asp.net-mvc', 'visual-studio', 'visual-studio-2012', 'iis-express'], ['javascript', 'arrays'], ['git', 'version-control', 'bundler'], ['c++', 'arrays'], ['git', 'ssh', 'rsa'], ['java', 'unit-testing', 'maven-2'], ['linux', 'bash', 'printing'], ['c#', 'list', 'generics'], ['apache', 'mod-rewrite', 'url-rewriting'], ['xcode10'], ['angularjs', 'ng-repeat', 'angularjs-filter'], ['css', 'image'], ['java', 'hibernate', 'jpa', 'orm', 'one-to-many'], ['google-chrome', 'google-chrome-devtools'], ['mongodb', 'command-line-interface'], ['ubuntu', 'nginx', 'redirect'], ['java', 'android', 'android-layout', 'getter'], ['android', 'screenshot'], ['javascript', 'string', 'replace'], ['bash', 'if-statement', 'syntax'], ['java', 'interface', 'static-methods'], ['jquery'], ['java', 'operating-system'], ['python', 'python-3.x', 'python-2.7'], ['download', 'wget'], ['javascript', 'backbone.js'], ['c++', 'c', 'pointers'], ['ruby-on-rails', 'database', 'ruby-on-rails-3', 'migration', 'rake'], ['mysql', 'database'], ['git', 'github', 'git-push'], ['python', 'string', 'unicode', 'type-conversion'], ['javascript', 'json', 'loops'], ['java', 'string', 'multiline'], ['java', 'md5', 'checksum'], ['c++', 'c'], ['angular', 'angular-components'], ['xml', 'unix', 'command-line'], ['node.js', 'bower'], ['javascript', 'arrays'], ['php', 'static'], ['unit-testing', 'mocking'], ['awk', 'sed'], ['design-patterns', 'factory'], ['mysql', 'regex'], ['html', 'css'], ['c++', 'initialization', 'static-members'], ['git', 'proxy', 'git-submodules'], ['git'], ['angularjs', 'scope'], ['javascript', 'jquery', 'asp.net-mvc', 'twitter-bootstrap'], ['c++', 'visual-c++', 'compiler-errors', 'clang'], ['python', 'pip', 'virtualenv', 'psycopg2'], ['node.js', 'linux', 'background-process'], ['bash', 'shell', 'syntax', 'sh', 'variable-assignment'], ['.net', 'linq', 'linq-to-sql'], ['c#', 'visual-studio', 'debugging'], ['postgresql', 'primary-key'], ['c#', '.net', 'string'], ['database', 'cassandra', 'cql'], ['html5', 'cookies', 'local-storage'], ['javascript', 'angularjs', 'asynchronous', 'service', 'angular-promise'], ['git'], ['windows', 'command-line', 'path', 'environment-variables'], ['eclipse', 'code-coverage'], ['html', 'html-lists', 'nested-lists'], ['powershell', 'powershell-2.0'], ['javascript'], ['java', 'bigdecimal'], ['python', 'string', 'immutability'], ['c#'], ['css', 'base64', 'background-image'], ['.net', 'performance', 'linq'], ['windows', 'svn', 'icons', 'tortoisesvn'], ['windows', 'batch-file', 'command-line'], ['vim', 'editor'], ['c', 'oop', 'object'], ['.net', 'unit-testing', 'tdd', 'private'], ['java', 'swing', 'layout-manager'], ['bash', 'shell', 'syntax', 'quotes'], ['android', 'surfaceview', 'imagebutton', 'transparent'], ['ruby-on-rails', 'ruby', 'http', 'http-status-code-404'], ['jquery', 'validation'], ['file', 'directory', 'grep', 'find'], ['macos', 'shell', 'colors', 'terminal'], ['python', 'io', 'subprocess', 'nonblocking'], ['python', 'exception', 'arguments'], ['javascript', 'jquery', 'asp.net', 'javascript-events', 'asp.net-ajax'], ['python', 'stdout'], ['java', 'android', 'android-5.0-lollipop', 'floating-action-button'], ['go'], ['git', 'github'], ['c#', 'wcf', 'asp.net-web-api'], ['php', 'arrays', 'sorting', 'object'], ['jquery', 'html', 'forms', 'checkbox'], ['java', 'eclipse', 'code-formatting'], ['.net', 'build', 'visual-studio-2008', '64-bit'], ['c#', 'struct', 'immutability'], ['javascript', 'class', 'ecmascript-6'], ['java', 'java-8', 'interface', 'abstract-class'], ['typescript'], ['mongodb', 'redis', 'architecture', 'nosql'], ['javascript', 'date'], ['java', 'spring', 'spring-mvc', 'autowired', 'ioc-container'], ['jquery', 'count', 'row'], ['android', 'drawable', 'android-resources'], ['svn'], ['asp.net-mvc', 'rendering'], ['linux', 'shell', '32bit-64bit'], ['github'], ['git', 'unity3d', 'version-control'], ['javascript', 'ajax', 'post', 'xmlhttprequest'], ['c#', 'json.net'], ['javascript', 'coding-style'], ['python', 'arrays', 'numpy', 'options'], ['bash', 'shell', 'colors', 'grep'], ['python', 'list', 'intersection'], ['java', 'list', 'arraylist', 'collections', 'duplicates'], ['language-agnostic', 'guid'], ['node.js', 'npm'], ['git'], ['c#', '.net', 'synchronization', 'thread-safety', 'locking'], ['java'], ['mysql', 'ruby-on-rails', 'ruby', 'rubygems'], ['selenium', 'selenium-webdriver'], ['javascript'], ['c#', 'windows', 'console'], ['vim', 'line-breaks'], ['mysql'], ['performance', 'graphics', 'collision-detection', 'polygon'], ['javascript', 'jquery', 'ajax'], ['css', 'firefox'], ['python', 'list', 'matrix', 'transpose'], ['java', 'android', 'arrays', 'list', 'arraylist'], ['python', 'list'], ['ruby', 'inheritance'], ['bash', 'path', 'scripting'], ['android', 'xml', 'user-interface'], ['python', 'header', 'comments'], ['r', 'vector'], ['android', 'android-actionbar', 'material-design', 'android-5.0-lollipop', 'android-toolbar'], ['ios', 'xcode', 'gcc'], ['node.js', 'express', 'query-string'], ['git', 'merge', 'git-merge', 'rebase', 'git-rebase'], ['javascript', 'jquery'], ['javascript', 'function', 'variables', 'scope', 'declaration'], ['macos', 'shell', 'unix', 'http-get'], ['c++', 'parameters', 'command-line-arguments'], ['javascript'], ['php', 'string', 'casting', 'type-conversion', 'integer'], ['ios', 'objective-c', 'cocoa-touch', 'uitextfield'], ['javascript', 'html'], ['python', 'int', 'comparison', 'operators', 'identity'], ['java', 'string', 'concatenation'], ['angularjs', 'ng-repeat'], ['git', 'git-branch'], ['git'], ['sass'], ['java', 'enums'], ['javascript', 'jquery', 'html', 'jquery-ui', 'button'], ['macos', 'shell', 'buffer', 'clear'], ['java', 'casting'], ['android', 'android-context'], ['javascript', 'stack-trace'], ['java', 'multithreading', 'interface', 'runnable'], ['c#', '.net', 'performance', 'datetime', 'timer'], ['reactjs', 'react-router'], ['reactjs', 'ecmascript-6'], ['python', 'pandas', 'dataframe'], ['javascript', 'php', 'server-side', 'client-side'], ['git', 'diff'], ['matplotlib', 'plot'], ['file', 'count', 'duplicates', 'find', 'lines'], ['rest', 'session', 'cookies', 'restful-authentication'], ['javascript', 'html', 'css', 'dom'], ['javascript', 'colors', 'hex', 'rgb'], ['c#', 'linq', '.net-3.5'], ['javascript', 'json'], ['javascript', 'jquery', 'json', 'ajax', 'cross-domain'], ['javascript', 'null', 'undefined'], ['java', 'c#', 'eclipse'], ['regex', 'vim'], ['php'], ['git'], ['android-studio', 'themes'], ['html', 'iframe', 'height', 'scrollbar'], ['rest', 'resources', 'uri', 'naming-conventions'], ['linux', 'command-line'], ['pdf', 'include', 'latex'], ['python'], ['java', 'performance', 'exception-handling'], ['postgresql', 'macos', 'homebrew', 'osx-yosemite'], ['swift', 'class', 'struct'], ['git'], ['javascript', 'node.js', 'ecmascript-6'], ['c#', 'asp.net-mvc', 'visual-studio-2012'], ['python', 'pandas', 'options', 'display'], ['http', 'file-upload'], ['c++', 'arrays', 'pointers', 'multidimensional-array'], ['java', 'string', 'string-comparison'], ['android', 'version', 'system'], ['c++', 'templates'], ['javascript', 'promise', 'es6-promise', 'bluebird', 'q'], ['windows', 'git', 'credentials'], ['python', 'pip', 'virtualenv', 'upgrade'], ['java', 'sorting', 'collections'], ['node.js'], ['mysql', 'sql'], ['unix', 'vim'], ['xcode4'], ['c++', 'header-files'], ['c#', '.net', 'yield'], ['css', 'reactjs', 'react-jsx'], ['java', 'java-8', 'java-stream'], ['travis-ci'], ['xcode', 'xcode5', 'provisioning-profile'], ['go', 'enums'], ['shell', 'command-line', 'sh'], ['postgresql', 'command-line', 'psql'], ['java', 'list', 'performance', 'set'], ['unix', 'command-line', 'colors', 'diff'], ['regex'], ['javascript', 'internet-explorer', 'trim'], ['objective-c', 'xcode', 'xcode4'], ['haskell', 'functional-programming', 'programming-languages'], ['python', 'class', 'object', 'printing'], ['python', 'python-3.x', 'list'], ['php', 'loops', 'foreach'], ['ios', 'iphone', 'cocoa-touch', 'uikit', 'uitextview'], ['mysql', 'stored-procedures', 'command-line'], ['java', 'string', 'floating-point', 'format', 'double'], ['php', 'code-analysis', 'static-analysis'], ['javascript', 'google-chrome', 'debugging', 'console'], ['intellij-idea', 'phpstorm', 'webstorm', 'jetbrains-ide'], ['javascript', 'handlebars.js'], ['python', 'syntax', 'python-decorators'], ['javascript', 'string', 'performance', 'numbers', 'coding-style'], ['git', 'rebase'], ['java', 'class', 'reflection', 'field', 'private'], ['apache', 'mod-rewrite'], ['java', 'base64'], ['python', 'python-import'], ['port', 'ping', 'windows-server-2003'], ['python', 'range'], ['google-sheets', 'google-sheets-formula'], ['python', 'dictionary'], ['css', 'twitter-bootstrap'], ['asp.net-mvc-4'], ['javascript', 'arrays', 'google-maps', 'google-maps-markers'], ['python', 'arrays', 'numpy', 'csv'], ['r', 'list', 'dataframe'], ['html', 'http', 'https', 'uri'], ['c#', 'multithreading', 'locking'], ['c#'], ['c#', '.net', 'collections', 'set'], ['linux', 'unix', 'command-line'], ['vim', 'replace'], ['arrays', 'swift', 'sorting'], ['python', 'list', 'search', 'collections', 'contains'], ['programming-languages', 'naming-conventions', 'terminology'], ['visual-studio-2012'], ['jquery', 'events'], ['html', 'markdown', 'anchor'], ['android'], ['git'], ['python', 'dictionary'], ['excel', 'vba', 'passwords'], ['mysql', 'monitoring'], ['c#', 'arrays'], ['ios'], ['android', 'android-studio', 'gradle', 'build.gradle'], ['typescript'], ['javascript'], ['sql', 'tsql', 'sql-server-2005', 'group-by', 'greatest-n-per-group'], ['objective-c'], ['debugging', 'memory-management', 'memory-leaks', 'operating-system'], ['javascript', 'http', 'mime'], ['serialization', 'marshalling', 'rpc', 'terminology'], ['c', 'function', 'static'], ['windows', 'batch-file', 'command-line', 'scripting', 'text-files'], ['ios', 'swift', 'uiscrollview', 'autolayout', 'interface-builder'], ['css', 'twitter-bootstrap', 'html-table', 'width'], ['java', 'intellij-idea'], ['git', 'intellij-idea', 'webstorm', 'gitignore'], ['ios', 'concurrency', 'grand-central-dispatch', 'nsoperationqueue'], ['android', 'android-fragments', 'android-viewpager'], ['mongodb', 'record'], ['objective-c', 'uibutton'], ['web-services', 'http'], ['c++', 'vector', 'stl'], ['objective-c', 'nsstring'], ['java', 'string', 'algorithm', 'hash'], ['javascript'], ['python', 'file', 'scripting'], ['c++'], ['ios', 'ios9', 'xcode7', 'nsurlconnection', 'nsurlsession'], ['c++', 'c++11', 'exception', 'exception-handling'], ['css', 'overflow'], ['javascript', 'jquery', 'ajax', 'html5', 'multipartform-data'], ['python', 'string', 'string-formatting'], ['jquery', 'promise', 'jquery-deferred'], ['php', 'datetime', 'time', 'timestamp'], ['windows', 'file', 'cmd', 'command-line'], ['database', 'postgresql'], ['jquery', 'css', 'jquery-ui', 'cdn'], ['windows', 'batch-file', 'time', 'cmd', 'windows-server-2003'], ['database', 'algorithm', 'hibernate', 'nhibernate'], ['git', 'github'], ['java', 'android'], ['c', 'performance', 'assembly'], ['unicode', 'utf-8'], ['java', 'final'], ['node.js', 'colors', 'console'], ['database', 'mongodb'], ['javascript'], ['java', 'java-native-interface', 'native', 'keyword'], ['redis'], ['xml', 'rest', 'jersey'], ['ruby', 'ruby-on-rails-3'], ['c#', 'string', 'int'], ['php', 'date', 'formatting'], ['javascript', 'jquery', 'asp.net-mvc'], ['ruby', 'include', 'require'], ['python', 'regex', 'search', 'match'], ['c#', '.net'], ['sql', 'sql-server', 'max'], ['node.js', 'api', 'security', 'authentication', 'jwt'], ['javascript', 'jquery', 'iframe'], ['ios', 'swift', 'cocoa-touch', 'uialertview', 'uialertcontroller'], ['android', 'android-fragments'], ['html', 'image', 'base64', 'inline'], ['javascript'], ['postgresql', 'syntax'], ['javascript', 'html', 'webkit'], ['html', 'css', 'html5', 'css-selectors'], ['css', 'css-selectors'], ['html'], ['html', 'markup', 'phone-number'], ['csv'], ['visual-studio-code'], ['java', 'datetime', 'java-8'], ['javascript', 'csv', 'dojo', 'export', 'client-side'], ['css', 'media-queries'], ['java', 'hashmap'], ['javascript', 'jquery', 'string', 'replace'], ['java', 'intellij-idea', 'jar', 'build-process'], ['python'], ['android', 'bitmap', 'save'], ['ios', 'swift', 'automatic-ref-counting'], ['git'], ['javascript'], ['heroku', 'logging'], ['javascript', 'jquery', 'radio-button'], ['html', 'phone-call'], ['javascript', 'string'], ['c', 'arrays', 'pointers'], ['c#', '.net', 'url', 'query-string'], ['.net', 'wpf', 'xaml', 'resources'], ['c#', '.net', 'logging', 'stack-trace'], ['windows', 'cmd', 'wsh'], ['typescript'], ['css', 'google-chrome'], ['css', 'css3', 'webkit', 'css-transitions'], ['asp.net', 'iis-7'], ['linux', 'bash', 'scripting'], ['git', 'gitignore'], ['linux', 'shell', 'unix', 'terminal', 'clipboard'], ['c#', 'visual-studio-2010', 'reference'], ['java'], ['sql-server', 'tsql', 'datetime', 'localization', 'internationalization'], ['python', 'numpy'], ['objective-c', 'xcode', 'cocoa', 'cocoa-touch'], ['python', 'assert'], ['c++', 'stl', 'unsigned'], ['ruby', 'loops'], ['theory'], ['javascript', 'angularjs'], ['mysql', 'join'], ['git', 'merge', 'rebase'], ['c#', '.net', 'string', 'substring', 'time-complexity'], ['dependency-injection', 'inversion-of-control'], ['html', 'css', 'image'], ['android', 'sharedpreferences'], ['rubygems'], ['bash', 'file', 'unix'], ['javascript', 'class', 'oop', 'inheritance', 'constructor'], ['mysql', 'select', 'sql-update'], ['python'], ['c#', 'dictionary', 'merge'], ['python', 'scope'], ['c++', 'templates', 'template-meta-programming', 'sfinae'], ['javascript', 'oop'], ['c#', 'list', 'generics', 'duplicates'], ['c++', 'c', 'pointers'], ['javascript', 'lodash'], ['javascript', 'google-chrome', 'google-chrome-extension', 'youtube-api'], ['git'], ['javascript', 'arrays'], ['linux', 'shell', 'unix'], ['c#', '.net', 'wpf', 'shutdown'], ['css', 'fonts'], ['css', 'height', 'pixel'], ['javascript', 'types'], ['jquery', 'html'], ['c#'], ['arrays', 'swift'], ['css', 'background-image'], ['android', 'xml', 'image', 'layout'], ['sql', 'select'], ['python', 'datetime', 'time'], ['javascript', 'html5', 'svg', 'html5-canvas'], ['javascript', 'colors', 'hex'], ['ios', 'cocoa-touch', 'uitextfield', 'uikit'], ['python', 'list-comprehension', 'multiplication'], ['c#', 'guid'], ['regex'], ['objective-c', 'cocoa', 'iteration', 'nsarray', 'enumeration'], ['asp.net', '.net', 'wcf', '.net-3.5'], ['mysql', 'logging'], ['git'], ['python', 'module'], ['python', 'iteration'], ['python', 'python-3.x', 'string', 'byte'], ['javascript', 'reactjs'], ['database', 'elasticsearch', 'bigdata', 'query-string'], ['java', 'file', 'io'], ['android', 'android-resources'], ['java', 'reflection', 'static', 'private', 'final'], ['powershell', 'command-line-arguments'], ['objective-c', 'oop', 'methods'], ['javascript'], ['c#', 'visual-studio', 'versioning'], ['c#', 'command-line'], ['c#', 'excel'], ['python', 'list'], ['android', 'android-actionbar', 'android-toolbar'], ['c#', '.net'], ['javascript', 'node.js', 'testing', 'jasmine'], ['ruby', 'rvm'], ['javascript', 'number-formatting'], ['database', 'security', 'passwords'], ['java', 'date', 'localization', 'timezone'], ['c', 'printf', 'long-integer'], ['java', 'datetime', 'java-8'], ['r', 'dataframe'], ['node.js', 'server', 'process', 'background', 'daemon'], ['git', 'version-control'], ['html', 'css', 'html-table'], ['c++', 'algorithm', 'str-replace'], ['php', 'string'], ['git', 'putty', 'keychain', 'ssh-keys'], ['c#', 'reflection', 'enums'], ['unicode', 'encoding', 'utf-8', 'character-encoding', 'terminology'], ['bash'], ['python', 'timer', 'sleep'], ['c++', 'c'], ['c++', 'c', 'char'], ['mysql', 'types', 'int'], ['ruby', 'rspec'], ['javascript', 'templates', 'backbone.js', 'types', 'underscore.js'], ['google-search'], ['android', 'eclipse'], ['c', 'visual-studio', 'console'], ['git', 'repository'], ['java', 'methods', 'reflection'], ['c#', '.net', 'linq', 'foreach'], ['c#', 'asp.net', 'xml', 'serialization'], ['asp.net', 'directory', 'path', 'filesystems', 'mapping'], ['javascript', 'angularjs', 'events'], ['android', 'android-layout', 'android-fragments', 'android-activity'], ['html', 'css', 'css3', 'border'], ['github', 'commit'], ['java', 'jenkins', 'javamail', 'hudson'], ['javascript', 'base64'], ['java', 'tomcat', 'jboss', 'glassfish', 'enterprise'], ['php', 'arrays', 'insert'], ['c++', 'c', 'c-preprocessor'], ['unix', 'time', 'epoch'], ['php', 'arrays', 'variables'], ['asp.net', 'asp.net-mvc', 'image', 'controller'], ['javascript', 'reactjs', 'redux', 'redux-thunk', 'redux-saga'], ['html', 'css'], ['active-directory', 'ldap'], ['xcode', 'cocoapods'], ['javascript', 'jquery', 'dom'], ['python', 'directory', 'iterator'], ['java', 'generics', 'java-7'], ['.net', '64-bit', 'pinvoke', '32-bit'], ['bash', 'command-line', 'find', 'ls'], ['javascript', 'jquery', 'jquery-selectors'], ['shell', 'unix'], ['c', 'performance', 'optimization'], ['android', 'android-drawable'], ['git'], ['android', 'multithreading'], ['python', 'ubuntu', 'lxml', 'libxml2'], ['css'], ['php'], ['urlencode'], ['logging'], ['javascript', 'string'], ['mysql'], ['git', 'version-control'], ['bash', 'rename', 'file-rename'], ['python', 'python-3.x', 'unicode', 'python-2.x'], ['java'], ['python', 'date'], ['angular', 'typescript', 'angular-components'], ['google-maps', 'android-studio'], ['git', 'github', 'pull-request'], ['javascript', 'jquery', 'ajax'], ['javascript', 'arrays'], ['android', 'android-xml'], ['encryption', 'aes'], ['javascript', 'regex', 'split'], ['javascript'], ['php', 'loops', 'foreach'], ['c++', 'c', 'gcc', 'symbols'], ['java', 'collections', 'java-8'], ['android'], ['performance', 'docker'], ['ios', 'ios7'], ['javascript', 'angularjs', 'html-select'], ['android', 'android-xml'], ['javascript', 'jquery', 'backbone.js'], ['android', 'android-layout', 'android-relativelayout'], ['batch-file', 'directory'], ['mysql', 'sql'], ['php', 'http', 'curl', 'http-post'], ['git', 'merge', 'git-merge'], ['django', 'django-models', 'filter', 'null', 'django-queryset'], ['java', 'reflection'], ['c#', 'oop'], ['windows', 'cmd', 'environment-variables'], ['mongodb', 'mongoose'], ['css'], ['javascript', 'javascript-objects'], ['java'], ['c', 'floating-point', 'printf', 'double'], ['git'], ['javascript'], ['javascript', 'href'], ['javascript', 'jquery', 'html', 'textfield'], ['git'], ['git'], ['javascript', 'debugging'], ['c#', 'datetime'], ['android', 'android-webview'], ['json', 'serialization', 'json.net'], ['windows', '.htaccess', 'windows-xp', 'filenames'], ['python', 'directory', 'django-views'], ['android', 'apk', 'adb'], ['mysql', 'database'], ['java', 'double', 'rounding'], ['python', 'string'], ['c#', '.net', 'visual-studio', 'visual-studio-2008'], ['python'], ['python'], ['c#'], ['sql-server', 'macos'], ['visual-studio-code', 'vscode-settings'], ['ios', 'swift', 'string'], ['java', 'for-loop', 'java-8', 'java-stream'], ['python', 'list'], ['git'], ['ios', 'objective-c', 'objective-c-blocks'], ['php', 'session', 'session-variables'], ['mysql', 'character-encoding'], ['git'], ['android', 'android-edittext', 'multiline'], ['ios', 'uilabel', 'uitextview', 'line-breaks', 'multiline'], ['javascript', 'reactjs'], ['twitter-bootstrap', 'twitter-bootstrap-3', 'bootstrap-4'], ['c#', 'asynchronous', '.net-4.5'], ['javascript', 'jquery', 'scroll', 'hyperlink', 'anchor'], ['git', 'git-branch', 'remote-server', 'git-push'], ['c#', 'exchangewebservices'], ['java', 'maven'], ['python', 'arrays', 'list', 'numpy'], ['javascript', 'compression', 'minify', 'code-formatting'], ['c#', '.net', 'moq'], ['c#', 'xml'], ['php', 'mysql', 'datetime'], ['javascript', 'node.js', 'build'], ['java', 'java-8', 'parallel-processing', 'java-stream'], ['c', 'linux', 'unix'], ['python', 'matplotlib'], ['javascript', 'jquery', 'jquery-deferred'], ['android', 'animation'], ['c#', 'asp.net', 'iis-express'], ['string', 'bash', 'function', 'return-value'], ['oop'], ['java', 'list', 'exception', 'arraylist'], ['java', 'macos', 'configuration'], ['c#', 'type-conversion', 'hex'], ['python', 'directory', 'subdirectory'], ['ios', 'swift', 'swift4', 'grand-central-dispatch'], ['html', 'csv', 'input', 'file-upload', 'content-type'], ['javascript', 'node.js'], ['regex'], ['android', 'adb'], ['windows', 'batch-file'], ['android', 'android-asynctask', 'android-mapview', 'toast'], ['ios', 'crash-reports'], ['c#', 'multidimensional-array'], ['java', 'oop', 'static'], ['javascript', 'regex'], ['docker'], ['ios', 'objective-c', 'import', 'ios7'], ['bash', 'shell', 'numeric'], ['linux', 'video', 'ffmpeg'], ['python', 'django', 'model-view-controller', 'data-access-layer'], ['python', 'string', 'list', 'join', 'concatenation'], ['.net', 'visual-studio'], ['java', 'string'], ['python', 'matplotlib', 'figure'], ['excel', 'mime-types'], ['php'], ['c++', 'templates', 'keyword'], ['android', 'textview', 'android-edittext'], ['javascript', 'jquery', 'arrays', 'reverse'], ['python', 'destructor'], ['c#', '.net', 'exception-handling'], ['c#', 'sql', '.net', 'join', 'linq-to-sql'], ['php', 'sql', 'laravel', 'laravel-4'], ['android', 'textview', 'android-edittext'], ['jquery', 'css', 'svg'], ['php'], ['sublimetext2', 'sublimetext'], ['string', 'go', 'int'], ['javascript', 'node.js', 'database', 'postgresql'], ['node.js', 'npm', 'coffeescript', 'node-modules'], ['javascript'], ['git', 'github'], ['python', 'pip'], ['c++', 'string', 'substring'], ['css', 'css-selectors'], ['java', 'jar', 'executable-jar'], ['rest', 'http'], ['java'], ['ruby-on-rails', 'console'], ['java', 'xml'], ['eclipse'], ['angular', 'ngfor'], ['javascript', 'json'], ['c++', 'c', 'linux', 'api', 'user-interface'], ['java', 'string'], ['sql', 'entity-framework', 'linq-to-sql', 'ado.net', 'linq-to-entities'], ['c#', 'asp.net-mvc', 'lambda'], ['html', 'internet-explorer', 'firefox', 'caching', 'asp.net-web-api'], ['asp.net-mvc', 'http-status-code-404'], ['java', 'sql', 'date', 'datetime'], ['javascript', 'jquery', 'iteration'], ['python', 'list', 'loops', 'optimization'], ['c', 'struct', 'initialization'], ['c#', 'list', 'sorting', 'generics', 'lambda'], ['javascript', 'textbox'], ['ios', 'ios9'], ['r', 'command-line'], ['android', 'android-asynctask', 'android-view', 'android-ui'], ['android', 'string', 'string-formatting', 'android-resources'], ['ubuntu', 'ssh', 'key'], ['mongodb'], ['java', 'c++', 'exception', 'exception-handling', 'try-catch'], ['python', 'json', 'django'], ['android', 'testing', 'geolocation', 'android-emulator'], ['android', 'coding-style'], ['java', 'dictionary', 'key-value'], ['java', 'unit-testing', 'testing', 'abstract-class'], ['ruby', 'class', 'module'], ['c#', 'expression'], ['docker'], ['ubuntu', 'boost'], ['javascript', 'node.js'], ['c#', '.net'], ['android', 'android-emulator', 'localhost'], ['android', 'eclipse', 'android-emulator', 'apk'], ['ruby-on-rails'], ['android', 'listview'], ['security'], ['python', 'string'], ['android', 'bitmap', 'android-drawable'], ['.net', 'garbage-collection'], ['elasticsearch', 'solr', 'lucene', 'sphinx'], ['javascript', 'arrays', 'sorting', 'arguments', 'variadic-functions'], ['c#', '.net', 'linq'], ['c++', 'dll', 'shared-libraries', 'static-linking', 'dynamic-linking'], ['email'], ['visual-studio-code'], ['python', 'flask'], ['lambda', 'collections', 'java-8', 'java-stream'], ['mysql', 'sql', 'select'], ['python', 'python-3.x', 'ubuntu', 'pip', 'ubuntu-12.04'], ['javascript', 'asynchronous', 'callback', 'javascript-objects'], ['css', 'css3', 'mobile', 'media-queries', 'tablet'], ['jquery'], ['java', 'arrays', 'string'], ['javascript', 'query-string', 'urlencode'], ['c#', '.net'], ['png', 'favicon'], ['html', 'nested-forms'], ['sql', 'sql-server', 'performance', 'pagination'], ['c', 'c-preprocessor'], ['javascript', 'json', 'fetch-api'], ['javascript', 'angularjs', 'angularjs-ng-click'], ['c++', 'c', 'performance', 'gcc', 'assembly'], ['css', 'css3', 'less'], ['mongodb', 'mongoose'], ['jquery', 'jquery-ui'], ['android', 'xml', 'android-fragments', 'button'], ['javascript', 'jquery', 'keyboard'], ['java', 'string', 'int'], ['python', 'matplotlib', 'font-size'], ['node.js'], ['android', 'phone-number'], ['.net', 'reflection', 'open-source'], ['llvm'], ['python', 'list', 'types', 'assert'], ['vim', 'buffer'], ['algorithm', 'machine-learning', 'nlp', 'spell-checking'], ['c++', 'class', 'oop', 'struct'], ['twitter-bootstrap-3'], ['java', 'intellij-idea', 'ide', 'javadoc'], ['google-chrome', 'google-chrome-devtools'], ['css', 'css-selectors'], ['git'], ['.net', 'msbuild', 'clr'], ['c++', 'string', 'class', 'static', 'const'], ['html', 'forms', 'standards', 'w3c'], ['rest', 'wcf', 'soap'], ['python', 'design-patterns', 'singleton'], ['java', 'rest', 'authentication', 'jax-rs', 'jersey-2.0'], ['angularjs'], ['python', 'datetime', 'timezone'], ['python', 'operators'], ['android', 'android-listview', 'refresh'], ['javascript', 'jquery', 'html', 'forms', 'webkit'], ['javascript', 'jquery', 'html', 'dom'], ['mysql', 'database'], ['docker'], ['javascript', 'jquery', 'ruby-on-rails-4', 'asset-pipeline'], ['android', 'android-edittext', 'keyboard', 'focus', 'android-softkeyboard'], ['html', 'css', 'layout'], ['css', 'http-status-code-404', 'font-face'], ['ios', 'objective-c', 'cocoa-touch'], ['php', 'arrays'], ['api', 'binary', 'compiler-construction', 'operating-system'], ['java', 'hashmap'], ['java', 'generics'], ['python', 'string', 'integer'], ['vb.net', 'operators'], ['c#', '.net', 'code-coverage'], ['c#', 'obfuscation'], ['android', 'google-cloud-messaging', 'google-play-services'], ['javascript', 'reactjs'], ['ssh', 'vagrant', 'virtualbox'], ['node.js', 'express', 'url'], ['git', 'version-control'], ['git', 'github', 'repository'], ['python', 'multiprocessing'], ['android', 'android-edittext'], ['mysql', 'sqlite'], ['asp.net-mvc'], ['java', 'junit', 'assert'], ['mysql', 'database-design', 'maps', 'mapping', 'latitude-longitude'], ['java', 'file', 'copy'], ['java', 'multidimensional-array'], ['python-3.x', 'windows', 'unicode', 'file-io', 'decode'], ['javascript', 'firefox', 'dom'], ['python', 'dictionary', 'default-value'], ['c++', 'stl', 'std'], ['ruby'], ['c++', 'c', 'pointers', 'typedef'], ['android', 'android-webview'], ['git', 'version-control'], ['scala', 'functional-programming'], ['c++', 'trigonometry'], ['git', 'branch', 'git-branch'], ['python', 'math', 'syntax', 'operators'], ['java', 'io', 'stream'], ['macos', 'android-studio', 'uninstall'], ['node.js', 'websocket', 'socket.io'], ['git', 'github'], ['regex', 'replace', 'sublimetext2'], ['javascript', 'html5'], ['javascript', 'loops'], ['linux', 'bash', 'file', 'command-line-interface'], ['python', 'list', 'lambda', 'average', 'reduce'], ['python', 'selenium', 'selenium-webdriver', 'webdriver', 'automated-tests'], ['jquery'], ['android', 'android-button'], ['html', 'terminology', 'html-entities'], ['sql-server', 'tsql', 'sql-server-2005', 'foreign-keys', 'truncate'], ['security', 'browser', 'autocomplete', 'passwords'], ['visual-studio', 'visual-studio-code'], ['java', 'lambda', 'java-8'], ['javascript', 'json'], ['c++', 'string', 'int'], ['python', 'dictionary', 'key'], ['mysql', 'indexing', 'database-schema'], ['android', 'swipe'], ['markdown'], ['python', 'floating-point', 'integer', 'rounding', 'python-2.x'], ['java', 'download'], ['c++', 'casting'], ['git', 'merge', 'git-merge'], ['swift', 'random'], ['angularjs', 'angularjs-ng-repeat', 'ng-repeat'], ['java', 'jar', 'war'], ['css', 'css3', 'shadow'], ['android', 'android-progressbar'], ['git'], ['git'], ['git', 'branch'], ['javascript', 'localization', 'internationalization'], ['git'], ['git', 'version-control'], ['c#', 'arrays', 'multidimensional-array'], ['eclipse', 'maven', 'm2eclipse'], ['api', 'google-api'], ['arrays', 'ruby', 'map'], ['arrays', 'ruby', 'indexing'], ['java', 'hibernate', 'jpa'], ['git'], ['java', 'lombok'], ['jquery', 'jsonp'], ['git'], ['css', 'css3', 'fonts', 'font-face'], ['javascript', 'jquery', 'regex'], ['mysql'], ['ios', 'url', 'ios9', 'nsurl'], ['javascript', 'jquery', 'webpack', 'amd'], ['swift', 'debugging', 'logging', 'console'], ['html', 'css', 'twitter-bootstrap', 'image', 'alignment'], ['server', 'apache2'], ['html', 'forms', 'checkbox'], ['python', 'django', 'pip', 'virtualenv', 'setuptools'], ['iframe'], ['git', 'git-svn'], ['android'], ['javascript', 'asp.net-mvc', 'razor'], ['regex', 'string', 'search', 'grep'], ['sql', 'sql-server', 'tsql', 'sql-server-2008'], ['c#', 'formatting', 'number-formatting'], ['javascript', 'arrays', 'node.js', 'object'], ['sql-server', 'sql-server-2008', 'indexing', 'sql-server-2005'], ['eclipse', 'eclipse-plugin', 'whitespace'], ['c++', 'process', 'posix'], ['objective-c', 'cocoa', 'exception-handling'], ['git', 'deployment', 'webserver', 'githooks'], ['python', 'break'], ['arrays', 'swift'], ['git', 'branch'], ['git'], ['python'], ['java', 'random'], ['git'], ['c++', 'c++11', 'move-semantics'], ['python', 'python-3.x', 'urllib2'], ['javascript', 'html', 'iframe'], ['html', 'css', 'stylesheet'], ['design-patterns', 'singleton'], ['java', 'oop', 'interface', 'annotations'], ['django', 'django-models', 'django-authentication'], ['javascript', 'ecmascript-6', 'syntax'], ['css', 'twitter-bootstrap', 'twitter-bootstrap-3', 'grid'], ['javascript', 'arrays', 'collections', 'syntax'], ['html', 'twitter-bootstrap', 'modal-dialog'], ['javascript', 'google-chrome', 'google-chrome-devtools'], ['javascript', 'arrays', 'split'], ['javascript', 'jquery', 'arrays', 'object'], ['mysql', 'backup', 'restore'], ['ssh'], ['android', 'email'], ['design-patterns', 'repository-pattern'], ['javascript', 'jquery', 'iframe'], ['git', 'command-line', 'statistics', 'repository'], ['c', 'objective-c', 'cocoa', 'cocoa-touch'], ['python', 'arrays', 'numpy'], ['python', 'pip', 'packages'], ['curl', 'redirect', 'command-line-interface'], ['c#', 'dictionary'], ['github', 'terminal'], ['batch-file', 'cmd', 'environment-variables'], ['mongodb', 'macos'], ['csv', 'http-headers', 'mime-types'], ['python', 'string', 'split', 'delimiter'], ['c#', 'visual-studio', 'visual-studio-2010', 'visual-studio-2012', 'visual-studio-2013'], ['android', 'textview'], ['c#', 'debugging', 'preprocessor'], ['git', 'newline', 'diff'], ['language-agnostic'], ['javascript', 'floating-point'], ['java'], ['linux', 'shell', 'process', 'signals'], ['vim', 'coding-style'], ['c#', 'var', 'type-inference'], ['git'], ['java', 'java-8', 'iterator'], ['javascript', 'angularjs', 'templates', 'angular-routing', 'partial-views'], ['python', 'class', 'oop', 'object'], ['c#', 'arrays', '.net', 'const', 'readonly'], ['bash', 'git', 'windows-7'], ['c#', 'asp.net', '.net', 'types'], ['python', 'set'], ['ruby'], ['javascript', 'jquery', 'keyboard', 'key-bindings'], ['c#', 'regex', 'string'], ['android', 'macos', 'adb'], ['android', 'shell', 'cmd', 'adb'], ['git', 'diff'], ['.net', 'visual-studio', 'visual-studio-2010', 'installation'], ['linux', 'curl', 'proxy'], ['syntax', 'twig'], ['java', 'json', 'spring', 'jackson', 'annotations'], ['sql', 'sql-server-2008'], ['c#', 'linq', 'sql-order-by'], ['android', 'xml'], ['java', 'algorithm', 'data-structures', 'linked-list'], ['c#', 'list', 'loops', 'generics', 'key-value'], ['javascript', 'jquery', 'textbox', 'keypress'], ['php', 'keyword'], ['javascript', 'jquery'], ['ruby-on-rails', 'rails-activerecord'], ['language-agnostic', 'terminology', 'definition'], ['exception', 'language-agnostic'], ['php', 'eclipse', 'debugging', 'phpstorm', 'xdebug'], ['ios', 'objective-c', 'swift', 'ipad', 'uinavigationbar'], ['python', 'pandas'], ['ios', 'objective-c', 'xcode', 'ios6', 'static-libraries'], ['shell', 'unix', 'sh'], ['python', 'json', 'load'], ['android', 'listview', 'android-listview'], ['javascript', 'firebug', 'console.log'], ['html5', 'forms', 'validation', 'input'], ['python', 'list', 'types', 'tuples'], ['git', 'rebase', 'git-rebase'], ['sql', 'sql-server'], ['sql-server', 'types'], ['python', 'regex'], ['language-agnostic', 'programming-languages'], ['java', 'html', 'parsing'], ['rest'], ['c#', 'string', 'directory', 'path'], ['css', 'performance', 'optimization'], ['javascript', 'ecmascript-6'], ['sublimetext3', 'keyboard-shortcuts', 'sublimetext2', 'sublimetext', 'key-bindings'], ['git'], ['java', 'eclipse', 'generics', 'variadic-functions'], ['git', 'rename', 'file-rename', 'case-sensitive'], ['java', 'hibernate', 'jpa', 'equals']]\n",
      "[[0 0 0 ..., 0 0 0]\n",
      " [0 0 0 ..., 0 0 0]\n",
      " [0 0 0 ..., 0 0 0]\n",
      " ..., \n",
      " [0 0 0 ..., 0 0 0]\n",
      " [0 0 0 ..., 0 0 0]\n",
      " [0 0 0 ..., 0 0 0]]\n"
     ]
    },
    {
     "name": "stdout",
     "output_type": "stream",
     "text": [
      "['.htaccess' '.net' '.net-3.5' ..., 'zip' 'zlib' 'zsh']\n",
      "['c#', 'git', 'java', 'javascript', 'python']\n"
     ]
    },
    {
     "data": {
      "text/plain": [
       "\"['c#', 'git', 'java', 'javascript', 'python']\""
      ]
     },
     "execution_count": 34,
     "metadata": {},
     "output_type": "execute_result"
    }
   ],
   "source": [
    "def superviedTagPurposerFromMessage(message, reload, saveModel):\n",
    "    tagText = TagText()\n",
    "    tags = ''\n",
    "    if reload.lower() == 'true':\n",
    "        tagText.fileName = 'QuestionVsTags.csv'\n",
    "        data_question = tagText.read_source()\n",
    "        if saveModel.lower() == 'true':\n",
    "            data_preprocessed = data_question['body'].apply(tagText.preprocessing)\n",
    "            classifier, tags = tagText.supervised_prepare_tag_and_save(data_preprocessed, data_question['SelectedTags'])\n",
    "            tags = tagText.supervised_predict(message, classifier, tags)\n",
    "        else:\n",
    "            data_preprocessed = data_question['body'].apply(tagText.preprocessing)\n",
    "            classifier, tags = tagText.supervised_prepare_tag(data_preprocessed, data_question['SelectedTags'])\n",
    "            tags = tagText.supervised_predict(message, classifier, tags)\n",
    "    else:\n",
    "        classifier, tags = tagText.supervised_prepare_tag_load()\n",
    "        tags = tagText.supervised_predict(message, classifier, tags)\n",
    "    return str(tags)\n",
    "\n",
    "superviedTagPurposerFromMessage('git est un outils de code source. C\\'est bien', 'true', 'False')"
   ]
  },
  {
   "cell_type": "markdown",
   "metadata": {},
   "source": [
    "<p style=\"font-family: Arial; font-size:1.75em;color:#2462C0; font-style:bold\"><br>\n",
    "V - Resultat</p>"
   ]
  },
  {
   "cell_type": "code",
   "execution_count": 35,
   "metadata": {},
   "outputs": [
    {
     "name": "stdout",
     "output_type": "stream",
     "text": [
      "Data/\n",
      "QuestionVsTags.csv\n"
     ]
    }
   ],
   "source": [
    "\n",
    "import numpy as np\n",
    "import nltk\n",
    "import pandas as pd\n",
    "import os\n",
    "import sys\n",
    "\n",
    "sys.path.insert(0, './Python/')\n",
    "\n",
    "from tagText import TagText\n",
    "\n",
    "\n",
    "tagText = TagText()\n",
    "print(tagText.urlDirectory)\n",
    "print(tagText.fileName)\n",
    "\n",
    "\n",
    "def supervisedTagPurposer():\n",
    "    return tagPurposer('supervised', 'This is a test to have tag GIT & branche', 'false', 'false')\n",
    "\n",
    "def supervisedTagPurposerAndReload():\n",
    "    return tagPurposer('supervised', 'This is a test to have tag GIT & branche', 'true', 'false')\n",
    "\n",
    "def supervisedTagPurposerAndReloadAndSave():\n",
    "    return tagPurposer('supervised', 'This is a test to have tag GIT & branche', 'true', 'true')\n",
    "\n",
    "def tagLDAPurposer():\n",
    "    return tagPurposer('LDA', 'This is a test to have tag GIT & branche', 'false', 'false')\n",
    "\n",
    "def tagLDAPurposerAndReload():\n",
    "    return tagPurposer('LDA', 'This is a test to have tag GIT & branche', 'true', 'false')\n",
    "\n",
    "def tagLDAPurposerAndReloadAndSave():\n",
    "    return tagPurposer('LDA', 'This is a test to have tag GIT & branche', 'true', 'true')\n",
    "\n",
    "def tagNMFPurposer():\n",
    "    return tagPurposer('NMF', 'This is a test to have tag GIT & branche', 'false', 'false')\n",
    "\n",
    "def tagNMFPurposerAndReload():\n",
    "    return tagPurposer('NMF', 'This is a test to have tag GIT & branche', 'true', 'false')\n",
    "\n",
    "def tagNMFPurposerAndReloadAndSave():\n",
    "    return tagPurposer('NMF', 'This is a test to have tag GIT & branche', 'true', 'true')\n",
    "\n",
    "def tagPurposer(mode, message, reload, saveModel):\n",
    "    if mode.lower() == 'supervised':\n",
    "        return superviedTagPurposerFromMessage(message, reload.lower(), saveModel.lower())\n",
    "    if mode.lower() == 'lda' or mode.lower() =='nmf':\n",
    "        return unsuperviedTagTFIDFPurposerFromMessage(mode.lower(), message, reload.lower(), saveModel.lower())\n",
    "    return '/i\\\\Mode indefined/i\\\\'\n",
    "\n",
    "def superviedTagPurposerFromMessage(message, reload, saveModel):\n",
    "    tagText = TagText()\n",
    "    tags = ''\n",
    "    if reload.lower() == 'true':\n",
    "        data_question = tagText.read_source()\n",
    "        data_preprocessed = data_question['body'].apply(tagText.preprocessing)\n",
    "        logistic_regression = tagText.supervised_prepare_tag(data_preprocessed)\n",
    "        tags = tagText.supervised_predict(message, logistic_regression, 5)\n",
    "    else:\n",
    "        logistic_regression = tagText.supervised_prepare_tag_load()\n",
    "        tags = tagText.supervised_predict(message, logistic_regression, 5)\n",
    "    return tags\n",
    "\n",
    "def unsuperviedTagTFIDFPurposerFromMessage(option, message, reloadModel, saveModel):\n",
    "    tagText = TagText()\n",
    "    tags = ''\n",
    "    if option.lower() != 'lda' and option.lower() != 'nmf':\n",
    "        return '/i\\\\Mode indefined/i\\\\'\n",
    "    if reloadModel.lower() == 'true':\n",
    "        data_question = tagText.read_source()\n",
    "        data_preprocessed = data_question['body'].apply(tagText.preprocessing)\n",
    "        if option.lower() == 'lda':\n",
    "            if saveModel.lower() == 'true':\n",
    "                lda_tagText, df_topic_keywords_tagText, tf_vectorizer_tagText = tagText.lda_prepare_tag_and_save(data_preprocessed)\n",
    "                tags = tagText.lda_predict(message, lda_tagText, df_topic_keywords_tagText, tf_vectorizer_tagText, 5)\n",
    "            else:\n",
    "                lda_tagText, df_topic_keywords_tagText, tf_vectorizer_tagText = tagText.lda_prepare_tag(data_preprocessed)\n",
    "                tags = tagText.lda_predict(message, lda_tagText, df_topic_keywords_tagText, tf_vectorizer_tagText, 5)\n",
    "        if option.lower() == 'nmf':\n",
    "            if saveModel.lower() == 'true':\n",
    "                nmf_tagText, df_topic_keywords_tagText, tf_vectorizer_tagText = tagText.nmf_prepare_tag_and_save(data_preprocessed)\n",
    "                tags = tagText.nmf_predict(message, nmf_tagText, df_topic_keywords_tagText, tf_vectorizer_tagText, 5)\n",
    "            else:\n",
    "                nmf_tagText, df_topic_keywords_tagText, tf_vectorizer_tagText = tagText.nmf_prepare_tag(data_preprocessed)\n",
    "                tags = tagText.nmf_predict(message, nmf_tagText, df_topic_keywords_tagText, tf_vectorizer_tagText, 5)\n",
    "    else:\n",
    "        if option.lower() == 'lda':\n",
    "            lda_tagText, df_topic_keywords_tagText, tf_vectorizer_tagText = tagText.lda_prepare_tag_load()\n",
    "            tags = tagText.lda_predict(message, lda_tagText, df_topic_keywords_tagText, tf_vectorizer_tagText, 5)\n",
    "        if option.lower() == 'nmf':\n",
    "            nmf_tagText, df_topic_keywords_tagText, tf_vectorizer_tagText = tagText.nmf_prepare_tag_load()\n",
    "            tags = tagText.nmf_predict(message, nmf_tagText, df_topic_keywords_tagText, tf_vectorizer_tagText, 5)\n",
    "    return tags\n"
   ]
  },
  {
   "cell_type": "code",
   "execution_count": 36,
   "metadata": {},
   "outputs": [
    {
     "data": {
      "text/plain": [
       "'git file files branch want'"
      ]
     },
     "execution_count": 36,
     "metadata": {},
     "output_type": "execute_result"
    }
   ],
   "source": [
    "tagLDAPurposerAndReloadAndSave()"
   ]
  },
  {
   "cell_type": "markdown",
   "metadata": {
    "collapsed": true
   },
   "source": [
    "Une API :  https://ejacques.pythonanywhere.com/apiTagGenerator/\n",
    "\n",
    "Un depot GIT : https://github.com/EricJacquesPro/TextCategorization/"
   ]
  }
 ],
 "metadata": {
  "anaconda-cloud": {},
  "celltoolbar": "Raw Cell Format",
  "kernelspec": {
   "display_name": "Python [conda root]",
   "language": "python",
   "name": "conda-root-py"
  },
  "language_info": {
   "codemirror_mode": {
    "name": "ipython",
    "version": 3
   },
   "file_extension": ".py",
   "mimetype": "text/x-python",
   "name": "python",
   "nbconvert_exporter": "python",
   "pygments_lexer": "ipython3",
   "version": "3.5.2"
  }
 },
 "nbformat": 4,
 "nbformat_minor": 2
}
